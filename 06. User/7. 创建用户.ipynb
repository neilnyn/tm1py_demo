{
 "cells": [
  {
   "cell_type": "markdown",
   "id": "71dfe512",
   "metadata": {},
   "source": [
    "#### 函数： \n",
    "User(name='neil', friendly_name='', groups=['Admin/SecurityAdmin/DataAdmin/OperationAdmin'], password='123')->创建用户    \n",
    "#### 方法：  \n",
    "tm1.security.delete_user('user_name')->删除用户  \n",
    "tm1.security.create_user(User('','','',''))->创建用户  "
   ]
  },
  {
   "cell_type": "code",
   "execution_count": 15,
   "id": "7807e75e",
   "metadata": {},
   "outputs": [
    {
     "data": {
      "text/plain": [
       "['Dimension Subsets',\n",
       " 'Employee',\n",
       " 'General Ledger',\n",
       " 'Pixel',\n",
       " 'Product Info',\n",
       " 'Product Map',\n",
       " 'System Drill',\n",
       " 'System Info',\n",
       " '}Capabilities',\n",
       " '}CellAnnotations_Employee',\n",
       " '}ClientCAMAssociatedGroups',\n",
       " '}ClientGroups',\n",
       " '}ClientProperties',\n",
       " '}ClientSettings',\n",
       " '}CubeProperties',\n",
       " '}CubeSecurityProperties',\n",
       " '}DimensionProperties',\n",
       " '}ElementAttributes_Account',\n",
       " '}ElementAttributes_Employee',\n",
       " '}ElementAttributes_Employee Department',\n",
       " '}ElementAttributes_Employee Measure',\n",
       " '}ElementAttributes_GL Measure',\n",
       " '}ElementAttributes_Index',\n",
       " '}ElementAttributes_Month',\n",
       " '}ElementAttributes_Product Source',\n",
       " '}ElementAttributes_Region_Tm1',\n",
       " '}ElementAttributes_Year',\n",
       " '}ElementAttributes_}Clients',\n",
       " '}ElementAttributes_}Cultures',\n",
       " '}ElementAttributes_}Groups',\n",
       " '}HierarchyProperties',\n",
       " '}PickList_Product Map',\n",
       " '}StatsByChore',\n",
       " '}StatsByClient',\n",
       " '}StatsByCube',\n",
       " '}StatsByCubeByClient',\n",
       " '}StatsByProcess',\n",
       " '}StatsByRule',\n",
       " '}StatsForServer']"
      ]
     },
     "execution_count": 15,
     "metadata": {},
     "output_type": "execute_result"
    }
   ],
   "source": [
    "\"\"\"\n",
    "Create a new user\n",
    "\"\"\"\n",
    "from TM1py.Objects import User\n",
    "from TM1py.Services import TM1Service\n",
    "\n",
    "with TM1Service(address=\"localhost\", port=30011, ssl=True, user=\"admin\", password=\"apple\") as tm1:\n",
    "    u = User(name='neil', friendly_name='', groups=['DataAdmin'], password='123')\n",
    "    tm1.security.delete_user('neil')\n",
    "    tm1.security.create_user(u)\n"
   ]
  },
  {
   "cell_type": "code",
   "execution_count": null,
   "id": "06811070",
   "metadata": {},
   "outputs": [],
   "source": []
  }
 ],
 "metadata": {
  "kernelspec": {
   "display_name": "Python 3",
   "language": "python",
   "name": "python3"
  },
  "language_info": {
   "codemirror_mode": {
    "name": "ipython",
    "version": 3
   },
   "file_extension": ".py",
   "mimetype": "text/x-python",
   "name": "python",
   "nbconvert_exporter": "python",
   "pygments_lexer": "ipython3",
   "version": "3.6.8"
  }
 },
 "nbformat": 4,
 "nbformat_minor": 5
}
