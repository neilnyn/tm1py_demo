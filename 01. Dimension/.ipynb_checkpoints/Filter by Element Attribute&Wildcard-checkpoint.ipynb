{
 "cells": [
  {
   "cell_type": "code",
   "execution_count": 1,
   "id": "7f0fdd09",
   "metadata": {},
   "outputs": [],
   "source": [
    "import TM1py\n",
    "from TM1py import TM1Service,Element"
   ]
  },
  {
   "cell_type": "code",
   "execution_count": 18,
   "id": "289f44e5",
   "metadata": {},
   "outputs": [],
   "source": [
    "with TM1Service(address='localhost',port=30059, ssl=False,user='neil',password='123') as tm1:\n",
    "    eles=tm1.elements.get_elements_filtered_by_attribute(dimension_name='Account PL Clone',hierarchy_name='Account PL Clone',attribute_name='中文',attribute_value='其中：营业成本')\n",
    "    eles2=tm1.elements.get_elements_filtered_by_wildcard(dimension_name='Account PL Clone',hierarchy_name='Account PL Clone',wildcard='a*') "
   ]
  },
  {
   "cell_type": "code",
   "execution_count": 4,
   "id": "f3319225",
   "metadata": {},
   "outputs": [
    {
     "data": {
      "text/plain": [
       "['PL103 - 其中：营业成本']"
      ]
     },
     "execution_count": 4,
     "metadata": {},
     "output_type": "execute_result"
    }
   ],
   "source": [
    "eles"
   ]
  },
  {
   "cell_type": "code",
   "execution_count": 19,
   "id": "1cc715a6",
   "metadata": {},
   "outputs": [
    {
     "data": {
      "text/plain": [
       "[]"
      ]
     },
     "execution_count": 19,
     "metadata": {},
     "output_type": "execute_result"
    }
   ],
   "source": [
    "eles2"
   ]
  },
  {
   "cell_type": "code",
   "execution_count": null,
   "id": "95d8b3f8",
   "metadata": {},
   "outputs": [],
   "source": []
  }
 ],
 "metadata": {
  "kernelspec": {
   "display_name": "Python 3",
   "language": "python",
   "name": "python3"
  },
  "language_info": {
   "codemirror_mode": {
    "name": "ipython",
    "version": 3
   },
   "file_extension": ".py",
   "mimetype": "text/x-python",
   "name": "python",
   "nbconvert_exporter": "python",
   "pygments_lexer": "ipython3",
   "version": "3.7.9"
  }
 },
 "nbformat": 4,
 "nbformat_minor": 5
}
