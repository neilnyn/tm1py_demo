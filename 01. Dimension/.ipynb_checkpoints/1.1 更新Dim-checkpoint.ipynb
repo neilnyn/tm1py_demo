{
 "cells": [
  {
   "cell_type": "markdown",
   "id": "c6a6e74b",
   "metadata": {},
   "source": [
    "#### 函数：  \n",
    "tm1.dimensions.get('Dim_name')->获取维度实例  \n",
    "tm1.dimensions.update(tm1.dimensions.get('Dim_name'))->更新维度实例  \n",
    "#### 属性：  \n",
    "tm1.dimensions.get('Dim_name').hierarchies[0]-获取默认hier实例  \n",
    "#### 方法：  \n",
    "tm1.dimensions.get('Dim_name').hierarchies[0].add_element('ele','type')->在hier实例中增加元素  \n",
    "tm1.dimensions.get('Dim_name').hierarchies[0].add_edge('parent_ele','child_ele')->在hier实例中增加父子层级  "
   ]
  },
  {
   "cell_type": "code",
   "execution_count": 1,
   "id": "a3008122",
   "metadata": {},
   "outputs": [],
   "source": [
    "\n",
    "from TM1py.Services import TM1Service\n",
    "\n",
    "with TM1Service(address=\"localhost\", port=30011, ssl=True, user=\"admin\", password=\"apple\") as tm1:\n",
    "    # get dimension\n",
    "    dimension = tm1.dimensions.get('Region_Tm1')\n",
    "\n",
    "    # get the default hierarchy of the dimension\n",
    "    h = dimension.hierarchies[0]\n",
    "\n",
    "    # create new random element name\n",
    "    parent = 'North America'\n",
    "    child = 'USA'\n",
    "\n",
    "    # add elements to hierarchy\n",
    "    h.add_element(parent, 'Numeric')\n",
    "    h.add_element(child, 'Numeric')\n",
    "    \n",
    "    # add edge to hierarchy\n",
    "    h.add_edge(parent, child, 1)\n",
    "\n",
    "    # write Hierarchy back to TM1\n",
    "    tm1.dimensions.update(dimension)"
   ]
  },
  {
   "cell_type": "code",
   "execution_count": 1,
   "id": "d8ad2a4b",
   "metadata": {},
   "outputs": [],
   "source": [
    "from TM1py.Services import TM1Service\n",
    "\n",
    "with TM1Service(address=\"localhost\", port=30011, ssl=True, user=\"admin\", password=\"apple\") as tm1:\n",
    "    # get dimension\n",
    "    dimension = tm1.dimensions.get('Region_Tm1')\n",
    "\n",
    "    # get the default hierarchy of the dimension\n",
    "    h = dimension.hierarchies[0]\n",
    "    # Remove\n",
    "    h.remove_element('UK')\n",
    "    h.remove_element('USA')\n",
    "    # create new random element name\n",
    "    parent = 'North America'\n",
    "    child = 'America'\n",
    "    h.add_element(child, 'Numeric')\n",
    "    h.add_edge(parent, child, 1)\n",
    "\n",
    "    # add elements to hierarchy\n",
    "    parent = 'Euro'\n",
    "    child='United Kindom'\n",
    "    h.add_element(child, 'Numeric')\n",
    "    h.add_edge(parent, child, 1)\n",
    "    parent = 'UN'\n",
    "    h.add_edge(parent, child, 1)\n",
    "    # write Hierarchy back to TM1\n",
    "    tm1.dimensions.update(dimension)"
   ]
  },
  {
   "cell_type": "code",
   "execution_count": null,
   "id": "60782ccd",
   "metadata": {},
   "outputs": [],
   "source": []
  }
 ],
 "metadata": {
  "kernelspec": {
   "display_name": "Python 3",
   "language": "python",
   "name": "python3"
  },
  "language_info": {
   "codemirror_mode": {
    "name": "ipython",
    "version": 3
   },
   "file_extension": ".py",
   "mimetype": "text/x-python",
   "name": "python",
   "nbconvert_exporter": "python",
   "pygments_lexer": "ipython3",
   "version": "3.7.9"
  }
 },
 "nbformat": 4,
 "nbformat_minor": 5
}
