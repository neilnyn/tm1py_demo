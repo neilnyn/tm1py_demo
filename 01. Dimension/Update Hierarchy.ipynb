{
 "cells": [
  {
   "cell_type": "code",
   "execution_count": 12,
   "id": "ff538d10",
   "metadata": {},
   "outputs": [],
   "source": [
    "import TM1py\n",
    "from TM1py import TM1Service,Element"
   ]
  },
  {
   "cell_type": "code",
   "execution_count": 5,
   "id": "0808d94e",
   "metadata": {},
   "outputs": [],
   "source": [
    "with TM1Service(address='localhost',port=30059, ssl=False,user='neil',password='123') as tm1:\n",
    "    hier=tm1.hierarchies.get('Account PL','Account PL')\n",
    "    hier.add_component('All Profit Loss Report Items','PL700',1)\n",
    "#     hier.add_component('PL700','PL701',1)\n",
    "#     hier.add_component('PL700','PL702',-1)\n",
    "    tm1.hierarchies.update(hier)"
   ]
  },
  {
   "cell_type": "code",
   "execution_count": 11,
   "id": "d1a184f5",
   "metadata": {},
   "outputs": [
    {
     "data": {
      "text/plain": [
       "True"
      ]
     },
     "execution_count": 11,
     "metadata": {},
     "output_type": "execute_result"
    }
   ],
   "source": [
    "1 in {1:'A',2:'B',3:'C'}"
   ]
  },
  {
   "cell_type": "code",
   "execution_count": null,
   "id": "d5fa5042",
   "metadata": {},
   "outputs": [],
   "source": [
    "#if \"76\" not in hierarchy.elements:\n",
    "#hierarchy.add_element(\"76\", \"Numeric\")\n",
    "#hierarchy.add_edge(\"Total Product\", \"76\", weight=1)"
   ]
  },
  {
   "cell_type": "code",
   "execution_count": 18,
   "id": "2ddd6ef1",
   "metadata": {},
   "outputs": [],
   "source": [
    "element_name='PL701'\n",
    "edges={}\n",
    "edges['PL700','PL701']=1\n",
    "if not tm1.elements.exists(\"Account PL\", \"Account PL\", element_name):\n",
    "    tm1.elements.create(\"Account PL\", \"Account PL\", element=Element(element_name, \"Consolidated\"))\n",
    "    tm1.elements.add_edges(\"Account PL\", \"Account PL\", edges=edges)"
   ]
  },
  {
   "cell_type": "code",
   "execution_count": null,
   "id": "0e06847e",
   "metadata": {},
   "outputs": [],
   "source": [
    "#判断一个元素是否是另一个元素的子项\n",
    "#if not tm1.elements.element_is_parent(\"Product\", \"Product\", \"Total Product\", element_name):\n",
    "  #tm1.elements.add_edges(\"Product\", \"Product\", edges=edges)"
   ]
  },
  {
   "cell_type": "code",
   "execution_count": null,
   "id": "a1817da7",
   "metadata": {},
   "outputs": [],
   "source": [
    "#判断一个元素是否是另一个元素的祖先\n",
    "#tm1.elements.element_is_ancestor"
   ]
  },
  {
   "cell_type": "code",
   "execution_count": 35,
   "id": "97868ab5",
   "metadata": {},
   "outputs": [],
   "source": [
    "with TM1Service(address='localhost',port=30059, ssl=False,user='neil',password='123') as tm1:\n",
    "    hier1=tm1.hierarchies.get('Account PL','Account PL')\n",
    "    hier2=tm1.hierarchies.get('Account PL Clone','Account PL Clone')   "
   ]
  },
  {
   "cell_type": "code",
   "execution_count": 28,
   "id": "ff9c551a",
   "metadata": {},
   "outputs": [
    {
     "data": {
      "text/plain": [
       "TM1py.Utils.Utils.CaseAndSpaceInsensitiveDict"
      ]
     },
     "execution_count": 28,
     "metadata": {},
     "output_type": "execute_result"
    }
   ],
   "source": [
    "type(hier1.elements)"
   ]
  },
  {
   "cell_type": "code",
   "execution_count": 48,
   "id": "1a8e93cb",
   "metadata": {},
   "outputs": [
    {
     "data": {
      "text/plain": [
       "ValuesView({'All Profit Loss Report Items': Element:{\"Name\": \"All Profit Loss Report Items\", \"Type\": \"Consolidated\"}, 'PL300 - 五、净利润': Element:{\"Name\": \"PL300 - \\u4e94\\u3001\\u51c0\\u5229\\u6da6\", \"Type\": \"Consolidated\"}, 'PL200 - 四、利润总额': Element:{\"Name\": \"PL200 - \\u56db\\u3001\\u5229\\u6da6\\u603b\\u989d\", \"Type\": \"Consolidated\"}, 'PL100 - 三、营业利润': Element:{\"Name\": \"PL100 - \\u4e09\\u3001\\u8425\\u4e1a\\u5229\\u6da6\", \"Type\": \"Consolidated\"}, 'PL101 - 一、营业总收入': Element:{\"Name\": \"PL101 - \\u4e00\\u3001\\u8425\\u4e1a\\u603b\\u6536\\u5165\", \"Type\": \"Numeric\"}, 'PL103 - 其中：营业成本': Element:{\"Name\": \"PL103 - \\u5176\\u4e2d\\uff1a\\u8425\\u4e1a\\u6210\\u672c\", \"Type\": \"Numeric\"}, 'PL104 - 税金及附加': Element:{\"Name\": \"PL104 - \\u7a0e\\u91d1\\u53ca\\u9644\\u52a0\", \"Type\": \"Numeric\"}, 'PL107 - 研发费用': Element:{\"Name\": \"PL107 - \\u7814\\u53d1\\u8d39\\u7528\", \"Type\": \"Numeric\"}, 'PL108 - 财务费用': Element:{\"Name\": \"PL108 - \\u8d22\\u52a1\\u8d39\\u7528\", \"Type\": \"Consolidated\"}, 'PL109a - 其中：利息费用': Element:{\"Name\": \"PL109a - \\u5176\\u4e2d\\uff1a\\u5229\\u606f\\u8d39\\u7528\", \"Type\": \"Numeric\"}, 'PL110 - 其中：汇兑损益': Element:{\"Name\": \"PL110 - \\u5176\\u4e2d\\uff1a\\u6c47\\u5151\\u635f\\u76ca\", \"Type\": \"Numeric\"}, 'PL108a - 其他利息收入': Element:{\"Name\": \"PL108a - \\u5176\\u4ed6\\u5229\\u606f\\u6536\\u5165\", \"Type\": \"Numeric\"}, 'PL109b - 其中：利息收入': Element:{\"Name\": \"PL109b - \\u5176\\u4e2d\\uff1a\\u5229\\u606f\\u6536\\u5165\", \"Type\": \"Numeric\"}, 'PL111 - 提取合同责任准备金净额': Element:{\"Name\": \"PL111 - \\u63d0\\u53d6\\u5408\\u540c\\u8d23\\u4efb\\u51c6\\u5907\\u91d1\\u51c0\\u989d\", \"Type\": \"Numeric\"}, 'PL114 - 投资损益': Element:{\"Name\": \"PL114 - \\u6295\\u8d44\\u635f\\u76ca\", \"Type\": \"Consolidated\"}, 'PL115 - 其中：对联营企业和合营企业投资收益': Element:{\"Name\": \"PL115 - \\u5176\\u4e2d\\uff1a\\u5bf9\\u8054\\u8425\\u4f01\\u4e1a\\u548c\\u5408\\u8425\\u4f01\\u4e1a\\u6295\\u8d44\\u6536\\u76ca\", \"Type\": \"Numeric\"}, 'PL116 - 以摊余成本计量的金融资产终止确认收益': Element:{\"Name\": \"PL116 - \\u4ee5\\u644a\\u4f59\\u6210\\u672c\\u8ba1\\u91cf\\u7684\\u91d1\\u878d\\u8d44\\u4ea7\\u7ec8\\u6b62\\u786e\\u8ba4\\u6536\\u76ca\", \"Type\": \"Numeric\"}, 'PL114a - 其他投资损益': Element:{\"Name\": \"PL114a - \\u5176\\u4ed6\\u6295\\u8d44\\u635f\\u76ca\", \"Type\": \"Numeric\"}, 'PL117 - 公允价值变动收益': Element:{\"Name\": \"PL117 - \\u516c\\u5141\\u4ef7\\u503c\\u53d8\\u52a8\\u6536\\u76ca\", \"Type\": \"Numeric\"}, 'PL118 - 信用减值损失': Element:{\"Name\": \"PL118 - \\u4fe1\\u7528\\u51cf\\u503c\\u635f\\u5931\", \"Type\": \"Numeric\"}, 'PL119 - 资产减值损失': Element:{\"Name\": \"PL119 - \\u8d44\\u4ea7\\u51cf\\u503c\\u635f\\u5931\", \"Type\": \"Numeric\"}, 'PL120 - 资产处置收益': Element:{\"Name\": \"PL120 - \\u8d44\\u4ea7\\u5904\\u7f6e\\u6536\\u76ca\", \"Type\": \"Numeric\"}, 'PL105 - 销售费用': Element:{\"Name\": \"PL105 - \\u9500\\u552e\\u8d39\\u7528\", \"Type\": \"Numeric\"}, 'PL106 - 管理费用': Element:{\"Name\": \"PL106 - \\u7ba1\\u7406\\u8d39\\u7528\", \"Type\": \"Numeric\"}, 'PL113 - 其他收益': Element:{\"Name\": \"PL113 - \\u5176\\u4ed6\\u6536\\u76ca\", \"Type\": \"Numeric\"}, 'PL201 - 加：营业外收入': Element:{\"Name\": \"PL201 - \\u52a0\\uff1a\\u8425\\u4e1a\\u5916\\u6536\\u5165\", \"Type\": \"Numeric\"}, 'PL202 - 减：营业外支出': Element:{\"Name\": \"PL202 - \\u51cf\\uff1a\\u8425\\u4e1a\\u5916\\u652f\\u51fa\", \"Type\": \"Numeric\"}, 'PL301 - 减：所得税费用': Element:{\"Name\": \"PL301 - \\u51cf\\uff1a\\u6240\\u5f97\\u7a0e\\u8d39\\u7528\", \"Type\": \"Numeric\"}, 'PL310 - （一）按经营持续性分类': Element:{\"Name\": \"PL310 - \\uff08\\u4e00\\uff09\\u6309\\u7ecf\\u8425\\u6301\\u7eed\\u6027\\u5206\\u7c7b\", \"Type\": \"Consolidated\"}, 'PL311 - 1. 持续经营净利润': Element:{\"Name\": \"PL311 - 1. \\u6301\\u7eed\\u7ecf\\u8425\\u51c0\\u5229\\u6da6\", \"Type\": \"Numeric\"}, 'PL312 - 2. 终止经营净利润': Element:{\"Name\": \"PL312 - 2. \\u7ec8\\u6b62\\u7ecf\\u8425\\u51c0\\u5229\\u6da6\", \"Type\": \"Numeric\"}, 'PL320 - （二）按所有权归属分类': Element:{\"Name\": \"PL320 - \\uff08\\u4e8c\\uff09\\u6309\\u6240\\u6709\\u6743\\u5f52\\u5c5e\\u5206\\u7c7b\", \"Type\": \"Consolidated\"}, 'PL321 - 1. 归属于母公司股东的净利润': Element:{\"Name\": \"PL321 - 1. \\u5f52\\u5c5e\\u4e8e\\u6bcd\\u516c\\u53f8\\u80a1\\u4e1c\\u7684\\u51c0\\u5229\\u6da6\", \"Type\": \"Numeric\"}, 'PL322 - 2. 少数股东损益': Element:{\"Name\": \"PL322 - 2. \\u5c11\\u6570\\u80a1\\u4e1c\\u635f\\u76ca\", \"Type\": \"Numeric\"}, 'PL400 - 六、其他综合收益的税后净额': Element:{\"Name\": \"PL400 - \\u516d\\u3001\\u5176\\u4ed6\\u7efc\\u5408\\u6536\\u76ca\\u7684\\u7a0e\\u540e\\u51c0\\u989d\", \"Type\": \"Consolidated\"}, 'PL410 - 1．不能重分类进损益的其他综合收益': Element:{\"Name\": \"PL410 - 1\\uff0e\\u4e0d\\u80fd\\u91cd\\u5206\\u7c7b\\u8fdb\\u635f\\u76ca\\u7684\\u5176\\u4ed6\\u7efc\\u5408\\u6536\\u76ca\", \"Type\": \"Consolidated\"}, 'PL411 - （1）其他权益工具投资公允价值变动': Element:{\"Name\": \"PL411 - \\uff081\\uff09\\u5176\\u4ed6\\u6743\\u76ca\\u5de5\\u5177\\u6295\\u8d44\\u516c\\u5141\\u4ef7\\u503c\\u53d8\\u52a8\", \"Type\": \"Numeric\"}, 'PL412 - （2）外币财务报表折算差额': Element:{\"Name\": \"PL412 - \\uff082\\uff09\\u5916\\u5e01\\u8d22\\u52a1\\u62a5\\u8868\\u6298\\u7b97\\u5dee\\u989d\", \"Type\": \"Numeric\"}, 'PL420 - 2．将重分类进损益的其他综合收益': Element:{\"Name\": \"PL420 - 2\\uff0e\\u5c06\\u91cd\\u5206\\u7c7b\\u8fdb\\u635f\\u76ca\\u7684\\u5176\\u4ed6\\u7efc\\u5408\\u6536\\u76ca\", \"Type\": \"Consolidated\"}, 'PL421 - （1）外币报表折算差额': Element:{\"Name\": \"PL421 - \\uff081\\uff09\\u5916\\u5e01\\u62a5\\u8868\\u6298\\u7b97\\u5dee\\u989d\", \"Type\": \"Numeric\"}, 'PL422 - （2）应占联营/合营公司的其他综合收益': Element:{\"Name\": \"PL422 - \\uff082\\uff09\\u5e94\\u5360\\u8054\\u8425/\\u5408\\u8425\\u516c\\u53f8\\u7684\\u5176\\u4ed6\\u7efc\\u5408\\u6536\\u76ca\", \"Type\": \"Numeric\"}, 'PL423 - （3）现金流量套期工具': Element:{\"Name\": \"PL423 - \\uff083\\uff09\\u73b0\\u91d1\\u6d41\\u91cf\\u5957\\u671f\\u5de5\\u5177\", \"Type\": \"Numeric\"}, 'PL424 - （4）其他债权投资(公允价值变动)': Element:{\"Name\": \"PL424 - \\uff084\\uff09\\u5176\\u4ed6\\u503a\\u6743\\u6295\\u8d44(\\u516c\\u5141\\u4ef7\\u503c\\u53d8\\u52a8)\", \"Type\": \"Numeric\"}, 'PL425 - （5）其他债权投资(减值准备)': Element:{\"Name\": \"PL425 - \\uff085\\uff09\\u5176\\u4ed6\\u503a\\u6743\\u6295\\u8d44(\\u51cf\\u503c\\u51c6\\u5907)\", \"Type\": \"Numeric\"}, 'PL426 - （6）其他': Element:{\"Name\": \"PL426 - \\uff086\\uff09\\u5176\\u4ed6\", \"Type\": \"Numeric\"}, 'PL402 - （二）归属于少数股东的其他综合收益的税后净额': Element:{\"Name\": \"PL402 - \\uff08\\u4e8c\\uff09\\u5f52\\u5c5e\\u4e8e\\u5c11\\u6570\\u80a1\\u4e1c\\u7684\\u5176\\u4ed6\\u7efc\\u5408\\u6536\\u76ca\\u7684\\u7a0e\\u540e\\u51c0\\u989d\", \"Type\": \"Numeric\"}, 'PL500 - 七、综合收益总额': Element:{\"Name\": \"PL500 - \\u4e03\\u3001\\u7efc\\u5408\\u6536\\u76ca\\u603b\\u989d\", \"Type\": \"Consolidated\"}, 'PL501 - （一）归属于母公司所有者的综合收益总额': Element:{\"Name\": \"PL501 - \\uff08\\u4e00\\uff09\\u5f52\\u5c5e\\u4e8e\\u6bcd\\u516c\\u53f8\\u6240\\u6709\\u8005\\u7684\\u7efc\\u5408\\u6536\\u76ca\\u603b\\u989d\", \"Type\": \"Numeric\"}, 'PL502 - （二）归属于少数股东的综合收益总额': Element:{\"Name\": \"PL502 - \\uff08\\u4e8c\\uff09\\u5f52\\u5c5e\\u4e8e\\u5c11\\u6570\\u80a1\\u4e1c\\u7684\\u7efc\\u5408\\u6536\\u76ca\\u603b\\u989d\", \"Type\": \"Numeric\"}, 'PL600 - 八、每股收益': Element:{\"Name\": \"PL600 - \\u516b\\u3001\\u6bcf\\u80a1\\u6536\\u76ca\", \"Type\": \"Consolidated\"}, 'PL601 - （一）基本每股收益': Element:{\"Name\": \"PL601 - \\uff08\\u4e00\\uff09\\u57fa\\u672c\\u6bcf\\u80a1\\u6536\\u76ca\", \"Type\": \"Numeric\"}, 'PL602 - （二）稀释每股收益': Element:{\"Name\": \"PL602 - \\uff08\\u4e8c\\uff09\\u7a00\\u91ca\\u6bcf\\u80a1\\u6536\\u76ca\", \"Type\": \"Numeric\"}, 'No Report Item': Element:{\"Name\": \"No Report Item\", \"Type\": \"Numeric\"}, 'PL401 - （一）归属于母公司所有者的其他综合收益的税后净额': Element:{\"Name\": \"PL401 - \\uff08\\u4e00\\uff09\\u5f52\\u5c5e\\u4e8e\\u6bcd\\u516c\\u53f8\\u6240\\u6709\\u8005\\u7684\\u5176\\u4ed6\\u7efc\\u5408\\u6536\\u76ca\\u7684\\u7a0e\\u540e\\u51c0\\u989d\", \"Type\": \"Consolidated\"}, 'PL102 - 二、营业总成本': Element:{\"Name\": \"PL102 - \\u4e8c\\u3001\\u8425\\u4e1a\\u603b\\u6210\\u672c\", \"Type\": \"Consolidated\"}, 'PL700': Element:{\"Name\": \"PL700\", \"Type\": \"Consolidated\"}, 'PL701': Element:{\"Name\": \"PL701\", \"Type\": \"Consolidated\"}})"
      ]
     },
     "execution_count": 48,
     "metadata": {},
     "output_type": "execute_result"
    }
   ],
   "source": [
    "hier1.elements.values()"
   ]
  },
  {
   "cell_type": "code",
   "execution_count": 29,
   "id": "eb5ce072",
   "metadata": {},
   "outputs": [
    {
     "data": {
      "text/plain": [
       "{'All Profit Loss Report Items': Element:{\"Name\": \"All Profit Loss Report Items\", \"Type\": \"Consolidated\"}, 'PL300 - 五、净利润': Element:{\"Name\": \"PL300 - \\u4e94\\u3001\\u51c0\\u5229\\u6da6\", \"Type\": \"Consolidated\"}, 'PL200 - 四、利润总额': Element:{\"Name\": \"PL200 - \\u56db\\u3001\\u5229\\u6da6\\u603b\\u989d\", \"Type\": \"Consolidated\"}, 'PL100 - 三、营业利润': Element:{\"Name\": \"PL100 - \\u4e09\\u3001\\u8425\\u4e1a\\u5229\\u6da6\", \"Type\": \"Consolidated\"}, 'PL101 - 一、营业总收入': Element:{\"Name\": \"PL101 - \\u4e00\\u3001\\u8425\\u4e1a\\u603b\\u6536\\u5165\", \"Type\": \"Numeric\"}, 'PL103 - 其中：营业成本': Element:{\"Name\": \"PL103 - \\u5176\\u4e2d\\uff1a\\u8425\\u4e1a\\u6210\\u672c\", \"Type\": \"Numeric\"}, 'PL104 - 税金及附加': Element:{\"Name\": \"PL104 - \\u7a0e\\u91d1\\u53ca\\u9644\\u52a0\", \"Type\": \"Numeric\"}, 'PL107 - 研发费用': Element:{\"Name\": \"PL107 - \\u7814\\u53d1\\u8d39\\u7528\", \"Type\": \"Numeric\"}, 'PL108 - 财务费用': Element:{\"Name\": \"PL108 - \\u8d22\\u52a1\\u8d39\\u7528\", \"Type\": \"Consolidated\"}, 'PL109a - 其中：利息费用': Element:{\"Name\": \"PL109a - \\u5176\\u4e2d\\uff1a\\u5229\\u606f\\u8d39\\u7528\", \"Type\": \"Numeric\"}, 'PL110 - 其中：汇兑损益': Element:{\"Name\": \"PL110 - \\u5176\\u4e2d\\uff1a\\u6c47\\u5151\\u635f\\u76ca\", \"Type\": \"Numeric\"}, 'PL108a - 其他利息收入': Element:{\"Name\": \"PL108a - \\u5176\\u4ed6\\u5229\\u606f\\u6536\\u5165\", \"Type\": \"Numeric\"}, 'PL109b - 其中：利息收入': Element:{\"Name\": \"PL109b - \\u5176\\u4e2d\\uff1a\\u5229\\u606f\\u6536\\u5165\", \"Type\": \"Numeric\"}, 'PL111 - 提取合同责任准备金净额': Element:{\"Name\": \"PL111 - \\u63d0\\u53d6\\u5408\\u540c\\u8d23\\u4efb\\u51c6\\u5907\\u91d1\\u51c0\\u989d\", \"Type\": \"Numeric\"}, 'PL114 - 投资损益': Element:{\"Name\": \"PL114 - \\u6295\\u8d44\\u635f\\u76ca\", \"Type\": \"Consolidated\"}, 'PL115 - 其中：对联营企业和合营企业投资收益': Element:{\"Name\": \"PL115 - \\u5176\\u4e2d\\uff1a\\u5bf9\\u8054\\u8425\\u4f01\\u4e1a\\u548c\\u5408\\u8425\\u4f01\\u4e1a\\u6295\\u8d44\\u6536\\u76ca\", \"Type\": \"Numeric\"}, 'PL116 - 以摊余成本计量的金融资产终止确认收益': Element:{\"Name\": \"PL116 - \\u4ee5\\u644a\\u4f59\\u6210\\u672c\\u8ba1\\u91cf\\u7684\\u91d1\\u878d\\u8d44\\u4ea7\\u7ec8\\u6b62\\u786e\\u8ba4\\u6536\\u76ca\", \"Type\": \"Numeric\"}, 'PL114a - 其他投资损益': Element:{\"Name\": \"PL114a - \\u5176\\u4ed6\\u6295\\u8d44\\u635f\\u76ca\", \"Type\": \"Numeric\"}, 'PL117 - 公允价值变动收益': Element:{\"Name\": \"PL117 - \\u516c\\u5141\\u4ef7\\u503c\\u53d8\\u52a8\\u6536\\u76ca\", \"Type\": \"Numeric\"}, 'PL118 - 信用减值损失': Element:{\"Name\": \"PL118 - \\u4fe1\\u7528\\u51cf\\u503c\\u635f\\u5931\", \"Type\": \"Numeric\"}, 'PL119 - 资产减值损失': Element:{\"Name\": \"PL119 - \\u8d44\\u4ea7\\u51cf\\u503c\\u635f\\u5931\", \"Type\": \"Numeric\"}, 'PL120 - 资产处置收益': Element:{\"Name\": \"PL120 - \\u8d44\\u4ea7\\u5904\\u7f6e\\u6536\\u76ca\", \"Type\": \"Numeric\"}, 'PL105 - 销售费用': Element:{\"Name\": \"PL105 - \\u9500\\u552e\\u8d39\\u7528\", \"Type\": \"Numeric\"}, 'PL106 - 管理费用': Element:{\"Name\": \"PL106 - \\u7ba1\\u7406\\u8d39\\u7528\", \"Type\": \"Numeric\"}, 'PL113 - 其他收益': Element:{\"Name\": \"PL113 - \\u5176\\u4ed6\\u6536\\u76ca\", \"Type\": \"Numeric\"}, 'PL201 - 加：营业外收入': Element:{\"Name\": \"PL201 - \\u52a0\\uff1a\\u8425\\u4e1a\\u5916\\u6536\\u5165\", \"Type\": \"Numeric\"}, 'PL202 - 减：营业外支出': Element:{\"Name\": \"PL202 - \\u51cf\\uff1a\\u8425\\u4e1a\\u5916\\u652f\\u51fa\", \"Type\": \"Numeric\"}, 'PL301 - 减：所得税费用': Element:{\"Name\": \"PL301 - \\u51cf\\uff1a\\u6240\\u5f97\\u7a0e\\u8d39\\u7528\", \"Type\": \"Numeric\"}, 'PL310 - （一）按经营持续性分类': Element:{\"Name\": \"PL310 - \\uff08\\u4e00\\uff09\\u6309\\u7ecf\\u8425\\u6301\\u7eed\\u6027\\u5206\\u7c7b\", \"Type\": \"Consolidated\"}, 'PL311 - 1. 持续经营净利润': Element:{\"Name\": \"PL311 - 1. \\u6301\\u7eed\\u7ecf\\u8425\\u51c0\\u5229\\u6da6\", \"Type\": \"Numeric\"}, 'PL312 - 2. 终止经营净利润': Element:{\"Name\": \"PL312 - 2. \\u7ec8\\u6b62\\u7ecf\\u8425\\u51c0\\u5229\\u6da6\", \"Type\": \"Numeric\"}, 'PL320 - （二）按所有权归属分类': Element:{\"Name\": \"PL320 - \\uff08\\u4e8c\\uff09\\u6309\\u6240\\u6709\\u6743\\u5f52\\u5c5e\\u5206\\u7c7b\", \"Type\": \"Consolidated\"}, 'PL321 - 1. 归属于母公司股东的净利润': Element:{\"Name\": \"PL321 - 1. \\u5f52\\u5c5e\\u4e8e\\u6bcd\\u516c\\u53f8\\u80a1\\u4e1c\\u7684\\u51c0\\u5229\\u6da6\", \"Type\": \"Numeric\"}, 'PL322 - 2. 少数股东损益': Element:{\"Name\": \"PL322 - 2. \\u5c11\\u6570\\u80a1\\u4e1c\\u635f\\u76ca\", \"Type\": \"Numeric\"}, 'PL400 - 六、其他综合收益的税后净额': Element:{\"Name\": \"PL400 - \\u516d\\u3001\\u5176\\u4ed6\\u7efc\\u5408\\u6536\\u76ca\\u7684\\u7a0e\\u540e\\u51c0\\u989d\", \"Type\": \"Consolidated\"}, 'PL410 - 1．不能重分类进损益的其他综合收益': Element:{\"Name\": \"PL410 - 1\\uff0e\\u4e0d\\u80fd\\u91cd\\u5206\\u7c7b\\u8fdb\\u635f\\u76ca\\u7684\\u5176\\u4ed6\\u7efc\\u5408\\u6536\\u76ca\", \"Type\": \"Consolidated\"}, 'PL411 - （1）其他权益工具投资公允价值变动': Element:{\"Name\": \"PL411 - \\uff081\\uff09\\u5176\\u4ed6\\u6743\\u76ca\\u5de5\\u5177\\u6295\\u8d44\\u516c\\u5141\\u4ef7\\u503c\\u53d8\\u52a8\", \"Type\": \"Numeric\"}, 'PL412 - （2）外币财务报表折算差额': Element:{\"Name\": \"PL412 - \\uff082\\uff09\\u5916\\u5e01\\u8d22\\u52a1\\u62a5\\u8868\\u6298\\u7b97\\u5dee\\u989d\", \"Type\": \"Numeric\"}, 'PL420 - 2．将重分类进损益的其他综合收益': Element:{\"Name\": \"PL420 - 2\\uff0e\\u5c06\\u91cd\\u5206\\u7c7b\\u8fdb\\u635f\\u76ca\\u7684\\u5176\\u4ed6\\u7efc\\u5408\\u6536\\u76ca\", \"Type\": \"Consolidated\"}, 'PL421 - （1）外币报表折算差额': Element:{\"Name\": \"PL421 - \\uff081\\uff09\\u5916\\u5e01\\u62a5\\u8868\\u6298\\u7b97\\u5dee\\u989d\", \"Type\": \"Numeric\"}, 'PL422 - （2）应占联营/合营公司的其他综合收益': Element:{\"Name\": \"PL422 - \\uff082\\uff09\\u5e94\\u5360\\u8054\\u8425/\\u5408\\u8425\\u516c\\u53f8\\u7684\\u5176\\u4ed6\\u7efc\\u5408\\u6536\\u76ca\", \"Type\": \"Numeric\"}, 'PL423 - （3）现金流量套期工具': Element:{\"Name\": \"PL423 - \\uff083\\uff09\\u73b0\\u91d1\\u6d41\\u91cf\\u5957\\u671f\\u5de5\\u5177\", \"Type\": \"Numeric\"}, 'PL424 - （4）其他债权投资(公允价值变动)': Element:{\"Name\": \"PL424 - \\uff084\\uff09\\u5176\\u4ed6\\u503a\\u6743\\u6295\\u8d44(\\u516c\\u5141\\u4ef7\\u503c\\u53d8\\u52a8)\", \"Type\": \"Numeric\"}, 'PL425 - （5）其他债权投资(减值准备)': Element:{\"Name\": \"PL425 - \\uff085\\uff09\\u5176\\u4ed6\\u503a\\u6743\\u6295\\u8d44(\\u51cf\\u503c\\u51c6\\u5907)\", \"Type\": \"Numeric\"}, 'PL426 - （6）其他': Element:{\"Name\": \"PL426 - \\uff086\\uff09\\u5176\\u4ed6\", \"Type\": \"Numeric\"}, 'PL402 - （二）归属于少数股东的其他综合收益的税后净额': Element:{\"Name\": \"PL402 - \\uff08\\u4e8c\\uff09\\u5f52\\u5c5e\\u4e8e\\u5c11\\u6570\\u80a1\\u4e1c\\u7684\\u5176\\u4ed6\\u7efc\\u5408\\u6536\\u76ca\\u7684\\u7a0e\\u540e\\u51c0\\u989d\", \"Type\": \"Numeric\"}, 'PL500 - 七、综合收益总额': Element:{\"Name\": \"PL500 - \\u4e03\\u3001\\u7efc\\u5408\\u6536\\u76ca\\u603b\\u989d\", \"Type\": \"Consolidated\"}, 'PL501 - （一）归属于母公司所有者的综合收益总额': Element:{\"Name\": \"PL501 - \\uff08\\u4e00\\uff09\\u5f52\\u5c5e\\u4e8e\\u6bcd\\u516c\\u53f8\\u6240\\u6709\\u8005\\u7684\\u7efc\\u5408\\u6536\\u76ca\\u603b\\u989d\", \"Type\": \"Numeric\"}, 'PL502 - （二）归属于少数股东的综合收益总额': Element:{\"Name\": \"PL502 - \\uff08\\u4e8c\\uff09\\u5f52\\u5c5e\\u4e8e\\u5c11\\u6570\\u80a1\\u4e1c\\u7684\\u7efc\\u5408\\u6536\\u76ca\\u603b\\u989d\", \"Type\": \"Numeric\"}, 'PL600 - 八、每股收益': Element:{\"Name\": \"PL600 - \\u516b\\u3001\\u6bcf\\u80a1\\u6536\\u76ca\", \"Type\": \"Consolidated\"}, 'PL601 - （一）基本每股收益': Element:{\"Name\": \"PL601 - \\uff08\\u4e00\\uff09\\u57fa\\u672c\\u6bcf\\u80a1\\u6536\\u76ca\", \"Type\": \"Numeric\"}, 'PL602 - （二）稀释每股收益': Element:{\"Name\": \"PL602 - \\uff08\\u4e8c\\uff09\\u7a00\\u91ca\\u6bcf\\u80a1\\u6536\\u76ca\", \"Type\": \"Numeric\"}, 'No Report Item': Element:{\"Name\": \"No Report Item\", \"Type\": \"Numeric\"}, 'PL401 - （一）归属于母公司所有者的其他综合收益的税后净额': Element:{\"Name\": \"PL401 - \\uff08\\u4e00\\uff09\\u5f52\\u5c5e\\u4e8e\\u6bcd\\u516c\\u53f8\\u6240\\u6709\\u8005\\u7684\\u5176\\u4ed6\\u7efc\\u5408\\u6536\\u76ca\\u7684\\u7a0e\\u540e\\u51c0\\u989d\", \"Type\": \"Consolidated\"}, 'PL102 - 二、营业总成本': Element:{\"Name\": \"PL102 - \\u4e8c\\u3001\\u8425\\u4e1a\\u603b\\u6210\\u672c\", \"Type\": \"Consolidated\"}, 'PL700': Element:{\"Name\": \"PL700\", \"Type\": \"Consolidated\"}, 'PL701': Element:{\"Name\": \"PL701\", \"Type\": \"Consolidated\"}}"
      ]
     },
     "execution_count": 29,
     "metadata": {},
     "output_type": "execute_result"
    }
   ],
   "source": [
    "hier2.elements"
   ]
  },
  {
   "cell_type": "code",
   "execution_count": 36,
   "id": "34032703",
   "metadata": {},
   "outputs": [
    {
     "data": {
      "text/plain": [
       "False"
      ]
     },
     "execution_count": 36,
     "metadata": {},
     "output_type": "execute_result"
    }
   ],
   "source": [
    "hier1.elements==hier2.elements"
   ]
  },
  {
   "cell_type": "code",
   "execution_count": 62,
   "id": "00c0f17f",
   "metadata": {},
   "outputs": [
    {
     "data": {
      "text/plain": [
       "{'All Profit Loss Report Items',\n",
       " 'No Report Item',\n",
       " 'PL100 - 三、营业利润',\n",
       " 'PL101 - 一、营业总收入',\n",
       " 'PL102 - 二、营业总成本',\n",
       " 'PL103 - 其中：营业成本',\n",
       " 'PL104 - 税金及附加',\n",
       " 'PL105 - 销售费用',\n",
       " 'PL106 - 管理费用',\n",
       " 'PL107 - 研发费用',\n",
       " 'PL108 - 财务费用',\n",
       " 'PL108a - 其他利息收入',\n",
       " 'PL109a - 其中：利息费用',\n",
       " 'PL109b - 其中：利息收入',\n",
       " 'PL110 - 其中：汇兑损益',\n",
       " 'PL111 - 提取合同责任准备金净额',\n",
       " 'PL113 - 其他收益',\n",
       " 'PL114 - 投资损益',\n",
       " 'PL114a - 其他投资损益',\n",
       " 'PL115 - 其中：对联营企业和合营企业投资收益',\n",
       " 'PL116 - 以摊余成本计量的金融资产终止确认收益',\n",
       " 'PL117 - 公允价值变动收益',\n",
       " 'PL118 - 信用减值损失',\n",
       " 'PL119 - 资产减值损失',\n",
       " 'PL120 - 资产处置收益',\n",
       " 'PL200 - 四、利润总额',\n",
       " 'PL201 - 加：营业外收入',\n",
       " 'PL202 - 减：营业外支出',\n",
       " 'PL300 - 五、净利润',\n",
       " 'PL301 - 减：所得税费用',\n",
       " 'PL310 - （一）按经营持续性分类',\n",
       " 'PL311 - 1. 持续经营净利润',\n",
       " 'PL312 - 2. 终止经营净利润',\n",
       " 'PL320 - （二）按所有权归属分类',\n",
       " 'PL321 - 1. 归属于母公司股东的净利润',\n",
       " 'PL322 - 2. 少数股东损益',\n",
       " 'PL400 - 六、其他综合收益的税后净额',\n",
       " 'PL401 - （一）归属于母公司所有者的其他综合收益的税后净额',\n",
       " 'PL402 - （二）归属于少数股东的其他综合收益的税后净额',\n",
       " 'PL410 - 1．不能重分类进损益的其他综合收益',\n",
       " 'PL411 - （1）其他权益工具投资公允价值变动',\n",
       " 'PL412 - （2）外币财务报表折算差额',\n",
       " 'PL420 - 2．将重分类进损益的其他综合收益',\n",
       " 'PL421 - （1）外币报表折算差额',\n",
       " 'PL422 - （2）应占联营/合营公司的其他综合收益',\n",
       " 'PL423 - （3）现金流量套期工具',\n",
       " 'PL424 - （4）其他债权投资(公允价值变动)',\n",
       " 'PL425 - （5）其他债权投资(减值准备)',\n",
       " 'PL426 - （6）其他',\n",
       " 'PL500 - 七、综合收益总额',\n",
       " 'PL501 - （一）归属于母公司所有者的综合收益总额',\n",
       " 'PL502 - （二）归属于少数股东的综合收益总额',\n",
       " 'PL600 - 八、每股收益',\n",
       " 'PL601 - （一）基本每股收益',\n",
       " 'PL602 - （二）稀释每股收益',\n",
       " 'PL700',\n",
       " 'PL701'}"
      ]
     },
     "execution_count": 62,
     "metadata": {},
     "output_type": "execute_result"
    }
   ],
   "source": [
    "set(hier1.elements)"
   ]
  },
  {
   "cell_type": "code",
   "execution_count": 49,
   "id": "2fca5b24",
   "metadata": {},
   "outputs": [
    {
     "data": {
      "text/plain": [
       "{Element:{\"Name\": \"PL107 - \\u7814\\u53d1\\u8d39\\u7528\", \"Type\": \"Numeric\"}}"
      ]
     },
     "execution_count": 49,
     "metadata": {},
     "output_type": "execute_result"
    }
   ],
   "source": [
    "#hier1.elements本质返回一个字典，用字典的values做核对\n",
    "set(hier1.elements.values())-set(hier2.elements.values())"
   ]
  },
  {
   "cell_type": "code",
   "execution_count": 50,
   "id": "beca98e6",
   "metadata": {},
   "outputs": [
    {
     "data": {
      "text/plain": [
       "{Element:{\"Name\": \"PL107 - \\u7814\\u53d1\\u8d39\\u7528\", \"Type\": \"Consolidated\"}}"
      ]
     },
     "execution_count": 50,
     "metadata": {},
     "output_type": "execute_result"
    }
   ],
   "source": [
    "set(hier2.elements.values())-set(hier1.elements.values())"
   ]
  },
  {
   "cell_type": "code",
   "execution_count": 57,
   "id": "0810ef0a",
   "metadata": {},
   "outputs": [],
   "source": [
    "diff=set(hier2.elements.values())-set(hier1.elements.values())"
   ]
  },
  {
   "cell_type": "code",
   "execution_count": 58,
   "id": "36653c3a",
   "metadata": {},
   "outputs": [
    {
     "data": {
      "text/plain": [
       "set"
      ]
     },
     "execution_count": 58,
     "metadata": {},
     "output_type": "execute_result"
    }
   ],
   "source": [
    "type(diff)"
   ]
  },
  {
   "cell_type": "code",
   "execution_count": 59,
   "id": "f2557d7a",
   "metadata": {},
   "outputs": [
    {
     "data": {
      "text/plain": [
       "{Element:{\"Name\": \"PL107 - \\u7814\\u53d1\\u8d39\\u7528\", \"Type\": \"Consolidated\"}}"
      ]
     },
     "execution_count": 59,
     "metadata": {},
     "output_type": "execute_result"
    }
   ],
   "source": [
    "diff"
   ]
  },
  {
   "cell_type": "code",
   "execution_count": 73,
   "id": "8f60cba0",
   "metadata": {},
   "outputs": [
    {
     "name": "stdout",
     "output_type": "stream",
     "text": [
      "{Element:{\"Name\": \"PL107 - \\u7814\\u53d1\\u8d39\\u7528\", \"Type\": \"Consolidated\"}}\n"
     ]
    }
   ],
   "source": [
    "print(str(diff))"
   ]
  },
  {
   "cell_type": "code",
   "execution_count": 82,
   "id": "08e6e71f",
   "metadata": {},
   "outputs": [
    {
     "data": {
      "text/plain": [
       "b'{Element:{\"Name\": \"PL107 - \\\\u7814\\\\u53d1\\\\u8d39\\\\u7528\", \"Type\": \"Consolidated\"}}'"
      ]
     },
     "execution_count": 82,
     "metadata": {},
     "output_type": "execute_result"
    }
   ],
   "source": [
    "str(diff).encode(encoding='GB2312')"
   ]
  },
  {
   "cell_type": "code",
   "execution_count": 67,
   "id": "f77a366a",
   "metadata": {},
   "outputs": [
    {
     "data": {
      "text/plain": [
       "str"
      ]
     },
     "execution_count": 67,
     "metadata": {},
     "output_type": "execute_result"
    }
   ],
   "source": [
    "type(str(diff))"
   ]
  },
  {
   "cell_type": "code",
   "execution_count": 60,
   "id": "d912b955",
   "metadata": {},
   "outputs": [
    {
     "data": {
      "text/plain": [
       "{'a'}"
      ]
     },
     "execution_count": 60,
     "metadata": {},
     "output_type": "execute_result"
    }
   ],
   "source": [
    "set({'a':1})"
   ]
  },
  {
   "cell_type": "code",
   "execution_count": 63,
   "id": "9ac3b34f",
   "metadata": {},
   "outputs": [
    {
     "data": {
      "text/plain": [
       "{'a', 'b', 'c'}"
      ]
     },
     "execution_count": 63,
     "metadata": {},
     "output_type": "execute_result"
    }
   ],
   "source": [
    "set('abc')"
   ]
  },
  {
   "cell_type": "code",
   "execution_count": null,
   "id": "8b31ece0",
   "metadata": {},
   "outputs": [],
   "source": []
  }
 ],
 "metadata": {
  "kernelspec": {
   "display_name": "Python 3",
   "language": "python",
   "name": "python3"
  },
  "language_info": {
   "codemirror_mode": {
    "name": "ipython",
    "version": 3
   },
   "file_extension": ".py",
   "mimetype": "text/x-python",
   "name": "python",
   "nbconvert_exporter": "python",
   "pygments_lexer": "ipython3",
   "version": "3.7.9"
  }
 },
 "nbformat": 4,
 "nbformat_minor": 5
}
