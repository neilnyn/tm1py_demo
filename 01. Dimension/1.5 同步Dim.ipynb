{
 "cells": [
  {
   "cell_type": "markdown",
   "id": "08695302",
   "metadata": {},
   "source": [
    "#### 函数：  \n",
    "tm1_master.dimensions.get(dimension_name=\"Dim_name\")->获取维度实例  \n",
    "#### 方法：  \n",
    "Tm1.dimensions.update(tm1_master.dimensions.get(''))->更新维度实例  \n",
    "Tm1.subsets.get_all_names(\"Dim_name\")->获取维度中所有subset名称  \n",
    "Tm1_master.subsets.get('Sub_name', \"Dim_name\")->获取subset实例  \n",
    "Tm1.subsets.update(Tm1_master.subsets.get('', ''))->更新subset实例  "
   ]
  },
  {
   "cell_type": "code",
   "execution_count": 4,
   "id": "cd385bb1",
   "metadata": {},
   "outputs": [],
   "source": [
    "import time\n",
    "\n",
    "from TM1py import TM1Service\n",
    "\n",
    "ADDRESS = \"localhost\"\n",
    "SSL = True\n",
    "USER = \"admin\"\n",
    "PASSWORD = \"apple\"\n",
    "\n",
    "tm1_master = TM1Service(address=ADDRESS, port=30011, ssl=SSL, user=USER, password=PASSWORD)\n",
    "tm1_other = TM1Service(address=ADDRESS, port=30002, ssl=SSL, user=USER, password=PASSWORD)\n",
    "\n",
    "while dimension_master != dimension_other:\n",
    "    dimension_master = tm1_master.dimensions.get(dimension_name=\"Month\")\n",
    "    dimension_other = tm1_other.dimensions.get(dimension_name=\"Month\")\n",
    "\n",
    "    if dimension_master != dimension_other:\n",
    "        print(f\"Recognized changes. Updating dimension: '{dimension_master.name}'\")\n",
    "        tm1_other.dimensions.update(dimension_master)\n",
    "\n",
    "    subsets_names = tm1_master.subsets.get_all_names(\"Month\")\n",
    "    for subsets_name in subsets_names:\n",
    "        subset_master = tm1_master.subsets.get(subsets_name, dimension_name=\"Month\")\n",
    "\n",
    "        subset_other = tm1_other.subsets.get(subsets_name, dimension_name=\"Month\")\n",
    "        if subset_master != subset_other:\n",
    "            print(f\"Recognized changes. Updating Subset: '{subsets_name}'\")\n",
    "            tm1_other.subsets.update(subset_master)\n",
    "\n",
    "    time.sleep(2)"
   ]
  },
  {
   "cell_type": "code",
   "execution_count": null,
   "id": "79023bc7",
   "metadata": {},
   "outputs": [],
   "source": []
  }
 ],
 "metadata": {
  "kernelspec": {
   "display_name": "Python 3",
   "language": "python",
   "name": "python3"
  },
  "language_info": {
   "codemirror_mode": {
    "name": "ipython",
    "version": 3
   },
   "file_extension": ".py",
   "mimetype": "text/x-python",
   "name": "python",
   "nbconvert_exporter": "python",
   "pygments_lexer": "ipython3",
   "version": "3.7.9"
  }
 },
 "nbformat": 4,
 "nbformat_minor": 5
}
