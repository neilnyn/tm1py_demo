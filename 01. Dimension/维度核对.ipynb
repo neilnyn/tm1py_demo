{
 "cells": [
  {
   "cell_type": "code",
   "execution_count": 34,
   "id": "0f345f04",
   "metadata": {},
   "outputs": [],
   "source": [
    "from TM1py import TM1Service,Element\n",
    "import logging\n",
    "import configparser\n",
    "import argparse\n",
    "logging.basicConfig(filename='BU_Diff.txt',level=logging.INFO,format='%(asctime)s -%(name)s -%(levelname)s - %(message)s')"
   ]
  },
  {
   "cell_type": "code",
   "execution_count": 46,
   "id": "e3d4376c",
   "metadata": {},
   "outputs": [
    {
     "data": {
      "text/plain": [
       "['C:\\\\Users\\\\User\\\\Desktop\\\\config.ini']"
      ]
     },
     "execution_count": 46,
     "metadata": {},
     "output_type": "execute_result"
    }
   ],
   "source": [
    "config=configparser.ConfigParser()\n",
    "config.read(r'C:\\Users\\User\\Desktop\\config.ini')"
   ]
  },
  {
   "cell_type": "code",
   "execution_count": null,
   "id": "0632a84d",
   "metadata": {},
   "outputs": [],
   "source": []
  },
  {
   "cell_type": "code",
   "execution_count": null,
   "id": "206e7347",
   "metadata": {},
   "outputs": [],
   "source": []
  },
  {
   "cell_type": "code",
   "execution_count": 48,
   "id": "2010b60c",
   "metadata": {},
   "outputs": [],
   "source": [
    "tm1=TM1Service(**config['Neil'])"
   ]
  },
  {
   "cell_type": "code",
   "execution_count": 71,
   "id": "e6c53c10",
   "metadata": {},
   "outputs": [],
   "source": [
    "p=tm1.processes.get(name_process='99A.Rest Api Test Sleep For 30s')"
   ]
  },
  {
   "cell_type": "code",
   "execution_count": null,
   "id": "49440c0e",
   "metadata": {},
   "outputs": [],
   "source": []
  },
  {
   "cell_type": "code",
   "execution_count": 75,
   "id": "6587694b",
   "metadata": {},
   "outputs": [],
   "source": [
    "process='process1'\n",
    "success,status,error_log=tm1.processes.execute_with_return(process_name=process)"
   ]
  },
  {
   "cell_type": "code",
   "execution_count": null,
   "id": "69545b66",
   "metadata": {},
   "outputs": [],
   "source": []
  },
  {
   "cell_type": "code",
   "execution_count": 80,
   "id": "dde877d5",
   "metadata": {},
   "outputs": [],
   "source": [
    "def diff_bu(tm1:TM1Service,dim_name:str,dim_name_compare:str,ele_name:str):\n",
    "    hier=tm1.hierarchies.get(dim_name,dim_name)\n",
    "    hier_compare=tm1.hierarchies.get(dim_name_compare,dim_name_compare)\n",
    "    desc=hier.get_descendants(element_name=ele_name,recursive=True)\n",
    "    desc_compare=hier_compare.get_descendants(element_name=ele_name,recursive=True)\n",
    "    diff=desc_compare-desc\n",
    "    if diff != set():\n",
    "        #日志输出差异\n",
    "        logging.info(dim_name_compare+' new updated bu dimension generates diff:'+str(diff))\n",
    "    else:\n",
    "        logging.info(dim_name_compare+' new updated bu dimension validated as ok')\n",
    "        "
   ]
  },
  {
   "cell_type": "code",
   "execution_count": 79,
   "id": "8ebd7485",
   "metadata": {},
   "outputs": [],
   "source": [
    "def update_and_validate_bu(tm1:TM1Service,active_flag:str,dim_name:str,dim_name_compare:str,ele_name:str):\n",
    "    if active_flag=='N':\n",
    "        #构建validation bu维度\n",
    "        process='process1'\n",
    "        success,status,error_log=tm1.processes.execute_with_return(process_name=process)\n",
    "        #输出PA脚本执行异常日志\n",
    "        if not scuccess:\n",
    "            content=tm1.processes.get_error_log_file_content(error_log)\n",
    "            logging.info(content)\n",
    "        #输出差异\n",
    "        diff_bu(tm1,dim_name,dim_name_compare,ele_name)\n",
    "    if active_flag=='Y':\n",
    "        #构建business unit fpa维度\n",
    "        process='process2'\n",
    "        success,status,error_log=tm1.processes.execute_with_return(process_name=process)\n",
    "        #输出PA脚本执行异常日志\n",
    "        if not scuccess:\n",
    "            content=tm1.processes.get_error_log_file_content(error_log)\n",
    "            logging.info(content)\n",
    "        #输出差异\n",
    "        diff_bu(tm1,dim_name,dim_name_compare,ele_name)\n",
    "    "
   ]
  },
  {
   "cell_type": "code",
   "execution_count": 70,
   "id": "a597a3f4",
   "metadata": {},
   "outputs": [],
   "source": [
    "diff_bu(tm1,dim_name='Account PL',dim_name_compare='Account PL Clone',ele_name='PL100 - 三、营业利润')"
   ]
  },
  {
   "cell_type": "code",
   "execution_count": 49,
   "id": "3a123b12",
   "metadata": {},
   "outputs": [],
   "source": []
  },
  {
   "cell_type": "code",
   "execution_count": 50,
   "id": "f1f5257a",
   "metadata": {},
   "outputs": [],
   "source": []
  },
  {
   "cell_type": "code",
   "execution_count": 51,
   "id": "2620adb6",
   "metadata": {},
   "outputs": [],
   "source": []
  },
  {
   "cell_type": "code",
   "execution_count": null,
   "id": "1c2061ff",
   "metadata": {},
   "outputs": [],
   "source": []
  },
  {
   "cell_type": "code",
   "execution_count": null,
   "id": "41dcd98e",
   "metadata": {},
   "outputs": [],
   "source": []
  },
  {
   "cell_type": "code",
   "execution_count": null,
   "id": "33d84442",
   "metadata": {},
   "outputs": [],
   "source": []
  },
  {
   "cell_type": "code",
   "execution_count": null,
   "id": "7848f016",
   "metadata": {},
   "outputs": [],
   "source": []
  },
  {
   "cell_type": "code",
   "execution_count": null,
   "id": "b9a4feac",
   "metadata": {},
   "outputs": [],
   "source": []
  },
  {
   "cell_type": "code",
   "execution_count": null,
   "id": "ee92e344",
   "metadata": {},
   "outputs": [],
   "source": []
  },
  {
   "cell_type": "code",
   "execution_count": null,
   "id": "bcebdc98",
   "metadata": {},
   "outputs": [],
   "source": []
  }
 ],
 "metadata": {
  "kernelspec": {
   "display_name": "Python 3",
   "language": "python",
   "name": "python3"
  },
  "language_info": {
   "codemirror_mode": {
    "name": "ipython",
    "version": 3
   },
   "file_extension": ".py",
   "mimetype": "text/x-python",
   "name": "python",
   "nbconvert_exporter": "python",
   "pygments_lexer": "ipython3",
   "version": "3.7.9"
  }
 },
 "nbformat": 4,
 "nbformat_minor": 5
}
