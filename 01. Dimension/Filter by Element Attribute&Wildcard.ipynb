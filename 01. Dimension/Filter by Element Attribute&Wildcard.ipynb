{
 "cells": [
  {
   "cell_type": "code",
   "execution_count": 1,
   "id": "df1417ae",
   "metadata": {},
   "outputs": [],
   "source": [
    "import TM1py\n",
    "from TM1py import TM1Service,Element"
   ]
  },
  {
   "cell_type": "code",
   "execution_count": 67,
   "id": "451a96de",
   "metadata": {},
   "outputs": [],
   "source": [
    "with TM1Service(address='localhost',port=30059, ssl=False,user='neil',password='123') as tm1:\n",
    "    eles=tm1.elements.get_elements_filtered_by_attribute(dimension_name='Account PL Clone',hierarchy_name='Account PL Clone',attribute_name='中文',attribute_value='其中：营业成本')\n",
    "    eles2=tm1.elements.get_elements_filtered_by_wildcard(dimension_name='Account PL Clone',hierarchy_name='Account PL Clone',wildcard='300')"
   ]
  },
  {
   "cell_type": "code",
   "execution_count": 4,
   "id": "b75c84bf",
   "metadata": {},
   "outputs": [
    {
     "data": {
      "text/plain": [
       "['PL103 - 其中：营业成本']"
      ]
     },
     "execution_count": 4,
     "metadata": {},
     "output_type": "execute_result"
    }
   ],
   "source": [
    "eles"
   ]
  },
  {
   "cell_type": "code",
   "execution_count": 68,
   "id": "6905daac",
   "metadata": {},
   "outputs": [
    {
     "data": {
      "text/plain": [
       "['PL300 - 五、净利润']"
      ]
     },
     "execution_count": 68,
     "metadata": {},
     "output_type": "execute_result"
    }
   ],
   "source": [
    "eles2"
   ]
  },
  {
   "cell_type": "code",
   "execution_count": null,
   "id": "67c1e687",
   "metadata": {},
   "outputs": [],
   "source": []
  },
  {
   "cell_type": "code",
   "execution_count": null,
   "id": "514c62c4",
   "metadata": {},
   "outputs": [],
   "source": []
  }
 ],
 "metadata": {
  "kernelspec": {
   "display_name": "Python 3",
   "language": "python",
   "name": "python3"
  },
  "language_info": {
   "codemirror_mode": {
    "name": "ipython",
    "version": 3
   },
   "file_extension": ".py",
   "mimetype": "text/x-python",
   "name": "python",
   "nbconvert_exporter": "python",
   "pygments_lexer": "ipython3",
   "version": "3.7.9"
  }
 },
 "nbformat": 4,
 "nbformat_minor": 5
}
