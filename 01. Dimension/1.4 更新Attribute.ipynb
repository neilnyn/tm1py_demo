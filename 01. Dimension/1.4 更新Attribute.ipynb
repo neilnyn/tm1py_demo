{
 "cells": [
  {
   "cell_type": "markdown",
   "id": "8e244427",
   "metadata": {},
   "source": []
  },
  {
   "cell_type": "code",
   "execution_count": 34,
   "id": "730cb782",
   "metadata": {},
   "outputs": [
    {
     "data": {
      "text/plain": [
       "Level00\n",
       "China    True\n",
       "China    True\n",
       "Name: 别名, dtype: bool"
      ]
     },
     "execution_count": 34,
     "metadata": {},
     "output_type": "execute_result"
    }
   ],
   "source": [
    "import pandas as pd\n",
    "\n",
    "Region=pd.read_csv(r'C:\\Users\\User\\Desktop\\Region_Tm1.csv')\n",
    "Region_reindex=Region.set_index('Level00')\n",
    "Region_reindex.loc['China','别名']"
   ]
  },
  {
   "cell_type": "code",
   "execution_count": 32,
   "id": "6423ea6f",
   "metadata": {},
   "outputs": [
    {
     "data": {
      "text/html": [
       "<div>\n",
       "<style scoped>\n",
       "    .dataframe tbody tr th:only-of-type {\n",
       "        vertical-align: middle;\n",
       "    }\n",
       "\n",
       "    .dataframe tbody tr th {\n",
       "        vertical-align: top;\n",
       "    }\n",
       "\n",
       "    .dataframe thead th {\n",
       "        text-align: right;\n",
       "    }\n",
       "</style>\n",
       "<table border=\"1\" class=\"dataframe\">\n",
       "  <thead>\n",
       "    <tr style=\"text-align: right;\">\n",
       "      <th></th>\n",
       "      <th>Level01</th>\n",
       "      <th>Level02</th>\n",
       "      <th>别名</th>\n",
       "    </tr>\n",
       "    <tr>\n",
       "      <th>Level00</th>\n",
       "      <th></th>\n",
       "      <th></th>\n",
       "      <th></th>\n",
       "    </tr>\n",
       "  </thead>\n",
       "  <tbody>\n",
       "    <tr>\n",
       "      <th>China</th>\n",
       "      <td>Asia</td>\n",
       "      <td>World</td>\n",
       "      <td>中国</td>\n",
       "    </tr>\n",
       "    <tr>\n",
       "      <th>Japan</th>\n",
       "      <td>Asia</td>\n",
       "      <td>World</td>\n",
       "      <td>日本</td>\n",
       "    </tr>\n",
       "    <tr>\n",
       "      <th>Korean</th>\n",
       "      <td>Asia</td>\n",
       "      <td>World</td>\n",
       "      <td>韩国</td>\n",
       "    </tr>\n",
       "    <tr>\n",
       "      <th>China</th>\n",
       "      <td>UN</td>\n",
       "      <td>World</td>\n",
       "      <td>中国</td>\n",
       "    </tr>\n",
       "    <tr>\n",
       "      <th>UK</th>\n",
       "      <td>Euro</td>\n",
       "      <td>World</td>\n",
       "      <td>英国</td>\n",
       "    </tr>\n",
       "    <tr>\n",
       "      <th>German</th>\n",
       "      <td>Euro</td>\n",
       "      <td>World</td>\n",
       "      <td>德国</td>\n",
       "    </tr>\n",
       "    <tr>\n",
       "      <th>France</th>\n",
       "      <td>Euro</td>\n",
       "      <td>World</td>\n",
       "      <td>法国</td>\n",
       "    </tr>\n",
       "    <tr>\n",
       "      <th>UK</th>\n",
       "      <td>UN</td>\n",
       "      <td>World</td>\n",
       "      <td>英国</td>\n",
       "    </tr>\n",
       "  </tbody>\n",
       "</table>\n",
       "</div>"
      ],
      "text/plain": [
       "        Level01 Level02  别名\n",
       "Level00                    \n",
       "China      Asia   World  中国\n",
       "Japan      Asia   World  日本\n",
       "Korean     Asia   World  韩国\n",
       "China        UN   World  中国\n",
       "UK         Euro   World  英国\n",
       "German     Euro   World  德国\n",
       "France     Euro   World  法国\n",
       "UK           UN   World  英国"
      ]
     },
     "execution_count": 32,
     "metadata": {},
     "output_type": "execute_result"
    }
   ],
   "source": [
    "Region_reindex"
   ]
  },
  {
   "cell_type": "code",
   "execution_count": 49,
   "id": "32566426",
   "metadata": {},
   "outputs": [],
   "source": [
    "from TM1py.Objects import Cube\n",
    "from TM1py.Objects import Dimension, Element, ElementAttribute, Hierarchy\n",
    "from TM1py.Utils import Utils\n",
    "from TM1py.Services import TM1Service\n",
    "\n",
    "with TM1Service(address=\"localhost\", port=30011, ssl=True, user=\"admin\", password=\"apple\") as tm1:\n",
    "    # get dimension\n",
    "    dimension = tm1.dimensions.get('Region_Tm1')\n",
    "\n",
    "    # get the default hierarchy of the dimension\n",
    "    h = dimension.hierarchies[0]\n",
    "    h.add_element_attribute('中文','Alias')\n",
    "    \n",
    "    #for element in h:\n",
    "        #if element.element_type!='Consolidated':\n",
    "   \n",
    "    \n",
    "            #Region_reindex.loc[element.name,'别名']\n",
    "            \n",
    "    tm1.dimensions.update(dimension)\n",
    "    "
   ]
  },
  {
   "cell_type": "code",
   "execution_count": 50,
   "id": "668b34c8",
   "metadata": {},
   "outputs": [
    {
     "data": {
      "text/plain": [
       "Dimension:{\"Name\": \"Region_Tm1\", \"UniqueName\": \"[Region_Tm1]\", \"Attributes\": {\"Caption\": \"Region_Tm1\"}, \"Hierarchies\": [{\"Name\": \"Region_Tm1\", \"Elements\": [{\"Name\": \"China\", \"Type\": \"Numeric\"}, {\"Name\": \"Japan\", \"Type\": \"Numeric\"}, {\"Name\": \"Korean\", \"Type\": \"Numeric\"}, {\"Name\": \"German\", \"Type\": \"Numeric\"}, {\"Name\": \"France\", \"Type\": \"Numeric\"}, {\"Name\": \"Asia\", \"Type\": \"Consolidated\"}, {\"Name\": \"UN\", \"Type\": \"Consolidated\"}, {\"Name\": \"Euro\", \"Type\": \"Consolidated\"}, {\"Name\": \"World\", \"Type\": \"Consolidated\"}, {\"Name\": \"North America\", \"Type\": \"Consolidated\"}, {\"Name\": \"America\", \"Type\": \"Numeric\"}, {\"Name\": \"United Kindom\", \"Type\": \"Numeric\"}], \"Edges\": [{\"ParentName\": \"Asia\", \"ComponentName\": \"China\", \"Weight\": 1}, {\"ParentName\": \"Asia\", \"ComponentName\": \"Japan\", \"Weight\": 1}, {\"ParentName\": \"Asia\", \"ComponentName\": \"Korean\", \"Weight\": 1}, {\"ParentName\": \"UN\", \"ComponentName\": \"China\", \"Weight\": 1}, {\"ParentName\": \"UN\", \"ComponentName\": \"United Kindom\", \"Weight\": 1}, {\"ParentName\": \"Euro\", \"ComponentName\": \"German\", \"Weight\": 1}, {\"ParentName\": \"Euro\", \"ComponentName\": \"France\", \"Weight\": 1}, {\"ParentName\": \"Euro\", \"ComponentName\": \"United Kindom\", \"Weight\": 1}, {\"ParentName\": \"World\", \"ComponentName\": \"Asia\", \"Weight\": 1}, {\"ParentName\": \"World\", \"ComponentName\": \"UN\", \"Weight\": 1}, {\"ParentName\": \"World\", \"ComponentName\": \"Euro\", \"Weight\": 1}, {\"ParentName\": \"North America\", \"ComponentName\": \"America\", \"Weight\": 1}]}]}"
      ]
     },
     "execution_count": 50,
     "metadata": {},
     "output_type": "execute_result"
    }
   ],
   "source": [
    "dimension"
   ]
  },
  {
   "cell_type": "code",
   "execution_count": null,
   "id": "ff9b6dde",
   "metadata": {},
   "outputs": [],
   "source": []
  }
 ],
 "metadata": {
  "kernelspec": {
   "display_name": "Python 3",
   "language": "python",
   "name": "python3"
  },
  "language_info": {
   "codemirror_mode": {
    "name": "ipython",
    "version": 3
   },
   "file_extension": ".py",
   "mimetype": "text/x-python",
   "name": "python",
   "nbconvert_exporter": "python",
   "pygments_lexer": "ipython3",
   "version": "3.6.8"
  }
 },
 "nbformat": 4,
 "nbformat_minor": 5
}
