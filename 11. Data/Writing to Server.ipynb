{
 "cells": [
  {
   "cell_type": "code",
   "execution_count": 2,
   "id": "411ba274",
   "metadata": {},
   "outputs": [],
   "source": [
    "import TM1py\n",
    "from TM1py import TM1Service"
   ]
  },
  {
   "cell_type": "code",
   "execution_count": 40,
   "id": "ccd127b5",
   "metadata": {},
   "outputs": [],
   "source": [
    "cells=dict()"
   ]
  },
  {
   "cell_type": "code",
   "execution_count": 41,
   "id": "8ca1cb39",
   "metadata": {},
   "outputs": [],
   "source": [
    "#必须严格按照维度顺序\n",
    "cells['2024','M01','Amount']=100\n",
    "cells['2024','M02','Amount']=300"
   ]
  },
  {
   "cell_type": "code",
   "execution_count": 43,
   "id": "165c6d55",
   "metadata": {},
   "outputs": [
    {
     "data": {
      "text/plain": [
       "{('2024', 'M01', 'Amount'): 100, ('2024', 'M02', 'Amount'): 300}"
      ]
     },
     "execution_count": 43,
     "metadata": {},
     "output_type": "execute_result"
    }
   ],
   "source": [
    "cells"
   ]
  },
  {
   "cell_type": "code",
   "execution_count": 44,
   "id": "0f1c28ca",
   "metadata": {},
   "outputs": [],
   "source": [
    "#使用use_ti可以忽略minor error,#use_blob 会使用blob文件和临时脚本去处理，速度较快\n",
    "with TM1Service(address='localhost',port=30059, ssl=False,user='neil',password='123') as tm1:\n",
    "    tm1.cells.write(cube_name='Cube Test',cellset_as_dict=cells,use_blob=True)"
   ]
  },
  {
   "cell_type": "code",
   "execution_count": null,
   "id": "db2cab48",
   "metadata": {},
   "outputs": [],
   "source": []
  }
 ],
 "metadata": {
  "kernelspec": {
   "display_name": "Python 3",
   "language": "python",
   "name": "python3"
  },
  "language_info": {
   "codemirror_mode": {
    "name": "ipython",
    "version": 3
   },
   "file_extension": ".py",
   "mimetype": "text/x-python",
   "name": "python",
   "nbconvert_exporter": "python",
   "pygments_lexer": "ipython3",
   "version": "3.7.9"
  }
 },
 "nbformat": 4,
 "nbformat_minor": 5
}
