{
 "cells": [
  {
   "cell_type": "code",
   "execution_count": 1,
   "id": "e9221c57",
   "metadata": {},
   "outputs": [],
   "source": [
    "import TM1py\n",
    "from TM1py import TM1Service,Rules,Element\n",
    "import configparser\n",
    "import nest_asyncio\n",
    "nest_asyncio.apply()\n",
    "import mdxpy\n",
    "from mdxpy import MdxBuilder,MdxHierarchySet,Member\n",
    "import datetime"
   ]
  },
  {
   "cell_type": "code",
   "execution_count": null,
   "id": "0cbc8400",
   "metadata": {},
   "outputs": [],
   "source": []
  },
  {
   "cell_type": "code",
   "execution_count": 2,
   "id": "c547eae6",
   "metadata": {},
   "outputs": [],
   "source": [
    "INSTANCE='Neil'\n",
    "config=configparser.ConfigParser()\n",
    "config.read(r'.\\config.ini')\n",
    "address=config[INSTANCE]['address']\n",
    "port=config[INSTANCE]['port']\n",
    "ssl=config[INSTANCE]['ssl']\n",
    "user=config[INSTANCE]['user']\n",
    "password=config[INSTANCE]['password']"
   ]
  },
  {
   "cell_type": "code",
   "execution_count": null,
   "id": "b214dea1",
   "metadata": {},
   "outputs": [],
   "source": []
  },
  {
   "cell_type": "code",
   "execution_count": null,
   "id": "7417316d",
   "metadata": {},
   "outputs": [],
   "source": []
  },
  {
   "cell_type": "code",
   "execution_count": null,
   "id": "c74c75d6",
   "metadata": {},
   "outputs": [],
   "source": []
  },
  {
   "cell_type": "code",
   "execution_count": 54,
   "id": "f02cf3d0",
   "metadata": {},
   "outputs": [
    {
     "name": "stdout",
     "output_type": "stream",
     "text": [
      "0:00:55.998592\n",
      "SELECT\r\n",
      "NON EMPTY {[mzlamazonpaymentsdatastg].[mzlamazonpaymentsdatastg].[quantity],[mzlamazonpaymentsdatastg].[mzlamazonpaymentsdatastg].[product_sales]} DIMENSION PROPERTIES MEMBER_NAME ON 0,\r\n",
      "NON EMPTY {[scenario].[scenario].[act]} * {[sayear].[sayear].[2021]} * {TM1FILTERBYLEVEL({TM1SUBSETALL([samonth].[samonth])},0)} * {TM1FILTERBYLEVEL({TM1SUBSETALL([regioncity].[regioncity])},0)} * {TM1FILTERBYLEVEL({TM1SUBSETALL([regionstate].[regionstate])},0)} * {TM1FILTERBYLEVEL({TM1SUBSETALL([product].[product])},0)} DIMENSION PROPERTIES MEMBER_NAME ON 1\r\n",
      "FROM [zlamazonpaymentsdatastg]\r\n",
      "WHERE ([version].[version].[wip],[orderyear].[orderyear].[yearrollup],[monthday].[monthday].[allmonths],[coacompany].[coacompany].[002],[currency].[currency].[usd],[country].[country].[us],[platform].[platform].[allplatformlist],[datasourcepaymentsdatastg].[datasourcepaymentsdatastg].[alldatasources],[behavior].[behavior].[商品销售])\n"
     ]
    }
   ],
   "source": [
    "with TM1Service(address=address,port=port, ssl=ssl,user=user,password=password) as tm1:\n",
    "    q=MdxBuilder.from_cube(cube='ZL Amazon Payments Data STG')\n",
    "    q=q.rows_non_empty()\n",
    "    q=q.add_hierarchy_set_to_row_axis(MdxHierarchySet.member(Member.of('Scenario','ACT')))\n",
    "    q=q.add_hierarchy_set_to_row_axis(MdxHierarchySet.member(Member.of('SA Year','2021')))\n",
    "    q=q.add_hierarchy_set_to_row_axis(MdxHierarchySet.all_leaves('SA Month'))\n",
    "    q=q.add_hierarchy_set_to_row_axis(MdxHierarchySet.all_leaves('Region City'))\n",
    "    q=q.add_hierarchy_set_to_row_axis(MdxHierarchySet.all_leaves('Region State'))\n",
    "    q=q.add_hierarchy_set_to_row_axis(MdxHierarchySet.all_leaves('Product'))\n",
    "    q=q.columns_non_empty()\n",
    "    q=q.add_hierarchy_set_to_column_axis(MdxHierarchySet.members([Member.of('M ZL Amazon Payments Data STG','Quantity'),\\\n",
    "                                                                  Member.of('M ZL Amazon Payments Data STG','Product_sales')]))\n",
    "    q.where(Member.of('Version','WIP'),\\\n",
    "                                        Member.of('Order Year','Year Rollup'),\\\n",
    "                                        Member.of('Month Day','All Months'),\\\n",
    "                                        Member.of('COA Company','002'),\\\n",
    "                                        Member.of('Currency','USD'),\\\n",
    "                                        Member.of('Country','US'),\\\n",
    "                                        Member.of('Platform','All Platform List'),\\\n",
    "                                        Member.of('Data Source Payments Data STG','All Datasources'),\\\n",
    "                                        Member.of('Behavior','商品销售'))\n",
    "\n",
    "    #new_smdx_queries = [smdx.replace('[Product].[Product].[LSKU1058]', f'[Product].[Product].[{leaf}]') for leaf in all_leafs]\n",
    "    before_time=datetime.datetime.now()\n",
    "    #df=tm1.cells.execute_mdx_dataframe(mdx=q,skip_zeros=False)\n",
    "    csv=tm1.cells.execute_mdx_csv(mdx=q,skip_zeros=False,use_blob=True)\n",
    "    #df=tm1.cells.execute_mdx_dataframe_async(mdx_list=new_smdx_queries,skip_zeros=True,skip_consolidated_cells=False,skip_rule_derived_cells=True,use_iterative_json=True)\n",
    "    elapsed_time=datetime.datetime.now()-before_time\n",
    "    print(elapsed_time)\n",
    "    print(q.to_mdx())"
   ]
  },
  {
   "cell_type": "code",
   "execution_count": 8,
   "id": "f0e21cc1",
   "metadata": {},
   "outputs": [],
   "source": []
  },
  {
   "cell_type": "code",
   "execution_count": 49,
   "id": "0a1bc39f",
   "metadata": {},
   "outputs": [],
   "source": []
  },
  {
   "cell_type": "code",
   "execution_count": null,
   "id": "198db002",
   "metadata": {},
   "outputs": [],
   "source": []
  },
  {
   "cell_type": "code",
   "execution_count": 50,
   "id": "dd506e28",
   "metadata": {},
   "outputs": [],
   "source": []
  },
  {
   "cell_type": "code",
   "execution_count": null,
   "id": "e74a90ed",
   "metadata": {},
   "outputs": [],
   "source": []
  },
  {
   "cell_type": "code",
   "execution_count": null,
   "id": "5b9a24d6",
   "metadata": {},
   "outputs": [],
   "source": []
  },
  {
   "cell_type": "code",
   "execution_count": null,
   "id": "8682bb68",
   "metadata": {},
   "outputs": [],
   "source": []
  },
  {
   "cell_type": "code",
   "execution_count": null,
   "id": "23c5b758",
   "metadata": {},
   "outputs": [],
   "source": []
  },
  {
   "cell_type": "code",
   "execution_count": null,
   "id": "0a681f80",
   "metadata": {},
   "outputs": [],
   "source": []
  },
  {
   "cell_type": "code",
   "execution_count": 135,
   "id": "999b11fe",
   "metadata": {},
   "outputs": [
    {
     "name": "stdout",
     "output_type": "stream",
     "text": [
      "0:01:25.162302\n"
     ]
    }
   ],
   "source": [
    "with TM1Service(address=address,port=port, ssl=ssl,user=user,password=password) as tm1:\n",
    "    q=MdxBuilder.from_cube(cube='ZL Amazon Payments Data STG')\n",
    "    q=q.non_empty(0)\n",
    "    #q=q.non_empty(1)\n",
    "    q=q.add_hierarchy_set_to_axis(0, MdxHierarchySet.member(Member.of(\"Scenario\", \"ACT\")))\n",
    "    q=q.add_hierarchy_set_to_axis(0, MdxHierarchySet.member(Member.of(\"SA Year\", \"2020\")))\n",
    "    q=q.add_hierarchy_set_to_axis(0, MdxHierarchySet.all_leaves(\"SA Month\")) \n",
    "    #q=q.add_hierarchy_set_to_axis(0, MdxHierarchySet.member(Member.of(\"SA Month\", \"M01\")))\n",
    "    q=q.add_hierarchy_set_to_axis(0, MdxHierarchySet.member(Member.of(\"Version\", \"WIP\")))\n",
    "    q=q.add_hierarchy_set_to_axis(0, MdxHierarchySet.member(Member.of(\"Order Year\", \"Year Rollup\")))\n",
    "    q=q.add_hierarchy_set_to_axis(0, MdxHierarchySet.member(Member.of(\"Month Day\", \"All Months\")))\n",
    "    q=q.add_hierarchy_set_to_axis(0, MdxHierarchySet.member(Member.of(\"COA Company\", \"002\")))\n",
    "    q=q.add_hierarchy_set_to_axis(0, MdxHierarchySet.member(Member.of(\"Currency\", \"USD\")))\n",
    "    q=q.add_hierarchy_set_to_axis(0, MdxHierarchySet.member(Member.of(\"Country\", \"US\")))\n",
    "    q=q.add_hierarchy_set_to_axis(0, MdxHierarchySet.all_leaves(\"Region State\"))\n",
    "    q=q.add_hierarchy_set_to_axis(0, MdxHierarchySet.all_leaves(\"Region City\"))\n",
    "    q=q.add_hierarchy_set_to_axis(0, MdxHierarchySet.member(Member.of(\"Platform\", \"All Platform List\")))\n",
    "    q=q.add_hierarchy_set_to_axis(0, MdxHierarchySet.member(Member.of(\"Behavior\", \"商品销售\")))\n",
    "    q=q.add_hierarchy_set_to_axis(0, MdxHierarchySet.all_leaves(\"Product\"))\n",
    "    #q=q.add_hierarchy_set_to_axis(0, MdxHierarchySet.member(Member.of(\"Product\", \"LSKU1676\")))\n",
    "    q=q.add_hierarchy_set_to_axis(0, MdxHierarchySet.member(Member.of(\"Data Source Payments Data STG\", \"All Datasources\")))\n",
    "    q=q.add_hierarchy_set_to_axis(0, MdxHierarchySet.members([Member.of(\"M ZL Amazon Payments Data STG\", \"Quantity\"),Member.of(\"M ZL Amazon Payments Data STG\", \"Product_sales\")]))\n",
    "    #print(q.to_mdx())\n",
    "\n",
    "    before_time=datetime.datetime.now()\n",
    "\n",
    "    csv=tm1.cells.execute_mdx_csv(mdx=q,skip_zeros=False,use_blob=True)\n",
    "    \n",
    "    elapsed_time=datetime.datetime.now()-before_time\n",
    "    print(elapsed_time)"
   ]
  },
  {
   "cell_type": "code",
   "execution_count": null,
   "id": "9e8d8750",
   "metadata": {},
   "outputs": [],
   "source": []
  },
  {
   "cell_type": "code",
   "execution_count": null,
   "id": "2aa167bc",
   "metadata": {},
   "outputs": [],
   "source": []
  },
  {
   "cell_type": "code",
   "execution_count": null,
   "id": "77897a1b",
   "metadata": {},
   "outputs": [],
   "source": []
  },
  {
   "cell_type": "code",
   "execution_count": null,
   "id": "3d3acde7",
   "metadata": {},
   "outputs": [],
   "source": []
  },
  {
   "cell_type": "code",
   "execution_count": null,
   "id": "1c04f7d1",
   "metadata": {},
   "outputs": [],
   "source": []
  },
  {
   "cell_type": "code",
   "execution_count": null,
   "id": "1a138262",
   "metadata": {},
   "outputs": [],
   "source": []
  },
  {
   "cell_type": "code",
   "execution_count": null,
   "id": "d6fecd56",
   "metadata": {},
   "outputs": [],
   "source": []
  },
  {
   "cell_type": "code",
   "execution_count": null,
   "id": "c2673199",
   "metadata": {},
   "outputs": [],
   "source": []
  },
  {
   "cell_type": "code",
   "execution_count": null,
   "id": "f6ef1343",
   "metadata": {},
   "outputs": [],
   "source": []
  },
  {
   "cell_type": "code",
   "execution_count": null,
   "id": "c50e570d",
   "metadata": {},
   "outputs": [],
   "source": []
  },
  {
   "cell_type": "code",
   "execution_count": null,
   "id": "9aa05cdc",
   "metadata": {},
   "outputs": [],
   "source": []
  },
  {
   "cell_type": "code",
   "execution_count": null,
   "id": "ce8f2e90",
   "metadata": {},
   "outputs": [],
   "source": []
  },
  {
   "cell_type": "code",
   "execution_count": null,
   "id": "4d569d4c",
   "metadata": {},
   "outputs": [],
   "source": []
  },
  {
   "cell_type": "code",
   "execution_count": null,
   "id": "0d197be9",
   "metadata": {},
   "outputs": [],
   "source": []
  },
  {
   "cell_type": "code",
   "execution_count": null,
   "id": "b8767ed3",
   "metadata": {},
   "outputs": [],
   "source": []
  },
  {
   "cell_type": "code",
   "execution_count": null,
   "id": "2cd536f6",
   "metadata": {},
   "outputs": [],
   "source": []
  },
  {
   "cell_type": "code",
   "execution_count": null,
   "id": "7d77d07e",
   "metadata": {},
   "outputs": [],
   "source": []
  },
  {
   "cell_type": "code",
   "execution_count": null,
   "id": "38348589",
   "metadata": {},
   "outputs": [],
   "source": []
  },
  {
   "cell_type": "code",
   "execution_count": null,
   "id": "4d2aa801",
   "metadata": {},
   "outputs": [],
   "source": []
  },
  {
   "cell_type": "code",
   "execution_count": null,
   "id": "333dabbe",
   "metadata": {},
   "outputs": [],
   "source": []
  },
  {
   "cell_type": "code",
   "execution_count": null,
   "id": "f468d480",
   "metadata": {},
   "outputs": [],
   "source": []
  },
  {
   "cell_type": "code",
   "execution_count": null,
   "id": "5414dc38",
   "metadata": {},
   "outputs": [],
   "source": []
  },
  {
   "cell_type": "code",
   "execution_count": null,
   "id": "d9f1c8f7",
   "metadata": {},
   "outputs": [],
   "source": []
  },
  {
   "cell_type": "code",
   "execution_count": null,
   "id": "f4ddecf5",
   "metadata": {},
   "outputs": [],
   "source": []
  },
  {
   "cell_type": "code",
   "execution_count": null,
   "id": "ed60d036",
   "metadata": {},
   "outputs": [],
   "source": []
  },
  {
   "cell_type": "code",
   "execution_count": null,
   "id": "5b9fc3bd",
   "metadata": {},
   "outputs": [],
   "source": []
  },
  {
   "cell_type": "code",
   "execution_count": null,
   "id": "b6bcdbed",
   "metadata": {},
   "outputs": [],
   "source": []
  },
  {
   "cell_type": "code",
   "execution_count": null,
   "id": "16993e49",
   "metadata": {},
   "outputs": [],
   "source": []
  },
  {
   "cell_type": "code",
   "execution_count": null,
   "id": "d6739acf",
   "metadata": {},
   "outputs": [],
   "source": [
    "\n",
    "        "
   ]
  },
  {
   "cell_type": "code",
   "execution_count": null,
   "id": "6d463acd",
   "metadata": {},
   "outputs": [],
   "source": []
  },
  {
   "cell_type": "code",
   "execution_count": null,
   "id": "5387b401",
   "metadata": {},
   "outputs": [],
   "source": []
  },
  {
   "cell_type": "code",
   "execution_count": null,
   "id": "e8eef37b",
   "metadata": {},
   "outputs": [],
   "source": []
  },
  {
   "cell_type": "code",
   "execution_count": null,
   "id": "8ff53ff6",
   "metadata": {},
   "outputs": [],
   "source": []
  },
  {
   "cell_type": "code",
   "execution_count": null,
   "id": "0e13dfa9",
   "metadata": {},
   "outputs": [],
   "source": []
  },
  {
   "cell_type": "code",
   "execution_count": null,
   "id": "e347d625",
   "metadata": {},
   "outputs": [],
   "source": []
  },
  {
   "cell_type": "code",
   "execution_count": null,
   "id": "0f1837d2",
   "metadata": {},
   "outputs": [],
   "source": []
  },
  {
   "cell_type": "code",
   "execution_count": null,
   "id": "a0708119",
   "metadata": {},
   "outputs": [],
   "source": []
  },
  {
   "cell_type": "code",
   "execution_count": null,
   "id": "9b6f0f4d",
   "metadata": {},
   "outputs": [],
   "source": []
  }
 ],
 "metadata": {
  "kernelspec": {
   "display_name": "Python 3",
   "language": "python",
   "name": "python3"
  },
  "language_info": {
   "codemirror_mode": {
    "name": "ipython",
    "version": 3
   },
   "file_extension": ".py",
   "mimetype": "text/x-python",
   "name": "python",
   "nbconvert_exporter": "python",
   "pygments_lexer": "ipython3",
   "version": "3.7.9"
  }
 },
 "nbformat": 4,
 "nbformat_minor": 5
}
