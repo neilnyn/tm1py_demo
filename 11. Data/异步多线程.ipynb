{
 "cells": [
  {
   "cell_type": "code",
   "execution_count": 1,
   "id": "7eb9c07c",
   "metadata": {},
   "outputs": [],
   "source": [
    "import asyncio\n",
    "import nest_asyncio\n",
    "nest_asyncio.apply()\n",
    "from concurrent.futures import ThreadPoolExecutor\n",
    "from random import random\n",
    "from typing import List\n",
    "\n",
    "from TM1py import TM1Service\n",
    "from TM1py.Utils import Utils\n",
    "\n",
    "async def transfer_async(tm1_src: TM1Service, tm1_tgr: TM1Service,cube_src:str,cube_tgr:str,leaves:List):\n",
    "    loop = asyncio.get_event_loop()\n",
    "    \n",
    "    with ThreadPoolExecutor(10) as executor:\n",
    "        #futures = [loop.run_in_executor(executor, transfer, tm1_src, tm1_tgr,cube_src, cube_tgr,month_leaf) for month_leaf in leaves]\n",
    "        futures=[]\n",
    "        for month_leaf in leaves:\n",
    "            f=loop.run_in_executor(executor, transfer, tm1_src, tm1_tgr,cube_src, cube_tgr,month_leaf)\n",
    "            futures.append(f)\n",
    "        for future in futures:\n",
    "            try:\n",
    "                await future\n",
    "            except:\n",
    "                print(future)\n",
    "                continue\n",
    "    \n",
    "\n",
    "def transfer(tm1_src: TM1Service, tm1_tgr: TM1Service,cube_src:str,cube_tgr:str,month_leaf:str):\n",
    "    \n",
    "    mdx='''\n",
    "    SELECT \n",
    "    {[Month].[Month].['''+month_leaf+''']} ON COLUMNS , \n",
    "    {TM1FilterByLevel({TM1SubSetAll([Location])}, 0)} PROPERTIES [Location].[Location].[Full Description]  ON ROWS \n",
    "    FROM ['''+cube_src+'''] \n",
    "      WHERE \n",
    "          (\n",
    "           [Year].[Year].[2012/2013],\n",
    "           [Measure_Sales].[Measure_Sales].[Volume],\n",
    "           [Data Source].[Data Source].[Input],\n",
    "           [Business Unit].[Business Unit].[81],\n",
    "           [Version].[Version].[Actual]\n",
    "          )\n",
    "\n",
    "         '''\n",
    "    #元组字典\n",
    "    cells=tm1_src.cubes.cells.execute_mdx(mdx,skip_rule_derived_cells=True,skip_zeros=True)\n",
    "    df = Utils.build_pandas_dataframe_from_cellset(cells)\n",
    "    #维度收拢\n",
    "    df_less_dim=df.reset_index().drop(['Business Unit','Product'],axis=1)\n",
    "\n",
    "    #Clear data\n",
    "    mdx_tgr='''\n",
    "             SELECT \n",
    "               {[Month].[Month].['''+month_leaf+''']} \n",
    "              ON COLUMNS , \n",
    "               {[Location].[Location].Members} \n",
    "               PROPERTIES [Location].[Location].[Full Description]  ON ROWS \n",
    "              FROM ['''+cube_tgr+'''] \n",
    "                WHERE \n",
    "                  (\n",
    "                   [Year].[Year].[2012/2013],\n",
    "                   [Version].[Version].[Actual],\n",
    "                   [Data Source].[Data Source].[Input],\n",
    "                   [Measure_Sales].[Measure_Sales].[Volume]\n",
    "                  )   \n",
    "            \n",
    "            \n",
    "                '''\n",
    "    tm1_tgr.cells.clear_with_mdx(cube_tgr,mdx_tgr)\n",
    "    #Writing to tgr Cube\n",
    "    tm1_tgr.cells.write_dataframe(\n",
    "        cube_name=cube_tgr,\n",
    "        data=df_less_dim,\n",
    "        dimensions=['Year','Month','Version','Location','Data Source','Measure_Sales'],\n",
    "        increment=False,\n",
    "        deactivate_transaction_log=True,\n",
    "        reactivate_transaction_log=True,\n",
    "        sandbox_name=None,\n",
    "        use_ti=True,\n",
    "        skip_non_updateable=True,\n",
    "        use_changeset=False)\n",
    "    "
   ]
  },
  {
   "cell_type": "code",
   "execution_count": 2,
   "id": "55ffd157",
   "metadata": {},
   "outputs": [
    {
     "name": "stdout",
     "output_type": "stream",
     "text": [
      "<Future finished exception=ValueError('Must pass non-zero number of levels/codes',)>\n",
      "<Future finished exception=ValueError('Must pass non-zero number of levels/codes',)>\n",
      "<Future finished exception=ValueError('Must pass non-zero number of levels/codes',)>\n",
      "<Future finished exception=ValueError('Must pass non-zero number of levels/codes',)>\n",
      "<Future finished exception=ValueError('Must pass non-zero number of levels/codes',)>\n"
     ]
    }
   ],
   "source": [
    "with TM1Service(address=\"localhost\", port=30012, ssl=False, user=\"admin\", password=\"\") as tm1:\n",
    "    leaves = tm1.elements.get_leaf_element_names(\"Month\", \"Month\")\n",
    "    #leaves=['Jul','Aug','Sep','Oct','Nov','Dec','Jan','Feb','Mar','Apr','May','Jun']\n",
    "    asyncio.run(transfer_async(tm1, tm1, 'Sales','Sales less product and business unit',leaves))"
   ]
  },
  {
   "cell_type": "code",
   "execution_count": 193,
   "id": "33714922",
   "metadata": {},
   "outputs": [],
   "source": [
    "with TM1Service(address=\"localhost\", port=30012, ssl=False, user=\"admin\", password=\"\") as tm1:\n",
    "    transfer(tm1,tm1,'Sales','Sales less product and business unit','Jul')"
   ]
  },
  {
   "cell_type": "code",
   "execution_count": null,
   "id": "b7bd9282",
   "metadata": {},
   "outputs": [],
   "source": []
  },
  {
   "cell_type": "code",
   "execution_count": 148,
   "id": "25046f80",
   "metadata": {},
   "outputs": [],
   "source": []
  },
  {
   "cell_type": "code",
   "execution_count": null,
   "id": "34e7bd16",
   "metadata": {},
   "outputs": [],
   "source": [
    "\n",
    "    "
   ]
  },
  {
   "cell_type": "code",
   "execution_count": null,
   "id": "ae09d113",
   "metadata": {},
   "outputs": [],
   "source": []
  },
  {
   "cell_type": "code",
   "execution_count": null,
   "id": "3244c994",
   "metadata": {},
   "outputs": [],
   "source": []
  },
  {
   "cell_type": "code",
   "execution_count": null,
   "id": "195afa20",
   "metadata": {},
   "outputs": [],
   "source": []
  },
  {
   "cell_type": "code",
   "execution_count": null,
   "id": "6b9dd7e7",
   "metadata": {},
   "outputs": [],
   "source": []
  }
 ],
 "metadata": {
  "kernelspec": {
   "display_name": "Python 3",
   "language": "python",
   "name": "python3"
  },
  "language_info": {
   "codemirror_mode": {
    "name": "ipython",
    "version": 3
   },
   "file_extension": ".py",
   "mimetype": "text/x-python",
   "name": "python",
   "nbconvert_exporter": "python",
   "pygments_lexer": "ipython3",
   "version": "3.6.8"
  }
 },
 "nbformat": 4,
 "nbformat_minor": 5
}
