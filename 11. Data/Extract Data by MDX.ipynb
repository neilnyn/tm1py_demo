{
 "cells": [
  {
   "cell_type": "code",
   "execution_count": 1,
   "id": "61f97fa9",
   "metadata": {},
   "outputs": [],
   "source": [
    "import TM1py\n",
    "from TM1py import TM1Service"
   ]
  },
  {
   "cell_type": "code",
   "execution_count": null,
   "id": "5000f875",
   "metadata": {},
   "outputs": [],
   "source": [
    "with TM1Service(address='localhost',port=30059, ssl=False,user='neil',password='123') as tm1:\n",
    "    tm1.cells.execute_mdx()"
   ]
  }
 ],
 "metadata": {
  "kernelspec": {
   "display_name": "Python 3",
   "language": "python",
   "name": "python3"
  },
  "language_info": {
   "codemirror_mode": {
    "name": "ipython",
    "version": 3
   },
   "file_extension": ".py",
   "mimetype": "text/x-python",
   "name": "python",
   "nbconvert_exporter": "python",
   "pygments_lexer": "ipython3",
   "version": "3.7.9"
  }
 },
 "nbformat": 4,
 "nbformat_minor": 5
}
