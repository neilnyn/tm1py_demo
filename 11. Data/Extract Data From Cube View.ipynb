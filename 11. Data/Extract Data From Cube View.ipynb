{
 "cells": [
  {
   "cell_type": "code",
   "execution_count": 2,
   "id": "35232023",
   "metadata": {},
   "outputs": [],
   "source": [
    "import TM1py\n",
    "from TM1py import TM1Service"
   ]
  },
  {
   "cell_type": "code",
   "execution_count": 17,
   "id": "fddee20d",
   "metadata": {},
   "outputs": [],
   "source": [
    "with TM1Service(address='localhost',port=30059, ssl=False,user='neil',password='123') as tm1:\n",
    "    names=tm1.cubes.get_all_names()\n",
    "    df=tm1.cells.execute_view_dataframe(cube_name='Sales',view_name='Sales BA')\n",
    "    cells=tm1.cells.execute_view(cube_name='Sales',view_name='Sales BA')"
   ]
  },
  {
   "cell_type": "code",
   "execution_count": 16,
   "id": "5c6a0427",
   "metadata": {},
   "outputs": [
    {
     "data": {
      "text/html": [
       "<div>\n",
       "<style scoped>\n",
       "    .dataframe tbody tr th:only-of-type {\n",
       "        vertical-align: middle;\n",
       "    }\n",
       "\n",
       "    .dataframe tbody tr th {\n",
       "        vertical-align: top;\n",
       "    }\n",
       "\n",
       "    .dataframe thead th {\n",
       "        text-align: right;\n",
       "    }\n",
       "</style>\n",
       "<table border=\"1\" class=\"dataframe\">\n",
       "  <thead>\n",
       "    <tr style=\"text-align: right;\">\n",
       "      <th></th>\n",
       "      <th>Product</th>\n",
       "      <th>Measure_Sales</th>\n",
       "      <th>Value</th>\n",
       "    </tr>\n",
       "  </thead>\n",
       "  <tbody>\n",
       "    <tr>\n",
       "      <th>0</th>\n",
       "      <td>LSKU1787</td>\n",
       "      <td>Gross Profit</td>\n",
       "      <td>120</td>\n",
       "    </tr>\n",
       "    <tr>\n",
       "      <th>1</th>\n",
       "      <td>LSKU1787</td>\n",
       "      <td>Sales Amount</td>\n",
       "      <td>4000</td>\n",
       "    </tr>\n",
       "    <tr>\n",
       "      <th>2</th>\n",
       "      <td>LSKU1787</td>\n",
       "      <td>Cost of Sales</td>\n",
       "      <td>3880</td>\n",
       "    </tr>\n",
       "    <tr>\n",
       "      <th>3</th>\n",
       "      <td>LSKU1787</td>\n",
       "      <td>Price</td>\n",
       "      <td>100</td>\n",
       "    </tr>\n",
       "    <tr>\n",
       "      <th>4</th>\n",
       "      <td>LSKU1787</td>\n",
       "      <td>Unit Cost</td>\n",
       "      <td>97</td>\n",
       "    </tr>\n",
       "    <tr>\n",
       "      <th>5</th>\n",
       "      <td>LSKU1787</td>\n",
       "      <td>Quantity</td>\n",
       "      <td>40</td>\n",
       "    </tr>\n",
       "    <tr>\n",
       "      <th>6</th>\n",
       "      <td>LSKU1787</td>\n",
       "      <td>Gross Margin % - N</td>\n",
       "      <td>0.03</td>\n",
       "    </tr>\n",
       "    <tr>\n",
       "      <th>7</th>\n",
       "      <td>LSKU1787</td>\n",
       "      <td>Gross Margin % - C</td>\n",
       "      <td>0.03</td>\n",
       "    </tr>\n",
       "    <tr>\n",
       "      <th>8</th>\n",
       "      <td>LSKU1787</td>\n",
       "      <td>Indicator</td>\n",
       "      <td>😡</td>\n",
       "    </tr>\n",
       "    <tr>\n",
       "      <th>9</th>\n",
       "      <td>LSKU1284</td>\n",
       "      <td>Gross Profit</td>\n",
       "      <td>260.6780000000276</td>\n",
       "    </tr>\n",
       "    <tr>\n",
       "      <th>10</th>\n",
       "      <td>LSKU1284</td>\n",
       "      <td>Sales Amount</td>\n",
       "      <td>1042.6780000000276</td>\n",
       "    </tr>\n",
       "    <tr>\n",
       "      <th>11</th>\n",
       "      <td>LSKU1284</td>\n",
       "      <td>Cost of Sales</td>\n",
       "      <td>782</td>\n",
       "    </tr>\n",
       "    <tr>\n",
       "      <th>12</th>\n",
       "      <td>LSKU1284</td>\n",
       "      <td>Price</td>\n",
       "      <td>30.667000000000815</td>\n",
       "    </tr>\n",
       "    <tr>\n",
       "      <th>13</th>\n",
       "      <td>LSKU1284</td>\n",
       "      <td>Unit Cost</td>\n",
       "      <td>23</td>\n",
       "    </tr>\n",
       "    <tr>\n",
       "      <th>14</th>\n",
       "      <td>LSKU1284</td>\n",
       "      <td>Quantity</td>\n",
       "      <td>34</td>\n",
       "    </tr>\n",
       "    <tr>\n",
       "      <th>15</th>\n",
       "      <td>LSKU1284</td>\n",
       "      <td>Gross Margin % - N</td>\n",
       "      <td>0.2500081520853233</td>\n",
       "    </tr>\n",
       "    <tr>\n",
       "      <th>16</th>\n",
       "      <td>LSKU1284</td>\n",
       "      <td>Gross Margin % - C</td>\n",
       "      <td>0.2500081520853233</td>\n",
       "    </tr>\n",
       "    <tr>\n",
       "      <th>17</th>\n",
       "      <td>LSKU1284</td>\n",
       "      <td>Indicator</td>\n",
       "      <td>👍</td>\n",
       "    </tr>\n",
       "    <tr>\n",
       "      <th>18</th>\n",
       "      <td>LSKU1931</td>\n",
       "      <td>Gross Profit</td>\n",
       "      <td>27</td>\n",
       "    </tr>\n",
       "    <tr>\n",
       "      <th>19</th>\n",
       "      <td>LSKU1931</td>\n",
       "      <td>Sales Amount</td>\n",
       "      <td>2700</td>\n",
       "    </tr>\n",
       "    <tr>\n",
       "      <th>20</th>\n",
       "      <td>LSKU1931</td>\n",
       "      <td>Cost of Sales</td>\n",
       "      <td>2673</td>\n",
       "    </tr>\n",
       "    <tr>\n",
       "      <th>21</th>\n",
       "      <td>LSKU1931</td>\n",
       "      <td>Price</td>\n",
       "      <td>100</td>\n",
       "    </tr>\n",
       "    <tr>\n",
       "      <th>22</th>\n",
       "      <td>LSKU1931</td>\n",
       "      <td>Unit Cost</td>\n",
       "      <td>99</td>\n",
       "    </tr>\n",
       "    <tr>\n",
       "      <th>23</th>\n",
       "      <td>LSKU1931</td>\n",
       "      <td>Quantity</td>\n",
       "      <td>27</td>\n",
       "    </tr>\n",
       "    <tr>\n",
       "      <th>24</th>\n",
       "      <td>LSKU1931</td>\n",
       "      <td>Gross Margin % - N</td>\n",
       "      <td>0.01</td>\n",
       "    </tr>\n",
       "    <tr>\n",
       "      <th>25</th>\n",
       "      <td>LSKU1931</td>\n",
       "      <td>Gross Margin % - C</td>\n",
       "      <td>0.01</td>\n",
       "    </tr>\n",
       "    <tr>\n",
       "      <th>26</th>\n",
       "      <td>LSKU1931</td>\n",
       "      <td>Indicator</td>\n",
       "      <td>😡</td>\n",
       "    </tr>\n",
       "  </tbody>\n",
       "</table>\n",
       "</div>"
      ],
      "text/plain": [
       "     Product       Measure_Sales               Value\n",
       "0   LSKU1787        Gross Profit                 120\n",
       "1   LSKU1787        Sales Amount                4000\n",
       "2   LSKU1787       Cost of Sales                3880\n",
       "3   LSKU1787               Price                 100\n",
       "4   LSKU1787           Unit Cost                  97\n",
       "5   LSKU1787            Quantity                  40\n",
       "6   LSKU1787  Gross Margin % - N                0.03\n",
       "7   LSKU1787  Gross Margin % - C                0.03\n",
       "8   LSKU1787           Indicator                   😡\n",
       "9   LSKU1284        Gross Profit   260.6780000000276\n",
       "10  LSKU1284        Sales Amount  1042.6780000000276\n",
       "11  LSKU1284       Cost of Sales                 782\n",
       "12  LSKU1284               Price  30.667000000000815\n",
       "13  LSKU1284           Unit Cost                  23\n",
       "14  LSKU1284            Quantity                  34\n",
       "15  LSKU1284  Gross Margin % - N  0.2500081520853233\n",
       "16  LSKU1284  Gross Margin % - C  0.2500081520853233\n",
       "17  LSKU1284           Indicator                   👍\n",
       "18  LSKU1931        Gross Profit                  27\n",
       "19  LSKU1931        Sales Amount                2700\n",
       "20  LSKU1931       Cost of Sales                2673\n",
       "21  LSKU1931               Price                 100\n",
       "22  LSKU1931           Unit Cost                  99\n",
       "23  LSKU1931            Quantity                  27\n",
       "24  LSKU1931  Gross Margin % - N                0.01\n",
       "25  LSKU1931  Gross Margin % - C                0.01\n",
       "26  LSKU1931           Indicator                   😡"
      ]
     },
     "execution_count": 16,
     "metadata": {},
     "output_type": "execute_result"
    }
   ],
   "source": [
    "df"
   ]
  },
  {
   "cell_type": "code",
   "execution_count": 40,
   "id": "ebeb233d",
   "metadata": {},
   "outputs": [],
   "source": [
    "with TM1Service(address='localhost',port=30059, ssl=False,user='neil',password='123') as tm1:\n",
    "    df=tm1.cells.execute_view_dataframe(cube_name='Sales',view_name='Sales BA',shaped=True)"
   ]
  },
  {
   "cell_type": "code",
   "execution_count": 41,
   "id": "cb38b611",
   "metadata": {},
   "outputs": [
    {
     "data": {
      "text/html": [
       "<div>\n",
       "<style scoped>\n",
       "    .dataframe tbody tr th:only-of-type {\n",
       "        vertical-align: middle;\n",
       "    }\n",
       "\n",
       "    .dataframe tbody tr th {\n",
       "        vertical-align: top;\n",
       "    }\n",
       "\n",
       "    .dataframe thead th {\n",
       "        text-align: right;\n",
       "    }\n",
       "</style>\n",
       "<table border=\"1\" class=\"dataframe\">\n",
       "  <thead>\n",
       "    <tr style=\"text-align: right;\">\n",
       "      <th></th>\n",
       "      <th>Product</th>\n",
       "      <th>Cost of Sales</th>\n",
       "      <th>Gross Margin % - C</th>\n",
       "      <th>Gross Margin % - N</th>\n",
       "      <th>Gross Profit</th>\n",
       "      <th>Indicator</th>\n",
       "      <th>Price</th>\n",
       "      <th>Quantity</th>\n",
       "      <th>Sales Amount</th>\n",
       "      <th>Unit Cost</th>\n",
       "    </tr>\n",
       "  </thead>\n",
       "  <tbody>\n",
       "    <tr>\n",
       "      <th>0</th>\n",
       "      <td>LSKU1787</td>\n",
       "      <td>3880</td>\n",
       "      <td>0.03</td>\n",
       "      <td>0.03</td>\n",
       "      <td>120</td>\n",
       "      <td>😡</td>\n",
       "      <td>100</td>\n",
       "      <td>40</td>\n",
       "      <td>4000</td>\n",
       "      <td>97</td>\n",
       "    </tr>\n",
       "    <tr>\n",
       "      <th>1</th>\n",
       "      <td>LSKU1284</td>\n",
       "      <td>782</td>\n",
       "      <td>0.2500081520853233</td>\n",
       "      <td>0.2500081520853233</td>\n",
       "      <td>260.6780000000276</td>\n",
       "      <td>👍</td>\n",
       "      <td>30.667000000000815</td>\n",
       "      <td>34</td>\n",
       "      <td>1042.6780000000276</td>\n",
       "      <td>23</td>\n",
       "    </tr>\n",
       "    <tr>\n",
       "      <th>2</th>\n",
       "      <td>LSKU1931</td>\n",
       "      <td>2673</td>\n",
       "      <td>0.01</td>\n",
       "      <td>0.01</td>\n",
       "      <td>27</td>\n",
       "      <td>😡</td>\n",
       "      <td>100</td>\n",
       "      <td>27</td>\n",
       "      <td>2700</td>\n",
       "      <td>99</td>\n",
       "    </tr>\n",
       "  </tbody>\n",
       "</table>\n",
       "</div>"
      ],
      "text/plain": [
       "    Product Cost of Sales  Gross Margin % - C  Gross Margin % - N  \\\n",
       "0  LSKU1787          3880                0.03                0.03   \n",
       "1  LSKU1284           782  0.2500081520853233  0.2500081520853233   \n",
       "2  LSKU1931          2673                0.01                0.01   \n",
       "\n",
       "        Gross Profit Indicator               Price Quantity  \\\n",
       "0                120         😡                 100       40   \n",
       "1  260.6780000000276         👍  30.667000000000815       34   \n",
       "2                 27         😡                 100       27   \n",
       "\n",
       "         Sales Amount Unit Cost  \n",
       "0                4000        97  \n",
       "1  1042.6780000000276        23  \n",
       "2                2700        99  "
      ]
     },
     "execution_count": 41,
     "metadata": {},
     "output_type": "execute_result"
    }
   ],
   "source": [
    "df"
   ]
  },
  {
   "cell_type": "code",
   "execution_count": 18,
   "id": "e7a058b6",
   "metadata": {},
   "outputs": [
    {
     "data": {
      "text/plain": [
       "{('[SA Year].[SA Year].[2021]', '[SA Month].[SA Month].[M08]', '[Version].[Version].[WIP]', '[Location].[Location].[US]', '[Business Unit FPA].[Business Unit FPA].[BU01]', '[Product].[Product].[LSKU1787]', '[Data Source].[Data Source].[Input]', '[Measure_Sales].[Measure_Sales].[Gross Profit]'): {'Value': 120}, ('[SA Year].[SA Year].[2021]', '[SA Month].[SA Month].[M08]', '[Version].[Version].[WIP]', '[Location].[Location].[US]', '[Business Unit FPA].[Business Unit FPA].[BU01]', '[Product].[Product].[LSKU1787]', '[Data Source].[Data Source].[Input]', '[Measure_Sales].[Measure_Sales].[Sales Amount]'): {'Value': 4000}, ('[SA Year].[SA Year].[2021]', '[SA Month].[SA Month].[M08]', '[Version].[Version].[WIP]', '[Location].[Location].[US]', '[Business Unit FPA].[Business Unit FPA].[BU01]', '[Product].[Product].[LSKU1787]', '[Data Source].[Data Source].[Input]', '[Measure_Sales].[Measure_Sales].[Cost of Sales]'): {'Value': 3880}, ('[SA Year].[SA Year].[2021]', '[SA Month].[SA Month].[M08]', '[Version].[Version].[WIP]', '[Location].[Location].[US]', '[Business Unit FPA].[Business Unit FPA].[BU01]', '[Product].[Product].[LSKU1787]', '[Data Source].[Data Source].[Input]', '[Measure_Sales].[Measure_Sales].[Price]'): {'Value': 100}, ('[SA Year].[SA Year].[2021]', '[SA Month].[SA Month].[M08]', '[Version].[Version].[WIP]', '[Location].[Location].[US]', '[Business Unit FPA].[Business Unit FPA].[BU01]', '[Product].[Product].[LSKU1787]', '[Data Source].[Data Source].[Input]', '[Measure_Sales].[Measure_Sales].[Unit Cost]'): {'Value': 97}, ('[SA Year].[SA Year].[2021]', '[SA Month].[SA Month].[M08]', '[Version].[Version].[WIP]', '[Location].[Location].[US]', '[Business Unit FPA].[Business Unit FPA].[BU01]', '[Product].[Product].[LSKU1787]', '[Data Source].[Data Source].[Input]', '[Measure_Sales].[Measure_Sales].[Quantity]'): {'Value': 40}, ('[SA Year].[SA Year].[2021]', '[SA Month].[SA Month].[M08]', '[Version].[Version].[WIP]', '[Location].[Location].[US]', '[Business Unit FPA].[Business Unit FPA].[BU01]', '[Product].[Product].[LSKU1787]', '[Data Source].[Data Source].[Input]', '[Measure_Sales].[Measure_Sales].[Gross Margin % - N]'): {'Value': 0.03}, ('[SA Year].[SA Year].[2021]', '[SA Month].[SA Month].[M08]', '[Version].[Version].[WIP]', '[Location].[Location].[US]', '[Business Unit FPA].[Business Unit FPA].[BU01]', '[Product].[Product].[LSKU1787]', '[Data Source].[Data Source].[Input]', '[Measure_Sales].[Measure_Sales].[Gross Margin % - C]'): {'Value': 0.03}, ('[SA Year].[SA Year].[2021]', '[SA Month].[SA Month].[M08]', '[Version].[Version].[WIP]', '[Location].[Location].[US]', '[Business Unit FPA].[Business Unit FPA].[BU01]', '[Product].[Product].[LSKU1787]', '[Data Source].[Data Source].[Input]', '[Measure_Sales].[Measure_Sales].[Indicator]'): {'Value': '😡'}, ('[SA Year].[SA Year].[2021]', '[SA Month].[SA Month].[M08]', '[Version].[Version].[WIP]', '[Location].[Location].[US]', '[Business Unit FPA].[Business Unit FPA].[BU01]', '[Product].[Product].[LSKU1284]', '[Data Source].[Data Source].[Input]', '[Measure_Sales].[Measure_Sales].[Gross Profit]'): {'Value': 260.6780000000276}, ('[SA Year].[SA Year].[2021]', '[SA Month].[SA Month].[M08]', '[Version].[Version].[WIP]', '[Location].[Location].[US]', '[Business Unit FPA].[Business Unit FPA].[BU01]', '[Product].[Product].[LSKU1284]', '[Data Source].[Data Source].[Input]', '[Measure_Sales].[Measure_Sales].[Sales Amount]'): {'Value': 1042.6780000000276}, ('[SA Year].[SA Year].[2021]', '[SA Month].[SA Month].[M08]', '[Version].[Version].[WIP]', '[Location].[Location].[US]', '[Business Unit FPA].[Business Unit FPA].[BU01]', '[Product].[Product].[LSKU1284]', '[Data Source].[Data Source].[Input]', '[Measure_Sales].[Measure_Sales].[Cost of Sales]'): {'Value': 782}, ('[SA Year].[SA Year].[2021]', '[SA Month].[SA Month].[M08]', '[Version].[Version].[WIP]', '[Location].[Location].[US]', '[Business Unit FPA].[Business Unit FPA].[BU01]', '[Product].[Product].[LSKU1284]', '[Data Source].[Data Source].[Input]', '[Measure_Sales].[Measure_Sales].[Price]'): {'Value': 30.667000000000815}, ('[SA Year].[SA Year].[2021]', '[SA Month].[SA Month].[M08]', '[Version].[Version].[WIP]', '[Location].[Location].[US]', '[Business Unit FPA].[Business Unit FPA].[BU01]', '[Product].[Product].[LSKU1284]', '[Data Source].[Data Source].[Input]', '[Measure_Sales].[Measure_Sales].[Unit Cost]'): {'Value': 23}, ('[SA Year].[SA Year].[2021]', '[SA Month].[SA Month].[M08]', '[Version].[Version].[WIP]', '[Location].[Location].[US]', '[Business Unit FPA].[Business Unit FPA].[BU01]', '[Product].[Product].[LSKU1284]', '[Data Source].[Data Source].[Input]', '[Measure_Sales].[Measure_Sales].[Quantity]'): {'Value': 34}, ('[SA Year].[SA Year].[2021]', '[SA Month].[SA Month].[M08]', '[Version].[Version].[WIP]', '[Location].[Location].[US]', '[Business Unit FPA].[Business Unit FPA].[BU01]', '[Product].[Product].[LSKU1284]', '[Data Source].[Data Source].[Input]', '[Measure_Sales].[Measure_Sales].[Gross Margin % - N]'): {'Value': 0.2500081520853233}, ('[SA Year].[SA Year].[2021]', '[SA Month].[SA Month].[M08]', '[Version].[Version].[WIP]', '[Location].[Location].[US]', '[Business Unit FPA].[Business Unit FPA].[BU01]', '[Product].[Product].[LSKU1284]', '[Data Source].[Data Source].[Input]', '[Measure_Sales].[Measure_Sales].[Gross Margin % - C]'): {'Value': 0.2500081520853233}, ('[SA Year].[SA Year].[2021]', '[SA Month].[SA Month].[M08]', '[Version].[Version].[WIP]', '[Location].[Location].[US]', '[Business Unit FPA].[Business Unit FPA].[BU01]', '[Product].[Product].[LSKU1284]', '[Data Source].[Data Source].[Input]', '[Measure_Sales].[Measure_Sales].[Indicator]'): {'Value': '👍'}, ('[SA Year].[SA Year].[2021]', '[SA Month].[SA Month].[M08]', '[Version].[Version].[WIP]', '[Location].[Location].[US]', '[Business Unit FPA].[Business Unit FPA].[BU01]', '[Product].[Product].[LSKU1931]', '[Data Source].[Data Source].[Input]', '[Measure_Sales].[Measure_Sales].[Gross Profit]'): {'Value': 27}, ('[SA Year].[SA Year].[2021]', '[SA Month].[SA Month].[M08]', '[Version].[Version].[WIP]', '[Location].[Location].[US]', '[Business Unit FPA].[Business Unit FPA].[BU01]', '[Product].[Product].[LSKU1931]', '[Data Source].[Data Source].[Input]', '[Measure_Sales].[Measure_Sales].[Sales Amount]'): {'Value': 2700}, ('[SA Year].[SA Year].[2021]', '[SA Month].[SA Month].[M08]', '[Version].[Version].[WIP]', '[Location].[Location].[US]', '[Business Unit FPA].[Business Unit FPA].[BU01]', '[Product].[Product].[LSKU1931]', '[Data Source].[Data Source].[Input]', '[Measure_Sales].[Measure_Sales].[Cost of Sales]'): {'Value': 2673}, ('[SA Year].[SA Year].[2021]', '[SA Month].[SA Month].[M08]', '[Version].[Version].[WIP]', '[Location].[Location].[US]', '[Business Unit FPA].[Business Unit FPA].[BU01]', '[Product].[Product].[LSKU1931]', '[Data Source].[Data Source].[Input]', '[Measure_Sales].[Measure_Sales].[Price]'): {'Value': 100}, ('[SA Year].[SA Year].[2021]', '[SA Month].[SA Month].[M08]', '[Version].[Version].[WIP]', '[Location].[Location].[US]', '[Business Unit FPA].[Business Unit FPA].[BU01]', '[Product].[Product].[LSKU1931]', '[Data Source].[Data Source].[Input]', '[Measure_Sales].[Measure_Sales].[Unit Cost]'): {'Value': 99}, ('[SA Year].[SA Year].[2021]', '[SA Month].[SA Month].[M08]', '[Version].[Version].[WIP]', '[Location].[Location].[US]', '[Business Unit FPA].[Business Unit FPA].[BU01]', '[Product].[Product].[LSKU1931]', '[Data Source].[Data Source].[Input]', '[Measure_Sales].[Measure_Sales].[Quantity]'): {'Value': 27}, ('[SA Year].[SA Year].[2021]', '[SA Month].[SA Month].[M08]', '[Version].[Version].[WIP]', '[Location].[Location].[US]', '[Business Unit FPA].[Business Unit FPA].[BU01]', '[Product].[Product].[LSKU1931]', '[Data Source].[Data Source].[Input]', '[Measure_Sales].[Measure_Sales].[Gross Margin % - N]'): {'Value': 0.01}, ('[SA Year].[SA Year].[2021]', '[SA Month].[SA Month].[M08]', '[Version].[Version].[WIP]', '[Location].[Location].[US]', '[Business Unit FPA].[Business Unit FPA].[BU01]', '[Product].[Product].[LSKU1931]', '[Data Source].[Data Source].[Input]', '[Measure_Sales].[Measure_Sales].[Gross Margin % - C]'): {'Value': 0.01}, ('[SA Year].[SA Year].[2021]', '[SA Month].[SA Month].[M08]', '[Version].[Version].[WIP]', '[Location].[Location].[US]', '[Business Unit FPA].[Business Unit FPA].[BU01]', '[Product].[Product].[LSKU1931]', '[Data Source].[Data Source].[Input]', '[Measure_Sales].[Measure_Sales].[Indicator]'): {'Value': '😡'}}"
      ]
     },
     "execution_count": 18,
     "metadata": {},
     "output_type": "execute_result"
    }
   ],
   "source": [
    "cells"
   ]
  },
  {
   "cell_type": "code",
   "execution_count": 19,
   "id": "21552c63",
   "metadata": {},
   "outputs": [],
   "source": [
    "dic={'A':1,'B':2}"
   ]
  },
  {
   "cell_type": "code",
   "execution_count": 20,
   "id": "c54688df",
   "metadata": {},
   "outputs": [
    {
     "data": {
      "text/plain": [
       "dict"
      ]
     },
     "execution_count": 20,
     "metadata": {},
     "output_type": "execute_result"
    }
   ],
   "source": [
    "type(dic)"
   ]
  },
  {
   "cell_type": "code",
   "execution_count": 21,
   "id": "f101ebde",
   "metadata": {},
   "outputs": [
    {
     "data": {
      "text/plain": [
       "dict_items([('A', 1), ('B', 2)])"
      ]
     },
     "execution_count": 21,
     "metadata": {},
     "output_type": "execute_result"
    }
   ],
   "source": [
    "dic.items()"
   ]
  },
  {
   "cell_type": "code",
   "execution_count": 23,
   "id": "d212e311",
   "metadata": {},
   "outputs": [
    {
     "name": "stdout",
     "output_type": "stream",
     "text": [
      "A 1\n",
      "B 2\n"
     ]
    }
   ],
   "source": [
    "for a,b in dic.items():\n",
    "    print(a,b)"
   ]
  },
  {
   "cell_type": "code",
   "execution_count": 24,
   "id": "cd2f277d",
   "metadata": {},
   "outputs": [
    {
     "name": "stdout",
     "output_type": "stream",
     "text": [
      "('[SA Year].[SA Year].[2021]', '[SA Month].[SA Month].[M08]', '[Version].[Version].[WIP]', '[Location].[Location].[US]', '[Business Unit FPA].[Business Unit FPA].[BU01]', '[Product].[Product].[LSKU1787]', '[Data Source].[Data Source].[Input]', '[Measure_Sales].[Measure_Sales].[Gross Profit]') {'Value': 120}\n",
      "('[SA Year].[SA Year].[2021]', '[SA Month].[SA Month].[M08]', '[Version].[Version].[WIP]', '[Location].[Location].[US]', '[Business Unit FPA].[Business Unit FPA].[BU01]', '[Product].[Product].[LSKU1787]', '[Data Source].[Data Source].[Input]', '[Measure_Sales].[Measure_Sales].[Sales Amount]') {'Value': 4000}\n",
      "('[SA Year].[SA Year].[2021]', '[SA Month].[SA Month].[M08]', '[Version].[Version].[WIP]', '[Location].[Location].[US]', '[Business Unit FPA].[Business Unit FPA].[BU01]', '[Product].[Product].[LSKU1787]', '[Data Source].[Data Source].[Input]', '[Measure_Sales].[Measure_Sales].[Cost of Sales]') {'Value': 3880}\n",
      "('[SA Year].[SA Year].[2021]', '[SA Month].[SA Month].[M08]', '[Version].[Version].[WIP]', '[Location].[Location].[US]', '[Business Unit FPA].[Business Unit FPA].[BU01]', '[Product].[Product].[LSKU1787]', '[Data Source].[Data Source].[Input]', '[Measure_Sales].[Measure_Sales].[Price]') {'Value': 100}\n",
      "('[SA Year].[SA Year].[2021]', '[SA Month].[SA Month].[M08]', '[Version].[Version].[WIP]', '[Location].[Location].[US]', '[Business Unit FPA].[Business Unit FPA].[BU01]', '[Product].[Product].[LSKU1787]', '[Data Source].[Data Source].[Input]', '[Measure_Sales].[Measure_Sales].[Unit Cost]') {'Value': 97}\n",
      "('[SA Year].[SA Year].[2021]', '[SA Month].[SA Month].[M08]', '[Version].[Version].[WIP]', '[Location].[Location].[US]', '[Business Unit FPA].[Business Unit FPA].[BU01]', '[Product].[Product].[LSKU1787]', '[Data Source].[Data Source].[Input]', '[Measure_Sales].[Measure_Sales].[Quantity]') {'Value': 40}\n",
      "('[SA Year].[SA Year].[2021]', '[SA Month].[SA Month].[M08]', '[Version].[Version].[WIP]', '[Location].[Location].[US]', '[Business Unit FPA].[Business Unit FPA].[BU01]', '[Product].[Product].[LSKU1787]', '[Data Source].[Data Source].[Input]', '[Measure_Sales].[Measure_Sales].[Gross Margin % - N]') {'Value': 0.03}\n",
      "('[SA Year].[SA Year].[2021]', '[SA Month].[SA Month].[M08]', '[Version].[Version].[WIP]', '[Location].[Location].[US]', '[Business Unit FPA].[Business Unit FPA].[BU01]', '[Product].[Product].[LSKU1787]', '[Data Source].[Data Source].[Input]', '[Measure_Sales].[Measure_Sales].[Gross Margin % - C]') {'Value': 0.03}\n",
      "('[SA Year].[SA Year].[2021]', '[SA Month].[SA Month].[M08]', '[Version].[Version].[WIP]', '[Location].[Location].[US]', '[Business Unit FPA].[Business Unit FPA].[BU01]', '[Product].[Product].[LSKU1787]', '[Data Source].[Data Source].[Input]', '[Measure_Sales].[Measure_Sales].[Indicator]') {'Value': '😡'}\n",
      "('[SA Year].[SA Year].[2021]', '[SA Month].[SA Month].[M08]', '[Version].[Version].[WIP]', '[Location].[Location].[US]', '[Business Unit FPA].[Business Unit FPA].[BU01]', '[Product].[Product].[LSKU1284]', '[Data Source].[Data Source].[Input]', '[Measure_Sales].[Measure_Sales].[Gross Profit]') {'Value': 260.6780000000276}\n",
      "('[SA Year].[SA Year].[2021]', '[SA Month].[SA Month].[M08]', '[Version].[Version].[WIP]', '[Location].[Location].[US]', '[Business Unit FPA].[Business Unit FPA].[BU01]', '[Product].[Product].[LSKU1284]', '[Data Source].[Data Source].[Input]', '[Measure_Sales].[Measure_Sales].[Sales Amount]') {'Value': 1042.6780000000276}\n",
      "('[SA Year].[SA Year].[2021]', '[SA Month].[SA Month].[M08]', '[Version].[Version].[WIP]', '[Location].[Location].[US]', '[Business Unit FPA].[Business Unit FPA].[BU01]', '[Product].[Product].[LSKU1284]', '[Data Source].[Data Source].[Input]', '[Measure_Sales].[Measure_Sales].[Cost of Sales]') {'Value': 782}\n",
      "('[SA Year].[SA Year].[2021]', '[SA Month].[SA Month].[M08]', '[Version].[Version].[WIP]', '[Location].[Location].[US]', '[Business Unit FPA].[Business Unit FPA].[BU01]', '[Product].[Product].[LSKU1284]', '[Data Source].[Data Source].[Input]', '[Measure_Sales].[Measure_Sales].[Price]') {'Value': 30.667000000000815}\n",
      "('[SA Year].[SA Year].[2021]', '[SA Month].[SA Month].[M08]', '[Version].[Version].[WIP]', '[Location].[Location].[US]', '[Business Unit FPA].[Business Unit FPA].[BU01]', '[Product].[Product].[LSKU1284]', '[Data Source].[Data Source].[Input]', '[Measure_Sales].[Measure_Sales].[Unit Cost]') {'Value': 23}\n",
      "('[SA Year].[SA Year].[2021]', '[SA Month].[SA Month].[M08]', '[Version].[Version].[WIP]', '[Location].[Location].[US]', '[Business Unit FPA].[Business Unit FPA].[BU01]', '[Product].[Product].[LSKU1284]', '[Data Source].[Data Source].[Input]', '[Measure_Sales].[Measure_Sales].[Quantity]') {'Value': 34}\n",
      "('[SA Year].[SA Year].[2021]', '[SA Month].[SA Month].[M08]', '[Version].[Version].[WIP]', '[Location].[Location].[US]', '[Business Unit FPA].[Business Unit FPA].[BU01]', '[Product].[Product].[LSKU1284]', '[Data Source].[Data Source].[Input]', '[Measure_Sales].[Measure_Sales].[Gross Margin % - N]') {'Value': 0.2500081520853233}\n",
      "('[SA Year].[SA Year].[2021]', '[SA Month].[SA Month].[M08]', '[Version].[Version].[WIP]', '[Location].[Location].[US]', '[Business Unit FPA].[Business Unit FPA].[BU01]', '[Product].[Product].[LSKU1284]', '[Data Source].[Data Source].[Input]', '[Measure_Sales].[Measure_Sales].[Gross Margin % - C]') {'Value': 0.2500081520853233}\n",
      "('[SA Year].[SA Year].[2021]', '[SA Month].[SA Month].[M08]', '[Version].[Version].[WIP]', '[Location].[Location].[US]', '[Business Unit FPA].[Business Unit FPA].[BU01]', '[Product].[Product].[LSKU1284]', '[Data Source].[Data Source].[Input]', '[Measure_Sales].[Measure_Sales].[Indicator]') {'Value': '👍'}\n",
      "('[SA Year].[SA Year].[2021]', '[SA Month].[SA Month].[M08]', '[Version].[Version].[WIP]', '[Location].[Location].[US]', '[Business Unit FPA].[Business Unit FPA].[BU01]', '[Product].[Product].[LSKU1931]', '[Data Source].[Data Source].[Input]', '[Measure_Sales].[Measure_Sales].[Gross Profit]') {'Value': 27}\n",
      "('[SA Year].[SA Year].[2021]', '[SA Month].[SA Month].[M08]', '[Version].[Version].[WIP]', '[Location].[Location].[US]', '[Business Unit FPA].[Business Unit FPA].[BU01]', '[Product].[Product].[LSKU1931]', '[Data Source].[Data Source].[Input]', '[Measure_Sales].[Measure_Sales].[Sales Amount]') {'Value': 2700}\n",
      "('[SA Year].[SA Year].[2021]', '[SA Month].[SA Month].[M08]', '[Version].[Version].[WIP]', '[Location].[Location].[US]', '[Business Unit FPA].[Business Unit FPA].[BU01]', '[Product].[Product].[LSKU1931]', '[Data Source].[Data Source].[Input]', '[Measure_Sales].[Measure_Sales].[Cost of Sales]') {'Value': 2673}\n",
      "('[SA Year].[SA Year].[2021]', '[SA Month].[SA Month].[M08]', '[Version].[Version].[WIP]', '[Location].[Location].[US]', '[Business Unit FPA].[Business Unit FPA].[BU01]', '[Product].[Product].[LSKU1931]', '[Data Source].[Data Source].[Input]', '[Measure_Sales].[Measure_Sales].[Price]') {'Value': 100}\n",
      "('[SA Year].[SA Year].[2021]', '[SA Month].[SA Month].[M08]', '[Version].[Version].[WIP]', '[Location].[Location].[US]', '[Business Unit FPA].[Business Unit FPA].[BU01]', '[Product].[Product].[LSKU1931]', '[Data Source].[Data Source].[Input]', '[Measure_Sales].[Measure_Sales].[Unit Cost]') {'Value': 99}\n",
      "('[SA Year].[SA Year].[2021]', '[SA Month].[SA Month].[M08]', '[Version].[Version].[WIP]', '[Location].[Location].[US]', '[Business Unit FPA].[Business Unit FPA].[BU01]', '[Product].[Product].[LSKU1931]', '[Data Source].[Data Source].[Input]', '[Measure_Sales].[Measure_Sales].[Quantity]') {'Value': 27}\n",
      "('[SA Year].[SA Year].[2021]', '[SA Month].[SA Month].[M08]', '[Version].[Version].[WIP]', '[Location].[Location].[US]', '[Business Unit FPA].[Business Unit FPA].[BU01]', '[Product].[Product].[LSKU1931]', '[Data Source].[Data Source].[Input]', '[Measure_Sales].[Measure_Sales].[Gross Margin % - N]') {'Value': 0.01}\n",
      "('[SA Year].[SA Year].[2021]', '[SA Month].[SA Month].[M08]', '[Version].[Version].[WIP]', '[Location].[Location].[US]', '[Business Unit FPA].[Business Unit FPA].[BU01]', '[Product].[Product].[LSKU1931]', '[Data Source].[Data Source].[Input]', '[Measure_Sales].[Measure_Sales].[Gross Margin % - C]') {'Value': 0.01}\n",
      "('[SA Year].[SA Year].[2021]', '[SA Month].[SA Month].[M08]', '[Version].[Version].[WIP]', '[Location].[Location].[US]', '[Business Unit FPA].[Business Unit FPA].[BU01]', '[Product].[Product].[LSKU1931]', '[Data Source].[Data Source].[Input]', '[Measure_Sales].[Measure_Sales].[Indicator]') {'Value': '😡'}\n"
     ]
    }
   ],
   "source": [
    "for element,value in cells.items():\n",
    "    print(element,value)"
   ]
  },
  {
   "cell_type": "code",
   "execution_count": 25,
   "id": "90adb3f8",
   "metadata": {},
   "outputs": [],
   "source": [
    "with TM1Service(address='localhost',port=30059, ssl=False,user='neil',password='123') as tm1:\n",
    "    cells=tm1.cells.execute_view(cube_name='Sales',view_name='Sales BA',element_unique_names=False)"
   ]
  },
  {
   "cell_type": "code",
   "execution_count": 26,
   "id": "8eb19c1d",
   "metadata": {},
   "outputs": [
    {
     "data": {
      "text/plain": [
       "{('2021', 'M08', 'WIP', 'US', 'BU01', 'LSKU1787', 'Input', 'Gross Profit'): {'Value': 120}, ('2021', 'M08', 'WIP', 'US', 'BU01', 'LSKU1787', 'Input', 'Sales Amount'): {'Value': 4000}, ('2021', 'M08', 'WIP', 'US', 'BU01', 'LSKU1787', 'Input', 'Cost of Sales'): {'Value': 3880}, ('2021', 'M08', 'WIP', 'US', 'BU01', 'LSKU1787', 'Input', 'Price'): {'Value': 100}, ('2021', 'M08', 'WIP', 'US', 'BU01', 'LSKU1787', 'Input', 'Unit Cost'): {'Value': 97}, ('2021', 'M08', 'WIP', 'US', 'BU01', 'LSKU1787', 'Input', 'Quantity'): {'Value': 40}, ('2021', 'M08', 'WIP', 'US', 'BU01', 'LSKU1787', 'Input', 'Gross Margin % - N'): {'Value': 0.03}, ('2021', 'M08', 'WIP', 'US', 'BU01', 'LSKU1787', 'Input', 'Gross Margin % - C'): {'Value': 0.03}, ('2021', 'M08', 'WIP', 'US', 'BU01', 'LSKU1787', 'Input', 'Indicator'): {'Value': '😡'}, ('2021', 'M08', 'WIP', 'US', 'BU01', 'LSKU1284', 'Input', 'Gross Profit'): {'Value': 260.6780000000276}, ('2021', 'M08', 'WIP', 'US', 'BU01', 'LSKU1284', 'Input', 'Sales Amount'): {'Value': 1042.6780000000276}, ('2021', 'M08', 'WIP', 'US', 'BU01', 'LSKU1284', 'Input', 'Cost of Sales'): {'Value': 782}, ('2021', 'M08', 'WIP', 'US', 'BU01', 'LSKU1284', 'Input', 'Price'): {'Value': 30.667000000000815}, ('2021', 'M08', 'WIP', 'US', 'BU01', 'LSKU1284', 'Input', 'Unit Cost'): {'Value': 23}, ('2021', 'M08', 'WIP', 'US', 'BU01', 'LSKU1284', 'Input', 'Quantity'): {'Value': 34}, ('2021', 'M08', 'WIP', 'US', 'BU01', 'LSKU1284', 'Input', 'Gross Margin % - N'): {'Value': 0.2500081520853233}, ('2021', 'M08', 'WIP', 'US', 'BU01', 'LSKU1284', 'Input', 'Gross Margin % - C'): {'Value': 0.2500081520853233}, ('2021', 'M08', 'WIP', 'US', 'BU01', 'LSKU1284', 'Input', 'Indicator'): {'Value': '👍'}, ('2021', 'M08', 'WIP', 'US', 'BU01', 'LSKU1931', 'Input', 'Gross Profit'): {'Value': 27}, ('2021', 'M08', 'WIP', 'US', 'BU01', 'LSKU1931', 'Input', 'Sales Amount'): {'Value': 2700}, ('2021', 'M08', 'WIP', 'US', 'BU01', 'LSKU1931', 'Input', 'Cost of Sales'): {'Value': 2673}, ('2021', 'M08', 'WIP', 'US', 'BU01', 'LSKU1931', 'Input', 'Price'): {'Value': 100}, ('2021', 'M08', 'WIP', 'US', 'BU01', 'LSKU1931', 'Input', 'Unit Cost'): {'Value': 99}, ('2021', 'M08', 'WIP', 'US', 'BU01', 'LSKU1931', 'Input', 'Quantity'): {'Value': 27}, ('2021', 'M08', 'WIP', 'US', 'BU01', 'LSKU1931', 'Input', 'Gross Margin % - N'): {'Value': 0.01}, ('2021', 'M08', 'WIP', 'US', 'BU01', 'LSKU1931', 'Input', 'Gross Margin % - C'): {'Value': 0.01}, ('2021', 'M08', 'WIP', 'US', 'BU01', 'LSKU1931', 'Input', 'Indicator'): {'Value': '😡'}}"
      ]
     },
     "execution_count": 26,
     "metadata": {},
     "output_type": "execute_result"
    }
   ],
   "source": [
    "cells"
   ]
  },
  {
   "cell_type": "code",
   "execution_count": 27,
   "id": "8d20b8b1",
   "metadata": {},
   "outputs": [],
   "source": [
    "with TM1Service(address='localhost',port=30059, ssl=False,user='neil',password='123') as tm1:\n",
    "    cells=tm1.cells.execute_view(cube_name='Sales',view_name='Sales BA',element_unique_names=False,skip_cell_properties=True)"
   ]
  },
  {
   "cell_type": "code",
   "execution_count": 28,
   "id": "03f10d93",
   "metadata": {},
   "outputs": [
    {
     "data": {
      "text/plain": [
       "{('2021', 'M08', 'WIP', 'US', 'BU01', 'LSKU1787', 'Input', 'Gross Profit'): 120, ('2021', 'M08', 'WIP', 'US', 'BU01', 'LSKU1787', 'Input', 'Sales Amount'): 4000, ('2021', 'M08', 'WIP', 'US', 'BU01', 'LSKU1787', 'Input', 'Cost of Sales'): 3880, ('2021', 'M08', 'WIP', 'US', 'BU01', 'LSKU1787', 'Input', 'Price'): 100, ('2021', 'M08', 'WIP', 'US', 'BU01', 'LSKU1787', 'Input', 'Unit Cost'): 97, ('2021', 'M08', 'WIP', 'US', 'BU01', 'LSKU1787', 'Input', 'Quantity'): 40, ('2021', 'M08', 'WIP', 'US', 'BU01', 'LSKU1787', 'Input', 'Gross Margin % - N'): 0.03, ('2021', 'M08', 'WIP', 'US', 'BU01', 'LSKU1787', 'Input', 'Gross Margin % - C'): 0.03, ('2021', 'M08', 'WIP', 'US', 'BU01', 'LSKU1787', 'Input', 'Indicator'): '😡', ('2021', 'M08', 'WIP', 'US', 'BU01', 'LSKU1284', 'Input', 'Gross Profit'): 260.6780000000276, ('2021', 'M08', 'WIP', 'US', 'BU01', 'LSKU1284', 'Input', 'Sales Amount'): 1042.6780000000276, ('2021', 'M08', 'WIP', 'US', 'BU01', 'LSKU1284', 'Input', 'Cost of Sales'): 782, ('2021', 'M08', 'WIP', 'US', 'BU01', 'LSKU1284', 'Input', 'Price'): 30.667000000000815, ('2021', 'M08', 'WIP', 'US', 'BU01', 'LSKU1284', 'Input', 'Unit Cost'): 23, ('2021', 'M08', 'WIP', 'US', 'BU01', 'LSKU1284', 'Input', 'Quantity'): 34, ('2021', 'M08', 'WIP', 'US', 'BU01', 'LSKU1284', 'Input', 'Gross Margin % - N'): 0.2500081520853233, ('2021', 'M08', 'WIP', 'US', 'BU01', 'LSKU1284', 'Input', 'Gross Margin % - C'): 0.2500081520853233, ('2021', 'M08', 'WIP', 'US', 'BU01', 'LSKU1284', 'Input', 'Indicator'): '👍', ('2021', 'M08', 'WIP', 'US', 'BU01', 'LSKU1931', 'Input', 'Gross Profit'): 27, ('2021', 'M08', 'WIP', 'US', 'BU01', 'LSKU1931', 'Input', 'Sales Amount'): 2700, ('2021', 'M08', 'WIP', 'US', 'BU01', 'LSKU1931', 'Input', 'Cost of Sales'): 2673, ('2021', 'M08', 'WIP', 'US', 'BU01', 'LSKU1931', 'Input', 'Price'): 100, ('2021', 'M08', 'WIP', 'US', 'BU01', 'LSKU1931', 'Input', 'Unit Cost'): 99, ('2021', 'M08', 'WIP', 'US', 'BU01', 'LSKU1931', 'Input', 'Quantity'): 27, ('2021', 'M08', 'WIP', 'US', 'BU01', 'LSKU1931', 'Input', 'Gross Margin % - N'): 0.01, ('2021', 'M08', 'WIP', 'US', 'BU01', 'LSKU1931', 'Input', 'Gross Margin % - C'): 0.01, ('2021', 'M08', 'WIP', 'US', 'BU01', 'LSKU1931', 'Input', 'Indicator'): '😡'}"
      ]
     },
     "execution_count": 28,
     "metadata": {},
     "output_type": "execute_result"
    }
   ],
   "source": [
    "cells"
   ]
  },
  {
   "cell_type": "code",
   "execution_count": 29,
   "id": "853da97b",
   "metadata": {},
   "outputs": [],
   "source": [
    "with TM1Service(address='localhost',port=30059, ssl=False,user='neil',password='123') as tm1:\n",
    "    cells=tm1.cells.execute_view(cube_name='Sales',view_name='Sales BA',element_unique_names=False,skip_cell_properties=True,skip_contexts=True)"
   ]
  },
  {
   "cell_type": "code",
   "execution_count": 30,
   "id": "1f003ccb",
   "metadata": {},
   "outputs": [
    {
     "data": {
      "text/plain": [
       "{('LSKU1787', 'Gross Profit'): 120, ('LSKU1787', 'Sales Amount'): 4000, ('LSKU1787', 'Cost of Sales'): 3880, ('LSKU1787', 'Price'): 100, ('LSKU1787', 'Unit Cost'): 97, ('LSKU1787', 'Quantity'): 40, ('LSKU1787', 'Gross Margin % - N'): 0.03, ('LSKU1787', 'Gross Margin % - C'): 0.03, ('LSKU1787', 'Indicator'): '😡', ('LSKU1284', 'Gross Profit'): 260.6780000000276, ('LSKU1284', 'Sales Amount'): 1042.6780000000276, ('LSKU1284', 'Cost of Sales'): 782, ('LSKU1284', 'Price'): 30.667000000000815, ('LSKU1284', 'Unit Cost'): 23, ('LSKU1284', 'Quantity'): 34, ('LSKU1284', 'Gross Margin % - N'): 0.2500081520853233, ('LSKU1284', 'Gross Margin % - C'): 0.2500081520853233, ('LSKU1284', 'Indicator'): '👍', ('LSKU1931', 'Gross Profit'): 27, ('LSKU1931', 'Sales Amount'): 2700, ('LSKU1931', 'Cost of Sales'): 2673, ('LSKU1931', 'Price'): 100, ('LSKU1931', 'Unit Cost'): 99, ('LSKU1931', 'Quantity'): 27, ('LSKU1931', 'Gross Margin % - N'): 0.01, ('LSKU1931', 'Gross Margin % - C'): 0.01, ('LSKU1931', 'Indicator'): '😡'}"
      ]
     },
     "execution_count": 30,
     "metadata": {},
     "output_type": "execute_result"
    }
   ],
   "source": [
    "cells"
   ]
  },
  {
   "cell_type": "code",
   "execution_count": 31,
   "id": "36ccaebc",
   "metadata": {},
   "outputs": [],
   "source": [
    "with TM1Service(address='localhost',port=30059, ssl=False,user='neil',password='123') as tm1:\n",
    "    cells=tm1.cells.execute_view(cube_name='Sales',view_name='Sales BA',element_unique_names=False,skip_cell_properties=True,skip_contexts=True,skip_zeros=True)"
   ]
  },
  {
   "cell_type": "code",
   "execution_count": 32,
   "id": "2657e6a6",
   "metadata": {},
   "outputs": [
    {
     "data": {
      "text/plain": [
       "{('LSKU1787', 'Gross Profit'): 120, ('LSKU1787', 'Sales Amount'): 4000, ('LSKU1787', 'Cost of Sales'): 3880, ('LSKU1787', 'Price'): 100, ('LSKU1787', 'Unit Cost'): 97, ('LSKU1787', 'Quantity'): 40, ('LSKU1787', 'Gross Margin % - N'): 0.03, ('LSKU1787', 'Gross Margin % - C'): 0.03, ('LSKU1787', 'Indicator'): '😡', ('LSKU1284', 'Gross Profit'): 260.6780000000276, ('LSKU1284', 'Sales Amount'): 1042.6780000000276, ('LSKU1284', 'Cost of Sales'): 782, ('LSKU1284', 'Price'): 30.667000000000815, ('LSKU1284', 'Unit Cost'): 23, ('LSKU1284', 'Quantity'): 34, ('LSKU1284', 'Gross Margin % - N'): 0.2500081520853233, ('LSKU1284', 'Gross Margin % - C'): 0.2500081520853233, ('LSKU1284', 'Indicator'): '👍', ('LSKU1931', 'Gross Profit'): 27, ('LSKU1931', 'Sales Amount'): 2700, ('LSKU1931', 'Cost of Sales'): 2673, ('LSKU1931', 'Price'): 100, ('LSKU1931', 'Unit Cost'): 99, ('LSKU1931', 'Quantity'): 27, ('LSKU1931', 'Gross Margin % - N'): 0.01, ('LSKU1931', 'Gross Margin % - C'): 0.01, ('LSKU1931', 'Indicator'): '😡'}"
      ]
     },
     "execution_count": 32,
     "metadata": {},
     "output_type": "execute_result"
    }
   ],
   "source": [
    "cells"
   ]
  },
  {
   "cell_type": "code",
   "execution_count": 33,
   "id": "6cf981ea",
   "metadata": {},
   "outputs": [],
   "source": [
    "with TM1Service(address='localhost',port=30059, ssl=False,user='neil',password='123') as tm1:\n",
    "    cells_n=tm1.cells.execute_view_cellcount(cube_name='Sales',view_name='Sales BA')"
   ]
  },
  {
   "cell_type": "code",
   "execution_count": 34,
   "id": "1a62e0ec",
   "metadata": {},
   "outputs": [
    {
     "data": {
      "text/plain": [
       "27"
      ]
     },
     "execution_count": 34,
     "metadata": {},
     "output_type": "execute_result"
    }
   ],
   "source": [
    "cells_n"
   ]
  },
  {
   "cell_type": "code",
   "execution_count": 36,
   "id": "d958944b",
   "metadata": {},
   "outputs": [],
   "source": [
    "with TM1Service(address='localhost',port=30059, ssl=False,user='neil',password='123') as tm1:\n",
    "    text=tm1.cells.execute_view_csv(cube_name='Sales',view_name='Sales BA')"
   ]
  },
  {
   "cell_type": "code",
   "execution_count": 38,
   "id": "8cb93427",
   "metadata": {},
   "outputs": [
    {
     "name": "stdout",
     "output_type": "stream",
     "text": [
      "Product,Measure_Sales,Value\r\n",
      "LSKU1787,Gross Profit,120\r\n",
      "LSKU1787,Sales Amount,4000\r\n",
      "LSKU1787,Cost of Sales,3880\r\n",
      "LSKU1787,Price,100\r\n",
      "LSKU1787,Unit Cost,97\r\n",
      "LSKU1787,Quantity,40\r\n",
      "LSKU1787,Gross Margin % - N,0.03\r\n",
      "LSKU1787,Gross Margin % - C,0.03\r\n",
      "LSKU1787,Indicator,😡\r\n",
      "LSKU1284,Gross Profit,260.6780000000276\r\n",
      "LSKU1284,Sales Amount,1042.6780000000276\r\n",
      "LSKU1284,Cost of Sales,782\r\n",
      "LSKU1284,Price,30.667000000000815\r\n",
      "LSKU1284,Unit Cost,23\r\n",
      "LSKU1284,Quantity,34\r\n",
      "LSKU1284,Gross Margin % - N,0.2500081520853233\r\n",
      "LSKU1284,Gross Margin % - C,0.2500081520853233\r\n",
      "LSKU1284,Indicator,👍\r\n",
      "LSKU1931,Gross Profit,27\r\n",
      "LSKU1931,Sales Amount,2700\r\n",
      "LSKU1931,Cost of Sales,2673\r\n",
      "LSKU1931,Price,100\r\n",
      "LSKU1931,Unit Cost,99\r\n",
      "LSKU1931,Quantity,27\r\n",
      "LSKU1931,Gross Margin % - N,0.01\r\n",
      "LSKU1931,Gross Margin % - C,0.01\r\n",
      "LSKU1931,Indicator,😡\n"
     ]
    }
   ],
   "source": [
    "print(text)"
   ]
  },
  {
   "cell_type": "code",
   "execution_count": 39,
   "id": "f56cc7cf",
   "metadata": {},
   "outputs": [
    {
     "data": {
      "text/plain": [
       "str"
      ]
     },
     "execution_count": 39,
     "metadata": {},
     "output_type": "execute_result"
    }
   ],
   "source": [
    "type(text)"
   ]
  },
  {
   "cell_type": "code",
   "execution_count": null,
   "id": "7100b0ce",
   "metadata": {},
   "outputs": [],
   "source": [
    "text"
   ]
  }
 ],
 "metadata": {
  "kernelspec": {
   "display_name": "Python 3",
   "language": "python",
   "name": "python3"
  },
  "language_info": {
   "codemirror_mode": {
    "name": "ipython",
    "version": 3
   },
   "file_extension": ".py",
   "mimetype": "text/x-python",
   "name": "python",
   "nbconvert_exporter": "python",
   "pygments_lexer": "ipython3",
   "version": "3.7.9"
  }
 },
 "nbformat": 4,
 "nbformat_minor": 5
}
