{
 "cells": [
  {
   "cell_type": "markdown",
   "id": "44b2979b",
   "metadata": {},
   "source": [
    "#### 函数：  \n",
    "创建空View  \n",
    "NativeView(cube_name='',view_name='')  \n",
    "获取subset信息  \n",
    "tm1.dimensions.subsets.get(dimension_name='',subset_name='',private=False)  \n",
    "创建Row->空View  \n",
    "NativeView(cube_name='',view_name='').add_row(dimension_name='',subset=tm1.dimensions.subsets.get() )  \n",
    "创建Title->空View   \n",
    "NativeView(cube_name='',view_name='').add_title(dimension_name='', subset=tm1.dimensions.subsets.get(), selection='')  \n",
    "创建Column->空View   \n",
    "NativeView(cube_name='',view_name='').add_column(dimension_name='', subset=tm1.dimensions.subsets.get())"
   ]
  },
  {
   "cell_type": "code",
   "execution_count": 1,
   "id": "37b68f96",
   "metadata": {},
   "outputs": [],
   "source": [
    "from TM1py.Objects import NativeView\n",
    "from TM1py.Services import TM1Service\n",
    "\n",
    "\n",
    "# establish connection to TM1 Server\n",
    "with TM1Service(address=\"localhost\", port=30011, ssl=True, user=\"admin\", password=\"apple\") as tm1:\n",
    "    native_view = NativeView(cube_name='Employee',\n",
    "                             view_name='TM1py View')\n",
    "\n",
    "    # set up native view - put subsets on Rows, Columns and Titles\n",
    "    subset = tm1.dimensions.subsets.get(dimension_name='Employee',\n",
    "                                        subset_name='Default',\n",
    "                                        private=False)\n",
    "    #ROW Dim\n",
    "    native_view.add_row(dimension_name='Employee', subset=subset)\n",
    "\n",
    "\n",
    "    subset = tm1.dimensions.subsets.get(dimension_name='Version',\n",
    "                                        subset_name='ACT',\n",
    "                                        private=False)\n",
    "    #Title Dim\n",
    "    native_view.add_title(dimension_name='Version', subset=subset, selection='Actual')\n",
    "    \n",
    "    subset = tm1.dimensions.subsets.get(dimension_name='Year',\n",
    "                                        subset_name='13财年',\n",
    "                                        private=False)\n",
    "    #Title Dim\n",
    "    native_view.add_title(dimension_name='Year', subset=subset, selection='FY13')\n",
    "    \n",
    "    subset = tm1.dimensions.subsets.get(dimension_name='Month',\n",
    "                                        subset_name='AL',\n",
    "                                        private=False)\n",
    "    #Title Dim\n",
    "    native_view.add_title(dimension_name='Month', subset=subset, selection='Year')\n",
    "    \n",
    "    subset = tm1.dimensions.subsets.get(dimension_name='organisation',\n",
    "                                        subset_name='Default',\n",
    "                                        private=False)\n",
    "    #Title Dim\n",
    "    native_view.add_title(dimension_name='organisation', subset=subset, selection='All Org Units')\n",
    "    \n",
    "    subset = tm1.dimensions.subsets.get(dimension_name='Department',\n",
    "                                        subset_name='Default',\n",
    "                                        private=False)\n",
    "    #Title Dim\n",
    "    native_view.add_title(dimension_name='Department', subset=subset, selection='All Departments')\n",
    "    \n",
    "    \n",
    "    \n",
    "    \n",
    "    subset = tm1.dimensions.subsets.get(dimension_name='Employee Measure',\n",
    "                                        subset_name='Default',\n",
    "                                        private=False)\n",
    "    #Column Dim\n",
    "    native_view.add_column(dimension_name='Employee Measure', subset=subset)\n",
    "\n",
    "\n",
    "    # create native view on Server\n",
    "    tm1.cubes.views.create(view=native_view, private=False)"
   ]
  },
  {
   "cell_type": "code",
   "execution_count": null,
   "id": "31563e10",
   "metadata": {},
   "outputs": [],
   "source": []
  }
 ],
 "metadata": {
  "kernelspec": {
   "display_name": "Python 3",
   "language": "python",
   "name": "python3"
  },
  "language_info": {
   "codemirror_mode": {
    "name": "ipython",
    "version": 3
   },
   "file_extension": ".py",
   "mimetype": "text/x-python",
   "name": "python",
   "nbconvert_exporter": "python",
   "pygments_lexer": "ipython3",
   "version": "3.7.9"
  }
 },
 "nbformat": 4,
 "nbformat_minor": 5
}
