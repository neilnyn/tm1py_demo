{
 "cells": [
  {
   "cell_type": "markdown",
   "id": "ff9cf406",
   "metadata": {},
   "source": [
    "#### 函数：\n",
    "MDX生成器  \n",
    "tm1.cubes.views.get_native_view('cube', 'view', private=False)  "
   ]
  },
  {
   "cell_type": "code",
   "execution_count": 3,
   "id": "75675127",
   "metadata": {},
   "outputs": [
    {
     "name": "stdout",
     "output_type": "stream",
     "text": [
      "SELECT\r\n",
      "NON EMPTY {TM1SUBSETTOSET([EMPLOYEEMEASURE].[EMPLOYEEMEASURE],\"Default\")} ON 0,\r\n",
      "NON EMPTY {[Version].[Version].[Forecast],[Version].[Version].[Budget],[Version].[Version].[Actual]} * {[Year].[Year].[All Years^FY10],[Year].[Year].[All Years^FY11],[Year].[Year].[All Years^FY12],[Year].[Year].[All Years^FY13],[Year].[Year].[All Years^FY14],[Year].[Year].[All Years^FY15],[Year].[Year].[All Years^FY16],[Year].[Year].[All Years^FY17],[Year].[Year].[All Years^FY18],[Year].[Year].[All Years^FY19],[Year].[Year].[All Years^FY20]} * {[Month].[Month].[Year^M01],[Month].[Month].[Year^M02],[Month].[Month].[Year^M03],[Month].[Month].[Year^M04],[Month].[Month].[Year^M05],[Month].[Month].[Year^M06],[Month].[Month].[Year^M07],[Month].[Month].[Year^M08],[Month].[Month].[Year^M09],[Month].[Month].[Year^M10],[Month].[Month].[Year^M11],[Month].[Month].[Year^M12]} * {[Organisation].[Organisation].[Northeast Division],[Organisation].[Organisation].[Northwest Division],[Organisation].[Organisation].[Central Division],[Organisation].[Organisation].[Southeast Division],[Organisation].[Organisation].[Southwest Division],[Organisation].[Organisation].[Canadian Division],[Organisation].[Organisation].[France],[Organisation].[Organisation].[Germany],[Organisation].[Organisation].[Australia]} * {[Department].[Department].[Corporate],[Department].[Department].[Executive General and Administration],[Department].[Department].[Inventory Management],[Department].[Department].[Manufacturing],[Department].[Department].[Quality Assurance],[Department].[Department].[Research and Development],[Department].[Department].[Sales and Marketing]} * {[Employee].[Employee].[14417807],[Employee].[Employee].[253022876],[Employee].[Employee].[509647174],[Employee].[Employee].[112457891],[Employee].[Employee].[480168528],[Employee].[Employee].[24756624],[Employee].[Employee].[309738752],[Employee].[Employee].[690627818],[Employee].[Employee].[695256908],[Employee].[Employee].[912265825],[Employee].[Employee].[998320692],[Employee].[Employee].[245797967],[Employee].[Employee].[844973625],[Employee].[Employee].[233069302],[Employee].[Employee].[132674823],[Employee].[Employee].[446466105],[Employee].[Employee].[565090917],[Employee].[Employee].[494170342],[Employee].[Employee].[9659517],[Employee].[Employee].[443968955],[Employee].[Employee].[277173473],[Employee].[Employee].[835460180],[Employee].[Employee].[687685941],[Employee].[Employee].[498138869],[Employee].[Employee].[360868122],[Employee].[Employee].[964089218],[Employee].[Employee].[384162788],[Employee].[Employee].[749389530],[Employee].[Employee].[571658797],[Employee].[Employee].[535145551],[Employee].[Employee].[761597760],[Employee].[Employee].[271438431],[Employee].[Employee].[160739235],[Employee].[Employee].[586486572],[Employee].[Employee].[337752649],[Employee].[Employee].[113695504],[Employee].[Employee].[276751903],[Employee].[Employee].[630184120],[Employee].[Employee].[545337468],[Employee].[Employee].[713403643],[Employee].[Employee].[885055826],[Employee].[Employee].[441044382],[Employee].[Employee].[718299860],[Employee].[Employee].[685233686],[Employee].[Employee].[295971920],[Employee].[Employee].[95958330],[Employee].[Employee].[332040978],[Employee].[Employee].[857651804],[Employee].[Employee].[553069203],[Employee].[Employee].[351069889],[Employee].[Employee].[370989364],[Employee].[Employee].[275962311],[Employee].[Employee].[36151748],[Employee].[Employee].[540688287],[Employee].[Employee].[568596888],[Employee].[Employee].[918737118],[Employee].[Employee].[801758002],[Employee].[Employee].[415823523],[Employee].[Employee].[363923697],[Employee].[Employee].[674171828],[Employee].[Employee].[138280935],[Employee].[Employee].[476115505],[Employee].[Employee].[502058701],[Employee].[Employee].[7201901],[Employee].[Employee].[97728960],[Employee].[Employee].[525932996],[Employee].[Employee].[843479922],[Employee].[Employee].[370487086],[Employee].[Employee].[54759846],[Employee].[Employee].[619308550],[Employee].[Employee].[121491555],[Employee].[Employee].[420776180],[Employee].[Employee].[604664374],[Employee].[Employee].[778552911],[Employee].[Employee].[435234965],[Employee].[Employee].[339712426],[Employee].[Employee].[403414852],[Employee].[Employee].[368920189],[Employee].[Employee].[811994146],[Employee].[Employee].[330211482],[Employee].[Employee].[632092621],[Employee].[Employee].[264306399],[Employee].[Employee].[981597097],[Employee].[Employee].[693325305],[Employee].[Employee].[521265716],[Employee].[Employee].[746373306],[Employee].[Employee].[750905084],[Employee].[Employee].[514829225],[Employee].[Employee].[750246141],[Employee].[Employee].[345106466],[Employee].[Employee].[19312190],[Employee].[Employee].[212801092],[Employee].[Employee].[769680433],[Employee].[Employee].[60517918],[Employee].[Employee].[431859843],[Employee].[Employee].[621209647],[Employee].[Employee].[420023788],[Employee].[Employee].[199546871],[Employee].[Employee].[830150469],[Employee].[Employee].[322160340],[Employee].[Employee].[827686041],[Employee].[Employee].[671089628],[Employee].[Employee].[231203233],[Employee].[Employee].[204035155],[Employee].[Employee].[992874797],[Employee].[Employee].[767955365],[Employee].[Employee].[342607223],[Employee].[Employee].[45615666],[Employee].[Employee].[295847284],[Employee].[Employee].[733022683],[Employee].[Employee].[381772114],[Employee].[Employee].[187369436],[Employee].[Employee].[364818297],[Employee].[Employee].[658797903],[Employee].[Employee].[886023130],[Employee].[Employee].[749211824],[Employee].[Employee].[643805155],[Employee].[Employee].[92096924],[Employee].[Employee].[72636981],[Employee].[Employee].[563680513],[Employee].[Employee].[584205124],[Employee].[Employee].[458159238],[Employee].[Employee].[712885347],[Employee].[Employee].[87268837],[Employee].[Employee].[969985265],[Employee].[Employee].[539490372],[Employee].[Employee].[242381745],[Employee].[Employee].[929666391],[Employee].[Employee].[948320468],[Employee].[Employee].[931190412],[Employee].[Employee].[153288994],[Employee].[Employee].[981495526],[Employee].[Employee].[363996959],[Employee].[Employee].[585408256],[Employee].[Employee].[386315192],[Employee].[Employee].[167554340],[Employee].[Employee].[410742000],[Employee].[Employee].[746201340],[Employee].[Employee].[30845],[Employee].[Employee].[184188301],[Employee].[Employee].[398737566],[Employee].[Employee].[764853868],[Employee].[Employee].[319472946],[Employee].[Employee].[456839592],[Employee].[Employee].[131471224],[Employee].[Employee].[259388196],[Employee].[Employee].[812797414],[Employee].[Employee].[519899904],[Employee].[Employee].[314747499],[Employee].[Employee].[858323870],[Employee].[Employee].[25011600],[Employee].[Employee].[436757988],[Employee].[Employee].[652535724],[Employee].[Employee].[416679555],[Employee].[Employee].[377784364],[Employee].[Employee].[66073987],[Employee].[Employee].[999440576],[Employee].[Employee].[134969118],[Employee].[Employee].[551834634],[Employee].[Employee].[305522471],[Employee].[Employee].[260770918],[Employee].[Employee].[788456780],[Employee].[Employee].[370581729],[Employee].[Employee].[603686790],[Employee].[Employee].[152085091],[Employee].[Employee].[663843431],[Employee].[Employee].[227319668],[Employee].[Employee].[578953538],[Employee].[Employee].[222400012],[Employee].[Employee].[470689086],[Employee].[Employee].[860123571],[Employee].[Employee].[273260055],[Employee].[Employee].[578935259],[Employee].[Employee].[752513276],[Employee].[Employee].[754372876],[Employee].[Employee].[58317344],[Employee].[Employee].[404159499],[Employee].[Employee].[363910111],[Employee].[Employee].[599942664],[Employee].[Employee].[993310268],[Employee].[Employee].[20244403],[Employee].[Employee].[862951447],[Employee].[Employee].[551346974],[Employee].[Employee].[60114406],[Employee].[Employee].[33237992],[Employee].[Employee].[1300049],[Employee].[Employee].[10708100],[Employee].[Employee].[672243793],[Employee].[Employee].[63761469],[Employee].[Employee].[693168613],[Employee].[Employee].[476980013],[Employee].[Employee].[334834274],[Employee].[Employee].[399658727],[Employee].[Employee].[500412746],[Employee].[Employee].[652779496],[Employee].[Employee].[878395493],[Employee].[Employee].[332349500],[Employee].[Employee].[792847334],[Employee].[Employee].[621932914],[Employee].[Employee].[398223854],[Employee].[Employee].[519756660],[Employee].[Employee].[912141525],[Employee].[Employee].[243322160],[Employee].[Employee].[568626529],[Employee].[Employee].[301435199],[Employee].[Employee].[368691270],[Employee].[Employee].[211789056],[Employee].[Employee].[63179277],[Employee].[Employee].[587567941],[Employee].[Employee].[634335025],[Employee].[Employee].[65848458],[Employee].[Employee].[260805477],[Employee].[Employee].[442121106],[Employee].[Employee].[300946911],[Employee].[Employee].[440379437],[Employee].[Employee].[480951955],[Employee].[Employee].[879342154],[Employee].[Employee].[141165819],[Employee].[Employee].[537092325],[Employee].[Employee].[455563743],[Employee].[Employee].[701156975],[Employee].[Employee].[1662732],[Employee].[Employee].[407505660],[Employee].[Employee].[294148271],[Employee].[Employee].[552560652],[Employee].[Employee].[834186596],[Employee].[Employee].[717889520],[Employee].[Employee].[801365500],[Employee].[Employee].[413787783],[Employee].[Employee].[109272464],[Employee].[Employee].[482810518],[Employee].[Employee].[113393530],[Employee].[Employee].[466142721],[Employee].[Employee].[390124815],[Employee].[Employee].[6298838],[Employee].[Employee].[943170460],[Employee].[Employee].[339233463],[Employee].[Employee].[367453993],[Employee].[Employee].[872923042],[Employee].[Employee].[697712387],[Employee].[Employee].[381073001],[Employee].[Employee].[646304055],[Employee].[Employee].[414476027],[Employee].[Employee].[785853949],[Employee].[Employee].[90888098],[Employee].[Employee].[947029962],[Employee].[Employee].[461786517],[Employee].[Employee].[393421437],[Employee].[Employee].[988315686],[Employee].[Employee].[56772045],[Employee].[Employee].[879334904],[Employee].[Employee].[82638150],[Employee].[Employee].[343861179],[Employee].[Employee].[582347317],[Employee].[Employee].[8066363],[Employee].[Employee].[561196580],[Employee].[Employee].[58791499],[Employee].[Employee].[163347032],[Employee].[Employee].[28414965],[Employee].[Employee].[153479919],[Employee].[Employee].[20269531],[Employee].[Employee].[826454897],[Employee].[Employee].[974026903],[Employee].[Employee].[437296311],[Employee].[Employee].[486228782],[Employee].[Employee].[280633567],[Employee].[Employee].[42487730],[Employee].[Employee].[502097814],[Employee].[Employee].[323403273],[Employee].[Employee].[56920285],[Employee].[Employee].[222969461],[Employee].[Employee].[52541318],[Employee].[Employee].[112432117],[Employee].[Employee].[895209680],[Employee].[Employee].[841560125],[Employee].[Employee].[191644724],[Employee].[Employee].[615389812],[Employee].[Employee].[234474252],[Employee].[Employee].[716374314],[Employee].[Employee].[61161660],[Employee].[Employee].[139397894],[Employee].[Employee].[399771412],[Employee].[Employee].[987554265],[Employee].[Employee].[982310417],[Employee].[Employee].[668991357],[Employee].[Employee].[134219713],[Employee].[Employee].[90836195],[Employee].[Employee].[481044938],[Employee].[Employee].[954276278],[Employee].[Employee].[758596752]} ON 1\r\n",
      "FROM [EMPLOYEE]\n"
     ]
    }
   ],
   "source": [
    "\n",
    "from TM1py.Services import TM1Service\n",
    "\n",
    "\n",
    "cube = 'Employee'\n",
    "view = 'Tm1py View'\n",
    "\n",
    "# Establish connection to TM1 Server\n",
    "with TM1Service(address=\"localhost\", port=30011, ssl=True, user=\"admin\", password=\"apple\") as tm1:\n",
    "    # Instantiate TM1py.NativeView object\n",
    "    nv = tm1.cubes.views.get_native_view(cube, view, private=False)\n",
    "\n",
    "    # Retrieve MDX from native view. Print it\n",
    "    print(nv.MDX)"
   ]
  },
  {
   "cell_type": "code",
   "execution_count": null,
   "id": "601812ca",
   "metadata": {},
   "outputs": [],
   "source": []
  }
 ],
 "metadata": {
  "kernelspec": {
   "display_name": "Python 3",
   "language": "python",
   "name": "python3"
  },
  "language_info": {
   "codemirror_mode": {
    "name": "ipython",
    "version": 3
   },
   "file_extension": ".py",
   "mimetype": "text/x-python",
   "name": "python",
   "nbconvert_exporter": "python",
   "pygments_lexer": "ipython3",
   "version": "3.7.9"
  }
 },
 "nbformat": 4,
 "nbformat_minor": 5
}
