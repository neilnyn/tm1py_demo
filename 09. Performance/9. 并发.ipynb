{
 "cells": [
  {
   "cell_type": "code",
   "execution_count": null,
   "id": "0dc3b77e",
   "metadata": {},
   "outputs": [],
   "source": []
  },
  {
   "cell_type": "code",
   "execution_count": 2,
   "id": "cb5e49a2",
   "metadata": {},
   "outputs": [],
   "source": [
    "import asyncio\n",
    "import nest_asyncio\n",
    "nest_asyncio.apply()\n",
    "from TM1py.Services import TM1Service"
   ]
  },
  {
   "cell_type": "code",
   "execution_count": 11,
   "id": "dccada9f",
   "metadata": {},
   "outputs": [
    {
     "name": "stdout",
     "output_type": "stream",
     "text": [
      "run process with parameter pRegion: 01run process with parameter pRegion: 02\n",
      "run process with parameter pRegion: 03run process with parameter pRegion: 04run process with parameter pRegion: 05run process with parameter pRegion: 06run process with parameter pRegion: 07run process with parameter pRegion: 08run process with parameter pRegion: 09run process with parameter pRegion: 10run process with parameter pRegion: 11\n",
      "run process with parameter pRegion: 12\n",
      "\n",
      "\n",
      "\n",
      "\n",
      "\n",
      "\n",
      "\n",
      "\n",
      "\n",
      "Done running Process for Region : 12\n",
      "Done running Process for Region : FY11\n",
      "Done running Process for Region : 02\n",
      "Done running Process for Region : FY11\n",
      "Done running Process for Region : 07\n",
      "Done running Process for Region : FY11\n",
      "Done running Process for Region : 10\n",
      "Done running Process for Region : FY11\n",
      "Done running Process for Region : 11\n",
      "Done running Process for Region : FY11\n",
      "Done running Process for Region : 04\n",
      "Done running Process for Region : FY11\n",
      "Done running Process for Region : 09\n",
      "Done running Process for Region : FY11\n",
      "Done running Process for Region : 03\n",
      "Done running Process for Region : FY11\n",
      "Done running Process for Region : 08\n",
      "Done running Process for Region : FY11\n",
      "Done running Process for Region : 06\n",
      "Done running Process for Region : FY11\n",
      "Done running Process for Region : 01\n",
      "Done running Process for Region : FY11\n",
      "Done running Process for Region : 05\n",
      "Done running Process for Region : FY11\n"
     ]
    }
   ],
   "source": [
    "\n",
    "\n",
    "Month = ['01', '02', '03', '04', '05', '06', '07', '08', '09', '10','11','12']\n",
    "Year=['FY11']\n",
    "process = 'Asy'\n",
    "\n",
    "\n",
    "# Define Function\n",
    "def run_process(tm1, Month,Year):\n",
    "    print(\"run process with parameter pRegion: \" + Month)\n",
    "    parameters = {\n",
    "        'Parameters': [{\n",
    "            'Name': \"pMonth\",\n",
    "            'Value': Month\n",
    "        },{\n",
    "            'Name': \"pYear\",\n",
    "            'Value': Year\n",
    "        }]\n",
    "    }\n",
    "    tm1.processes.execute(process, parameters)\n",
    "    print(\"Done running Process for Region : \" + Month)\n",
    "    print(\"Done running Process for Region : \" + Year)\n",
    "\n",
    "# Fire requests asynchronously\n",
    "async def main():\n",
    "    loop = asyncio.get_event_loop()\n",
    "    # Connect to TM1\n",
    "    with TM1Service(address=\"localhost\", port=30011, ssl=True, user=\"admin\", password=\"apple\") as tm1:\n",
    "        # Fire of different process executions though 'run_process' function.\n",
    "        \n",
    "        futures = [loop.run_in_executor(None, run_process, tm1, Month[num],Year[0])\n",
    "                   for num\n",
    "                   in range(12)]\n",
    "        # Await the executions\n",
    "        for future in futures:\n",
    "            await future\n",
    "\n",
    "\n",
    "loop = asyncio.get_event_loop()\n",
    "loop.run_until_complete(main())"
   ]
  },
  {
   "cell_type": "code",
   "execution_count": 2,
   "id": "17b2566a",
   "metadata": {},
   "outputs": [
    {
     "name": "stdout",
     "output_type": "stream",
     "text": [
      "1\n",
      "2\n",
      "3\n",
      "4\n",
      "5\n",
      "6\n",
      "7\n",
      "8\n",
      "9\n"
     ]
    }
   ],
   "source": [
    "for i in range(1,10):\n",
    "    print(i)"
   ]
  },
  {
   "cell_type": "code",
   "execution_count": 3,
   "id": "7f4b7bfc",
   "metadata": {},
   "outputs": [
    {
     "data": {
      "text/plain": [
       "'02'"
      ]
     },
     "execution_count": 3,
     "metadata": {},
     "output_type": "execute_result"
    }
   ],
   "source": [
    "Month[1]"
   ]
  },
  {
   "cell_type": "code",
   "execution_count": null,
   "id": "408780b9",
   "metadata": {},
   "outputs": [],
   "source": []
  }
 ],
 "metadata": {
  "kernelspec": {
   "display_name": "Python 3",
   "language": "python",
   "name": "python3"
  },
  "language_info": {
   "codemirror_mode": {
    "name": "ipython",
    "version": 3
   },
   "file_extension": ".py",
   "mimetype": "text/x-python",
   "name": "python",
   "nbconvert_exporter": "python",
   "pygments_lexer": "ipython3",
   "version": "3.6.8"
  }
 },
 "nbformat": 4,
 "nbformat_minor": 5
}
