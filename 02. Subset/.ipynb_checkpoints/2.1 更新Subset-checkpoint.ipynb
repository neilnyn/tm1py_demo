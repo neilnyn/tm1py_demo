{
 "cells": [
  {
   "cell_type": "markdown",
   "id": "31f4ae38",
   "metadata": {},
   "source": [
    "#### 函数：  \n",
    "tm1.dimensions.subsets.get(dimension_name=dim_name, subset_name=sub_name, private=True/False)->获取subset实例  \n",
    "#### 方法：  \n",
    "tm1.dimensions.subsets.get(dimension_name=dim_name, subset_name=sub_name, private=True/False).add_elements(['ele'])->往subset中新加入元素  "
   ]
  },
  {
   "cell_type": "code",
   "execution_count": 2,
   "id": "d1df32c1",
   "metadata": {},
   "outputs": [],
   "source": [
    "\n",
    "from TM1py.Objects import Subset\n",
    "from TM1py.Services import TM1Service\n",
    "\n",
    "with TM1Service(address=\"localhost\", port=30011, ssl=True, user=\"admin\", password=\"apple\") as tm1:\n",
    "    # get a random string that we can use a subset name\n",
    "    subset_name ='TM1py Subset'\n",
    "\n",
    "    # get subset\n",
    "    s = tm1.dimensions.subsets.get(dimension_name='Organisation', subset_name=subset_name, private=True)\n",
    "\n",
    "    # update it\n",
    "    s.add_elements(['Pacific Operations'])\n",
    "    tm1.dimensions.subsets.update(subset=s, private=True)\n",
    "    tm1.subsets.update_or\n",
    "  "
   ]
  },
  {
   "cell_type": "code",
   "execution_count": null,
   "id": "39786bc6",
   "metadata": {},
   "outputs": [],
   "source": []
  }
 ],
 "metadata": {
  "kernelspec": {
   "display_name": "Python 3",
   "language": "python",
   "name": "python3"
  },
  "language_info": {
   "codemirror_mode": {
    "name": "ipython",
    "version": 3
   },
   "file_extension": ".py",
   "mimetype": "text/x-python",
   "name": "python",
   "nbconvert_exporter": "python",
   "pygments_lexer": "ipython3",
   "version": "3.6.8"
  }
 },
 "nbformat": 4,
 "nbformat_minor": 5
}
