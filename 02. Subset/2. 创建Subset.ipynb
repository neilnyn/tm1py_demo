{
 "cells": [
  {
   "cell_type": "markdown",
   "id": "585466c1",
   "metadata": {},
   "source": [
    "#### 函数： \n",
    "Subset(dimension_name=dim_name, subset_name=sub_name, elements=eles)->创建subset实例  \n",
    "tm1.dimensions.subsets.create(subset=subset, private=True/False)->更新subset实例    "
   ]
  },
  {
   "cell_type": "code",
   "execution_count": null,
   "id": "8e21011d",
   "metadata": {},
   "outputs": [],
   "source": [
    "\"\"\"\n",
    "- Create new private Subset in TM1\n",
    "- Read the subset and its elements\n",
    "- Delete the subset in TM1\n",
    "\"\"\"\n",
    "from TM1py.Objects import Subset\n",
    "from TM1py.Services import TM1Service\n",
    "\n",
    "dimension_name = \"Organisation\"\n",
    "subset_name = \"TM1py Subset\"\n",
    "elements = ['AdventureWorks Cycle', 'North America Operations', 'USA Operations','European Operations']\n",
    "\n",
    "with TM1Service(address=\"localhost\", port=30011, ssl=True, user=\"admin\", password=\"apple\") as tm1:\n",
    "    # create subset\n",
    "    s = Subset(dimension_name=dimension_name, subset_name=subset_name, elements=elements)\n",
    "    tm1.dimensions.subsets.create(subset=s, private=True)\n",
    "\n",
    "    # get it and print out the elements\n",
    "    #s = tm1.dimensions.subsets.get(dimension_name=dimension_name, subset_name=subset_name, private=True)\n",
    "    #print(s.elements)\n",
    "\n",
    "    # delete it\n",
    "    #tm1.dimensions.subsets.delete(dimension_name=dimension_name, subset_name=subset_name, private=True)"
   ]
  },
  {
   "cell_type": "code",
   "execution_count": null,
   "id": "2ac2cfee",
   "metadata": {},
   "outputs": [],
   "source": []
  }
 ],
 "metadata": {
  "kernelspec": {
   "display_name": "Python 3",
   "language": "python",
   "name": "python3"
  },
  "language_info": {
   "codemirror_mode": {
    "name": "ipython",
    "version": 3
   },
   "file_extension": ".py",
   "mimetype": "text/x-python",
   "name": "python",
   "nbconvert_exporter": "python",
   "pygments_lexer": "ipython3",
   "version": "3.6.8"
  }
 },
 "nbformat": 4,
 "nbformat_minor": 5
}
