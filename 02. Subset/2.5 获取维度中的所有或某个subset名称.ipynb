{
 "cells": [
  {
   "cell_type": "markdown",
   "id": "080fcc68",
   "metadata": {},
   "source": [
    "#### 函数：\n",
    "##### 获取Dim中所有subset的名字  \n",
    "tm1.dimensions.subsets.get_all_names(\n",
    "        dimension_name=dimension_name,\n",
    "        hierarchy_name=hierarchy_name,\n",
    "        private=True/False)  \n",
    "##### 获取Dim中某一个subset的实例(可以当作访问.sub文件理解)          \n",
    "tm1.dimensions.subsets.get(\n",
    "            dimension_name=dimension_name,\n",
    "            subset_name=subset_name,\n",
    "            private=True/False)"
   ]
  },
  {
   "cell_type": "code",
   "execution_count": 2,
   "id": "d8b5d40f",
   "metadata": {},
   "outputs": [
    {
     "name": "stdout",
     "output_type": "stream",
     "text": [
      "private subsets: \n",
      "public subsets: \n",
      "Assets\n",
      "Bal Sheet\n",
      "Default\n",
      "Level 0\n",
      "P&L\n",
      "Stats\n"
     ]
    }
   ],
   "source": [
    "from TM1py.Services import TM1Service\n",
    "\n",
    "\n",
    "dimension_name = 'Account'\n",
    "hierarchy_name = 'Account'\n",
    "\n",
    "with TM1Service(address=\"localhost\", port=30011, ssl=True, user=\"admin\", password=\"apple\") as tm1:\n",
    "    private_subsets = tm1.dimensions.subsets.get_all_names(\n",
    "        dimension_name=dimension_name,\n",
    "        hierarchy_name=hierarchy_name,\n",
    "        private=True)\n",
    "    print('private subsets: ')\n",
    "    for subset_name in private_subsets:\n",
    "        subset = tm1.dimensions.subsets.get(\n",
    "            dimension_name=dimension_name,\n",
    "            subset_name=subset_name,\n",
    "            private=True)\n",
    "        print(subset.name)\n",
    "\n",
    "    public_subsets = tm1.dimensions.subsets.get_all_names(\n",
    "        dimension_name=dimension_name,\n",
    "        hierarchy_name=hierarchy_name,\n",
    "        private=False)\n",
    "    print('public subsets: ')\n",
    "    for subset_name in public_subsets:\n",
    "        subset = tm1.dimensions.subsets.get(\n",
    "            dimension_name=dimension_name,\n",
    "            subset_name=subset_name,\n",
    "            private=False)\n",
    "        print(subset.name)"
   ]
  },
  {
   "cell_type": "code",
   "execution_count": null,
   "id": "4c00525a",
   "metadata": {},
   "outputs": [],
   "source": []
  }
 ],
 "metadata": {
  "kernelspec": {
   "display_name": "Python 3",
   "language": "python",
   "name": "python3"
  },
  "language_info": {
   "codemirror_mode": {
    "name": "ipython",
    "version": 3
   },
   "file_extension": ".py",
   "mimetype": "text/x-python",
   "name": "python",
   "nbconvert_exporter": "python",
   "pygments_lexer": "ipython3",
   "version": "3.6.8"
  }
 },
 "nbformat": 4,
 "nbformat_minor": 5
}
