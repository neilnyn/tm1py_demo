{
 "cells": [
  {
   "cell_type": "markdown",
   "id": "6f27d81c",
   "metadata": {},
   "source": [
    "##### 函数：  \n",
    "tm1.dimensions.subsets.get(dimension_name=dim_name, subset_name=sub_name, private=True/False)->返回subset实例\n",
    "#### 属性：  \n",
    "tm1.dimensions.subsets.get(dimension_name=dim_name, subset_name=sub_name, private=True/False).elements->返回subset中的元素  "
   ]
  },
  {
   "cell_type": "code",
   "execution_count": 7,
   "id": "448dea16",
   "metadata": {},
   "outputs": [
    {
     "name": "stdout",
     "output_type": "stream",
     "text": [
      "['AdventureWorks Cycle', 'North America Operations', 'USA Operations', 'European Operations']\n",
      "Organisation\n"
     ]
    }
   ],
   "source": [
    "\"\"\"\n",
    "- Create new private Subset in TM1\n",
    "- Read the subset and its elements\n",
    "- Delete the subset in TM1\n",
    "\"\"\"\n",
    "from TM1py.Objects import Subset\n",
    "from TM1py.Services import TM1Service\n",
    "\n",
    "dimension_name = \"Organisation\"\n",
    "subset_name = \"TM1py Subset\"\n",
    "\n",
    "\n",
    "with TM1Service(address=\"localhost\", port=30011, ssl=True, user=\"admin\", password=\"apple\") as tm1:\n",
    "\n",
    "\n",
    "    \n",
    "    # get it and print out the elements\n",
    "    s = tm1.dimensions.subsets.get(dimension_name=dimension_name, subset_name=subset_name, private=True)\n",
    "   \n",
    "    print(s.elements)\n",
    "    \n"
   ]
  },
  {
   "cell_type": "code",
   "execution_count": null,
   "id": "99285b47",
   "metadata": {},
   "outputs": [],
   "source": []
  },
  {
   "cell_type": "code",
   "execution_count": null,
   "id": "8cd141ab",
   "metadata": {},
   "outputs": [],
   "source": []
  }
 ],
 "metadata": {
  "kernelspec": {
   "display_name": "Python 3",
   "language": "python",
   "name": "python3"
  },
  "language_info": {
   "codemirror_mode": {
    "name": "ipython",
    "version": 3
   },
   "file_extension": ".py",
   "mimetype": "text/x-python",
   "name": "python",
   "nbconvert_exporter": "python",
   "pygments_lexer": "ipython3",
   "version": "3.6.8"
  }
 },
 "nbformat": 4,
 "nbformat_minor": 5
}
