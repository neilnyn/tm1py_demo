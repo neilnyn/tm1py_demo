{
 "cells": [
  {
   "cell_type": "markdown",
   "id": "cd0f1888",
   "metadata": {},
   "source": [
    "#### 函数：  \n",
    "tm1.dimensions.subsets.delete(dimension_name=dim_name, subset_name=sub_name, private=True/False)->删除Subset"
   ]
  },
  {
   "cell_type": "code",
   "execution_count": 1,
   "id": "808b632e",
   "metadata": {},
   "outputs": [],
   "source": [
    "from TM1py.Objects import Subset\n",
    "from TM1py.Services import TM1Service\n",
    "\n",
    "dimension_name = \"Organisation\"\n",
    "subset_name = \"TM1py Subset\"\n",
    "\n",
    "\n",
    "with TM1Service(address=\"localhost\", port=30011, ssl=True, user=\"admin\", password=\"apple\") as tm1:\n",
    "\n",
    "\n",
    "    # delete it\n",
    "    tm1.dimensions.subsets.delete(dimension_name=dimension_name, subset_name=subset_name, private=True)\n",
    "    "
   ]
  },
  {
   "cell_type": "code",
   "execution_count": null,
   "id": "e8a0ad96",
   "metadata": {},
   "outputs": [],
   "source": []
  }
 ],
 "metadata": {
  "kernelspec": {
   "display_name": "Python 3",
   "language": "python",
   "name": "python3"
  },
  "language_info": {
   "codemirror_mode": {
    "name": "ipython",
    "version": 3
   },
   "file_extension": ".py",
   "mimetype": "text/x-python",
   "name": "python",
   "nbconvert_exporter": "python",
   "pygments_lexer": "ipython3",
   "version": "3.6.8"
  }
 },
 "nbformat": 4,
 "nbformat_minor": 5
}
