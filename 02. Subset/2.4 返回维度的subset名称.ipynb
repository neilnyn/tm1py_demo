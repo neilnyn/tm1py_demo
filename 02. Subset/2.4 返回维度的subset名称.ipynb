{
 "cells": [
  {
   "cell_type": "markdown",
   "id": "0e6984bb",
   "metadata": {},
   "source": [
    "#### 函数：  \n",
    "tm1.dimensions.subsets.get_all_names(\n",
    "        dimension_name=dim_name,\n",
    "        hierarchy_name=hier_name,\n",
    "        private=True/False)->  \n",
    "        返回维度中私有或公有subsets  "
   ]
  },
  {
   "cell_type": "code",
   "execution_count": 5,
   "id": "2e4678fe",
   "metadata": {},
   "outputs": [
    {
     "name": "stdout",
     "output_type": "stream",
     "text": [
      "[]\n",
      "['Assets', 'Bal Sheet', 'Default', 'Level 0', 'P&L', 'Stats']\n"
     ]
    }
   ],
   "source": [
    "\n",
    "from TM1py.Services import TM1Service\n",
    "\n",
    "dimension_name = 'Account'\n",
    "hierarchy_name = 'Account'\n",
    "\n",
    "with TM1Service(address=\"localhost\", port=30011, ssl=True, user=\"admin\", password=\"apple\") as tm1:\n",
    "    private_subsets = tm1.dimensions.subsets.get_all_names(\n",
    "        dimension_name=dimension_name,\n",
    "        hierarchy_name=hierarchy_name,\n",
    "        private=True)\n",
    "    print(private_subsets)\n",
    "    \n",
    "\n",
    "    public_subsets = tm1.dimensions.subsets.get_all_names(\n",
    "        dimension_name=dimension_name,\n",
    "        hierarchy_name=hierarchy_name,\n",
    "        private=False)\n",
    "    print(public_subsets)\n"
   ]
  },
  {
   "cell_type": "code",
   "execution_count": 4,
   "id": "c756517d",
   "metadata": {},
   "outputs": [
    {
     "data": {
      "text/plain": [
       "['Assets', 'Bal Sheet', 'Default', 'Level 0', 'P&L', 'Stats']"
      ]
     },
     "execution_count": 4,
     "metadata": {},
     "output_type": "execute_result"
    }
   ],
   "source": [
    "from TM1py.Services import TM1Service\n",
    "\n",
    "dimension_name = 'Account'\n",
    "hierarchy_name = 'Account'\n",
    "\n",
    "with TM1Service(address=\"localhost\", port=30011, ssl=True, user=\"admin\", password=\"apple\") as tm1:\n",
    "    private_subsets = tm1.dimensions.subsets.get_all_names(\n",
    "        dimension_name=dimension_name,\n",
    "        hierarchy_name=hierarchy_name,\n",
    "        private=False)\n",
    "private_subsets"
   ]
  },
  {
   "cell_type": "code",
   "execution_count": null,
   "id": "2890fe70",
   "metadata": {},
   "outputs": [],
   "source": []
  }
 ],
 "metadata": {
  "kernelspec": {
   "display_name": "Python 3",
   "language": "python",
   "name": "python3"
  },
  "language_info": {
   "codemirror_mode": {
    "name": "ipython",
    "version": 3
   },
   "file_extension": ".py",
   "mimetype": "text/x-python",
   "name": "python",
   "nbconvert_exporter": "python",
   "pygments_lexer": "ipython3",
   "version": "3.6.8"
  }
 },
 "nbformat": 4,
 "nbformat_minor": 5
}
