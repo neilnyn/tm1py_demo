{
 "cells": [
  {
   "cell_type": "markdown",
   "id": "399ecb0d",
   "metadata": {},
   "source": [
    "#### 函数：  \n",
    "获取某个实例中所有的Cube实例(.cub文件)  \n",
    "tm1.cubes.get_all()  \n",
    "Cube实例的维度属性  \n",
    "cube.dimensions获取某cube实例中全部Dim的名字(访问的.dim文件）"
   ]
  },
  {
   "cell_type": "code",
   "execution_count": 4,
   "id": "9bf7d223",
   "metadata": {},
   "outputs": [
    {
     "name": "stdout",
     "output_type": "stream",
     "text": [
      "Cube: Employee, Cells: 285405120\n",
      "Cube: }CellAnnotations_Employee, Cells: 285405120\n",
      "Cube: General Ledger, Cells: 137606040\n",
      "Cube: }StatsByRule, Cells: 2730000\n",
      "Cube: }StatsByCubeByClient, Cells: 102752\n",
      "Cube: }StatsByCube, Cells: 77064\n",
      "Cube: }StatsByProcess, Cells: 16224\n",
      "Cube: }HierarchyProperties, Cells: 4025\n",
      "Cube: Product Map, Cells: 4000\n",
      "Cube: }PickList_Product Map, Cells: 4000\n",
      "Cube: }DimensionProperties, Cells: 2975\n",
      "Cube: }StatsByChore, Cells: 2704\n",
      "Cube: }ElementAttributes_Month, Cells: 2420\n",
      "Cube: Pixel, Cells: 2241\n",
      "Cube: }ElementAttributes_Employee, Cells: 2156\n",
      "Cube: }StatsByClient, Cells: 1690\n",
      "Cube: Dimension Subsets, Cells: 1575\n",
      "Cube: System Drill, Cells: 1485\n",
      "Cube: }CubeProperties, Cells: 1131\n",
      "Cube: }ElementAttributes_}Cultures, Cells: 1100\n",
      "Cube: }StatsForServer, Cells: 676\n",
      "Cube: }ElementAttributes_Index, Cells: 200\n",
      "Cube: }ElementAttributes_Account, Cells: 198\n",
      "Cube: }Capabilities, Cells: 160\n",
      "Cube: }ElementAttributes_Year, Cells: 130\n",
      "Cube: }CubeSecurityProperties, Cells: 78\n",
      "Cube: }ClientSettings, Cells: 32\n",
      "Cube: Product Info, Cells: 20\n",
      "Cube: }ElementAttributes_Product Source, Cells: 20\n",
      "Cube: }ClientProperties, Cells: 18\n",
      "Cube: }ElementAttributes_Employee Department, Cells: 16\n",
      "Cube: System Info, Cells: 14\n",
      "Cube: }ElementAttributes_Region_Tm1, Cells: 12\n",
      "Cube: }ClientGroups, Cells: 8\n",
      "Cube: }ElementAttributes_}Groups, Cells: 4\n",
      "Cube: }ElementAttributes_GL Measure, Cells: 3\n",
      "Cube: }ElementAttributes_Employee Measure, Cells: 2\n",
      "Cube: }ElementAttributes_}Clients, Cells: 2\n",
      "Cube: }ClientCAMAssociatedGroups, Cells: 0\n"
     ]
    }
   ],
   "source": [
    "\n",
    "from TM1py.Services import TM1Service\n",
    "\n",
    "with TM1Service(address=\"localhost\", port=30011, ssl=True, user=\"admin\", password=\"apple\") as tm1:\n",
    "    # New List to store the cube - number mapping\n",
    "    cubes_with_cellnumber = []\n",
    "    # Loop through cubes and do the math\n",
    "    for cube in tm1.cubes.get_all():\n",
    "        cube.numberCells = 1\n",
    "        for dimension_name in cube.dimensions:\n",
    "            response = tm1._tm1_rest.GET('/api/v1/Dimensions(\\'{}\\')/Hierarchies(\\'{}\\')/Elements/$count'\n",
    "                                         .format(dimension_name, dimension_name))\n",
    "            number = int(response.text)\n",
    "            #等效与cube.numberCells=cube.numberCells*number\n",
    "            cube.numberCells *= number\n",
    "        cubes_with_cellnumber.append(cube)\n",
    "    # Sort the cube list with a lambda expr.\n",
    "    #列表中的key参数：接收一个只有一个参数的函数，这个函数会被用在序列里的每一个元素上，所产生的结果将是排序算法依赖的对比关键字\n",
    "    cubes_with_cellnumber.sort(key=lambda c: c.numberCells, reverse=True)\n",
    "    # Print the results\n",
    "    for cube in cubes_with_cellnumber:\n",
    "        print('Cube: {}, Cells: {}'.format(cube.name, cube.numberCells))"
   ]
  },
  {
   "cell_type": "code",
   "execution_count": 26,
   "id": "7d3f9b22",
   "metadata": {},
   "outputs": [],
   "source": [
    "\n",
    "        \n",
    "from TM1py.Services import TM1Service\n",
    "\n",
    "with TM1Service(address=\"localhost\", port=30011, ssl=True, user=\"admin\", password=\"apple\") as tm1:\n",
    "    \n",
    "    \n",
    "    # Loop through cubes and do the math\n",
    "    cubes=tm1.cubes.get_all()\n",
    "    print(cubes[0]) "
   ]
  },
  {
   "cell_type": "code",
   "execution_count": 5,
   "id": "f151f306",
   "metadata": {},
   "outputs": [
    {
     "data": {
      "text/plain": [
       "[Cube:{\"Name\": \"Employee\", \"Dimensions@odata.bind\": [\"Dimensions('Version')\", \"Dimensions('Year')\", \"Dimensions('Month')\", \"Dimensions('Organisation')\", \"Dimensions('Department')\", \"Dimensions('Employee')\", \"Dimensions('Employee Measure')\"], \"Rules\": \"SKIPCHECK;\\n\\n\\n\\n\\n\\n\\n\\n\\n\\n\\n\\n\\n\\nFEEDERS;\\n\\n[ 'Version':'Actual', 'Employee':'All Employees', 'Employee Measure':'Base Salary' ] =>\\nDB('General Ledger',!Version,!Year,!Month,!Organisation,!Department,'Salaries','Amount') ;\\n\\n\"},\n",
       " Cube:{\"Name\": \"}CellAnnotations_Employee\", \"Dimensions@odata.bind\": [\"Dimensions('Version')\", \"Dimensions('Year')\", \"Dimensions('Month')\", \"Dimensions('Organisation')\", \"Dimensions('Department')\", \"Dimensions('Employee')\", \"Dimensions('Employee Measure')\", \"Dimensions('}AnnotationMeasures')\"]},\n",
       " Cube:{\"Name\": \"General Ledger\", \"Dimensions@odata.bind\": [\"Dimensions('Version')\", \"Dimensions('Year')\", \"Dimensions('Month')\", \"Dimensions('Organisation')\", \"Dimensions('Department')\", \"Dimensions('Account')\", \"Dimensions('GL Measure')\"], \"Rules\": \"SKIPCHECK;\\n\\n\\n[ 'Version':'Actual', 'Account':'Salaries', 'GL Measure':'Amount' ] = N:\\nDB('Employee',!Version,!Year,!Month,!Organisation,!Department,'All Employees','Base Salary');\\n\\n\\n\\n\\n\\n\\n\\n\\n\\n\\n\\nFEEDERS;\\n\"},\n",
       " Cube:{\"Name\": \"}StatsByRule\", \"Dimensions@odata.bind\": [\"Dimensions('}Cubes')\", \"Dimensions('}LineNumber')\", \"Dimensions('}RuleStats')\"]},\n",
       " Cube:{\"Name\": \"}StatsByCubeByClient\", \"Dimensions@odata.bind\": [\"Dimensions('}PerfClients')\", \"Dimensions('}PerfCubes')\", \"Dimensions('}Cube Functions')\", \"Dimensions('}StatsStatsByCubeByClient')\", \"Dimensions('}TimeIntervals')\"]},\n",
       " Cube:{\"Name\": \"}StatsByCube\", \"Dimensions@odata.bind\": [\"Dimensions('}StatsStatsByCube')\", \"Dimensions('}PerfCubes')\", \"Dimensions('}TimeIntervals')\"]},\n",
       " Cube:{\"Name\": \"}StatsByProcess\", \"Dimensions@odata.bind\": [\"Dimensions('}TimeIntervals')\", \"Dimensions('}Processes')\", \"Dimensions('}StatsByProcess')\"]},\n",
       " Cube:{\"Name\": \"}HierarchyProperties\", \"Dimensions@odata.bind\": [\"Dimensions('}Dimensions')\", \"Dimensions('}Hierarchies')\", \"Dimensions('}HierarchyProperties')\"]},\n",
       " Cube:{\"Name\": \"Product Map\", \"Dimensions@odata.bind\": [\"Dimensions('Product Source')\", \"Dimensions('Index')\", \"Dimensions('Product Map Measure')\"], \"Rules\": \"SKIPCHECK;\\n\\n# Active Form Row Flag\\n['Index':'1', 'Product Map Measure':'Active Form Row Flag'] = N:\\nIF(\\n      DB('Product Info', !Product Source, 'Active Product')@='Y'\\n            , 1\\n            , STET\\n);\\n\\n['Product Map Measure':'Active Form Row Flag'] = N:\\nIF(\\n      DB('Product Map', !Product Source, AttrS('Index', !Index, 'Previous Index'), 'Target Product') @<>'' %\\n      DB('Product Map', !Product Source, !Index, 'Target Product') @<>'' \\n      #%\\n      #DB('Product Map', !Product Source, AttrS('Index', !Index, 'Next Index'), 'Target Product') @<>''\\n            , 1\\n            , STET\\n);\\n\\n\\n\\nFEEDERS;\\n\\n# Active Form Row Flag\\n['Product Map Measure':'Active Form Row Flag'] =>\\n   DB('Product Map', !Product Source, AttrS('Index', !Index, 'Next Index'), 'Active Form Row Flag');\\n\\n['Product Map Measure':'Target Product'] =>\\n   ['Product Map Measure':'Active Form Row Flag'] ;\"},\n",
       " Cube:{\"Name\": \"}PickList_Product Map\", \"Dimensions@odata.bind\": [\"Dimensions('Product Source')\", \"Dimensions('Index')\", \"Dimensions('Product Map Measure')\", \"Dimensions('}PickList')\"], \"Rules\": \"[ 'Product Map Measure':'Target Product' ] = S:\\n# ( 'static:Target Product 01:Target Product 02:Target Product 03:Target Product 04:Target Product 05' )\\t ;\\n   ( 'subset:Product Target:Level 0' ) ;\\n# ( 'dimension:Product Target' ) ;\"},\n",
       " Cube:{\"Name\": \"}DimensionProperties\", \"Dimensions@odata.bind\": [\"Dimensions('}Dimensions')\", \"Dimensions('}DimensionProperties')\"]},\n",
       " Cube:{\"Name\": \"}StatsByChore\", \"Dimensions@odata.bind\": [\"Dimensions('}TimeIntervals')\", \"Dimensions('}Chores')\", \"Dimensions('}StatsByProcess')\"]},\n",
       " Cube:{\"Name\": \"}ElementAttributes_Month\", \"Dimensions@odata.bind\": [\"Dimensions('Month')\", \"Dimensions('}ElementAttributes_Month')\"]},\n",
       " Cube:{\"Name\": \"Pixel\", \"Dimensions@odata.bind\": [\"Dimensions('Rows')\", \"Dimensions('Columns')\", \"Dimensions('Pixel')\"]},\n",
       " Cube:{\"Name\": \"}ElementAttributes_Employee\", \"Dimensions@odata.bind\": [\"Dimensions('Employee')\", \"Dimensions('}ElementAttributes_Employee')\"]},\n",
       " Cube:{\"Name\": \"}StatsByClient\", \"Dimensions@odata.bind\": [\"Dimensions('}StatsStatsByClient')\", \"Dimensions('}PerfClients')\", \"Dimensions('}TimeIntervals')\"], \"Rules\": \"skipcheck;\\n['Bytes/Message']=['Message Bytes']/['Message Count'];\\nfeeders;\\n['Message Bytes']=>['Bytes/Message'];\"},\n",
       " Cube:{\"Name\": \"Dimension Subsets\", \"Dimensions@odata.bind\": [\"Dimensions('}Dimensions')\", \"Dimensions('Subsets')\", \"Dimensions('Dimension Subsets Measure')\"]},\n",
       " Cube:{\"Name\": \"System Drill\", \"Dimensions@odata.bind\": [\"Dimensions('Organisation')\", \"Dimensions('Account')\", \"Dimensions('System Drill Measure')\"]},\n",
       " Cube:{\"Name\": \"}CubeProperties\", \"Dimensions@odata.bind\": [\"Dimensions('}Cubes')\", \"Dimensions('}CubeProperties')\"]},\n",
       " Cube:{\"Name\": \"}ElementAttributes_}Cultures\", \"Dimensions@odata.bind\": [\"Dimensions('}Cultures')\", \"Dimensions('}ElementAttributes_}Cultures')\"]},\n",
       " Cube:{\"Name\": \"}StatsForServer\", \"Dimensions@odata.bind\": [\"Dimensions('}StatsStatsForServer')\", \"Dimensions('}TimeIntervals')\"]},\n",
       " Cube:{\"Name\": \"}ElementAttributes_Index\", \"Dimensions@odata.bind\": [\"Dimensions('Index')\", \"Dimensions('}ElementAttributes_Index')\"]},\n",
       " Cube:{\"Name\": \"}ElementAttributes_Account\", \"Dimensions@odata.bind\": [\"Dimensions('Account')\", \"Dimensions('}ElementAttributes_Account')\"]},\n",
       " Cube:{\"Name\": \"}Capabilities\", \"Dimensions@odata.bind\": [\"Dimensions('}Features')\", \"Dimensions('}Permissions')\", \"Dimensions('}Groups')\"]},\n",
       " Cube:{\"Name\": \"}ElementAttributes_Year\", \"Dimensions@odata.bind\": [\"Dimensions('Year')\", \"Dimensions('}ElementAttributes_Year')\"]},\n",
       " Cube:{\"Name\": \"}CubeSecurityProperties\", \"Dimensions@odata.bind\": [\"Dimensions('}Cubes')\", \"Dimensions('}CubeSecurityProperties')\"]},\n",
       " Cube:{\"Name\": \"}ClientSettings\", \"Dimensions@odata.bind\": [\"Dimensions('}Clients')\", \"Dimensions('}ClientSettings')\"]},\n",
       " Cube:{\"Name\": \"Product Info\", \"Dimensions@odata.bind\": [\"Dimensions('Product Source')\", \"Dimensions('Product Measure')\"], \"Rules\": \"SKIPCHECK;\\n\\n\\n\\n\\n\\nFEEDERS;\\n\\n[ 'Product Measure':'Active Product' ] =>\\n   DB('Product Map',!Product Source,'1','Active Form Row Flag') ;\"},\n",
       " Cube:{\"Name\": \"}ElementAttributes_Product Source\", \"Dimensions@odata.bind\": [\"Dimensions('Product Source')\", \"Dimensions('}ElementAttributes_Product Source')\"]},\n",
       " Cube:{\"Name\": \"}ClientProperties\", \"Dimensions@odata.bind\": [\"Dimensions('}Clients')\", \"Dimensions('}ClientProperties')\"]},\n",
       " Cube:{\"Name\": \"}ElementAttributes_Employee Department\", \"Dimensions@odata.bind\": [\"Dimensions('Employee Department')\", \"Dimensions('}ElementAttributes_Employee Department')\"]},\n",
       " Cube:{\"Name\": \"System Info\", \"Dimensions@odata.bind\": [\"Dimensions('System Info Variable')\", \"Dimensions('System Info Value')\"]},\n",
       " Cube:{\"Name\": \"}ElementAttributes_Region_Tm1\", \"Dimensions@odata.bind\": [\"Dimensions('Region_Tm1')\", \"Dimensions('}ElementAttributes_Region_Tm1')\"]},\n",
       " Cube:{\"Name\": \"}ClientGroups\", \"Dimensions@odata.bind\": [\"Dimensions('}Clients')\", \"Dimensions('}Groups')\"]},\n",
       " Cube:{\"Name\": \"}ElementAttributes_}Groups\", \"Dimensions@odata.bind\": [\"Dimensions('}Groups')\", \"Dimensions('}ElementAttributes_}Groups')\"]},\n",
       " Cube:{\"Name\": \"}ElementAttributes_GL Measure\", \"Dimensions@odata.bind\": [\"Dimensions('GL Measure')\", \"Dimensions('}ElementAttributes_GL Measure')\"]},\n",
       " Cube:{\"Name\": \"}ElementAttributes_Employee Measure\", \"Dimensions@odata.bind\": [\"Dimensions('Employee Measure')\", \"Dimensions('}ElementAttributes_Employee Measure')\"]},\n",
       " Cube:{\"Name\": \"}ElementAttributes_}Clients\", \"Dimensions@odata.bind\": [\"Dimensions('}Clients')\", \"Dimensions('}ElementAttributes_}Clients')\"]},\n",
       " Cube:{\"Name\": \"}ClientCAMAssociatedGroups\", \"Dimensions@odata.bind\": [\"Dimensions('}CAMAssociatedGroups')\", \"Dimensions('}Groups')\"]}]"
      ]
     },
     "execution_count": 5,
     "metadata": {},
     "output_type": "execute_result"
    }
   ],
   "source": [
    "cubes_with_cellnumber"
   ]
  },
  {
   "cell_type": "code",
   "execution_count": 50,
   "id": "ee3b1544",
   "metadata": {},
   "outputs": [],
   "source": []
  },
  {
   "cell_type": "code",
   "execution_count": 54,
   "id": "4b5c74dd",
   "metadata": {},
   "outputs": [],
   "source": []
  },
  {
   "cell_type": "code",
   "execution_count": 63,
   "id": "80078410",
   "metadata": {},
   "outputs": [],
   "source": []
  },
  {
   "cell_type": "code",
   "execution_count": null,
   "id": "3a5659a6",
   "metadata": {},
   "outputs": [],
   "source": []
  },
  {
   "cell_type": "code",
   "execution_count": null,
   "id": "e845ade3",
   "metadata": {},
   "outputs": [],
   "source": []
  }
 ],
 "metadata": {
  "kernelspec": {
   "display_name": "Python 3",
   "language": "python",
   "name": "python3"
  },
  "language_info": {
   "codemirror_mode": {
    "name": "ipython",
    "version": 3
   },
   "file_extension": ".py",
   "mimetype": "text/x-python",
   "name": "python",
   "nbconvert_exporter": "python",
   "pygments_lexer": "ipython3",
   "version": "3.6.8"
  }
 },
 "nbformat": 4,
 "nbformat_minor": 5
}
