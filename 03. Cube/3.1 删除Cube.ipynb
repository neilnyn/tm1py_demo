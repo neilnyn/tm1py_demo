{
 "cells": [
  {
   "cell_type": "markdown",
   "id": "1eca0c1c",
   "metadata": {},
   "source": [
    "#### 函数：\n",
    "tm1.cubes.delete(cube实例)"
   ]
  },
  {
   "cell_type": "code",
   "execution_count": null,
   "id": "88cf15b3",
   "metadata": {},
   "outputs": [],
   "source": [
    "import configparser\n",
    "\n",
    "from TM1py.Services import TM1Service\n",
    "\n",
    "config = configparser.ConfigParser()\n",
    "# storing the credentials in a file is not recommended for purposes other than testing.\n",
    "# it's better to setup CAM with SSO or use keyring to store credentials in the windows credential manager. Sample:\n",
    "# Samples/credentials_best_practice.py\n",
    "config.read('C:\\\\TM1py\\\\tm1py-samples-master\\\\config.ini')\n",
    "\n",
    "with TM1Service(**config['AdventureWorks']) as tm1:\n",
    "    tm1.cubes.delete('XXX Cube')"
   ]
  }
 ],
 "metadata": {
  "kernelspec": {
   "display_name": "Python 3",
   "language": "python",
   "name": "python3"
  },
  "language_info": {
   "codemirror_mode": {
    "name": "ipython",
    "version": 3
   },
   "file_extension": ".py",
   "mimetype": "text/x-python",
   "name": "python",
   "nbconvert_exporter": "python",
   "pygments_lexer": "ipython3",
   "version": "3.6.8"
  }
 },
 "nbformat": 4,
 "nbformat_minor": 5
}
