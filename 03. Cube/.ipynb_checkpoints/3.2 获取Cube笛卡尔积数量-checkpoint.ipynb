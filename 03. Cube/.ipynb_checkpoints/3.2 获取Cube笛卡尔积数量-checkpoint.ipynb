{
 "cells": [
  {
   "cell_type": "markdown",
   "id": "399ecb0d",
   "metadata": {},
   "source": [
    "#### 函数：  \n",
    "获取某个实例中所有的Cube实例(.cub文件)  \n",
    "tm1.cubes.get_all()  \n",
    "Cube实例的维度属性  \n",
    "cube.dimensions获取某cube实例中全部Dim的名字(访问的.dim文件）"
   ]
  },
  {
   "cell_type": "code",
   "execution_count": 64,
   "id": "9bf7d223",
   "metadata": {},
   "outputs": [
    {
     "name": "stdout",
     "output_type": "stream",
     "text": [
      "Cube: Employee, Cells: 285405120\n",
      "Cube: General Ledger, Cells: 137606040\n",
      "Cube: }StatsByRule, Cells: 2590000\n",
      "Cube: }StatsByCubeByClient, Cells: 102752\n",
      "Cube: }StatsByCube, Cells: 77064\n",
      "Cube: }StatsByProcess, Cells: 12168\n",
      "Cube: Product Map, Cells: 4000\n",
      "Cube: }PickList_Product Map, Cells: 4000\n",
      "Cube: }HierarchyProperties, Cells: 3841\n",
      "Cube: }DimensionProperties, Cells: 2839\n",
      "Cube: }ElementAttributes_Month, Cells: 2420\n",
      "Cube: Pixel, Cells: 2241\n",
      "Cube: }ElementAttributes_Employee, Cells: 2156\n",
      "Cube: }StatsByClient, Cells: 1690\n",
      "Cube: Dimension Subsets, Cells: 1503\n",
      "Cube: System Drill, Cells: 1485\n",
      "Cube: }ElementAttributes_}Cultures, Cells: 1100\n",
      "Cube: }CubeProperties, Cells: 1073\n",
      "Cube: }StatsForServer, Cells: 676\n",
      "Cube: }ElementAttributes_Index, Cells: 200\n",
      "Cube: }ElementAttributes_Account, Cells: 198\n",
      "Cube: }Capabilities, Cells: 160\n",
      "Cube: }ElementAttributes_Year, Cells: 130\n",
      "Cube: }CubeSecurityProperties, Cells: 74\n",
      "Cube: Product Info, Cells: 20\n",
      "Cube: }ElementAttributes_Product Source, Cells: 20\n",
      "Cube: }ClientSettings, Cells: 16\n",
      "Cube: }ElementAttributes_Employee Department, Cells: 16\n",
      "Cube: System Info, Cells: 14\n",
      "Cube: }ClientProperties, Cells: 9\n",
      "Cube: }ClientGroups, Cells: 4\n",
      "Cube: }ElementAttributes_}Groups, Cells: 4\n",
      "Cube: }ElementAttributes_GL Measure, Cells: 3\n",
      "Cube: }ElementAttributes_Employee Measure, Cells: 2\n",
      "Cube: }ElementAttributes_}Clients, Cells: 1\n",
      "Cube: }ClientCAMAssociatedGroups, Cells: 0\n",
      "Cube: }StatsByChore, Cells: 0\n"
     ]
    }
   ],
   "source": [
    "\n",
    "from TM1py.Services import TM1Service\n",
    "\n",
    "with TM1Service(address=\"localhost\", port=30011, ssl=True, user=\"admin\", password=\"apple\") as tm1:\n",
    "    # New List to store the cube - number mapping\n",
    "    cubes_with_cellnumber = []\n",
    "    # Loop through cubes and do the math\n",
    "    for cube in tm1.cubes.get_all():\n",
    "        cube.numberCells = 1\n",
    "        for dimension_name in cube.dimensions:\n",
    "            response = tm1._tm1_rest.GET('/api/v1/Dimensions(\\'{}\\')/Hierarchies(\\'{}\\')/Elements/$count'\n",
    "                                         .format(dimension_name, dimension_name))\n",
    "            number = int(response.text)\n",
    "            #等效与cube.numberCells=cube.numberCells*number\n",
    "            cube.numberCells *= number\n",
    "        cubes_with_cellnumber.append(cube)\n",
    "    # Sort the cube list with a lambda expr.\n",
    "    #列表中的key参数：接收一个只有一个参数的函数，这个函数会被用在序列里的每一个元素上，所产生的结果将是排序算法依赖的对比关键字\n",
    "    cubes_with_cellnumber.sort(key=lambda c: c.numberCells, reverse=True)\n",
    "    # Print the results\n",
    "    for cube in cubes_with_cellnumber:\n",
    "        print('Cube: {}, Cells: {}'.format(cube.name, cube.numberCells))"
   ]
  },
  {
   "cell_type": "code",
   "execution_count": 26,
   "id": "7d3f9b22",
   "metadata": {},
   "outputs": [],
   "source": [
    "\n",
    "        \n",
    "from TM1py.Services import TM1Service\n",
    "\n",
    "with TM1Service(address=\"localhost\", port=30011, ssl=True, user=\"admin\", password=\"apple\") as tm1:\n",
    "    \n",
    "    \n",
    "    # Loop through cubes and do the math\n",
    "    cubes=tm1.cubes.get_all()\n",
    "    print(cubes[0]) "
   ]
  },
  {
   "cell_type": "code",
   "execution_count": null,
   "id": "f151f306",
   "metadata": {},
   "outputs": [],
   "source": [
    "from TM1py.Services import TM1Service\n",
    "\n",
    "with TM1Service(address=\"localhost\", port=30011, ssl=True, user=\"admin\", password=\"apple\") as tm1:\n",
    "\n",
    "    # Loop through cubes and do the math\n",
    "    for cube in tm1.cubes.get_all():\n",
    "        cube.numberCells = 1\n",
    "        for dimension_name in cube.dimensions:"
   ]
  },
  {
   "cell_type": "code",
   "execution_count": 50,
   "id": "ee3b1544",
   "metadata": {},
   "outputs": [],
   "source": []
  },
  {
   "cell_type": "code",
   "execution_count": 54,
   "id": "4b5c74dd",
   "metadata": {},
   "outputs": [],
   "source": []
  },
  {
   "cell_type": "code",
   "execution_count": 63,
   "id": "80078410",
   "metadata": {},
   "outputs": [],
   "source": []
  },
  {
   "cell_type": "code",
   "execution_count": null,
   "id": "3a5659a6",
   "metadata": {},
   "outputs": [],
   "source": []
  },
  {
   "cell_type": "code",
   "execution_count": null,
   "id": "e845ade3",
   "metadata": {},
   "outputs": [],
   "source": []
  }
 ],
 "metadata": {
  "kernelspec": {
   "display_name": "Python 3",
   "language": "python",
   "name": "python3"
  },
  "language_info": {
   "codemirror_mode": {
    "name": "ipython",
    "version": 3
   },
   "file_extension": ".py",
   "mimetype": "text/x-python",
   "name": "python",
   "nbconvert_exporter": "python",
   "pygments_lexer": "ipython3",
   "version": "3.6.8"
  }
 },
 "nbformat": 4,
 "nbformat_minor": 5
}
