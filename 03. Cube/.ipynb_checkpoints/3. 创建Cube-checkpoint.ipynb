{
 "cells": [
  {
   "cell_type": "markdown",
   "id": "8c074089",
   "metadata": {},
   "source": [
    "#### 函数： \n",
    "创建cube实例\n",
    "Cube(name='',dimensions=[])  \n",
    "将cube实例装入Tm1  \n",
    "tm1.cubes.create(cube实例)"
   ]
  },
  {
   "cell_type": "code",
   "execution_count": null,
   "id": "c09e5425",
   "metadata": {},
   "outputs": [],
   "source": [
    "from TM1py.Objects import Cube\n",
    "from TM1py.Services import TM1Service\n",
    "\n",
    "# connection to TM1 Server\n",
    "with TM1Service(**config['AdventureWorks']) as tm1:\n",
    "    cube = Cube(name='XXX Cube', dimensions=['d1', 'd2', 'd3', 'dn'], rules='')\n",
    "    tm1.cubes.create(cube)"
   ]
  }
 ],
 "metadata": {
  "kernelspec": {
   "display_name": "Python 3",
   "language": "python",
   "name": "python3"
  },
  "language_info": {
   "codemirror_mode": {
    "name": "ipython",
    "version": 3
   },
   "file_extension": ".py",
   "mimetype": "text/x-python",
   "name": "python",
   "nbconvert_exporter": "python",
   "pygments_lexer": "ipython3",
   "version": "3.6.8"
  }
 },
 "nbformat": 4,
 "nbformat_minor": 5
}
