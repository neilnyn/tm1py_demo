{
 "cells": [
  {
   "cell_type": "code",
   "execution_count": 33,
   "id": "7a68337b",
   "metadata": {},
   "outputs": [],
   "source": [
    "import TM1py\n",
    "from TM1py import TM1Service,Rules"
   ]
  },
  {
   "cell_type": "code",
   "execution_count": null,
   "id": "e6e9b114",
   "metadata": {},
   "outputs": [],
   "source": []
  },
  {
   "cell_type": "code",
   "execution_count": 226,
   "id": "061cfdf7",
   "metadata": {},
   "outputs": [],
   "source": [
    "#获取列表，并将列表的文本组合成长字符串用换行符链接\n",
    "def handle_rule_list(li:list):\n",
    "    s=''\n",
    "    cnt=1\n",
    "    n=len(li)\n",
    "    for l in li:\n",
    "        if cnt==1:\n",
    "            s=l\n",
    "        elif cnt==n:\n",
    "            s=s+';'+'\\n'+l+';'\n",
    "        else:\n",
    "            s=s+';'+'\\n'+l\n",
    "        cnt=cnt+1\n",
    "    return s"
   ]
  },
  {
   "cell_type": "code",
   "execution_count": null,
   "id": "4fb3ce56",
   "metadata": {},
   "outputs": [],
   "source": []
  },
  {
   "cell_type": "code",
   "execution_count": 159,
   "id": "cb2dfa02",
   "metadata": {},
   "outputs": [],
   "source": [
    "#获取某维度中某个节点下全部的项目\n",
    "def descendants(tm1:TM1Service,dim:str,element:str):\n",
    "    hier=tm1.hierarchies.get(dimension_name=dim,hierarchy_name=dim)\n",
    "    desc=hier.get_descendants(element_name=element,recursive=True)\n",
    "    return desc"
   ]
  },
  {
   "cell_type": "code",
   "execution_count": 191,
   "id": "cdb5cc19",
   "metadata": {},
   "outputs": [],
   "source": [
    "#获取某cube中的rules,忽略skipcheck&feeders特定开头结尾，并处理成列表\n",
    "def rules(tm1:TM1Service,cube:str):\n",
    "    cube=tm1.cubes.get(cube)\n",
    "    rules=cube.rules\n",
    "    rule_list=rules.rule_statements\n",
    "    #忽略skipcheck\n",
    "    if str.lower(rule_list[0])=='skipcheck':\n",
    "        rule_list.pop(0)\n",
    "    #忽略feeders\n",
    "    if str.lower(rule_list[-1])=='feeders':\n",
    "        rule_list.pop(-1)\n",
    "    return rule_list"
   ]
  },
  {
   "cell_type": "code",
   "execution_count": 341,
   "id": "3126eb01",
   "metadata": {},
   "outputs": [],
   "source": [
    "#更新某cube的rule\n",
    "def update_rules(tm1:TM1Service,rules_str:str,cube:str):\n",
    "    try:\n",
    "        new_rules=Rules(rules_str)\n",
    "        cube=tm1.cubes.get(cube)\n",
    "        cube.rules=new_rules\n",
    "        tm1.cubes.update(cube)\n",
    "    except Exception as e:\n",
    "        tm1.server.write_to_message_log('WARN',cube+'规则更新失败')"
   ]
  },
  {
   "cell_type": "code",
   "execution_count": 340,
   "id": "dfa75a76",
   "metadata": {},
   "outputs": [],
   "source": [
    "#根据某维度，某个汇总节点创建下属所有的数据权限组,并修改相关cube的cellsecurity\n",
    "def create_groups_and_update_securityrules(tm1:TM1Service,dim:str,element:str,group_prefix:str,security_cube:str):\n",
    "    desc=descendants(tm1,dim,element)\n",
    "    #同时生成rule的列表\n",
    "    new_rule_list=[]\n",
    "    for ele in desc:\n",
    "        element_exist_judge=tm1.elements.exists(dimension_name='}Groups',hierarchy_name='}Groups',element_name=group_prefix+':'+ele.name)\n",
    "        if element_exist_judge==False:\n",
    "            #更新}group权限组\n",
    "            try:\n",
    "                tm1.security.create_group(group_prefix+':'+ele.name)\n",
    "            except Exception as e:\n",
    "                print('报错如下：'+str(e)+'  结束')\n",
    "                tm1.server.write_to_message_log('WARN','更新}Group的'+dim+'权限的组失败:'+group_prefix+':'+ele.name)\n",
    "            new_rule_list.append(\"['\"+group_prefix+\":\"+ele.name+\"']\"+\"=S:\"+\"IF((ELISANC(\"+\"'\"+dim+\"'\"+\",\"+\"'\"+ele.name+\"'\"+\",\"+\"!\"+dim+\")\"+\"<>0 % \"+\"!\"+dim+\"@=\"+\"'\"+ele.name+\"'\"+\")\"+\",\"+\\\n",
    "            \"'READ',CONTINUE)\")\n",
    "    #现存rule的获取\n",
    "    existing_rule_list=rules(tm1,security_cube)\n",
    "    #整合新老rules\n",
    "    pre_updating_rule_list=existing_rule_list+new_rule_list\n",
    "    pre_updating_rule_list.insert(0,'SKIPCHECK')\n",
    "    pre_updating_rule_list.append('FEEDERS')\n",
    "    pre_updating_rule_str=handle_rule_list(pre_updating_rule_list)\n",
    "    #更新rules\n",
    "    update_rules(tm1,pre_updating_rule_str,security_cube)"
   ]
  },
  {
   "cell_type": "code",
   "execution_count": 344,
   "id": "5e71708d",
   "metadata": {},
   "outputs": [],
   "source": [
    "#测试建立D8在}group中\n",
    "with TM1Service(address='localhost',port=30059, ssl=False,user='neil',password='123') as tm1:\n",
    "    create_groups_and_update_securityrules(tm1,'Account PL','PL300 - 五、净利润','D8 Security','}CellSecurity_D8 Profit Loss')"
   ]
  },
  {
   "cell_type": "code",
   "execution_count": null,
   "id": "59c93a55",
   "metadata": {},
   "outputs": [],
   "source": []
  },
  {
   "cell_type": "code",
   "execution_count": null,
   "id": "f538a0f8",
   "metadata": {},
   "outputs": [],
   "source": [
    "    "
   ]
  },
  {
   "cell_type": "code",
   "execution_count": null,
   "id": "0f4ae3d5",
   "metadata": {},
   "outputs": [],
   "source": []
  },
  {
   "cell_type": "code",
   "execution_count": null,
   "id": "da224394",
   "metadata": {},
   "outputs": [],
   "source": []
  },
  {
   "cell_type": "code",
   "execution_count": null,
   "id": "e31e1982",
   "metadata": {},
   "outputs": [],
   "source": []
  },
  {
   "cell_type": "code",
   "execution_count": null,
   "id": "a0e2a81f",
   "metadata": {},
   "outputs": [],
   "source": []
  },
  {
   "cell_type": "code",
   "execution_count": null,
   "id": "da9de54d",
   "metadata": {},
   "outputs": [],
   "source": []
  },
  {
   "cell_type": "code",
   "execution_count": null,
   "id": "32569947",
   "metadata": {},
   "outputs": [],
   "source": []
  },
  {
   "cell_type": "code",
   "execution_count": null,
   "id": "5bb4537d",
   "metadata": {},
   "outputs": [],
   "source": []
  },
  {
   "cell_type": "code",
   "execution_count": null,
   "id": "58548afd",
   "metadata": {},
   "outputs": [],
   "source": []
  },
  {
   "cell_type": "code",
   "execution_count": 161,
   "id": "c6376cc1",
   "metadata": {},
   "outputs": [
    {
     "data": {
      "text/plain": [
       "True"
      ]
     },
     "execution_count": 161,
     "metadata": {},
     "output_type": "execute_result"
    }
   ],
   "source": [
    "'a' in ['a','b','c']"
   ]
  },
  {
   "cell_type": "code",
   "execution_count": 173,
   "id": "5f8abd26",
   "metadata": {},
   "outputs": [
    {
     "ename": "SyntaxError",
     "evalue": "invalid syntax (<ipython-input-173-5634fa177f0c>, line 1)",
     "output_type": "error",
     "traceback": [
      "\u001b[1;36m  File \u001b[1;32m\"<ipython-input-173-5634fa177f0c>\"\u001b[1;36m, line \u001b[1;32m1\u001b[0m\n\u001b[1;33m    a=\"a\"+\u001b[0m\n\u001b[1;37m          ^\u001b[0m\n\u001b[1;31mSyntaxError\u001b[0m\u001b[1;31m:\u001b[0m invalid syntax\n"
     ]
    }
   ],
   "source": [
    "a=\"a\"+\\\n",
    "\"b\""
   ]
  },
  {
   "cell_type": "code",
   "execution_count": 200,
   "id": "fc6ebf37",
   "metadata": {},
   "outputs": [],
   "source": [
    "a=[]\n",
    "a.append(\"a\")"
   ]
  },
  {
   "cell_type": "code",
   "execution_count": 201,
   "id": "902b6292",
   "metadata": {},
   "outputs": [
    {
     "data": {
      "text/plain": [
       "['a']"
      ]
     },
     "execution_count": 201,
     "metadata": {},
     "output_type": "execute_result"
    }
   ],
   "source": [
    "a"
   ]
  },
  {
   "cell_type": "code",
   "execution_count": 176,
   "id": "54c2d43c",
   "metadata": {},
   "outputs": [],
   "source": [
    "b=['b']"
   ]
  },
  {
   "cell_type": "code",
   "execution_count": 177,
   "id": "f69d9b7b",
   "metadata": {},
   "outputs": [
    {
     "data": {
      "text/plain": [
       "['a', 'b']"
      ]
     },
     "execution_count": 177,
     "metadata": {},
     "output_type": "execute_result"
    }
   ],
   "source": [
    "a+b"
   ]
  },
  {
   "cell_type": "code",
   "execution_count": 192,
   "id": "4128d248",
   "metadata": {},
   "outputs": [],
   "source": [
    " with TM1Service(address='localhost',port=30059, ssl=False,user='neil',password='123') as tm1:\n",
    "        security_cube='}CellSecurity_D8 Profit Loss'\n",
    "        existing_rule_list=rules(tm1,security_cube)"
   ]
  },
  {
   "cell_type": "code",
   "execution_count": 193,
   "id": "b6d54753",
   "metadata": {},
   "outputs": [
    {
     "data": {
      "text/plain": [
       "[\"['FUNCTIONAL SECURITY：CASHIER']=S:STET\"]"
      ]
     },
     "execution_count": 193,
     "metadata": {},
     "output_type": "execute_result"
    }
   ],
   "source": [
    "existing_rule_list"
   ]
  },
  {
   "cell_type": "code",
   "execution_count": 190,
   "id": "71586b29",
   "metadata": {},
   "outputs": [
    {
     "data": {
      "text/plain": [
       "'ski'"
      ]
     },
     "execution_count": 190,
     "metadata": {},
     "output_type": "execute_result"
    }
   ],
   "source": [
    "str.lower('SKI')"
   ]
  },
  {
   "cell_type": "code",
   "execution_count": 318,
   "id": "fe250951",
   "metadata": {},
   "outputs": [],
   "source": [
    " with TM1Service(address='localhost',port=30059, ssl=False,user='neil',password='123') as tm1:\n",
    "        tm1.server.write_to_message_log('WARN','测试message log')\n",
    "        tm1.files.update_or_create(file_name='C:\\\\DBs_EDU\\\\Neil\\\\log\\\\teat23_rules_update_failure_check',file_content='AAAA'.encode())\n",
    "        tm1.files."
   ]
  },
  {
   "cell_type": "code",
   "execution_count": 265,
   "id": "e81963d3",
   "metadata": {},
   "outputs": [],
   "source": [
    "try:\n",
    "    re=10/0\n",
    "except Exception as e:\n",
    "    #print(str(e))\n",
    "    str(e)"
   ]
  },
  {
   "cell_type": "code",
   "execution_count": 317,
   "id": "b0f2ee37",
   "metadata": {},
   "outputs": [
    {
     "data": {
      "text/plain": [
       "b'AAAAA'"
      ]
     },
     "execution_count": 317,
     "metadata": {},
     "output_type": "execute_result"
    }
   ],
   "source": [
    "'AAAAA'.encode()"
   ]
  },
  {
   "cell_type": "code",
   "execution_count": 325,
   "id": "b311e449",
   "metadata": {},
   "outputs": [
    {
     "data": {
      "text/plain": [
       "\"['a']\""
      ]
     },
     "execution_count": 325,
     "metadata": {},
     "output_type": "execute_result"
    }
   ],
   "source": [
    "str(['a'])"
   ]
  },
  {
   "cell_type": "code",
   "execution_count": null,
   "id": "efe91951",
   "metadata": {},
   "outputs": [],
   "source": []
  }
 ],
 "metadata": {
  "kernelspec": {
   "display_name": "Python 3",
   "language": "python",
   "name": "python3"
  },
  "language_info": {
   "codemirror_mode": {
    "name": "ipython",
    "version": 3
   },
   "file_extension": ".py",
   "mimetype": "text/x-python",
   "name": "python",
   "nbconvert_exporter": "python",
   "pygments_lexer": "ipython3",
   "version": "3.7.9"
  }
 },
 "nbformat": 4,
 "nbformat_minor": 5
}
