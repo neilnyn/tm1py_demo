{
 "cells": [
  {
   "cell_type": "code",
   "execution_count": 33,
   "id": "836d7257",
   "metadata": {},
   "outputs": [],
   "source": [
    "from TM1py import TM1Service,Rules\n",
    "import logging"
   ]
  },
  {
   "cell_type": "code",
   "execution_count": null,
   "id": "d2a5d648",
   "metadata": {},
   "outputs": [],
   "source": []
  },
  {
   "cell_type": "code",
   "execution_count": 226,
   "id": "6278944c",
   "metadata": {},
   "outputs": [],
   "source": [
    "#获取列表，并将列表的文本组合成长字符串用换行符链接\n",
    "def handle_rule_list(li:list):\n",
    "    s=''\n",
    "    cnt=1\n",
    "    n=len(li)\n",
    "    for l in li:\n",
    "        if cnt==1:\n",
    "            s=l\n",
    "        elif cnt==n:\n",
    "            s=s+';'+'\\n'+l+';'\n",
    "        else:\n",
    "            s=s+';'+'\\n'+l\n",
    "        cnt=cnt+1\n",
    "    return s"
   ]
  },
  {
   "cell_type": "code",
   "execution_count": null,
   "id": "5d410658",
   "metadata": {},
   "outputs": [],
   "source": []
  },
  {
   "cell_type": "code",
   "execution_count": 495,
   "id": "a6c90fd6",
   "metadata": {},
   "outputs": [],
   "source": [
    "#获取某维度中某个节点下全部的项目\n",
    "def descendants(tm1:TM1Service,dim:str,element:str):\n",
    "    hier=tm1.hierarchies.get(dimension_name=dim,hierarchy_name=dim)\n",
    "    desc=hier.get_descendants(element_name=element,recursive=True)\n",
    "    ele=tm1.elements.get(dim,dim,element)\n",
    "    desc=list(desc)\n",
    "    desc.append(ele)\n",
    "    return desc"
   ]
  },
  {
   "cell_type": "code",
   "execution_count": 494,
   "id": "03022431",
   "metadata": {},
   "outputs": [],
   "source": [
    "#获取某cube中的rules,忽略skipcheck&feeders特定开头结尾，并处理成列表\n",
    "def rules(tm1:TM1Service,cube:str):\n",
    "    cube=tm1.cubes.get(cube)\n",
    "    rules=cube.rules\n",
    "    if rules is None:\n",
    "        rule_list=[]\n",
    "    else:   \n",
    "        rule_list=rules.rule_statements\n",
    "        #忽略skipcheck\n",
    "        if str.lower(rule_list[0])=='skipcheck':\n",
    "            rule_list.pop(0)\n",
    "        #忽略feeders\n",
    "        if str.lower(rule_list[-1])=='feeders':\n",
    "            rule_list.pop(-1)\n",
    "    return rule_list"
   ]
  },
  {
   "cell_type": "code",
   "execution_count": 496,
   "id": "f979858f",
   "metadata": {},
   "outputs": [],
   "source": [
    "#更新某cube的rule\n",
    "def update_rules(tm1:TM1Service,rules_str:str,cube:str):\n",
    "    try:\n",
    "        new_rules=Rules(rules_str)\n",
    "        cube=tm1.cubes.get(cube)\n",
    "        cube.rules=new_rules\n",
    "        tm1.cubes.update(cube)\n",
    "    except Exception as e:\n",
    "        #写入pa日志报错信息\n",
    "        tm1.server.write_to_message_log('WARN',cube+'规则更新失败')"
   ]
  },
  {
   "cell_type": "code",
   "execution_count": 497,
   "id": "b4bb8552",
   "metadata": {},
   "outputs": [],
   "source": [
    "#新建cellsecurity控制cube（如不存在） \n",
    "def create_cell_security_cube(tm1:TM1Service,cube:str):\n",
    "        security_cube='}CellSecurity_'+cube\n",
    "        dim_list=tm1.cubes.get_dimension_names(cube)   \n",
    "        if tm1.cubes.exists(cube_name=security_cube)==False:\n",
    "            p=''\n",
    "            for i in range(len(dim_list)):\n",
    "                p=p+'1:'\n",
    "            p=p[:-1] \n",
    "            tm1.processes.execute_ti_code([\"CellSecurityCubeCreate('\"+cube+\"','\"+p+\"');\"])   "
   ]
  },
  {
   "cell_type": "code",
   "execution_count": 498,
   "id": "6d8a9b81",
   "metadata": {},
   "outputs": [],
   "source": [
    "#根据某维度，某个汇总节点创建下属所有的数据权限组,并修改相关cube的cellsecurity\n",
    "def create_groups_and_update_securityrules(tm1:TM1Service,dim:str,element:str,group_prefix:str,cube:str):\n",
    "    #创建cellsecurity_cube,如果不存在\n",
    "    create_cell_security_cube(tm1,cube)\n",
    "    security_cube='}CellSecurity_'+cube\n",
    "    desc=descendants(tm1,dim,element)\n",
    "    #同时生成rule的列表\n",
    "    new_rule_list=[]\n",
    "    for ele in desc:\n",
    "        element_exist_judge=tm1.elements.exists(dimension_name='}Groups',hierarchy_name='}Groups',element_name=group_prefix+':'+ele.name)\n",
    "        if element_exist_judge==False:\n",
    "            #更新}group权限组\n",
    "            try:\n",
    "                tm1.security.create_group(group_prefix+':'+ele.name)\n",
    "            except Exception as e:\n",
    "                print('报错如下：'+str(e)+'  结束')\n",
    "                #写入pa日志报错信息\n",
    "                tm1.server.write_to_message_log('WARN','更新}Group的'+dim+'权限的组失败:'+group_prefix+':'+ele.name)\n",
    "            new_rule_list.append(\"['\"+group_prefix+\":\"+ele.name+\"']\"+\"=S:\"+\"IF((ELISANC(\"+\"'\"+dim+\"'\"+\",\"+\"'\"+ele.name+\"'\"+\",\"+\"!\"+dim+\")\"+\"<>0 % \"+\"!\"+dim+\"@=\"+\"'\"+ele.name+\"'\"+\")\"+\",\"+\\\n",
    "            \"'READ',CONTINUE)\")\n",
    "    #现存rule的获取\n",
    "    existing_rule_list=rules(tm1,security_cube)\n",
    "    #整合新老rules\n",
    "    pre_updating_rule_list=existing_rule_list+['#以下规则为系统自动写入']+new_rule_list\n",
    "    pre_updating_rule_list.insert(0,'SKIPCHECK')\n",
    "    pre_updating_rule_list.append('FEEDERS')\n",
    "    pre_updating_rule_str=handle_rule_list(pre_updating_rule_list)\n",
    "    #更新rules\n",
    "    update_rules(tm1,pre_updating_rule_str,security_cube)"
   ]
  },
  {
   "cell_type": "code",
   "execution_count": 346,
   "id": "bb1c4684",
   "metadata": {},
   "outputs": [],
   "source": [
    "#建立连接\n",
    "def setup(address:str,port:int,ssl:bool,user:str,password:str):\n",
    "    tm1=TM1Service(address=address,port=port, ssl=ssl,user=user,password=password)\n",
    "    return tm1"
   ]
  },
  {
   "cell_type": "code",
   "execution_count": 347,
   "id": "51d08643",
   "metadata": {},
   "outputs": [],
   "source": [
    "#登出\n",
    "def logout(tm1:TM1Service):\n",
    "    tm1.logout()"
   ]
  },
  {
   "cell_type": "code",
   "execution_count": 500,
   "id": "2e074e38",
   "metadata": {},
   "outputs": [],
   "source": [
    "#测试建立D8在}group中\n",
    "logging.basicConfig(level=logging.INFO,format='%(asctime)s -%(name)s -%(levelname)s - %(message)s')\n",
    "if __name__=='__main__':\n",
    "#     tm1=setup(address='localhost',port=30059, ssl=False,user='neil',password='123')\n",
    "#     try:\n",
    "#         create_groups_and_update_securityrules(tm1,'Account PL','PL100 - 三、营业利润','D8 Security','D8 Profit Loss')\n",
    "#     except Exception as e:\n",
    "#         logging.error(str(e))\n",
    "#     finally:\n",
    "#         logout(tm1)\n",
    "    create_groups_and_update_securityrules(tm1,'Account PL','PL100 - 三、营业利润','D8 Security','D8 Profit Loss')"
   ]
  },
  {
   "cell_type": "code",
   "execution_count": null,
   "id": "71e774d2",
   "metadata": {},
   "outputs": [],
   "source": []
  },
  {
   "cell_type": "code",
   "execution_count": 348,
   "id": "bbb90664",
   "metadata": {},
   "outputs": [],
   "source": []
  },
  {
   "cell_type": "code",
   "execution_count": 354,
   "id": "978e1084",
   "metadata": {},
   "outputs": [],
   "source": []
  },
  {
   "cell_type": "code",
   "execution_count": null,
   "id": "85bc0135",
   "metadata": {},
   "outputs": [],
   "source": [
    "tm1.cubes."
   ]
  },
  {
   "cell_type": "code",
   "execution_count": 357,
   "id": "32730968",
   "metadata": {},
   "outputs": [],
   "source": [
    "logging.basicConfig(level=logging.INFO,format='%(asctime)s -%(name)s -%(levelname)s - %(message)s')"
   ]
  },
  {
   "cell_type": "code",
   "execution_count": 358,
   "id": "78de94f7",
   "metadata": {},
   "outputs": [
    {
     "name": "stderr",
     "output_type": "stream",
     "text": [
      "2024-04-17 11:01:52,711 ERROR:err\n"
     ]
    }
   ],
   "source": [
    "logging.error('err')"
   ]
  },
  {
   "cell_type": "code",
   "execution_count": null,
   "id": "5cefad8a",
   "metadata": {},
   "outputs": [],
   "source": []
  },
  {
   "cell_type": "code",
   "execution_count": null,
   "id": "014a23d2",
   "metadata": {},
   "outputs": [],
   "source": []
  },
  {
   "cell_type": "code",
   "execution_count": null,
   "id": "a618ac5b",
   "metadata": {},
   "outputs": [],
   "source": []
  },
  {
   "cell_type": "code",
   "execution_count": null,
   "id": "43630bbb",
   "metadata": {},
   "outputs": [],
   "source": []
  },
  {
   "cell_type": "code",
   "execution_count": 161,
   "id": "679bb863",
   "metadata": {},
   "outputs": [
    {
     "data": {
      "text/plain": [
       "True"
      ]
     },
     "execution_count": 161,
     "metadata": {},
     "output_type": "execute_result"
    }
   ],
   "source": [
    "'a' in ['a','b','c']"
   ]
  },
  {
   "cell_type": "code",
   "execution_count": 173,
   "id": "7c8aad34",
   "metadata": {},
   "outputs": [
    {
     "ename": "SyntaxError",
     "evalue": "invalid syntax (<ipython-input-173-5634fa177f0c>, line 1)",
     "output_type": "error",
     "traceback": [
      "\u001b[1;36m  File \u001b[1;32m\"<ipython-input-173-5634fa177f0c>\"\u001b[1;36m, line \u001b[1;32m1\u001b[0m\n\u001b[1;33m    a=\"a\"+\u001b[0m\n\u001b[1;37m          ^\u001b[0m\n\u001b[1;31mSyntaxError\u001b[0m\u001b[1;31m:\u001b[0m invalid syntax\n"
     ]
    }
   ],
   "source": [
    "a=\"a\"+\\\n",
    "\"b\""
   ]
  },
  {
   "cell_type": "code",
   "execution_count": 200,
   "id": "50bb2014",
   "metadata": {},
   "outputs": [],
   "source": [
    "a=[]\n",
    "a.append(\"a\")"
   ]
  },
  {
   "cell_type": "code",
   "execution_count": 201,
   "id": "9daa7044",
   "metadata": {},
   "outputs": [
    {
     "data": {
      "text/plain": [
       "['a']"
      ]
     },
     "execution_count": 201,
     "metadata": {},
     "output_type": "execute_result"
    }
   ],
   "source": [
    "a"
   ]
  },
  {
   "cell_type": "code",
   "execution_count": 176,
   "id": "ab866af1",
   "metadata": {},
   "outputs": [],
   "source": [
    "b=['b']"
   ]
  },
  {
   "cell_type": "code",
   "execution_count": 177,
   "id": "e6578eee",
   "metadata": {},
   "outputs": [
    {
     "data": {
      "text/plain": [
       "['a', 'b']"
      ]
     },
     "execution_count": 177,
     "metadata": {},
     "output_type": "execute_result"
    }
   ],
   "source": [
    "a+b"
   ]
  },
  {
   "cell_type": "code",
   "execution_count": 492,
   "id": "16be1a60",
   "metadata": {},
   "outputs": [],
   "source": [
    " with TM1Service(address='localhost',port='30059', ssl='False',user='neil',password='123') as tm1:\n",
    "#     hier=tm1.hierarchies.get('Account PL',hierarchy_name='Account PL')\n",
    "#     desc=hier.get_descendants(element_name='PL100 - 三、营业利润',recursive=True)\n",
    "#     ele=tm1.elements.get('Account PL','Account PL','PL100 - 三、营业利润')\n",
    "#     desc=list(desc)\n",
    "#     desc.append(ele)\n",
    "#     cube=tm1.cubes.get('}CellSecurity_D8 Profit Loss')\n",
    "#     rules=cube.rules\n",
    "#     desc=set(desc)\n",
    "#     tm1.elements.get()\n",
    "    def rules(tm1:TM1Service,cube:str):\n",
    "        cube=tm1.cubes.get(cube)\n",
    "        rules=cube.rules\n",
    "        if rules is None:\n",
    "            rule_list=[]\n",
    "        else:   \n",
    "            rule_list=rules.rule_statements\n",
    "            #忽略skipcheck\n",
    "            if str.lower(rule_list[0])=='skipcheck':\n",
    "                rule_list.pop(0)\n",
    "            #忽略feeders\n",
    "            if str.lower(rule_list[-1])=='feeders':\n",
    "                rule_list.pop(-1)\n",
    "        return rule_list\n",
    "    r=rules(tm1,'}CellSecurity_D8 Profit Loss')\n",
    "            "
   ]
  },
  {
   "cell_type": "code",
   "execution_count": 493,
   "id": "72eb3c3b",
   "metadata": {},
   "outputs": [
    {
     "data": {
      "text/plain": [
       "[]"
      ]
     },
     "execution_count": 493,
     "metadata": {},
     "output_type": "execute_result"
    }
   ],
   "source": [
    "r"
   ]
  },
  {
   "cell_type": "code",
   "execution_count": 489,
   "id": "69892e4c",
   "metadata": {},
   "outputs": [
    {
     "data": {
      "text/plain": [
       "[Element:{\"Name\": \"PL113 - \\u5176\\u4ed6\\u6536\\u76ca\", \"Type\": \"Numeric\"},\n",
       " Element:{\"Name\": \"PL114a - \\u5176\\u4ed6\\u6295\\u8d44\\u635f\\u76ca\", \"Type\": \"Numeric\"},\n",
       " Element:{\"Name\": \"PL108a - \\u5176\\u4ed6\\u5229\\u606f\\u6536\\u5165\", \"Type\": \"Numeric\"},\n",
       " Element:{\"Name\": \"PL103 - \\u5176\\u4e2d\\uff1a\\u8425\\u4e1a\\u6210\\u672c\", \"Type\": \"Numeric\"},\n",
       " Element:{\"Name\": \"PL105 - \\u9500\\u552e\\u8d39\\u7528\", \"Type\": \"Numeric\"},\n",
       " Element:{\"Name\": \"PL108 - \\u8d22\\u52a1\\u8d39\\u7528\", \"Type\": \"Consolidated\"},\n",
       " Element:{\"Name\": \"PL116 - \\u4ee5\\u644a\\u4f59\\u6210\\u672c\\u8ba1\\u91cf\\u7684\\u91d1\\u878d\\u8d44\\u4ea7\\u7ec8\\u6b62\\u786e\\u8ba4\\u6536\\u76ca\", \"Type\": \"Numeric\"},\n",
       " Element:{\"Name\": \"PL111 - \\u63d0\\u53d6\\u5408\\u540c\\u8d23\\u4efb\\u51c6\\u5907\\u91d1\\u51c0\\u989d\", \"Type\": \"Numeric\"},\n",
       " Element:{\"Name\": \"PL110 - \\u5176\\u4e2d\\uff1a\\u6c47\\u5151\\u635f\\u76ca\", \"Type\": \"Numeric\"},\n",
       " Element:{\"Name\": \"PL102 - \\u4e8c\\u3001\\u8425\\u4e1a\\u603b\\u6210\\u672c\", \"Type\": \"Consolidated\"},\n",
       " Element:{\"Name\": \"PL104 - \\u7a0e\\u91d1\\u53ca\\u9644\\u52a0\", \"Type\": \"Numeric\"},\n",
       " Element:{\"Name\": \"PL107 - \\u7814\\u53d1\\u8d39\\u7528\", \"Type\": \"Numeric\"},\n",
       " Element:{\"Name\": \"PL114 - \\u6295\\u8d44\\u635f\\u76ca\", \"Type\": \"Consolidated\"},\n",
       " Element:{\"Name\": \"PL111111\", \"Type\": \"Numeric\"},\n",
       " Element:{\"Name\": \"PL101 - \\u4e00\\u3001\\u8425\\u4e1a\\u603b\\u6536\\u5165\", \"Type\": \"Numeric\"},\n",
       " Element:{\"Name\": \"PL109a - \\u5176\\u4e2d\\uff1a\\u5229\\u606f\\u8d39\\u7528\", \"Type\": \"Numeric\"},\n",
       " Element:{\"Name\": \"PL120 - \\u8d44\\u4ea7\\u5904\\u7f6e\\u6536\\u76ca\", \"Type\": \"Numeric\"},\n",
       " Element:{\"Name\": \"PL106 - \\u7ba1\\u7406\\u8d39\\u7528\", \"Type\": \"Numeric\"},\n",
       " Element:{\"Name\": \"PL117 - \\u516c\\u5141\\u4ef7\\u503c\\u53d8\\u52a8\\u6536\\u76ca\", \"Type\": \"Numeric\"},\n",
       " Element:{\"Name\": \"PL119 - \\u8d44\\u4ea7\\u51cf\\u503c\\u635f\\u5931\", \"Type\": \"Numeric\"},\n",
       " Element:{\"Name\": \"PL115 - \\u5176\\u4e2d\\uff1a\\u5bf9\\u8054\\u8425\\u4f01\\u4e1a\\u548c\\u5408\\u8425\\u4f01\\u4e1a\\u6295\\u8d44\\u6536\\u76ca\", \"Type\": \"Numeric\"},\n",
       " Element:{\"Name\": \"PL118 - \\u4fe1\\u7528\\u51cf\\u503c\\u635f\\u5931\", \"Type\": \"Numeric\"},\n",
       " Element:{\"Name\": \"PL109b - \\u5176\\u4e2d\\uff1a\\u5229\\u606f\\u6536\\u5165\", \"Type\": \"Numeric\"},\n",
       " Element:{\"Name\": \"PL100 - \\u4e09\\u3001\\u8425\\u4e1a\\u5229\\u6da6\", \"Type\": \"Consolidated\"}]"
      ]
     },
     "execution_count": 489,
     "metadata": {},
     "output_type": "execute_result"
    }
   ],
   "source": [
    "desc"
   ]
  },
  {
   "cell_type": "code",
   "execution_count": 471,
   "id": "bd6cfd9c",
   "metadata": {},
   "outputs": [
    {
     "name": "stdout",
     "output_type": "stream",
     "text": [
      "PL113 - 其他收益\n",
      "PL114a - 其他投资损益\n",
      "PL108a - 其他利息收入\n",
      "PL103 - 其中：营业成本\n",
      "PL105 - 销售费用\n",
      "PL108 - 财务费用\n",
      "PL116 - 以摊余成本计量的金融资产终止确认收益\n",
      "PL111 - 提取合同责任准备金净额\n",
      "PL110 - 其中：汇兑损益\n",
      "PL102 - 二、营业总成本\n",
      "PL104 - 税金及附加\n",
      "PL107 - 研发费用\n",
      "PL114 - 投资损益\n",
      "PL111111\n",
      "PL101 - 一、营业总收入\n",
      "PL109a - 其中：利息费用\n",
      "PL120 - 资产处置收益\n",
      "PL106 - 管理费用\n",
      "PL117 - 公允价值变动收益\n",
      "PL119 - 资产减值损失\n",
      "PL115 - 其中：对联营企业和合营企业投资收益\n",
      "PL118 - 信用减值损失\n",
      "PL109b - 其中：利息收入\n",
      "PL100 - 三、营业利润\n"
     ]
    }
   ],
   "source": [
    "for e in desc:\n",
    "    print(e.name)"
   ]
  },
  {
   "cell_type": "code",
   "execution_count": 426,
   "id": "49333123",
   "metadata": {},
   "outputs": [
    {
     "data": {
      "text/plain": [
       "<function TM1py.Objects.Element.Element.from_dict(element_as_dict: Dict) -> 'Element'>"
      ]
     },
     "execution_count": 426,
     "metadata": {},
     "output_type": "execute_result"
    }
   ],
   "source": [
    "ele.from_dict"
   ]
  },
  {
   "cell_type": "code",
   "execution_count": 193,
   "id": "6bc60423",
   "metadata": {},
   "outputs": [
    {
     "data": {
      "text/plain": [
       "[\"['FUNCTIONAL SECURITY：CASHIER']=S:STET\"]"
      ]
     },
     "execution_count": 193,
     "metadata": {},
     "output_type": "execute_result"
    }
   ],
   "source": [
    "existing_rule_list"
   ]
  },
  {
   "cell_type": "code",
   "execution_count": 190,
   "id": "d3a79fff",
   "metadata": {},
   "outputs": [
    {
     "data": {
      "text/plain": [
       "'ski'"
      ]
     },
     "execution_count": 190,
     "metadata": {},
     "output_type": "execute_result"
    }
   ],
   "source": [
    "str.lower('SKI')"
   ]
  },
  {
   "cell_type": "code",
   "execution_count": 406,
   "id": "01f3a51a",
   "metadata": {},
   "outputs": [
    {
     "data": {
      "text/plain": [
       "'PL109b - 其中：利息收入'"
      ]
     },
     "execution_count": 406,
     "metadata": {},
     "output_type": "execute_result"
    }
   ],
   "source": [
    "for e in list(desc):\n",
    "    e.name\n",
    "e.name    "
   ]
  },
  {
   "cell_type": "code",
   "execution_count": 399,
   "id": "8046abba",
   "metadata": {},
   "outputs": [
    {
     "data": {
      "text/plain": [
       "Element:{\"Name\": \"PL100 - \\u4e09\\u3001\\u8425\\u4e1a\\u5229\\u6da6\", \"Type\": \"Consolidated\"}"
      ]
     },
     "execution_count": 399,
     "metadata": {},
     "output_type": "execute_result"
    }
   ],
   "source": [
    "ele"
   ]
  },
  {
   "cell_type": "code",
   "execution_count": 265,
   "id": "10b26155",
   "metadata": {},
   "outputs": [],
   "source": [
    "try:\n",
    "    re=10/0\n",
    "except Exception as e:\n",
    "    #print(str(e))\n",
    "    str(e)"
   ]
  },
  {
   "cell_type": "code",
   "execution_count": 317,
   "id": "4cd1a7d6",
   "metadata": {},
   "outputs": [
    {
     "data": {
      "text/plain": [
       "b'AAAAA'"
      ]
     },
     "execution_count": 317,
     "metadata": {},
     "output_type": "execute_result"
    }
   ],
   "source": [
    "'AAAAA'.encode()"
   ]
  },
  {
   "cell_type": "code",
   "execution_count": 325,
   "id": "36596411",
   "metadata": {},
   "outputs": [
    {
     "data": {
      "text/plain": [
       "\"['a']\""
      ]
     },
     "execution_count": 325,
     "metadata": {},
     "output_type": "execute_result"
    }
   ],
   "source": [
    "str(['a'])"
   ]
  },
  {
   "cell_type": "code",
   "execution_count": 483,
   "id": "a411a1af",
   "metadata": {},
   "outputs": [
    {
     "data": {
      "text/plain": [
       "'abv'"
      ]
     },
     "execution_count": 483,
     "metadata": {},
     "output_type": "execute_result"
    }
   ],
   "source": [
    "str.lower('abv')"
   ]
  },
  {
   "cell_type": "code",
   "execution_count": null,
   "id": "55f0737f",
   "metadata": {},
   "outputs": [],
   "source": []
  }
 ],
 "metadata": {
  "kernelspec": {
   "display_name": "Python 3",
   "language": "python",
   "name": "python3"
  },
  "language_info": {
   "codemirror_mode": {
    "name": "ipython",
    "version": 3
   },
   "file_extension": ".py",
   "mimetype": "text/x-python",
   "name": "python",
   "nbconvert_exporter": "python",
   "pygments_lexer": "ipython3",
   "version": "3.7.9"
  }
 },
 "nbformat": 4,
 "nbformat_minor": 5
}
