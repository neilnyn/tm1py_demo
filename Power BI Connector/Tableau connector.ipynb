{
 "cells": [
  {
   "cell_type": "code",
   "execution_count": 2,
   "id": "77cec18a",
   "metadata": {},
   "outputs": [
    {
     "name": "stdout",
     "output_type": "stream",
     "text": [
      "You are using the Extract API 2.0, please save the output as .hyper format\n"
     ]
    }
   ],
   "source": [
    "from pandleau import *"
   ]
  },
  {
   "cell_type": "code",
   "execution_count": 3,
   "id": "30a833e3",
   "metadata": {},
   "outputs": [],
   "source": [
    "import configparser\n",
    "from TM1py import TM1Service"
   ]
  },
  {
   "cell_type": "code",
   "execution_count": 4,
   "id": "ccb0f806",
   "metadata": {},
   "outputs": [],
   "source": [
    "config = configparser.ConfigParser()\n",
    "config.read(\"C:\\\\TM1py\\\\tm1py-samples-master\\\\config.ini\")\n",
    "\n",
    "\n",
    "with TM1Service(**config[\"AdventureWorks\"]) as tm1:  \n",
    "    mdx = \"\"\"\n",
    "    SELECT\n",
    "    NON EMPTY\n",
    "    { Tm1FilterByLevel ( {Tm1SubsetAll([Year])} , 0 )} *\n",
    "    { Tm1FilterByLevel ( {Tm1SubsetAll([CW Month])} , 0 ) } *\n",
    "    { Tm1FilterByLevel ( {Tm1SubsetAll([CW Region])} , 0 ) } *\n",
    "    { Tm1FilterByLevel ( {Tm1SubsetAll([CW Customer])} , 0 ) }*\n",
    "    {Tm1SubsetAll([CW SKU])}\n",
    "     ON ROWS,\n",
    "    { [CW Measure].[Revenue], [CW Measure].[Quantity] } ON COLUMNS\n",
    "    FROM [CW Water Sales]\n",
    "    \"\"\"\n",
    "    df = tm1.power_bi.execute_mdx(mdx)"
   ]
  },
  {
   "cell_type": "code",
   "execution_count": 5,
   "id": "f1e62b88",
   "metadata": {},
   "outputs": [
    {
     "data": {
      "text/html": [
       "<div>\n",
       "<style scoped>\n",
       "    .dataframe tbody tr th:only-of-type {\n",
       "        vertical-align: middle;\n",
       "    }\n",
       "\n",
       "    .dataframe tbody tr th {\n",
       "        vertical-align: top;\n",
       "    }\n",
       "\n",
       "    .dataframe thead th {\n",
       "        text-align: right;\n",
       "    }\n",
       "</style>\n",
       "<table border=\"1\" class=\"dataframe\">\n",
       "  <thead>\n",
       "    <tr style=\"text-align: right;\">\n",
       "      <th></th>\n",
       "      <th>Year</th>\n",
       "      <th>CW Month</th>\n",
       "      <th>CW Region</th>\n",
       "      <th>CW Customer</th>\n",
       "      <th>CW SKU</th>\n",
       "      <th>Revenue</th>\n",
       "      <th>Quantity</th>\n",
       "    </tr>\n",
       "  </thead>\n",
       "  <tbody>\n",
       "    <tr>\n",
       "      <th>0</th>\n",
       "      <td>2012</td>\n",
       "      <td>Jan</td>\n",
       "      <td>New York</td>\n",
       "      <td>W Hotels</td>\n",
       "      <td>330mL</td>\n",
       "      <td>11572200.0</td>\n",
       "      <td>257160.0</td>\n",
       "    </tr>\n",
       "    <tr>\n",
       "      <th>1</th>\n",
       "      <td>2012</td>\n",
       "      <td>Jan</td>\n",
       "      <td>New York</td>\n",
       "      <td>W Hotels</td>\n",
       "      <td>0.5L 6PK</td>\n",
       "      <td>1740960.0</td>\n",
       "      <td>43524.0</td>\n",
       "    </tr>\n",
       "    <tr>\n",
       "      <th>2</th>\n",
       "      <td>2012</td>\n",
       "      <td>Jan</td>\n",
       "      <td>New York</td>\n",
       "      <td>W Hotels</td>\n",
       "      <td>0.5L LS</td>\n",
       "      <td>4996588.0</td>\n",
       "      <td>121868.0</td>\n",
       "    </tr>\n",
       "    <tr>\n",
       "      <th>3</th>\n",
       "      <td>2012</td>\n",
       "      <td>Jan</td>\n",
       "      <td>New York</td>\n",
       "      <td>W Hotels</td>\n",
       "      <td>1.0L 6PK</td>\n",
       "      <td>9498007.5</td>\n",
       "      <td>218345.0</td>\n",
       "    </tr>\n",
       "    <tr>\n",
       "      <th>4</th>\n",
       "      <td>2012</td>\n",
       "      <td>Jan</td>\n",
       "      <td>New York</td>\n",
       "      <td>W Hotels</td>\n",
       "      <td>1.0L LS</td>\n",
       "      <td>5811463.0</td>\n",
       "      <td>141743.0</td>\n",
       "    </tr>\n",
       "    <tr>\n",
       "      <th>...</th>\n",
       "      <td>...</td>\n",
       "      <td>...</td>\n",
       "      <td>...</td>\n",
       "      <td>...</td>\n",
       "      <td>...</td>\n",
       "      <td>...</td>\n",
       "      <td>...</td>\n",
       "    </tr>\n",
       "    <tr>\n",
       "      <th>18138</th>\n",
       "      <td>2012</td>\n",
       "      <td>Dec</td>\n",
       "      <td>Bahamas</td>\n",
       "      <td>Other Convenience Channel Customers</td>\n",
       "      <td>0.5L LS</td>\n",
       "      <td>90371.34886449785</td>\n",
       "      <td>2821.0</td>\n",
       "    </tr>\n",
       "    <tr>\n",
       "      <th>18139</th>\n",
       "      <td>2012</td>\n",
       "      <td>Dec</td>\n",
       "      <td>Bahamas</td>\n",
       "      <td>Other Convenience Channel Customers</td>\n",
       "      <td>All SKUs</td>\n",
       "      <td>869818.226217491</td>\n",
       "      <td>28774.0</td>\n",
       "    </tr>\n",
       "    <tr>\n",
       "      <th>18140</th>\n",
       "      <td>2012</td>\n",
       "      <td>Dec</td>\n",
       "      <td>Bahamas</td>\n",
       "      <td>Other Food Channel Customers</td>\n",
       "      <td>330mL</td>\n",
       "      <td>1263579.103412803</td>\n",
       "      <td>42073.0</td>\n",
       "    </tr>\n",
       "    <tr>\n",
       "      <th>18141</th>\n",
       "      <td>2012</td>\n",
       "      <td>Dec</td>\n",
       "      <td>Bahamas</td>\n",
       "      <td>Other Food Channel Customers</td>\n",
       "      <td>0.5L 6PK</td>\n",
       "      <td>1304750.3646388901</td>\n",
       "      <td>46547.0</td>\n",
       "    </tr>\n",
       "    <tr>\n",
       "      <th>18142</th>\n",
       "      <td>2012</td>\n",
       "      <td>Dec</td>\n",
       "      <td>Bahamas</td>\n",
       "      <td>Other Food Channel Customers</td>\n",
       "      <td>All SKUs</td>\n",
       "      <td>2568329.4680516934</td>\n",
       "      <td>88620.0</td>\n",
       "    </tr>\n",
       "  </tbody>\n",
       "</table>\n",
       "<p>18143 rows × 7 columns</p>\n",
       "</div>"
      ],
      "text/plain": [
       "       Year CW Month CW Region                          CW Customer    CW SKU  \\\n",
       "0      2012      Jan  New York                             W Hotels     330mL   \n",
       "1      2012      Jan  New York                             W Hotels  0.5L 6PK   \n",
       "2      2012      Jan  New York                             W Hotels   0.5L LS   \n",
       "3      2012      Jan  New York                             W Hotels  1.0L 6PK   \n",
       "4      2012      Jan  New York                             W Hotels   1.0L LS   \n",
       "...     ...      ...       ...                                  ...       ...   \n",
       "18138  2012      Dec   Bahamas  Other Convenience Channel Customers   0.5L LS   \n",
       "18139  2012      Dec   Bahamas  Other Convenience Channel Customers  All SKUs   \n",
       "18140  2012      Dec   Bahamas         Other Food Channel Customers     330mL   \n",
       "18141  2012      Dec   Bahamas         Other Food Channel Customers  0.5L 6PK   \n",
       "18142  2012      Dec   Bahamas         Other Food Channel Customers  All SKUs   \n",
       "\n",
       "                  Revenue  Quantity  \n",
       "0              11572200.0  257160.0  \n",
       "1               1740960.0   43524.0  \n",
       "2               4996588.0  121868.0  \n",
       "3               9498007.5  218345.0  \n",
       "4               5811463.0  141743.0  \n",
       "...                   ...       ...  \n",
       "18138   90371.34886449785    2821.0  \n",
       "18139    869818.226217491   28774.0  \n",
       "18140   1263579.103412803   42073.0  \n",
       "18141  1304750.3646388901   46547.0  \n",
       "18142  2568329.4680516934   88620.0  \n",
       "\n",
       "[18143 rows x 7 columns]"
      ]
     },
     "execution_count": 5,
     "metadata": {},
     "output_type": "execute_result"
    }
   ],
   "source": [
    "df"
   ]
  },
  {
   "cell_type": "code",
   "execution_count": 6,
   "id": "038e0158",
   "metadata": {},
   "outputs": [],
   "source": [
    "df_tableau = pandleau(df)"
   ]
  },
  {
   "cell_type": "code",
   "execution_count": 15,
   "id": "47f533fe",
   "metadata": {},
   "outputs": [
    {
     "name": "stdout",
     "output_type": "stream",
     "text": [
      "Table 'test2.hyper' does not exist in extract C:\\Users\\User\\Desktop\\test2.hyper, creating.\n"
     ]
    },
    {
     "name": "stderr",
     "output_type": "stream",
     "text": [
      "processing table: 18143it [00:00, 36068.76it/s]\n"
     ]
    }
   ],
   "source": [
    "df_tableau.to_tableau('C:\\\\Users\\\\User\\\\Desktop\\\\test2.hyper','test2.hyper', add_index=False)"
   ]
  },
  {
   "cell_type": "code",
   "execution_count": null,
   "id": "8f7034ab",
   "metadata": {},
   "outputs": [],
   "source": []
  }
 ],
 "metadata": {
  "kernelspec": {
   "display_name": "Python 3",
   "language": "python",
   "name": "python3"
  },
  "language_info": {
   "codemirror_mode": {
    "name": "ipython",
    "version": 3
   },
   "file_extension": ".py",
   "mimetype": "text/x-python",
   "name": "python",
   "nbconvert_exporter": "python",
   "pygments_lexer": "ipython3",
   "version": "3.6.8"
  }
 },
 "nbformat": 4,
 "nbformat_minor": 5
}
