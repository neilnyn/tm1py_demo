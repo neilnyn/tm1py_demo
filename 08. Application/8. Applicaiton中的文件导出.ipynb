{
 "cells": [
  {
   "cell_type": "markdown",
   "id": "985a038e",
   "metadata": {},
   "source": [
    "#### 函数：  \n",
    "tm1.application.get(path='Application下的文件夹名', application_type=ApplicationTypes.DOCUMENT,name='文件名')"
   ]
  },
  {
   "cell_type": "code",
   "execution_count": null,
   "id": "076fb41f",
   "metadata": {},
   "outputs": [],
   "source": [
    "import configparser\n",
    "\n",
    "from TM1py import TM1Service\n",
    "from TM1py.Objects.Application import ApplicationTypes\n",
    "\n",
    "config = configparser.ConfigParser()\n",
    "# storing the credentials in a file is not recommended for purposes other than testing.\n",
    "# it's better to setup CAM with SSO or use keyring to store credentials in the windows credential manager. Sample:\n",
    "# Samples/credentials_best_practice.py\n",
    "config.read('C:\\\\TM1py\\\\tm1py-samples-master\\\\config.ini')\n",
    "\n",
    "with TM1Service(**config['AdventureWorks']) as tm1:\n",
    "    # path in TM1 Application-Tree\n",
    "    \n",
    "\n",
    "    # get the application\n",
    "    application = tm1.applications.get(\n",
    "        path=\"Demo\",\n",
    "        application_type=ApplicationTypes.DOCUMENT,\n",
    "        name=\"Demo 1 - Monthly Tracker\",\n",
    "        private=False)\n",
    "\n",
    "    # write it to xlsx file\n",
    "    application.to_file(\"C:/Users/User/Desktop/out.xlsx\")"
   ]
  }
 ],
 "metadata": {
  "kernelspec": {
   "display_name": "Python 3",
   "language": "python",
   "name": "python3"
  },
  "language_info": {
   "codemirror_mode": {
    "name": "ipython",
    "version": 3
   },
   "file_extension": ".py",
   "mimetype": "text/x-python",
   "name": "python",
   "nbconvert_exporter": "python",
   "pygments_lexer": "ipython3",
   "version": "3.6.8"
  }
 },
 "nbformat": 4,
 "nbformat_minor": 5
}
