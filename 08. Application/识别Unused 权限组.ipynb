{
 "cells": [
  {
   "cell_type": "code",
   "execution_count": 12,
   "id": "cf9faf4d",
   "metadata": {},
   "outputs": [
    {
     "name": "stdout",
     "output_type": "stream",
     "text": [
      "{'SecurityAdmin', 'OperationsAdmin', 'DataAdmin'}\n"
     ]
    }
   ],
   "source": [
    "from TM1py.Services import TM1Service\n",
    "with TM1Service(address=\"localhost\", port=30012, ssl=False, user=\"admin\", password=\"\") as tm1:\n",
    "    # Get all groups\n",
    "    all_groups = tm1.security.get_all_groups()\n",
    "\n",
    "    # Determine the used groups from }ClientGroups Cube\n",
    "    mdx = \"SELECT \" \\\n",
    "          \"NON EMPTY {TM1SUBSETALL( [}Clients] )} on ROWS, \" \\\n",
    "          \"NON EMPTY {TM1SUBSETALL( [}Groups] )} ON COLUMNS \" \\\n",
    "          \"FROM [}ClientGroups]\"\n",
    "    cube_content = tm1.cubes.cells.execute_mdx(mdx)\n",
    "\n",
    "    used_groups = {cell['Value'] for cell in cube_content.values() if cell['Value'] != ''}\n",
    "\n",
    "    # Determine the unused groups\n",
    "    unused_groups = set(all_groups) - used_groups\n",
    "\n",
    "    # Print out the unused groups\n",
    "    print(unused_groups)"
   ]
  },
  {
   "cell_type": "code",
   "execution_count": null,
   "id": "f60b279c",
   "metadata": {},
   "outputs": [],
   "source": []
  },
  {
   "cell_type": "code",
   "execution_count": null,
   "id": "c806f972",
   "metadata": {},
   "outputs": [],
   "source": []
  },
  {
   "cell_type": "code",
   "execution_count": null,
   "id": "d22ad761",
   "metadata": {},
   "outputs": [],
   "source": []
  },
  {
   "cell_type": "code",
   "execution_count": null,
   "id": "fcb15611",
   "metadata": {},
   "outputs": [],
   "source": []
  }
 ],
 "metadata": {
  "kernelspec": {
   "display_name": "Python 3",
   "language": "python",
   "name": "python3"
  },
  "language_info": {
   "codemirror_mode": {
    "name": "ipython",
    "version": 3
   },
   "file_extension": ".py",
   "mimetype": "text/x-python",
   "name": "python",
   "nbconvert_exporter": "python",
   "pygments_lexer": "ipython3",
   "version": "3.6.8"
  }
 },
 "nbformat": 4,
 "nbformat_minor": 5
}
