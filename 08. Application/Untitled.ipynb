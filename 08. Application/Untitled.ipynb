{
 "cells": [
  {
   "cell_type": "code",
   "execution_count": 5,
   "id": "42ffdbee",
   "metadata": {},
   "outputs": [
    {
     "name": "stdout",
     "output_type": "stream",
     "text": [
      "cw_ti\n",
      "cw_ti\n"
     ]
    }
   ],
   "source": [
    "from TM1py.Services import TM1Service\n",
    "\n",
    "# Connect to TM1\n",
    "tm1 = TM1Service(address=\"localhost\", port=30012, ssl=False, user=\"admin\", password=\"\")\n",
    "print(tm1.server.get_server_name())\n",
    "#Save TM1Service instance to file\n",
    "tm1.save_to_file('tm1_connection')\n",
    "\n",
    "# # Wait...\n",
    "# time.sleep(7)\n",
    "\n",
    "# # Restore TM1Service instance from file\n",
    "tm1 = TM1Service.restore_from_file('tm1_connection')\n",
    "print(tm1.server.get_server_name())\n",
    "\n",
    "# Logout\n",
    "tm1.logout()"
   ]
  },
  {
   "cell_type": "code",
   "execution_count": null,
   "id": "1b6591e6",
   "metadata": {},
   "outputs": [],
   "source": []
  }
 ],
 "metadata": {
  "kernelspec": {
   "display_name": "Python 3",
   "language": "python",
   "name": "python3"
  },
  "language_info": {
   "codemirror_mode": {
    "name": "ipython",
    "version": 3
   },
   "file_extension": ".py",
   "mimetype": "text/x-python",
   "name": "python",
   "nbconvert_exporter": "python",
   "pygments_lexer": "ipython3",
   "version": "3.6.8"
  }
 },
 "nbformat": 4,
 "nbformat_minor": 5
}
