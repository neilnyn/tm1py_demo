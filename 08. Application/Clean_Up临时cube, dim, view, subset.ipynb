{
 "cells": [
  {
   "cell_type": "code",
   "execution_count": 2,
   "id": "51875892",
   "metadata": {},
   "outputs": [],
   "source": [
    "from TM1py.Services import TM1Service\n",
    "import re\n",
    "with TM1Service(address=\"localhost\", port=30012, ssl=False, user=\"admin\", password=\"\") as tm1:\n",
    "    # Regular expression for everything that starts with 'temp_', 'test' or 'TM1py'\n",
    "    regex_list = ['^temp_*', '^test*', '^TM1py*']\n",
    "\n",
    "    # Iterate through cubes\n",
    "    cube_names = tm1.cubes.get_all_names()\n",
    "    for cube_name in cube_names:\n",
    "        for regex in regex_list:\n",
    "            if re.match(regex, cube_name, re.IGNORECASE):\n",
    "                tm1.cubes.delete(cube_name)\n",
    "                break\n",
    "            else:\n",
    "                private_view_names, public_views_names = tm1.cubes.views.get_all_names(cube_name=cube_name)\n",
    "                for view_name in private_view_names:\n",
    "                    if re.match(regex, view_name, re.IGNORECASE):\n",
    "                        tm1.cubes.views.delete(cube_name=cube_name, view_name=view_name, private=True)\n",
    "                for view_name in private_view_names:\n",
    "                    if re.match(regex, view_name, re.IGNORECASE):\n",
    "                        tm1.cubes.views.delete(cube_name=cube_name, view_name=view_name, private=False)\n",
    "\n",
    "    # Get Dimension names. Filter out Control Dimensions\n",
    "    dimension_names = [dimension for dimension in tm1.dimensions.get_all_names() if not dimension.startswith('}')]\n",
    "    # Iterate through dimensions\n",
    "    for dimension_name in dimension_names:\n",
    "        for regex in regex_list:\n",
    "            if re.match(regex, dimension_name, re.IGNORECASE):\n",
    "                tm1.dimensions.delete(dimension_name)\n",
    "                break\n",
    "            else:\n",
    "                # Iterate through public subsets\n",
    "                subsets = tm1.dimensions.subsets.get_all_names(dimension_name=dimension_name,\n",
    "                                                               hierarchy_name=dimension_name,\n",
    "                                                               private=False)\n",
    "                for subset in subsets:\n",
    "                    if re.match(regex, subset, re.IGNORECASE):\n",
    "                        tm1.dimensions.subsets.delete(dimension_name=dimension_name, subset_name=subset, private=False)\n",
    "\n",
    "    # Iterate through Chores\n",
    "    chores = tm1.chores.get_all_names()\n",
    "    for chore in chores:\n",
    "        for regex in regex_list:\n",
    "            if re.match(regex, chore, re.IGNORECASE):\n",
    "                tm1.chores.delete(chore)\n",
    "\n",
    "    # Iterate through Processes\n",
    "    processes = tm1.processes.get_all_names()\n",
    "    for process in processes:\n",
    "        for regex in regex_list:\n",
    "            if re.match(regex, process, re.IGNORECASE):\n",
    "                tm1.processes.delete(process)\n",
    "                "
   ]
  },
  {
   "cell_type": "code",
   "execution_count": null,
   "id": "32870876",
   "metadata": {},
   "outputs": [],
   "source": []
  },
  {
   "cell_type": "code",
   "execution_count": null,
   "id": "776aad18",
   "metadata": {},
   "outputs": [],
   "source": []
  }
 ],
 "metadata": {
  "kernelspec": {
   "display_name": "Python 3",
   "language": "python",
   "name": "python3"
  },
  "language_info": {
   "codemirror_mode": {
    "name": "ipython",
    "version": 3
   },
   "file_extension": ".py",
   "mimetype": "text/x-python",
   "name": "python",
   "nbconvert_exporter": "python",
   "pygments_lexer": "ipython3",
   "version": "3.6.8"
  }
 },
 "nbformat": 4,
 "nbformat_minor": 5
}
