{
 "cells": [
  {
   "cell_type": "markdown",
   "id": "04f4cdb0-f0c5-4980-8a3c-0fd5988cb1bc",
   "metadata": {},
   "source": [
    "## Preparation\n",
    "\n",
    "imports and variables"
   ]
  },
  {
   "cell_type": "code",
   "execution_count": 1,
   "id": "7b4901ef-7a38-453d-af0b-2f017d6915b6",
   "metadata": {},
   "outputs": [],
   "source": [
    "import json\n",
    "import os\n",
    "\n",
    "import pandas as pd\n",
    "from TM1py import TM1Service"
   ]
  },
  {
   "cell_type": "code",
   "execution_count": 2,
   "id": "14d785f8-2d43-4de4-bfb1-9043b88112ee",
   "metadata": {},
   "outputs": [],
   "source": [
    "TM1_PARAMS = {\n",
    "    \"base_url\": \"https://localhost:15822\",\n",
    "    \"user\": \"admin\",\n",
    "    \"password\": \"\"\n",
    "}"
   ]
  },
  {
   "cell_type": "code",
   "execution_count": 3,
   "id": "eb6e024f-6f7b-4e22-afe7-fe8ad2a53154",
   "metadata": {},
   "outputs": [],
   "source": [
    "TM1_CLOUD_PARAMS = {\n",
    "    \"base_url\": \"https://cubewise.planning-analytics.ibmcloud.com/tm1/api/plansamp\",\n",
    "    \"user\": \"cubewise01_tm1_automation\",\n",
    "    \"namespace\": \"LDAP\",\n",
    "    \"password\": \"XI2b5FryLHR679\",\n",
    "    \"ssl\": True,\n",
    "    \"verify\": True,\n",
    "    \"async_requests_mode\": True\n",
    "}"
   ]
  },
  {
   "cell_type": "markdown",
   "id": "158a0451-0505-4e2b-96e3-0f7273616d8c",
   "metadata": {},
   "source": [
    "## Part 1\n",
    "\n",
    "### load data from JSON and create a dimension\n",
    "\n"
   ]
  },
  {
   "cell_type": "markdown",
   "id": "1ac637d8-5299-432a-93a4-1868fbbf1987",
   "metadata": {},
   "source": [
    "Please open the `products.json` file in `C:/resources/` with notepad. \n",
    "\n",
    "This document describes a dimension using JSON.\n",
    "\n",
    "\n",
    "\n",
    "JSON is a popular format to exchange information between systems. \n",
    "It is commonly used in APIs as a format for data and metadata.\n",
    "\n",
    "Without TM1py it would be hard to consume for TM1\n"
   ]
  },
  {
   "cell_type": "markdown",
   "id": "6fb92615-555a-49a9-bd23-ef9a4ce5eeef",
   "metadata": {},
   "source": [
    "Now let's read the JSON file with Python.\n",
    "\n",
    "open `products.json` file with the `open` function and read it using the `json.load` function\n",
    "\n",
    "```\n",
    "with open(\"file-name\", \"r\") as file:\n",
    "    data = json.load(file)\n",
    "```"
   ]
  },
  {
   "cell_type": "code",
   "execution_count": null,
   "id": "aca9ada5-ec48-45a8-a9ed-f574ac636dcf",
   "metadata": {},
   "outputs": [],
   "source": []
  },
  {
   "cell_type": "markdown",
   "id": "3c3f6559-2b6c-46c4-8528-fb3a0bc96500",
   "metadata": {},
   "source": [
    "Now use the `pd.json_normalize` function to turn it into a data frame"
   ]
  },
  {
   "cell_type": "code",
   "execution_count": null,
   "id": "cc383b9c-15bf-420e-b677-fe7983f84dda",
   "metadata": {},
   "outputs": [],
   "source": []
  },
  {
   "cell_type": "markdown",
   "id": "c68abf40-59c8-4d54-b6b4-d0a40f092699",
   "metadata": {},
   "source": [
    "Now connect to TM1 using \n",
    "\n",
    "```\n",
    "tm1 = TM1Service(**TM1_PARAMS)\n",
    "```\n",
    "\n",
    "To test the connection call below function\n",
    "\n",
    "```\n",
    "print(tm1.server.get_server_name())\n",
    "```\n",
    "\n",
    "Once connected successfully, use the `update_or_create_hierarchy_from_dataframe` function in the `tm1.hierarchies` module to update the `Product` dimension in TM1 based on the data frame\n",
    "\n",
    "```\n",
    "tm1.hierarchies.update_or_create_hierarchy_from_dataframe(\n",
    "        dimension_name=\"dimension name\",\n",
    "        hierarchy_name=\"hierarchy name\",\n",
    "        df=df)\n",
    "```"
   ]
  },
  {
   "cell_type": "code",
   "execution_count": null,
   "id": "6a11f10b-2548-4242-a34e-334d59c21b1b",
   "metadata": {},
   "outputs": [],
   "source": []
  },
  {
   "cell_type": "code",
   "execution_count": null,
   "id": "a3661587-3142-4917-b08d-3e9530c6069f",
   "metadata": {},
   "outputs": [],
   "source": []
  },
  {
   "cell_type": "code",
   "execution_count": null,
   "id": "a1e8ec16-33df-4045-a24c-b39a8dbe79d1",
   "metadata": {},
   "outputs": [],
   "source": []
  },
  {
   "cell_type": "markdown",
   "id": "7451b058-e3f0-4e22-8b1d-fc9783b9bf0e",
   "metadata": {},
   "source": [
    "Please review the result in TM1\n",
    "\n",
    "The dimension should be complete, but there are no hierarchies or consolidations in it yet!\n",
    "\n",
    "We can manipulate the data frame and add special level columns to it. Then TM1py will create the hierarchy accordingly.\n",
    "\n",
    "To make sure each product has `Level000` as a root parent you can write this:\n",
    "\n",
    "```\n",
    "df[\"Level000\"] = \"All Products\"\n",
    "```\n",
    "\n",
    "We can use the existing columns `\"Category.ProductType\"`, `\"Category.SubCategory\"` , `\"Category.MainCategory\"` in the data frame to define a good hierarchy. \n",
    "\n",
    "Please create 3 new columns in the dataframe based on the existing 3 columns mentioned above, like this:\n",
    "\n",
    "```\n",
    "df[\"Level001\"] = df[\"existing column\"]\n",
    "df[\"Level002\"] = df[\"existing column\"]\n",
    "df[\"Level003\"] = df[\"existing column\"]\n",
    "```\n",
    "\n",
    "Make sure the order is sensible. You can always print out your dataframe to view it as a table"
   ]
  },
  {
   "cell_type": "code",
   "execution_count": null,
   "id": "60293524-be74-4bb2-91c8-1223bacf397e",
   "metadata": {},
   "outputs": [],
   "source": []
  },
  {
   "cell_type": "markdown",
   "id": "27a2a9e8-aec8-44e3-bd94-ff14aaf9c18b",
   "metadata": {},
   "source": [
    "Now use the `update_or_create_hierarchy_from_dataframe` function in the `tm1.hierarchies` module to update the `Product` dimension in TM1 again\n",
    "\n",
    "```\n",
    "tm1.hierarchies.update_or_create_hierarchy_from_dataframe(\n",
    "        dimension_name=\"dimension name\",\n",
    "        hierarchy_name=\"hierarchy name\",\n",
    "        df=df,\n",
    "        unwind=True)\n",
    "```\n",
    "\n",
    "You can pass `unwind=True` to unwind/break all existing consolidation in the dimension"
   ]
  },
  {
   "cell_type": "code",
   "execution_count": null,
   "id": "0b024ab0-ffeb-4340-8367-7f24515b233b",
   "metadata": {},
   "outputs": [],
   "source": []
  },
  {
   "cell_type": "markdown",
   "id": "951f5789-6bb0-45f0-aadf-abdb42359f62",
   "metadata": {},
   "source": [
    "-----"
   ]
  },
  {
   "cell_type": "markdown",
   "id": "11b844f4-1812-4dfe-81fe-8c0664acd80e",
   "metadata": {},
   "source": [
    "## Part 2\n",
    "\n",
    "### load data from JSON and write to cube\n",
    "\n"
   ]
  },
  {
   "cell_type": "markdown",
   "id": "5f7415fc-b7de-4691-b494-72b013d33d63",
   "metadata": {},
   "source": [
    "open `sales.json` file and read it using the `json` module\n",
    "\n",
    "```\n",
    "with open(\"file-name\", \"r\") as file:\n",
    "    data = json.load(file)\n",
    "```"
   ]
  },
  {
   "cell_type": "code",
   "execution_count": null,
   "id": "126b934f-1c43-45d4-ab7f-725372ae13e0",
   "metadata": {},
   "outputs": [],
   "source": []
  },
  {
   "cell_type": "markdown",
   "id": "d4605fda-7e4a-4bb9-b74d-f146aa19d6e6",
   "metadata": {},
   "source": [
    "Now use the `pd.json_normalize` function to turn it into a data frame\n",
    "\n",
    "Once it is a dataframe you can call `df.shape()` or `df.sample(5)` to get an overview of the data"
   ]
  },
  {
   "cell_type": "code",
   "execution_count": null,
   "id": "59965ac5-5fdf-4137-a35c-7aaa476a43c7",
   "metadata": {},
   "outputs": [],
   "source": []
  },
  {
   "cell_type": "markdown",
   "id": "c198c44a-8c67-41ef-bcec-6c38e673ba7f",
   "metadata": {},
   "source": [
    "Before we can write the dataframe to our Sales cube in TM1, we need to make sure the data has the right granularity and the columns are in the right order.\n",
    "\n",
    "Please add a column to the dataframe for the Version and assign all records to \"Actual\"\n",
    "You can use this syntax\n",
    "\n",
    "```\n",
    "df[\"Column\"] = \"Value\"\n",
    "```\n",
    "\n",
    "\n",
    "Please also order the columns according to the dimension in the cube\n",
    "\n",
    "```\n",
    "df = df[[\"Month\", \"Version\", \"Region\", ..., \"Value\"]]\n",
    "```"
   ]
  },
  {
   "cell_type": "code",
   "execution_count": null,
   "id": "e858bd45-3297-4be7-80c3-fe84a8078970",
   "metadata": {},
   "outputs": [],
   "source": []
  },
  {
   "cell_type": "markdown",
   "id": "2e66e949-b9ad-4a58-9dda-4a4470794567",
   "metadata": {},
   "source": [
    "The data frame should looks like this\n",
    "\n",
    "|        | Month   | Version   | Region      | Customer          | ProductID   | SalesChannel   | Measure        |   Value |\n",
    "|-------:|:--------|:----------|:------------|:------------------|:------------|:---------------|:---------------|--------:|\n",
    "|  24811 | 2022-03 | Actual    | Italy       | Jackson Corp      | P005        | Wholesale      | Sales Quantity |     486 |\n",
    "|  91695 | 2023-03 | Actual    | Russia      | Garcia Devices    | P067        | Retail         | Sales Quantity |     456 |\n",
    "|   1106 | 2023-12 | Actual    | New Zealand | Williams Tech     | P060        | Retail         | Sales Quantity |     172 |\n",
    "\n",
    "\n",
    "Now you can use the `write_dataframe` function in the `tm1.cells` module to write to the Sales cube with below syntax\n",
    "\n",
    "```\n",
    "tm1.cells.write_dataframe(cube_name=\"cube name\", data=df, use_blob=True)\n",
    "```\n",
    "\n",
    "Make sure to pass `use_blob=True` as this speeds up the operation"
   ]
  },
  {
   "cell_type": "code",
   "execution_count": null,
   "id": "90ba2999-7bde-4264-ab89-fbf21b486e27",
   "metadata": {},
   "outputs": [],
   "source": []
  },
  {
   "cell_type": "markdown",
   "id": "60eb5d0c-9a68-4623-a3e6-d52f86812358",
   "metadata": {},
   "source": [
    "-----"
   ]
  },
  {
   "cell_type": "markdown",
   "id": "f5318fce-32ce-438d-8819-8e5ee0cc55cf",
   "metadata": {},
   "source": [
    "## Part 3: The Challenge\n",
    "\n",
    "### Synchronize local TM1 with cloud TM1 instance\n"
   ]
  },
  {
   "cell_type": "markdown",
   "id": "37145bc8-a2c6-4c0f-8285-45bc8496a257",
   "metadata": {},
   "source": [
    "In the top of this notebook you find a variable called `TM1_CLOUD_PARAMS`.\n",
    "Please first verify that you can connect to this instance with TM1py.\n",
    "\n",
    "In Part 3 you need to write the 2023 actuals from the local Sales cube to a budget version in an aggregated cube in the cloud for 2024 with a 10% increase on each value.\n",
    "\n"
   ]
  },
  {
   "cell_type": "code",
   "execution_count": null,
   "id": "75a50669-b976-4ac8-ba9d-edb2b0daf051",
   "metadata": {},
   "outputs": [],
   "source": []
  },
  {
   "cell_type": "markdown",
   "id": "b08b89d9-b11c-432b-88f5-7be2002f2bf8",
   "metadata": {},
   "source": [
    "**Step 1**: extract 2023 actual data from Sales cube to a data frame, using MDX\n",
    "\n",
    "hint: use Arc to generate the MDX\n",
    "\n",
    "hint: use the `tm1.cells.execute_mdx_dataframe` function to run the MDX and get a dataframe"
   ]
  },
  {
   "cell_type": "code",
   "execution_count": null,
   "id": "0a8dbe26-531a-4512-aa20-ab429598b89c",
   "metadata": {},
   "outputs": [],
   "source": []
  },
  {
   "cell_type": "markdown",
   "id": "a08f0e25-faeb-41fa-bffe-5d22690ef14f",
   "metadata": {},
   "source": [
    "**Step 2**: increase the values by 10% \n",
    "\n",
    "hint: `df[\"column name\"] = df[\"column name\"] * 1.1`\n"
   ]
  },
  {
   "cell_type": "code",
   "execution_count": null,
   "id": "4faa3d21-e5cf-4d1e-88e3-df4a6d31bcdb",
   "metadata": {},
   "outputs": [],
   "source": []
  },
  {
   "cell_type": "markdown",
   "id": "47c0c2bf-5df9-4a64-ac2b-37d2c07b2c77",
   "metadata": {},
   "source": [
    "**Step3**: change the value in the version column from `\"actual\"` to `\"Budget your-name\"`"
   ]
  },
  {
   "cell_type": "code",
   "execution_count": null,
   "id": "ec08cecc-ce68-49bf-b53c-b7f75dcfaefa",
   "metadata": {},
   "outputs": [],
   "source": []
  },
  {
   "cell_type": "markdown",
   "id": "a1062f2b-0e38-4e2a-b110-36b11aebb38b",
   "metadata": {},
   "source": [
    "**Step4**: change all periods from 2023 to 2024\n",
    "\n",
    "hint: `df[\"column name\"] = df[\"column name\"].str.replace(\"old value\", \"new value\")`"
   ]
  },
  {
   "cell_type": "code",
   "execution_count": null,
   "id": "db45b504-5cd7-4fe3-9086-46d29f09a123",
   "metadata": {},
   "outputs": [],
   "source": []
  },
  {
   "cell_type": "markdown",
   "id": "3e2ea7e0-79d8-40f9-8573-58172ba461f3",
   "metadata": {},
   "source": [
    "**Step5**: Before you write, make sure to crate the new budget element in the version dimension. \n",
    "\n",
    "hint:\n",
    "\n",
    "```\n",
    "    from TM1py import Element\n",
    "    new_version_element = \"Budget Marius\"\n",
    "\n",
    "    if tm1_cloud.elements.exists(dimension_name=\"Version\", hierarchy_name=\"Version\", element_name=new_version_element):\n",
    "        tm1_cloud.elements.create(\"Version\", \"Version\", element=Element(new_version_element, \"Numeric\"))\n",
    "```\n"
   ]
  },
  {
   "cell_type": "code",
   "execution_count": null,
   "id": "774fd697-8a0a-466e-8dee-eb5718308620",
   "metadata": {},
   "outputs": [],
   "source": []
  },
  {
   "cell_type": "markdown",
   "id": "32ad97b7-674f-4279-b4f1-217cb025239b",
   "metadata": {},
   "source": [
    "**Step6**: write the dataframe to the Sales cube in the TM1 cloud instance\n",
    "\n",
    "make sure the column order is in line with the cube dimension order"
   ]
  },
  {
   "cell_type": "code",
   "execution_count": null,
   "id": "4667e536-02e4-401d-8c7b-f52dcb718d89",
   "metadata": {},
   "outputs": [],
   "source": []
  },
  {
   "cell_type": "markdown",
   "id": "04029ae3-2f92-405c-8eae-a678feff8eb7",
   "metadata": {},
   "source": [
    "-----"
   ]
  },
  {
   "cell_type": "markdown",
   "id": "cb2b266e-3537-46c2-a2fe-b8e49e2af95f",
   "metadata": {},
   "source": [
    "## Part 4: Optional\n",
    "\n",
    "- Create product attributes with their correct type (e.g., `Product Name` shoud be Alias). _Hint: checkout the docs on the `update_or_create_hierarchy_from_dataframe` function_\n",
    "\n",
    "- Clear a slice in the `Sales` cube before the write operation. _hint: use bedrock or tm1py's clear_with_mdx function_\n",
    "\n",
    "- In the cloud instance you find another cube: `Sales Summary`. This cube has all the same dimensions as `Sales` except for `Customer`. Please read a new slice from your source cube, using MDX, with the aggregated values for `All Customers` and write the data to `Sales Summary` in the cloud instance\n",
    "\n",
    "- Make sure the `product` dimension is sync between the two instances! Use the `get_elements_dataframe` function in `tm1.elements` to retrieve the dimension as a dataframe from the source instance. Use the `update_or_create_hierarchy_from_dataframe` function in `tm1.hierarchies` to update the Product dimension in the target TM1 instance\n"
   ]
  },
  {
   "cell_type": "code",
   "execution_count": null,
   "id": "60365421-39c8-44f8-a6d2-3b23802a27ee",
   "metadata": {},
   "outputs": [],
   "source": []
  },
  {
   "cell_type": "code",
   "execution_count": null,
   "id": "f7683a79-62bc-4287-bb86-b7379980439a",
   "metadata": {},
   "outputs": [],
   "source": []
  },
  {
   "cell_type": "code",
   "execution_count": null,
   "id": "b4c05a44-7083-4f9d-83ff-e383c44af951",
   "metadata": {},
   "outputs": [],
   "source": []
  },
  {
   "cell_type": "code",
   "execution_count": null,
   "id": "c866b87b-7d12-421b-9e03-42dbff5905c0",
   "metadata": {},
   "outputs": [],
   "source": []
  }
 ],
 "metadata": {
  "kernelspec": {
   "display_name": "Python 3",
   "language": "python",
   "name": "python3"
  },
  "language_info": {
   "codemirror_mode": {
    "name": "ipython",
    "version": 3
   },
   "file_extension": ".py",
   "mimetype": "text/x-python",
   "name": "python",
   "nbconvert_exporter": "python",
   "pygments_lexer": "ipython3",
   "version": "3.7.9"
  }
 },
 "nbformat": 4,
 "nbformat_minor": 5
}
