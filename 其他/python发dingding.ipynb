{
 "cells": [
  {
   "cell_type": "code",
   "execution_count": 89,
   "id": "f00dd4d8",
   "metadata": {},
   "outputs": [],
   "source": [
    "import requests\n",
    "import json\n",
    "import datetime"
   ]
  },
  {
   "cell_type": "code",
   "execution_count": 70,
   "id": "ccae46a5",
   "metadata": {},
   "outputs": [],
   "source": [
    "def get_access_token(appkey,appsecret):\n",
    "    url='https://oapi.dingtalk.com/gettoken'\n",
    "    params={\n",
    "        'appkey':appkey,\n",
    "        'appsecret':appsecret}\n",
    "    res=json.loads(requests.get(url,params=params).text)\n",
    "    return res"
   ]
  },
  {
   "cell_type": "code",
   "execution_count": 71,
   "id": "9f79031c",
   "metadata": {},
   "outputs": [
    {
     "data": {
      "text/plain": [
       "{'errcode': 0,\n",
       " 'access_token': '7a58eda51b7c3fca912ae040923d6319',\n",
       " 'errmsg': 'ok',\n",
       " 'expires_in': 7200}"
      ]
     },
     "execution_count": 71,
     "metadata": {},
     "output_type": "execute_result"
    }
   ],
   "source": [
    "get_access_token('ding4myct8kfukpgxsyd','hFTOAQcAaJ5Xs28szY6Aw7JFXRgxzvDB3tE9KxJ4BXRK66SveyyAL9UyXL9YoU_4')"
   ]
  },
  {
   "cell_type": "code",
   "execution_count": 72,
   "id": "3f73c3ae",
   "metadata": {},
   "outputs": [],
   "source": [
    "def ding_get_dp(token):\n",
    "    url='https://oapi.dingtalk.com/department/list?access_token='+token\n",
    "    dp=json.loads(requests.get(url).text)\n",
    "    return dp['department']"
   ]
  },
  {
   "cell_type": "code",
   "execution_count": 73,
   "id": "22857a1b",
   "metadata": {},
   "outputs": [
    {
     "data": {
      "text/plain": [
       "[{'createDeptGroup': True, 'name': '杭州卓力', 'id': 1, 'autoAddUser': True},\n",
       " {'createDeptGroup': True,\n",
       "  'name': 'operation department',\n",
       "  'id': 863323980,\n",
       "  'autoAddUser': True,\n",
       "  'parentid': 1},\n",
       " {'createDeptGroup': True,\n",
       "  'name': 'logistics department',\n",
       "  'id': 863516824,\n",
       "  'autoAddUser': True,\n",
       "  'parentid': 1},\n",
       " {'createDeptGroup': True,\n",
       "  'name': 'administrative department',\n",
       "  'id': 863674378,\n",
       "  'autoAddUser': True,\n",
       "  'parentid': 1},\n",
       " {'createDeptGroup': True,\n",
       "  'name': 'office of the general manager',\n",
       "  'id': 863695270,\n",
       "  'autoAddUser': True,\n",
       "  'parentid': 1},\n",
       " {'createDeptGroup': True,\n",
       "  'name': 'purchasing department',\n",
       "  'id': 863746251,\n",
       "  'autoAddUser': True,\n",
       "  'parentid': 1},\n",
       " {'createDeptGroup': True,\n",
       "  'name': 'legal affairs department',\n",
       "  'id': 863759182,\n",
       "  'autoAddUser': True,\n",
       "  'parentid': 1},\n",
       " {'createDeptGroup': True,\n",
       "  'name': 'technology department',\n",
       "  'id': 863765167,\n",
       "  'autoAddUser': True,\n",
       "  'parentid': 1},\n",
       " {'createDeptGroup': True,\n",
       "  'name': 'financial department',\n",
       "  'id': 863837086,\n",
       "  'autoAddUser': True,\n",
       "  'parentid': 1}]"
      ]
     },
     "execution_count": 73,
     "metadata": {},
     "output_type": "execute_result"
    }
   ],
   "source": [
    "ding_get_dp('7a58eda51b7c3fca912ae040923d6319')"
   ]
  },
  {
   "cell_type": "code",
   "execution_count": 74,
   "id": "3164d497",
   "metadata": {},
   "outputs": [],
   "source": [
    "def get_users(token,dept_id):\n",
    "    url='https://oapi.dingtalk.com/user/getDeptMember?access_token={0}&deptId={1}'.format(token,dept_id)\n",
    "    user_id=json.loads(requests.get(url).text)\n",
    "    return user_id"
   ]
  },
  {
   "cell_type": "code",
   "execution_count": 75,
   "id": "2dcf4d34",
   "metadata": {},
   "outputs": [
    {
     "data": {
      "text/plain": [
       "{'errcode': 0,\n",
       " 'errmsg': 'ok',\n",
       " 'userIds': ['manager8200', '40500147601144675', '01103130224029202433']}"
      ]
     },
     "execution_count": 75,
     "metadata": {},
     "output_type": "execute_result"
    }
   ],
   "source": [
    "get_users('7a58eda51b7c3fca912ae040923d6319',1)"
   ]
  },
  {
   "cell_type": "code",
   "execution_count": 76,
   "id": "d58ccd3b",
   "metadata": {},
   "outputs": [],
   "source": [
    "def get_users_info(token,user_id):\n",
    "    url='https://oapi.dingtalk.com/user/get?access_token={0}&userid={1}'.format(token,user_id)\n",
    "    info=json.loads(requests.get(url).text)\n",
    "    return info"
   ]
  },
  {
   "cell_type": "code",
   "execution_count": 77,
   "id": "417a3c87",
   "metadata": {},
   "outputs": [
    {
     "data": {
      "text/plain": [
       "{'errcode': 0,\n",
       " 'exclusiveAccount': False,\n",
       " 'unionid': 'gFUoY1BCEmiPDljjXZlFw4QiEiE',\n",
       " 'roles': [{'id': 3819468671, 'name': '主管理员', 'groupName': '默认', 'type': 101}],\n",
       " 'userid': 'manager8200',\n",
       " 'isLeaderInDepts': '{1:false}',\n",
       " 'isBoss': False,\n",
       " 'isSenior': False,\n",
       " 'department': [1],\n",
       " 'orderInDepts': '{1:176228317963246512}',\n",
       " 'errmsg': 'ok',\n",
       " 'active': True,\n",
       " 'avatar': '',\n",
       " 'isAdmin': True,\n",
       " 'tags': {},\n",
       " 'isHide': False,\n",
       " 'name': 'Niko',\n",
       " 'realAuthed': True}"
      ]
     },
     "execution_count": 77,
     "metadata": {},
     "output_type": "execute_result"
    }
   ],
   "source": [
    "get_users_info('7a58eda51b7c3fca912ae040923d6319','manager8200')"
   ]
  },
  {
   "cell_type": "code",
   "execution_count": 99,
   "id": "573babf6",
   "metadata": {},
   "outputs": [],
   "source": [
    "body={'agent_id':2718675743,\n",
    "      'userid_list':'manager8200',\n",
    "      'msg':{'msgtype':'text','text':{'content':'hello nikoooo'+str(datetime.datetime.now())}}}\n",
    "def send_message(token,body):\n",
    "    url='https://oapi.dingtalk.com/topapi/message/corpconversation/asyncsend_v2'\n",
    "    params={'access_token':token,\n",
    "            'body':body}\n",
    "    res=requests.post(url,params=params,json=body)\n",
    "    return res.json()"
   ]
  },
  {
   "cell_type": "code",
   "execution_count": 100,
   "id": "aa6d9554",
   "metadata": {},
   "outputs": [
    {
     "data": {
      "text/plain": [
       "{'errcode': 0,\n",
       " 'errmsg': 'ok',\n",
       " 'task_id': 2948344217323,\n",
       " 'request_id': '16ltyf6bzz278'}"
      ]
     },
     "execution_count": 100,
     "metadata": {},
     "output_type": "execute_result"
    }
   ],
   "source": [
    "send_message('7a58eda51b7c3fca912ae040923d6319',body)"
   ]
  },
  {
   "cell_type": "code",
   "execution_count": 102,
   "id": "3bb997cb",
   "metadata": {},
   "outputs": [
    {
     "data": {
      "text/plain": [
       "<attribute 'day' of 'datetime.date' objects>"
      ]
     },
     "execution_count": 102,
     "metadata": {},
     "output_type": "execute_result"
    }
   ],
   "source": []
  },
  {
   "cell_type": "code",
   "execution_count": null,
   "id": "d8041b97",
   "metadata": {},
   "outputs": [],
   "source": []
  }
 ],
 "metadata": {
  "kernelspec": {
   "display_name": "Python 3",
   "language": "python",
   "name": "python3"
  },
  "language_info": {
   "codemirror_mode": {
    "name": "ipython",
    "version": 3
   },
   "file_extension": ".py",
   "mimetype": "text/x-python",
   "name": "python",
   "nbconvert_exporter": "python",
   "pygments_lexer": "ipython3",
   "version": "3.7.9"
  }
 },
 "nbformat": 4,
 "nbformat_minor": 5
}
