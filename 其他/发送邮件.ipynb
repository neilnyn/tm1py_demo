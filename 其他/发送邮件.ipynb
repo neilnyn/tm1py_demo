{
 "cells": [
  {
   "cell_type": "code",
   "execution_count": 1,
   "id": "eea02b48",
   "metadata": {},
   "outputs": [],
   "source": []
  },
  {
   "cell_type": "code",
   "execution_count": null,
   "id": "4cb67f17",
   "metadata": {},
   "outputs": [],
   "source": []
  },
  {
   "cell_type": "code",
   "execution_count": 14,
   "id": "ee9eee20",
   "metadata": {},
   "outputs": [],
   "source": [
    "\n"
   ]
  },
  {
   "cell_type": "code",
   "execution_count": 22,
   "id": "bd87d676",
   "metadata": {},
   "outputs": [],
   "source": [
    "with open(r'C:\\TI Excecute PY\\parameter.txt','r+') as p:\n",
    "    content=p.read()\n",
    "    para=content.split(':')[1].split('\"')[0]\n",
    "    p.close()\n",
    "with open(r'C:\\Users\\User\\Desktop\\testtttt.txt','w') as f:\n",
    "    f.write(para)\n",
    "    f.close()"
   ]
  },
  {
   "cell_type": "code",
   "execution_count": 95,
   "id": "b9179fb9",
   "metadata": {},
   "outputs": [],
   "source": [
    "import smtplib\n",
    "from email.mime.text import MIMEText\n",
    "from email.mime.multipart import MIMEMultipart\n",
    "from email.mime.multipart import MIMEBase\n",
    "from email import encoders\n",
    "from email.utils import parseaddr, formataddr\n",
    "\n",
    "with open('C:\\\\TI Excecute PY\\\\parameter.txt','r+') as p:\n",
    "    content=p.read()\n",
    "    para=content.split(chr(177))\n",
    "    p.close()\n",
    "    pl=[]\n",
    "    for s in para:\n",
    "        pa=s.split(chr(176))[1].split('\"')[0]\n",
    "        pl.append(pa)\n",
    "\n",
    "class SendMail(object):\n",
    "    def __init__(self):\n",
    "        self.fromUser = pl[0]\n",
    "        self.userPasswd = pl[1]      # 此处是qq邮箱授权码， 不是登录密码\n",
    "        self.smtpAddr = \"smtp.qq.com\"\n",
    "   # 构造邮件结构\n",
    "   # toAddrs 收件人可以是多个,[\"xxx@qq.com\",\"xxx@qq.com\"]， subject 邮件的主题， msg 邮件的内容\n",
    "    def mailStructure(self, toAddrs, subject, msg):\n",
    "       # 邮件对象:\n",
    "        mailMsg = MIMEMultipart()\n",
    "        mailMsg['Subject'] = (subject)\n",
    "        mailMsg['From'] = (\"TM1管理员\")\n",
    "        mailMsg['To'] = ','.join(toAddrs)\n",
    "        # 邮件正文是MIMEText ：\n",
    "        mailMsg.attach(MIMEText(msg, 'html', 'utf-8'))\n",
    "        return mailMsg.as_string()\n",
    " # 发送邮件\n",
    "    def sendMail(self, toAddrs, subject, msg):\n",
    "        mailMsg_as_string = self.mailStructure(toAddrs, subject, msg)\n",
    "       # 连接服务器发送邮件\n",
    "        try:\n",
    "            server = smtplib.SMTP_SSL(self.smtpAddr, 465)\n",
    "            server.connect(self.smtpAddr)  # 连接smtp服务器\n",
    "            server.login(self.fromUser, self.userPasswd)  # 登录邮箱\n",
    "            server.sendmail(self.fromUser, toAddrs, mailMsg_as_string)  # 发送邮件\n",
    "            server.quit()\n",
    "        except Exception:\n",
    "            print(\"Error: unable to send email\")\n",
    "s=SendMail()\n",
    "s.sendMail([pl[2]], pl[3], pl[4])            "
   ]
  },
  {
   "cell_type": "code",
   "execution_count": 91,
   "id": "e4ed0a7e",
   "metadata": {},
   "outputs": [
    {
     "data": {
      "text/plain": [
       "['1174951568@qq.com',\n",
       " 'stdjvxrbemfvjehe',\n",
       " '1142850516@qq.com',\n",
       " 'TM1 Status',\n",
       " 'TI Successfully Execute']"
      ]
     },
     "execution_count": 91,
     "metadata": {},
     "output_type": "execute_result"
    }
   ],
   "source": [
    "pl"
   ]
  },
  {
   "cell_type": "code",
   "execution_count": 96,
   "id": "6f54f413",
   "metadata": {},
   "outputs": [],
   "source": [
    "with open('C:\\\\TI Excecute PY\\\\parameter.txt','r+') as p:\n",
    "    content=p.read()\n",
    "    para=content.split(chr(177))\n",
    "    p.close()\n",
    "    pl=[]\n",
    "    for s in para:\n",
    "        pa=s.split(chr(176))[1].split('\"')[0]\n",
    "        pl.append(pa)"
   ]
  },
  {
   "cell_type": "code",
   "execution_count": 97,
   "id": "1e92f5f5",
   "metadata": {},
   "outputs": [
    {
     "data": {
      "text/plain": [
       "['1174951568@qq.com',\n",
       " 'stdjvxrbemfvjehe',\n",
       " '1142850516@qq.com',\n",
       " '22222',\n",
       " '111111']"
      ]
     },
     "execution_count": 97,
     "metadata": {},
     "output_type": "execute_result"
    }
   ],
   "source": [
    "pl"
   ]
  },
  {
   "cell_type": "code",
   "execution_count": null,
   "id": "eefacd96",
   "metadata": {},
   "outputs": [],
   "source": []
  },
  {
   "cell_type": "code",
   "execution_count": null,
   "id": "33402a7a",
   "metadata": {},
   "outputs": [],
   "source": []
  },
  {
   "cell_type": "code",
   "execution_count": null,
   "id": "5a441315",
   "metadata": {},
   "outputs": [],
   "source": []
  }
 ],
 "metadata": {
  "kernelspec": {
   "display_name": "Python 3",
   "language": "python",
   "name": "python3"
  },
  "language_info": {
   "codemirror_mode": {
    "name": "ipython",
    "version": 3
   },
   "file_extension": ".py",
   "mimetype": "text/x-python",
   "name": "python",
   "nbconvert_exporter": "python",
   "pygments_lexer": "ipython3",
   "version": "3.6.8"
  }
 },
 "nbformat": 4,
 "nbformat_minor": 5
}
