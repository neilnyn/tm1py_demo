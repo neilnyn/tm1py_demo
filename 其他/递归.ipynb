{
 "cells": [
  {
   "cell_type": "code",
   "execution_count": 5,
   "id": "7810d1fc",
   "metadata": {},
   "outputs": [],
   "source": [
    "def digui(n):\n",
    "    \n",
    "    if n>0:\n",
    "        digui(n-1)\n",
    "    else:\n",
    "        print('递归完成','回溯如下')\n",
    "    return print(n)    \n",
    "        "
   ]
  },
  {
   "cell_type": "code",
   "execution_count": 7,
   "id": "5a687d21",
   "metadata": {},
   "outputs": [
    {
     "name": "stdout",
     "output_type": "stream",
     "text": [
      "递归完成 回溯如下\n",
      "0\n",
      "1\n",
      "2\n",
      "3\n"
     ]
    }
   ],
   "source": [
    "digui(3)"
   ]
  },
  {
   "cell_type": "code",
   "execution_count": null,
   "id": "651f660a",
   "metadata": {},
   "outputs": [],
   "source": []
  },
  {
   "cell_type": "code",
   "execution_count": 132,
   "id": "d23e1fef",
   "metadata": {},
   "outputs": [],
   "source": [
    "i=0\n",
    "\n",
    "def move(n,a,b,c):\n",
    "    global i\n",
    "    \n",
    "    if n==1:\n",
    "        i=i+1\n",
    "        print('移动第'+'%d' %i+'次',a,'->',c)\n",
    "        return None\n",
    "    if n==2:\n",
    "        i=i+1\n",
    "        print('移动第'+'%d' %i+'次',a,'->',b)\n",
    "        i=i+1\n",
    "        print('移动第'+'%d' %i+'次',a,'->',c)\n",
    "        i=i+1\n",
    "        print('移动第'+'%d' %i+'次',b,'->',c)\n",
    "        \n",
    "        return None\n",
    "    move(n-1,a,c,b)\n",
    "    move(1,a,b,c)\n",
    "    move(n-1,b,a,c)\n",
    "    "
   ]
  },
  {
   "cell_type": "code",
   "execution_count": 133,
   "id": "d12e5229",
   "metadata": {},
   "outputs": [
    {
     "name": "stdout",
     "output_type": "stream",
     "text": [
      "移动第1次 A -> C\n",
      "移动第2次 A -> B\n",
      "移动第3次 C -> B\n",
      "移动第4次 A -> C\n",
      "移动第5次 B -> A\n",
      "移动第6次 B -> C\n",
      "移动第7次 A -> C\n"
     ]
    }
   ],
   "source": [
    "a='A'\n",
    "b='B'\n",
    "c='C'\n",
    "move(3,a,b,c)  "
   ]
  },
  {
   "cell_type": "code",
   "execution_count": null,
   "id": "000db321",
   "metadata": {},
   "outputs": [],
   "source": []
  },
  {
   "cell_type": "code",
   "execution_count": null,
   "id": "a994df77",
   "metadata": {},
   "outputs": [],
   "source": []
  },
  {
   "cell_type": "code",
   "execution_count": null,
   "id": "6bee6e56",
   "metadata": {},
   "outputs": [],
   "source": []
  },
  {
   "cell_type": "code",
   "execution_count": null,
   "id": "31b57bf9",
   "metadata": {},
   "outputs": [],
   "source": []
  }
 ],
 "metadata": {
  "kernelspec": {
   "display_name": "Python 3",
   "language": "python",
   "name": "python3"
  },
  "language_info": {
   "codemirror_mode": {
    "name": "ipython",
    "version": 3
   },
   "file_extension": ".py",
   "mimetype": "text/x-python",
   "name": "python",
   "nbconvert_exporter": "python",
   "pygments_lexer": "ipython3",
   "version": "3.6.8"
  }
 },
 "nbformat": 4,
 "nbformat_minor": 5
}
