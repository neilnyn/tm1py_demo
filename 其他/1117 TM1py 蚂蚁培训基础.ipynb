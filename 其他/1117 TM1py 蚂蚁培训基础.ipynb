{
 "cells": [
  {
   "cell_type": "code",
   "execution_count": null,
   "id": "443c40f8",
   "metadata": {},
   "outputs": [],
   "source": []
  },
  {
   "cell_type": "markdown",
   "id": "de032609",
   "metadata": {},
   "source": [
    "### 建立TM1服务"
   ]
  },
  {
   "cell_type": "code",
   "execution_count": 2,
   "id": "db35439e",
   "metadata": {},
   "outputs": [],
   "source": [
    "from TM1py.Services import TM1Service"
   ]
  },
  {
   "cell_type": "code",
   "execution_count": 3,
   "id": "bdd67d45",
   "metadata": {},
   "outputs": [],
   "source": [
    "TM1 = TM1Service(address=\"localhost\", port=30059, ssl=False, user=\"Neil\", password=\"123\")"
   ]
  },
  {
   "cell_type": "code",
   "execution_count": 4,
   "id": "5f3e352e",
   "metadata": {},
   "outputs": [
    {
     "data": {
      "text/plain": [
       "<TM1py.Services.TM1Service.TM1Service at 0x10dc1c66688>"
      ]
     },
     "execution_count": 4,
     "metadata": {},
     "output_type": "execute_result"
    }
   ],
   "source": [
    "TM1"
   ]
  },
  {
   "cell_type": "markdown",
   "id": "9c0d50e0",
   "metadata": {},
   "source": []
  },
  {
   "cell_type": "markdown",
   "id": "eaa76196",
   "metadata": {},
   "source": [
    "### 创建单个元素"
   ]
  },
  {
   "cell_type": "code",
   "execution_count": 12,
   "id": "293e2ffd",
   "metadata": {},
   "outputs": [],
   "source": [
    "from TM1py.Objects import Element"
   ]
  },
  {
   "cell_type": "code",
   "execution_count": 36,
   "id": "5f04a1c4",
   "metadata": {},
   "outputs": [],
   "source": [
    "element_n=Element('test01','Numeric')"
   ]
  },
  {
   "cell_type": "code",
   "execution_count": 17,
   "id": "2899f5ac",
   "metadata": {},
   "outputs": [
    {
     "data": {
      "text/plain": [
       "Element:{\"Name\": \"test01\", \"Type\": \"Numeric\"}"
      ]
     },
     "execution_count": 17,
     "metadata": {},
     "output_type": "execute_result"
    }
   ],
   "source": [
    "element_n"
   ]
  },
  {
   "cell_type": "code",
   "execution_count": 89,
   "id": "e633d733",
   "metadata": {},
   "outputs": [
    {
     "data": {
      "text/plain": [
       "TM1py.Objects.Element.Element"
      ]
     },
     "execution_count": 89,
     "metadata": {},
     "output_type": "execute_result"
    }
   ],
   "source": [
    "type(element_n)"
   ]
  },
  {
   "cell_type": "code",
   "execution_count": 35,
   "id": "4e997b01",
   "metadata": {},
   "outputs": [],
   "source": [
    "element_s=Element('test02','String')"
   ]
  },
  {
   "cell_type": "code",
   "execution_count": 19,
   "id": "678085e6",
   "metadata": {},
   "outputs": [
    {
     "data": {
      "text/plain": [
       "Element:{\"Name\": \"test02\", \"Type\": \"String\"}"
      ]
     },
     "execution_count": 19,
     "metadata": {},
     "output_type": "execute_result"
    }
   ],
   "source": [
    "element_s"
   ]
  },
  {
   "cell_type": "code",
   "execution_count": 34,
   "id": "a84a9781",
   "metadata": {},
   "outputs": [],
   "source": [
    "element_c=Element('test03','Consolidated')"
   ]
  },
  {
   "cell_type": "code",
   "execution_count": 22,
   "id": "c3e28ba6",
   "metadata": {},
   "outputs": [
    {
     "data": {
      "text/plain": [
       "Element:{\"Name\": \"test02\", \"Type\": \"Consolidated\"}"
      ]
     },
     "execution_count": 22,
     "metadata": {},
     "output_type": "execute_result"
    }
   ],
   "source": [
    "element_c"
   ]
  },
  {
   "cell_type": "markdown",
   "id": "9cacf017",
   "metadata": {},
   "source": [
    "### 创建一个属性"
   ]
  },
  {
   "cell_type": "code",
   "execution_count": 23,
   "id": "a7730ec1",
   "metadata": {},
   "outputs": [],
   "source": [
    "from TM1py.Objects import ElementAttribute"
   ]
  },
  {
   "cell_type": "code",
   "execution_count": 24,
   "id": "b4834fdb",
   "metadata": {},
   "outputs": [],
   "source": [
    "element_n_attr01 = ElementAttribute(name='String_Test', attribute_type='String')"
   ]
  },
  {
   "cell_type": "code",
   "execution_count": 25,
   "id": "2b85d6e4",
   "metadata": {},
   "outputs": [
    {
     "data": {
      "text/plain": [
       "ElementAttribute:{\"Name\": \"String_Test\", \"Type\": \"String\"}"
      ]
     },
     "execution_count": 25,
     "metadata": {},
     "output_type": "execute_result"
    }
   ],
   "source": [
    "element_n_attr01"
   ]
  },
  {
   "cell_type": "code",
   "execution_count": 90,
   "id": "7ff92fa1",
   "metadata": {},
   "outputs": [
    {
     "data": {
      "text/plain": [
       "TM1py.Objects.ElementAttribute.ElementAttribute"
      ]
     },
     "execution_count": 90,
     "metadata": {},
     "output_type": "execute_result"
    }
   ],
   "source": [
    "type(element_n_attr01)"
   ]
  },
  {
   "cell_type": "code",
   "execution_count": 26,
   "id": "009ca189",
   "metadata": {},
   "outputs": [],
   "source": [
    "element_n_attr02 = ElementAttribute(name='Alias_Test', attribute_type='Alias')"
   ]
  },
  {
   "cell_type": "code",
   "execution_count": 27,
   "id": "c0242443",
   "metadata": {},
   "outputs": [
    {
     "data": {
      "text/plain": [
       "ElementAttribute:{\"Name\": \"Alias_Test\", \"Type\": \"Alias\"}"
      ]
     },
     "execution_count": 27,
     "metadata": {},
     "output_type": "execute_result"
    }
   ],
   "source": [
    "element_n_attr02"
   ]
  },
  {
   "cell_type": "markdown",
   "id": "30f7c6d1",
   "metadata": {},
   "source": [
    "### 维度 创建父子级关系"
   ]
  },
  {
   "cell_type": "code",
   "execution_count": 28,
   "id": "83c9898c",
   "metadata": {},
   "outputs": [],
   "source": [
    "from TM1py.Utils import Utils\n",
    "edges = Utils.CaseAndSpaceInsensitiveTuplesDict()"
   ]
  },
  {
   "cell_type": "code",
   "execution_count": 29,
   "id": "e86dc9a2",
   "metadata": {},
   "outputs": [
    {
     "data": {
      "text/plain": [
       "{}"
      ]
     },
     "execution_count": 29,
     "metadata": {},
     "output_type": "execute_result"
    }
   ],
   "source": [
    "edges"
   ]
  },
  {
   "cell_type": "code",
   "execution_count": 51,
   "id": "4228d7e1",
   "metadata": {},
   "outputs": [],
   "source": [
    "#test01是test03的子元素\n",
    "edges ={('test03','test01'):1}"
   ]
  },
  {
   "cell_type": "code",
   "execution_count": 52,
   "id": "94f6412c",
   "metadata": {},
   "outputs": [
    {
     "data": {
      "text/plain": [
       "{('test03', 'test01'): 1}"
      ]
     },
     "execution_count": 52,
     "metadata": {},
     "output_type": "execute_result"
    }
   ],
   "source": [
    "edges"
   ]
  },
  {
   "cell_type": "markdown",
   "id": "15681eac",
   "metadata": {},
   "source": [
    "### 维度 创建层级结构 "
   ]
  },
  {
   "cell_type": "code",
   "execution_count": 40,
   "id": "2259e226",
   "metadata": {},
   "outputs": [],
   "source": [
    "from TM1py.Objects import Hierarchy"
   ]
  },
  {
   "cell_type": "code",
   "execution_count": 54,
   "id": "5c1102db",
   "metadata": {},
   "outputs": [],
   "source": [
    "hierarchy_test=Hierarchy(name='Test', dimension_name='Test', elements=[element_n,element_s,element_c],edges=edges,element_attributes=[element_n_attr01,element_n_attr02])"
   ]
  },
  {
   "cell_type": "code",
   "execution_count": 55,
   "id": "89b0fa46",
   "metadata": {},
   "outputs": [
    {
     "data": {
      "text/plain": [
       "Hierarchy:{\"Name\": \"Test\", \"Elements\": [{\"Name\": \"test01\", \"Type\": \"Numeric\"}, {\"Name\": \"test02\", \"Type\": \"String\"}, {\"Name\": \"test03\", \"Type\": \"Consolidated\"}], \"Edges\": [{\"ParentName\": \"test03\", \"ComponentName\": \"test01\", \"Weight\": 1}]}"
      ]
     },
     "execution_count": 55,
     "metadata": {},
     "output_type": "execute_result"
    }
   ],
   "source": [
    "hierarchy_test"
   ]
  },
  {
   "cell_type": "code",
   "execution_count": 91,
   "id": "b92fd7e6",
   "metadata": {},
   "outputs": [
    {
     "data": {
      "text/plain": [
       "TM1py.Objects.Hierarchy.Hierarchy"
      ]
     },
     "execution_count": 91,
     "metadata": {},
     "output_type": "execute_result"
    }
   ],
   "source": [
    "type(hierarchy_test)"
   ]
  },
  {
   "cell_type": "markdown",
   "id": "358f5e0d",
   "metadata": {},
   "source": [
    "### 维度 创建维度"
   ]
  },
  {
   "cell_type": "code",
   "execution_count": 45,
   "id": "ec169ca9",
   "metadata": {},
   "outputs": [],
   "source": [
    "from TM1py.Objects import Dimension"
   ]
  },
  {
   "cell_type": "code",
   "execution_count": 56,
   "id": "f92a49e4",
   "metadata": {},
   "outputs": [],
   "source": [
    "dimension_test = Dimension(name='Test', hierarchies=[hierarchy_test]) "
   ]
  },
  {
   "cell_type": "code",
   "execution_count": 57,
   "id": "f6de2d55",
   "metadata": {},
   "outputs": [
    {
     "data": {
      "text/plain": [
       "Dimension:{\"Name\": \"Test\", \"UniqueName\": \"[Test]\", \"Attributes\": {\"Caption\": \"Test\"}, \"Hierarchies\": [{\"Name\": \"Test\", \"Elements\": [{\"Name\": \"test01\", \"Type\": \"Numeric\"}, {\"Name\": \"test02\", \"Type\": \"String\"}, {\"Name\": \"test03\", \"Type\": \"Consolidated\"}], \"Edges\": [{\"ParentName\": \"test03\", \"ComponentName\": \"test01\", \"Weight\": 1}]}]}"
      ]
     },
     "execution_count": 57,
     "metadata": {},
     "output_type": "execute_result"
    }
   ],
   "source": [
    "dimension_test"
   ]
  },
  {
   "cell_type": "code",
   "execution_count": 58,
   "id": "da28f504",
   "metadata": {},
   "outputs": [
    {
     "data": {
      "text/plain": [
       "<Response [201]>"
      ]
     },
     "execution_count": 58,
     "metadata": {},
     "output_type": "execute_result"
    }
   ],
   "source": [
    "TM1.dimensions.create(dimension_test)"
   ]
  },
  {
   "cell_type": "code",
   "execution_count": 8,
   "id": "06e3c1f9",
   "metadata": {},
   "outputs": [
    {
     "data": {
      "text/plain": [
       "[{'a': 'N'}, {'b': 'N'}, {'c': 'N'}]"
      ]
     },
     "execution_count": 8,
     "metadata": {},
     "output_type": "execute_result"
    }
   ],
   "source": [
    "[{i:'N'} for i in ('a','b','c')]"
   ]
  },
  {
   "cell_type": "markdown",
   "id": "67c400da",
   "metadata": {},
   "source": [
    "### 维度查看"
   ]
  },
  {
   "cell_type": "code",
   "execution_count": 144,
   "id": "6c4f98ae",
   "metadata": {},
   "outputs": [],
   "source": [
    "dimension_test = TM1.dimensions.get('Test')"
   ]
  },
  {
   "cell_type": "code",
   "execution_count": 145,
   "id": "e9024e0a",
   "metadata": {},
   "outputs": [
    {
     "data": {
      "text/plain": [
       "Dimension:{\"Name\": \"Test\", \"UniqueName\": \"[Test]\", \"Attributes\": {\"Caption\": \"Test\"}, \"Hierarchies\": [{\"Name\": \"Test\", \"Elements\": [{\"Name\": \"test01\", \"Type\": \"Numeric\"}, {\"Name\": \"test02\", \"Type\": \"String\"}, {\"Name\": \"test03\", \"Type\": \"Consolidated\"}], \"Edges\": [{\"ParentName\": \"test03\", \"ComponentName\": \"test01\", \"Weight\": 1}]}]}"
      ]
     },
     "execution_count": 145,
     "metadata": {},
     "output_type": "execute_result"
    }
   ],
   "source": [
    "dimension_test"
   ]
  },
  {
   "cell_type": "markdown",
   "id": "d3469b15",
   "metadata": {},
   "source": [
    "### 层级结构查看"
   ]
  },
  {
   "cell_type": "code",
   "execution_count": 146,
   "id": "7ab8fefa",
   "metadata": {},
   "outputs": [],
   "source": [
    "hiers_test = dimension_test.hierarchies"
   ]
  },
  {
   "cell_type": "code",
   "execution_count": 147,
   "id": "375bb5bc",
   "metadata": {},
   "outputs": [
    {
     "data": {
      "text/plain": [
       "[Hierarchy:{\"Name\": \"Test\", \"Elements\": [{\"Name\": \"test01\", \"Type\": \"Numeric\"}, {\"Name\": \"test02\", \"Type\": \"String\"}, {\"Name\": \"test03\", \"Type\": \"Consolidated\"}], \"Edges\": [{\"ParentName\": \"test03\", \"ComponentName\": \"test01\", \"Weight\": 1}]}]"
      ]
     },
     "execution_count": 147,
     "metadata": {},
     "output_type": "execute_result"
    }
   ],
   "source": [
    "hiers_test"
   ]
  },
  {
   "cell_type": "code",
   "execution_count": 148,
   "id": "8d2cd714",
   "metadata": {},
   "outputs": [],
   "source": [
    "hier_test=hiers_test[0]"
   ]
  },
  {
   "cell_type": "code",
   "execution_count": 142,
   "id": "e591e8e5",
   "metadata": {},
   "outputs": [
    {
     "data": {
      "text/plain": [
       "Hierarchy:{\"Name\": \"Test\", \"Elements\": [{\"Name\": \"test01\", \"Type\": \"Numeric\"}, {\"Name\": \"test02\", \"Type\": \"String\"}, {\"Name\": \"test03\", \"Type\": \"Consolidated\"}, {\"Name\": \"test04\", \"Type\": \"Numeric\"}], \"Edges\": [{\"ParentName\": \"test03\", \"ComponentName\": \"test01\", \"Weight\": 1}, {\"ParentName\": \"test03\", \"ComponentName\": \"test04\", \"Weight\": 1}]}"
      ]
     },
     "execution_count": 142,
     "metadata": {},
     "output_type": "execute_result"
    }
   ],
   "source": [
    "hier_test"
   ]
  },
  {
   "cell_type": "code",
   "execution_count": 92,
   "id": "bfc69cd4",
   "metadata": {},
   "outputs": [
    {
     "data": {
      "text/plain": [
       "TM1py.Objects.Hierarchy.Hierarchy"
      ]
     },
     "execution_count": 92,
     "metadata": {},
     "output_type": "execute_result"
    }
   ],
   "source": [
    "type(hier_test)"
   ]
  },
  {
   "cell_type": "markdown",
   "id": "ff11be56",
   "metadata": {},
   "source": [
    "### 元素查看"
   ]
  },
  {
   "cell_type": "code",
   "execution_count": 73,
   "id": "9663ada8",
   "metadata": {},
   "outputs": [],
   "source": [
    "elements_test = hier_test.elements"
   ]
  },
  {
   "cell_type": "code",
   "execution_count": 74,
   "id": "8b329c52",
   "metadata": {},
   "outputs": [
    {
     "data": {
      "text/plain": [
       "{'test01': Element:{\"Name\": \"test01\", \"Type\": \"Numeric\"}, 'test02': Element:{\"Name\": \"test02\", \"Type\": \"String\"}, 'test03': Element:{\"Name\": \"test03\", \"Type\": \"Consolidated\"}}"
      ]
     },
     "execution_count": 74,
     "metadata": {},
     "output_type": "execute_result"
    }
   ],
   "source": [
    "elements_test"
   ]
  },
  {
   "cell_type": "code",
   "execution_count": 93,
   "id": "85bb828a",
   "metadata": {},
   "outputs": [
    {
     "data": {
      "text/plain": [
       "TM1py.Utils.Utils.CaseAndSpaceInsensitiveDict"
      ]
     },
     "execution_count": 93,
     "metadata": {},
     "output_type": "execute_result"
    }
   ],
   "source": [
    "type(elements_test)"
   ]
  },
  {
   "cell_type": "markdown",
   "id": "5665a52c",
   "metadata": {},
   "source": [
    "### 获取元素Element名称、索引、类型与属性"
   ]
  },
  {
   "cell_type": "code",
   "execution_count": 95,
   "id": "18f0de38",
   "metadata": {},
   "outputs": [
    {
     "name": "stdout",
     "output_type": "stream",
     "text": [
      "<class 'TM1py.Objects.Element.Element'>\n",
      "<class 'TM1py.Objects.Element.Element'>\n",
      "<class 'TM1py.Objects.Element.Element'>\n"
     ]
    }
   ],
   "source": [
    "for elemente_test in hier_test:\n",
    "    print(type(elemente_test))"
   ]
  },
  {
   "cell_type": "code",
   "execution_count": 107,
   "id": "c45f7cc1",
   "metadata": {},
   "outputs": [
    {
     "name": "stdout",
     "output_type": "stream",
     "text": [
      "test01\n",
      "test02\n",
      "test03\n"
     ]
    }
   ],
   "source": [
    "for elemente_test in hier_test:\n",
    "    print(elemente_test.name)"
   ]
  },
  {
   "cell_type": "code",
   "execution_count": 108,
   "id": "4892154a",
   "metadata": {},
   "outputs": [
    {
     "name": "stdout",
     "output_type": "stream",
     "text": [
      "1\n",
      "2\n",
      "3\n"
     ]
    }
   ],
   "source": [
    "for elemente_test in hier_test:\n",
    "    print(elemente_test.index)"
   ]
  },
  {
   "cell_type": "code",
   "execution_count": 109,
   "id": "da88bce2",
   "metadata": {},
   "outputs": [
    {
     "name": "stdout",
     "output_type": "stream",
     "text": [
      "Numeric\n",
      "String\n",
      "Consolidated\n"
     ]
    }
   ],
   "source": [
    "for elemente_test in hier_test:\n",
    "    print(elemente_test.element_type)"
   ]
  },
  {
   "cell_type": "code",
   "execution_count": 110,
   "id": "b5c06b78",
   "metadata": {},
   "outputs": [
    {
     "name": "stdout",
     "output_type": "stream",
     "text": [
      "{'Caption': 'test01', 'Alias_Test': 'test01'}\n",
      "{'Caption': 'test02', 'Alias_Test': 'test02'}\n",
      "{'Caption': 'test03', 'Alias_Test': 'test03'}\n"
     ]
    }
   ],
   "source": [
    "for elemente_test in hier_test:\n",
    "    print(elemente_test.element_attributes)"
   ]
  },
  {
   "cell_type": "markdown",
   "id": "d51534dd",
   "metadata": {},
   "source": [
    "### 查看父子级信息"
   ]
  },
  {
   "cell_type": "code",
   "execution_count": 135,
   "id": "75729a3d",
   "metadata": {},
   "outputs": [
    {
     "data": {
      "text/plain": [
       "{('test03', 'test01'): 1}"
      ]
     },
     "execution_count": 135,
     "metadata": {},
     "output_type": "execute_result"
    }
   ],
   "source": [
    "hier_test.edges"
   ]
  },
  {
   "cell_type": "markdown",
   "id": "5f67990a",
   "metadata": {},
   "source": [
    "### 增添元素与层级结构"
   ]
  },
  {
   "cell_type": "code",
   "execution_count": 149,
   "id": "17a25eea",
   "metadata": {},
   "outputs": [],
   "source": [
    "hier_test.add_element('test04','Numeric')"
   ]
  },
  {
   "cell_type": "code",
   "execution_count": 150,
   "id": "a1ca3ccf",
   "metadata": {},
   "outputs": [],
   "source": [
    "hier_test.add_edge('test03','test04',1)"
   ]
  },
  {
   "cell_type": "code",
   "execution_count": 151,
   "id": "b4a6e4a6",
   "metadata": {},
   "outputs": [],
   "source": [
    "TM1.dimensions.update(dimension_test)"
   ]
  },
  {
   "cell_type": "markdown",
   "id": "33847fe9",
   "metadata": {},
   "source": [
    "### 删除元素"
   ]
  },
  {
   "cell_type": "code",
   "execution_count": 152,
   "id": "32471145",
   "metadata": {},
   "outputs": [],
   "source": [
    "hier_test.remove_element('test04')\n",
    "TM1.dimensions.update(dimension_test)"
   ]
  },
  {
   "cell_type": "markdown",
   "id": "bd8b5b97",
   "metadata": {},
   "source": [
    "### 获取维度里面子集名称"
   ]
  },
  {
   "cell_type": "code",
   "execution_count": 111,
   "id": "8951928b",
   "metadata": {},
   "outputs": [],
   "source": [
    "subsets_test = hier_test.subsets"
   ]
  },
  {
   "cell_type": "code",
   "execution_count": 112,
   "id": "2e666333",
   "metadata": {},
   "outputs": [
    {
     "data": {
      "text/plain": [
       "[]"
      ]
     },
     "execution_count": 112,
     "metadata": {},
     "output_type": "execute_result"
    }
   ],
   "source": [
    "subsets_test"
   ]
  },
  {
   "cell_type": "code",
   "execution_count": 114,
   "id": "90b7d274",
   "metadata": {},
   "outputs": [],
   "source": [
    "subsets_test = TM1.subsets.get_all_names(\"Test\")"
   ]
  },
  {
   "cell_type": "code",
   "execution_count": 115,
   "id": "9d221085",
   "metadata": {},
   "outputs": [
    {
     "data": {
      "text/plain": [
       "[]"
      ]
     },
     "execution_count": 115,
     "metadata": {},
     "output_type": "execute_result"
    }
   ],
   "source": [
    "subsets"
   ]
  },
  {
   "cell_type": "markdown",
   "id": "ab86e4d9",
   "metadata": {},
   "source": [
    "### 获取子集Subset对象"
   ]
  },
  {
   "cell_type": "code",
   "execution_count": 116,
   "id": "72138e97",
   "metadata": {},
   "outputs": [],
   "source": [
    "subset_test = TM1.subsets.get('子集_test', 'Test')"
   ]
  },
  {
   "cell_type": "code",
   "execution_count": 117,
   "id": "96dd5f59",
   "metadata": {},
   "outputs": [
    {
     "data": {
      "text/plain": [
       "Subset:{\"Name\": \"子集_test\", \"Hierarchy@odata.bind\": \"Dimensions('Test')/Hierarchies('Test')\", \"Elements@odata.bind\": [\"Dimensions('Test')/Hierarchies('Test')/Elements('test01')\", \"Dimensions('Test')/Hierarchies('Test')/Elements('test02')\", \"Dimensions('Test')/Hierarchies('Test')/Elements('test03')\"]}"
      ]
     },
     "execution_count": 117,
     "metadata": {},
     "output_type": "execute_result"
    }
   ],
   "source": [
    "subset_test"
   ]
  },
  {
   "cell_type": "code",
   "execution_count": 118,
   "id": "a634c22a",
   "metadata": {},
   "outputs": [
    {
     "data": {
      "text/plain": [
       "TM1py.Objects.Subset.Subset"
      ]
     },
     "execution_count": 118,
     "metadata": {},
     "output_type": "execute_result"
    }
   ],
   "source": [
    "type(subset_test)"
   ]
  },
  {
   "cell_type": "code",
   "execution_count": 120,
   "id": "4f548c17",
   "metadata": {},
   "outputs": [],
   "source": [
    "subset_test = TM1.dimensions.subsets.get(dimension_name='Test', subset_name='子集_test', private=False)"
   ]
  },
  {
   "cell_type": "code",
   "execution_count": 121,
   "id": "e10ad17a",
   "metadata": {},
   "outputs": [
    {
     "data": {
      "text/plain": [
       "Subset:{\"Name\": \"子集_test\", \"Hierarchy@odata.bind\": \"Dimensions('Test')/Hierarchies('Test')\", \"Elements@odata.bind\": [\"Dimensions('Test')/Hierarchies('Test')/Elements('test01')\", \"Dimensions('Test')/Hierarchies('Test')/Elements('test02')\", \"Dimensions('Test')/Hierarchies('Test')/Elements('test03')\"]}"
      ]
     },
     "execution_count": 121,
     "metadata": {},
     "output_type": "execute_result"
    }
   ],
   "source": [
    "subset_test"
   ]
  },
  {
   "cell_type": "markdown",
   "id": "26efa232",
   "metadata": {},
   "source": [
    "### 查看子集元素"
   ]
  },
  {
   "cell_type": "code",
   "execution_count": 122,
   "id": "77a73039",
   "metadata": {},
   "outputs": [
    {
     "data": {
      "text/plain": [
       "['test01', 'test02', 'test03']"
      ]
     },
     "execution_count": 122,
     "metadata": {},
     "output_type": "execute_result"
    }
   ],
   "source": [
    "subset_test.elements"
   ]
  },
  {
   "cell_type": "markdown",
   "id": "6179c564",
   "metadata": {},
   "source": [
    "### 创建子集"
   ]
  },
  {
   "cell_type": "code",
   "execution_count": 123,
   "id": "37271c68",
   "metadata": {},
   "outputs": [],
   "source": [
    "from TM1py.Objects import Subset"
   ]
  },
  {
   "cell_type": "code",
   "execution_count": 126,
   "id": "51b10197",
   "metadata": {},
   "outputs": [
    {
     "data": {
      "text/plain": [
       "Subset:{\"Name\": \"subset_create\", \"Hierarchy@odata.bind\": \"Dimensions('Test')/Hierarchies('Test')\", \"Elements@odata.bind\": [\"Dimensions('Test')/Hierarchies('Test')/Elements('test03')\", \"Dimensions('Test')/Hierarchies('Test')/Elements('test02')\"]}"
      ]
     },
     "execution_count": 126,
     "metadata": {},
     "output_type": "execute_result"
    }
   ],
   "source": [
    "####函数\n",
    "subset_test = Subset(dimension_name='Test', subset_name='subset_create', elements=['test03','test02'])\n",
    "subset_test"
   ]
  },
  {
   "cell_type": "code",
   "execution_count": 127,
   "id": "7fb1842e",
   "metadata": {},
   "outputs": [
    {
     "data": {
      "text/plain": [
       "<Response [201]>"
      ]
     },
     "execution_count": 127,
     "metadata": {},
     "output_type": "execute_result"
    }
   ],
   "source": [
    "####方法\n",
    "TM1.dimensions.subsets.create(subset=subset_test, private=False)"
   ]
  },
  {
   "cell_type": "markdown",
   "id": "da57d591",
   "metadata": {},
   "source": [
    "### 更新Subset"
   ]
  },
  {
   "cell_type": "code",
   "execution_count": 128,
   "id": "54ec705f",
   "metadata": {},
   "outputs": [],
   "source": [
    "subset_test.add_elements(['test01'])"
   ]
  },
  {
   "cell_type": "code",
   "execution_count": 129,
   "id": "38a6261b",
   "metadata": {},
   "outputs": [
    {
     "data": {
      "text/plain": [
       "<Response [200]>"
      ]
     },
     "execution_count": 129,
     "metadata": {},
     "output_type": "execute_result"
    }
   ],
   "source": [
    "TM1.subsets.update(subset_test,private=False)"
   ]
  },
  {
   "cell_type": "code",
   "execution_count": null,
   "id": "ef945219",
   "metadata": {},
   "outputs": [],
   "source": [
    "TM1.dimensions.subsets.update(subset=subset_test, private=False)"
   ]
  },
  {
   "cell_type": "markdown",
   "id": "5e33ebdb",
   "metadata": {},
   "source": [
    "### 删除子集"
   ]
  },
  {
   "cell_type": "code",
   "execution_count": 130,
   "id": "3d036513",
   "metadata": {},
   "outputs": [
    {
     "data": {
      "text/plain": [
       "<Response [204]>"
      ]
     },
     "execution_count": 130,
     "metadata": {},
     "output_type": "execute_result"
    }
   ],
   "source": [
    "TM1.dimensions.subsets.delete(dimension_name='Test', subset_name='subset_create', private=False)"
   ]
  },
  {
   "cell_type": "markdown",
   "id": "b85a32f0",
   "metadata": {},
   "source": [
    "### 结合正则表达式删除子集"
   ]
  },
  {
   "cell_type": "code",
   "execution_count": 255,
   "id": "21b59f7c",
   "metadata": {},
   "outputs": [],
   "source": [
    "import re\n",
    "regex_list=['.*test.*']\n",
    "subsets = TM1.dimensions.subsets.get_all_names(dimension_name='Test', hierarchy_name='Test')"
   ]
  },
  {
   "cell_type": "code",
   "execution_count": 256,
   "id": "56f6704c",
   "metadata": {},
   "outputs": [
    {
     "data": {
      "text/plain": [
       "['子集_test']"
      ]
     },
     "execution_count": 256,
     "metadata": {},
     "output_type": "execute_result"
    }
   ],
   "source": [
    "subsets"
   ]
  },
  {
   "cell_type": "code",
   "execution_count": 257,
   "id": "46cf58bf",
   "metadata": {},
   "outputs": [],
   "source": [
    "for subset in subsets:\n",
    "    for regex in regex_list:\n",
    "        if re.match(regex, subset, re.IGNORECASE):\n",
    "            TM1.dimensions.subsets.delete(dimension_name='Test', subset_name=subset)"
   ]
  },
  {
   "cell_type": "code",
   "execution_count": null,
   "id": "165dedfe",
   "metadata": {},
   "outputs": [],
   "source": []
  },
  {
   "cell_type": "code",
   "execution_count": null,
   "id": "ca012f4e",
   "metadata": {},
   "outputs": [],
   "source": []
  },
  {
   "cell_type": "markdown",
   "id": "c9460805",
   "metadata": {},
   "source": [
    "### 获取实例下全部维度名称"
   ]
  },
  {
   "cell_type": "code",
   "execution_count": 153,
   "id": "46c0eac8",
   "metadata": {},
   "outputs": [
    {
     "data": {
      "text/plain": [
       "['Account',\n",
       " 'Account BS',\n",
       " 'Account GL',\n",
       " 'Account PL',\n",
       " 'Adjustment Type',\n",
       " 'Ant Cost Center',\n",
       " 'Behavior',\n",
       " 'Business Unit',\n",
       " 'Business Unit FPA',\n",
       " 'Channel',\n",
       " 'COA  Account GL',\n",
       " 'COA Budget Center',\n",
       " 'COA Company',\n",
       " 'COA Cost Center',\n",
       " 'COA Detail',\n",
       " 'COA Industry',\n",
       " 'COA InterCompany',\n",
       " 'COA Product',\n",
       " 'COA Project',\n",
       " 'COA Region',\n",
       " 'COA Spare1',\n",
       " 'COA Spare2',\n",
       " 'Company',\n",
       " 'Country',\n",
       " 'Currency',\n",
       " 'Currency From',\n",
       " 'Currency To',\n",
       " 'Customer',\n",
       " 'Customer_01',\n",
       " 'Customer_02',\n",
       " 'Database Type',\n",
       " 'Data Source',\n",
       " 'Data Source Assumption Balance Sheet Manual Adjustment Input',\n",
       " 'Data Source Assumption Profit Loss Manual Adjustment Input',\n",
       " 'Data Source Balance Sheet',\n",
       " 'Data Source General Ledger',\n",
       " 'Data Source General Ledger Detail',\n",
       " 'Data Source Payments Data Report',\n",
       " 'Data Source Payments Data STG',\n",
       " 'Data Source Process Run Log',\n",
       " 'Data Source Profit Loss',\n",
       " 'Data Source Trial Balance',\n",
       " 'Data Source ZL AMZ Fee Input',\n",
       " 'Data Source ZL AMZ Fee STG',\n",
       " 'Data Source ZL Product Cost Plan',\n",
       " 'Data Source ZL Product Price Plan',\n",
       " 'Data Source ZL Product Sales Plan',\n",
       " 'Data Source ZL Sales Analysis',\n",
       " 'Data Source ZL Sales Market Basket Analysis',\n",
       " 'Data Source ZL Stock Simulation Analysis',\n",
       " 'Date',\n",
       " 'Detail Line Item',\n",
       " 'Employee',\n",
       " 'Fee Allocation Method',\n",
       " 'FinReport Checking Type',\n",
       " 'Line Item',\n",
       " 'Line Item Log',\n",
       " 'Location',\n",
       " 'M Amazon Payments Data Report',\n",
       " 'M Amazon Payments Data STG',\n",
       " 'M Assumption Balance Sheet Adjustment',\n",
       " 'M Assumption Balance Sheet Manual Adjustment Input',\n",
       " 'M Assumption COA Account GL Mapping',\n",
       " 'M Assumption Profit Loss Adjustment',\n",
       " 'M Assumption Profit Loss Manual Adjustment Input',\n",
       " 'M Balance Sheet',\n",
       " 'M Chore Execution Workflow',\n",
       " 'M Database Table Loading',\n",
       " 'Measure_Sales',\n",
       " 'M Exchange Rate',\n",
       " 'M FinReport Checking',\n",
       " 'M FinReport Checking Advance Config',\n",
       " 'M General Ledger',\n",
       " 'M General Ledger Detail',\n",
       " 'Month',\n",
       " 'Month Day',\n",
       " 'M Profit Loss',\n",
       " 'M Reference',\n",
       " 'm string len test',\n",
       " 'M Sys Definition AMZ AD Allocation Input',\n",
       " 'M Sys Definition Mapping Configuration',\n",
       " 'M Sys Definition Mapping Report Copy',\n",
       " 'M Sys Definition Mapping Report Type of OU',\n",
       " 'M Sys Definition Procut Info Mapping',\n",
       " 'M Sys Definition Product Cost STG',\n",
       " 'M Sys Definition Product MSKU LSKU Mapping',\n",
       " 'M Sys Definition ZL AMZ Fee Input',\n",
       " 'M Sys Definition ZL AMZ Fee STG',\n",
       " 'M Sys Definition ZL Product Info Input',\n",
       " 'M Sys Financial Approval Workflow Code Config',\n",
       " 'M Sys Financial Approval Workflow Employee Config',\n",
       " 'M Sys Financial Approval Workflow Input',\n",
       " 'M Sys Lookup ZL Mgt Item Mapping Input',\n",
       " 'M Sys Parameter',\n",
       " 'M Sys Rolling Data Copy',\n",
       " 'M Trial Balance',\n",
       " 'M Trial Balance Detail',\n",
       " 'M Workflow',\n",
       " 'M Yongyou GL Detail',\n",
       " 'M ZL Amazon Payments Data Report',\n",
       " 'M ZL Amazon Payments Data STG',\n",
       " 'M ZL Product Analysis',\n",
       " 'M ZL Product Analysis Config',\n",
       " 'M ZL Product Cost Plan',\n",
       " 'M ZL Product Price Plan',\n",
       " 'M ZL Product Sales Plan',\n",
       " 'M ZL Sale Plan Config',\n",
       " 'M ZL Sales Analysis',\n",
       " 'M ZL Sales Market Basket Analysis',\n",
       " 'M ZL Stock Simulation Analysis',\n",
       " 'M ZL Stock Strategy',\n",
       " 'M }Cube Rule Loop',\n",
       " 'M }Processes Loop',\n",
       " 'Order Year',\n",
       " 'Platform',\n",
       " 'Process Run ID',\n",
       " 'Product',\n",
       " 'Product Analysis Method',\n",
       " 'Product MSKU',\n",
       " 'Product Segement',\n",
       " 'Product Segement Basis',\n",
       " 'Product Status',\n",
       " 'Region',\n",
       " 'Region City',\n",
       " 'Region State',\n",
       " 'Report Type',\n",
       " 'Report Type Version',\n",
       " 'SA Month',\n",
       " 'SA Month Day',\n",
       " 'SA Year',\n",
       " 'Scenario',\n",
       " 'SQL Statement',\n",
       " 'Supplier',\n",
       " 'SYS_UserProperties',\n",
       " 'SYS_UserProperties_M',\n",
       " 'Sys Chore Execution Workflow Moudle',\n",
       " 'Sys Lookup Year Month Measure',\n",
       " 'Sys Parameter',\n",
       " 'Sys Workflow Category',\n",
       " 'Sys Workflow Code',\n",
       " 'Sys Workflow Module',\n",
       " 'TB Account Detail',\n",
       " 'Test',\n",
       " 'TM1 Logger',\n",
       " 'TM1 Log Level',\n",
       " 'TM1 Log Type',\n",
       " 'Version',\n",
       " 'Year',\n",
       " 'Year Fiscal',\n",
       " 'Year Month',\n",
       " 'Year Month Index',\n",
       " 'ZL Amazon Management Report Item',\n",
       " 'ZL AMZ Fee Item',\n",
       " '}Annotation_ApplicationID',\n",
       " '}AnnotationAppContextFacets',\n",
       " '}AnnotationMeasures',\n",
       " '}ApplicationEntries',\n",
       " '}APQ Time Day in Year',\n",
       " '}APQ Time Minute',\n",
       " '}APQ Time Second',\n",
       " '}APQ Time Year',\n",
       " '}APQ TM1 Log Recorder Measure',\n",
       " '}CAMAssociatedGroups',\n",
       " '}Chores',\n",
       " '}ClientProperties',\n",
       " '}Clients',\n",
       " '}ClientSettings',\n",
       " '}ConnectionProperties',\n",
       " '}Connections',\n",
       " '}CubeAttributes',\n",
       " '}CubeDrillString',\n",
       " '}Cube Functions',\n",
       " '}CubeProperties',\n",
       " '}Cubes',\n",
       " '}CubeSecurityProperties',\n",
       " '}Cultures',\n",
       " '}DimensionAttributes',\n",
       " '}DimensionFormatAttributes',\n",
       " '}DimensionFormatItems',\n",
       " '}DimensionProperties',\n",
       " '}Dimensions',\n",
       " '}ElementAttributes_Account',\n",
       " '}ElementAttributes_Account BS',\n",
       " '}ElementAttributes_Account GL',\n",
       " '}ElementAttributes_Account PL',\n",
       " '}ElementAttributes_Adjustment Type',\n",
       " '}ElementAttributes_Ant Cost Center',\n",
       " '}ElementAttributes_Behavior',\n",
       " '}ElementAttributes_Business Unit',\n",
       " '}ElementAttributes_Business Unit FPA',\n",
       " '}ElementAttributes_Channel',\n",
       " '}ElementAttributes_COA  Account GL',\n",
       " '}ElementAttributes_COA Company',\n",
       " '}ElementAttributes_COA Cost Center',\n",
       " '}ElementAttributes_COA Detail',\n",
       " '}ElementAttributes_COA InterCompany',\n",
       " '}ElementAttributes_COA Product',\n",
       " '}ElementAttributes_COA Project',\n",
       " '}ElementAttributes_COA Region',\n",
       " '}ElementAttributes_Company',\n",
       " '}ElementAttributes_Country',\n",
       " '}ElementAttributes_Currency',\n",
       " '}ElementAttributes_Currency From',\n",
       " '}ElementAttributes_Currency To',\n",
       " '}ElementAttributes_Customer',\n",
       " '}ElementAttributes_Customer_01',\n",
       " '}ElementAttributes_Customer_02',\n",
       " '}ElementAttributes_Database Type',\n",
       " '}ElementAttributes_Data Source',\n",
       " '}ElementAttributes_Data Source Assumption Balance Sheet Manual Adjustment Input',\n",
       " '}ElementAttributes_Data Source Assumption Profit Loss Manual Adjustment Input',\n",
       " '}ElementAttributes_Data Source Balance Sheet',\n",
       " '}ElementAttributes_Data Source General Ledger',\n",
       " '}ElementAttributes_Data Source General Ledger Detail',\n",
       " '}ElementAttributes_Data Source Payments Data Report',\n",
       " '}ElementAttributes_Data Source Payments Data STG',\n",
       " '}ElementAttributes_Data Source Process Run Log',\n",
       " '}ElementAttributes_Data Source Profit Loss',\n",
       " '}ElementAttributes_Data Source Trial Balance',\n",
       " '}ElementAttributes_Data Source ZL AMZ Fee Input',\n",
       " '}ElementAttributes_Data Source ZL AMZ Fee STG',\n",
       " '}ElementAttributes_Data Source ZL Product Cost Plan',\n",
       " '}ElementAttributes_Data Source ZL Product Price Plan',\n",
       " '}ElementAttributes_Data Source ZL Product Sales Plan',\n",
       " '}ElementAttributes_Data Source ZL Sales Analysis',\n",
       " '}ElementAttributes_Data Source ZL Sales Market Basket Analysis',\n",
       " '}ElementAttributes_Data Source ZL Stock Simulation Analysis',\n",
       " '}ElementAttributes_Date',\n",
       " '}ElementAttributes_Detail Line Item',\n",
       " '}ElementAttributes_Employee',\n",
       " '}ElementAttributes_Fee Allocation Method',\n",
       " '}ElementAttributes_FinReport Checking Type',\n",
       " '}ElementAttributes_Line Item',\n",
       " '}ElementAttributes_Line Item Log',\n",
       " '}ElementAttributes_Location',\n",
       " '}ElementAttributes_M Amazon Payments Data Report',\n",
       " '}ElementAttributes_M Amazon Payments Data STG',\n",
       " '}ElementAttributes_M Assumption Balance Sheet Adjustment',\n",
       " '}ElementAttributes_M Assumption Balance Sheet Manual Adjustment Input',\n",
       " '}ElementAttributes_M Assumption COA Account GL Mapping',\n",
       " '}ElementAttributes_M Assumption Profit Loss Adjustment',\n",
       " '}ElementAttributes_M Assumption Profit Loss Manual Adjustment Input',\n",
       " '}ElementAttributes_M Balance Sheet',\n",
       " '}ElementAttributes_M Chore Execution Workflow',\n",
       " '}ElementAttributes_M Database Table Loading',\n",
       " '}ElementAttributes_Measure_Sales',\n",
       " '}ElementAttributes_M Exchange Rate',\n",
       " '}ElementAttributes_M FinReport Checking',\n",
       " '}ElementAttributes_M FinReport Checking Advance Config',\n",
       " '}ElementAttributes_M General Ledger',\n",
       " '}ElementAttributes_M General Ledger Detail',\n",
       " '}ElementAttributes_Month',\n",
       " '}ElementAttributes_Month Day',\n",
       " '}ElementAttributes_M Profit Loss',\n",
       " '}ElementAttributes_M Reference',\n",
       " '}ElementAttributes_m string len test',\n",
       " '}ElementAttributes_M Sys Definition AMZ AD Allocation Input',\n",
       " '}ElementAttributes_M Sys Definition Mapping Configuration',\n",
       " '}ElementAttributes_M Sys Definition Mapping Report Copy',\n",
       " '}ElementAttributes_M Sys Definition Mapping Report Type of OU',\n",
       " '}ElementAttributes_M Sys Definition Procut Info Mapping',\n",
       " '}ElementAttributes_M Sys Definition Product Cost STG',\n",
       " '}ElementAttributes_M Sys Definition Product MSKU LSKU Mapping',\n",
       " '}ElementAttributes_M Sys Definition ZL AMZ Fee Input',\n",
       " '}ElementAttributes_M Sys Definition ZL AMZ Fee STG',\n",
       " '}ElementAttributes_M Sys Definition ZL Product Info Input',\n",
       " '}ElementAttributes_M Sys Financial Approval Workflow Code Config',\n",
       " '}ElementAttributes_M Sys Financial Approval Workflow Employee Config',\n",
       " '}ElementAttributes_M Sys Financial Approval Workflow Input',\n",
       " '}ElementAttributes_M Sys Lookup ZL Mgt Item Mapping Input',\n",
       " '}ElementAttributes_M Sys Parameter',\n",
       " '}ElementAttributes_M Sys Rolling Data Copy',\n",
       " '}ElementAttributes_M Trial Balance',\n",
       " '}ElementAttributes_M Trial Balance Detail',\n",
       " '}ElementAttributes_M Workflow',\n",
       " '}ElementAttributes_M Yongyou GL Detail',\n",
       " '}ElementAttributes_M ZL Amazon Payments Data Report',\n",
       " '}ElementAttributes_M ZL Amazon Payments Data STG',\n",
       " '}ElementAttributes_M ZL Product Analysis',\n",
       " '}ElementAttributes_M ZL Product Analysis Config',\n",
       " '}ElementAttributes_M ZL Product Cost Plan',\n",
       " '}ElementAttributes_M ZL Product Price Plan',\n",
       " '}ElementAttributes_M ZL Product Sales Plan',\n",
       " '}ElementAttributes_M ZL Sale Plan Config',\n",
       " '}ElementAttributes_M ZL Sales Analysis',\n",
       " '}ElementAttributes_M ZL Sales Market Basket Analysis',\n",
       " '}ElementAttributes_M ZL Stock Simulation Analysis',\n",
       " '}ElementAttributes_M ZL Stock Strategy',\n",
       " '}ElementAttributes_M }Cube Rule Loop',\n",
       " '}ElementAttributes_M }Processes Loop',\n",
       " '}ElementAttributes_Order Year',\n",
       " '}ElementAttributes_Platform',\n",
       " '}ElementAttributes_Process Run ID',\n",
       " '}ElementAttributes_Product',\n",
       " '}ElementAttributes_Product Analysis Method',\n",
       " '}ElementAttributes_Product MSKU',\n",
       " '}ElementAttributes_Product Segement',\n",
       " '}ElementAttributes_Product Segement Basis',\n",
       " '}ElementAttributes_Product Status',\n",
       " '}ElementAttributes_Region',\n",
       " '}ElementAttributes_Region City',\n",
       " '}ElementAttributes_Region State',\n",
       " '}ElementAttributes_Report Type',\n",
       " '}ElementAttributes_Report Type Version',\n",
       " '}ElementAttributes_SA Month',\n",
       " '}ElementAttributes_SA Month Day',\n",
       " '}ElementAttributes_SA Year',\n",
       " '}ElementAttributes_Scenario',\n",
       " '}ElementAttributes_Supplier',\n",
       " '}ElementAttributes_SYS_UserProperties',\n",
       " '}ElementAttributes_SYS_UserProperties_M',\n",
       " '}ElementAttributes_Sys Chore Execution Workflow Moudle',\n",
       " '}ElementAttributes_Sys Lookup Year Month Measure',\n",
       " '}ElementAttributes_Sys Parameter',\n",
       " '}ElementAttributes_Sys Workflow Category',\n",
       " '}ElementAttributes_Sys Workflow Code',\n",
       " '}ElementAttributes_Sys Workflow Module',\n",
       " '}ElementAttributes_TB Account Detail',\n",
       " '}ElementAttributes_Test',\n",
       " '}ElementAttributes_TM1 Logger',\n",
       " '}ElementAttributes_TM1 Log Level',\n",
       " '}ElementAttributes_TM1 Log Type',\n",
       " '}ElementAttributes_Version',\n",
       " '}ElementAttributes_Year',\n",
       " '}ElementAttributes_Year Fiscal',\n",
       " '}ElementAttributes_Year Month',\n",
       " '}ElementAttributes_Year Month Index',\n",
       " '}ElementAttributes_ZL Amazon Management Report Item',\n",
       " '}ElementAttributes_ZL AMZ Fee Item',\n",
       " '}ElementAttributes_}APQ Time Day in Year',\n",
       " '}ElementAttributes_}APQ Time Minute',\n",
       " '}ElementAttributes_}APQ Time Second',\n",
       " '}ElementAttributes_}APQ Time Year',\n",
       " '}ElementAttributes_}ClientProperties',\n",
       " '}ElementAttributes_}Clients',\n",
       " '}ElementAttributes_}Cubes',\n",
       " '}ElementAttributes_}Cultures',\n",
       " '}ElementAttributes_}Groups',\n",
       " '}ElementAttributes_}StatsStatsByCube',\n",
       " '}ElementAttributes_}TECH_Subset',\n",
       " '}ElementAttributes_}TECH_User',\n",
       " '}ElementAttributes_}TECH_View',\n",
       " '}ElementAttributes_}TECH_ViewsAndSubsets_Measures',\n",
       " '}ElementAttributes_}tp_applications',\n",
       " '}ElementAttributes_}tp_config',\n",
       " '}ElementAttributes_}tp_process_errors_localization',\n",
       " '}ElementAttributes_}tp_system_config',\n",
       " '}ElementProperties',\n",
       " '}Features',\n",
       " '}Groups',\n",
       " '}Hierarchies',\n",
       " '}Hierarchies_Account',\n",
       " '}Hierarchies_Account BS',\n",
       " '}Hierarchies_Account GL',\n",
       " '}Hierarchies_Account PL',\n",
       " '}Hierarchies_Adjustment Type',\n",
       " '}Hierarchies_Ant Cost Center',\n",
       " '}Hierarchies_Behavior',\n",
       " '}Hierarchies_Business Unit',\n",
       " '}Hierarchies_Business Unit FPA',\n",
       " '}Hierarchies_Channel',\n",
       " '}Hierarchies_COA  Account GL',\n",
       " '}Hierarchies_COA Budget Center',\n",
       " '}Hierarchies_COA Company',\n",
       " '}Hierarchies_COA Cost Center',\n",
       " '}Hierarchies_COA Detail',\n",
       " '}Hierarchies_COA Industry',\n",
       " '}Hierarchies_COA InterCompany',\n",
       " '}Hierarchies_COA Product',\n",
       " '}Hierarchies_COA Project',\n",
       " '}Hierarchies_COA Region',\n",
       " '}Hierarchies_COA Spare1',\n",
       " '}Hierarchies_COA Spare2',\n",
       " '}Hierarchies_Company',\n",
       " '}Hierarchies_Country',\n",
       " '}Hierarchies_Currency',\n",
       " '}Hierarchies_Currency From',\n",
       " '}Hierarchies_Currency To',\n",
       " '}Hierarchies_Customer',\n",
       " '}Hierarchies_Customer_01',\n",
       " '}Hierarchies_Customer_02',\n",
       " '}Hierarchies_Database Type',\n",
       " '}Hierarchies_Data Source',\n",
       " '}Hierarchies_Data Source Assumption Balance Sheet Manual Adjustment Input',\n",
       " '}Hierarchies_Data Source Assumption Profit Loss Manual Adjustment Input',\n",
       " '}Hierarchies_Data Source Balance Sheet',\n",
       " '}Hierarchies_Data Source General Ledger',\n",
       " '}Hierarchies_Data Source General Ledger Detail',\n",
       " '}Hierarchies_Data Source Payments Data Report',\n",
       " '}Hierarchies_Data Source Payments Data STG',\n",
       " '}Hierarchies_Data Source Process Run Log',\n",
       " '}Hierarchies_Data Source Profit Loss',\n",
       " '}Hierarchies_Data Source Trial Balance',\n",
       " '}Hierarchies_Data Source ZL AMZ Fee Input',\n",
       " '}Hierarchies_Data Source ZL AMZ Fee STG',\n",
       " '}Hierarchies_Data Source ZL Product Cost Plan',\n",
       " '}Hierarchies_Data Source ZL Product Price Plan',\n",
       " '}Hierarchies_Data Source ZL Product Sales Plan',\n",
       " '}Hierarchies_Data Source ZL Sales Analysis',\n",
       " '}Hierarchies_Data Source ZL Sales Market Basket Analysis',\n",
       " '}Hierarchies_Data Source ZL Stock Simulation Analysis',\n",
       " '}Hierarchies_Date',\n",
       " '}Hierarchies_Detail Line Item',\n",
       " '}Hierarchies_Employee',\n",
       " '}Hierarchies_Fee Allocation Method',\n",
       " '}Hierarchies_FinReport Checking Type',\n",
       " '}Hierarchies_Line Item',\n",
       " '}Hierarchies_Line Item Log',\n",
       " '}Hierarchies_Location',\n",
       " '}Hierarchies_M Amazon Payments Data Report',\n",
       " '}Hierarchies_M Amazon Payments Data STG',\n",
       " '}Hierarchies_M Assumption Balance Sheet Adjustment',\n",
       " '}Hierarchies_M Assumption Balance Sheet Manual Adjustment Input',\n",
       " '}Hierarchies_M Assumption COA Account GL Mapping',\n",
       " '}Hierarchies_M Assumption Profit Loss Adjustment',\n",
       " '}Hierarchies_M Assumption Profit Loss Manual Adjustment Input',\n",
       " '}Hierarchies_M Balance Sheet',\n",
       " '}Hierarchies_M Chore Execution Workflow',\n",
       " '}Hierarchies_M Database Table Loading',\n",
       " '}Hierarchies_Measure_Sales',\n",
       " '}Hierarchies_M Exchange Rate',\n",
       " '}Hierarchies_M FinReport Checking',\n",
       " '}Hierarchies_M FinReport Checking Advance Config',\n",
       " '}Hierarchies_M General Ledger',\n",
       " '}Hierarchies_M General Ledger Detail',\n",
       " '}Hierarchies_Month',\n",
       " '}Hierarchies_Month Day',\n",
       " '}Hierarchies_M Profit Loss',\n",
       " '}Hierarchies_M Reference',\n",
       " '}Hierarchies_m string len test',\n",
       " '}Hierarchies_M Sys Definition AMZ AD Allocation Input',\n",
       " '}Hierarchies_M Sys Definition Mapping Configuration',\n",
       " '}Hierarchies_M Sys Definition Mapping Report Copy',\n",
       " '}Hierarchies_M Sys Definition Mapping Report Type of OU',\n",
       " '}Hierarchies_M Sys Definition Procut Info Mapping',\n",
       " '}Hierarchies_M Sys Definition Product Cost STG',\n",
       " '}Hierarchies_M Sys Definition Product MSKU LSKU Mapping',\n",
       " '}Hierarchies_M Sys Definition ZL AMZ Fee Input',\n",
       " '}Hierarchies_M Sys Definition ZL AMZ Fee STG',\n",
       " '}Hierarchies_M Sys Definition ZL Product Info Input',\n",
       " '}Hierarchies_M Sys Financial Approval Workflow Code Config',\n",
       " '}Hierarchies_M Sys Financial Approval Workflow Employee Config',\n",
       " '}Hierarchies_M Sys Financial Approval Workflow Input',\n",
       " '}Hierarchies_M Sys Lookup ZL Mgt Item Mapping Input',\n",
       " '}Hierarchies_M Sys Parameter',\n",
       " '}Hierarchies_M Sys Rolling Data Copy',\n",
       " '}Hierarchies_M Trial Balance',\n",
       " '}Hierarchies_M Trial Balance Detail',\n",
       " '}Hierarchies_M Workflow',\n",
       " '}Hierarchies_M Yongyou GL Detail',\n",
       " '}Hierarchies_M ZL Amazon Payments Data Report',\n",
       " '}Hierarchies_M ZL Amazon Payments Data STG',\n",
       " '}Hierarchies_M ZL Product Analysis',\n",
       " '}Hierarchies_M ZL Product Analysis Config',\n",
       " '}Hierarchies_M ZL Product Cost Plan',\n",
       " '}Hierarchies_M ZL Product Price Plan',\n",
       " '}Hierarchies_M ZL Product Sales Plan',\n",
       " '}Hierarchies_M ZL Sale Plan Config',\n",
       " '}Hierarchies_M ZL Sales Analysis',\n",
       " '}Hierarchies_M ZL Sales Market Basket Analysis',\n",
       " '}Hierarchies_M ZL Stock Simulation Analysis',\n",
       " '}Hierarchies_M ZL Stock Strategy',\n",
       " '}Hierarchies_M }Cube Rule Loop',\n",
       " '}Hierarchies_M }Processes Loop',\n",
       " '}Hierarchies_Order Year',\n",
       " '}Hierarchies_Platform',\n",
       " '}Hierarchies_Process Run ID',\n",
       " '}Hierarchies_Product',\n",
       " '}Hierarchies_Product Analysis Method',\n",
       " '}Hierarchies_Product MSKU',\n",
       " '}Hierarchies_Product Segement',\n",
       " '}Hierarchies_Product Segement Basis',\n",
       " '}Hierarchies_Product Status',\n",
       " '}Hierarchies_Region',\n",
       " '}Hierarchies_Region City',\n",
       " '}Hierarchies_Region State',\n",
       " '}Hierarchies_Report Type',\n",
       " '}Hierarchies_Report Type Version',\n",
       " '}Hierarchies_SA Month',\n",
       " '}Hierarchies_SA Month Day',\n",
       " '}Hierarchies_Sandboxes',\n",
       " '}Hierarchies_SA Year',\n",
       " '}Hierarchies_Scenario',\n",
       " '}Hierarchies_SQL Statement',\n",
       " '}Hierarchies_Supplier',\n",
       " '}Hierarchies_SYS_UserProperties',\n",
       " '}Hierarchies_SYS_UserProperties_M',\n",
       " '}Hierarchies_Sys Chore Execution Workflow Moudle',\n",
       " '}Hierarchies_Sys Lookup Year Month Measure',\n",
       " '}Hierarchies_Sys Parameter',\n",
       " '}Hierarchies_Sys Workflow Category',\n",
       " '}Hierarchies_Sys Workflow Code',\n",
       " '}Hierarchies_Sys Workflow Module',\n",
       " '}Hierarchies_TB Account Detail',\n",
       " '}Hierarchies_Test',\n",
       " '}Hierarchies_TM1 Logger',\n",
       " '}Hierarchies_TM1 Log Level',\n",
       " '}Hierarchies_TM1 Log Type',\n",
       " '}Hierarchies_Version',\n",
       " '}Hierarchies_Year',\n",
       " '}Hierarchies_Year Fiscal',\n",
       " '}Hierarchies_Year Month',\n",
       " '}Hierarchies_Year Month Index',\n",
       " '}Hierarchies_ZL Amazon Management Report Item',\n",
       " '}Hierarchies_ZL AMZ Fee Item',\n",
       " '}HierarchyProperties',\n",
       " '}Hold',\n",
       " '}LineNumber',\n",
       " '}PerfClients',\n",
       " '}PerfCubes',\n",
       " '}Permissions',\n",
       " '}PickList',\n",
       " '}Processes',\n",
       " '}Process Execution Error Log Measure',\n",
       " '}Process Run Error Log ID',\n",
       " '}Process Run Log Measure',\n",
       " '}RuleStats',\n",
       " '}SecurityOverlay',\n",
       " '}StatsByProcess',\n",
       " '}StatsStatsByClient',\n",
       " '}StatsStatsByCube',\n",
       " '}StatsStatsByCubeByClient',\n",
       " '}StatsStatsForServer',\n",
       " '}Subsets_Account',\n",
       " '}Subsets_Account BS',\n",
       " '}Subsets_Account GL',\n",
       " '}Subsets_Account PL',\n",
       " '}Subsets_Adjustment Type',\n",
       " '}Subsets_Ant Cost Center',\n",
       " '}Subsets_Behavior',\n",
       " '}Subsets_Business Unit',\n",
       " '}Subsets_Business Unit FPA',\n",
       " '}Subsets_Channel',\n",
       " '}Subsets_COA  Account GL',\n",
       " '}Subsets_COA Budget Center',\n",
       " '}Subsets_COA Company',\n",
       " '}Subsets_COA Cost Center',\n",
       " '}Subsets_COA Detail',\n",
       " '}Subsets_COA Industry',\n",
       " '}Subsets_COA InterCompany',\n",
       " '}Subsets_COA Product',\n",
       " '}Subsets_COA Project',\n",
       " '}Subsets_COA Region',\n",
       " '}Subsets_COA Spare1',\n",
       " '}Subsets_COA Spare2',\n",
       " '}Subsets_Company',\n",
       " '}Subsets_Country',\n",
       " '}Subsets_Currency',\n",
       " '}Subsets_Currency From',\n",
       " '}Subsets_Currency To',\n",
       " '}Subsets_Customer',\n",
       " '}Subsets_Database Type',\n",
       " '}Subsets_Data Source',\n",
       " '}Subsets_Data Source Assumption Balance Sheet Manual Adjustment Input',\n",
       " '}Subsets_Data Source Assumption Profit Loss Manual Adjustment Input',\n",
       " '}Subsets_Data Source Balance Sheet',\n",
       " '}Subsets_Data Source General Ledger',\n",
       " '}Subsets_Data Source General Ledger Detail',\n",
       " '}Subsets_Data Source Payments Data Report',\n",
       " '}Subsets_Data Source Payments Data STG',\n",
       " '}Subsets_Data Source Process Run Log',\n",
       " '}Subsets_Data Source Profit Loss',\n",
       " '}Subsets_Data Source Trial Balance',\n",
       " '}Subsets_Data Source ZL AMZ Fee Input',\n",
       " '}Subsets_Data Source ZL AMZ Fee STG',\n",
       " '}Subsets_Data Source ZL Product Cost Plan',\n",
       " '}Subsets_Data Source ZL Product Price Plan',\n",
       " '}Subsets_Data Source ZL Product Sales Plan',\n",
       " '}Subsets_Data Source ZL Sales Analysis',\n",
       " '}Subsets_Data Source ZL Sales Market Basket Analysis',\n",
       " '}Subsets_Data Source ZL Stock Simulation Analysis',\n",
       " '}Subsets_Date',\n",
       " '}Subsets_Detail Line Item',\n",
       " '}Subsets_Employee',\n",
       " '}Subsets_Fee Allocation Method',\n",
       " '}Subsets_FinReport Checking Type',\n",
       " '}Subsets_Line Item',\n",
       " '}Subsets_Line Item Log',\n",
       " '}Subsets_Location',\n",
       " '}Subsets_M Amazon Payments Data Report',\n",
       " '}Subsets_M Amazon Payments Data STG',\n",
       " '}Subsets_M Assumption Balance Sheet Adjustment',\n",
       " '}Subsets_M Assumption Balance Sheet Manual Adjustment Input',\n",
       " '}Subsets_M Assumption COA Account GL Mapping',\n",
       " '}Subsets_M Assumption Profit Loss Adjustment',\n",
       " '}Subsets_M Assumption Profit Loss Manual Adjustment Input',\n",
       " '}Subsets_M Balance Sheet',\n",
       " '}Subsets_M Chore Execution Workflow',\n",
       " '}Subsets_M Database Table Loading',\n",
       " '}Subsets_Measure_Sales',\n",
       " '}Subsets_M Exchange Rate',\n",
       " '}Subsets_M FinReport Checking',\n",
       " '}Subsets_M FinReport Checking Advance Config',\n",
       " '}Subsets_M General Ledger',\n",
       " '}Subsets_M General Ledger Detail',\n",
       " '}Subsets_Month',\n",
       " '}Subsets_Month Day',\n",
       " '}Subsets_M Profit Loss',\n",
       " '}Subsets_M Reference',\n",
       " '}Subsets_m string len test',\n",
       " '}Subsets_M Sys Definition AMZ AD Allocation Input',\n",
       " '}Subsets_M Sys Definition Mapping Configuration',\n",
       " '}Subsets_M Sys Definition Mapping Report Copy',\n",
       " '}Subsets_M Sys Definition Mapping Report Type of OU',\n",
       " '}Subsets_M Sys Definition Procut Info Mapping',\n",
       " '}Subsets_M Sys Definition Product Cost STG',\n",
       " '}Subsets_M Sys Definition Product MSKU LSKU Mapping',\n",
       " '}Subsets_M Sys Definition ZL AMZ Fee Input',\n",
       " '}Subsets_M Sys Definition ZL AMZ Fee STG',\n",
       " '}Subsets_M Sys Financial Approval Workflow Code Config',\n",
       " '}Subsets_M Sys Financial Approval Workflow Employee Config',\n",
       " '}Subsets_M Sys Financial Approval Workflow Input',\n",
       " '}Subsets_M Sys Lookup ZL Mgt Item Mapping Input',\n",
       " '}Subsets_M Sys Parameter',\n",
       " '}Subsets_M Sys Rolling Data Copy',\n",
       " '}Subsets_M Trial Balance',\n",
       " '}Subsets_M Trial Balance Detail',\n",
       " '}Subsets_M Workflow',\n",
       " '}Subsets_M Yongyou GL Detail',\n",
       " '}Subsets_M ZL Amazon Payments Data Report',\n",
       " '}Subsets_M ZL Amazon Payments Data STG',\n",
       " '}Subsets_M ZL Product Analysis',\n",
       " '}Subsets_M ZL Product Analysis Config',\n",
       " '}Subsets_M ZL Product Cost Plan',\n",
       " '}Subsets_M ZL Product Price Plan',\n",
       " '}Subsets_M ZL Product Sales Plan',\n",
       " '}Subsets_M ZL Sale Plan Config',\n",
       " '}Subsets_M ZL Sales Analysis',\n",
       " '}Subsets_M ZL Sales Market Basket Analysis',\n",
       " '}Subsets_M ZL Stock Simulation Analysis',\n",
       " '}Subsets_M ZL Stock Strategy',\n",
       " '}Subsets_M }Cube Rule Loop',\n",
       " '}Subsets_M }Processes Loop',\n",
       " '}Subsets_Order Year',\n",
       " '}Subsets_Platform',\n",
       " '}Subsets_Process Run ID',\n",
       " '}Subsets_Product',\n",
       " '}Subsets_Product Analysis Method',\n",
       " '}Subsets_Product MSKU',\n",
       " '}Subsets_Product Segement',\n",
       " '}Subsets_Product Segement Basis',\n",
       " '}Subsets_Product Status',\n",
       " '}Subsets_Region',\n",
       " '}Subsets_Region City',\n",
       " '}Subsets_Region State',\n",
       " '}Subsets_Report Type',\n",
       " '}Subsets_Report Type Version',\n",
       " '}Subsets_SA Month',\n",
       " '}Subsets_SA Month Day',\n",
       " '}Subsets_SA Year',\n",
       " '}Subsets_Scenario',\n",
       " '}Subsets_SQL Statement',\n",
       " '}Subsets_Supplier',\n",
       " '}Subsets_SYS_UserProperties',\n",
       " '}Subsets_SYS_UserProperties_M',\n",
       " '}Subsets_Sys Chore Execution Workflow Moudle',\n",
       " '}Subsets_Sys Lookup Year Month Measure',\n",
       " '}Subsets_Sys Parameter',\n",
       " '}Subsets_Sys Workflow Category',\n",
       " '}Subsets_Sys Workflow Code',\n",
       " '}Subsets_Sys Workflow Module',\n",
       " '}Subsets_TB Account Detail',\n",
       " '}Subsets_Test',\n",
       " '}Subsets_TM1 Logger',\n",
       " '}Subsets_TM1 Log Level',\n",
       " '}Subsets_TM1 Log Type',\n",
       " '}Subsets_Version',\n",
       " '}Subsets_Year',\n",
       " '}Subsets_Year Fiscal',\n",
       " '}Subsets_Year Month',\n",
       " '}Subsets_Year Month Index',\n",
       " '}Subsets_ZL Amazon Management Report Item',\n",
       " '}Subsets_ZL AMZ Fee Item',\n",
       " '}Subsets_}ApplicationEntries',\n",
       " '}Subsets_}APQ Time Day in Year',\n",
       " '}Subsets_}APQ Time Minute',\n",
       " '}Subsets_}APQ Time Second',\n",
       " '}Subsets_}APQ Time Year',\n",
       " '}Subsets_}APQ TM1 Log Recorder Measure',\n",
       " '}Subsets_}CAMAssociatedGroups',\n",
       " '}Subsets_}Chores',\n",
       " '}Subsets_}ClientProperties',\n",
       " '}Subsets_}Clients',\n",
       " '}Subsets_}ClientSettings',\n",
       " '}Subsets_}ConnectionProperties',\n",
       " '}Subsets_}Connections',\n",
       " '}Subsets_}CubeAttributes',\n",
       " '}Subsets_}CubeDrillString',\n",
       " '}Subsets_}Cube Functions',\n",
       " '}Subsets_}CubeProperties',\n",
       " '}Subsets_}Cubes',\n",
       " '}Subsets_}CubeSecurityProperties',\n",
       " '}Subsets_}Cultures',\n",
       " '}Subsets_}DimensionAttributes',\n",
       " '}Subsets_}DimensionFormatAttributes',\n",
       " '}Subsets_}DimensionFormatItems',\n",
       " '}Subsets_}DimensionProperties',\n",
       " '}Subsets_}Dimensions',\n",
       " '}Subsets_}ElementAttributes_Account',\n",
       " '}Subsets_}ElementAttributes_Location',\n",
       " '}Subsets_}ElementAttributes_Measure_Sales',\n",
       " '}Subsets_}ElementAttributes_Month',\n",
       " '}Subsets_}ElementAttributes_Year',\n",
       " '}Subsets_}ElementAttributes_ZL Amazon Management Report Item',\n",
       " '}Subsets_}ElementAttributes_}APQ Time Day in Year',\n",
       " '}Subsets_}ElementAttributes_}APQ Time Minute',\n",
       " '}Subsets_}ElementAttributes_}APQ Time Second',\n",
       " '}Subsets_}ElementAttributes_}APQ Time Year',\n",
       " '}Subsets_}ElementAttributes_}Clients',\n",
       " '}Subsets_}ElementAttributes_}Cubes',\n",
       " '}Subsets_}ElementAttributes_}Groups',\n",
       " '}Subsets_}ElementProperties',\n",
       " '}Subsets_}Features',\n",
       " '}Subsets_}Groups',\n",
       " '}Subsets_}Hierarchies',\n",
       " '}Subsets_}HierarchyProperties',\n",
       " '}Subsets_}Hold',\n",
       " '}Subsets_}LineNumber',\n",
       " '}Subsets_}PerfClients',\n",
       " '}Subsets_}PerfCubes',\n",
       " '}Subsets_}Permissions',\n",
       " '}Subsets_}PickList',\n",
       " '}Subsets_}Processes',\n",
       " '}Subsets_}Process Execution Error Log Measure',\n",
       " '}Subsets_}Process Run Error Log ID',\n",
       " '}Subsets_}Process Run Log Measure',\n",
       " '}Subsets_}RuleStats',\n",
       " '}Subsets_}SecurityOverlay',\n",
       " '}Subsets_}StatsByProcess',\n",
       " '}Subsets_}StatsStatsByClient',\n",
       " '}Subsets_}StatsStatsByCube',\n",
       " '}Subsets_}StatsStatsByCubeByClient',\n",
       " '}Subsets_}StatsStatsForServer',\n",
       " '}Subsets_}TECH_Subset',\n",
       " '}Subsets_}TECH_User',\n",
       " '}Subsets_}TECH_View',\n",
       " '}Subsets_}TECH_ViewsAndSubsets_Measures',\n",
       " '}Subsets_}TECH_ViewsAndSubsets_Order',\n",
       " '}Subsets_}TimeIntervals',\n",
       " '}Subsets_}tp_applications',\n",
       " '}Subsets_}tp_permissions',\n",
       " '}Subsets_}tp_root_permissions',\n",
       " '}TECH_Subset',\n",
       " '}TECH_User',\n",
       " '}TECH_View',\n",
       " '}TECH_ViewsAndSubsets_Measures',\n",
       " '}TECH_ViewsAndSubsets_Order',\n",
       " '}TimeIntervals',\n",
       " '}tp_app_user_preference',\n",
       " '}tp_applications',\n",
       " '}tp_config',\n",
       " '}tp_intermediate_security_applications',\n",
       " '}tp_intermediate_security_measures',\n",
       " '}tp_job_info',\n",
       " '}tp_jobs',\n",
       " '}tp_node_info',\n",
       " '}tp_permissions',\n",
       " '}tp_process_error_measures',\n",
       " '}tp_process_errors_localization',\n",
       " '}tp_process_guids',\n",
       " '}tp_root_permissions',\n",
       " '}tp_system_config',\n",
       " '}tp_task_navigations',\n",
       " '}tp_workflow_action_TI_measures',\n",
       " '}tp_workflow_actions',\n",
       " '}Views_APQ TM1 Log Recorder',\n",
       " '}Views_ClientGroups',\n",
       " '}Views_Database Table Loading',\n",
       " '}Views_Exchange Rate',\n",
       " '}Views_Exchange Rate Daily',\n",
       " '}Views_Exchange Rate Input',\n",
       " '}Views_Rollup',\n",
       " '}Views_Sales',\n",
       " '}Views_Sales - Overfeeding',\n",
       " '}Views_SYS_UserProperties',\n",
       " '}Views_Sys Definition Chore Execution Workflow',\n",
       " '}Views_Sys Definition Product Cost STG',\n",
       " '}Views_Sys Definition Product Info Mapping Input',\n",
       " '}Views_Sys Definition Product MSKU LSKU Mapping',\n",
       " '}Views_Sys Definition ZL AMZ Fee Input',\n",
       " '}Views_Sys Definition ZL AMZ Fee STG',\n",
       " '}Views_Sys Definition ZL Mgt Item Mapping Input',\n",
       " '}Views_Sys Definition ZL Product Info',\n",
       " '}Views_Sys Definition ZL Product Info Input',\n",
       " '}Views_Sys Financial Approval Workflow Code Config',\n",
       " '}Views_Sys Financial Approval Workflow Employee Config',\n",
       " '}Views_Sys Financial Approval Workflow Input',\n",
       " '}Views_Sys Financial Approval Workflow Process Config',\n",
       " '}Views_Sys Lookup Year Month',\n",
       " '}Views_Sys Parameter',\n",
       " '}Views_Sys Rolling Data Copy',\n",
       " '}Views_TM1 Function Test',\n",
       " '}Views_ZL Amazon Payments Data Report',\n",
       " '}Views_ZL Amazon Payments Data STG',\n",
       " '}Views_ZL Product Analysis',\n",
       " '}Views_ZL Product Analysis Config',\n",
       " '}Views_ZL Product Cost Plan',\n",
       " '}Views_ZL Product Price Plan',\n",
       " '}Views_ZL Product Sales Plan',\n",
       " '}Views_ZL Sale Plan Config',\n",
       " '}Views_ZL Sales Analysis',\n",
       " '}Views_ZL Sales Market Basket Analysis',\n",
       " '}Views_ZL Stock Simulation Analysis',\n",
       " '}Views_ZL Stock Strategy',\n",
       " '}Views_}AccessClientGroup_Elements_Country',\n",
       " '}Views_}ApplicationSecurity',\n",
       " '}Views_}Capabilities',\n",
       " '}Views_}CellSecurity_Sales',\n",
       " '}Views_}CellSecurity_Sys Financial Approval Workflow Input',\n",
       " '}Views_}CellSecurity_Sys Parameter',\n",
       " '}Views_}ClientGroups',\n",
       " '}Views_}ClientProperties',\n",
       " '}Views_}ClientSettings',\n",
       " '}Views_}CubeAttributes',\n",
       " '}Views_}CubeDrill_ZL Amazon Payments Data STG',\n",
       " '}Views_}CubeDrill_ZL Sales Analysis',\n",
       " '}Views_}CubeProperties',\n",
       " '}Views_}Cube Rule Loop',\n",
       " '}Views_}CubeSecurity',\n",
       " '}Views_}DimensionSecurity',\n",
       " '}Views_}ElementAttributes_Product',\n",
       " '}Views_}ElementAttributes_}Clients',\n",
       " '}Views_}ElementAttributes_}Cubes',\n",
       " '}Views_}ElementSecurity_COA Company',\n",
       " '}Views_}ElementSecurity_Country',\n",
       " '}Views_}HierarchyProperties',\n",
       " '}Views_}LocalizedCubeAttributes',\n",
       " '}Views_}LocalizedElementAttributes_SA Month',\n",
       " '}Views_}PickList_Sys Definition ZL AMZ Fee Input',\n",
       " '}Views_}PickList_Sys Parameter',\n",
       " '}Views_}PickList_Sys Rolling Data Copy',\n",
       " '}Views_}PickList_}ChoreSecurity',\n",
       " '}Views_}PickList_}ClientGroups',\n",
       " '}Views_}PickList_}CubeSecurity',\n",
       " '}Views_}PickList_}DimensionSecurity',\n",
       " '}Views_}PickList_}ProcessSecurity',\n",
       " '}Views_}Processes Loop',\n",
       " '}Views_}Process Execution Error Log',\n",
       " '}Views_}Process Run Log',\n",
       " '}Views_}ProcessSecurity',\n",
       " '}Views_}StatsByClient',\n",
       " '}Views_}StatsByCube',\n",
       " '}Views_}StatsByCubeByClient',\n",
       " '}Views_}StatsByRule',\n",
       " '}Views_}StatsForServer',\n",
       " '}Views_}TECH_ViewsAndSubsets']"
      ]
     },
     "execution_count": 153,
     "metadata": {},
     "output_type": "execute_result"
    }
   ],
   "source": [
    "TM1.dimensions.get_all_names()"
   ]
  },
  {
   "cell_type": "markdown",
   "id": "b21bae98",
   "metadata": {},
   "source": [
    "### 返回维度的所有叶子节点元素（N level）"
   ]
  },
  {
   "cell_type": "code",
   "execution_count": 154,
   "id": "0a7d310c",
   "metadata": {},
   "outputs": [
    {
     "data": {
      "text/plain": [
       "['test01', 'test02']"
      ]
     },
     "execution_count": 154,
     "metadata": {},
     "output_type": "execute_result"
    }
   ],
   "source": [
    "TM1.elements.get_leaf_element_names(\"Test\", \"Test\")"
   ]
  },
  {
   "cell_type": "markdown",
   "id": "bb2bc5ef",
   "metadata": {},
   "source": [
    "### 删除维度"
   ]
  },
  {
   "cell_type": "code",
   "execution_count": null,
   "id": "8bdeb956",
   "metadata": {},
   "outputs": [],
   "source": [
    "TM1.dimensions.delete('Test')"
   ]
  },
  {
   "cell_type": "markdown",
   "id": "fc8f4465",
   "metadata": {},
   "source": [
    "## 数据集Cube相关"
   ]
  },
  {
   "cell_type": "markdown",
   "id": "c3a71360",
   "metadata": {},
   "source": [
    "### 创建Cube"
   ]
  },
  {
   "cell_type": "code",
   "execution_count": 155,
   "id": "7a5a8a7e",
   "metadata": {},
   "outputs": [],
   "source": [
    "from TM1py.Objects import Cube"
   ]
  },
  {
   "cell_type": "code",
   "execution_count": 156,
   "id": "83316594",
   "metadata": {},
   "outputs": [],
   "source": [
    "cube_test = Cube(name='Cube Test',dimensions=['Year','Month','M Profit Loss'])"
   ]
  },
  {
   "cell_type": "code",
   "execution_count": 157,
   "id": "d7da2909",
   "metadata": {},
   "outputs": [
    {
     "data": {
      "text/plain": [
       "<Response [201]>"
      ]
     },
     "execution_count": 157,
     "metadata": {},
     "output_type": "execute_result"
    }
   ],
   "source": [
    "TM1.cubes.create(cube_test)"
   ]
  },
  {
   "cell_type": "markdown",
   "id": "d191abb3",
   "metadata": {},
   "source": [
    "### 获取cube对象"
   ]
  },
  {
   "cell_type": "code",
   "execution_count": 158,
   "id": "a3f6110a",
   "metadata": {},
   "outputs": [],
   "source": [
    "cubes = TM1.cubes.get_all()"
   ]
  },
  {
   "cell_type": "code",
   "execution_count": 159,
   "id": "72ffed50",
   "metadata": {},
   "outputs": [
    {
     "data": {
      "text/plain": [
       "[Cube:{\"Name\": \"APQ TM1 Log Recorder\", \"Dimensions@odata.bind\": [\"Dimensions('}APQ Time Year')\", \"Dimensions('}APQ Time Day in Year')\", \"Dimensions('}APQ Time Minute')\", \"Dimensions('}APQ Time Second')\", \"Dimensions('TM1 Logger')\", \"Dimensions('TM1 Log Level')\", \"Dimensions('Line Item Log')\", \"Dimensions('TM1 Log Type')\", \"Dimensions('}APQ TM1 Log Recorder Measure')\"], \"Rules\": \"Feedstrings;\\nSkipcheck;\\n\\n\\n\\nFeeders;\"},\n",
       " Cube:{\"Name\": \"ClientGroups\", \"Dimensions@odata.bind\": [\"Dimensions('}Clients')\", \"Dimensions('}Groups')\"], \"Rules\": \"Skipcheck;\\nFeedstrings;\\n\\n\\n\\n\\nFeeders;\"},\n",
       " Cube:{\"Name\": \"Cube Test\", \"Dimensions@odata.bind\": [\"Dimensions('Year')\", \"Dimensions('Month')\", \"Dimensions('M Profit Loss')\"]},\n",
       " Cube:{\"Name\": \"Database Table Loading\", \"Dimensions@odata.bind\": [\"Dimensions('Scenario')\", \"Dimensions('SA Year')\", \"Dimensions('SA Month')\", \"Dimensions('Version')\", \"Dimensions('Database Type')\", \"Dimensions('Line Item')\", \"Dimensions('M Database Table Loading')\"]},\n",
       " Cube:{\"Name\": \"Exchange Rate\", \"Dimensions@odata.bind\": [\"Dimensions('Scenario')\", \"Dimensions('SA Year')\", \"Dimensions('SA Month')\", \"Dimensions('Version')\", \"Dimensions('Currency From')\", \"Dimensions('Currency To')\", \"Dimensions('M Exchange Rate')\"], \"Rules\": \"Feedstrings;\\nSkipcheck;\\n#['ACT','WIP',{'BOM Rate','EOM Rate','Average Rate'}] = N:if( DimIx('Currency From', !Currency From) = DimIx('Currency To', !Currency To) , 1,Continue);\\n#['ACT','WIP',{'BOM Rate','EOM Rate','Average Rate'}] = N:if( !Currency From @= !Currency To, 1,Continue);\\n#\\n#['ACT','WIP',{'BOM Rate','EOM Rate','Average Rate'}] = N:\\n#DB('Exchange Rate Input', !Scenario, !SA Year, !SA Month, !Version, !Currency From, !M Exchange Rate) \\\\\\n#DB('Exchange Rate Input', !Scenario, !SA Year, !SA Month, !Version, !Currency To, !M Exchange Rate);\\n\\n# Scenario data Copy\\n['M Exchange Rate':'Average Rate'] = N:\\nIf( !Scenario @<> 'ACT',\\n    ['ACT'],\\n    Continue);\\n\\n# Use Internal Data Calc\\n['ACT','WIP','Average Rate'] = ( ['BOM Rate'] + ['EOM Rate'] ) \\\\ 2;\\n\\n# if Currency From is equal to Currency To , 1\\n['ACT','WIP',{'BOM Rate','EOM Rate'}] = N:\\nIf( !Currency From @= !Currency To,1,Continue);\\n\\n# Stet CNY Transfer Other Currency\\n['Currency To':'CNY'] = N:Stet;\\n\\n# < GBP-> USD, GBP->CNY / USD->CNY  >\\n#['ACT','WIP',{'BOM Rate','EOM Rate'},'Currency From':'GBP','Currency To':'USD'] = N:\\n#DB('Exchange Rate', !Scenario, !SA Year, !SA Month, !Version, !Currency From,'CNY', !M Exchange Rate) \\\\\\n#DB('Exchange Rate', !Scenario, !SA Year, !SA Month, !Version, !Currency To,'CNY', !M Exchange Rate);\\n\\n# Calc Final Results\\n['ACT','WIP',{'BOM Rate','EOM Rate'}] = N:\\nDB('Exchange Rate', !Scenario, !SA Year, !SA Month, !Version, !Currency From,'CNY', !M Exchange Rate) \\\\\\nDB('Exchange Rate', !Scenario, !SA Year, !SA Month, !Version, !Currency To,'CNY', !M Exchange Rate);\\n\\n\\nFeeders;\\n['ACT','WIP','BOM Rate'] => ['Average Rate'];\\n['ACT','WIP','EOM Rate'] => ['Average Rate'];\\n\\n# USER Input Data within the cells Which is \\\"From xxx to CNY\\\", So Should Currency To:CNY Feeder Other Currency To Node.Feeder All Currencys Stands by feeders all its Children. \\n['Currency To':'CNY','M Exchange Rate':{'BOM Rate','EOM Rate'}]=>['Currency To':'All Currencys'];\\n\\n\\n#DB('Exchange Rate', !Scenario, !SA Year, !SA Month, !Version, 'All Currency List', 'All Currency List', 'Average Rate');\\n\\n\\n\\n\\n\\n\"},\n",
       " Cube:{\"Name\": \"Exchange Rate Daily\", \"Dimensions@odata.bind\": [\"Dimensions('Scenario')\", \"Dimensions('Date')\", \"Dimensions('Version')\", \"Dimensions('Currency From')\", \"Dimensions('Currency To')\", \"Dimensions('M Exchange Rate')\"], \"Rules\": \"Feedstrings;\\nSkipcheck;\\n# Scenario data Copy\\n['M Exchange Rate':'Average Rate'] = N:\\nIf( !Scenario @<> 'ACT',\\n    ['ACT'],\\n    Continue);\\n\\n# Use Internal Data Calc\\n['ACT','WIP','Average Rate'] = ( ['BOM Rate'] + ['EOM Rate'] ) \\\\ 2;\\n\\n# if Currency From is equal to Currency To , 1\\n['ACT','WIP',{'BOM Rate','EOM Rate'}] = N:\\nIf( !Currency From @= !Currency To,1,Continue);\\n\\n# Stet USD Transfer Other Currency\\n['Currency From':'USD'] = N:Stet;\\n\\n# Calc Final Results\\n['ACT','WIP',{'BOM Rate','EOM Rate'}] = N:\\n#DB('Exchange Rate', !Scenario, !SA Year, !SA Month, !Version, !Currency From,'CNY', !M Exchange Rate) \\\\\\n#DB('Exchange Rate', !Scenario, !SA Year, !SA Month, !Version, !Currency To,'CNY', !M Exchange Rate);\\n\\nDB('Exchange Rate Daily', !Scenario, !Date, !Version, 'USD',!Currency To,  !M Exchange Rate) \\\\ \\nDB('Exchange Rate Daily', !Scenario, !Date, !Version, 'USD',!Currency From,  !M Exchange Rate);\\n\\nFeeders;\\n['ACT','WIP','BOM Rate'] => ['Average Rate'];\\n['ACT','WIP','EOM Rate'] => ['Average Rate'];\\n\\n# USER Input Data within the cells Which is \\\"From xxx to CNY\\\", So Should Currency To:CNY Feeder Other Currency To Node.Feeder All Currencys Stands by feeders all its Children. \\n['Currency To':'CNY','M Exchange Rate':{'BOM Rate','EOM Rate'}]=>['Currency To':'All Currencys'];\\n\\n\\n#DB('Exchange Rate', !Scenario, !SA Year, !SA Month, !Version, 'All Currency List', 'All Currency List', 'Average Rate');\\n\"},\n",
       " Cube:{\"Name\": \"Exchange Rate Input\", \"Dimensions@odata.bind\": [\"Dimensions('Scenario')\", \"Dimensions('SA Year')\", \"Dimensions('SA Month')\", \"Dimensions('Version')\", \"Dimensions('Currency')\", \"Dimensions('M Exchange Rate')\"]},\n",
       " Cube:{\"Name\": \"Rollup\", \"Dimensions@odata.bind\": [\"Dimensions('Business Unit')\", \"Dimensions('SA Month')\", \"Dimensions('SA Year')\", \"Dimensions('M ZL Sales Market Basket Analysis')\"], \"Rules\": \"skipcheck;\\n\\n['M ZL Sales Market Basket Analysis':'Mc']=10;\\n\\n\\n\\n\\n\\n\\nfeeders;\"},\n",
       " Cube:{\"Name\": \"Sales\", \"Dimensions@odata.bind\": [\"Dimensions('SA Year')\", \"Dimensions('SA Month')\", \"Dimensions('Version')\", \"Dimensions('Location')\", \"Dimensions('Business Unit FPA')\", \"Dimensions('Product')\", \"Dimensions('Data Source')\", \"Dimensions('Measure_Sales')\"], \"Rules\": \"Feedstrings;\\nSkipcheck;\\n\\n['Measure_Sales':'Comment'] = S:If( UndefinedCellValue('TM1 Function Test') = 0,'1','2');\\n['Measure_Sales':'Comment'] = S:If( IsUndefinedCellValue(0, 'TM1 Function Test') =1,'1','2');\\n\\n#['Average Volume1'] = C:ConsolidatedMax(0, '', !SA Year, !SA Month,!Version, !Location, !Business Unit, !Product, !Data Source, 'Volume');\\n#['Average Volume2'] = C:ConsolidatedMin(0, '', !SA Year, !SA Month, !Version, !Location, !Business Unit, !Product, !Data Source, 'Volume');\\n#['Comment'] = S: If( ElIsAnc('Business Unit', 'All Business Units', !Business Unit) =1  % !Business Unit @= 'All Business Units' , 's1','');\\n#['Average Volume2'] = C:ConsolidatedCount(2, 'Sales', !SA Year, !SA Month, !Version,!Location, !Business Unit, !Product, !Data Source, 'Volume');\\n#['Location':{'BAU','BFR','BUK','BUS'}] =C: 1;\\n#['All Companies'] = ConsolidateChildren('Location');\\n#['Average Volume1'] = C:ConsolidatedAvg(0, 'Sales', !SA Year, !SA Month, !Version, !Location, !Business Unit, !Product, !Data Source, 'Volume');\\n#['Average Volume2'] = C:ConsolidatedAvg(1, 'Sales', !SA Year, !SA Month, !Version, !Location, !Business Unit, !Product, !Data Source, 'Volume');\\n#['Average Volume3'] = C:ConsolidatedAvg(2, 'Sales', !SA Year, !SA Month, !Version, !Location, !Business Unit, !Product, !Data Source, 'Volume');\\n#['Average Volume4'] = C:ConsolidatedAvg(3, 'Sales', !SA Year, !SA Month, !Version, !Location, !Business Unit, !Product, !Data Source, 'Volume');\\n\\n['Volume'] = C:1;\\n['Sales Amount'] = N:['Price'] * ['Quantity'];\\n#['Sales Amount','LSKU1787'] = N:['Price'] * ['Quantity'];\\n#['Sales Amount','LSKU1284'] = N:['Price'] * ['Quantity'];\\n#['Sales Amount','LSKU1931'] = N:['Price'] * ['Quantity'];\\n\\n['Measure_Sales':'Gross Margin % - N'] = ['Gross Profit'] \\\\ ['Sales Amount'];\\n['Measure_Sales':'Gross Margin % - C'] = ['Gross Profit'] \\\\ ['Sales Amount'];\\n\\n\\n['Indicator'] = S:If( ['Gross Margin % - C'] >= 0.2499,'👍','😡');\\n\\n\\n\\n['Cost of Sales'] = N:['Unit Cost'] * ['Quantity'];\\n\\n\\nFeeders;\\n\\n['Gross Margin % - C'] => ['Indicator'];\\n\\n['Quantity']=>['Sales Amount'],['Cost of Sales'];\\n\\n#['Price']=>['Sales Amount'];\\n\\n\\n[] =>DB('Sales - Overfeeding', !SA Year, !SA Month, !Version, !Location, !Business Unit FPA, !Product, !Data Source, !Measure_Sales);\\n\\n\\n\\n\\n\\n\\n\\n\\n\\n\\n\\n\\n\\n\\n\\n\\n\\n\\n\\n\\n\\n\"},\n",
       " Cube:{\"Name\": \"Sales - Overfeeding\", \"Dimensions@odata.bind\": [\"Dimensions('SA Year')\", \"Dimensions('SA Month')\", \"Dimensions('Version')\", \"Dimensions('Location')\", \"Dimensions('Business Unit FPA')\", \"Dimensions('Product')\", \"Dimensions('Data Source')\", \"Dimensions('Measure_Sales')\"], \"Rules\": \"Skipcheck;\\n[] = N:\\nIf( DB('Sales', !SA Year, !SA Month, !Version, !Location, !Business Unit FPA, !Product, !Data Source, !Measure_Sales) = 0,1,0);\\nFeeders;\"},\n",
       " Cube:{\"Name\": \"SYS_UserProperties\", \"Dimensions@odata.bind\": [\"Dimensions('}Clients')\", \"Dimensions('SYS_UserProperties')\"]},\n",
       " Cube:{\"Name\": \"Sys Definition Chore Execution Workflow\", \"Dimensions@odata.bind\": [\"Dimensions('Scenario')\", \"Dimensions('Version')\", \"Dimensions('SA Year')\", \"Dimensions('SA Month Day')\", \"Dimensions('}Chores')\", \"Dimensions('Line Item')\", \"Dimensions('Sys Chore Execution Workflow Moudle')\", \"Dimensions('M Chore Execution Workflow')\"], \"Rules\": \"Feedstrings;\\nSkipcheck;\\n\\n['Mannual Control Flag','01.Chore Save Data All'] = S:'Y';\\n\\nFeeders;\\n\"},\n",
       " Cube:{\"Name\": \"Sys Definition Product Cost STG\", \"Dimensions@odata.bind\": [\"Dimensions('Scenario')\", \"Dimensions('SA Year')\", \"Dimensions('SA Month')\", \"Dimensions('Version')\", \"Dimensions('COA Company')\", \"Dimensions('Country')\", \"Dimensions('Currency')\", \"Dimensions('Product')\", \"Dimensions('M Sys Definition Product Cost STG')\"], \"Rules\": \"Feedstrings;\\nSkipcheck;\\n####################################################################\\n### 实际上,每月成本会从ERP中推送到PA,预算 预测需要在本Cube录入\\n### Step 1. US/UK/DE/JP目前这的哥国家代表北美洲/英国/欧洲/亚洲\\n####################################################################\\n[{'No Country'}] = N:Stet;\\n[{'FR','IT','ES','NL','PL','SE','TR'}] = N:['DE'];\\n[{'CA','MX','AU'}] = N:['US'];\\n\\n####################################################################\\n### Step 2. transfer Currency to Local\\n####################################################################\\n['CNY'] =N:Stet;\\n['ACT','WIP']=N:If( !Currency @<> 'CNY',\\n    DB('Exchange Rate', !Scenario, !SA Year, !SA Month, !Version, 'CNY', AttrS('Country',!Country,'Currency'), 'Average Rate') *\\n    DB('Sys Definition Product Cost STG', !Scenario, !SA Year, !SA Month, !Version, !COA Company, !Country, 'CNY', !Product, 'Amount')\\n    ,Stet);\\n\\n\\nFeeders;\\n['DE'] =>['FR'],['IT'],['ES'],['NL'],['PL'],['SE'],['TR'];\\n['US'] =>['CA'],['MX'],['AU'];\\n\\n## Step 2\\n['CNY','US'] =>['USD','US'];\\n['CNY','UK'] =>['GBP','UK'];\\n['CNY','DE'] =>['EUR'];\\n['CNY','JP'] =>['JPY'];\\n\\n### \\\"ZL Amazon Payments Data Report\\\"\\n['Amount'] =>DB('ZL Amazon Payments Data Report', !Scenario, !SA Year, !SA Month, !Version, !COA Company, \\n                                  !Currency, !Country, !Product, 'All Platforms', '销售总成本', 'Base', 'Amount');\"},\n",
       " Cube:{\"Name\": \"Sys Definition Product Info Mapping Input\", \"Dimensions@odata.bind\": [\"Dimensions('SA Year')\", \"Dimensions('SA Month')\", \"Dimensions('Employee')\", \"Dimensions('Country')\", \"Dimensions('Line Item')\", \"Dimensions('M Sys Definition Procut Info Mapping')\"], \"Rules\": \"Feedstrings;\\nSkipcheck;\\n### 本Cube 数据集 hardcode 在 202112 /No Country/ 赵玮这个Slice上面\\nFeeders;\"},\n",
       " Cube:{\"Name\": \"Sys Definition Product MSKU LSKU Mapping\", \"Dimensions@odata.bind\": [\"Dimensions('SA Year')\", \"Dimensions('SA Month')\", \"Dimensions('Country')\", \"Dimensions('Product MSKU')\", \"Dimensions('M Sys Definition Product MSKU LSKU Mapping')\"]},\n",
       " Cube:{\"Name\": \"Sys Definition ZL AMZ Fee Input\", \"Dimensions@odata.bind\": [\"Dimensions('Scenario')\", \"Dimensions('SA Year')\", \"Dimensions('SA Month')\", \"Dimensions('Version')\", \"Dimensions('COA Company')\", \"Dimensions('Country')\", \"Dimensions('Line Item')\", \"Dimensions('ZL AMZ Fee Item')\", \"Dimensions('Data Source ZL AMZ Fee Input')\", \"Dimensions('M Sys Definition ZL AMZ Fee Input')\"], \"Rules\": \"Feedstrings;\\nSkipcheck;\\n\\n### 01.Fixed Country\\n['M Sys Definition ZL AMZ Fee Input':'国家'] = S:If( \\n        ['M Sys Definition ZL AMZ Fee Input':'Platform'] <> 0 , \\n        ATTRS('Country', !Country, '中文'), Stet);\\n\\n### not input anything, should lock cell for SP and SD\\n['ZL AMZ Fee Item':{'Sponsored Products','Sponsored Display'},'费用分摊方式'] = S:If(\\n    DB('Sys Definition ZL AMZ Fee Input', !Scenario, !SA Year, !SA Month, !Version,!COA Company, \\n          !Country, !Line Item, !ZL AMZ Fee Item, !Data Source ZL AMZ Fee Input, '国家') @= '' &         \\n    DB('Sys Definition ZL AMZ Fee Input', !Scenario, !SA Year, !SA Month, !Version,!COA Company, \\n          !Country, !Line Item, !ZL AMZ Fee Item, !Data Source ZL AMZ Fee Input, '站号') @= '' &               \\n    DB('Sys Definition ZL AMZ Fee Input', !Scenario, !SA Year, !SA Month, !Version,!COA Company, \\n          !Country, !Line Item, !ZL AMZ Fee Item, !Data Source ZL AMZ Fee Input, '货币') @= '' &               \\n    DB('Sys Definition ZL AMZ Fee Input', !Scenario, !SA Year, !SA Month, !Version,!COA Company, \\n          !Country, !Line Item, !ZL AMZ Fee Item, !Data Source ZL AMZ Fee Input, '广告SKU') @= '' &               \\n    DB('Sys Definition ZL AMZ Fee Input', !Scenario, !SA Year, !SA Month, !Version,!COA Company, \\n          !Country, !Line Item, !ZL AMZ Fee Item, !Data Source ZL AMZ Fee Input, '展示量') = 0 &               \\n    DB('Sys Definition ZL AMZ Fee Input', !Scenario, !SA Year, !SA Month, !Version,!COA Company, \\n          !Country, !Line Item, !ZL AMZ Fee Item, !Data Source ZL AMZ Fee Input, '点击量') = 0 &\\n    DB('Sys Definition ZL AMZ Fee Input', !Scenario, !SA Year, !SA Month, !Version,!COA Company, \\n          !Country, !Line Item, !ZL AMZ Fee Item, !Data Source ZL AMZ Fee Input, '花费') = 0   ,Stet,Continue);          \\n ### not input anything, should lock cell for SB and SBV         \\n['ZL AMZ Fee Item':{'Sponsored Products','Sponsored Display'},'费用分摊方式'] = S:If(\\n    DB('Sys Definition ZL AMZ Fee Input', !Scenario, !SA Year, !SA Month, !Version,!COA Company, \\n          !Country, !Line Item, !ZL AMZ Fee Item, !Data Source ZL AMZ Fee Input, '国家') @= '' &         \\n    DB('Sys Definition ZL AMZ Fee Input', !Scenario, !SA Year, !SA Month, !Version,!COA Company, \\n          !Country, !Line Item, !ZL AMZ Fee Item, !Data Source ZL AMZ Fee Input, '站号') @= '' &               \\n    DB('Sys Definition ZL AMZ Fee Input', !Scenario, !SA Year, !SA Month, !Version,!COA Company, \\n          !Country, !Line Item, !ZL AMZ Fee Item, !Data Source ZL AMZ Fee Input, '货币') @= '' &               \\n    DB('Sys Definition ZL AMZ Fee Input', !Scenario, !SA Year, !SA Month, !Version,!COA Company, \\n          !Country, !Line Item, !ZL AMZ Fee Item, !Data Source ZL AMZ Fee Input, '广告ASIN') @= '' &               \\n    DB('Sys Definition ZL AMZ Fee Input', !Scenario, !SA Year, !SA Month, !Version,!COA Company, \\n          !Country, !Line Item, !ZL AMZ Fee Item, !Data Source ZL AMZ Fee Input, '展示量') = 0 &               \\n    DB('Sys Definition ZL AMZ Fee Input', !Scenario, !SA Year, !SA Month, !Version,!COA Company, \\n          !Country, !Line Item, !ZL AMZ Fee Item, !Data Source ZL AMZ Fee Input, '点击量') = 0 &\\n    DB('Sys Definition ZL AMZ Fee Input', !Scenario, !SA Year, !SA Month, !Version,!COA Company, \\n          !Country, !Line Item, !ZL AMZ Fee Item, !Data Source ZL AMZ Fee Input, '花费') = 0   ,Stet,Continue);   \\n\\n### if fee is 0, no allocation\\n['ZL AMZ Fee Item':{'Sponsored Products','Sponsored Display'},'费用分摊方式'] = S:If(\\n    DB('Sys Definition ZL AMZ Fee Input', !Scenario, !SA Year, !SA Month, !Version,!COA Company, \\n          !Country, !Line Item, !ZL AMZ Fee Item, !Data Source ZL AMZ Fee Input, '花费') = 0  &\\n    DB('Sys Definition ZL AMZ Fee Input', !Scenario, !SA Year, !SA Month, !Version,!COA Company, \\n          !Country, !Line Item, !ZL AMZ Fee Item, !Data Source ZL AMZ Fee Input, '广告SKU') @<> '' ,'此行不分摊',Continue);\\n          \\n['ZL AMZ Fee Item':{'Sponsored Brands','Sponsored Brands videos'},'费用分摊方式'] = S:If(\\n    DB('Sys Definition ZL AMZ Fee Input', !Scenario, !SA Year, !SA Month, !Version,!COA Company, \\n          !Country, !Line Item, !ZL AMZ Fee Item, !Data Source ZL AMZ Fee Input, '花费') = 0 &       \\n    DB('Sys Definition ZL AMZ Fee Input', !Scenario, !SA Year, !SA Month, !Version,!COA Company, \\n          !Country, !Line Item, !ZL AMZ Fee Item, !Data Source ZL AMZ Fee Input, '广告ASIN') @<> '' ,'此行不分摊',Continue);\\n\\n### SP and SD\\n# 如果在 广告SKU 填了产品类目的话,显示 \\\"按照类目分摊\\\"\\n['ZL AMZ Fee Item':{'Sponsored Products','Sponsored Display'},'费用分摊方式'] = S:If(\\n  ElIsPar('Product', 'All Products', \\n                                      DB('Sys Definition ZL AMZ Fee Input', !Scenario, !SA Year, !SA Month, !Version,!COA Company, \\n                                            !Country, !Line Item, !ZL AMZ Fee Item, !Data Source ZL AMZ Fee Input, '广告SKU')\\n          ) =1 ,'按照类目分摊',Continue);\\n\\n# 如果在 广告SKU 没有填产品类目的话,显示 \\\"按照广告SKU分摊\\\"           \\n['ZL AMZ Fee Item':{'Sponsored Products','Sponsored Display'},'费用分摊方式'] = S:If( \\n    DB('Sys Definition ZL AMZ Fee Input', !Scenario, !SA Year, !SA Month, !Version,!COA Company, \\n          !Country, !Line Item, !ZL AMZ Fee Item, !Data Source ZL AMZ Fee Input, '广告SKU') @<> ''  &\\n    DB('Sys Definition ZL AMZ Fee Input', !Scenario, !SA Year, !SA Month, !Version,!COA Company, \\n          !Country, !Line Item, !ZL AMZ Fee Item, !Data Source ZL AMZ Fee Input, '国家') @<> '','按照广告SKU分摊','');\\n### SB and SBV\\n# 如果在 广告ASIN 填了产品类目的话,显示 \\\"按照类目分摊\\\"\\n['ZL AMZ Fee Item':{'Sponsored Brands','Sponsored Brands videos'},'费用分摊方式'] = S:If(\\n  ElIsPar('Product', 'All Products', \\n                                      DB('Sys Definition ZL AMZ Fee Input', !Scenario, !SA Year, !SA Month, !Version,!COA Company, \\n                                            !Country, !Line Item, !ZL AMZ Fee Item, !Data Source ZL AMZ Fee Input, '广告ASIN')\\n          ) =1 ,'按照类目分摊',Continue);\\n\\n# 如果在广告ASIN 没有填产品类目的话,显示 \\\"按照广告ASIN分摊\\\"        \\n['ZL AMZ Fee Item':{'Sponsored Brands','Sponsored Brands videos'},'费用分摊方式'] = S:If(\\n    DB('Sys Definition ZL AMZ Fee Input', !Scenario, !SA Year, !SA Month, !Version,!COA Company, \\n          !Country, !Line Item, !ZL AMZ Fee Item, !Data Source ZL AMZ Fee Input, '广告ASIN') @<> '' &\\n    DB('Sys Definition ZL AMZ Fee Input', !Scenario, !SA Year, !SA Month, !Version,!COA Company, \\n          !Country, !Line Item, !ZL AMZ Fee Item, !Data Source ZL AMZ Fee Input, '国家')@<> '','按照广告ASIN分摊','');\\n          \\n\\nFeeders;\\n\\n###    01.Fixed Country\\n['M Sys Definition ZL AMZ Fee Input':'Platform'] =>['M Sys Definition ZL AMZ Fee Input':'国家'];\\n\\n['M Sys Definition ZL AMZ Fee Input':{'国家','站号','货币','广告SKU','展示量','点击量','花费'}] =>\\n              DB('Sys Definition ZL AMZ Fee Input', !Scenario, !SA Year, !SA Month, !Version,!COA Company, \\n                     !Country, !Line Item, 'Sponsored Products', !Data Source ZL AMZ Fee Input, '费用分摊方式'),\\n              DB('Sys Definition ZL AMZ Fee Input', !Scenario, !SA Year, !SA Month, !Version,!COA Company, \\n                    !Country, !Line Item,  'Sponsored Display', !Data Source ZL AMZ Fee Input, '费用分摊方式');\\n                    \\n['M Sys Definition ZL AMZ Fee Input':{'国家','站号','货币','广告ASIN','展示量','点击量','花费'}] =>\\n              DB('Sys Definition ZL AMZ Fee Input', !Scenario, !SA Year, !SA Month, !Version,!COA Company, \\n                    !Country, !Line Item,  'Sponsored Brands', !Data Source ZL AMZ Fee Input, '费用分摊方式'),\\n              DB('Sys Definition ZL AMZ Fee Input', !Scenario, !SA Year, !SA Month, !Version,!COA Company, \\n                    !Country, !Line Item,  'Sponsored Brands videos', !Data Source ZL AMZ Fee Input, '费用分摊方式');   \\n                                       \\n###                  \\n                    \\n                    \\n                    \\n                    \\n                    \"},\n",
       " Cube:{\"Name\": \"Sys Definition ZL AMZ Fee STG\", \"Dimensions@odata.bind\": [\"Dimensions('Scenario')\", \"Dimensions('SA Year')\", \"Dimensions('SA Month')\", \"Dimensions('Version')\", \"Dimensions('COA Company')\", \"Dimensions('Currency')\", \"Dimensions('Country')\", \"Dimensions('Platform')\", \"Dimensions('Product')\", \"Dimensions('ZL AMZ Fee Item')\", \"Dimensions('Fee Allocation Method')\", \"Dimensions('Data Source ZL AMZ Fee STG')\", \"Dimensions('M Sys Definition ZL AMZ Fee STG')\"], \"Rules\": \"Feedstrings;\\nSkipcheck;\\n\\n['CNY'] = N:DB('Exchange Rate', !Scenario, !SA Year, !SA Month, !Version, Attrs('Country',!Country,'SOB'), !Currency , 'Average Rate') *\\n  DB('Sys Definition ZL AMZ Fee STG', !Scenario, !SA Year, !SA Month, !Version, !COA Company, Attrs('Country',!Country,'SOB'), !Country, !Platform, \\n  !Product, !ZL AMZ Fee Item, !Fee Allocation Method, !Data Source ZL AMZ Fee STG, !M Sys Definition ZL AMZ Fee STG)\\n;\\n\\nFeeders;\\n\\n#~~~ ZL Amazon Payments Data Report\\n### Feed SP 广告费\\n['ACT','WIP','Sponsored Products','按照广告SKU分摊'] => \\n      DB('ZL Amazon Payments Data Report', !Scenario, !SA Year, !SA Month, !Version, !COA Company, \\n                          !Currency, !Country, !Product, !Platform, 'AMZ SP广告费分摊', 'Base', 'Amount');\\n### Feed SD 广告费                         \\n['ACT','WIP','Sponsored Display','按照广告SKU分摊'] => \\n      DB('ZL Amazon Payments Data Report', !Scenario, !SA Year, !SA Month, !Version, !COA Company, \\n                          !Currency, !Country, !Product, !Platform, 'AMZ SD广告费分摊', 'Base', 'Amount');\\n### Feed SB 广告费                          \\n['ACT','WIP','Sponsored Brands',{'按照广告ASIN分摊','按照类目分摊'}] => \\n      DB('ZL Amazon Payments Data Report', !Scenario, !SA Year, !SA Month, !Version, !COA Company, \\n                          !Currency, !Country, !Product, !Platform, 'AMZ SB广告费分摊', 'Base', 'Amount');\\n### Feed SBV 广告费 \\n['ACT','WIP','Sponsored Brands videos','按照广告ASIN分摊'] => \\n      DB('ZL Amazon Payments Data Report', !Scenario, !SA Year, !SA Month, !Version, !COA Company, \\n                          !Currency, !Country, !Product, !Platform, 'AMZ SBV广告费分摊', 'Base', 'Amount');\\n ### Feed DSP 广告费                          \\n['ACT','WIP','Demand-Side Platform','按照收入分摊'] => \\n      DB('ZL Amazon Payments Data Report', !Scenario, !SA Year, !SA Month, !Version, !COA Company, \\n                          !Currency, !Country, !Product, !Platform, 'AMZ DSP广告费分摊', 'Base', 'Amount');\\n                          \\n#~~~ Inner\\n['All Currencys']=>['CNY'];\\n\\n\"},\n",
       " Cube:{\"Name\": \"Sys Definition ZL Mgt Item Mapping Input\", \"Dimensions@odata.bind\": [\"Dimensions('SA Year')\", \"Dimensions('SA Month')\", \"Dimensions('Behavior')\", \"Dimensions('M Amazon Payments Data STG')\", \"Dimensions('M Sys Lookup ZL Mgt Item Mapping Input')\"], \"Rules\": \"Feedstrings;\\nskipcheck;\\n#['Input Flag','2021','Unspecified Month'] = S:'Y';\\n['Input Flag'] = S:If( ['Amount'] <> 0 ,'Y',Continue);\\nfeeders;\\n['Amount'] => ['Input Flag'] ;\"},\n",
       " Cube:{\"Name\": \"Sys Definition ZL Product Info\", \"Dimensions@odata.bind\": [\"Dimensions('Year')\", \"Dimensions('Month Day')\", \"Dimensions('COA Product')\", \"Dimensions('COA Region')\", \"Dimensions('M Sys Definition ZL Product Info Input')\"]},\n",
       " Cube:{\"Name\": \"Sys Definition ZL Product Info Input\", \"Dimensions@odata.bind\": [\"Dimensions('Year')\", \"Dimensions('Month')\", \"Dimensions('COA Product')\", \"Dimensions('COA Region')\", \"Dimensions('M Sys Definition ZL Product Info Input')\"]},\n",
       " Cube:{\"Name\": \"Sys Financial Approval Workflow Code Config\", \"Dimensions@odata.bind\": [\"Dimensions('Employee')\", \"Dimensions('Sys Workflow Code')\", \"Dimensions('M Sys Financial Approval Workflow Code Config')\"]},\n",
       " Cube:{\"Name\": \"Sys Financial Approval Workflow Employee Config\", \"Dimensions@odata.bind\": [\"Dimensions('SA Year')\", \"Dimensions('SA Month')\", \"Dimensions('Version')\", \"Dimensions('COA Company')\", \"Dimensions('Business Unit')\", \"Dimensions('Employee')\", \"Dimensions('Sys Workflow Category')\", \"Dimensions('M Sys Financial Approval Workflow Employee Config')\"]},\n",
       " Cube:{\"Name\": \"Sys Financial Approval Workflow Input\", \"Dimensions@odata.bind\": [\"Dimensions('SA Year')\", \"Dimensions('SA Month Day')\", \"Dimensions('Version')\", \"Dimensions('COA Company')\", \"Dimensions('Business Unit')\", \"Dimensions('Employee')\", \"Dimensions('Sys Workflow Category')\", \"Dimensions('Sys Workflow Code')\", \"Dimensions('M Sys Financial Approval Workflow Input')\"], \"Rules\": \"Feedstrings;\\nSkipcheck;\\n#~~~在 Websheet中不能点击  All Workflow Codes 的所有格子\\n['Sys Workflow Code':'All Workflow Codes'] = S:'';\\n\\n#~~~配置流程状态\\n['Code Approval Status'] = S:\\nIf( Ellev('Sys Workflow Code',!Sys Workflow Code)=0 & Numbr(!Sys Workflow Code)>0,\\n  If( DB('Sys Financial Approval Workflow Input', !SA Year, !SA Month Day, !Version, !COA Company, !Business Unit, \\n                                                !Employee, !Sys Workflow Category, !Sys Workflow Code, 'Submit Time') @<> '',\\n    If( DB('Sys Financial Approval Workflow Input', !SA Year, !SA Month Day, !Version, !COA Company, !Business Unit, \\n                                                !Employee, !Sys Workflow Category, !Sys Workflow Code, 'Cashier Payment Time') @<> '','已完结','审批中'),\\n        '未提交'),\\n  Continue);\\n      \\n\\nFeeders;\\n\\n\\n\"},\n",
       " Cube:{\"Name\": \"Sys Financial Approval Workflow Process Config\", \"Dimensions@odata.bind\": [\"Dimensions('SA Year')\", \"Dimensions('SA Month')\", \"Dimensions('Version')\", \"Dimensions('COA Company')\", \"Dimensions('Business Unit')\", \"Dimensions('Employee')\", \"Dimensions('Sys Workflow Category')\", \"Dimensions('Sys Workflow Code')\", \"Dimensions('M Sys Financial Approval Workflow Employee Config')\"], \"Rules\": \"Feedstrings;\\nSkipcheck;\\n\\n['Unspecified Code'] = S:Stet;\\n[] = S:DB('Sys Financial Approval Workflow Process Config', !SA Year, !SA Month, !Version, !COA Company, !Business Unit, \\n!Employee, !Sys Workflow Category, 'Unspecified Code', !M Sys Financial Approval Workflow Employee Config);\\n\\nFeeders;\\n\\n['Unspecified Code'] =>['All Workflow Codes'];\\n#['Unspecified Code'] =>['LC20220727098751'];\\n\\n\\n\"},\n",
       " Cube:{\"Name\": \"Sys Lookup Year Month\", \"Dimensions@odata.bind\": [\"Dimensions('Year Month')\", \"Dimensions('Year Month Index')\", \"Dimensions('Sys Lookup Year Month Measure')\"]},\n",
       " Cube:{\"Name\": \"Sys Parameter\", \"Dimensions@odata.bind\": [\"Dimensions('Sys Parameter')\", \"Dimensions('M Sys Parameter')\"], \"Rules\": \"Feedstrings;\\nskipcheck;\\n['M Sys Parameter':'Text View'] = S:DB('Sys Parameter', !Sys Parameter, 'Text');\\n['M Sys Parameter':'Comment View'] = S:DB('Sys Parameter', !Sys Parameter, 'Comment');\\n\\n['TM1 Server System','Text'] = S:If( \\nScan(':',DB('Sys Parameter', 'TM1 Server Directory', !M Sys Parameter)) <> 0,'Windows','Linux');\\n\\n['TM1 Data Directory','Text'] = S:\\nDB('Sys Parameter', 'TM1 Server Directory', !M Sys Parameter)|\\n'data'|If( DB('Sys Parameter', 'TM1 Server System', !M Sys Parameter)@= 'Linux','/','\\\\');\\n['Server Export Folder','Text'] = S: \\nDB('Sys Parameter', 'TM1 Server Directory', !M Sys Parameter)|\\n'export'|If( DB('Sys Parameter', 'TM1 Server System', !M Sys Parameter)@= 'Linux','/','\\\\');\\n\\n['Server Import Folder','Text'] = S: \\nDB('Sys Parameter', 'TM1 Server Directory', !M Sys Parameter)|\\n'import'|If( DB('Sys Parameter', 'TM1 Server System', !M Sys Parameter)@= 'Linux','/','\\\\');\\n\\n['Server Log Folder','Text'] = S:\\nDB('Sys Parameter', 'TM1 Server Directory', !M Sys Parameter)|\\n'log'|If( DB('Sys Parameter', 'TM1 Server System', !M Sys Parameter)@= 'Linux','/','\\\\');\\n\\n['tm1s.cfg Location','Text'] = S:\\nDB('Sys Parameter', 'TM1 Server Directory', !M Sys Parameter)|'tm1s.cfg';\\n\\n#['Today','Text'] = S:Today(1);\\n#['Now','Numeric'] = N:Now();\\n#['Now','Text'] = S:TimST(Now(),'\\\\h:\\\\i:\\\\s');\\n['Current Login Username','Text'] = S: DB('}ElementAttributes_}Clients',TM1USER(),'}TM1_DefaultDisplayValue');\\n#Region System\\n##############################################################################################################\\n###~~~    Start Rule File    ~~~###\\n\\n['TM1 Web URL','Text'] = S: \\n              If( Subst(DB('Sys Parameter', 'HTTP Use SSL', !M Sys Parameter),1,1) @= 'F','http://','https://') \\n              | DB('Sys Parameter', 'AdminHost', !M Sys Parameter) | ':9510/tm1web/';\\n              \\n#http://192.168.0.155/Reports/powerbi/\\n['PBI Web URL','Text'] = S: 'http://' | DB('Sys Parameter', 'PBI Server ipv4', 'Text') | '/Reports/powerbi/';\\n\\n###~~~ niko add\\n\\n###############################################\\n###  SYSTEM INFORMATION\\n\\n['System Date', 'Text'] = S:  Today(1);\\n['System Time', 'Text'] = S:  TimST(Now(),'\\\\h:\\\\i:\\\\s');\\n\\n### Use principal name\\n['System Start Year', 'Text'] = S: '2018';\\n['System Start Month', 'Text'] = S: 'Jan';\\n\\n\\n###['Current Forecast Year', 'Text'] = S: DB('Sys Parameter', 'Current Actual Year', 'Text');\\n###['Current Budget Year', 'Text'] = S: AttrS('Year', DB('Sys Parameter', 'Current Actual Year', 'Text'), 'Next Year');\\n### Current Budget/Forecast Scenario  YH on 2020-08-12\\n['Current Budget Scenario', 'Text'] = S: 'BUD ' | DimNM('Year Fiscal', DimIx('Year Fiscal', DB('Sys Parameter', 'Current Budget Year', 'Text')));\\n['Current Forecast Scenario', 'Text'] = S: 'FCST' \\n    | ' ' | DimNM('Month Fiscal', DimIx('Month Fiscal', DB('Sys Parameter', 'Current Forecast Start Month', 'Text')))\\n    | ' ' | DimNM('Year Fiscal', DimIx('Year Fiscal', DB('Sys Parameter', 'Current Forecast Year', 'Text')))\\n    ;\\n\\n### Last Forecast Start Month (Fiscal)\\n['Last Forecast Start Month', 'Text'] = S: ATTRS('Month', DimNM('Month Fiscal', DimIx('Month Fiscal', DB('Sys Parameter', 'Current Forecast Start Month', 'Text'))), 'Last Month' ) ;\\n['Last Forecast Scenario', 'Text'] = S:  IF( ATTRN('Month Fiscal', DB('Sys Parameter', 'Current Forecast Start Month', 'Text'), 'Month Index' ) = 1\\n    , 'FCST' \\n        | ' ' | DimNM('Month Fiscal', DimIx('Month Fiscal', DB('Sys Parameter', 'Last Forecast Start Month', 'Text')))\\n        | ' ' | DimNM('Year Fiscal', DimIx('Year Fiscal', ATTRS('Year Fiscal', DB('Sys Parameter', 'Current Forecast Year', 'Text'), 'P-1')  ))\\n    , Continue );\\n['Last Forecast Scenario', 'Text'] = S:  'FCST' \\n    | ' ' | DimNM('Month Fiscal', DimIx('Month Fiscal', DB('Sys Parameter', 'Last Forecast Start Month', 'Text')))\\n    | ' ' | DimNM('Year Fiscal', DimIx('Year Fiscal', DB('Sys Parameter', 'Current Forecast Year', 'Text')))\\n    ;\\n\\n\\n#added by cyy_20210107\\n#generate parameter for CY BUD & FCST\\n['Current Budget Scenario - Natural', 'Text'] = S: 'BUD CY' | DimNM('Year', DimIx('Year', DB('Sys Parameter', 'Current Budget Year - Natural', 'Text')));\\n['Current Forecast Scenario - Natural', 'Text'] = S: 'FCST' \\n    | ' ' | DimNM('Month', DimIx('Month', DB('Sys Parameter', 'Current Forecast Start Month - Natural', 'Text')))\\n    | ' CY' | DimNM('Year', DimIx('Year', DB('Sys Parameter', 'Current Forecast Year - Natural', 'Text')))\\n    ;\\n\\n### Last Forecast Start Month (CY)\\n['Last Forecast Start Month - Natural', 'Text'] = S: ATTRS('Month', DimNM('Month', DimIx('Month', DB('Sys Parameter', 'Current Forecast Start Month - Natural', 'Text'))), 'Last Month' ) ;\\n['Last Forecast Scenario - Natural', 'Text'] = S:  IF( ATTRN('Month', DB('Sys Parameter', 'Current Forecast Start Month - Natural', 'Text'), 'Month Index' ) = 1\\n    , 'FCST' \\n        | ' ' | DimNM('Month', DimIx('Month', DB('Sys Parameter', 'Last Forecast Start Month - Natural', 'Text')))\\n        | ' CY' | DimNM('Year', DimIx('Year', ATTRS('Year', DB('Sys Parameter', 'Current Forecast Year - Natural', 'Text'), 'P-1')  ))\\n    , Continue );\\n['Last Forecast Scenario - Natural', 'Text'] = S:  'FCST' \\n    | ' ' | DimNM('Month', DimIx('Month', DB('Sys Parameter', 'Last Forecast Start Month - Natural', 'Text')))\\n    | ' CY' | DimNM('Year', DimIx('Year', DB('Sys Parameter', 'Current Forecast Year - Natural', 'Text')))\\n    ;\\n#added by cyy_20210107\\n\\n\\n\\n\\n###############################################\\n###  BLOCK THE HEADINGS\\n\\n['Text'] = S: If (SubSt(!Sys Parameter, 1, 4) @= '>>>>', '', STET);\\n['Numeric'] = N: If (SubSt(!Sys Parameter, 1, 4) @= '>>>>', 0, STET);\\n\\n\\n\\n\\n\\n\\n##############################################################################################################\\n\\nFEEDERS;\\n##############################################################################################################\\n\\n['PBI Server ipv4'] =>['PBI Web URL'];\\n['M Sys Parameter':'Text'] =>['Text View'];\\n['M Sys Parameter':'Comment'] =>['Comment View'];\\n#############################\\n###  Internal Cube Feeders\\n\\n\\n\\n\\n#############################\\n###  External Cube Feeders\\n\\n\\n\\n\\n##############################################################################################################\\n###    End Rule File    ~~##\"},\n",
       " Cube:{\"Name\": \"Sys Rolling Data Copy\", \"Dimensions@odata.bind\": [\"Dimensions('SA Year')\", \"Dimensions('SA Month')\", \"Dimensions('}Cubes')\", \"Dimensions('M Sys Rolling Data Copy')\"], \"Rules\": \"Feedstrings;\\nSkipcheck;\\n\\n['M Sys Rolling Data Copy':{'是否启用','Applications','Comment'}] = S:Stet;\\n\\n\\n# Case 01: 全部自定义\\n\\n[] = S:If( DB('Sys Rolling Data Copy', !SA Year, !SA Month, !}Cubes, '是否启用') @<> 'Y','',Continue);\\n\\n[{'Flag (Exception)'}] = S:Stet;\\n[] = S:If( DB('Sys Rolling Data Copy', !SA Year, !SA Month, !}Cubes, 'Flag (Exception)') @= '全部自定义',Stet,Continue);\\n\\n# Case 02: 按年月\\n['维度1'] = S:If( DB('Sys Rolling Data Copy', !SA Year, !SA Month, !}Cubes, 'Flag (Exception)') @= '按年月','SA Year',Continue);\\n['维度2'] = S:If( DB('Sys Rolling Data Copy', !SA Year, !SA Month, !}Cubes, 'Flag (Exception)') @= '按年月','SA Month',Continue);\\n['传数系数'] = If( DB('Sys Rolling Data Copy', !SA Year, !SA Month, !}Cubes, 'Flag (Exception)') @<> '自定义',1,Continue);\\n\\n['起始元素1'] = S:If( DB('Sys Rolling Data Copy', !SA Year, !SA Month, !}Cubes, '维度1') @= '','',\\nIf(  \\n                      DB('Sys Rolling Data Copy', !SA Year, !SA Month, !}Cubes, 'Flag (Exception)') @= '按年月', \\n                      DB('Sys Lookup Year Month', \\n                            DB('Sys Parameter', 'Current Actual Year', 'Text') | ' '| \\n                            DimNm('SA Month', \\n                                          DimIx('SA Month', \\n                                                          DB('Sys Parameter', 'Current Actual Month', 'Text'\\n                                                             )\\n                                                )\\n                                   ),                                                                         'm1', 'Year'),\\n                      Continue));\\n['目标元素1'] = S:If( DB('Sys Rolling Data Copy', !SA Year, !SA Month, !}Cubes, '维度1') @= '','',\\n    If(  \\n                      DB('Sys Rolling Data Copy', !SA Year, !SA Month, !}Cubes, 'Flag (Exception)') @= '按年月', DB('Sys Parameter', 'Current Actual Year', 'Text'),\\n                      Continue));\\n\\n['起始元素2'] = S:If( DB('Sys Rolling Data Copy', !SA Year, !SA Month, !}Cubes, '维度2') @= '','',\\n    If(  \\n                      DB('Sys Rolling Data Copy', !SA Year, !SA Month, !}Cubes, 'Flag (Exception)') @= '按年月', \\n                      DimNM('SA Month',Dimix('SA Month',\\n                      DB('Sys Lookup Year Month', \\n                            DB('Sys Parameter', 'Current Actual Year', 'Text') | ' '| \\n                            DimNm('SA Month', \\n                                            DimIx('SA Month', DB('Sys Parameter', 'Current Actual Month', 'Text'))), 'm1', 'Month'))),\\n                      Continue));\\n['目标元素2'] = S:If( DB('Sys Rolling Data Copy', !SA Year, !SA Month, !}Cubes, '维度2') @= '','',\\n    If(  \\n                      DB('Sys Rolling Data Copy', !SA Year, !SA Month, !}Cubes, 'Flag (Exception)') @= '按年月', \\n                      DimNM('SA Month',Dimix('SA Month',DB('Sys Parameter', 'Current Actual Month', 'Text'))),\\n                      Continue));\\n\\n# Case 03: 按场景\\n['维度3'] = S:If( DB('Sys Rolling Data Copy', !SA Year, !SA Month, !}Cubes, 'Flag (Exception)') @= '按场景','Scenario',Stet);\\n\\n['起始元素3'] = S:If( DB('Sys Rolling Data Copy', !SA Year, !SA Month, !}Cubes, '维度3') @= '', '',Stet);\\n['目标元素3'] = S:If( DB('Sys Rolling Data Copy', !SA Year, !SA Month, !}Cubes, '维度3') @= '', '',\\n    If( DB('Sys Rolling Data Copy', !SA Year, !SA Month, !}Cubes, '维度3') @= 'Scenario',\\n        'FCST ' | Subst(\\n                DB('Sys Lookup Year Month', \\n                                            Subst( DB('Sys Rolling Data Copy', !SA Year, !SA Month, !}Cubes, '起始元素3'),12,4) | ' '|\\n                                            Subst( DB('Sys Rolling Data Copy', !SA Year, !SA Month, !}Cubes, '起始元素3'),6,3)\\n                , 'p1', 'Element'),6,3)\\n                |' CY'|\\n                Subst(\\n                DB('Sys Lookup Year Month', \\n                                            Subst( DB('Sys Rolling Data Copy', !SA Year, !SA Month, !}Cubes, '起始元素3'),12,4) | ' '|\\n                                            Subst( DB('Sys Rolling Data Copy', !SA Year, !SA Month, !}Cubes, '起始元素3'),6,3)\\n                , 'p1', 'Element'),1,4)\\n  , Stet)\\n);\\n\\n#[{'起始元素3','目标元素3'}] = S:If(DB('Sys Rolling Data Copy', !SA Year, !SA Month, !}Cubes, '维度3') @='',Stet,'');\\nFeeders;\\n['M Sys Rolling Data Copy':'Comment'] =>\\n['M Sys Rolling Data Copy':'Flag (Exception)'],['M Sys Rolling Data Copy':'IsRetainC'],['M Sys Rolling Data Copy':'Factor']\\n,['M Sys Rolling Data Copy':'001'],['M Sys Rolling Data Copy':'002'],['M Sys Rolling Data Copy':'003']\\n,['M Sys Rolling Data Copy':'004'],['M Sys Rolling Data Copy':'005'],['M Sys Rolling Data Copy':'006']\\n,['M Sys Rolling Data Copy':'007'],['M Sys Rolling Data Copy':'008'],['M Sys Rolling Data Copy':'009'];\\n#['维度2'] =>['起始元素2'],['目标元素2'];\\n\\n\\n['维度1'] =>DB('}PickList_Sys Rolling Data Copy', !SA Year, !SA Month, !}Cubes, '起始元素1', 'Value'),\\n            DB('}PickList_Sys Rolling Data Copy', !SA Year, !SA Month, !}Cubes, '目标元素1', 'Value');\\n['维度2'] =>DB('}PickList_Sys Rolling Data Copy', !SA Year, !SA Month, !}Cubes, '起始元素2', 'Value'),\\n            DB('}PickList_Sys Rolling Data Copy', !SA Year, !SA Month, !}Cubes, '目标元素2', 'Value');\\n['维度3'] =>DB('}PickList_Sys Rolling Data Copy', !SA Year, !SA Month, !}Cubes, '起始元素3', 'Value'),\\n            DB('}PickList_Sys Rolling Data Copy', !SA Year, !SA Month, !}Cubes, '目标元素3', 'Value');\"},\n",
       " Cube:{\"Name\": \"TM1 Function Test\", \"Dimensions@odata.bind\": [\"Dimensions('Month')\", \"Dimensions('m string len test')\"], \"Rules\": \"Feedstrings;\\nSkipcheck;\\nUndefVals;\\n\\n#['write length'] = Undef;\\n\\n#['write length'] = FV(1000, 0.05, 5);\\n\\n['write length'] = PAYMT(1000, 0.05, 5);\\n\\n\\n\\n#[] =Undef;\\n\\n#[] = If( IsLeaf=1,11,STET);\\n\\n['Today'] = S: yrs(today) | mos(today) | dys(today);\\n\\n['write length'] = N:DB('Sales', '2021', 'M08', 'WIP', 'US', 'BU01', 'LSKU1787', 'Input', 'Gross Margin % - C');\\n['read length'] = N:\\nCellValueN('Sales', 'SA Month':Attrs('SA Month','M08','中文'), 'SA Year':'2021',  'Version':'WIP', \\n'Location':'US', 'Business Unit FPA':'BU01', 'Product':'LSKU1787', 'Data Source':'Input', 'Measure_Sales':'Gross Margin % - C');\\n\\n\\n#DB('Sales', 'SA Year', 'SA Month', 'Version', 'Location', 'Business Unit FPA', 'Product', 'Data Source', 'Measure_Sales')\\n#DB('Sales', '2021', 'M08', 'WIP', 'US', 'BU01', 'LSKU1787', 'Input', 'Gross Margin % - C');\\n\\n\\n\\n#sql_procedure\\n#牛英男\\nFeeders;\\n\\n\"},\n",
       " Cube:{\"Name\": \"ZL Amazon Payments Data Report\", \"Dimensions@odata.bind\": [\"Dimensions('Scenario')\", \"Dimensions('SA Year')\", \"Dimensions('SA Month')\", \"Dimensions('Version')\", \"Dimensions('COA Company')\", \"Dimensions('Currency')\", \"Dimensions('Country')\", \"Dimensions('Product')\", \"Dimensions('Platform')\", \"Dimensions('ZL Amazon Management Report Item')\", \"Dimensions('Data Source Payments Data Report')\", \"Dimensions('M ZL Amazon Payments Data Report')\"], \"Rules\": \"Feedstrings;\\nSkipcheck;\\n\\n### Cal Amount For all Currency Except for \\\"SOB\\\"\\n#['SOB'] = N: Stet;\\n#['No Country'] = N: Stet;\\n#['M ZL Amazon Payments Data Report':'Amount'] = N:\\n#    DB('ZL Amazon Payments Data Report', !Scenario, !SA Year, !SA Month, !Version, !COA Company, 'SOB', !Country, !Product, \\n#    !Platform, !ZL Amazon Management Report Item, !Data Source Payments Data Report, !M ZL Amazon Payments Data Report) \\n#    * DB('Exchange Rate', !Scenario, !SA Year, !SA Month, !Version,\\n#                  DB('}ElementAttributes_Country', !Country, 'Currency'), !Currency,        'Average Rate')  \\n#;\\n\\n### cal the measure rate \\n['ACT','WIP','ZL Amazon Management Report Item':{'佣金费率'}] =  If( Abs(['佣金费'] \\\\ ['销售收入']) > 5 ,0,['佣金费'] \\\\ ['销售收入']) ;\\n['ACT','WIP','ZL Amazon Management Report Item':{'FBA配送费率'}] =  If( Abs(['FBA配送费'] \\\\ ['销售收入']) > 5 ,0,['FBA配送费'] \\\\ ['销售收入']) ;\\n['ACT','WIP','ZL Amazon Management Report Item':{'平台服务费率'}] =  If( Abs(['平台服务费'] \\\\ ['销售收入'])> 5 ,0,['平台服务费'] \\\\ ['销售收入']) ;\\n['ACT','WIP','ZL Amazon Management Report Item':{'平台推广费率'}] =  If( Abs(['平台推广费'] \\\\ ['销售收入'])> 5 ,0, ['平台推广费'] \\\\ ['销售收入']);\\n['ACT','WIP','ZL Amazon Management Report Item':{'FBA费用率'}] =  If( Abs(['FBA费用'] \\\\ ['销售收入'])> 5 ,0,['平台推广费'] \\\\ ['销售收入'])  ;\\n['ACT','WIP','ZL Amazon Management Report Item':{'其他销售费用率'}] = If( Abs(['积分费'] \\\\ ['销售收入'] +['其他(SC)'] \\\\ ['销售收入']) > 5 ,0,['积分费'] \\\\ ['销售收入'] +['其他(SC)'] \\\\ ['销售收入']) ;\\n['ACT','WIP','ZL Amazon Management Report Item':{'销售费用率'}] =  if(Abs(['销售费用'] \\\\ ['销售收入'])>1,0,['销售费用'] \\\\ ['销售收入']) ;\\n['ZL Amazon Management Report Item':{'可控利润率'}] = If(Abs(['可控利润'] \\\\ ['销售收入'])>1,0,['可控利润'] \\\\ ['销售收入']) ;\\n['ZL Amazon Management Report Item':{'销售利润率'}] = If(Abs(['销售利润'] \\\\ ['销售收入'])>1,0,['销售利润'] \\\\ ['销售收入']) ;\\n\\n###allocation FBA 月度仓储费\\n['ACT','AMZ月度仓储费分摊'] = N: ['No LSKU','FBA费用-月度仓储费'] * ['销售数量(不含退货)'] \\\\  ['All Products','销售数量(不含退货)']  ;\\n\\n###allocation FBA 店铺月租费\\n['ACT','AMZ店铺月租费分摊'] = N: ['No LSKU','平台服务费-月租费'] * ['销售数量(不含退货)'] \\\\  ['All Products','销售数量(不含退货)']  ;\\n\\n##################################################################\\n### get ZL 广告费 from 'STG'\\n##################################################################\\n# 由于 需要使用TI去计算本国货币外的其他货币，所以需要添加if来Stet,否则被Rule占着,ti是写不进去数的\\n##################################################################\\n## 添加了 if 语句后的:\\n##################################################################\\n['ACT','WIP','AMZ SP广告费分摊','Amount','Base'] = N:\\n  If( \\n    DB('Sys Definition ZL AMZ Fee STG', !Scenario, !SA Year, !SA Month, !Version, !COA Company, !Currency, \\n            !Country, !Platform, !Product, 'Sponsored Products', '按照广告SKU分摊', !Data Source Payments Data Report,!M ZL Amazon Payments Data Report) <> 0,\\n    DB('Sys Definition ZL AMZ Fee STG', !Scenario, !SA Year, !SA Month, !Version, !COA Company, !Currency, \\n            !Country, !Platform, !Product, 'Sponsored Products', '按照广告SKU分摊', !Data Source Payments Data Report,!M ZL Amazon Payments Data Report),Stet);\\n\\n['ACT','WIP','AMZ SD广告费分摊','Amount','Base'] = N:\\n  If(  \\n    DB('Sys Definition ZL AMZ Fee STG', !Scenario, !SA Year, !SA Month, !Version, !COA Company, !Currency, \\n            !Country, !Platform, !Product, 'Sponsored Display', '按照广告SKU分摊', !Data Source Payments Data Report,!M ZL Amazon Payments Data Report) <> 0,\\n    DB('Sys Definition ZL AMZ Fee STG', !Scenario, !SA Year, !SA Month, !Version, !COA Company, !Currency, \\n            !Country, !Platform, !Product, 'Sponsored Display', '按照广告SKU分摊', !Data Source Payments Data Report,!M ZL Amazon Payments Data Report),Stet);\\n\\n['ACT','WIP','AMZ SB广告费分摊','Amount','Base'] = N:\\n    If( (\\n      DB('Sys Definition ZL AMZ Fee STG', !Scenario, !SA Year, !SA Month, !Version, !COA Company, !Currency, \\n            !Country, !Platform, !Product, 'Sponsored Brands', '按照类目分摊', !Data Source Payments Data Report,!M ZL Amazon Payments Data Report)\\n      + DB('Sys Definition ZL AMZ Fee STG', !Scenario, !SA Year, !SA Month, !Version, !COA Company, !Currency, \\n            !Country, !Platform, !Product, 'Sponsored Brands', '按照广告ASIN分摊', !Data Source Payments Data Report,!M ZL Amazon Payments Data Report) ) <> 0,\\n    DB('Sys Definition ZL AMZ Fee STG', !Scenario, !SA Year, !SA Month, !Version, !COA Company, !Currency, \\n            !Country, !Platform, !Product, 'Sponsored Brands', '按照类目分摊', !Data Source Payments Data Report,!M ZL Amazon Payments Data Report)\\n  + DB('Sys Definition ZL AMZ Fee STG', !Scenario, !SA Year, !SA Month, !Version, !COA Company, !Currency, \\n            !Country, !Platform, !Product, 'Sponsored Brands', '按照广告ASIN分摊', !Data Source Payments Data Report,!M ZL Amazon Payments Data Report),Stet);\\n\\n['ACT','WIP','AMZ SBV广告费分摊','Amount','Base'] = N:\\n    If( \\n    DB('Sys Definition ZL AMZ Fee STG', !Scenario, !SA Year, !SA Month, !Version, !COA Company, !Currency, \\n            !Country, !Platform, !Product, 'Sponsored Brands videos', '按照广告ASIN分摊', !Data Source Payments Data Report,!M ZL Amazon Payments Data Report) <>0,\\n    DB('Sys Definition ZL AMZ Fee STG', !Scenario, !SA Year, !SA Month, !Version, !COA Company, !Currency, \\n            !Country, !Platform, !Product, 'Sponsored Brands videos', '按照广告ASIN分摊', !Data Source Payments Data Report,!M ZL Amazon Payments Data Report),Stet);\\n\\n\\n['ACT','WIP','AMZ DSP广告费分摊','Amount','Base'] = N:\\n  If(\\n    DB('Sys Definition ZL AMZ Fee STG', !Scenario, !SA Year, !SA Month, !Version, !COA Company, !Currency, \\n            !Country, !Platform, !Product, 'Demand-Side Platform', '按照收入分摊', !Data Source Payments Data Report,!M ZL Amazon Payments Data Report) <> 0,\\n    DB('Sys Definition ZL AMZ Fee STG', !Scenario, !SA Year, !SA Month, !Version, !COA Company, !Currency, \\n            !Country, !Platform, !Product, 'Demand-Side Platform', '按照收入分摊', !Data Source Payments Data Report,!M ZL Amazon Payments Data Report),Stet);\\n            \\n##################################################################\\n### Cal 销售成本 \\n##################################################################\\n['ACT','WIP','销售成本','Amount','Base'] = N:\\n        DB('Sys Definition Product Cost STG', !Scenario, !SA Year, !SA Month, !Version, !COA Company, !Country, !Currency, !Product, 'Amount')\\n      * ['销售数量']\\n;\\n\\n['ACT','WIP','退货成本','Amount','Base'] = N:\\n        DB('Sys Definition Product Cost STG', !Scenario, !SA Year, !SA Month, !Version, !COA Company, !Country, !Currency, !Product, 'Amount')\\n      * ['退货数量(SC)']\\n;\\n##################################################################\\n### Cal 广告费 Currency Transform\\n################################################################## \\n### 管理费用分摊\\n['管理费用-职工薪酬'] = N:\\n      (DB('General Ledger', !Scenario, !SA Year, !SA Month, !Version, !COA Company, '660201 - 管理费用-职工薪酬', '02 - 财务部', 'All COA Projects', \\n      'Default', !Currency, 'Base', 'Base Period', 'Debit')+\\n      DB('General Ledger', !Scenario, !SA Year, !SA Month, !Version, !COA Company, '660201 - 管理费用-职工薪酬', '06 - 行政部', 'All COA Projects', \\n      'Default', !Currency, 'Base', 'Base Period', 'Debit') ) * ['销售-产品收入','CNY'] \\\\  ['All Products','All Country List','All Platform List','销售-产品收入','CNY'];\\n['管理费用-可控费用'] = N:\\n      (DB('General Ledger', !Scenario, !SA Year, !SA Month, !Version, !COA Company, '660202 - 管理费用-可控费用', '02 - 财务部', 'All COA Projects', \\n      'Default', !Currency, 'Base', 'Base Period', 'Debit')+\\n      DB('General Ledger', !Scenario, !SA Year, !SA Month, !Version, !COA Company, '660202 - 管理费用-可控费用', '06 - 行政部', 'All COA Projects', \\n      'Default', !Currency, 'Base', 'Base Period', 'Debit') ) * ['销售-产品收入','CNY'] \\\\  ['All Products','All Country List','All Platform List','销售-产品收入','CNY'];\\n['管理费用-综合费用'] = N:\\n      (DB('General Ledger', !Scenario, !SA Year, !SA Month, !Version, !COA Company, '660203 - 管理费用-综合费用', '02 - 财务部', 'All COA Projects', \\n      'Default', !Currency, 'Base', 'Base Period', 'Debit')+\\n      DB('General Ledger', !Scenario, !SA Year, !SA Month, !Version, !COA Company, '660203 - 管理费用-综合费用', '06 - 行政部', 'All COA Projects', \\n      'Default', !Currency, 'Base', 'Base Period', 'Debit') ) * ['销售-产品收入','CNY'] \\\\  ['All Products','All Country List','All Platform List','销售-产品收入','CNY'];\\n['管理费用-折旧费用'] = N:\\n      (DB('General Ledger', !Scenario, !SA Year, !SA Month, !Version, !COA Company, '660204 - 管理费用-折旧费用', '02 - 财务部', 'All COA Projects', \\n      'Default', !Currency, 'Base', 'Base Period', 'Debit')+\\n      DB('General Ledger', !Scenario, !SA Year, !SA Month, !Version, !COA Company, '660204 - 管理费用-折旧费用', '06 - 行政部', 'All COA Projects', \\n      'Default', !Currency, 'Base', 'Base Period', 'Debit') ) * ['销售-产品收入','CNY'] \\\\  ['All Products','All Country List','All Platform List','销售-产品收入','CNY'];\\n\\nFeeders;\\n['ACT','WIP','销售-佣金'] => ['佣金费'],['佣金费率'],['销售费用'],['销售费用率'],['可控利润率'],['销售利润率'] ;\\n['ACT','WIP','退款-佣金'] => ['佣金费'],['佣金费率'],['销售费用'],['销售费用率'],['可控利润率'],['销售利润率'] ;\\n['ACT','WIP','销售-FBA配送费'] => ['佣金费'],['佣金费率'],['销售费用'],['销售费用率'],['可控利润率'],['销售利润率'] ;\\n['ACT','WIP','退款-FBA配送费'] => ['佣金费'],['佣金费率'],['销售费用'],['销售费用率'],['可控利润率'],['销售利润率'] ;\\n['ACT','WIP','销售-积分费'] => ['佣金费'],['佣金费率'],['销售费用'],['销售费用率'],['可控利润率'],['销售利润率'] ;\\n['ACT','WIP','退款-积分费'] => ['佣金费'],['佣金费率'],['销售费用'],['销售费用率'],['可控利润率'],['销售利润率'] ;\\n['ACT','WIP','销售-其他'] => ['佣金费'],['佣金费率'],['销售费用'],['销售费用率'],['可控利润率'],['销售利润率'] ;\\n['ACT','WIP','退款-其他'] => ['佣金费'],['佣金费率'],['销售费用'],['销售费用率'],['可控利润率'],['销售利润率'] ;\\n['ACT','WIP','其他(TC)'] => ['佣金费'],['佣金费率'],['销售费用'],['销售费用率'],['可控利润率'],['销售利润率'] ;\\n['ACT','WIP','平台服务费-广告费'] => ['佣金费'],['佣金费率'],['销售费用'],['销售费用率'],['可控利润率'],['销售利润率'] ;\\n['ACT','WIP','平台服务费-月租费'] => ['佣金费'],['佣金费率'],['销售费用'],['销售费用率'],['可控利润率'],['销售利润率'] ;\\n['ACT','WIP','平台服务费-优质服务费'] => ['佣金费'],['佣金费率'],['销售费用'],['销售费用率'],['可控利润率'],['销售利润率'] ;\\n\\n['ACT','WIP','平台服务费-限时限量促销费'] => ['佣金费'],['佣金费率'],['销售费用'],['销售费用率'],['可控利润率'],['销售利润率'] ;\\n['ACT','WIP','其他推广费-优惠券费用'] => ['佣金费'],['佣金费率'],['销售费用'],['销售费用率'],['可控利润率'],['销售利润率'] ;\\n['ACT','WIP','其他推广费-秒杀费'] => ['佣金费'],['佣金费率'],['销售费用'],['销售费用率'],['可控利润率'],['销售利润率'] ;\\n\\n['ACT','WIP','FBA费用-月度仓储费'] => ['佣金费'],['佣金费率'],['销售费用'],['销售费用率'],['可控利润率'],['销售利润率'] ;\\n['ACT','WIP','FBA费用-销毁移除费'] => ['佣金费'],['佣金费率'],['销售费用'],['销售费用率'],['可控利润率'],['销售利润率'] ;\\n['ACT','WIP','FBA费用-退货移除费'] => ['佣金费'],['佣金费率'],['销售费用'],['销售费用率'],['可控利润率'],['销售利润率'] ;\\n\\n['ACT','WIP','FBA费用-长期仓储费'] => ['佣金费'],['佣金费率'],['销售费用'],['销售费用率'],['可控利润率'],['销售利润率'] ;\\n['ACT','WIP','FBA费用-贴标费'] => ['佣金费'],['佣金费率'],['销售费用'],['销售费用率'],['可控利润率'],['销售利润率'] ;\\n['ACT','WIP','FBA费用-库存丢失费'] => ['佣金费'],['佣金费率'],['销售费用'],['销售费用率'],['可控利润率'],['销售利润率'] ;\\n['ACT','WIP','FBA费用-AMZ索赔退款'] => ['佣金费'],['佣金费率'],['销售费用'],['销售费用率'],['可控利润率'],['销售利润率'] ;\\n\\n\\n['ACT','WIP','管理费用'] => ['可控利润'],['可控利润率'];\\n\\n###allocation FBA Monthly Storage Fee and ADs Fee and shop rent fee\\n['No LSKU','FBA费用-月度仓储费'] => ['AMZ月度仓储费分摊'] ;\\n['销售数量(不含退货)'] => ['AMZ月度仓储费分摊'] ;\\n['No LSKU','平台服务费-广告费'] => ['AMZ站内广告费分摊'] ;\\n['销售数量(不含退货)'] => ['AMZ站内广告费分摊'] ;\\n['No LSKU','平台服务费-月租费'] => ['AMZ店铺月租费分摊'] ;\\n['销售数量(不含退货)'] => ['AMZ店铺月租费分摊'] ;\\n\\n['ZL Amazon Management Report Item':'销售-产品收入'] => ['ZL Amazon Management Report Item':'管理费用'] ;\\n\\n#['FBA配送费'] => ['FBA配送费率'];\\n#['销售-佣金'] => ['销售费用率'];\\n#['退款-佣金'] => ['销售费用率'];\\n\\n# feeder for intercube\\n#['SOB'] => ['All Currency List'];\\n\\n\\n\\n# Cal 销售成本 \\n\\n['销售数量'] => ['销售成本'];\\n['退货数量(SC)'] => ['退货成本'];\\n\\n# Feed \\\"ZL Sales Analysis\\\"\\n['Net Sales Units','Amount'] => DB('ZL Sales Analysis', !Scenario, !SA Year, !SA Month, !Version, !COA Company, \\n                                      !Country, !Product, !Data Source Payments Data Report, 'Sales Units', 'Base Period');\\n['Revenue (no.Tax)','Amount'] =>DB('ZL Sales Analysis', !Scenario, !SA Year, !SA Month, !Version, !COA Company, \\n                                      !Country, !Product, !Data Source Payments Data Report, 'Sales', 'Base Period');\\n['Revenue (no.Tax)','Amount'] =>DB('ZL Sales Analysis', !Scenario, !SA Year, !SA Month, !Version, !COA Company, \\n                                      !Country, !Product, !Data Source Payments Data Report, 'Avg Price', 'Base Period');\"},\n",
       " Cube:{\"Name\": \"ZL Amazon Payments Data STG\", \"Dimensions@odata.bind\": [\"Dimensions('Scenario')\", \"Dimensions('SA Year')\", \"Dimensions('SA Month')\", \"Dimensions('Version')\", \"Dimensions('Order Year')\", \"Dimensions('Month Day')\", \"Dimensions('COA Company')\", \"Dimensions('Currency')\", \"Dimensions('Country')\", \"Dimensions('Region State')\", \"Dimensions('Region City')\", \"Dimensions('Platform')\", \"Dimensions('Behavior')\", \"Dimensions('Product')\", \"Dimensions('Data Source Payments Data STG')\", \"Dimensions('M ZL Amazon Payments Data STG')\"]},\n",
       " Cube:{\"Name\": \"ZL Product Analysis\", \"Dimensions@odata.bind\": [\"Dimensions('Scenario')\", \"Dimensions('SA Year')\", \"Dimensions('SA Month')\", \"Dimensions('Version')\", \"Dimensions('COA Company')\", \"Dimensions('Region')\", \"Dimensions('Product')\", \"Dimensions('Product Analysis Method')\", \"Dimensions('Product Status')\", \"Dimensions('Product Segement')\", \"Dimensions('Product Segement Basis')\", \"Dimensions('M Reference')\", \"Dimensions('M ZL Product Analysis')\"], \"Rules\": \"#Feedstrings;\\n#SkipCheck;\\n#\\n#['Unspec Segement','M ZL Product Analysis':{'Sales','Sales Units','Sales Cost','Sales Ratio'}]=N:Stet;\\n#['001 - A类','M ZL Product Analysis':{'Sales','Sales Units','Sales Cost','Sales Ratio'}] = N:\\n#If(  \\n#    DB('ZL Product Analysis', !Scenario, !SA Year, !SA Month, !Version, !COA Company, !Region, !Product, !Product Analysis Method, \\n#    !Product Status, 'Unspec Segement', !Product Segement Basis, !M Reference, 'Product Sege Flag') @= 'A',\\n#      DB('ZL Product Analysis', !Scenario, !SA Year, !SA Month, !Version, !COA Company, !Region, !Product, !Product Analysis Method, \\n#      !Product Status, 'Unspec Segement', !Product Segement Basis, !M Reference, !M ZL Product Analysis)\\n#      ,Continue);\\n#\\n#['002 - B类','M ZL Product Analysis':{'Sales','Sales Units','Sales Cost','Sales Ratio'}] = N:\\n#If(  \\n#    DB('ZL Product Analysis', !Scenario, !SA Year, !SA Month, !Version, !COA Company, !Region, !Product, !Product Analysis Method, \\n#    !Product Status, 'Unspec Segement', !Product Segement Basis, !M Reference, 'Product Sege Flag') @= 'B',\\n#      DB('ZL Product Analysis', !Scenario, !SA Year, !SA Month, !Version, !COA Company, !Region, !Product, !Product Analysis Method, \\n#      !Product Status, 'Unspec Segement', !Product Segement Basis, !M Reference, !M ZL Product Analysis)\\n#      ,Continue);\\n#\\n#['003 - C类','M ZL Product Analysis':{'Sales','Sales Units','Sales Cost','Sales Ratio'}] = N:\\n#If(  \\n#    DB('ZL Product Analysis', !Scenario, !SA Year, !SA Month, !Version, !COA Company, !Region, !Product, !Product Analysis Method, \\n#    !Product Status, 'Unspec Segement', !Product Segement Basis, !M Reference, 'Product Sege Flag') @= 'C',\\n#      DB('ZL Product Analysis', !Scenario, !SA Year, !SA Month, !Version, !COA Company, !Region, !Product, !Product Analysis Method, \\n#      !Product Status, 'Unspec Segement', !Product Segement Basis, !M Reference, !M ZL Product Analysis)\\n#      ,Continue);\\n#['004 - D类','M ZL Product Analysis':{'Sales','Sales Units','Sales Cost','Sales Ratio'}] = N:\\n#If(  \\n#    DB('ZL Product Analysis', !Scenario, !SA Year, !SA Month, !Version, !COA Company, !Region, !Product, !Product Analysis Method, \\n#    !Product Status, 'Unspec Segement', !Product Segement Basis, !M Reference, 'Product Sege Flag') @= 'D',\\n#      DB('ZL Product Analysis', !Scenario, !SA Year, !SA Month, !Version, !COA Company, !Region, !Product, !Product Analysis Method, \\n#      !Product Status, 'Unspec Segement', !Product Segement Basis, !M Reference, !M ZL Product Analysis)\\n#      ,Continue);\\n#['005 - E类','M ZL Product Analysis':{'Sales','Sales Units','Sales Cost','Sales Ratio'}] = N:\\n#If(  \\n#    DB('ZL Product Analysis', !Scenario, !SA Year, !SA Month, !Version, !COA Company, !Region, !Product, !Product Analysis Method, \\n#    !Product Status, 'Unspec Segement', !Product Segement Basis, !M Reference, 'Product Sege Flag') @= 'E',\\n#      DB('ZL Product Analysis', !Scenario, !SA Year, !SA Month, !Version, !COA Company, !Region, !Product, !Product Analysis Method, \\n#      !Product Status, 'Unspec Segement', !Product Segement Basis, !M Reference, !M ZL Product Analysis)\\n#      ,Continue);\\n#\\n#['Unspec Segement','M ZL Product Analysis':{'Product Sege Flag'}]=S:Stet;\\n#['001 - A类','M ZL Product Analysis':{'Product Sege Flag'}] = S:\\n#If(  \\n#    DB('ZL Product Analysis', !Scenario, !SA Year, !SA Month, !Version, !COA Company, !Region, !Product, !Product Analysis Method, \\n#    !Product Status, 'Unspec Segement', !Product Segement Basis, !M Reference, 'Product Sege Flag') @= 'A',\\n#      DB('ZL Product Analysis', !Scenario, !SA Year, !SA Month, !Version, !COA Company, !Region, !Product, !Product Analysis Method, \\n#      !Product Status, 'Unspec Segement', !Product Segement Basis, !M Reference, !M ZL Product Analysis)\\n#      ,Continue);\\n#['002 - B类','M ZL Product Analysis':{'Product Sege Flag'}] = S:\\n#If(  \\n#    DB('ZL Product Analysis', !Scenario, !SA Year, !SA Month, !Version, !COA Company, !Region, !Product, !Product Analysis Method, \\n#    !Product Status, 'Unspec Segement', !Product Segement Basis, !M Reference, 'Product Sege Flag') @= 'B',\\n#      DB('ZL Product Analysis', !Scenario, !SA Year, !SA Month, !Version, !COA Company, !Region, !Product, !Product Analysis Method, \\n#      !Product Status, 'Unspec Segement', !Product Segement Basis, !M Reference, !M ZL Product Analysis)\\n#      ,Continue);\\n#['003 - C类','M ZL Product Analysis':{'Product Sege Flag'}] = S:\\n#If(  \\n#    DB('ZL Product Analysis', !Scenario, !SA Year, !SA Month, !Version, !COA Company, !Region, !Product, !Product Analysis Method, \\n#    !Product Status, 'Unspec Segement', !Product Segement Basis, !M Reference, 'Product Sege Flag') @= 'C',\\n#      DB('ZL Product Analysis', !Scenario, !SA Year, !SA Month, !Version, !COA Company, !Region, !Product, !Product Analysis Method, \\n#      !Product Status, 'Unspec Segement', !Product Segement Basis, !M Reference, !M ZL Product Analysis)\\n#      ,Continue);\\n#['004 - D类','M ZL Product Analysis':{'Product Sege Flag'}] = S:\\n#If(  \\n#    DB('ZL Product Analysis', !Scenario, !SA Year, !SA Month, !Version, !COA Company, !Region, !Product, !Product Analysis Method, \\n#    !Product Status, 'Unspec Segement', !Product Segement Basis, !M Reference, 'Product Sege Flag') @= 'D',\\n#      DB('ZL Product Analysis', !Scenario, !SA Year, !SA Month, !Version, !COA Company, !Region, !Product, !Product Analysis Method, \\n#      !Product Status, 'Unspec Segement', !Product Segement Basis, !M Reference, !M ZL Product Analysis)\\n#      ,Continue);\\n#['005 - E类','M ZL Product Analysis':{'Product Sege Flag'}] = S:\\n#If(  \\n#    DB('ZL Product Analysis', !Scenario, !SA Year, !SA Month, !Version, !COA Company, !Region, !Product, !Product Analysis Method, \\n#    !Product Status, 'Unspec Segement', !Product Segement Basis, !M Reference, 'Product Sege Flag') @= 'E',\\n#      DB('ZL Product Analysis', !Scenario, !SA Year, !SA Month, !Version, !COA Company, !Region, !Product, !Product Analysis Method, \\n#      !Product Status, 'Unspec Segement', !Product Segement Basis, !M Reference, !M ZL Product Analysis)\\n#      ,Continue);\\n#Feeders;\\n#['Unspec Segement']=>['001 - A类'],['002 - B类'],['003 - C类'],['004 - D类'],['005 - E类'];\\n\\n\\n\\n\\n\\nFeedstrings;\\nSkipCheck;\\n\\n['Unspec Segement','M ZL Product Analysis':{'Sales','Sales Units','Sales Cost','Sales Ratio'}]=N:Stet;\\n['001 - A类','M ZL Product Analysis':{'Sales','Sales Units','Sales Cost','Sales Ratio'}] = N:\\nIf(  \\n    DB('ZL Product Analysis', !Scenario, !SA Year, !SA Month, !Version, !COA Company, !Region, !Product, !Product Analysis Method, \\n    !Product Status, 'Unspec Segement', !Product Segement Basis, !M Reference, 'Product Sege Flag') @= 'A',\\n      DB('ZL Product Analysis', !Scenario, !SA Year, !SA Month, !Version, !COA Company, !Region, !Product, !Product Analysis Method, \\n      !Product Status, 'Unspec Segement', !Product Segement Basis, !M Reference, !M ZL Product Analysis)\\n      ,Continue);\\n\\n['002 - B类','M ZL Product Analysis':{'Sales','Sales Units','Sales Cost','Sales Ratio'}] = N:\\nIf(  \\n    DB('ZL Product Analysis', !Scenario, !SA Year, !SA Month, !Version, !COA Company, !Region, !Product, !Product Analysis Method, \\n    !Product Status, 'Unspec Segement', !Product Segement Basis, !M Reference, 'Product Sege Flag') @= 'B',\\n      DB('ZL Product Analysis', !Scenario, !SA Year, !SA Month, !Version, !COA Company, !Region, !Product, !Product Analysis Method, \\n      !Product Status, 'Unspec Segement', !Product Segement Basis, !M Reference, !M ZL Product Analysis)\\n      ,Continue);\\n\\n['003 - C类','M ZL Product Analysis':{'Sales','Sales Units','Sales Cost','Sales Ratio'}] = N:\\nIf(  \\n    DB('ZL Product Analysis', !Scenario, !SA Year, !SA Month, !Version, !COA Company, !Region, !Product, !Product Analysis Method, \\n    !Product Status, 'Unspec Segement', !Product Segement Basis, !M Reference, 'Product Sege Flag') @= 'C',\\n      DB('ZL Product Analysis', !Scenario, !SA Year, !SA Month, !Version, !COA Company, !Region, !Product, !Product Analysis Method, \\n      !Product Status, 'Unspec Segement', !Product Segement Basis, !M Reference, !M ZL Product Analysis)\\n      ,Continue);\\n['004 - D类','M ZL Product Analysis':{'Sales','Sales Units','Sales Cost','Sales Ratio'}] = N:\\nIf(  \\n    DB('ZL Product Analysis', !Scenario, !SA Year, !SA Month, !Version, !COA Company, !Region, !Product, !Product Analysis Method, \\n    !Product Status, 'Unspec Segement', !Product Segement Basis, !M Reference, 'Product Sege Flag') @= 'D',\\n      DB('ZL Product Analysis', !Scenario, !SA Year, !SA Month, !Version, !COA Company, !Region, !Product, !Product Analysis Method, \\n      !Product Status, 'Unspec Segement', !Product Segement Basis, !M Reference, !M ZL Product Analysis)\\n      ,Continue);\\n['005 - E类','M ZL Product Analysis':{'Sales','Sales Units','Sales Cost','Sales Ratio'}] = N:\\nIf(  \\n    DB('ZL Product Analysis', !Scenario, !SA Year, !SA Month, !Version, !COA Company, !Region, !Product, !Product Analysis Method, \\n    !Product Status, 'Unspec Segement', !Product Segement Basis, !M Reference, 'Product Sege Flag') @= 'E',\\n      DB('ZL Product Analysis', !Scenario, !SA Year, !SA Month, !Version, !COA Company, !Region, !Product, !Product Analysis Method, \\n      !Product Status, 'Unspec Segement', !Product Segement Basis, !M Reference, !M ZL Product Analysis)\\n      ,Continue);\\n\\n['Unspec Segement','M ZL Product Analysis':{'Product Sege Flag'}]=S:Stet;\\n['001 - A类','M ZL Product Analysis':{'Product Sege Flag'}] = S:\\nIf(  \\n    DB('ZL Product Analysis', !Scenario, !SA Year, !SA Month, !Version, !COA Company, !Region, !Product, !Product Analysis Method, \\n    !Product Status, 'Unspec Segement', !Product Segement Basis, !M Reference, 'Product Sege Flag') @= 'A',\\n      DB('ZL Product Analysis', !Scenario, !SA Year, !SA Month, !Version, !COA Company, !Region, !Product, !Product Analysis Method, \\n      !Product Status, 'Unspec Segement', !Product Segement Basis, !M Reference, !M ZL Product Analysis)\\n      ,Continue);\\n['002 - B类','M ZL Product Analysis':{'Product Sege Flag'}] = S:\\nIf(  \\n    DB('ZL Product Analysis', !Scenario, !SA Year, !SA Month, !Version, !COA Company, !Region, !Product, !Product Analysis Method, \\n    !Product Status, 'Unspec Segement', !Product Segement Basis, !M Reference, 'Product Sege Flag') @= 'B',\\n      DB('ZL Product Analysis', !Scenario, !SA Year, !SA Month, !Version, !COA Company, !Region, !Product, !Product Analysis Method, \\n      !Product Status, 'Unspec Segement', !Product Segement Basis, !M Reference, !M ZL Product Analysis)\\n      ,Continue);\\n['003 - C类','M ZL Product Analysis':{'Product Sege Flag'}] = S:\\nIf(  \\n    DB('ZL Product Analysis', !Scenario, !SA Year, !SA Month, !Version, !COA Company, !Region, !Product, !Product Analysis Method, \\n    !Product Status, 'Unspec Segement', !Product Segement Basis, !M Reference, 'Product Sege Flag') @= 'C',\\n      DB('ZL Product Analysis', !Scenario, !SA Year, !SA Month, !Version, !COA Company, !Region, !Product, !Product Analysis Method, \\n      !Product Status, 'Unspec Segement', !Product Segement Basis, !M Reference, !M ZL Product Analysis)\\n      ,Continue);\\n['004 - D类','M ZL Product Analysis':{'Product Sege Flag'}] = S:\\nIf(  \\n    DB('ZL Product Analysis', !Scenario, !SA Year, !SA Month, !Version, !COA Company, !Region, !Product, !Product Analysis Method, \\n    !Product Status, 'Unspec Segement', !Product Segement Basis, !M Reference, 'Product Sege Flag') @= 'D',\\n      DB('ZL Product Analysis', !Scenario, !SA Year, !SA Month, !Version, !COA Company, !Region, !Product, !Product Analysis Method, \\n      !Product Status, 'Unspec Segement', !Product Segement Basis, !M Reference, !M ZL Product Analysis)\\n      ,Continue);\\n['005 - E类','M ZL Product Analysis':{'Product Sege Flag'}] = S:\\nIf(  \\n    DB('ZL Product Analysis', !Scenario, !SA Year, !SA Month, !Version, !COA Company, !Region, !Product, !Product Analysis Method, \\n    !Product Status, 'Unspec Segement', !Product Segement Basis, !M Reference, 'Product Sege Flag') @= 'E',\\n      DB('ZL Product Analysis', !Scenario, !SA Year, !SA Month, !Version, !COA Company, !Region, !Product, !Product Analysis Method, \\n      !Product Status, 'Unspec Segement', !Product Segement Basis, !M Reference, !M ZL Product Analysis)\\n      ,Continue);\\nFeeders;\\n['Unspec Segement']=>['001 - A类'],['002 - B类'],['003 - C类'],['004 - D类'],['005 - E类'];\"},\n",
       " Cube:{\"Name\": \"ZL Product Analysis Config\", \"Dimensions@odata.bind\": [\"Dimensions('Scenario')\", \"Dimensions('SA Year')\", \"Dimensions('SA Month')\", \"Dimensions('Version')\", \"Dimensions('COA Company')\", \"Dimensions('Region')\", \"Dimensions('Product Analysis Method')\", \"Dimensions('Product Segement')\", \"Dimensions('Product Segement Basis')\", \"Dimensions('M ZL Product Analysis Config')\"], \"Rules\": \"Feedstrings;\\nSkipcheck;\\n\\n\\n['Config Indicate'] = S:\\n  If( \\n  DB('ZL Product Analysis Config', !Scenario, !SA Year, !SA Month, !Version, !COA Company, !Region, \\n        !Product Analysis Method, !Product Segement, !Product Segement Basis, 'Start Ratio') @<> '',\\n  DB('ZL Product Analysis Config', !Scenario, !SA Year, !SA Month, !Version, !COA Company, !Region, \\n        !Product Analysis Method, !Product Segement, !Product Segement Basis, 'Start Ratio')| '% <= '| \\n  DB( '}ElementAttributes_Product Segement',!Product Segement,'Code and Desc') |'<= '|\\n  DB('ZL Product Analysis Config', !Scenario, !SA Year, !SA Month, !Version, !COA Company, !Region, \\n        !Product Analysis Method, !Product Segement, !Product Segement Basis, 'End Ratio') | '%',\\n        Continue);\\n      \\nFeeders;\\n\\n['End Ratio']=>['Config Indicate'];\"},\n",
       " Cube:{\"Name\": \"ZL Product Cost Plan\", \"Dimensions@odata.bind\": [\"Dimensions('Scenario')\", \"Dimensions('SA Year')\", \"Dimensions('SA Month')\", \"Dimensions('Version')\", \"Dimensions('COA Company')\", \"Dimensions('Product')\", \"Dimensions('Currency')\", \"Dimensions('Region')\", \"Dimensions('Supplier')\", \"Dimensions('Data Source ZL Product Cost Plan')\", \"Dimensions('M ZL Product Cost Plan')\"], \"Rules\": \"Feedstrings;\\nSkipcheck;\\n\\n\\n#['International Logistics Fee','Unspecified Country','M00','Unspecified Year','BUD'] = N: Roundp(Rand() * (30-10) + 10,0) ;\\n\\n[{'Purchase Cost','Domestic Logistics Fee'},{'US','UK','DE','FR','IT','ES','JP'},'M00','Unspecified Year','BUD'] = N:['No Country'];\\n\\nFeeders;\\n['No Country','Purchase Cost']=>['US','Purchase Cost'],['UK','Purchase Cost'],['DE','Purchase Cost'],\\n                                ['FR','Purchase Cost'],['IT','Purchase Cost'],['ES','Purchase Cost'],['JP','Purchase Cost'];\\n['No Country','Domestic Logistics Fee']=>['US','Domestic Logistics Fee'],['UK','Domestic Logistics Fee'],['DE','Domestic Logistics Fee'],\\n                                         ['FR','Domestic Logistics Fee'],['IT','Domestic Logistics Fee'],['ES','Domestic Logistics Fee'],['JP','Domestic Logistics Fee'];\"},\n",
       " Cube:{\"Name\": \"ZL Product Price Plan\", \"Dimensions@odata.bind\": [\"Dimensions('Scenario')\", \"Dimensions('SA Year')\", \"Dimensions('SA Month')\", \"Dimensions('Version')\", \"Dimensions('COA Company')\", \"Dimensions('Product')\", \"Dimensions('Currency')\", \"Dimensions('Region')\", \"Dimensions('Channel')\", \"Dimensions('Data Source ZL Product Price Plan')\", \"Dimensions('M ZL Product Price Plan')\"], \"Rules\": \"FeedStrings;\\nSkipCheck;\\n\\n# 按Rate计算出的价格<base USD>\\n['Price (Calc)'] =N: \\n['Price','USD'] * \\nDB('Exchange Rate', !Scenario, !SA Year, !SA Month, !Version, 'USD', !Currency, 'Average Rate')\\n;\\n\\n# 建议售价\\n['Price (Suggested)','USD'] = N:['Price'];\\n['Price (Suggested)'] =N: \\nIf( ['Price (Calc)'] > 10000,\\n  1000 * Round( ['Price (Calc)']\\\\1000+0.5), Continue);\\n['Price (Suggested)'] =N: \\nIf( ['Price (Calc)'] > 1000,\\n  100 * Round( ['Price (Calc)']\\\\100+0.5), Continue);\\n['Price (Suggested)'] =N: \\nIf( ['Price (Calc)'] > 100,\\n  10 * Round( ['Price (Calc)']\\\\10+0.5),Continue);\\n['Price (Suggested)'] =N: \\nIf( ['Price (Calc)'] > 10,\\n  Round( ['Price (Calc)']+0.5), Round( ['Price (Calc)']) );\\n\\n\\n\\n# 将Input的价格转成相当于USD的价格\\n['Price (USD Equivalent)','USD'] = N:['Price'];\\n['Price (USD Equivalent)'] = N:['Price'] * \\nDB('Exchange Rate', !Scenario, !SA Year, !SA Month, !Version, !Currency, 'USD', 'Average Rate')\\n;\\n\\n#['tyu'] = N:1;\\n\\nFeeders;\\n['Price','USD']=>['Price (USD Equivalent)','USD'],['Price (USD Equivalent)','GBP'],['Price (USD Equivalent)','EUR'],['Price (USD Equivalent)','JPY'],\\n['Price (Suggested)','USD'],['Price (Suggested)','GBP'],['Price (Suggested)','EUR'],['Price (Suggested)','JPY'],\\n['Price (Calc)','USD'],['Price (Calc)','GBP'],['Price (Calc)','EUR'],['Price (Calc)','JPY'];\\n\\n\\n\\n\"},\n",
       " Cube:{\"Name\": \"ZL Product Sales Plan\", \"Dimensions@odata.bind\": [\"Dimensions('Scenario')\", \"Dimensions('SA Year')\", \"Dimensions('SA Month')\", \"Dimensions('Version')\", \"Dimensions('COA Company')\", \"Dimensions('Business Unit')\", \"Dimensions('Product')\", \"Dimensions('Currency')\", \"Dimensions('Region')\", \"Dimensions('Channel')\", \"Dimensions('Customer')\", \"Dimensions('Data Source ZL Product Sales Plan')\", \"Dimensions('M ZL Product Sales Plan')\"], \"Rules\": \"Feedstrings;\\nSkipcheck;\\n\\n## ti load to \\\"Sales Units Transition\\\" so should transfer to integer\\n#['ACT Last Year','Sales Units'] = N:If(ElIsAnc('Scenario', 'All FCST Scenarios By YearMonth Natural', !Scenario)=0 \\n#& !Data Source ZL Product Sales Plan@<>'Timeseries' & !Data Source ZL Product Sales Plan@<>'Timeseries_predict' & !Data Source ZL Product Sales Plan@<>'Timeseries_seasonality'\\n#,Round( DB('ZL Product Sales Plan', !Scenario, !SA Year, !SA Month, !Version, !COA Company, !Business Unit, \\n#                                 !Product, !Currency, !Region, !Channel,!Customer, !Data Source ZL Product Sales Plan, 'Sales Units Transition'))\\n#                                 ,Continue);\\n                                                            \\n['WIP','M ZL Product Sales Plan':{'Sales Units','Sales'}] = N:\\nIf(ElIsAnc('Scenario', 'All FCST Scenarios By YearMonth Natural', !Scenario) = 1\\n  ,If( Numbr(AttrS('SA Month',!SA Month,'Idx00')) < Numbr(AttrS('SA Month',AttrS('Scenario',!Scenario,'Plan Month'),'Idx00')) & !SA Year @= AttrS('Scenario',!Scenario,'Plan Year') \\n        ,DB('ZL Product Sales Plan', 'ACT', !SA Year, !SA Month, !Version, !COA Company, !Business Unit, !Product, !Currency, !Region, !Channel, !Customer, !Data Source ZL Product Sales Plan, !M ZL Product Sales Plan)\\n  ,Continue)\\n,Continue);\\n\\n\\nFeeders;\\n#~~ simple but overfeeder\\n#['Base','WIP','ACT','M ZL Product Sales Plan':{'Sales Units','Sales'}] => ['Base','WIP','All FCST Scenarios By YearMonth Natural'];\\n\\n#~~ complex and OKfeeder\\n['Base','WIP','ACT','M ZL Product Sales Plan':{'Sales Units'},'M01'] =>['Base','WIP','FCST M01 CY2022','Sales Units','M01'];\\n['Base','WIP','ACT','M ZL Product Sales Plan':{'Sales Units'},'SA Month':{'M01','M02'}] =>['Base','WIP','FCST M02 CY2022','Sales Units','M02 YTD'];\\n['Base','WIP','ACT','M ZL Product Sales Plan':{'Sales Units'},'SA Month':{'M01','M02','M03'}] =>['Base','WIP','FCST M03 CY2022','Sales Units','M03 YTD'];\\n['Base','WIP','ACT','M ZL Product Sales Plan':{'Sales Units'},'SA Month':{'M01','M02','M03','M04'}] =>['Base','WIP','FCST M04 CY2022','Sales Units','M04 YTD'];\\n['Base','WIP','ACT','M ZL Product Sales Plan':{'Sales Units'},'SA Month':{'M01','M02','M03','M04','M05'}] =>['Base','WIP','FCST M05 CY2022','Sales Units','M05 YTD'];\\n['Base','WIP','ACT','M ZL Product Sales Plan':{'Sales Units'},'SA Month':{'M01','M02','M03','M04','M05','M06'}] =>['Base','WIP','FCST M06 CY2022','Sales Units','M06 YTD'];\\n['Base','WIP','ACT','M ZL Product Sales Plan':{'Sales Units'},'SA Month':{'M01','M02','M03','M04','M05','M06','M07'}] =>['Base','WIP','FCST M07 CY2022','Sales Units','M07 YTD'];\\n['Base','WIP','ACT','M ZL Product Sales Plan':{'Sales Units'},'SA Month':{'M01','M02','M03','M04','M05','M06','M07','M08'}] =>['Base','WIP','FCST M08 CY2022','Sales Units','M08 YTD'];\\n['Base','WIP','ACT','M ZL Product Sales Plan':{'Sales Units'},'SA Month':{'M01','M02','M03','M04','M05','M06','M07','M08','M09'}] =>['Base','WIP','FCST M09 CY2022','Sales Units','M09 YTD'];\\n['Base','WIP','ACT','M ZL Product Sales Plan':{'Sales Units'},'SA Month':{'M01','M02','M03','M04','M05','M06','M07','M08','M09','M10'}] =>['Base','WIP','FCST M10 CY2022','Sales Units','M10 YTD'];\\n['Base','WIP','ACT','M ZL Product Sales Plan':{'Sales Units'},'SA Month':{'M01','M02','M03','M04','M05','M06','M07','M08','M09','M10','M11'}] =>['Base','WIP','FCST M11 CY2022','Sales Units','M11 YTD'];\\n['Base','WIP','ACT','M ZL Product Sales Plan':{'Sales Units'},'SA Month':{'M01','M02','M03','M04','M05','M06','M07','M08','M09','M10','M11','M12'}] =>['Base','WIP','FCST M12 CY2022','Sales Units','M12 YTD'];\\n\"},\n",
       " Cube:{\"Name\": \"ZL Sale Plan Config\", \"Dimensions@odata.bind\": [\"Dimensions('Scenario')\", \"Dimensions('SA Year')\", \"Dimensions('SA Month')\", \"Dimensions('Version')\", \"Dimensions('Region')\", \"Dimensions('Channel')\", \"Dimensions('Product')\", \"Dimensions('M ZL Sale Plan Config')\"]},\n",
       " Cube:{\"Name\": \"ZL Sales Analysis\", \"Dimensions@odata.bind\": [\"Dimensions('Scenario')\", \"Dimensions('SA Year')\", \"Dimensions('SA Month')\", \"Dimensions('Version')\", \"Dimensions('COA Company')\", \"Dimensions('Country')\", \"Dimensions('Product')\", \"Dimensions('Data Source ZL Sales Analysis')\", \"Dimensions('M ZL Sales Analysis')\", \"Dimensions('M Reference')\"], \"Rules\": \"Feedstrings;\\nSkipCheck;\\n\\n##################################################\\n### Step 1.Get Sales Units / Sales / Stock\\n##################################################\\n## 暂时2022-2024年的销售额, 先不取\\\"ZL Amazon Payments Data Report\\\",到时用TI拿过来或者用RULE取过来\\n#['Sales Units','Base Period','Scenario':{'Forecast','BUD'},'SA Year':{'2022','2023','2024'}] =N:Stet;\\n## Forecast and Budget 2018-2021 get instead of input\\n#['Sales Units','Base Period','Scenario':{'Forecast','BUD'},'SA Year':{'2018','2019','2020','2021'}] = N:\\n#  DB('ZL Amazon Payments Data Report', !Scenario, !SA Year, !SA Month, !Version, !COA Company, 'CNY', !Country, !Product, 'All Platforms', \\n#  'Sales Units', !Data Source ZL Sales Analysis, 'Amount');\\n#\\n#['Sales','Base Period','Scenario':{'Forecast','BUD'},'SA Year':{'2018','2019','2020','2021'}] =N:\\n#  DB('ZL Amazon Payments Data Report', !Scenario, !SA Year, !SA Month, !Version, !COA Company, 'CNY', !Country, !Product, 'All Platforms', \\n#  'Revenue (no.Tax)', !Data Source ZL Sales Analysis, 'Amount');\\n##################################################\\n#  Get all ACT data 2018 - 2030\\n['M ZL Sales Analysis':'Sales Units','Base Period','SA Year':{'2018','2019','2020','2021'}] =N:\\n  DB('ZL Amazon Payments Data Report', !Scenario, !SA Year, !SA Month, !Version, !COA Company, 'CNY', !Country, !Product, 'All Platforms', \\n  'Sales Units', !Data Source ZL Sales Analysis, 'Amount');\\n\\n['M ZL Sales Analysis':'Sales','Base Period','SA Year':{'2018','2019','2020','2021'}] =N:\\n  DB('ZL Amazon Payments Data Report', !Scenario, !SA Year, !SA Month, !Version, !COA Company, 'CNY', !Country, !Product, 'All Platforms', \\n  'Revenue (no.Tax)', !Data Source ZL Sales Analysis, 'Amount');\\n\\n##################################################\\n### Step 2.Start C Level Rule ( M Reference )\\n###########\\n### M Reference 其实是在讲Version和其他维度的数直接在这个维度写出来,C Level Rule\\n### 本质上就是在不让C Level向上汇总,最后用的是Rule强制计算的结果覆盖掉C Level汇总结果,干扰 C Level\\n### 本来Budget的数对比Act的数需要将Scenario/Version拖到Column/Row,现在直接将Budget的数通过写Rule\\n### 拿到CoLumn的M Reference中的某个C 元素里面,展开C是没有意义的,这样很方便对比\\n##########\\n##################################################\\n['M Reference':'P-1'] =C:\\n  DB('ZL Sales Analysis', !Scenario, \\n                                    DB('Sys Lookup Year Month', !SA Year | !SA Month , 'm1', 'Year'),\\n                                    DB('Sys Lookup Year Month', !SA Year | !SA Month , 'm1', 'Month'), \\n    !Version, !COA Company, !Country, !Product, !Data Source ZL Sales Analysis, !M ZL Sales Analysis, 'Base Period');\\n['M Reference':'P-2'] =C:\\n  DB('ZL Sales Analysis', !Scenario, \\n                                    DB('Sys Lookup Year Month', !SA Year | !SA Month , 'm2', 'Year'),\\n                                    DB('Sys Lookup Year Month', !SA Year | !SA Month , 'm2', 'Month'), \\n    !Version, !COA Company, !Country, !Product, !Data Source ZL Sales Analysis, !M ZL Sales Analysis, 'Base Period');    \\n['M Reference':'P-3'] =C:\\n  DB('ZL Sales Analysis', !Scenario, \\n                                    DB('Sys Lookup Year Month', !SA Year | !SA Month , 'm3', 'Year'),\\n                                    DB('Sys Lookup Year Month', !SA Year | !SA Month , 'm3', 'Month'), \\n    !Version, !COA Company, !Country, !Product, !Data Source ZL Sales Analysis, !M ZL Sales Analysis, 'Base Period');\\n['M Reference':'P-4'] =C:\\n  DB('ZL Sales Analysis', !Scenario, \\n                                    DB('Sys Lookup Year Month', !SA Year | !SA Month , 'm4', 'Year'),\\n                                    DB('Sys Lookup Year Month', !SA Year | !SA Month , 'm4', 'Month'), \\n    !Version, !COA Company, !Country, !Product, !Data Source ZL Sales Analysis, !M ZL Sales Analysis, 'Base Period');      \\n\\n['M Reference':'P-5'] =C:\\n  DB('ZL Sales Analysis', !Scenario, \\n                                    DB('Sys Lookup Year Month', !SA Year | !SA Month , 'm5', 'Year'),\\n                                    DB('Sys Lookup Year Month', !SA Year | !SA Month , 'm5', 'Month'), \\n    !Version, !COA Company, !Country, !Product, !Data Source ZL Sales Analysis, !M ZL Sales Analysis, 'Base Period');\\n['M Reference':'P-6'] =C:\\n  DB('ZL Sales Analysis', !Scenario, \\n                                    DB('Sys Lookup Year Month', !SA Year | !SA Month , 'm6', 'Year'),\\n                                    DB('Sys Lookup Year Month', !SA Year | !SA Month , 'm6', 'Month'), \\n    !Version, !COA Company, !Country, !Product, !Data Source ZL Sales Analysis, !M ZL Sales Analysis, 'Base Period');    \\n['M Reference':'P-7'] =C:\\n  DB('ZL Sales Analysis', !Scenario, \\n                                    DB('Sys Lookup Year Month', !SA Year | !SA Month , 'm7', 'Year'),\\n                                    DB('Sys Lookup Year Month', !SA Year | !SA Month , 'm7', 'Month'), \\n    !Version, !COA Company, !Country, !Product, !Data Source ZL Sales Analysis, !M ZL Sales Analysis, 'Base Period');\\n['M Reference':'P-8'] =C:\\n  DB('ZL Sales Analysis', !Scenario, \\n                                    DB('Sys Lookup Year Month', !SA Year | !SA Month , 'm8', 'Year'),\\n                                    DB('Sys Lookup Year Month', !SA Year | !SA Month , 'm8', 'Month'), \\n    !Version, !COA Company, !Country, !Product, !Data Source ZL Sales Analysis, !M ZL Sales Analysis, 'Base Period');\\n['M Reference':'P-9'] =C:\\n  DB('ZL Sales Analysis', !Scenario, \\n                                    DB('Sys Lookup Year Month', !SA Year | !SA Month , 'm9', 'Year'),\\n                                    DB('Sys Lookup Year Month', !SA Year | !SA Month , 'm9', 'Month'), \\n    !Version, !COA Company, !Country, !Product, !Data Source ZL Sales Analysis, !M ZL Sales Analysis, 'Base Period');\\n['M Reference':'P-10'] =C:\\n  DB('ZL Sales Analysis', !Scenario, \\n                                    DB('Sys Lookup Year Month', !SA Year | !SA Month , 'm10', 'Year'),\\n                                    DB('Sys Lookup Year Month', !SA Year | !SA Month , 'm10', 'Month'), \\n    !Version, !COA Company, !Country, !Product, !Data Source ZL Sales Analysis, !M ZL Sales Analysis, 'Base Period');    \\n['M Reference':'P-11'] =C:\\n  DB('ZL Sales Analysis', !Scenario, \\n                                    DB('Sys Lookup Year Month', !SA Year | !SA Month , 'm11', 'Year'),\\n                                    DB('Sys Lookup Year Month', !SA Year | !SA Month , 'm11', 'Month'), \\n    !Version, !COA Company, !Country, !Product, !Data Source ZL Sales Analysis, !M ZL Sales Analysis, 'Base Period');\\n\\n#3M Total ( 最近3个月total )\\n#3M Avg\\n['M Reference':'3M Total'] =C:['M Reference':'Base Period'] + ['M Reference':'P-1']+['M Reference':'P-2'];\\n['M Reference':'3M Avg'] =C: ['M Reference':'3M Total'] \\\\ 3;\\n\\n#6M Total\\n#6M Avg\\n['M Reference':'6M Total'] =C:['M Reference':'3M Total']+['M Reference':'P-3']+['M Reference':'P-4']+['M Reference':'P-5'];\\n['M Reference':'6M Avg'] =C: ['M Reference':'6M Total'] \\\\ 6;\\n\\n#12M Total\\n#12M Avg\\n['M Reference':'12M Total'] =C:['M Reference':'6M Total']+['M Reference':'P-6']+['M Reference':'P-7']+\\n                                ['M Reference':'P-8']+['M Reference':'P-9']+['M Reference':'P-10']+['M Reference':'P-11'];\\n['M Reference':'12M Avg'] =C: ['M Reference':'12M Total'] \\\\ 12;\\n\\n\\n#LM ( 最近1个月 )\\n['M Reference':'LM'] =C:['M Reference':'P-1'];\\n['M Reference':'vs. LM'] =C:['Base Period'] - ['M Reference':'LM'];\\n['M Reference':'vs. LM (%)'] =C:['M Reference':'vs. LM'] \\\\ ['M Reference':'LM'];\\n\\n#LY\\n['M Reference':'LY'] =C:['M Reference':'P-11'];\\n['M Reference':'vs. LY'] =C:['Base Period'] - ['M Reference':'LY'];\\n['M Reference':'vs. LY (%)'] =C:['M Reference':'vs. LY'] \\\\ ['M Reference':'LY'];\\n\\n#Budget\\n['M Reference':'Budget'] =C:\\n  DB('ZL Sales Analysis', 'Budget', \\n                                  !SA Year ,\\n                                  !SA Month , \\n    !Version, !COA Company, !Country, !Product, !Data Source ZL Sales Analysis, !M ZL Sales Analysis, 'Base Period');\\n['M Reference':'vs. Budget'] =C:['Base Period'] - ['M Reference':'Budget'];\\n['M Reference':'vs. Budget (%)'] =C:['M Reference':'vs. Budget'] \\\\ ['M Reference':'Budget'];\\n\\n#Forecast\\n['M Reference':'Forecast'] =C:\\n  DB('ZL Sales Analysis', 'Forecast', \\n                                  !SA Year ,\\n                                  !SA Month , \\n    !Version, !COA Company, !Country, !Product, !Data Source ZL Sales Analysis, !M ZL Sales Analysis, 'Base Period');\\n['M Reference':'vs. Forecast'] =C:['Base Period'] - ['M Reference':'Forecast'];\\n['M Reference':'vs. Forecast (%)'] =C:['M Reference':'vs. Forecast'] \\\\ ['M Reference':'Forecast'];\\n\\n#YTD\\n['M Reference':'YTD'] =C:\\n  DB('ZL Sales Analysis', !Scenario, \\n                                  !SA Year ,\\n                                  !SA Month | ' YTD' , \\n    !Version, !COA Company, !Country, !Product, !Data Source ZL Sales Analysis, !M ZL Sales Analysis, 'Base Period');\\n\\n#LY YTD\\n['M Reference':'LY YTD'] =C:\\n  DB('ZL Sales Analysis', !Scenario, \\n                                  DB('Sys Lookup Year Month', !SA Year | !SA Month , 'm12', 'Year'),\\n                                  !SA Month | ' YTD' , \\n    !Version, !COA Company, !Country, !Product, !Data Source ZL Sales Analysis, !M ZL Sales Analysis, 'Base Period');\\n## Special treatment: Using YTD - LY YTD\\n['M Reference':'vs. LY YTD'] =C:['M Reference':'YTD'] - ['M Reference':'LY YTD'];\\n['M Reference':'vs. LY YTD (%)'] =C:['M Reference':'vs. LY YTD'] \\\\ ['M Reference':'LY YTD'];\\n\\n#QTD\\n['M Reference':'QTD'] =C:\\n  DB('ZL Sales Analysis', !Scenario, \\n                                  !SA Year,\\n                                  !SA Month | ' QTD' , \\n    !Version, !COA Company, !Country, !Product, !Data Source ZL Sales Analysis, !M ZL Sales Analysis, 'Base Period');\\n    \\n#LY QTD   \\n['M Reference':'LY QTD'] =C:\\n  DB('ZL Sales Analysis', !Scenario, \\n                                  DB('Sys Lookup Year Month', !SA Year | !SA Month , 'm12', 'Year'),\\n                                  !SA Month | ' QTD' , \\n    !Version, !COA Company, !Country, !Product, !Data Source ZL Sales Analysis, !M ZL Sales Analysis, 'Base Period');\\n##  Special treatment: Using QTD - LY QTD\\n['M Reference':'vs. LY QTD'] =C:['M Reference':'QTD'] - ['M Reference':'LY QTD'];\\n['M Reference':'vs. LY QTD (%)'] =C:['M Reference':'vs. LY QTD'] \\\\ ['M Reference':'LY QTD'];\\n\\n##################################################\\n### Step 3.Get  Stock Management\\n##################################################\\n# Forecast initial YearMonth\\n['Scenario':{'Forecast','BUD','ACT'},'Base Period','Stock Opening Units','2018','M01'] = N:Stet;\\n# Currenct YearMonth Opening Units = Last YearMonth Closing Units\\n['Scenario':{'Forecast','BUD','ACT'},'Base Period','Stock Opening Units'] = N:\\n  DB('ZL Sales Analysis', !Scenario, \\n         DB('Sys Lookup Year Month', !SA Year | !SA Month , 'm1', 'Year'),\\n        DB('Sys Lookup Year Month', !SA Year | !SA Month , 'm1', 'Month'), \\n        !Version, !COA Company, !Country, !Product, !Data Source ZL Sales Analysis, 'Stock Closing Units', !M Reference);\\n\\n# Cal How Many Units to Purchase, if Safety Stock Units < Currenct Stock Units, so should purchase 0 because of can't be negative\\n['Scenario':{'Forecast','BUD','ACT'},'Base Period','Purchase Units'] = N:\\n  If( ['Safety Stock Units'] + ['Sales Units'] - ['Stock Opening Units'] <= 0,\\n      0,\\n      ['Safety Stock Units'] + ['Sales Units'] - ['Stock Opening Units']);\\n\\n\\n\\n# handle Q1-Q4/half year and other C Level Month\\n['Scenario':{'Forecast','BUD','ACT'},'Base Period','Stock Opening Units'] = C:\\n  If( ELlev('SA Month', !SA Month) > 0,\\n      DB('ZL Sales Analysis', !Scenario, \\n          !SA Year, \\n          ELComp('SA Month',!SA Month, 1),\\n          !Version, !COA Company, !Country, !Product, !Data Source ZL Sales Analysis, !M ZL Sales Analysis, !M Reference),\\n    Continue);\\n['Scenario':{'Forecast','BUD','ACT'},'Base Period','Stock Closing Units'] = C:\\n  If( ELlev('SA Month', !SA Month) > 0,\\n      DB('ZL Sales Analysis', !Scenario, \\n          !SA Year, \\n          ELComp('SA Month',!SA Month, ElCompN('SA Month',!SA Month) ),\\n          !Version, !COA Company, !Country, !Product, !Data Source ZL Sales Analysis, !M ZL Sales Analysis, !M Reference),\\n    Continue);\\n\\n### Shoule Work Well on C Level Q1..Q4 and so on, hardcode method\\n#['Version':'Forecast','Q1', 'Stock Opening Units'] = C:['Jan'];\\n#['Version':'Forecast','Q2', 'Stock Opening Units'] = C:['Apr'];\\n#['Version':'Forecast','Q3', 'Stock Opening Units'] = C:['Jul'];\\n#['Version':'Forecast','Q4', 'Stock Opening Units'] = C:['Oct'];\\n#['Version':'Forecast','Q1', 'Stock Closing Units'] = C:['Jan'];\\n#['Version':'Forecast','Q2', 'Stock Closing Units'] = C:['Apr'];\\n#['Version':'Forecast','Q3', 'Stock Closing Units'] = C:['Jul'];\\n#['Version':'Forecast','Q4', 'Stock Closing Units'] = C:['Oct'];\\n\\n# Cal Last Month Sales\\n['Scenario':{'Forecast','BUD','ACT'},'Base Period','Sales Units (M-1)']=C:\\n  DB('ZL Sales Analysis', !Scenario, \\n                                    DB('Sys Lookup Year Month', !SA Year | !SA Month , 'm1', 'Year'),\\n                                    DB('Sys Lookup Year Month', !SA Year | !SA Month , 'm1', 'Month'), \\n          !Version, !COA Company, !Country, !Product, !Data Source ZL Sales Analysis, 'Sales Units', !M Reference);\\n\\n['Scenario':{'Forecast','BUD','ACT'},'Base Period','Sales Units (M-2)']=C:\\n  DB('ZL Sales Analysis', !Scenario, \\n                                    DB('Sys Lookup Year Month', !SA Year | !SA Month , 'm2', 'Year'),\\n                                    DB('Sys Lookup Year Month', !SA Year | !SA Month , 'm2', 'Month'), \\n          !Version, !COA Company, !Country, !Product, !Data Source ZL Sales Analysis, 'Sales Units', !M Reference);\\n          \\n['Scenario':{'Forecast','BUD','ACT'},'Base Period','Sales Units (M-3)']=C:\\n  DB('ZL Sales Analysis', !Scenario, \\n                                    DB('Sys Lookup Year Month', !SA Year | !SA Month , 'm3', 'Year'),\\n                                    DB('Sys Lookup Year Month', !SA Year | !SA Month , 'm3', 'Month'), \\n          !Version, !COA Company, !Country, !Product, !Data Source ZL Sales Analysis, 'Sales Units', !M Reference);\\n\\n['Scenario':{'Forecast','BUD','ACT'},'Base Period','Sales Units (L2M)'] =C:['Sales Units (M-1)'] + ['Sales Units (M-2)'];\\n['Scenario':{'Forecast','BUD','ACT'},'Base Period','Sales Units (L3M)'] =C:['Sales Units (L2M)'] + ['Sales Units (M-3)'];\\n\\n##############################\\n# According different Strategy, get different result\\n# Can Config through 4 Dims, set different strategy for different Product / Month / COA Company / Country\\n##############################\\n['Scenario':{'Forecast','BUD','ACT'},'Base Period','Safety Stock Units'] =N:\\n  If(\\n        DB('ZL Stock Strategy', !Scenario, !SA Year, !SA Month, !Version, !COA Company, !Country, !Product, 'Stock Strategy') @= 'Safety Stock Units',\\n        DB('ZL Stock Strategy', !Scenario, !SA Year, !SA Month, !Version, !COA Company, !Country, !Product, 'Safety Stock Units'),\\n        \\n        DB('ZL Sales Analysis', !Scenario, !SA Year, !SA Month, !Version, !COA Company, \\n                                !Country, !Product, !Data Source ZL Sales Analysis, \\n        DB('ZL Stock Strategy', \\n                !Scenario, !SA Year, !SA Month, \\n                !Version, !COA Company, !Country, \\n                !Product, 'Stock Strategy'), !M Reference) * \\n        DB('ZL Stock Strategy', !Scenario, !SA Year, !SA Month, !Version, !COA Company, !Country, !Product, 'Stock %')        \\n);\\n\\n\\n#~~~~~~~~~~~~~~~~~~~~~~~~~~~~~~~~~~~~~~~~~~~~~~~~~~~~~~~~~~~~~~~~~~~~~~~~~~~~ Sales Plan\\n['Scenario':{'Forecast','BUD','ACT'},'Base Period','Avg Price']= C:\\n                                                                    ['M ZL Sales Analysis':'Sales'] \\\\\\n                                                                    ['M ZL Sales Analysis':'Sales Units'] ;\\n          \\n\\n#~~~~~~~~~~~~~~~~~~~~~~~~~~~~~~~~~~~~~~~~~~~~~~~~~~~~~~~~~~~~~~~~~~~~~~~~~~~~\\n\\nFeeders;\\n\\n### C Level rule = needless rule, that's means no need to feed\\n\\n\\n### Step 3.Get  Stock Management\\n# Last YearMonth Closing Units => Currenct YearMonth Opening Units\\n['Scenario':{'Forecast','BUD','ACT'},'Base Period','Stock Closing Units']=>\\n  DB('ZL Sales Analysis', !Scenario, \\n         DB('Sys Lookup Year Month', !SA Year | !SA Month , 'p1', 'Year'),\\n        DB('Sys Lookup Year Month', !SA Year | !SA Month , 'p1', 'Month'), \\n        !Version, !COA Company, !Country, !Product, !Data Source ZL Sales Analysis, 'Stock Opening Units', !M Reference);\\n\\n# Cal Purchase\\n['Safety Stock Units'] => ['Purchase Units'];\\n['Stock Opening Units'] => ['Purchase Units'];\\n\\n\\n\\n\"},\n",
       " Cube:{\"Name\": \"ZL Sales Market Basket Analysis\", \"Dimensions@odata.bind\": [\"Dimensions('Scenario')\", \"Dimensions('SA Year')\", \"Dimensions('SA Month')\", \"Dimensions('Version')\", \"Dimensions('COA Company')\", \"Dimensions('Business Unit')\", \"Dimensions('Region')\", \"Dimensions('Channel')\", \"Dimensions('Line Item')\", \"Dimensions('Data Source ZL Sales Market Basket Analysis')\", \"Dimensions('M ZL Sales Market Basket Analysis')\"], \"Rules\": \"Feedstrings;\\nSkipCheck;\\n\\n\\n['Feeder Mediator'] = S:'1';\\n\\n\\n['Recommended_Product_Groups'] = S:\\nIf( DB('ZL Sales Market Basket Analysis', !Scenario, !SA Year, !SA Month, !Version, !COA Company, \\n        !Business Unit, !Region, !Channel, !Line Item, !Data Source ZL Sales Market Basket Analysis, 'Antecedents') @<> '' ,\\n'('|Subst( \\nDB('ZL Sales Market Basket Analysis', !Scenario, !SA Year, !SA Month, !Version, !COA Company, \\n        !Business Unit, !Region, !Channel, !Line Item, !Data Source ZL Sales Market Basket Analysis, 'Antecedents'),Scan('{',\\nDB('ZL Sales Market Basket Analysis', !Scenario, !SA Year, !SA Month, !Version, !COA Company, \\n        !Business Unit, !Region, !Channel, !Line Item, !Data Source ZL Sales Market Basket Analysis, 'Antecedents'))+1,\\nLong(\\nDB('ZL Sales Market Basket Analysis', !Scenario, !SA Year, !SA Month, !Version, !COA Company, \\n        !Business Unit, !Region, !Channel, !Line Item, !Data Source ZL Sales Market Basket Analysis, 'Antecedents')) - 13\\n        ) |')'|\\nIf( DB('ZL Sales Market Basket Analysis', !Scenario, !SA Year, !SA Month, !Version, !COA Company, \\n        !Business Unit, !Region, !Channel, !Line Item, !Data Source ZL Sales Market Basket Analysis, 'Consequents') @<> '',\\n' -> '|Subst( \\nDB('ZL Sales Market Basket Analysis', !Scenario, !SA Year, !SA Month, !Version, !COA Company, \\n        !Business Unit, !Region, !Channel, !Line Item, !Data Source ZL Sales Market Basket Analysis, 'Consequents'),Scan('{',\\nDB('ZL Sales Market Basket Analysis', !Scenario, !SA Year, !SA Month, !Version, !COA Company, \\n        !Business Unit, !Region, !Channel, !Line Item, !Data Source ZL Sales Market Basket Analysis, 'Consequents'))+1,\\nLong(\\nDB('ZL Sales Market Basket Analysis', !Scenario, !SA Year, !SA Month, !Version, !COA Company, \\n        !Business Unit, !Region, !Channel, !Line Item, !Data Source ZL Sales Market Basket Analysis, 'Consequents')) - 13\\n        )\\n  ,'')      \\n,Continue);\\n\\n\\n\\nFeeders;\\n['Antecedents']=>['Feeder Mediator'];\\n['Consequents']=>['Feeder Mediator'];\\n\\n['Feeder Mediator']=>['Recommended_Product_Groups'];\"},\n",
       " Cube:{\"Name\": \"ZL Stock Simulation Analysis\", \"Dimensions@odata.bind\": [\"Dimensions('Scenario')\", \"Dimensions('SA Year')\", \"Dimensions('Month Day')\", \"Dimensions('Version')\", \"Dimensions('COA Company')\", \"Dimensions('Business Unit')\", \"Dimensions('Product')\", \"Dimensions('Currency')\", \"Dimensions('Region')\", \"Dimensions('Channel')\", \"Dimensions('Data Source ZL Stock Simulation Analysis')\", \"Dimensions('M ZL Stock Simulation Analysis')\"], \"Rules\": \"Feedstrings;\\nskipcheck;\\n\\n#计算剩余库存，其中hardcode 1000模拟DB过来的月度进货量\\n['Scenario':'ACT','Version':'WIP','M ZL Stock Simulation Analysis':'Stock Remaining']=N:Max(1000-DB('ZL Stock Simulation Analysis', 'ACT', !SA Year, !Month Day |' YTD', \\n'WIP', !COA Company, !Business Unit, !Product, !Currency, !Region, \\n!Channel, !Data Source ZL Stock Simulation Analysis, 'Sales Units - Normal distribution'),0);\\n\\n#处理首月1日销售数量大于等于库存准备的情况，使用全部库存计算销售额利润\\n\\n['Scenario':'ACT','Version':'WIP','M ZL Stock Simulation Analysis':'Sales Profit']=N:\\nIf( DB('ZL Stock Simulation Analysis', 'ACT', !SA Year, !Month Day |' YTD', \\n'WIP', !COA Company, !Business Unit, !Product, !Currency, !Region, \\n!Channel, !Data Source ZL Stock Simulation Analysis, 'Sales Units - Normal distribution')>=1000 & AttrN('Month Day', !Month Day, 'idx0')=1,\\n1000*(10-5)\\n-\\n1000*1*0.5*1,Continue);\\n\\n#计算每日利润: 每日销售数量*（单价-成本价）-平均日仓储成本，平均日仓储成本=（月度最大剩余数量+月度最小剩余数量）/2*商品体积*费率/月天数,其中hardcode 1模拟DB过来的商品体积，0.5模拟DB过来的费率\\n\\n['Scenario':'ACT','Version':'WIP','M ZL Stock Simulation Analysis':'Sales Profit']=N:\\nIf(DB('ZL Stock Simulation Analysis', 'ACT', !SA Year, !Month Day, \\n'WIP', !COA Company, !Business Unit, !Product, !Currency, !Region, \\n!Channel, !Data Source ZL Stock Simulation Analysis, 'Stock Remaining')>=\\nConsolidatedMin(2, 'ZL Stock Simulation Analysis', 'ACT', !SA Year, ElPar('Month Day', !Month Day, 1), \\n'WIP', !COA Company, !Business Unit, !Product, !Currency, !Region, \\n!Channel, !Data Source ZL Stock Simulation Analysis, 'Stock Remaining') & DB('ZL Stock Simulation Analysis', 'ACT', !SA Year, !Month Day |' YTD', \\n'WIP', !COA Company, !Business Unit, !Product, !Currency, !Region, \\n!Channel, !Data Source ZL Stock Simulation Analysis, 'Sales Units - Normal distribution')<1000,\\n\\n['Scenario':'ACT','Version':'WIP','M ZL Stock Simulation Analysis':'Sales Units - Normal distribution']*(10-5)\\n-\\n((ConsolidatedMax(1, 'ZL Stock Simulation Analysis', 'ACT', !SA Year, ElPar('Month Day', !Month Day, 1), \\n'WIP', !COA Company, !Business Unit, !Product, !Currency, !Region, \\n!Channel, !Data Source ZL Stock Simulation Analysis, 'Stock Remaining')+\\nConsolidatedMin(1, 'ZL Stock Simulation Analysis', 'ACT', !SA Year, ElPar('Month Day', !Month Day, 1), \\n'WIP', !COA Company, !Business Unit, !Product, !Currency, !Region, \\n!Channel, !Data Source ZL Stock Simulation Analysis, 'Stock Remaining'))/2)\\n*1*0.5*\\nAttrN('Month Day', AttrS('Month Day',!Month Day,'Next Day'),'idx0')\\n,Continue);\\n\\n\\n#计算有存货的最后一日利润：\\n\\n['Scenario':'ACT','Version':'WIP','M ZL Stock Simulation Analysis':'Sales Profit']=N:\\nIf(DB('ZL Stock Simulation Analysis', 'ACT', !SA Year, AttrS('Month Day', !Month Day, 'Last Day'), \\n'WIP', !COA Company, !Business Unit, !Product, !Currency, !Region, \\n!Channel, !Data Source ZL Stock Simulation Analysis, 'Stock Remaining')=\\nConsolidatedMin(2, 'ZL Stock Simulation Analysis', 'ACT', !SA Year, ElPar('Month Day', AttrS('Month Day', !Month Day, 'Last Day'), 1), \\n'WIP', !COA Company, !Business Unit, !Product, !Currency, !Region, \\n!Channel, !Data Source ZL Stock Simulation Analysis, 'Stock Remaining'),\\n\\nConsolidatedMin(2, 'ZL Stock Simulation Analysis', 'ACT', !SA Year, ElPar('Month Day', AttrS('Month Day', !Month Day, 'Last Day'), 1), \\n'WIP', !COA Company, !Business Unit, !Product, !Currency, !Region, \\n!Channel, !Data Source ZL Stock Simulation Analysis, 'Stock Remaining')*(10-5)\\n-\\n((ConsolidatedMax(1, 'ZL Stock Simulation Analysis', 'ACT', !SA Year, ElPar('Month Day', AttrS('Month Day', !Month Day, 'Last Day'), 1), \\n'WIP', !COA Company, !Business Unit, !Product, !Currency, !Region, \\n!Channel, !Data Source ZL Stock Simulation Analysis, 'Stock Remaining')+\\nConsolidatedMin(1, 'ZL Stock Simulation Analysis', 'ACT', !SA Year, ElPar('Month Day', AttrS('Month Day', !Month Day, 'Last Day'), 1), \\n'WIP', !COA Company, !Business Unit, !Product, !Currency, !Region, \\n!Channel, !Data Source ZL Stock Simulation Analysis, 'Stock Remaining'))/2)\\n*1*0.5*\\nAttrN('Month Day', !Month Day, 'idx0')\\n,Continue);\\n\\n\\n\\n\\nfeeders;\\n#计算剩余库存\\n['Scenario':'ACT','Version':'WIP','M ZL Stock Simulation Analysis':'Sales Units - Normal distribution']=>\\nDB('ZL Stock Simulation Analysis', 'ACT', !SA Year, !Month Day, 'WIP', !COA Company, !Business Unit, !Product, !Currency, !Region, \\n!Channel, !Data Source ZL Stock Simulation Analysis, 'Stock Remaining');\\n\\n\\n['Scenario':'ACT','Version':'WIP','M ZL Stock Simulation Analysis':'Sales Units - Normal distribution']=>\\n['Scenario':'ACT','Version':'WIP','M ZL Stock Simulation Analysis':'Sales Profit'];\\n\\n\\n\\n\\n\\n\\n\"},\n",
       " Cube:{\"Name\": \"ZL Stock Strategy\", \"Dimensions@odata.bind\": [\"Dimensions('Scenario')\", \"Dimensions('SA Year')\", \"Dimensions('SA Month')\", \"Dimensions('Version')\", \"Dimensions('COA Company')\", \"Dimensions('Country')\", \"Dimensions('Product')\", \"Dimensions('M ZL Stock Strategy')\"], \"Rules\": \"Skipcheck;\\n\\n['Stock %'] = Numbr(DB('ZL Stock Strategy', !Scenario, !SA Year, !SA Month, !Version, !COA Company, !Country, !Product, 'Stock % (S)')) \\\\ 100 ;\\n['Safety Stock Units'] = Numbr(DB('ZL Stock Strategy', !Scenario, !SA Year, !SA Month, !Version, !COA Company, !Country, !Product, 'Safety Stock Units (S)'));\\n\\n['Stock % (S)'] = S:If(  \\n                        DB('ZL Stock Strategy', !Scenario, !SA Year, !SA Month, !Version, !COA Company, !Country, !Product, 'Stock Strategy') @= 'Safety Stock Units',\\n                        '0',\\n                        Continue);\\n\\n['Safety Stock Units (S)'] = S:If(  \\n                        DB('ZL Stock Strategy', !Scenario, !SA Year, !SA Month, !Version, !COA Company, !Country, !Product, 'Stock Strategy') @<> 'Safety Stock Units',\\n                        '0',\\n                        Continue);\\n\\n### Unspecified Product + Unspecified Country + Unspecified Comp + Unspecified Month\\n[{'Product Spec','Stock Strategy','Stock % (S)','Safety Stock Units (S)'},'\\n              Unspecified Product','Unspecified Country' ,'Unspecified Comp','Unspecified Month'] = S:Stet;\\n\\n### Product + Unspecified Country + Unspecified Comp + Unspecified Month\\n# First set special treatment for \\\"All Regions \\\"\\n[{'Stock Strategy','Safety Stock Units (S)','Stock % (S)'},'All Products','Unspecified Country' ,'Unspecified Comp','Unspecified Month'] =S:\\n                DB('ZL Stock Strategy', !Scenario, !SA Year, !SA Month, !Version, !COA Company, !Country, 'Unspecified Product',!M ZL Stock Strategy);\\n[{'Stock Strategy','Safety Stock Units (S)','Stock % (S)'},'Unspecified Country' ,'Unspecified Comp','Unspecified Month'] =S:\\nIf(  DB('ZL Stock Strategy', !Scenario, !SA Year, !SA Month, !Version, !COA Company, !Country, !Product, 'Product Spec') @<> '√',\\n\\n    DB('ZL Stock Strategy', !Scenario, !SA Year, !SA Month, !Version, !COA Company, !Country, ELPar('Product',!Product,1), !M ZL Stock Strategy)\\n    ,Stet);\\n\\n### Product + Country+ Unspecified Comp + Unspecified Month\\n[{'Stock Strategy','Safety Stock Units (S)','Stock % (S)'},'All Country List','Unspecified Comp','Unspecified Month'] = S:\\n                DB('ZL Stock Strategy', !Scenario, !SA Year, !SA Month, !Version, !COA Company, 'Unspecified Country', !Product, !M ZL Stock Strategy);\\n[{'Stock Strategy','Safety Stock Units (S)','Stock % (S)'},'Unspecified Comp','Unspecified Month'] =S:\\nIf(  DB('ZL Stock Strategy', !Scenario, !SA Year, !SA Month, !Version, !COA Company, !Country, !Product, 'Product Spec') @<> '√',\\n\\n    DB('ZL Stock Strategy', !Scenario, !SA Year, !SA Month, !Version, !COA Company, ELPar('Country',!Country,1), !Product, !M ZL Stock Strategy)\\n    ,Stet);\\n\\n### Product + Country+ Comp + Unspecified Month\\n[{'Stock Strategy','Safety Stock Units (S)','Stock % (S)'},'All Company List','Unspecified Month'] = S:\\n                DB('ZL Stock Strategy', !Scenario, !SA Year, !SA Month, !Version, 'Unspecified Comp', !Country, !Product, !M ZL Stock Strategy);\\n[{'Stock Strategy','Safety Stock Units (S)','Stock % (S)'},'Unspecified Month'] =S:\\nIf(  DB('ZL Stock Strategy', !Scenario, !SA Year, !SA Month, !Version, !COA Company, !Country, !Product, 'Product Spec') @<> '√',\\n\\n    DB('ZL Stock Strategy', !Scenario, !SA Year, !SA Month, !Version, ELPar('COA Company',!COA Company,1), !Country, !Product, !M ZL Stock Strategy)\\n    ,Stet);\\n\\n### Product + Country+ Comp + Month\\n[{'Stock Strategy','Safety Stock Units (S)','Stock % (S)'},'All QTRs'] = S:\\n                DB('ZL Stock Strategy', !Scenario, !SA Year, 'Unspecified Month', !Version, !COA Company, !Country, !Product, !M ZL Stock Strategy);\\n[{'Stock Strategy','Safety Stock Units (S)','Stock % (S)'}] =S:\\nIf(  DB('ZL Stock Strategy', !Scenario, !SA Year, !SA Month, !Version, !COA Company, !Country, !Product, 'Product Spec') @<> '√',\\n      If( Ellev('SA Month',!SA Month)=0, \\n          DB('ZL Stock Strategy', !Scenario, !SA Year, Elpar('SA Month',!SA Month,2), !Version,!COA Company, !Country, !Product, !M ZL Stock Strategy),\\n          DB('ZL Stock Strategy', !Scenario, !SA Year, Elpar('SA Month',!SA Month,1), !Version,!COA Company, !Country, !Product, !M ZL Stock Strategy)\\n        ),\\n    \\n  Stet);\\n\\n\\n# set for debug\\n#['Comment']=S:Elpar('SA Month',!SA Month,2);\\n\\nFeeders;\\n\\n# Step 1. Inter Feeder, Feed For Elpar Copy\\n['Unspecified Product'] => ['All Products'];\\n['Unspecified Country'] => ['All Country List'];\\n['Unspecified Comp'] => ['All Company List'];\\n['Unspecified Month'] => ['All QTRs'];\\n['Stock % (S)'] =>['Stock %'];\\n['Safety Stock Units (S)'] =>['Safety Stock Units'];\\n\\n# Step 2. External Feeder, Feed For \\\"ZL Sales Analysis\\\"\\n[{'Stock Strategy','Stock % (S)','Safety Stock Units (S)'}] => \\n                DB('ZL Sales Analysis', !Scenario, !SA Year, !SA Month, !Version, !COA Company, !Country, !Product, 'Base', 'Safety Stock Units', 'Base Period');\\n                \\n\\n\\n\"},\n",
       " Cube:{\"Name\": \"}AccessClient_Elements_Country\", \"Dimensions@odata.bind\": [\"Dimensions('Country')\", \"Dimensions('}Clients')\"]},\n",
       " Cube:{\"Name\": \"}AccessClientGroup_Elements_Country\", \"Dimensions@odata.bind\": [\"Dimensions('Country')\", \"Dimensions('}Groups')\", \"Dimensions('}Clients')\"]},\n",
       " Cube:{\"Name\": \"}ApplicationSecurity\", \"Dimensions@odata.bind\": [\"Dimensions('}ApplicationEntries')\", \"Dimensions('}Groups')\"]},\n",
       " Cube:{\"Name\": \"}Capabilities\", \"Dimensions@odata.bind\": [\"Dimensions('}Features')\", \"Dimensions('}Permissions')\", \"Dimensions('}Groups')\"]},\n",
       " Cube:{\"Name\": \"}CellAnnotations_ZL Amazon Payments Data Report\", \"Dimensions@odata.bind\": [\"Dimensions('}Annotation_ApplicationID')\", \"Dimensions('Scenario')\", \"Dimensions('SA Year')\", \"Dimensions('SA Month')\", \"Dimensions('Version')\", \"Dimensions('COA Company')\", \"Dimensions('Currency')\", \"Dimensions('Country')\", \"Dimensions('Product')\", \"Dimensions('Platform')\", \"Dimensions('ZL Amazon Management Report Item')\", \"Dimensions('Data Source Payments Data Report')\", \"Dimensions('M ZL Amazon Payments Data Report')\", \"Dimensions('}AnnotationMeasures')\"]},\n",
       " Cube:{\"Name\": \"}CellSecurity_Sales\", \"Dimensions@odata.bind\": [\"Dimensions('SA Year')\", \"Dimensions('Business Unit FPA')\", \"Dimensions('}Groups')\"]},\n",
       " Cube:{\"Name\": \"}CellSecurity_Sys Financial Approval Workflow Input\", \"Dimensions@odata.bind\": [\"Dimensions('Employee')\", \"Dimensions('Sys Workflow Category')\", \"Dimensions('Sys Workflow Code')\", \"Dimensions('M Sys Financial Approval Workflow Input')\", \"Dimensions('}Groups')\"], \"Rules\": \"Feedstrings;\\nSkipcheck;\\n#Direct Supervisor\\n#Relevant Accountant\\n#Financial Executive\\n#Financial Manager\\n#CEO\\n#Cashier\\n#Comment\\n\\n#Is Direct Supervisor Submit\\n#Direct Supervisor Submit Comment\\n#Direct Supervisor Approval Time\\n#Is Accountant Submit\\n#Accountant Submit Comment\\n#Accountant Approval Time\\n#Is Financial Executive Submit\\n#Financial Executive Submit Comment\\n#Financial Executive Approval Time\\n#Is Financial Manager Submit\\n#Financial Manager Submit Comment\\n#Financial Manager Approval Time\\n#Is CEO Submit\\n#CEO Submit Comment\\n#CEO Approval Time\\n#Is Cashier Payment\\n#Cashier Submit Comment\\n#Cashier Payment Time\\n#Code Create Time\\n#[] =S:\\n#  If(\\n#      DB('Sys Financial Approval Workflow Code Config', 'Unspecified Employee', !Sys Workflow Code, 'Default Value') @<> TM1USER()\\n#  & DB('Sys Financial Approval Workflow Process Config', 'Unspecified Year', 'M00', 'WIP', '002', 'hangzhou', !Employee, \\n#              !Sys Workflow Category, !Sys Workflow Code, 'Direct Supervisor') <>\\n#  \\n#);\\n[] =S:If( !Employee @<> TM1USER() , 'NONE',Continue);\\n#['Selected Flag'] = S:\\n#    Stet;\\n#~~~只有自己建的单子才能改基础资料\\n[{'Selected Flag','Date of Expense','Expense Type','Amount','Comment','Attachment URL'}] = S:\\n      If( DB('Sys Financial Approval Workflow Code Config', 'Unspecified Employee', !Sys Workflow Code, 'Default Value') @= TM1USER() \\n,'WRITE',Continue);\\n\\n[{'Is Direct Supervisor Submit','Direct Supervisor Submit Comment'}] = S:\\nIf( DB('Sys Financial Approval Workflow Code Config', 'Unspecified Employee', !Sys Workflow Code, 'Default Value') @= TM1USER(),'READ',Continue);\\n\\n#~~~只有身份是直属领导，才能审批\\n[{'Selected Flag','Is Direct Supervisor Submit','Direct Supervisor Submit Comment'}] = S:\\nIf( Attrs('Employee',TM1USER(),'Position') @= 'Direct Supervisor',\\n  If( !Employee @= TM1USER() , STET,\\n    If( DB('Sys Financial Approval Workflow Process Config', 'Unspecified Year', 'M00', 'WIP', '002', 'hangzhou', \\n    \\n        !Employee, !Sys Workflow Category, !Sys Workflow Code, 'Direct Supervisor') @= TM1USER() & \\n                                                                                                !Employee @= TM1USER(),\\n          'WRITE'\\n      ,Continue)\\n      )\\n,Continue)\\n;\\n \\n#~~~只有身份是会计，才能审批\\n[{'Selected Flag','Is Accountant Submit','Accountant Submit Comment'}] = S:\\nIf( Attrs('Employee',TM1USER(),'Position') @= 'Relevant Accountant',\\n  If( !Employee @= TM1USER() , STET,\\n    If( DB('Sys Financial Approval Workflow Process Config', 'Unspecified Year', 'M00', 'WIP', '002', 'hangzhou', \\n    \\n        !Employee, !Sys Workflow Category, !Sys Workflow Code, 'Relevant Accountant') @= TM1USER() & \\n                                                                                                !Employee @= TM1USER(),\\n          'WRITE'\\n      ,Continue)\\n      )\\n,Continue)\\n;\\n\\n#~~~只有身份是财务主管，才能审批\\n[{'Selected Flag','Is Financial Executive Submit','Financial Executive Submit Comment'}] = S:\\nIf( Attrs('Employee',TM1USER(),'Position') @= 'Financial Executive',\\n  If( !Employee @= TM1USER() , STET,\\n    If( DB('Sys Financial Approval Workflow Process Config', 'Unspecified Year', 'M00', 'WIP', '002', 'hangzhou', \\n    \\n        !Employee, !Sys Workflow Category, !Sys Workflow Code, 'Financial Executive') @= TM1USER() & \\n                                                                                                !Employee @= TM1USER(),\\n          'WRITE'\\n      ,Continue)\\n      )\\n,Continue)\\n;\\n\\n#~~~只有身份是财务经理，才能审批\\n[{'Selected Flag','Is Financial Manager Submit','Financial Manager Submit Comment'}] = S:\\nIf( Attrs('Employee',TM1USER(),'Position') @= 'Financial Manager',\\n  If( !Employee @= TM1USER() , STET,\\n    If( DB('Sys Financial Approval Workflow Process Config', 'Unspecified Year', 'M00', 'WIP', '002', 'hangzhou', \\n    \\n        !Employee, !Sys Workflow Category, !Sys Workflow Code, 'Financial Manager') @= TM1USER() & \\n                                                                                                !Employee @= TM1USER(),\\n          'WRITE'\\n      ,Continue)\\n      )\\n,Continue)\\n;\\n\\n#~~~只有身份是总经理，才能审批\\n[{'Selected Flag','Is CEO Submit','CEO Submit Comment'}] = S:\\nIf( Attrs('Employee',TM1USER(),'Position') @= 'CEO',\\n  If( !Employee @= TM1USER() , STET,\\n    If( DB('Sys Financial Approval Workflow Process Config', 'Unspecified Year', 'M00', 'WIP', '002', 'hangzhou', \\n    \\n        !Employee, !Sys Workflow Category, !Sys Workflow Code, 'CEO') @= TM1USER() & \\n                                                                                                !Employee @= TM1USER(),\\n          'WRITE'\\n      ,Continue)\\n      )\\n,Continue)\\n;\\n\\n#~~~只有身份是出纳，才能审批\\n[{'Selected Flag','Is Cashier Payment','Cashier Submit Comment'}] = S:\\nIf( Attrs('Employee',TM1USER(),'Position') @= 'Cashier',\\n  If( !Employee @= TM1USER() , STET,\\n    If( DB('Sys Financial Approval Workflow Process Config', 'Unspecified Year', 'M00', 'WIP', '002', 'hangzhou', \\n    \\n        !Employee, !Sys Workflow Category, !Sys Workflow Code, 'Cashier') @= TM1USER() & \\n                                                                                                !Employee @= TM1USER(),\\n          'WRITE'\\n      ,Continue)\\n      )\\n,Continue)\\n;\\n\\n\\n#~~~ 兜底\\n[] =S:'Read';\\n#[] =S:'NONE';\\nFeeders;\\n\\n\\n\\n\\n\\n\\n\\n\\n\\n\\n\\n\"},\n",
       " Cube:{\"Name\": \"}CellSecurity_Sys Parameter\", \"Dimensions@odata.bind\": [\"Dimensions('Sys Parameter')\", \"Dimensions('M Sys Parameter')\", \"Dimensions('}Groups')\"], \"Rules\": \"[] = S:\\nIf( ElisAnc('Sys Parameter','>>>>Current Period Config', !Sys Parameter) = 1 % !Sys Parameter @= '>>>>Current Period Config','WRITE','READ');\"},\n",
       " Cube:{\"Name\": \"}CellSecurity_TM1 Function Test\", \"Dimensions@odata.bind\": [\"Dimensions('Month')\", \"Dimensions('m string len test')\", \"Dimensions('}Groups')\"], \"Rules\": \"\\n[] = S:If( TM1USER() @= 'Will', 'WRITE','NONE');\"},\n",
       " Cube:{\"Name\": \"}CellSecurity_}DimensionProperties\", \"Dimensions@odata.bind\": [\"Dimensions('}Dimensions')\", \"Dimensions('}DimensionProperties')\", \"Dimensions('}Groups')\"]},\n",
       " Cube:{\"Name\": \"}CellSecurity_}tp_application_root_permissions\", \"Dimensions@odata.bind\": [\"Dimensions('}tp_applications')\", \"Dimensions('}tp_root_permissions')\", \"Dimensions('}Groups')\"]},\n",
       " Cube:{\"Name\": \"}ChoreSecurity\", \"Dimensions@odata.bind\": [\"Dimensions('}Chores')\", \"Dimensions('}Groups')\"]},\n",
       " Cube:{\"Name\": \"}ClientCAMAssociatedGroups\", \"Dimensions@odata.bind\": [\"Dimensions('}CAMAssociatedGroups')\", \"Dimensions('}Groups')\"]},\n",
       " Cube:{\"Name\": \"}ClientGroups\", \"Dimensions@odata.bind\": [\"Dimensions('}Clients')\", \"Dimensions('}Groups')\"], \"Rules\": \"Feedstrings;\\nSkipcheck;\\n\\n['Everyone'] = S:'Everyone';\\n[] = S:If( DB('ClientGroups', !}Clients, !}Groups) @= '1',!}Groups ,Stet);\\n\\nFeeders;\"},\n",
       " Cube:{\"Name\": \"}ClientProperties\", \"Dimensions@odata.bind\": [\"Dimensions('}Clients')\", \"Dimensions('}ClientProperties')\"]},\n",
       " Cube:{\"Name\": \"}ClientSettings\", \"Dimensions@odata.bind\": [\"Dimensions('}Clients')\", \"Dimensions('}ClientSettings')\"], \"Rules\": \"#Region System\\nFEEDSTRINGS;\\nSKIPCHECK;\\n#EndRegion\\n\\n# Leave Default Admin user open for data entry\\n[ '}Clients':'Admin' ] = S: STET;\\n\\n# Set all users to be the same as admin\\n[ ] = S: DB( '}ClientSettings', 'Admin', !}ClientSettings );\"},\n",
       " Cube:{\"Name\": \"}CubeAttributes\", \"Dimensions@odata.bind\": [\"Dimensions('}Cubes')\", \"Dimensions('}CubeAttributes')\"], \"Rules\": \"Skipcheck;\\nFeedstrings;\\n\\n#['APQ TM1 Log Recorder'] = S:If( TM1USER() @= 'jay','APQ日志记录器',Stet);\\n\\nFeeders;\"},\n",
       " Cube:{\"Name\": \"}CubeDrill_ZL Amazon Payments Data STG\", \"Dimensions@odata.bind\": [\"Dimensions('Scenario')\", \"Dimensions('SA Year')\", \"Dimensions('SA Month')\", \"Dimensions('Version')\", \"Dimensions('Order Year')\", \"Dimensions('Month Day')\", \"Dimensions('COA Company')\", \"Dimensions('Currency')\", \"Dimensions('Country')\", \"Dimensions('Region State')\", \"Dimensions('Region City')\", \"Dimensions('Platform')\", \"Dimensions('Behavior')\", \"Dimensions('Product')\", \"Dimensions('Data Source Payments Data STG')\", \"Dimensions('M ZL Amazon Payments Data STG')\", \"Dimensions('}CubeDrillString')\"], \"Rules\": \"['SA Year':{'2018','2019','2020','2021','2022'},'Scenario':{'ACT'},'WIP','Base','CubeDrillString'] = \\nS:'下钻至数仓Payments明细,下钻至MySQL_Payments明细,下钻至业务系统_Payments明细';\\n\\n\\n\\n\"},\n",
       " Cube:{\"Name\": \"}CubeDrill_ZL Sales Analysis\", \"Dimensions@odata.bind\": [\"Dimensions('Scenario')\", \"Dimensions('SA Year')\", \"Dimensions('SA Month')\", \"Dimensions('Version')\", \"Dimensions('COA Company')\", \"Dimensions('Country')\", \"Dimensions('Product')\", \"Dimensions('Data Source ZL Sales Analysis')\", \"Dimensions('M ZL Sales Analysis')\", \"Dimensions('M Reference')\", \"Dimensions('}CubeDrillString')\"], \"Rules\": \"Skipcheck;\\nFeedstrings;\\n\\n['Base','Sales Units','CubeDrillString']= S:'Drill To City Detail, Drill To State Detail, Drill To STG Detail';\\n\\n\\nFeeders;\"},\n",
       " Cube:{\"Name\": \"}CubeProperties\", \"Dimensions@odata.bind\": [\"Dimensions('}Cubes')\", \"Dimensions('}CubeProperties')\"]},\n",
       " Cube:{\"Name\": \"}Cube Rule Loop\", \"Dimensions@odata.bind\": [\"Dimensions('}Cubes')\", \"Dimensions('M }Cube Rule Loop')\"]},\n",
       " Cube:{\"Name\": \"}CubeSecurity\", \"Dimensions@odata.bind\": [\"Dimensions('}Cubes')\", \"Dimensions('}Groups')\"]},\n",
       " Cube:{\"Name\": \"}CubeSecurityProperties\", \"Dimensions@odata.bind\": [\"Dimensions('}Cubes')\", \"Dimensions('}CubeSecurityProperties')\"]},\n",
       " Cube:{\"Name\": \"}DimensionAttributes\", \"Dimensions@odata.bind\": [\"Dimensions('}Dimensions')\", \"Dimensions('}DimensionAttributes')\"]},\n",
       " Cube:{\"Name\": \"}DimensionProperties\", \"Dimensions@odata.bind\": [\"Dimensions('}Dimensions')\", \"Dimensions('}DimensionProperties')\"]},\n",
       " Cube:{\"Name\": \"}DimensionSecurity\", \"Dimensions@odata.bind\": [\"Dimensions('}Dimensions')\", \"Dimensions('}Groups')\"]},\n",
       " Cube:{\"Name\": \"}ElementAttributes_Account\", \"Dimensions@odata.bind\": [\"Dimensions('Account')\", \"Dimensions('}ElementAttributes_Account')\"], \"Rules\": \"FeedString;\\n\\nSkipCheck;\\n\\n['Full Description'] = S: If (AttrS('Account', !Account, 'Description') @<> '',\\n\\t\\t\\t!Account | ' - ' | AttrS('Account', !Account, 'Description'),\\n\\t\\t\\tContinue\\n\\t\\t     );\\n\\nFeeders;\\n['Description'] => ['Full Description'],\\n\\t             DB('}ElementAttributes_Account - Expense Analysis',!Account,'Description'),\\n\\t             DB('}ElementAttributes_Account - Expense Analysis',!Account,'Full Description');\"},\n",
       " Cube:{\"Name\": \"}ElementAttributes_Account BS\", \"Dimensions@odata.bind\": [\"Dimensions('Account BS')\", \"Dimensions('}ElementAttributes_Account BS')\"]},\n",
       " Cube:{\"Name\": \"}ElementAttributes_Account GL\", \"Dimensions@odata.bind\": [\"Dimensions('Account GL')\", \"Dimensions('}ElementAttributes_Account GL')\"]},\n",
       " Cube:{\"Name\": \"}ElementAttributes_Account PL\", \"Dimensions@odata.bind\": [\"Dimensions('Account PL')\", \"Dimensions('}ElementAttributes_Account PL')\"]},\n",
       " Cube:{\"Name\": \"}ElementAttributes_Adjustment Type\", \"Dimensions@odata.bind\": [\"Dimensions('Adjustment Type')\", \"Dimensions('}ElementAttributes_Adjustment Type')\"]},\n",
       " Cube:{\"Name\": \"}ElementAttributes_Ant Cost Center\", \"Dimensions@odata.bind\": [\"Dimensions('Ant Cost Center')\", \"Dimensions('}ElementAttributes_Ant Cost Center')\"]},\n",
       " Cube:{\"Name\": \"}ElementAttributes_Behavior\", \"Dimensions@odata.bind\": [\"Dimensions('Behavior')\", \"Dimensions('}ElementAttributes_Behavior')\"]},\n",
       " Cube:{\"Name\": \"}ElementAttributes_Business Unit\", \"Dimensions@odata.bind\": [\"Dimensions('Business Unit')\", \"Dimensions('}ElementAttributes_Business Unit')\"]},\n",
       " Cube:{\"Name\": \"}ElementAttributes_Business Unit FPA\", \"Dimensions@odata.bind\": [\"Dimensions('Business Unit FPA')\", \"Dimensions('}ElementAttributes_Business Unit FPA')\"]},\n",
       " Cube:{\"Name\": \"}ElementAttributes_Channel\", \"Dimensions@odata.bind\": [\"Dimensions('Channel')\", \"Dimensions('}ElementAttributes_Channel')\"]},\n",
       " Cube:{\"Name\": \"}ElementAttributes_COA  Account GL\", \"Dimensions@odata.bind\": [\"Dimensions('COA  Account GL')\", \"Dimensions('}ElementAttributes_COA  Account GL')\"]},\n",
       " Cube:{\"Name\": \"}ElementAttributes_COA Company\", \"Dimensions@odata.bind\": [\"Dimensions('COA Company')\", \"Dimensions('}ElementAttributes_COA Company')\"], \"Rules\": \"skipcheck;\\nfeedstrings;\\n#['Code and Desc'] = S:!COA Company | DB('}ElementAttributes_COA Company', !COA Company, 'Code and Desc');\\n\\nfeeders;\"},\n",
       " Cube:{\"Name\": \"}ElementAttributes_COA Cost Center\", \"Dimensions@odata.bind\": [\"Dimensions('COA Cost Center')\", \"Dimensions('}ElementAttributes_COA Cost Center')\"]},\n",
       " Cube:{\"Name\": \"}ElementAttributes_COA Detail\", \"Dimensions@odata.bind\": [\"Dimensions('COA Detail')\", \"Dimensions('}ElementAttributes_COA Detail')\"]},\n",
       " Cube:{\"Name\": \"}ElementAttributes_COA InterCompany\", \"Dimensions@odata.bind\": [\"Dimensions('COA InterCompany')\", \"Dimensions('}ElementAttributes_COA InterCompany')\"]},\n",
       " Cube:{\"Name\": \"}ElementAttributes_COA Product\", \"Dimensions@odata.bind\": [\"Dimensions('COA Product')\", \"Dimensions('}ElementAttributes_COA Product')\"]},\n",
       " Cube:{\"Name\": \"}ElementAttributes_COA Project\", \"Dimensions@odata.bind\": [\"Dimensions('COA Project')\", \"Dimensions('}ElementAttributes_COA Project')\"]},\n",
       " Cube:{\"Name\": \"}ElementAttributes_COA Region\", \"Dimensions@odata.bind\": [\"Dimensions('COA Region')\", \"Dimensions('}ElementAttributes_COA Region')\"]},\n",
       " Cube:{\"Name\": \"}ElementAttributes_Company\", \"Dimensions@odata.bind\": [\"Dimensions('Company')\", \"Dimensions('}ElementAttributes_Company')\"]},\n",
       " Cube:{\"Name\": \"}ElementAttributes_Country\", \"Dimensions@odata.bind\": [\"Dimensions('Country')\", \"Dimensions('}ElementAttributes_Country')\"]},\n",
       " Cube:{\"Name\": \"}ElementAttributes_Currency\", \"Dimensions@odata.bind\": [\"Dimensions('Currency')\", \"Dimensions('}ElementAttributes_Currency')\"]},\n",
       " Cube:{\"Name\": \"}ElementAttributes_Currency From\", \"Dimensions@odata.bind\": [\"Dimensions('Currency From')\", \"Dimensions('}ElementAttributes_Currency From')\"]},\n",
       " Cube:{\"Name\": \"}ElementAttributes_Currency To\", \"Dimensions@odata.bind\": [\"Dimensions('Currency To')\", \"Dimensions('}ElementAttributes_Currency To')\"]},\n",
       " Cube:{\"Name\": \"}ElementAttributes_Customer\", \"Dimensions@odata.bind\": [\"Dimensions('Customer')\", \"Dimensions('}ElementAttributes_Customer')\"]},\n",
       " Cube:{\"Name\": \"}ElementAttributes_Customer_01\", \"Dimensions@odata.bind\": [\"Dimensions('Customer_01')\", \"Dimensions('}ElementAttributes_Customer_01')\"]},\n",
       " Cube:{\"Name\": \"}ElementAttributes_Customer_02\", \"Dimensions@odata.bind\": [\"Dimensions('Customer_02')\", \"Dimensions('}ElementAttributes_Customer_02')\"]},\n",
       " Cube:{\"Name\": \"}ElementAttributes_Database Type\", \"Dimensions@odata.bind\": [\"Dimensions('Database Type')\", \"Dimensions('}ElementAttributes_Database Type')\"]},\n",
       " Cube:{\"Name\": \"}ElementAttributes_Data Source\", \"Dimensions@odata.bind\": [\"Dimensions('Data Source')\", \"Dimensions('}ElementAttributes_Data Source')\"]},\n",
       " Cube:{\"Name\": \"}ElementAttributes_Data Source Assumption Balance Sheet Manual Adjustment Input\", \"Dimensions@odata.bind\": [\"Dimensions('Data Source Assumption Balance Sheet Manual Adjustment Input')\", \"Dimensions('}ElementAttributes_Data Source Assumption Balance Sheet Manual Adjustment Input')\"]},\n",
       " Cube:{\"Name\": \"}ElementAttributes_Data Source Assumption Profit Loss Manual Adjustment Input\", \"Dimensions@odata.bind\": [\"Dimensions('Data Source Assumption Profit Loss Manual Adjustment Input')\", \"Dimensions('}ElementAttributes_Data Source Assumption Profit Loss Manual Adjustment Input')\"]},\n",
       " Cube:{\"Name\": \"}ElementAttributes_Data Source Balance Sheet\", \"Dimensions@odata.bind\": [\"Dimensions('Data Source Balance Sheet')\", \"Dimensions('}ElementAttributes_Data Source Balance Sheet')\"]},\n",
       " Cube:{\"Name\": \"}ElementAttributes_Data Source General Ledger\", \"Dimensions@odata.bind\": [\"Dimensions('Data Source General Ledger')\", \"Dimensions('}ElementAttributes_Data Source General Ledger')\"]},\n",
       " Cube:{\"Name\": \"}ElementAttributes_Data Source General Ledger Detail\", \"Dimensions@odata.bind\": [\"Dimensions('Data Source General Ledger Detail')\", \"Dimensions('}ElementAttributes_Data Source General Ledger Detail')\"]},\n",
       " Cube:{\"Name\": \"}ElementAttributes_Data Source Payments Data Report\", \"Dimensions@odata.bind\": [\"Dimensions('Data Source Payments Data Report')\", \"Dimensions('}ElementAttributes_Data Source Payments Data Report')\"]},\n",
       " Cube:{\"Name\": \"}ElementAttributes_Data Source Payments Data STG\", \"Dimensions@odata.bind\": [\"Dimensions('Data Source Payments Data STG')\", \"Dimensions('}ElementAttributes_Data Source Payments Data STG')\"]},\n",
       " Cube:{\"Name\": \"}ElementAttributes_Data Source Process Run Log\", \"Dimensions@odata.bind\": [\"Dimensions('Data Source Process Run Log')\", \"Dimensions('}ElementAttributes_Data Source Process Run Log')\"]},\n",
       " Cube:{\"Name\": \"}ElementAttributes_Data Source Profit Loss\", \"Dimensions@odata.bind\": [\"Dimensions('Data Source Profit Loss')\", \"Dimensions('}ElementAttributes_Data Source Profit Loss')\"]},\n",
       " Cube:{\"Name\": \"}ElementAttributes_Data Source Trial Balance\", \"Dimensions@odata.bind\": [\"Dimensions('Data Source Trial Balance')\", \"Dimensions('}ElementAttributes_Data Source Trial Balance')\"]},\n",
       " Cube:{\"Name\": \"}ElementAttributes_Data Source ZL AMZ Fee Input\", \"Dimensions@odata.bind\": [\"Dimensions('Data Source ZL AMZ Fee Input')\", \"Dimensions('}ElementAttributes_Data Source ZL AMZ Fee Input')\"]},\n",
       " Cube:{\"Name\": \"}ElementAttributes_Data Source ZL AMZ Fee STG\", \"Dimensions@odata.bind\": [\"Dimensions('Data Source ZL AMZ Fee STG')\", \"Dimensions('}ElementAttributes_Data Source ZL AMZ Fee STG')\"]},\n",
       " Cube:{\"Name\": \"}ElementAttributes_Data Source ZL Product Cost Plan\", \"Dimensions@odata.bind\": [\"Dimensions('Data Source ZL Product Cost Plan')\", \"Dimensions('}ElementAttributes_Data Source ZL Product Cost Plan')\"]},\n",
       " Cube:{\"Name\": \"}ElementAttributes_Data Source ZL Product Price Plan\", \"Dimensions@odata.bind\": [\"Dimensions('Data Source ZL Product Price Plan')\", \"Dimensions('}ElementAttributes_Data Source ZL Product Price Plan')\"]},\n",
       " Cube:{\"Name\": \"}ElementAttributes_Data Source ZL Product Sales Plan\", \"Dimensions@odata.bind\": [\"Dimensions('Data Source ZL Product Sales Plan')\", \"Dimensions('}ElementAttributes_Data Source ZL Product Sales Plan')\"]},\n",
       " Cube:{\"Name\": \"}ElementAttributes_Data Source ZL Sales Analysis\", \"Dimensions@odata.bind\": [\"Dimensions('Data Source ZL Sales Analysis')\", \"Dimensions('}ElementAttributes_Data Source ZL Sales Analysis')\"]},\n",
       " Cube:{\"Name\": \"}ElementAttributes_Data Source ZL Sales Market Basket Analysis\", \"Dimensions@odata.bind\": [\"Dimensions('Data Source ZL Sales Market Basket Analysis')\", \"Dimensions('}ElementAttributes_Data Source ZL Sales Market Basket Analysis')\"]},\n",
       " Cube:{\"Name\": \"}ElementAttributes_Data Source ZL Stock Simulation Analysis\", \"Dimensions@odata.bind\": [\"Dimensions('Data Source ZL Stock Simulation Analysis')\", \"Dimensions('}ElementAttributes_Data Source ZL Stock Simulation Analysis')\"]},\n",
       " Cube:{\"Name\": \"}ElementAttributes_Date\", \"Dimensions@odata.bind\": [\"Dimensions('Date')\", \"Dimensions('}ElementAttributes_Date')\"], \"Rules\": \"#Region System\\nFEEDSTRINGS;\\nSKIPCHECK;\\n#EndRegion\"},\n",
       " Cube:{\"Name\": \"}ElementAttributes_Detail Line Item\", \"Dimensions@odata.bind\": [\"Dimensions('Detail Line Item')\", \"Dimensions('}ElementAttributes_Detail Line Item')\"]},\n",
       " Cube:{\"Name\": \"}ElementAttributes_Employee\", \"Dimensions@odata.bind\": [\"Dimensions('Employee')\", \"Dimensions('}ElementAttributes_Employee')\"]},\n",
       " Cube:{\"Name\": \"}ElementAttributes_Fee Allocation Method\", \"Dimensions@odata.bind\": [\"Dimensions('Fee Allocation Method')\", \"Dimensions('}ElementAttributes_Fee Allocation Method')\"]},\n",
       " Cube:{\"Name\": \"}ElementAttributes_FinReport Checking Type\", \"Dimensions@odata.bind\": [\"Dimensions('FinReport Checking Type')\", \"Dimensions('}ElementAttributes_FinReport Checking Type')\"]},\n",
       " Cube:{\"Name\": \"}ElementAttributes_Line Item\", \"Dimensions@odata.bind\": [\"Dimensions('Line Item')\", \"Dimensions('}ElementAttributes_Line Item')\"]},\n",
       " Cube:{\"Name\": \"}ElementAttributes_Line Item Log\", \"Dimensions@odata.bind\": [\"Dimensions('Line Item Log')\", \"Dimensions('}ElementAttributes_Line Item Log')\"]},\n",
       " Cube:{\"Name\": \"}ElementAttributes_Location\", \"Dimensions@odata.bind\": [\"Dimensions('Location')\", \"Dimensions('}ElementAttributes_Location')\"], \"Rules\": \"FeedString;\\n\\nSkipCheck;\\n\\n['Full Description'] = S: If (AttrS('Location', !Location, 'Description') @<> '',\\n\\t\\t\\t!Location | ' - ' | AttrS('Location', !Location, 'Description'),\\n\\t\\t\\tContinue\\n\\t\\t     );\\n\\n['Country'] = S:\\n\\tIf (Ellev('Location', !Location) = 0,\\n\\t\\tAttrS('Location', AttrS('Location', !Location, 'Company'), 'Country'),\\n\\t\\tContinue\\n\\t);\\n\\nFeeders;\\n['Description'] => ['Full Description'];\\n\\n['Company'] => ['Country'];\"},\n",
       " Cube:{\"Name\": \"}ElementAttributes_M Amazon Payments Data Report\", \"Dimensions@odata.bind\": [\"Dimensions('M Amazon Payments Data Report')\", \"Dimensions('}ElementAttributes_M Amazon Payments Data Report')\"]},\n",
       " Cube:{\"Name\": \"}ElementAttributes_M Amazon Payments Data STG\", \"Dimensions@odata.bind\": [\"Dimensions('M Amazon Payments Data STG')\", \"Dimensions('}ElementAttributes_M Amazon Payments Data STG')\"]},\n",
       " Cube:{\"Name\": \"}ElementAttributes_M Assumption Balance Sheet Adjustment\", \"Dimensions@odata.bind\": [\"Dimensions('M Assumption Balance Sheet Adjustment')\", \"Dimensions('}ElementAttributes_M Assumption Balance Sheet Adjustment')\"]},\n",
       " Cube:{\"Name\": \"}ElementAttributes_M Assumption Balance Sheet Manual Adjustment Input\", \"Dimensions@odata.bind\": [\"Dimensions('M Assumption Balance Sheet Manual Adjustment Input')\", \"Dimensions('}ElementAttributes_M Assumption Balance Sheet Manual Adjustment Input')\"]},\n",
       " Cube:{\"Name\": \"}ElementAttributes_M Assumption COA Account GL Mapping\", \"Dimensions@odata.bind\": [\"Dimensions('M Assumption COA Account GL Mapping')\", \"Dimensions('}ElementAttributes_M Assumption COA Account GL Mapping')\"]},\n",
       " Cube:{\"Name\": \"}ElementAttributes_M Assumption Profit Loss Adjustment\", \"Dimensions@odata.bind\": [\"Dimensions('M Assumption Profit Loss Adjustment')\", \"Dimensions('}ElementAttributes_M Assumption Profit Loss Adjustment')\"]},\n",
       " Cube:{\"Name\": \"}ElementAttributes_M Assumption Profit Loss Manual Adjustment Input\", \"Dimensions@odata.bind\": [\"Dimensions('M Assumption Profit Loss Manual Adjustment Input')\", \"Dimensions('}ElementAttributes_M Assumption Profit Loss Manual Adjustment Input')\"]},\n",
       " Cube:{\"Name\": \"}ElementAttributes_M Balance Sheet\", \"Dimensions@odata.bind\": [\"Dimensions('M Balance Sheet')\", \"Dimensions('}ElementAttributes_M Balance Sheet')\"]},\n",
       " Cube:{\"Name\": \"}ElementAttributes_M Chore Execution Workflow\", \"Dimensions@odata.bind\": [\"Dimensions('M Chore Execution Workflow')\", \"Dimensions('}ElementAttributes_M Chore Execution Workflow')\"]},\n",
       " Cube:{\"Name\": \"}ElementAttributes_M Database Table Loading\", \"Dimensions@odata.bind\": [\"Dimensions('M Database Table Loading')\", \"Dimensions('}ElementAttributes_M Database Table Loading')\"]},\n",
       " Cube:{\"Name\": \"}ElementAttributes_Measure_Sales\", \"Dimensions@odata.bind\": [\"Dimensions('Measure_Sales')\", \"Dimensions('}ElementAttributes_Measure_Sales')\"]},\n",
       " Cube:{\"Name\": \"}ElementAttributes_M Exchange Rate\", \"Dimensions@odata.bind\": [\"Dimensions('M Exchange Rate')\", \"Dimensions('}ElementAttributes_M Exchange Rate')\"]},\n",
       " Cube:{\"Name\": \"}ElementAttributes_M FinReport Checking\", \"Dimensions@odata.bind\": [\"Dimensions('M FinReport Checking')\", \"Dimensions('}ElementAttributes_M FinReport Checking')\"]},\n",
       " Cube:{\"Name\": \"}ElementAttributes_M FinReport Checking Advance Config\", \"Dimensions@odata.bind\": [\"Dimensions('M FinReport Checking Advance Config')\", \"Dimensions('}ElementAttributes_M FinReport Checking Advance Config')\"]},\n",
       " Cube:{\"Name\": \"}ElementAttributes_M General Ledger\", \"Dimensions@odata.bind\": [\"Dimensions('M General Ledger')\", \"Dimensions('}ElementAttributes_M General Ledger')\"]},\n",
       " Cube:{\"Name\": \"}ElementAttributes_M General Ledger Detail\", \"Dimensions@odata.bind\": [\"Dimensions('M General Ledger Detail')\", \"Dimensions('}ElementAttributes_M General Ledger Detail')\"]},\n",
       " Cube:{\"Name\": \"}ElementAttributes_Month\", \"Dimensions@odata.bind\": [\"Dimensions('Month')\", \"Dimensions('}ElementAttributes_Month')\"]},\n",
       " Cube:{\"Name\": \"}ElementAttributes_Month Day\", \"Dimensions@odata.bind\": [\"Dimensions('Month Day')\", \"Dimensions('}ElementAttributes_Month Day')\"]},\n",
       " Cube:{\"Name\": \"}ElementAttributes_M Profit Loss\", \"Dimensions@odata.bind\": [\"Dimensions('M Profit Loss')\", \"Dimensions('}ElementAttributes_M Profit Loss')\"]},\n",
       " Cube:{\"Name\": \"}ElementAttributes_M Reference\", \"Dimensions@odata.bind\": [\"Dimensions('M Reference')\", \"Dimensions('}ElementAttributes_M Reference')\"]},\n",
       " Cube:{\"Name\": \"}ElementAttributes_m string len test\", \"Dimensions@odata.bind\": [\"Dimensions('m string len test')\", \"Dimensions('}ElementAttributes_m string len test')\"]},\n",
       " Cube:{\"Name\": \"}ElementAttributes_M Sys Definition AMZ AD Allocation Input\", \"Dimensions@odata.bind\": [\"Dimensions('M Sys Definition AMZ AD Allocation Input')\", \"Dimensions('}ElementAttributes_M Sys Definition AMZ AD Allocation Input')\"]},\n",
       " Cube:{\"Name\": \"}ElementAttributes_M Sys Definition Mapping Configuration\", \"Dimensions@odata.bind\": [\"Dimensions('M Sys Definition Mapping Configuration')\", \"Dimensions('}ElementAttributes_M Sys Definition Mapping Configuration')\"]},\n",
       " Cube:{\"Name\": \"}ElementAttributes_M Sys Definition Mapping Report Copy\", \"Dimensions@odata.bind\": [\"Dimensions('M Sys Definition Mapping Report Copy')\", \"Dimensions('}ElementAttributes_M Sys Definition Mapping Report Copy')\"]},\n",
       " Cube:{\"Name\": \"}ElementAttributes_M Sys Definition Mapping Report Type of OU\", \"Dimensions@odata.bind\": [\"Dimensions('M Sys Definition Mapping Report Type of OU')\", \"Dimensions('}ElementAttributes_M Sys Definition Mapping Report Type of OU')\"]},\n",
       " Cube:{\"Name\": \"}ElementAttributes_M Sys Definition Procut Info Mapping\", \"Dimensions@odata.bind\": [\"Dimensions('M Sys Definition Procut Info Mapping')\", \"Dimensions('}ElementAttributes_M Sys Definition Procut Info Mapping')\"]},\n",
       " Cube:{\"Name\": \"}ElementAttributes_M Sys Definition Product Cost STG\", \"Dimensions@odata.bind\": [\"Dimensions('M Sys Definition Product Cost STG')\", \"Dimensions('}ElementAttributes_M Sys Definition Product Cost STG')\"]},\n",
       " Cube:{\"Name\": \"}ElementAttributes_M Sys Definition Product MSKU LSKU Mapping\", \"Dimensions@odata.bind\": [\"Dimensions('M Sys Definition Product MSKU LSKU Mapping')\", \"Dimensions('}ElementAttributes_M Sys Definition Product MSKU LSKU Mapping')\"]},\n",
       " Cube:{\"Name\": \"}ElementAttributes_M Sys Definition ZL AMZ Fee Input\", \"Dimensions@odata.bind\": [\"Dimensions('M Sys Definition ZL AMZ Fee Input')\", \"Dimensions('}ElementAttributes_M Sys Definition ZL AMZ Fee Input')\"], \"Rules\": \"Skipcheck;\\nFeedstrings;\\n\\n#['国家','Picklist'] = S:'Subset:Country:Picklist_Country_Input';\\n\\n\\nFeeders;\"},\n",
       " Cube:{\"Name\": \"}ElementAttributes_M Sys Definition ZL AMZ Fee STG\", \"Dimensions@odata.bind\": [\"Dimensions('M Sys Definition ZL AMZ Fee STG')\", \"Dimensions('}ElementAttributes_M Sys Definition ZL AMZ Fee STG')\"]},\n",
       " Cube:{\"Name\": \"}ElementAttributes_M Sys Definition ZL Product Info Input\", \"Dimensions@odata.bind\": [\"Dimensions('M Sys Definition ZL Product Info Input')\", \"Dimensions('}ElementAttributes_M Sys Definition ZL Product Info Input')\"]},\n",
       " Cube:{\"Name\": \"}ElementAttributes_M Sys Financial Approval Workflow Code Config\", \"Dimensions@odata.bind\": [\"Dimensions('M Sys Financial Approval Workflow Code Config')\", \"Dimensions('}ElementAttributes_M Sys Financial Approval Workflow Code Config')\"]},\n",
       " Cube:{\"Name\": \"}ElementAttributes_M Sys Financial Approval Workflow Employee Config\", \"Dimensions@odata.bind\": [\"Dimensions('M Sys Financial Approval Workflow Employee Config')\", \"Dimensions('}ElementAttributes_M Sys Financial Approval Workflow Employee Config')\"]},\n",
       " Cube:{\"Name\": \"}ElementAttributes_M Sys Financial Approval Workflow Input\", \"Dimensions@odata.bind\": [\"Dimensions('M Sys Financial Approval Workflow Input')\", \"Dimensions('}ElementAttributes_M Sys Financial Approval Workflow Input')\"]},\n",
       " Cube:{\"Name\": \"}ElementAttributes_M Sys Lookup ZL Mgt Item Mapping Input\", \"Dimensions@odata.bind\": [\"Dimensions('M Sys Lookup ZL Mgt Item Mapping Input')\", \"Dimensions('}ElementAttributes_M Sys Lookup ZL Mgt Item Mapping Input')\"]},\n",
       " Cube:{\"Name\": \"}ElementAttributes_M Sys Parameter\", \"Dimensions@odata.bind\": [\"Dimensions('M Sys Parameter')\", \"Dimensions('}ElementAttributes_M Sys Parameter')\"]},\n",
       " Cube:{\"Name\": \"}ElementAttributes_M Sys Rolling Data Copy\", \"Dimensions@odata.bind\": [\"Dimensions('M Sys Rolling Data Copy')\", \"Dimensions('}ElementAttributes_M Sys Rolling Data Copy')\"]},\n",
       " Cube:{\"Name\": \"}ElementAttributes_M Trial Balance\", \"Dimensions@odata.bind\": [\"Dimensions('M Trial Balance')\", \"Dimensions('}ElementAttributes_M Trial Balance')\"]},\n",
       " Cube:{\"Name\": \"}ElementAttributes_M Trial Balance Detail\", \"Dimensions@odata.bind\": [\"Dimensions('M Trial Balance Detail')\", \"Dimensions('}ElementAttributes_M Trial Balance Detail')\"]},\n",
       " Cube:{\"Name\": \"}ElementAttributes_M Workflow\", \"Dimensions@odata.bind\": [\"Dimensions('M Workflow')\", \"Dimensions('}ElementAttributes_M Workflow')\"]},\n",
       " Cube:{\"Name\": \"}ElementAttributes_M Yongyou GL Detail\", \"Dimensions@odata.bind\": [\"Dimensions('M Yongyou GL Detail')\", \"Dimensions('}ElementAttributes_M Yongyou GL Detail')\"]},\n",
       " Cube:{\"Name\": \"}ElementAttributes_M ZL Amazon Payments Data Report\", \"Dimensions@odata.bind\": [\"Dimensions('M ZL Amazon Payments Data Report')\", \"Dimensions('}ElementAttributes_M ZL Amazon Payments Data Report')\"]},\n",
       " Cube:{\"Name\": \"}ElementAttributes_M ZL Amazon Payments Data STG\", \"Dimensions@odata.bind\": [\"Dimensions('M ZL Amazon Payments Data STG')\", \"Dimensions('}ElementAttributes_M ZL Amazon Payments Data STG')\"]},\n",
       " Cube:{\"Name\": \"}ElementAttributes_M ZL Product Analysis\", \"Dimensions@odata.bind\": [\"Dimensions('M ZL Product Analysis')\", \"Dimensions('}ElementAttributes_M ZL Product Analysis')\"]},\n",
       " Cube:{\"Name\": \"}ElementAttributes_M ZL Product Analysis Config\", \"Dimensions@odata.bind\": [\"Dimensions('M ZL Product Analysis Config')\", \"Dimensions('}ElementAttributes_M ZL Product Analysis Config')\"]},\n",
       " Cube:{\"Name\": \"}ElementAttributes_M ZL Product Cost Plan\", \"Dimensions@odata.bind\": [\"Dimensions('M ZL Product Cost Plan')\", \"Dimensions('}ElementAttributes_M ZL Product Cost Plan')\"]},\n",
       " Cube:{\"Name\": \"}ElementAttributes_M ZL Product Price Plan\", \"Dimensions@odata.bind\": [\"Dimensions('M ZL Product Price Plan')\", \"Dimensions('}ElementAttributes_M ZL Product Price Plan')\"]},\n",
       " Cube:{\"Name\": \"}ElementAttributes_M ZL Product Sales Plan\", \"Dimensions@odata.bind\": [\"Dimensions('M ZL Product Sales Plan')\", \"Dimensions('}ElementAttributes_M ZL Product Sales Plan')\"]},\n",
       " Cube:{\"Name\": \"}ElementAttributes_M ZL Sale Plan Config\", \"Dimensions@odata.bind\": [\"Dimensions('M ZL Sale Plan Config')\", \"Dimensions('}ElementAttributes_M ZL Sale Plan Config')\"]},\n",
       " Cube:{\"Name\": \"}ElementAttributes_M ZL Sales Analysis\", \"Dimensions@odata.bind\": [\"Dimensions('M ZL Sales Analysis')\", \"Dimensions('}ElementAttributes_M ZL Sales Analysis')\"]},\n",
       " Cube:{\"Name\": \"}ElementAttributes_M ZL Sales Market Basket Analysis\", \"Dimensions@odata.bind\": [\"Dimensions('M ZL Sales Market Basket Analysis')\", \"Dimensions('}ElementAttributes_M ZL Sales Market Basket Analysis')\"]},\n",
       " Cube:{\"Name\": \"}ElementAttributes_M ZL Stock Simulation Analysis\", \"Dimensions@odata.bind\": [\"Dimensions('M ZL Stock Simulation Analysis')\", \"Dimensions('}ElementAttributes_M ZL Stock Simulation Analysis')\"]},\n",
       " Cube:{\"Name\": \"}ElementAttributes_M ZL Stock Strategy\", \"Dimensions@odata.bind\": [\"Dimensions('M ZL Stock Strategy')\", \"Dimensions('}ElementAttributes_M ZL Stock Strategy')\"]},\n",
       " Cube:{\"Name\": \"}ElementAttributes_M }Cube Rule Loop\", \"Dimensions@odata.bind\": [\"Dimensions('M }Cube Rule Loop')\", \"Dimensions('}ElementAttributes_M }Cube Rule Loop')\"]},\n",
       " Cube:{\"Name\": \"}ElementAttributes_M }Processes Loop\", \"Dimensions@odata.bind\": [\"Dimensions('M }Processes Loop')\", \"Dimensions('}ElementAttributes_M }Processes Loop')\"]},\n",
       " Cube:{\"Name\": \"}ElementAttributes_Order Year\", \"Dimensions@odata.bind\": [\"Dimensions('Order Year')\", \"Dimensions('}ElementAttributes_Order Year')\"]},\n",
       " Cube:{\"Name\": \"}ElementAttributes_Platform\", \"Dimensions@odata.bind\": [\"Dimensions('Platform')\", \"Dimensions('}ElementAttributes_Platform')\"], \"Rules\": \"Skipcheck;\\nFeedstrings;\\n# 对N级别正常元素,实行常规录入时候的Alias设定\\n[{'No Platform','All Platforms','All Platforms'}] = S:Stet;\\n\\n[{'Input Style','idx'}] = S: If( !Platform @= 'No Platform' % Dtype( 'Platform',!Platform ) @= 'C',Stet,Continue );\\n['Input Style'] = S: Str(Numbr(Subst(DB('}ElementAttributes_Platform', !Platform, '中文'),1,2)),2,0) | '站';\\n\\n['idx'] = S: Str(Numbr(Subst(DB('}ElementAttributes_Platform', !Platform, '中文'),1,2)),2,0);\\n\\nFeeders;\\n['中文'] =>['Input Style'],['idx'];\"},\n",
       " Cube:{\"Name\": \"}ElementAttributes_Process Run ID\", \"Dimensions@odata.bind\": [\"Dimensions('Process Run ID')\", \"Dimensions('}ElementAttributes_Process Run ID')\"]},\n",
       " Cube:{\"Name\": \"}ElementAttributes_Product\", \"Dimensions@odata.bind\": [\"Dimensions('Product')\", \"Dimensions('}ElementAttributes_Product')\"]},\n",
       " Cube:{\"Name\": \"}ElementAttributes_Product Analysis Method\", \"Dimensions@odata.bind\": [\"Dimensions('Product Analysis Method')\", \"Dimensions('}ElementAttributes_Product Analysis Method')\"]},\n",
       " Cube:{\"Name\": \"}ElementAttributes_Product MSKU\", \"Dimensions@odata.bind\": [\"Dimensions('Product MSKU')\", \"Dimensions('}ElementAttributes_Product MSKU')\"]},\n",
       " Cube:{\"Name\": \"}ElementAttributes_Product Segement\", \"Dimensions@odata.bind\": [\"Dimensions('Product Segement')\", \"Dimensions('}ElementAttributes_Product Segement')\"]},\n",
       " Cube:{\"Name\": \"}ElementAttributes_Product Segement Basis\", \"Dimensions@odata.bind\": [\"Dimensions('Product Segement Basis')\", \"Dimensions('}ElementAttributes_Product Segement Basis')\"]},\n",
       " Cube:{\"Name\": \"}ElementAttributes_Product Status\", \"Dimensions@odata.bind\": [\"Dimensions('Product Status')\", \"Dimensions('}ElementAttributes_Product Status')\"]},\n",
       " Cube:{\"Name\": \"}ElementAttributes_Region\", \"Dimensions@odata.bind\": [\"Dimensions('Region')\", \"Dimensions('}ElementAttributes_Region')\"]},\n",
       " Cube:{\"Name\": \"}ElementAttributes_Region City\", \"Dimensions@odata.bind\": [\"Dimensions('Region City')\", \"Dimensions('}ElementAttributes_Region City')\"]},\n",
       " Cube:{\"Name\": \"}ElementAttributes_Region State\", \"Dimensions@odata.bind\": [\"Dimensions('Region State')\", \"Dimensions('}ElementAttributes_Region State')\"]},\n",
       " Cube:{\"Name\": \"}ElementAttributes_Report Type\", \"Dimensions@odata.bind\": [\"Dimensions('Report Type')\", \"Dimensions('}ElementAttributes_Report Type')\"]},\n",
       " Cube:{\"Name\": \"}ElementAttributes_Report Type Version\", \"Dimensions@odata.bind\": [\"Dimensions('Report Type Version')\", \"Dimensions('}ElementAttributes_Report Type Version')\"]},\n",
       " Cube:{\"Name\": \"}ElementAttributes_SA Month\", \"Dimensions@odata.bind\": [\"Dimensions('SA Month')\", \"Dimensions('}ElementAttributes_SA Month')\"]},\n",
       " Cube:{\"Name\": \"}ElementAttributes_SA Month Day\", \"Dimensions@odata.bind\": [\"Dimensions('SA Month Day')\", \"Dimensions('}ElementAttributes_SA Month Day')\"]},\n",
       " Cube:{\"Name\": \"}ElementAttributes_SA Year\", \"Dimensions@odata.bind\": [\"Dimensions('SA Year')\", \"Dimensions('}ElementAttributes_SA Year')\"]},\n",
       " Cube:{\"Name\": \"}ElementAttributes_Scenario\", \"Dimensions@odata.bind\": [\"Dimensions('Scenario')\", \"Dimensions('}ElementAttributes_Scenario')\"]},\n",
       " Cube:{\"Name\": \"}ElementAttributes_Supplier\", \"Dimensions@odata.bind\": [\"Dimensions('Supplier')\", \"Dimensions('}ElementAttributes_Supplier')\"]},\n",
       " Cube:{\"Name\": \"}ElementAttributes_SYS_UserProperties\", \"Dimensions@odata.bind\": [\"Dimensions('SYS_UserProperties')\", \"Dimensions('}ElementAttributes_SYS_UserProperties')\"]},\n",
       " Cube:{\"Name\": \"}ElementAttributes_SYS_UserProperties_M\", \"Dimensions@odata.bind\": [\"Dimensions('SYS_UserProperties_M')\", \"Dimensions('}ElementAttributes_SYS_UserProperties_M')\"]},\n",
       " Cube:{\"Name\": \"}ElementAttributes_Sys Chore Execution Workflow Moudle\", \"Dimensions@odata.bind\": [\"Dimensions('Sys Chore Execution Workflow Moudle')\", \"Dimensions('}ElementAttributes_Sys Chore Execution Workflow Moudle')\"]},\n",
       " Cube:{\"Name\": \"}ElementAttributes_Sys Lookup Year Month Measure\", \"Dimensions@odata.bind\": [\"Dimensions('Sys Lookup Year Month Measure')\", \"Dimensions('}ElementAttributes_Sys Lookup Year Month Measure')\"]},\n",
       " Cube:{\"Name\": \"}ElementAttributes_Sys Parameter\", \"Dimensions@odata.bind\": [\"Dimensions('Sys Parameter')\", \"Dimensions('}ElementAttributes_Sys Parameter')\"]},\n",
       " Cube:{\"Name\": \"}ElementAttributes_Sys Workflow Category\", \"Dimensions@odata.bind\": [\"Dimensions('Sys Workflow Category')\", \"Dimensions('}ElementAttributes_Sys Workflow Category')\"]},\n",
       " Cube:{\"Name\": \"}ElementAttributes_Sys Workflow Code\", \"Dimensions@odata.bind\": [\"Dimensions('Sys Workflow Code')\", \"Dimensions('}ElementAttributes_Sys Workflow Code')\"]},\n",
       " Cube:{\"Name\": \"}ElementAttributes_Sys Workflow Module\", \"Dimensions@odata.bind\": [\"Dimensions('Sys Workflow Module')\", \"Dimensions('}ElementAttributes_Sys Workflow Module')\"]},\n",
       " Cube:{\"Name\": \"}ElementAttributes_TB Account Detail\", \"Dimensions@odata.bind\": [\"Dimensions('TB Account Detail')\", \"Dimensions('}ElementAttributes_TB Account Detail')\"]},\n",
       " Cube:{\"Name\": \"}ElementAttributes_Test\", \"Dimensions@odata.bind\": [\"Dimensions('Test')\", \"Dimensions('}ElementAttributes_Test')\"]},\n",
       " Cube:{\"Name\": \"}ElementAttributes_TM1 Logger\", \"Dimensions@odata.bind\": [\"Dimensions('TM1 Logger')\", \"Dimensions('}ElementAttributes_TM1 Logger')\"]},\n",
       " Cube:{\"Name\": \"}ElementAttributes_TM1 Log Level\", \"Dimensions@odata.bind\": [\"Dimensions('TM1 Log Level')\", \"Dimensions('}ElementAttributes_TM1 Log Level')\"]},\n",
       " Cube:{\"Name\": \"}ElementAttributes_TM1 Log Type\", \"Dimensions@odata.bind\": [\"Dimensions('TM1 Log Type')\", \"Dimensions('}ElementAttributes_TM1 Log Type')\"]},\n",
       " Cube:{\"Name\": \"}ElementAttributes_Version\", \"Dimensions@odata.bind\": [\"Dimensions('Version')\", \"Dimensions('}ElementAttributes_Version')\"]},\n",
       " Cube:{\"Name\": \"}ElementAttributes_Year\", \"Dimensions@odata.bind\": [\"Dimensions('Year')\", \"Dimensions('}ElementAttributes_Year')\"]},\n",
       " Cube:{\"Name\": \"}ElementAttributes_Year Fiscal\", \"Dimensions@odata.bind\": [\"Dimensions('Year Fiscal')\", \"Dimensions('}ElementAttributes_Year Fiscal')\"]},\n",
       " Cube:{\"Name\": \"}ElementAttributes_Year Month\", \"Dimensions@odata.bind\": [\"Dimensions('Year Month')\", \"Dimensions('}ElementAttributes_Year Month')\"], \"Rules\": \"#Region System\\nFEEDSTRINGS;\\nSKIPCHECK;\\n#EndRegion\"},\n",
       " Cube:{\"Name\": \"}ElementAttributes_Year Month Index\", \"Dimensions@odata.bind\": [\"Dimensions('Year Month Index')\", \"Dimensions('}ElementAttributes_Year Month Index')\"]},\n",
       " Cube:{\"Name\": \"}ElementAttributes_ZL Amazon Management Report Item\", \"Dimensions@odata.bind\": [\"Dimensions('ZL Amazon Management Report Item')\", \"Dimensions('}ElementAttributes_ZL Amazon Management Report Item')\"]},\n",
       " Cube:{\"Name\": \"}ElementAttributes_ZL AMZ Fee Item\", \"Dimensions@odata.bind\": [\"Dimensions('ZL AMZ Fee Item')\", \"Dimensions('}ElementAttributes_ZL AMZ Fee Item')\"]},\n",
       " Cube:{\"Name\": \"}ElementAttributes_}APQ Time Day in Year\", \"Dimensions@odata.bind\": [\"Dimensions('}APQ Time Day in Year')\", \"Dimensions('}ElementAttributes_}APQ Time Day in Year')\"]},\n",
       " Cube:{\"Name\": \"}ElementAttributes_}APQ Time Minute\", \"Dimensions@odata.bind\": [\"Dimensions('}APQ Time Minute')\", \"Dimensions('}ElementAttributes_}APQ Time Minute')\"]},\n",
       " Cube:{\"Name\": \"}ElementAttributes_}APQ Time Second\", \"Dimensions@odata.bind\": [\"Dimensions('}APQ Time Second')\", \"Dimensions('}ElementAttributes_}APQ Time Second')\"]},\n",
       " Cube:{\"Name\": \"}ElementAttributes_}APQ Time Year\", \"Dimensions@odata.bind\": [\"Dimensions('}APQ Time Year')\", \"Dimensions('}ElementAttributes_}APQ Time Year')\"]},\n",
       " Cube:{\"Name\": \"}ElementAttributes_}ClientProperties\", \"Dimensions@odata.bind\": [\"Dimensions('}ClientProperties')\", \"Dimensions('}ElementAttributes_}ClientProperties')\"]},\n",
       " Cube:{\"Name\": \"}ElementAttributes_}Clients\", \"Dimensions@odata.bind\": [\"Dimensions('}Clients')\", \"Dimensions('}ElementAttributes_}Clients')\"], \"Rules\": \"Skipcheck;\\nFeedstrings;\\n['}TM1_DefaultDisplayValue'] = S:\\n  If( ['Exception Flag'] <> 1, 'ZLAuth / '| !}Clients,Stet);\\n\\n\\n\\n\\nFeeders;\\n['Exception Flag'] =>['}TM1_DefaultDisplayValue'];\"},\n",
       " Cube:{\"Name\": \"}ElementAttributes_}Cubes\", \"Dimensions@odata.bind\": [\"Dimensions('}Cubes')\", \"Dimensions('}ElementAttributes_}Cubes')\"]},\n",
       " Cube:{\"Name\": \"}ElementAttributes_}Cultures\", \"Dimensions@odata.bind\": [\"Dimensions('}Cultures')\", \"Dimensions('}ElementAttributes_}Cultures')\"]},\n",
       " Cube:{\"Name\": \"}ElementAttributes_}Groups\", \"Dimensions@odata.bind\": [\"Dimensions('}Groups')\", \"Dimensions('}ElementAttributes_}Groups')\"]},\n",
       " Cube:{\"Name\": \"}ElementAttributes_}StatsStatsByCube\", \"Dimensions@odata.bind\": [\"Dimensions('}StatsStatsByCube')\", \"Dimensions('}ElementAttributes_}StatsStatsByCube')\"]},\n",
       " Cube:{\"Name\": \"}ElementAttributes_}TECH_Subset\", \"Dimensions@odata.bind\": [\"Dimensions('}TECH_Subset')\", \"Dimensions('}ElementAttributes_}TECH_Subset')\"]},\n",
       " Cube:{\"Name\": \"}ElementAttributes_}TECH_User\", \"Dimensions@odata.bind\": [\"Dimensions('}TECH_User')\", \"Dimensions('}ElementAttributes_}TECH_User')\"]},\n",
       " Cube:{\"Name\": \"}ElementAttributes_}TECH_View\", \"Dimensions@odata.bind\": [\"Dimensions('}TECH_View')\", \"Dimensions('}ElementAttributes_}TECH_View')\"]},\n",
       " Cube:{\"Name\": \"}ElementAttributes_}TECH_ViewsAndSubsets_Measures\", \"Dimensions@odata.bind\": [\"Dimensions('}TECH_ViewsAndSubsets_Measures')\", \"Dimensions('}ElementAttributes_}TECH_ViewsAndSubsets_Measures')\"]},\n",
       " Cube:{\"Name\": \"}ElementAttributes_}tp_applications\", \"Dimensions@odata.bind\": [\"Dimensions('}tp_applications')\", \"Dimensions('}ElementAttributes_}tp_applications')\"]},\n",
       " Cube:{\"Name\": \"}ElementAttributes_}tp_config\", \"Dimensions@odata.bind\": [\"Dimensions('}tp_config')\", \"Dimensions('}ElementAttributes_}tp_config')\"]},\n",
       " Cube:{\"Name\": \"}ElementAttributes_}tp_process_errors_localization\", \"Dimensions@odata.bind\": [\"Dimensions('}tp_process_errors_localization')\", \"Dimensions('}ElementAttributes_}tp_process_errors_localization')\"]},\n",
       " Cube:{\"Name\": \"}ElementAttributes_}tp_system_config\", \"Dimensions@odata.bind\": [\"Dimensions('}tp_system_config')\", \"Dimensions('}ElementAttributes_}tp_system_config')\"]},\n",
       " Cube:{\"Name\": \"}ElementProperties_Business Unit\", \"Dimensions@odata.bind\": [\"Dimensions('Business Unit')\", \"Dimensions('}ElementProperties')\"]},\n",
       " Cube:{\"Name\": \"}ElementSecurity_COA Company\", \"Dimensions@odata.bind\": [\"Dimensions('COA Company')\", \"Dimensions('}Groups')\"]},\n",
       " Cube:{\"Name\": \"}ElementSecurity_Country\", \"Dimensions@odata.bind\": [\"Dimensions('Country')\", \"Dimensions('}Groups')\"]},\n",
       " Cube:{\"Name\": \"}ElementSecurity_M Sys Definition ZL AMZ Fee Input\", \"Dimensions@odata.bind\": [\"Dimensions('M Sys Definition ZL AMZ Fee Input')\", \"Dimensions('}Groups')\"]},\n",
       " Cube:{\"Name\": \"}ElementSecurity_ZL AMZ Fee Item\", \"Dimensions@odata.bind\": [\"Dimensions('ZL AMZ Fee Item')\", \"Dimensions('}Groups')\"]},\n",
       " Cube:{\"Name\": \"}ElementSecurity_}tp_applications\", \"Dimensions@odata.bind\": [\"Dimensions('}tp_applications')\", \"Dimensions('}Groups')\"], \"Rules\": \"[]=S:STET;\"},\n",
       " Cube:{\"Name\": \"}HierarchyProperties\", \"Dimensions@odata.bind\": [\"Dimensions('}Dimensions')\", \"Dimensions('}Hierarchies')\", \"Dimensions('}HierarchyProperties')\"]},\n",
       " Cube:{\"Name\": \"}LocalizedCubeAttributes\", \"Dimensions@odata.bind\": [\"Dimensions('}Cubes')\", \"Dimensions('}Cultures')\", \"Dimensions('}CubeAttributes')\"]},\n",
       " Cube:{\"Name\": \"}LocalizedDimensionAttributes\", \"Dimensions@odata.bind\": [\"Dimensions('}Dimensions')\", \"Dimensions('}Cultures')\", \"Dimensions('}DimensionAttributes')\"]},\n",
       " Cube:{\"Name\": \"}LocalizedElementAttributes_Product MSKU\", \"Dimensions@odata.bind\": [\"Dimensions('Product MSKU')\", \"Dimensions('}Cultures')\", \"Dimensions('}ElementAttributes_Product MSKU')\"]},\n",
       " Cube:{\"Name\": \"}LocalizedElementAttributes_SA Month\", \"Dimensions@odata.bind\": [\"Dimensions('SA Month')\", \"Dimensions('}Cultures')\", \"Dimensions('}ElementAttributes_SA Month')\"]},\n",
       " Cube:{\"Name\": \"}PickList_ClientGroups\", \"Dimensions@odata.bind\": [\"Dimensions('}Clients')\", \"Dimensions('}Groups')\", \"Dimensions('}PickList')\"], \"Rules\": \"Skipcheck;\\nFeedstrings;\\n\\n\\n[] = S:'Static:1:0';\\n\\nFeeders;\"},\n",
       " Cube:{\"Name\": \"}PickList_Sys Definition ZL AMZ Fee Input\", \"Dimensions@odata.bind\": [\"Dimensions('Scenario')\", \"Dimensions('SA Year')\", \"Dimensions('SA Month')\", \"Dimensions('Version')\", \"Dimensions('COA Company')\", \"Dimensions('Country')\", \"Dimensions('Line Item')\", \"Dimensions('ZL AMZ Fee Item')\", \"Dimensions('Data Source ZL AMZ Fee Input')\", \"Dimensions('M Sys Definition ZL AMZ Fee Input')\", \"Dimensions('}PickList')\"], \"Rules\": \"Skipcheck;\\nFeedstrings;\\n\\n['M Sys Definition ZL AMZ Fee Input':{'国家'}] = S: 'Static:' | ATTRS('Country', !Country, '中文');\\n\\n['M Sys Definition ZL AMZ Fee Input':{'站号'}] = S: If( !Country @= 'JP', 'Static:' | '9站','Subset:Platform:Picklist_Input_PL');\\n\\n['M Sys Definition ZL AMZ Fee Input':{'货币'}] = S: \\n#  If( Subst(!ZL AMZ Fee Item,1,9) @= 'Sponsored',\\n#      'Static:' | ATTRS('Country', !Country, 'Currency') ,\\n'Subset:Currency:Picklist_AMZADs_Input'\\n#)\\n;\\n\\n\\nFeeders;\"},\n",
       " Cube:{\"Name\": \"}PickList_Sys Parameter\", \"Dimensions@odata.bind\": [\"Dimensions('Sys Parameter')\", \"Dimensions('M Sys Parameter')\", \"Dimensions('}PickList')\"], \"Rules\": \"\\n['Text','TM1 Server System'] = S:'Static:Linux:Windows';\"},\n",
       " Cube:{\"Name\": \"}PickList_Sys Rolling Data Copy\", \"Dimensions@odata.bind\": [\"Dimensions('SA Year')\", \"Dimensions('SA Month')\", \"Dimensions('}Cubes')\", \"Dimensions('M Sys Rolling Data Copy')\", \"Dimensions('}PickList')\"], \"Rules\": \"Skipcheck;\\nFeedstrings;\\n\\n# set dims for 维度1/2/3\\n\\n\\n\\n\\n# use dimension way to create Picklist\\n#[{'起始元素1','目标元素1'}] = S:'Dimension:' |  DB('Sys Rolling Data Copy', !SA Year, !SA Month, !}Cubes, '维度1');\\n#[{'起始元素2','目标元素3'}] = S:'Dimension:' |  DB('Sys Rolling Data Copy', !SA Year, !SA Month, !}Cubes, '维度2');\\n#[{'起始元素3','目标元素3'}] = S:'Dimension:' |  DB('Sys Rolling Data Copy', !SA Year, !SA Month, !}Cubes, '维度3');\\n\\n# use subset way to create Picklist\\n[{'起始元素1','目标元素1'}] = S:'Subset:' | DB('Sys Rolling Data Copy', !SA Year, !SA Month, !}Cubes, '维度1') | ':All N Elements MDX';\\n\\n[{'起始元素2','目标元素2'}] = S:'Subset:' | DB('Sys Rolling Data Copy', !SA Year, !SA Month, !}Cubes, '维度2') | ':All N Elements MDX';\\n\\n[{'起始元素3','目标元素3'}] = S:'Subset:' | DB('Sys Rolling Data Copy', !SA Year, !SA Month, !}Cubes, '维度3') | ':All N Elements MDX';\\n\\nFeeders;\\n\\n\\n\"},\n",
       " Cube:{\"Name\": \"}PickList_TM1 Function Test\", \"Dimensions@odata.bind\": [\"Dimensions('Month')\", \"Dimensions('m string len test')\", \"Dimensions('}PickList')\"], \"Rules\": \"['m string len test':'string'] = S:'Static:A:B:C';\"},\n",
       " Cube:{\"Name\": \"}PickList_}ApplicationSecurity\", \"Dimensions@odata.bind\": [\"Dimensions('}ApplicationEntries')\", \"Dimensions('}Groups')\", \"Dimensions('}PickList')\"], \"Rules\": \"Skipcheck;\\nFeedstrings;\\n[] = S:'Static::Read:Admin';\\nFeeders;\"},\n",
       " Cube:{\"Name\": \"}PickList_}ChoreSecurity\", \"Dimensions@odata.bind\": [\"Dimensions('}Chores')\", \"Dimensions('}Groups')\", \"Dimensions('}PickList')\"], \"Rules\": \"Skipcheck;\\nFeedstrings;\\n[] = S:'Static::Read:Admin';\\nFeeders;\"},\n",
       " Cube:{\"Name\": \"}PickList_}ClientGroups\", \"Dimensions@odata.bind\": [\"Dimensions('}Clients')\", \"Dimensions('}Groups')\", \"Dimensions('}PickList')\"], \"Rules\": \"Skipcheck;\\nFeedstrings;\\n[] = S:'Static::'|!}Groups;\\nFeeders;\"},\n",
       " Cube:{\"Name\": \"}PickList_}CubeSecurity\", \"Dimensions@odata.bind\": [\"Dimensions('}Cubes')\", \"Dimensions('}Groups')\", \"Dimensions('}PickList')\"], \"Rules\": \"Skipcheck;\\nFeedstrings;\\n[] = S:'Static::READ:WRITE:ADMIN';\\nFeeders;\"},\n",
       " Cube:{\"Name\": \"}PickList_}DimensionSecurity\", \"Dimensions@odata.bind\": [\"Dimensions('}Dimensions')\", \"Dimensions('}Groups')\", \"Dimensions('}PickList')\"], \"Rules\": \"Skipcheck;\\nFeedstrings;\\n[] = S:'Static:::Reserve:Lock:Read:Write:Admin';\\nFeeders;\"},\n",
       " Cube:{\"Name\": \"}PickList_}ProcessSecurity\", \"Dimensions@odata.bind\": [\"Dimensions('}Processes')\", \"Dimensions('}Groups')\", \"Dimensions('}PickList')\"], \"Rules\": \"Skipcheck;\\nFeedstrings;\\n[] = S:'Static::READ:ADMIN';\\nFeeders;\"},\n",
       " Cube:{\"Name\": \"}Processes Loop\", \"Dimensions@odata.bind\": [\"Dimensions('}Processes')\", \"Dimensions('M }Processes Loop')\"]},\n",
       " Cube:{\"Name\": \"}Process Execution Error Log\", \"Dimensions@odata.bind\": [\"Dimensions('}Processes')\", \"Dimensions('SA Year')\", \"Dimensions('SA Month Day')\", \"Dimensions('}Clients')\", \"Dimensions('Line Item')\", \"Dimensions('}Process Run Error Log ID')\", \"Dimensions('}Process Execution Error Log Measure')\"]},\n",
       " Cube:{\"Name\": \"}Process Run Log\", \"Dimensions@odata.bind\": [\"Dimensions('Process Run ID')\", \"Dimensions('Line Item')\", \"Dimensions('}Processes')\", \"Dimensions('Data Source Process Run Log')\", \"Dimensions('}Process Run Log Measure')\"], \"Rules\": \"Feedstrings;\\nSkipcheck;\\n\\n['Process Execution Parameters Simplify'] = S: Subst( DB('}Process Run Log', !Process Run ID, !Line Item, !}Processes, !Data Source Process Run Log, 'Process Execution Parameters')\\n,Scan('parameters',DB('}Process Run Log', !Process Run ID, !Line Item, !}Processes, !Data Source Process Run Log, 'Process Execution Parameters')) + 11,Long(\\nDB('}Process Run Log', !Process Run ID, !Line Item, !}Processes, !Data Source Process Run Log, 'Process Execution Parameters')));\\n\\n\\n\\nFeeders;\\n\\n\\n['Process Execution Parameters']=>['Process Execution Parameters Simplify'];\"},\n",
       " Cube:{\"Name\": \"}ProcessSecurity\", \"Dimensions@odata.bind\": [\"Dimensions('}Processes')\", \"Dimensions('}Groups')\"], \"Rules\": \"Skipcheck;\\nFeedstrings;\\n\\n['Operations Dept'] =S:If( Scan( 'Approval',!}Processes) >0, 'READ',Continue);\\n\\nFeeders;\"},\n",
       " Cube:{\"Name\": \"}StatsByChore\", \"Dimensions@odata.bind\": [\"Dimensions('}TimeIntervals')\", \"Dimensions('}Chores')\", \"Dimensions('}StatsByProcess')\"]},\n",
       " Cube:{\"Name\": \"}StatsByClient\", \"Dimensions@odata.bind\": [\"Dimensions('}StatsStatsByClient')\", \"Dimensions('}PerfClients')\", \"Dimensions('}TimeIntervals')\"], \"Rules\": \"Skipcheck;\\n['Bytes/Message']=['Message Bytes'] \\\\ ['Message Count'];\\nFeeders;\\n['Message Bytes']=>['Bytes/Message'];\"},\n",
       " Cube:{\"Name\": \"}StatsByCube\", \"Dimensions@odata.bind\": [\"Dimensions('}StatsStatsByCube')\", \"Dimensions('}PerfCubes')\", \"Dimensions('}TimeIntervals')\"], \"Rules\": \"Skipcheck;\\n\\n['Total memory in KB'] = RoundP( ['Total Memory Used'] / 1024, 1 );\\n['Total memory in MB'] = RoundP( ['Total Memory Used'] / 1024^2, 1 );\\n['Total memory in GB'] = RoundP( ['Total Memory Used'] / 1024^3, 2 );\\n\\n# Source - based on: http://ykud.com/blog/cognos/tm1-cognos/4-things-you-can-do-to-improve-tm1-performance-today\\n\\n# Option 1 - Measuring overfeeding through the number of cells\\n\\n# Overfeeding through the number of cells\\n['Overfeeding'] = Int( ['Number of Fed Cells'] \\\\ ['Number of Populated Numeric Cells'] );\\n\\n# A ratio of 50 seems too much: 50 or higher means bad\\n['Heavy overfeeding ?'] = If( ['Overfeeding'] > 50, 1, 0 );\\n\\n\\n# Option 2 - Measuring overfeeding through the memory consumed\\n\\n# A large cube contains a memory of at least 200 MB: 1 means large\\n['Is large ?'] = If( ['Total Memory Used'] > 200000000, 1, 0 );\\n\\n# Memory used for feeders takes more than 80% of Total memory used\\\": 1 means bad\\n['Is overfed ?'] = If( ['Memory Used for Feeders'] \\\\ ['Total Memory Used'] > 0.8, 1, 0 );\\n\\n# Large overfed cubes are considered to be bad: 1 means bad\\n['Is bad ?'] = ['Is large ?'] * ['Is overfed ?'];\\n\\nFeeders;\\n['Total Memory Used'] =>['Total memory in KB'],['Total memory in MB'],['Total memory in GB'];\\n['Number of Fed Cells'] => ['Overfeeding'];\\n['Overfeeding'] => ['Heavy overfeeding ?'];\\n['Total Memory Used'] => ['Is large ?'];\\n['Is large ?'] => ['Is bad ?'];\\n['Memory Used for Feeders'] =>['Is overfed ?'];\\n\"},\n",
       " Cube:{\"Name\": \"}StatsByCubeByClient\", \"Dimensions@odata.bind\": [\"Dimensions('}PerfClients')\", \"Dimensions('}PerfCubes')\", \"Dimensions('}Cube Functions')\", \"Dimensions('}StatsStatsByCubeByClient')\", \"Dimensions('}TimeIntervals')\"]},\n",
       " Cube:{\"Name\": \"}StatsByProcess\", \"Dimensions@odata.bind\": [\"Dimensions('}TimeIntervals')\", \"Dimensions('}Processes')\", \"Dimensions('}StatsByProcess')\"]},\n",
       " Cube:{\"Name\": \"}StatsByRule\", \"Dimensions@odata.bind\": [\"Dimensions('}Cubes')\", \"Dimensions('}LineNumber')\", \"Dimensions('}RuleStats')\"]},\n",
       " Cube:{\"Name\": \"}StatsForServer\", \"Dimensions@odata.bind\": [\"Dimensions('}StatsStatsForServer')\", \"Dimensions('}TimeIntervals')\"]},\n",
       " Cube:{\"Name\": \"}TECH_ViewsAndSubsets\", \"Dimensions@odata.bind\": [\"Dimensions('}TECH_View')\", \"Dimensions('}TECH_Subset')\", \"Dimensions('}TECH_User')\", \"Dimensions('}TECH_ViewsAndSubsets_Order')\", \"Dimensions('}TECH_ViewsAndSubsets_Measures')\"]},\n",
       " Cube:{\"Name\": \"}tp_app_user_preferences\", \"Dimensions@odata.bind\": [\"Dimensions('}Clients')\", \"Dimensions('}tp_applications')\", \"Dimensions('}tp_app_user_preference')\"]},\n",
       " Cube:{\"Name\": \"}tp_application_cubes\", \"Dimensions@odata.bind\": [\"Dimensions('}tp_applications')\", \"Dimensions('}Cubes')\"]},\n",
       " Cube:{\"Name\": \"}tp_application_jobs\", \"Dimensions@odata.bind\": [\"Dimensions('}tp_jobs')\", \"Dimensions('}tp_job_info')\"]},\n",
       " Cube:{\"Name\": \"}tp_application_root_permissions\", \"Dimensions@odata.bind\": [\"Dimensions('}tp_applications')\", \"Dimensions('}tp_root_permissions')\"], \"Rules\": \"[]=S:'Y';\"},\n",
       " Cube:{\"Name\": \"}tp_central_application_state\", \"Dimensions@odata.bind\": [\"Dimensions('}tp_applications')\", \"Dimensions('}tp_node_info')\"]},\n",
       " Cube:{\"Name\": \"}tp_process_errors\", \"Dimensions@odata.bind\": [\"Dimensions('}tp_process_guids')\", \"Dimensions('}tp_process_error_measures')\"]},\n",
       " Cube:{\"Name\": \"}tp_workflow_action_TI\", \"Dimensions@odata.bind\": [\"Dimensions('}tp_applications')\", \"Dimensions('}tp_workflow_actions')\", \"Dimensions('}tp_workflow_action_TI_measures')\"]}]"
      ]
     },
     "execution_count": 159,
     "metadata": {},
     "output_type": "execute_result"
    }
   ],
   "source": [
    "cubes"
   ]
  },
  {
   "cell_type": "code",
   "execution_count": 160,
   "id": "71669080",
   "metadata": {},
   "outputs": [
    {
     "data": {
      "text/plain": [
       "list"
      ]
     },
     "execution_count": 160,
     "metadata": {},
     "output_type": "execute_result"
    }
   ],
   "source": [
    "type(cubes)"
   ]
  },
  {
   "cell_type": "code",
   "execution_count": 161,
   "id": "a5bfdefd",
   "metadata": {},
   "outputs": [],
   "source": [
    "cubes_name = TM1.cubes.get_all_names()"
   ]
  },
  {
   "cell_type": "code",
   "execution_count": 162,
   "id": "b57ca231",
   "metadata": {},
   "outputs": [
    {
     "data": {
      "text/plain": [
       "['APQ TM1 Log Recorder',\n",
       " 'ClientGroups',\n",
       " 'Cube Test',\n",
       " 'Database Table Loading',\n",
       " 'Exchange Rate',\n",
       " 'Exchange Rate Daily',\n",
       " 'Exchange Rate Input',\n",
       " 'Rollup',\n",
       " 'Sales',\n",
       " 'Sales - Overfeeding',\n",
       " 'SYS_UserProperties',\n",
       " 'Sys Definition Chore Execution Workflow',\n",
       " 'Sys Definition Product Cost STG',\n",
       " 'Sys Definition Product Info Mapping Input',\n",
       " 'Sys Definition Product MSKU LSKU Mapping',\n",
       " 'Sys Definition ZL AMZ Fee Input',\n",
       " 'Sys Definition ZL AMZ Fee STG',\n",
       " 'Sys Definition ZL Mgt Item Mapping Input',\n",
       " 'Sys Definition ZL Product Info',\n",
       " 'Sys Definition ZL Product Info Input',\n",
       " 'Sys Financial Approval Workflow Code Config',\n",
       " 'Sys Financial Approval Workflow Employee Config',\n",
       " 'Sys Financial Approval Workflow Input',\n",
       " 'Sys Financial Approval Workflow Process Config',\n",
       " 'Sys Lookup Year Month',\n",
       " 'Sys Parameter',\n",
       " 'Sys Rolling Data Copy',\n",
       " 'TM1 Function Test',\n",
       " 'ZL Amazon Payments Data Report',\n",
       " 'ZL Amazon Payments Data STG',\n",
       " 'ZL Product Analysis',\n",
       " 'ZL Product Analysis Config',\n",
       " 'ZL Product Cost Plan',\n",
       " 'ZL Product Price Plan',\n",
       " 'ZL Product Sales Plan',\n",
       " 'ZL Sale Plan Config',\n",
       " 'ZL Sales Analysis',\n",
       " 'ZL Sales Market Basket Analysis',\n",
       " 'ZL Stock Simulation Analysis',\n",
       " 'ZL Stock Strategy',\n",
       " '}AccessClient_Elements_Country',\n",
       " '}AccessClientGroup_Elements_Country',\n",
       " '}ApplicationSecurity',\n",
       " '}Capabilities',\n",
       " '}CellAnnotations_ZL Amazon Payments Data Report',\n",
       " '}CellSecurity_Sales',\n",
       " '}CellSecurity_Sys Financial Approval Workflow Input',\n",
       " '}CellSecurity_Sys Parameter',\n",
       " '}CellSecurity_TM1 Function Test',\n",
       " '}CellSecurity_}DimensionProperties',\n",
       " '}CellSecurity_}tp_application_root_permissions',\n",
       " '}ChoreSecurity',\n",
       " '}ClientCAMAssociatedGroups',\n",
       " '}ClientGroups',\n",
       " '}ClientProperties',\n",
       " '}ClientSettings',\n",
       " '}CubeAttributes',\n",
       " '}CubeDrill_ZL Amazon Payments Data STG',\n",
       " '}CubeDrill_ZL Sales Analysis',\n",
       " '}CubeProperties',\n",
       " '}Cube Rule Loop',\n",
       " '}CubeSecurity',\n",
       " '}CubeSecurityProperties',\n",
       " '}DimensionAttributes',\n",
       " '}DimensionProperties',\n",
       " '}DimensionSecurity',\n",
       " '}ElementAttributes_Account',\n",
       " '}ElementAttributes_Account BS',\n",
       " '}ElementAttributes_Account GL',\n",
       " '}ElementAttributes_Account PL',\n",
       " '}ElementAttributes_Adjustment Type',\n",
       " '}ElementAttributes_Ant Cost Center',\n",
       " '}ElementAttributes_Behavior',\n",
       " '}ElementAttributes_Business Unit',\n",
       " '}ElementAttributes_Business Unit FPA',\n",
       " '}ElementAttributes_Channel',\n",
       " '}ElementAttributes_COA  Account GL',\n",
       " '}ElementAttributes_COA Company',\n",
       " '}ElementAttributes_COA Cost Center',\n",
       " '}ElementAttributes_COA Detail',\n",
       " '}ElementAttributes_COA InterCompany',\n",
       " '}ElementAttributes_COA Product',\n",
       " '}ElementAttributes_COA Project',\n",
       " '}ElementAttributes_COA Region',\n",
       " '}ElementAttributes_Company',\n",
       " '}ElementAttributes_Country',\n",
       " '}ElementAttributes_Currency',\n",
       " '}ElementAttributes_Currency From',\n",
       " '}ElementAttributes_Currency To',\n",
       " '}ElementAttributes_Customer',\n",
       " '}ElementAttributes_Customer_01',\n",
       " '}ElementAttributes_Customer_02',\n",
       " '}ElementAttributes_Database Type',\n",
       " '}ElementAttributes_Data Source',\n",
       " '}ElementAttributes_Data Source Assumption Balance Sheet Manual Adjustment Input',\n",
       " '}ElementAttributes_Data Source Assumption Profit Loss Manual Adjustment Input',\n",
       " '}ElementAttributes_Data Source Balance Sheet',\n",
       " '}ElementAttributes_Data Source General Ledger',\n",
       " '}ElementAttributes_Data Source General Ledger Detail',\n",
       " '}ElementAttributes_Data Source Payments Data Report',\n",
       " '}ElementAttributes_Data Source Payments Data STG',\n",
       " '}ElementAttributes_Data Source Process Run Log',\n",
       " '}ElementAttributes_Data Source Profit Loss',\n",
       " '}ElementAttributes_Data Source Trial Balance',\n",
       " '}ElementAttributes_Data Source ZL AMZ Fee Input',\n",
       " '}ElementAttributes_Data Source ZL AMZ Fee STG',\n",
       " '}ElementAttributes_Data Source ZL Product Cost Plan',\n",
       " '}ElementAttributes_Data Source ZL Product Price Plan',\n",
       " '}ElementAttributes_Data Source ZL Product Sales Plan',\n",
       " '}ElementAttributes_Data Source ZL Sales Analysis',\n",
       " '}ElementAttributes_Data Source ZL Sales Market Basket Analysis',\n",
       " '}ElementAttributes_Data Source ZL Stock Simulation Analysis',\n",
       " '}ElementAttributes_Date',\n",
       " '}ElementAttributes_Detail Line Item',\n",
       " '}ElementAttributes_Employee',\n",
       " '}ElementAttributes_Fee Allocation Method',\n",
       " '}ElementAttributes_FinReport Checking Type',\n",
       " '}ElementAttributes_Line Item',\n",
       " '}ElementAttributes_Line Item Log',\n",
       " '}ElementAttributes_Location',\n",
       " '}ElementAttributes_M Amazon Payments Data Report',\n",
       " '}ElementAttributes_M Amazon Payments Data STG',\n",
       " '}ElementAttributes_M Assumption Balance Sheet Adjustment',\n",
       " '}ElementAttributes_M Assumption Balance Sheet Manual Adjustment Input',\n",
       " '}ElementAttributes_M Assumption COA Account GL Mapping',\n",
       " '}ElementAttributes_M Assumption Profit Loss Adjustment',\n",
       " '}ElementAttributes_M Assumption Profit Loss Manual Adjustment Input',\n",
       " '}ElementAttributes_M Balance Sheet',\n",
       " '}ElementAttributes_M Chore Execution Workflow',\n",
       " '}ElementAttributes_M Database Table Loading',\n",
       " '}ElementAttributes_Measure_Sales',\n",
       " '}ElementAttributes_M Exchange Rate',\n",
       " '}ElementAttributes_M FinReport Checking',\n",
       " '}ElementAttributes_M FinReport Checking Advance Config',\n",
       " '}ElementAttributes_M General Ledger',\n",
       " '}ElementAttributes_M General Ledger Detail',\n",
       " '}ElementAttributes_Month',\n",
       " '}ElementAttributes_Month Day',\n",
       " '}ElementAttributes_M Profit Loss',\n",
       " '}ElementAttributes_M Reference',\n",
       " '}ElementAttributes_m string len test',\n",
       " '}ElementAttributes_M Sys Definition AMZ AD Allocation Input',\n",
       " '}ElementAttributes_M Sys Definition Mapping Configuration',\n",
       " '}ElementAttributes_M Sys Definition Mapping Report Copy',\n",
       " '}ElementAttributes_M Sys Definition Mapping Report Type of OU',\n",
       " '}ElementAttributes_M Sys Definition Procut Info Mapping',\n",
       " '}ElementAttributes_M Sys Definition Product Cost STG',\n",
       " '}ElementAttributes_M Sys Definition Product MSKU LSKU Mapping',\n",
       " '}ElementAttributes_M Sys Definition ZL AMZ Fee Input',\n",
       " '}ElementAttributes_M Sys Definition ZL AMZ Fee STG',\n",
       " '}ElementAttributes_M Sys Definition ZL Product Info Input',\n",
       " '}ElementAttributes_M Sys Financial Approval Workflow Code Config',\n",
       " '}ElementAttributes_M Sys Financial Approval Workflow Employee Config',\n",
       " '}ElementAttributes_M Sys Financial Approval Workflow Input',\n",
       " '}ElementAttributes_M Sys Lookup ZL Mgt Item Mapping Input',\n",
       " '}ElementAttributes_M Sys Parameter',\n",
       " '}ElementAttributes_M Sys Rolling Data Copy',\n",
       " '}ElementAttributes_M Trial Balance',\n",
       " '}ElementAttributes_M Trial Balance Detail',\n",
       " '}ElementAttributes_M Workflow',\n",
       " '}ElementAttributes_M Yongyou GL Detail',\n",
       " '}ElementAttributes_M ZL Amazon Payments Data Report',\n",
       " '}ElementAttributes_M ZL Amazon Payments Data STG',\n",
       " '}ElementAttributes_M ZL Product Analysis',\n",
       " '}ElementAttributes_M ZL Product Analysis Config',\n",
       " '}ElementAttributes_M ZL Product Cost Plan',\n",
       " '}ElementAttributes_M ZL Product Price Plan',\n",
       " '}ElementAttributes_M ZL Product Sales Plan',\n",
       " '}ElementAttributes_M ZL Sale Plan Config',\n",
       " '}ElementAttributes_M ZL Sales Analysis',\n",
       " '}ElementAttributes_M ZL Sales Market Basket Analysis',\n",
       " '}ElementAttributes_M ZL Stock Simulation Analysis',\n",
       " '}ElementAttributes_M ZL Stock Strategy',\n",
       " '}ElementAttributes_M }Cube Rule Loop',\n",
       " '}ElementAttributes_M }Processes Loop',\n",
       " '}ElementAttributes_Order Year',\n",
       " '}ElementAttributes_Platform',\n",
       " '}ElementAttributes_Process Run ID',\n",
       " '}ElementAttributes_Product',\n",
       " '}ElementAttributes_Product Analysis Method',\n",
       " '}ElementAttributes_Product MSKU',\n",
       " '}ElementAttributes_Product Segement',\n",
       " '}ElementAttributes_Product Segement Basis',\n",
       " '}ElementAttributes_Product Status',\n",
       " '}ElementAttributes_Region',\n",
       " '}ElementAttributes_Region City',\n",
       " '}ElementAttributes_Region State',\n",
       " '}ElementAttributes_Report Type',\n",
       " '}ElementAttributes_Report Type Version',\n",
       " '}ElementAttributes_SA Month',\n",
       " '}ElementAttributes_SA Month Day',\n",
       " '}ElementAttributes_SA Year',\n",
       " '}ElementAttributes_Scenario',\n",
       " '}ElementAttributes_Supplier',\n",
       " '}ElementAttributes_SYS_UserProperties',\n",
       " '}ElementAttributes_SYS_UserProperties_M',\n",
       " '}ElementAttributes_Sys Chore Execution Workflow Moudle',\n",
       " '}ElementAttributes_Sys Lookup Year Month Measure',\n",
       " '}ElementAttributes_Sys Parameter',\n",
       " '}ElementAttributes_Sys Workflow Category',\n",
       " '}ElementAttributes_Sys Workflow Code',\n",
       " '}ElementAttributes_Sys Workflow Module',\n",
       " '}ElementAttributes_TB Account Detail',\n",
       " '}ElementAttributes_Test',\n",
       " '}ElementAttributes_TM1 Logger',\n",
       " '}ElementAttributes_TM1 Log Level',\n",
       " '}ElementAttributes_TM1 Log Type',\n",
       " '}ElementAttributes_Version',\n",
       " '}ElementAttributes_Year',\n",
       " '}ElementAttributes_Year Fiscal',\n",
       " '}ElementAttributes_Year Month',\n",
       " '}ElementAttributes_Year Month Index',\n",
       " '}ElementAttributes_ZL Amazon Management Report Item',\n",
       " '}ElementAttributes_ZL AMZ Fee Item',\n",
       " '}ElementAttributes_}APQ Time Day in Year',\n",
       " '}ElementAttributes_}APQ Time Minute',\n",
       " '}ElementAttributes_}APQ Time Second',\n",
       " '}ElementAttributes_}APQ Time Year',\n",
       " '}ElementAttributes_}ClientProperties',\n",
       " '}ElementAttributes_}Clients',\n",
       " '}ElementAttributes_}Cubes',\n",
       " '}ElementAttributes_}Cultures',\n",
       " '}ElementAttributes_}Groups',\n",
       " '}ElementAttributes_}StatsStatsByCube',\n",
       " '}ElementAttributes_}TECH_Subset',\n",
       " '}ElementAttributes_}TECH_User',\n",
       " '}ElementAttributes_}TECH_View',\n",
       " '}ElementAttributes_}TECH_ViewsAndSubsets_Measures',\n",
       " '}ElementAttributes_}tp_applications',\n",
       " '}ElementAttributes_}tp_config',\n",
       " '}ElementAttributes_}tp_process_errors_localization',\n",
       " '}ElementAttributes_}tp_system_config',\n",
       " '}ElementProperties_Business Unit',\n",
       " '}ElementSecurity_COA Company',\n",
       " '}ElementSecurity_Country',\n",
       " '}ElementSecurity_M Sys Definition ZL AMZ Fee Input',\n",
       " '}ElementSecurity_ZL AMZ Fee Item',\n",
       " '}ElementSecurity_}tp_applications',\n",
       " '}HierarchyProperties',\n",
       " '}LocalizedCubeAttributes',\n",
       " '}LocalizedDimensionAttributes',\n",
       " '}LocalizedElementAttributes_Product MSKU',\n",
       " '}LocalizedElementAttributes_SA Month',\n",
       " '}PickList_ClientGroups',\n",
       " '}PickList_Sys Definition ZL AMZ Fee Input',\n",
       " '}PickList_Sys Parameter',\n",
       " '}PickList_Sys Rolling Data Copy',\n",
       " '}PickList_TM1 Function Test',\n",
       " '}PickList_}ApplicationSecurity',\n",
       " '}PickList_}ChoreSecurity',\n",
       " '}PickList_}ClientGroups',\n",
       " '}PickList_}CubeSecurity',\n",
       " '}PickList_}DimensionSecurity',\n",
       " '}PickList_}ProcessSecurity',\n",
       " '}Processes Loop',\n",
       " '}Process Execution Error Log',\n",
       " '}Process Run Log',\n",
       " '}ProcessSecurity',\n",
       " '}StatsByChore',\n",
       " '}StatsByClient',\n",
       " '}StatsByCube',\n",
       " '}StatsByCubeByClient',\n",
       " '}StatsByProcess',\n",
       " '}StatsByRule',\n",
       " '}StatsForServer',\n",
       " '}TECH_ViewsAndSubsets',\n",
       " '}tp_app_user_preferences',\n",
       " '}tp_application_cubes',\n",
       " '}tp_application_jobs',\n",
       " '}tp_application_root_permissions',\n",
       " '}tp_central_application_state',\n",
       " '}tp_process_errors',\n",
       " '}tp_workflow_action_TI']"
      ]
     },
     "execution_count": 162,
     "metadata": {},
     "output_type": "execute_result"
    }
   ],
   "source": [
    "cubes_name"
   ]
  },
  {
   "cell_type": "code",
   "execution_count": 164,
   "id": "7121ba15",
   "metadata": {},
   "outputs": [],
   "source": [
    "cube = TM1.cubes.get('Cube Test')"
   ]
  },
  {
   "cell_type": "code",
   "execution_count": 165,
   "id": "054d159c",
   "metadata": {},
   "outputs": [
    {
     "data": {
      "text/plain": [
       "Cube:{\"Name\": \"Cube Test\", \"Dimensions@odata.bind\": [\"Dimensions('Year')\", \"Dimensions('Month')\", \"Dimensions('M Profit Loss')\"]}"
      ]
     },
     "execution_count": 165,
     "metadata": {},
     "output_type": "execute_result"
    }
   ],
   "source": [
    "cube"
   ]
  },
  {
   "cell_type": "code",
   "execution_count": 166,
   "id": "a9f87053",
   "metadata": {},
   "outputs": [
    {
     "data": {
      "text/plain": [
       "TM1py.Objects.Cube.Cube"
      ]
     },
     "execution_count": 166,
     "metadata": {},
     "output_type": "execute_result"
    }
   ],
   "source": [
    "type(cube)"
   ]
  },
  {
   "cell_type": "code",
   "execution_count": 168,
   "id": "e6cd9dda",
   "metadata": {},
   "outputs": [
    {
     "data": {
      "text/plain": [
       "'Cube Test'"
      ]
     },
     "execution_count": 168,
     "metadata": {},
     "output_type": "execute_result"
    }
   ],
   "source": [
    "cube.name"
   ]
  },
  {
   "cell_type": "markdown",
   "id": "57104f57",
   "metadata": {},
   "source": [
    "### 判断Rule是否在cube中存在"
   ]
  },
  {
   "cell_type": "code",
   "execution_count": 170,
   "id": "45d0d1b2",
   "metadata": {},
   "outputs": [
    {
     "data": {
      "text/plain": [
       "False"
      ]
     },
     "execution_count": 170,
     "metadata": {},
     "output_type": "execute_result"
    }
   ],
   "source": [
    "cube.has_rules"
   ]
  },
  {
   "cell_type": "markdown",
   "id": "d94e3e6c",
   "metadata": {},
   "source": [
    "### 读取Rule内容"
   ]
  },
  {
   "cell_type": "code",
   "execution_count": 177,
   "id": "a52bce4f",
   "metadata": {},
   "outputs": [
    {
     "name": "stdout",
     "output_type": "stream",
     "text": [
      "skipcheck;\n",
      "\n",
      "\n",
      "['Amount']=N:STET;\n",
      "\n",
      "feeders;\n"
     ]
    }
   ],
   "source": [
    "cube = TM1.cubes.get('Cube Test')\n",
    "print(cube.rules)"
   ]
  },
  {
   "cell_type": "markdown",
   "id": "4104e4d3",
   "metadata": {},
   "source": [
    "### 获取组成Cube的维度"
   ]
  },
  {
   "cell_type": "code",
   "execution_count": 178,
   "id": "3f834dd2",
   "metadata": {},
   "outputs": [
    {
     "data": {
      "text/plain": [
       "['Year', 'Month', 'M Profit Loss']"
      ]
     },
     "execution_count": 178,
     "metadata": {},
     "output_type": "execute_result"
    }
   ],
   "source": [
    "cube.dimensions"
   ]
  },
  {
   "cell_type": "markdown",
   "id": "26a46d70",
   "metadata": {},
   "source": [
    "### 创建视图"
   ]
  },
  {
   "cell_type": "code",
   "execution_count": 179,
   "id": "aa76d066",
   "metadata": {},
   "outputs": [],
   "source": [
    "####函数\n",
    "#创建一个'空'View实例\n",
    "from TM1py.Objects import NativeView\n",
    "native_view = NativeView(cube_name='Cube Test',view_name='Test View')"
   ]
  },
  {
   "cell_type": "code",
   "execution_count": 180,
   "id": "56bcbb7a",
   "metadata": {},
   "outputs": [
    {
     "data": {
      "text/plain": [
       "NativeView:{\"@odata.type\": \"ibm.tm1.api.v1.NativeView\",\"Name\": \"Test View\",\"Columns\":[],\"Rows\":[],\"Titles\":[],\"SuppressEmptyColumns\": false,\"SuppressEmptyRows\":false,\"FormatString\": \"0.#########\"}"
      ]
     },
     "execution_count": 180,
     "metadata": {},
     "output_type": "execute_result"
    }
   ],
   "source": [
    "native_view"
   ]
  },
  {
   "cell_type": "code",
   "execution_count": 181,
   "id": "2cd5f2ea",
   "metadata": {},
   "outputs": [
    {
     "data": {
      "text/plain": [
       "TM1py.Objects.NativeView.NativeView"
      ]
     },
     "execution_count": 181,
     "metadata": {},
     "output_type": "execute_result"
    }
   ],
   "source": [
    "type(native_view)"
   ]
  },
  {
   "cell_type": "code",
   "execution_count": 182,
   "id": "ef48ae06",
   "metadata": {},
   "outputs": [],
   "source": [
    "####方法\n",
    "#创建视图的ROW字段\n",
    "year_subset=TM1.dimensions.subsets.get(dimension_name='Year', subset_name='Default')\n",
    "native_view.add_row(dimension_name='Year',subset=year_subset )\n",
    "#创建视图的Title字段\n",
    "measure_subset=TM1.dimensions.subsets.get(dimension_name='M Profit Loss', subset_name='All N Elements')\n",
    "native_view.add_title(dimension_name='M Profit Loss', subset=measure_subset, selection='Amount')\n",
    "#创建视图的Column字段\n",
    "month_subset=TM1.dimensions.subsets.get(dimension_name='Month', subset_name='Default')\n",
    "native_view.add_column(dimension_name='Month', subset=month_subset)\n"
   ]
  },
  {
   "cell_type": "code",
   "execution_count": 183,
   "id": "54941a62",
   "metadata": {},
   "outputs": [
    {
     "data": {
      "text/plain": [
       "<Response [201]>"
      ]
     },
     "execution_count": 183,
     "metadata": {},
     "output_type": "execute_result"
    }
   ],
   "source": [
    "####方法\n",
    "#将View实例写入Tm1 Server\n",
    "TM1.cubes.views.create(view=native_view, private=False)"
   ]
  },
  {
   "cell_type": "markdown",
   "id": "5c16074b",
   "metadata": {},
   "source": [
    "### 获取视图对象"
   ]
  },
  {
   "cell_type": "code",
   "execution_count": 198,
   "id": "8b1e1999",
   "metadata": {},
   "outputs": [],
   "source": [
    "View_private,View_public=TM1.cubes.views.get_all(cube_name='Cube Test')"
   ]
  },
  {
   "cell_type": "code",
   "execution_count": 185,
   "id": "3fe704db",
   "metadata": {},
   "outputs": [
    {
     "data": {
      "text/plain": [
       "[]"
      ]
     },
     "execution_count": 185,
     "metadata": {},
     "output_type": "execute_result"
    }
   ],
   "source": [
    "View_private"
   ]
  },
  {
   "cell_type": "code",
   "execution_count": 186,
   "id": "8b7db881",
   "metadata": {},
   "outputs": [
    {
     "data": {
      "text/plain": [
       "[NativeView:{\"@odata.type\": \"ibm.tm1.api.v1.NativeView\",\"Name\": \"Test View\",\"Columns\":[{\"Subset@odata.bind\": \"Dimensions('Month')/Hierarchies('Month')/Subsets('Default')\"}],\"Rows\":[{\"Subset@odata.bind\": \"Dimensions('Year')/Hierarchies('Year')/Subsets('Default')\"}],\"Titles\":[{\"Subset@odata.bind\": \"Dimensions('M Profit Loss')/Hierarchies('M Profit Loss')/Subsets('All N Elements')\", \"Selected@odata.bind\": \"Dimensions('M Profit Loss')/Hierarchies('M Profit Loss')/Elements('Amount')\"}],\"SuppressEmptyColumns\": false,\"SuppressEmptyRows\":false,\"FormatString\": \"0.#########\"}]"
      ]
     },
     "execution_count": 186,
     "metadata": {},
     "output_type": "execute_result"
    }
   ],
   "source": [
    "View_public"
   ]
  },
  {
   "cell_type": "code",
   "execution_count": 187,
   "id": "628f85d4",
   "metadata": {},
   "outputs": [
    {
     "data": {
      "text/plain": [
       "list"
      ]
     },
     "execution_count": 187,
     "metadata": {},
     "output_type": "execute_result"
    }
   ],
   "source": [
    "type(View_public)"
   ]
  },
  {
   "cell_type": "code",
   "execution_count": 189,
   "id": "b806db76",
   "metadata": {},
   "outputs": [
    {
     "data": {
      "text/plain": [
       "[]"
      ]
     },
     "execution_count": 189,
     "metadata": {},
     "output_type": "execute_result"
    }
   ],
   "source": [
    "TM1.cubes.views.get_all(cube_name='Cube Test')[0]"
   ]
  },
  {
   "cell_type": "code",
   "execution_count": 190,
   "id": "0c0b7c8a",
   "metadata": {},
   "outputs": [
    {
     "data": {
      "text/plain": [
       "[NativeView:{\"@odata.type\": \"ibm.tm1.api.v1.NativeView\",\"Name\": \"Test View\",\"Columns\":[{\"Subset@odata.bind\": \"Dimensions('Month')/Hierarchies('Month')/Subsets('Default')\"}],\"Rows\":[{\"Subset@odata.bind\": \"Dimensions('Year')/Hierarchies('Year')/Subsets('Default')\"}],\"Titles\":[{\"Subset@odata.bind\": \"Dimensions('M Profit Loss')/Hierarchies('M Profit Loss')/Subsets('All N Elements')\", \"Selected@odata.bind\": \"Dimensions('M Profit Loss')/Hierarchies('M Profit Loss')/Elements('Amount')\"}],\"SuppressEmptyColumns\": false,\"SuppressEmptyRows\":false,\"FormatString\": \"0.#########\"}]"
      ]
     },
     "execution_count": 190,
     "metadata": {},
     "output_type": "execute_result"
    }
   ],
   "source": [
    "TM1.cubes.views.get_all(cube_name='Cube Test')[1]"
   ]
  },
  {
   "cell_type": "code",
   "execution_count": 193,
   "id": "5dbb4b8a",
   "metadata": {},
   "outputs": [
    {
     "data": {
      "text/plain": [
       "NativeView:{\"@odata.type\": \"ibm.tm1.api.v1.NativeView\",\"Name\": \"Test View\",\"Columns\":[{\"Subset@odata.bind\": \"Dimensions('Month')/Hierarchies('Month')/Subsets('Default')\"}],\"Rows\":[{\"Subset@odata.bind\": \"Dimensions('Year')/Hierarchies('Year')/Subsets('Default')\"}],\"Titles\":[{\"Subset@odata.bind\": \"Dimensions('M Profit Loss')/Hierarchies('M Profit Loss')/Subsets('All N Elements')\", \"Selected@odata.bind\": \"Dimensions('M Profit Loss')/Hierarchies('M Profit Loss')/Elements('Amount')\"}],\"SuppressEmptyColumns\": false,\"SuppressEmptyRows\":false,\"FormatString\": \"0.#########\"}"
      ]
     },
     "execution_count": 193,
     "metadata": {},
     "output_type": "execute_result"
    }
   ],
   "source": [
    "#第一个视图对象\n",
    "View_public[0]"
   ]
  },
  {
   "cell_type": "code",
   "execution_count": 194,
   "id": "7e07cf89",
   "metadata": {},
   "outputs": [
    {
     "data": {
      "text/plain": [
       "TM1py.Objects.NativeView.NativeView"
      ]
     },
     "execution_count": 194,
     "metadata": {},
     "output_type": "execute_result"
    }
   ],
   "source": [
    "type(View_public[0])"
   ]
  },
  {
   "cell_type": "code",
   "execution_count": 196,
   "id": "8e4e3ab5",
   "metadata": {},
   "outputs": [
    {
     "name": "stdout",
     "output_type": "stream",
     "text": [
      "SELECT\r\n",
      "{TM1SUBSETTOSET([month].[month],\"Default\")} DIMENSION PROPERTIES MEMBER_NAME ON 0,\r\n",
      "{TM1SUBSETTOSET([year].[year],\"Default\")} DIMENSION PROPERTIES MEMBER_NAME ON 1\r\n",
      "FROM [cubetest]\r\n",
      "WHERE ([mprofitloss].[mprofitloss].[amount])\n"
     ]
    }
   ],
   "source": [
    "# 查看第一个视图的MDX\n",
    "print(View_public[0].MDX)"
   ]
  },
  {
   "cell_type": "code",
   "execution_count": 199,
   "id": "73d45a13",
   "metadata": {},
   "outputs": [
    {
     "name": "stdout",
     "output_type": "stream",
     "text": [
      "Test View\n"
     ]
    }
   ],
   "source": [
    "#打印第一个视图的名称\n",
    "print(View_public[0].name)"
   ]
  },
  {
   "cell_type": "code",
   "execution_count": 200,
   "id": "0b6b64a5",
   "metadata": {},
   "outputs": [
    {
     "name": "stdout",
     "output_type": "stream",
     "text": [
      "Test View 02\n"
     ]
    }
   ],
   "source": [
    "print(View_public[1].name)"
   ]
  },
  {
   "cell_type": "markdown",
   "id": "1859c06b",
   "metadata": {},
   "source": [
    "### 获取指定视图对象"
   ]
  },
  {
   "cell_type": "code",
   "execution_count": 202,
   "id": "0eb30982",
   "metadata": {},
   "outputs": [],
   "source": [
    "view_public=TM1.cubes.views.get_native_view('Cube Test', 'Test View', private=False)"
   ]
  },
  {
   "cell_type": "code",
   "execution_count": 203,
   "id": "ccfed344",
   "metadata": {},
   "outputs": [
    {
     "data": {
      "text/plain": [
       "NativeView:{\"@odata.type\": \"ibm.tm1.api.v1.NativeView\",\"Name\": \"Test View\",\"Columns\":[{\"Subset@odata.bind\": \"Dimensions('Month')/Hierarchies('Month')/Subsets('Default')\"}],\"Rows\":[{\"Subset@odata.bind\": \"Dimensions('Year')/Hierarchies('Year')/Subsets('Default')\"}],\"Titles\":[{\"Subset@odata.bind\": \"Dimensions('M Profit Loss')/Hierarchies('M Profit Loss')/Subsets('All N Elements')\", \"Selected@odata.bind\": \"Dimensions('M Profit Loss')/Hierarchies('M Profit Loss')/Elements('Amount')\"}],\"SuppressEmptyColumns\": false,\"SuppressEmptyRows\":false,\"FormatString\": \"0.#########\"}"
      ]
     },
     "execution_count": 203,
     "metadata": {},
     "output_type": "execute_result"
    }
   ],
   "source": [
    "view_public"
   ]
  },
  {
   "cell_type": "code",
   "execution_count": 204,
   "id": "4392950c",
   "metadata": {},
   "outputs": [
    {
     "data": {
      "text/plain": [
       "TM1py.Objects.NativeView.NativeView"
      ]
     },
     "execution_count": 204,
     "metadata": {},
     "output_type": "execute_result"
    }
   ],
   "source": [
    "type(view_public)"
   ]
  },
  {
   "cell_type": "markdown",
   "id": "0a2b9098",
   "metadata": {},
   "source": [
    "### 删除视图"
   ]
  },
  {
   "cell_type": "code",
   "execution_count": null,
   "id": "c0d7bcd5",
   "metadata": {},
   "outputs": [],
   "source": [
    "TM1.cubes.views.delete(cube_name='Cube Test', view_name='Test View', private=False) "
   ]
  },
  {
   "cell_type": "markdown",
   "id": "51fcbe1f",
   "metadata": {},
   "source": [
    "## Process脚本相关"
   ]
  },
  {
   "cell_type": "markdown",
   "id": "1417763a",
   "metadata": {},
   "source": [
    "### 创建process"
   ]
  },
  {
   "cell_type": "code",
   "execution_count": 205,
   "id": "f461bbbd",
   "metadata": {},
   "outputs": [],
   "source": [
    "from TM1py.Objects import Process"
   ]
  },
  {
   "cell_type": "code",
   "execution_count": 207,
   "id": "33b2db7e",
   "metadata": {},
   "outputs": [],
   "source": [
    "#可以设置三种数据源 csv,视图,数据库ASCII/TM1CubeView/ODBC\n",
    "process = Process(name='process test',datasource_type='ASCII')"
   ]
  },
  {
   "cell_type": "code",
   "execution_count": 208,
   "id": "8dfb3a46",
   "metadata": {},
   "outputs": [
    {
     "data": {
      "text/plain": [
       "Process:{\"Name\": \"process test\", \"PrologProcedure\": \"#****Begin: Generated Statements***\\r\\n#****End: Generated Statements****\\r\\n\", \"MetadataProcedure\": \"#****Begin: Generated Statements***\\r\\n#****End: Generated Statements****\\r\\n\", \"DataProcedure\": \"#****Begin: Generated Statements***\\r\\n#****End: Generated Statements****\\r\\n\", \"EpilogProcedure\": \"#****Begin: Generated Statements***\\r\\n#****End: Generated Statements****\\r\\n\", \"HasSecurityAccess\": false, \"UIData\": \"CubeAction=1511\\fDataAction=1503\\fCubeLogChanges=0\\f\", \"DataSource\": {\"Type\": \"ASCII\", \"asciiDecimalSeparator\": \".\", \"asciiDelimiterChar\": \";\", \"asciiDelimiterType\": \"Character\", \"asciiHeaderRecords\": 1, \"asciiQuoteCharacter\": \"\", \"asciiThousandSeparator\": \",\", \"dataSourceNameForClient\": \"\", \"dataSourceNameForServer\": \"\"}, \"Parameters\": [], \"Variables\": [], \"VariablesUIData\": []}"
      ]
     },
     "execution_count": 208,
     "metadata": {},
     "output_type": "execute_result"
    }
   ],
   "source": [
    "process"
   ]
  },
  {
   "cell_type": "code",
   "execution_count": 209,
   "id": "85cc9501",
   "metadata": {},
   "outputs": [
    {
     "data": {
      "text/plain": [
       "TM1py.Objects.Process.Process"
      ]
     },
     "execution_count": 209,
     "metadata": {},
     "output_type": "execute_result"
    }
   ],
   "source": [
    "type(process)"
   ]
  },
  {
   "cell_type": "markdown",
   "id": "2fe1e6dd",
   "metadata": {},
   "source": [
    "### 创建Process变量"
   ]
  },
  {
   "cell_type": "code",
   "execution_count": 219,
   "id": "4feef12c",
   "metadata": {},
   "outputs": [],
   "source": [
    "process.add_variable('vYear', 'String')\n",
    "process.add_variable('vMonth', 'String')\n",
    "process.add_variable('vValue', 'Numeric')"
   ]
  },
  {
   "cell_type": "markdown",
   "id": "a5676760",
   "metadata": {},
   "source": [
    "### 创建TI Code"
   ]
  },
  {
   "cell_type": "code",
   "execution_count": 212,
   "id": "177a22a7",
   "metadata": {},
   "outputs": [],
   "source": [
    "process.prolog_procedure='''\n",
    "    #临时view前缀\n",
    "    cViewSrcPrefix= '}Temp_';\n",
    "    cProcessName=getprocessname();\n",
    "    #临时view名称\n",
    "    cViewSrc = cViewSrcPrefix | cProcessName;\n",
    "    #临时subset名称\n",
    "    cSubSrc = cViewSrc;\n",
    "    #Cube名字\n",
    "    cCubeSource='Employee';\n",
    "    '''"
   ]
  },
  {
   "cell_type": "code",
   "execution_count": 213,
   "id": "a042f793",
   "metadata": {},
   "outputs": [],
   "source": [
    "process.metadata_procedure='####start#####'"
   ]
  },
  {
   "cell_type": "code",
   "execution_count": 214,
   "id": "9adaa19b",
   "metadata": {},
   "outputs": [],
   "source": [
    "process.data_procedure='value=numbertostring(vValue);'"
   ]
  },
  {
   "cell_type": "code",
   "execution_count": 215,
   "id": "c7d88976",
   "metadata": {},
   "outputs": [],
   "source": [
    "process.epilog_procedure='''\n",
    "ExecuteProcess('}bedrock.cube.viewandsubsets.delete',\n",
    "  'pLogOutput',0,\n",
    "  'pStrictErrorHandling',0,\n",
    "  'pCube','',\n",
    "  'pView','',\n",
    "  'pSub','',\n",
    "  'pMode',1);\n",
    "  '''"
   ]
  },
  {
   "cell_type": "code",
   "execution_count": 217,
   "id": "da7e8849",
   "metadata": {},
   "outputs": [],
   "source": [
    "process.add_parameter(name='pProcesslog',value='1',parameter_type='String',prompt='')\n",
    "process.add_parameter(name='pdebug',value='0',parameter_type='String',prompt='')"
   ]
  },
  {
   "cell_type": "code",
   "execution_count": 220,
   "id": "51f8a5e2",
   "metadata": {},
   "outputs": [
    {
     "ename": "TM1pyRestException",
     "evalue": "Text: '{\"error\":{\"code\":\"278\",\"message\":\"A process with name \\\"process test\\\" already exists.\"}}' - Status Code: 400 - Reason: 'Bad Request' - Headers: {'Content-Length': '99', 'Connection': 'keep-alive', 'Content-Encoding': 'gzip', 'Cache-Control': 'no-cache', 'Content-Type': 'application/json; charset=utf-8', 'OData-Version': '4.0'}",
     "output_type": "error",
     "traceback": [
      "\u001b[1;31m---------------------------------------------------------------------------\u001b[0m",
      "\u001b[1;31mTM1pyRestException\u001b[0m                        Traceback (most recent call last)",
      "\u001b[1;32m<ipython-input-220-f0e5eb967af3>\u001b[0m in \u001b[0;36m<module>\u001b[1;34m\u001b[0m\n\u001b[1;32m----> 1\u001b[1;33m \u001b[0mTM1\u001b[0m\u001b[1;33m.\u001b[0m\u001b[0mprocesses\u001b[0m\u001b[1;33m.\u001b[0m\u001b[0mcreate\u001b[0m\u001b[1;33m(\u001b[0m\u001b[0mprocess\u001b[0m\u001b[1;33m)\u001b[0m\u001b[1;33m\u001b[0m\u001b[1;33m\u001b[0m\u001b[0m\n\u001b[0m",
      "\u001b[1;32m~\\AppData\\Roaming\\Python\\Python37\\site-packages\\TM1py\\Services\\ProcessService.py\u001b[0m in \u001b[0;36mcreate\u001b[1;34m(self, process, **kwargs)\u001b[0m\n\u001b[0;32m    165\u001b[0m         \u001b[1;32mif\u001b[0m \u001b[0mint\u001b[0m\u001b[1;33m(\u001b[0m\u001b[0mself\u001b[0m\u001b[1;33m.\u001b[0m\u001b[0mversion\u001b[0m\u001b[1;33m[\u001b[0m\u001b[1;36m0\u001b[0m\u001b[1;33m:\u001b[0m\u001b[1;36m2\u001b[0m\u001b[1;33m]\u001b[0m\u001b[1;33m)\u001b[0m \u001b[1;33m<\u001b[0m \u001b[1;36m11\u001b[0m\u001b[1;33m:\u001b[0m\u001b[1;33m\u001b[0m\u001b[1;33m\u001b[0m\u001b[0m\n\u001b[0;32m    166\u001b[0m             \u001b[0mprocess\u001b[0m\u001b[1;33m.\u001b[0m\u001b[0mdrop_parameter_types\u001b[0m\u001b[1;33m(\u001b[0m\u001b[1;33m)\u001b[0m\u001b[1;33m\u001b[0m\u001b[1;33m\u001b[0m\u001b[0m\n\u001b[1;32m--> 167\u001b[1;33m         \u001b[0mresponse\u001b[0m \u001b[1;33m=\u001b[0m \u001b[0mself\u001b[0m\u001b[1;33m.\u001b[0m\u001b[0m_rest\u001b[0m\u001b[1;33m.\u001b[0m\u001b[0mPOST\u001b[0m\u001b[1;33m(\u001b[0m\u001b[0murl\u001b[0m\u001b[1;33m,\u001b[0m \u001b[0mprocess\u001b[0m\u001b[1;33m.\u001b[0m\u001b[0mbody\u001b[0m\u001b[1;33m,\u001b[0m \u001b[1;33m**\u001b[0m\u001b[0mkwargs\u001b[0m\u001b[1;33m)\u001b[0m\u001b[1;33m\u001b[0m\u001b[1;33m\u001b[0m\u001b[0m\n\u001b[0m\u001b[0;32m    168\u001b[0m         \u001b[1;32mreturn\u001b[0m \u001b[0mresponse\u001b[0m\u001b[1;33m\u001b[0m\u001b[1;33m\u001b[0m\u001b[0m\n\u001b[0;32m    169\u001b[0m \u001b[1;33m\u001b[0m\u001b[0m\n",
      "\u001b[1;32m~\\AppData\\Roaming\\Python\\Python37\\site-packages\\TM1py\\Services\\RestService.py\u001b[0m in \u001b[0;36mwrapper\u001b[1;34m(self, url, data, encoding, async_requests_mode, **kwargs)\u001b[0m\n\u001b[0;32m     92\u001b[0m \u001b[1;33m\u001b[0m\u001b[0m\n\u001b[0;32m     93\u001b[0m             \u001b[1;31m# verify\u001b[0m\u001b[1;33m\u001b[0m\u001b[1;33m\u001b[0m\u001b[1;33m\u001b[0m\u001b[0m\n\u001b[1;32m---> 94\u001b[1;33m             \u001b[0mself\u001b[0m\u001b[1;33m.\u001b[0m\u001b[0mverify_response\u001b[0m\u001b[1;33m(\u001b[0m\u001b[0mresponse\u001b[0m\u001b[1;33m=\u001b[0m\u001b[0mresponse\u001b[0m\u001b[1;33m)\u001b[0m\u001b[1;33m\u001b[0m\u001b[1;33m\u001b[0m\u001b[0m\n\u001b[0m\u001b[0;32m     95\u001b[0m \u001b[1;33m\u001b[0m\u001b[0m\n\u001b[0;32m     96\u001b[0m             \u001b[1;31m# response encoding\u001b[0m\u001b[1;33m\u001b[0m\u001b[1;33m\u001b[0m\u001b[1;33m\u001b[0m\u001b[0m\n",
      "\u001b[1;32m~\\AppData\\Roaming\\Python\\Python37\\site-packages\\TM1py\\Services\\RestService.py\u001b[0m in \u001b[0;36mverify_response\u001b[1;34m(response)\u001b[0m\n\u001b[0;32m    539\u001b[0m                                      \u001b[0mstatus_code\u001b[0m\u001b[1;33m=\u001b[0m\u001b[0mresponse\u001b[0m\u001b[1;33m.\u001b[0m\u001b[0mstatus_code\u001b[0m\u001b[1;33m,\u001b[0m\u001b[1;33m\u001b[0m\u001b[1;33m\u001b[0m\u001b[0m\n\u001b[0;32m    540\u001b[0m                                      \u001b[0mreason\u001b[0m\u001b[1;33m=\u001b[0m\u001b[0mresponse\u001b[0m\u001b[1;33m.\u001b[0m\u001b[0mreason\u001b[0m\u001b[1;33m,\u001b[0m\u001b[1;33m\u001b[0m\u001b[1;33m\u001b[0m\u001b[0m\n\u001b[1;32m--> 541\u001b[1;33m                                      headers=response.headers)\n\u001b[0m\u001b[0;32m    542\u001b[0m \u001b[1;33m\u001b[0m\u001b[0m\n\u001b[0;32m    543\u001b[0m     \u001b[1;33m@\u001b[0m\u001b[0mstaticmethod\u001b[0m\u001b[1;33m\u001b[0m\u001b[1;33m\u001b[0m\u001b[0m\n",
      "\u001b[1;31mTM1pyRestException\u001b[0m: Text: '{\"error\":{\"code\":\"278\",\"message\":\"A process with name \\\"process test\\\" already exists.\"}}' - Status Code: 400 - Reason: 'Bad Request' - Headers: {'Content-Length': '99', 'Connection': 'keep-alive', 'Content-Encoding': 'gzip', 'Cache-Control': 'no-cache', 'Content-Type': 'application/json; charset=utf-8', 'OData-Version': '4.0'}"
     ]
    }
   ],
   "source": [
    "TM1.processes.create(process)"
   ]
  },
  {
   "cell_type": "code",
   "execution_count": 221,
   "id": "6ee166df",
   "metadata": {},
   "outputs": [
    {
     "data": {
      "text/plain": [
       "<Response [200]>"
      ]
     },
     "execution_count": 221,
     "metadata": {},
     "output_type": "execute_result"
    }
   ],
   "source": [
    "#更新\n",
    "TM1.processes.update(process)"
   ]
  },
  {
   "cell_type": "markdown",
   "id": "b31edc07",
   "metadata": {},
   "source": [
    "### 查询process对象"
   ]
  },
  {
   "cell_type": "code",
   "execution_count": 222,
   "id": "b582c267",
   "metadata": {},
   "outputs": [],
   "source": [
    "process = TM1.processes.get('process test')"
   ]
  },
  {
   "cell_type": "code",
   "execution_count": 223,
   "id": "fafe0ca5",
   "metadata": {},
   "outputs": [
    {
     "data": {
      "text/plain": [
       "Process:{\"Name\": \"process test\", \"PrologProcedure\": \"#****Begin: Generated Statements***\\r\\n#****End: Generated Statements****\\r\\n\\r\\n    #临时view前缀\\r\\n    cViewSrcPrefix= '}Temp_';\\r\\n    cProcessName=getprocessname();\\r\\n    #临时view名称\\r\\n    cViewSrc = cViewSrcPrefix | cProcessName;\\r\\n    #临时subset名称\\r\\n    cSubSrc = cViewSrc;\\r\\n    #Cube名字\\r\\n    cCubeSource='Employee';\\r\\n    \", \"MetadataProcedure\": \"#****Begin: Generated Statements***\\r\\n#****End: Generated Statements****\\r\\n####start#####\", \"DataProcedure\": \"#****Begin: Generated Statements***\\r\\n#****End: Generated Statements****\\r\\nvalue=numbertostring(vValue);\", \"EpilogProcedure\": \"#****Begin: Generated Statements***\\r\\n#****End: Generated Statements****\\r\\n\\r\\nExecuteProcess('}bedrock.cube.viewandsubsets.delete',\\r\\n  'pLogOutput',0,\\r\\n  'pStrictErrorHandling',0,\\r\\n  'pCube','',\\r\\n  'pView','',\\r\\n  'pSub','',\\r\\n  'pMode',1);\\r\\n  \", \"HasSecurityAccess\": false, \"UIData\": \"CubeAction=1511\\fDataAction=1503\\fCubeLogChanges=0\\f\", \"DataSource\": {\"Type\": \"ASCII\", \"asciiDecimalSeparator\": \".\", \"asciiDelimiterChar\": \";\", \"asciiDelimiterType\": \"Character\", \"asciiHeaderRecords\": 1, \"asciiQuoteCharacter\": \"\", \"asciiThousandSeparator\": \",\", \"dataSourceNameForClient\": \"\", \"dataSourceNameForServer\": \"\"}, \"Parameters\": [{\"Name\": \"pProcesslog\", \"Prompt\": \"\", \"Value\": \"1\", \"Type\": \"String\"}, {\"Name\": \"pdebug\", \"Prompt\": \"\", \"Value\": \"0\", \"Type\": \"String\"}], \"Variables\": [{\"Name\": \"pProcesslog\", \"Type\": \"String\", \"Position\": 1, \"StartByte\": 0, \"EndByte\": 0}, {\"Name\": \"pdebug\", \"Type\": \"String\", \"Position\": 2, \"StartByte\": 0, \"EndByte\": 0}, {\"Name\": \"vYear\", \"Type\": \"String\", \"Position\": 3, \"StartByte\": 0, \"EndByte\": 0}, {\"Name\": \"vMonth\", \"Type\": \"String\", \"Position\": 4, \"StartByte\": 0, \"EndByte\": 0}, {\"Name\": \"vValue\", \"Type\": \"Numeric\", \"Position\": 5, \"StartByte\": 0, \"EndByte\": 0}], \"VariablesUIData\": [\"VarType=32\\fColType=827\\f\", \"VarType=32\\fColType=827\\f\", \"VarType=32\\fColType=827\\f\", \"VarType=32\\fColType=827\\f\", \"VarType=33\\fColType=827\\f\"]}"
      ]
     },
     "execution_count": 223,
     "metadata": {},
     "output_type": "execute_result"
    }
   ],
   "source": [
    "process"
   ]
  },
  {
   "cell_type": "code",
   "execution_count": 224,
   "id": "c778f43a",
   "metadata": {},
   "outputs": [
    {
     "data": {
      "text/plain": [
       "TM1py.Objects.Process.Process"
      ]
     },
     "execution_count": 224,
     "metadata": {},
     "output_type": "execute_result"
    }
   ],
   "source": [
    "type(process)"
   ]
  },
  {
   "cell_type": "code",
   "execution_count": 225,
   "id": "c063db06",
   "metadata": {},
   "outputs": [
    {
     "data": {
      "text/plain": [
       "[{'Name': 'pProcesslog', 'Prompt': '', 'Value': '1', 'Type': 'String'},\n",
       " {'Name': 'pdebug', 'Prompt': '', 'Value': '0', 'Type': 'String'}]"
      ]
     },
     "execution_count": 225,
     "metadata": {},
     "output_type": "execute_result"
    }
   ],
   "source": [
    "#->获取参数\n",
    "process.parameters"
   ]
  },
  {
   "cell_type": "code",
   "execution_count": 226,
   "id": "804838f7",
   "metadata": {},
   "outputs": [
    {
     "data": {
      "text/plain": [
       "[{'Name': 'pProcesslog',\n",
       "  'Type': 'String',\n",
       "  'Position': 1,\n",
       "  'StartByte': 0,\n",
       "  'EndByte': 0},\n",
       " {'Name': 'pdebug',\n",
       "  'Type': 'String',\n",
       "  'Position': 2,\n",
       "  'StartByte': 0,\n",
       "  'EndByte': 0},\n",
       " {'Name': 'vYear',\n",
       "  'Type': 'String',\n",
       "  'Position': 3,\n",
       "  'StartByte': 0,\n",
       "  'EndByte': 0},\n",
       " {'Name': 'vMonth',\n",
       "  'Type': 'String',\n",
       "  'Position': 4,\n",
       "  'StartByte': 0,\n",
       "  'EndByte': 0},\n",
       " {'Name': 'vValue',\n",
       "  'Type': 'Numeric',\n",
       "  'Position': 5,\n",
       "  'StartByte': 0,\n",
       "  'EndByte': 0}]"
      ]
     },
     "execution_count": 226,
     "metadata": {},
     "output_type": "execute_result"
    }
   ],
   "source": [
    "#->获取变量\n",
    "process.variables"
   ]
  },
  {
   "cell_type": "code",
   "execution_count": 228,
   "id": "88ce0355",
   "metadata": {},
   "outputs": [
    {
     "name": "stdout",
     "output_type": "stream",
     "text": [
      "#****Begin: Generated Statements***\r\n",
      "#****End: Generated Statements****\r\n",
      "\r\n",
      "    #临时view前缀\r\n",
      "    cViewSrcPrefix= '}Temp_';\r\n",
      "    cProcessName=getprocessname();\r\n",
      "    #临时view名称\r\n",
      "    cViewSrc = cViewSrcPrefix | cProcessName;\r\n",
      "    #临时subset名称\r\n",
      "    cSubSrc = cViewSrc;\r\n",
      "    #Cube名字\r\n",
      "    cCubeSource='Employee';\r\n",
      "    \n"
     ]
    }
   ],
   "source": [
    "#->获取prolog code\n",
    "print(process.prolog_procedure)"
   ]
  },
  {
   "cell_type": "code",
   "execution_count": 229,
   "id": "3a162719",
   "metadata": {},
   "outputs": [
    {
     "data": {
      "text/plain": [
       "'#****Begin: Generated Statements***\\r\\n#****End: Generated Statements****\\r\\n####start#####'"
      ]
     },
     "execution_count": 229,
     "metadata": {},
     "output_type": "execute_result"
    }
   ],
   "source": [
    "#>获取meta code\n",
    "process.metadata_procedure"
   ]
  },
  {
   "cell_type": "code",
   "execution_count": 230,
   "id": "8dbba1fd",
   "metadata": {},
   "outputs": [
    {
     "data": {
      "text/plain": [
       "'#****Begin: Generated Statements***\\r\\n#****End: Generated Statements****\\r\\nvalue=numbertostring(vValue);'"
      ]
     },
     "execution_count": 230,
     "metadata": {},
     "output_type": "execute_result"
    }
   ],
   "source": [
    "#获取data code\n",
    "process.data_procedure"
   ]
  },
  {
   "cell_type": "code",
   "execution_count": 231,
   "id": "1cf2bbe7",
   "metadata": {},
   "outputs": [
    {
     "data": {
      "text/plain": [
       "\"#****Begin: Generated Statements***\\r\\n#****End: Generated Statements****\\r\\n\\r\\nExecuteProcess('}bedrock.cube.viewandsubsets.delete',\\r\\n  'pLogOutput',0,\\r\\n  'pStrictErrorHandling',0,\\r\\n  'pCube','',\\r\\n  'pView','',\\r\\n  'pSub','',\\r\\n  'pMode',1);\\r\\n  \""
      ]
     },
     "execution_count": 231,
     "metadata": {},
     "output_type": "execute_result"
    }
   ],
   "source": [
    "#获取epilog code\n",
    "process.epilog_procedure"
   ]
  },
  {
   "cell_type": "markdown",
   "id": "ddb11a6a",
   "metadata": {},
   "source": [
    "### 获取全部脚本名称"
   ]
  },
  {
   "cell_type": "code",
   "execution_count": null,
   "id": "7abb878b",
   "metadata": {},
   "outputs": [],
   "source": []
  },
  {
   "cell_type": "code",
   "execution_count": 232,
   "id": "de916853",
   "metadata": {},
   "outputs": [
    {
     "data": {
      "text/plain": [
       "['01.Cub.Sys Definition Product Info Mapping Input.Copy.From.DesignatedMonth',\n",
       " '02.Sys Control Execute TI For Multiple Month.Caller',\n",
       " '03.Cub. ZL Amazon Payments Data STG.Data.From MSSQL DW',\n",
       " '0301.Dim. ZL Amazon Payments STG.MetaData.Update.From MSSQL DW',\n",
       " '0302.Cub. ZL Amazon Payments STG.Data.From MSSQL DW',\n",
       " '0303.Cub. ZL Amazon Payments Data STG.Data.From MSSQL DW Syn',\n",
       " '0304.Cub. ZL Amazon Payments Data STG.Data.From MySQL',\n",
       " '0304.Cub. ZL Amazon Payments Data STG.Data.From MySQL_20221025',\n",
       " '0305.Cub. ZL Amazon Payments Data STG.Data.From Oracle DB',\n",
       " '04.Cub.Sys Lookup ZL Mgt Item Mapping Input.From ZL Amazon Payments Data STG',\n",
       " '05.Dim.ZL Amazon Management Report Item.Update.From.Input',\n",
       " '06.Cub.ZL Amazon Payments Data Report.Data.From.ZL Amazon Payments Data STG',\n",
       " '06.Cub.ZL Amazon Payments Data Report.Data.From.ZL Amazon Payments Data STG.MDX View',\n",
       " '06A.RunProcess Multiple Months',\n",
       " '07.Cub.ZL Amazon Payments Data Report.CNY.Data.Load',\n",
       " '08.Cub.Sys Definition Product Info Mapping Input.Data.Reflow To MSSQL DW.Caller',\n",
       " '0801.Cub.Sys Definition Product Info Mapping Input.Data.Reflow To MSSQL DW',\n",
       " '0802.Cub.Sys Definition Product Info Mapping Input.Data.Reflow To MSSQL DW Batch',\n",
       " '0803.Cub.Sys Definition Product Info Mapping Input.Data.Reflow To MSSQL DW Batch Bkp',\n",
       " '10.Cub.Sys Definition Product Info Mapping Input.Copy.From.202112',\n",
       " '11.Cub.Sys Definition Product MSKU LSKU Mapping.Load.From.Sys Definition Product Info Mapping Input',\n",
       " '12.Cub.ZL Amazon Payments Data Report.AD.Allocation.Cal',\n",
       " '13.Dim.Product MSKU ASIN.Update.From.Sys Definition Product MSKU LSKU Mapping',\n",
       " '14.Dim.COA Account GL BS PL.Update From SQL Server.t_code.FA',\n",
       " '15.Cub.General Ledger.Data.From MSSQL DW',\n",
       " '16.Cub.General Ledger.Data.Select ReFlowTo CSV',\n",
       " '17.Cub.ZL Amazon Payments Data Report.Currency.Data.Cal',\n",
       " '17A.Cub.ZL Amazon Payments Data Report.CNY.DataLoad.RunProcess Use',\n",
       " '17A.Cub.ZL Amazon Payments Data Report.CNY.DataLoad.RushTI Use',\n",
       " '17A.Cub.ZL Amazon Payments Data Report.Currency.CNY.Cal',\n",
       " '18.Cub.Sys Lookup Year Month.Data.From.CSV',\n",
       " '18.Cub.Sys Lookup Year Month.Update.Caller',\n",
       " '19.Cub.Sys Definition ZL AMZ Fee STG.Data.Load.From Input',\n",
       " '20.Cub.Sys Definition ZL AMZ Fee STG.Data.Load.From Input Runner SD',\n",
       " '21.Cub.Sys Definition ZL AMZ Fee STG.Data.Load.From Input Runner DSP',\n",
       " '22.Cub.ZL AMZ Fee Data.From.Sys Definition ZL AMZ Fee STG',\n",
       " '23.Cub.ZL Product Sales Plan.Data From.ZL Amazon Payments Data STG',\n",
       " '24.Cub.ZL Product Analysis.Data From.ZL Amazon Payments Data Report',\n",
       " '25.Cub.ZL Product Analysis.Data From Inner Cal',\n",
       " '59.Sys Financial Approval Workflow Objects Create Script',\n",
       " '60.Sys Financial Approval Workflow Input Add Lines',\n",
       " '61.Sys Financial Approval Workflow Input Clear Rows Data',\n",
       " '62.Sys Financial Approval Workflow Input Delete Lines',\n",
       " '63.Sys Financial Approval Workflow Data Flow',\n",
       " '67.Cub.ZL Product Sales Plan.Sales Units TimeSeries Forecast Python',\n",
       " '68.Cub.ZL Product Sales Plan.Sales Units Linear Forecast Python',\n",
       " '69.Sys Run Process Log',\n",
       " '70.Cub.ZL Sales Market Basket Analysis.Chs_Name Insert',\n",
       " '70.Cub.ZL Sales Market Basket Analysis.Data Load From Python',\n",
       " '70.Cub.ZL Sales Market Basket Analysis.Data Load From Python.Caller',\n",
       " '70.Cub.ZL Sales Market Basket Analysis.Data Load From Python.Caller.Loop',\n",
       " '70.Cub.ZL Sales Market Basket Analysis.Data Load From Python New',\n",
       " '70.Cub.ZL Sales Market Basket Analysis.Data Load From Python New.Runner',\n",
       " '70.Dim.DS ZL Sales Market Basket Analysis.Ele Insert',\n",
       " '71.Cub.ZL Sales Market Basket Analysis.Data Load From Python New',\n",
       " '73.Sys ODBC SQL Group by Script',\n",
       " '74.Sys Transform Python to Textoutput Script',\n",
       " '75.Sys Dim Hierarchy Export To CSV Script',\n",
       " '76.Cub.ZL STG Data.Load Hustle.exe Use',\n",
       " '77.Cub.ZL STG Data.Load RushTI Use Async',\n",
       " '78.Cub.ZL STG Data.Load RunProcess Use Sync',\n",
       " '78.Cub.ZL STG Data.Load TM1RunTI.exe Use',\n",
       " '79.Chore.96.Sys Backup Server Folder To Compressed Package',\n",
       " '80.Sys Cube Rolling Data Copy Monthly Update',\n",
       " '80.Sys ODBC Remote Connection Test Script',\n",
       " '80.Sys ODBC Remote MySQL Data Export Script',\n",
       " '80.Sys ODBC Remote MySQL DB Table To csv File',\n",
       " '80.Sys ODBC Remote MySQL Select Query Script',\n",
       " '80.Sys ODBC Remote MySQL Statement Execute Script',\n",
       " '80.Sys ODBC Remote MySQL Table Column Count Script',\n",
       " '80.Sys ODBC Remote MySQL Table Column Name Get Script',\n",
       " '80.Sys ODBC Remote MySQL Table Delete Script',\n",
       " '80.Sys ODBC Remote MySQL Table Delete Script_bkp_20221119',\n",
       " '81.Sys ODBC Remote Get Table Headers Script',\n",
       " '82.Sys ODBC Remote Delete Existing Table Script',\n",
       " '83.Sys ODBC Remote Create New Table Script',\n",
       " '84.Sys ODBC Remote Cub Data ReflowTo.MySQL',\n",
       " '85.Cub.Bkp_ZL Amazon Payments Data STG.From.ZL Amazon Payments Data STG',\n",
       " '85.Cub.Bkp_ZL Amazon Payments Data STG.Load From CSV',\n",
       " '85.Cub.Bkp_ZL Amazon Payments Data STG.Load From CSV.Caller',\n",
       " '85.Cub.ZL Amazon Payments Data STG.Export.To CSV',\n",
       " '86.Cub.ZL Sales Analysis.Data Load.From Rolling Forecast',\n",
       " '87.Sys Unload Rule and Load Rule Generic Script',\n",
       " '88.Sys Generate Temporary Subset DS To Loop Execute',\n",
       " '89.Sys Compress Server All Dims Memory',\n",
       " '90.Sys Postman Api.96.Sys Backup Server Folder To Compressed Package',\n",
       " '91.Sys Postman Api.96.Sys Backup Server Folder To Compressed Package.Runner',\n",
       " '92.Sys Send Email For Check TI States',\n",
       " '92.Sys Send Email For Check TI States Linux',\n",
       " '92A.Sys Send Email Script',\n",
       " '93.Sys Server Cube }TI_View.Delete',\n",
       " '94.Test.Ant HFM.hierarchy.Update.From MySQL',\n",
       " '95.Test.Payments STG Data.From Oracle DB',\n",
       " '96.Sys Backup Server Folder To Compressed Package',\n",
       " '96.Sys Backup Server Folder To Compressed Package Linux',\n",
       " '97.Sys Server Dim Temporary  }TISub.Delete',\n",
       " '98.Sys Create Fixed Subsets For EveryDim',\n",
       " '99.Sys Restart paserver For Refresh All Objects',\n",
       " '99A.Rest Api Test Sleep For 30s',\n",
       " '99A01.TM1 Cell Character Length Test',\n",
       " 'AAA_Test01',\n",
       " 'AAAAAA_test1',\n",
       " 'AAAAAA_test2',\n",
       " 'AAAAAA_test3',\n",
       " 'AAAAAA_test4',\n",
       " 'AAAAAA_test5',\n",
       " 'AAAAAA_test6',\n",
       " 'AAAAAA_test7',\n",
       " 'AAAAAA_test8',\n",
       " 'AAAAAA_test9',\n",
       " 'ADMIN  - Send HTML Email',\n",
       " 'Bedrock.Cube.Clone',\n",
       " 'Bedrock.Dim.Clone',\n",
       " 'Chore Save Data All',\n",
       " 'Cub.Sys Definition ZL Product Info Input.Price Calc',\n",
       " 'Cub.Sys Definition ZL Product Info Input.Price Calc.Caller',\n",
       " 'Cub.Sys Lookup Year Month.Update',\n",
       " 'Cub.Sys Lookup Year Month Day.Update',\n",
       " 'Cub.ZL Sales Market Basket Analysis.Data Load From Python',\n",
       " 'Dim.Employee Sync From }Clients',\n",
       " 'Info_DimensionUtilisation',\n",
       " 'load.xlsx.file',\n",
       " 'process test',\n",
       " 'Sys.APQ TM1 Log Recorder.Design',\n",
       " 'Sys.Cub.Rule Loop For Scan Substr',\n",
       " 'Sys.Cub.Rule Loop For Scan Substr.Caller',\n",
       " 'Sys.Daily Exchange Rate DM From Website Python',\n",
       " 'Sys.Daily Exchange Rate DM From Website Python.Runner',\n",
       " 'Sys.Daily Exchange Rate DM From Website Python Dynamic',\n",
       " 'Sys.load.csv.file',\n",
       " 'Sys.Lookup Private View by Client.Data.Update Windows',\n",
       " 'Sys.MySQL Server Database Backup',\n",
       " 'Sys.Process Loop For Scan Substr',\n",
       " 'Sys.Process Loop For Scan Substr.Caller',\n",
       " 'Sys.Python.Package.Install Scripts',\n",
       " 'Sys.Security.Cub.Create For New Server',\n",
       " 'Sys.Set Global Mode To Blank For MySQL',\n",
       " 'Sys.Single Cube.DataSave.Generic Script',\n",
       " 'Sys.TI Execute TM1 REST API.Management',\n",
       " 'Sys.TM1 REST API',\n",
       " 'Sys.TM1Web Server Startup Generic Scripts Linux',\n",
       " 'Sys.Win Server.Command.Execute',\n",
       " 'Sys.Win Server.Dormancy.Command',\n",
       " 'Sys.Win Server.PowerShell Command.Execute',\n",
       " 'Sys Chore Execution Console Generic Script',\n",
       " 'Sys Error Log Load Module',\n",
       " 'Sys Error Log Load Module.Caller',\n",
       " 'Sys Error Log Load Module Get Error File',\n",
       " 'Sys Replace Function Generic Script',\n",
       " 'Sys Sales Gross Margin % Calc Generic Scripts.Caller',\n",
       " 'TECH_double counting I',\n",
       " 'TECH_double counting II',\n",
       " 'TECH_picklist_overview',\n",
       " 'TECH_security cubes by client',\n",
       " 'TECH_StatsByCube_additions',\n",
       " 'TECH_TI to FreeMind',\n",
       " 'TECH_TM1Documenter_ChoreInfo',\n",
       " 'TECH_TM1Documenter_Main',\n",
       " 'TECH_TM1Documenter_ProcessInfo',\n",
       " 'TECH_views_and_subsets',\n",
       " 'TM1RunTI',\n",
       " 'zzNeilTest',\n",
       " 'zzniko',\n",
       " 'zzTat',\n",
       " 'zztestuj',\n",
       " '}bedrock.chore.execution.check',\n",
       " '}bedrock.cube.clone',\n",
       " '}bedrock.cube.create',\n",
       " '}bedrock.cube.data.clear',\n",
       " '}bedrock.cube.data.copy',\n",
       " '}bedrock.cube.data.copy.intercube',\n",
       " '}bedrock.cube.data.export',\n",
       " '}bedrock.cube.data.import',\n",
       " '}bedrock.cube.data.save',\n",
       " '}bedrock.cube.delete',\n",
       " '}bedrock.cube.dimension.add',\n",
       " '}bedrock.cube.dimension.delete',\n",
       " '}bedrock.cube.dimension.replace',\n",
       " '}bedrock.cube.rule.manage',\n",
       " '}bedrock.cube.rule.processfeeders',\n",
       " '}bedrock.cube.view.create',\n",
       " '}bedrock.cube.view.create.bymdx',\n",
       " '}bedrock.cube.view.delete',\n",
       " '}bedrock.cube.view.publish',\n",
       " '}bedrock.cube.viewandsubsets.create',\n",
       " '}bedrock.cube.viewandsubsets.delete',\n",
       " '}bedrock.dim.attr.create',\n",
       " '}bedrock.dim.attr.delete',\n",
       " '}bedrock.dim.attr.importfromfile',\n",
       " '}bedrock.dim.attr.swapalias',\n",
       " '}bedrock.dim.clone',\n",
       " '}bedrock.dim.delete',\n",
       " '}bedrock.hier.clone',\n",
       " '}bedrock.hier.consol.delete',\n",
       " '}bedrock.hier.consol.flat.create',\n",
       " '}bedrock.hier.create',\n",
       " '}bedrock.hier.create.fromattribute',\n",
       " '}bedrock.hier.create.fromrollup',\n",
       " '}bedrock.hier.create.fromrollup.aliasswap',\n",
       " '}bedrock.hier.create.fromsubset',\n",
       " '}bedrock.hier.delete',\n",
       " '}bedrock.hier.element.create',\n",
       " '}bedrock.hier.element.delete',\n",
       " '}bedrock.hier.element.move',\n",
       " '}bedrock.hier.elements.validate',\n",
       " '}bedrock.hier.emptyconsols.delete',\n",
       " '}bedrock.hier.export',\n",
       " '}bedrock.hier.export.script',\n",
       " '}bedrock.hier.import',\n",
       " '}bedrock.hier.leaves.orphan.check',\n",
       " '}bedrock.hier.leaves.sync',\n",
       " '}bedrock.hier.sub.clone',\n",
       " '}bedrock.hier.sub.create',\n",
       " '}bedrock.hier.sub.create.all',\n",
       " '}bedrock.hier.sub.create.attribute.all',\n",
       " '}bedrock.hier.sub.create.attribute.leaf',\n",
       " '}bedrock.hier.sub.create.byelement',\n",
       " '}bedrock.hier.sub.create.bylevel',\n",
       " '}bedrock.hier.sub.create.bymdx',\n",
       " '}bedrock.hier.sub.create.consolidation.all',\n",
       " '}bedrock.hier.sub.create.consolidation.leaf',\n",
       " '}bedrock.hier.sub.create.leaf',\n",
       " '}bedrock.hier.sub.create.orphans',\n",
       " '}bedrock.hier.sub.create.toplevelhierarchy',\n",
       " '}bedrock.hier.sub.delete',\n",
       " '}bedrock.hier.sub.exclude',\n",
       " '}bedrock.hier.sub.exporttofile',\n",
       " '}bedrock.hier.sub.publish',\n",
       " '}bedrock.hier.unwind',\n",
       " '}bedrock.process.template',\n",
       " '}bedrock.security.client.clone',\n",
       " '}bedrock.security.client.create',\n",
       " '}bedrock.security.client.delete',\n",
       " '}bedrock.security.client.group.assign',\n",
       " '}bedrock.security.client.password.reset',\n",
       " '}bedrock.security.cube.cellsecurity.create',\n",
       " '}bedrock.security.cube.cellsecurity.destroy',\n",
       " '}bedrock.security.evaluate.mdx',\n",
       " '}bedrock.security.evaluate.mdx.private',\n",
       " '}bedrock.security.group.create',\n",
       " '}bedrock.security.group.delete',\n",
       " '}bedrock.security.object.assign',\n",
       " '}bedrock.security.refresh',\n",
       " '}bedrock.server.deleteallpersistentfeeders',\n",
       " '}bedrock.server.dir.backup',\n",
       " '}bedrock.server.dir.listcontents',\n",
       " '}bedrock.server.encrypt.directory',\n",
       " '}bedrock.server.encrypt.file',\n",
       " '}bedrock.server.executecommand',\n",
       " '}bedrock.server.localize',\n",
       " '}bedrock.server.logfile.delete',\n",
       " '}bedrock.server.savedataall',\n",
       " '}bedrock.server.util.string.validate',\n",
       " '}bedrock.server.wait',\n",
       " '}bedrock.server.writetomessagelog',\n",
       " '}Hold and Lock Cube Dims Elements',\n",
       " '}Localizing your model Cube.Dim.Element',\n",
       " '}src_clients_export',\n",
       " '}src_control',\n",
       " '}src_cube_export',\n",
       " '}src_cube_export_all',\n",
       " '}src_dim_export',\n",
       " '}src_dim_export_all',\n",
       " '}src_dim_export_data',\n",
       " '}src_dim_export_data_all',\n",
       " '}src_export',\n",
       " '}src_import',\n",
       " '}src_save',\n",
       " '}src_stats_export',\n",
       " '}TM1RunTI generic Script',\n",
       " '}TM1RunTI generic Script Hustle Call',\n",
       " '}TM1RunTI generic Script Hustle Call Generate Parameter File',\n",
       " '}TM1RunTI generic Script Hustle Call Simple',\n",
       " '}tp_add_user_security_from_file',\n",
       " '}tp_admin_application_users',\n",
       " '}tp_admin_delete_all',\n",
       " '}tp_admin_state_summary',\n",
       " '}tp_application_deploy',\n",
       " '}tp_application_remove',\n",
       " '}tp_application_remove_control_subset',\n",
       " '}tp_clean_owner_groups',\n",
       " '}tp_clear_running_job',\n",
       " '}tp_create_planning_artifacts',\n",
       " '}tp_create_users_and_groups',\n",
       " '}tp_custom_TI_delete_error_code',\n",
       " '}tp_custom_TI_update_error_code',\n",
       " '}tp_custom_TI_update_error_code_caption',\n",
       " '}tp_custom_TI_update_TI_cube',\n",
       " '}tp_delete_drill_view',\n",
       " '}tp_delete_sandboxes',\n",
       " '}tp_deploy_app_cubes_add',\n",
       " '}tp_deploy_app_cubes_cleanup',\n",
       " '}tp_deploy_create_security_overlay_cube',\n",
       " '}tp_deploy_create_shadow_dimension',\n",
       " '}tp_deploy_create_task_navigation_cube',\n",
       " '}tp_deploy_sort_shadow_hierarchy',\n",
       " '}tp_deploy_update_cube_security_property',\n",
       " '}tp_error_add_guid',\n",
       " '}tp_error_cleanup',\n",
       " '}tp_error_setup',\n",
       " '}tp_error_update_error_cube',\n",
       " '}tp_get_application_attributes',\n",
       " '}tp_get_log_file_names',\n",
       " '}tp_get_parent_in_subset',\n",
       " '}tp_get_top_node',\n",
       " '}tp_get_user_permissions',\n",
       " '}tp_get_user_root_permissions',\n",
       " '}tp_init_new_server',\n",
       " '}tp_initialize_session',\n",
       " '}tp_job_delete',\n",
       " '}tp_job_end',\n",
       " '}tp_job_start',\n",
       " '}tp_mdx_find_consolidate_descendants',\n",
       " '}tp_mdx_find_descendants',\n",
       " '}tp_modify_application_attribute',\n",
       " '}tp_reserve_release_all',\n",
       " '}tp_reserve_slice',\n",
       " '}tp_reset_permission_on_failure',\n",
       " '}tp_reset_state',\n",
       " '}tp_reset_view_by_cube_user',\n",
       " '}tp_reset_views',\n",
       " '}tp_rights_update_preparation',\n",
       " '}tp_rights_update_RDCLS_post',\n",
       " '}tp_rights_update_RDCLS_static_rights',\n",
       " '}tp_set_access_to_cube',\n",
       " '}tp_set_access_to_cubes',\n",
       " '}tp_set_app_user_preference',\n",
       " '}tp_set_dr_capabilities',\n",
       " '}tp_set_running_maintenance',\n",
       " '}tp_set_state_reviewers',\n",
       " '}tp_set_state_reviewers_all',\n",
       " '}tp_set_system_config',\n",
       " '}tp_setup_application_dr',\n",
       " '}tp_update_application',\n",
       " '}tp_update_application_cubes',\n",
       " '}tp_update_application_cubes_pre',\n",
       " '}tp_update_application_DR',\n",
       " '}tp_update_application_securityOverlay',\n",
       " '}tp_update_ownership',\n",
       " '}tp_update_state_cube',\n",
       " '}tp_upgrade_from_v9_5_1_to_v9_5_2',\n",
       " '}tp_upgrade_from_v9_5_2_to_v10_1',\n",
       " '}tp_upgrade_security_post_from_v9_5_2_to_v10_1',\n",
       " '}tp_upgrade_security_pre_from_v9_5_2_to_v10_1',\n",
       " '}tp_util_add_direct_children_to_subset',\n",
       " '}tp_util_check_approval_overlap',\n",
       " '}tp_util_convert_dynamic_subset_to_static',\n",
       " '}tp_util_convert_security_file',\n",
       " '}tp_util_create_cube',\n",
       " '}tp_util_delete_subset_element',\n",
       " '}tp_util_does_dim_have_cube_name',\n",
       " '}tp_util_escape_id',\n",
       " '}tp_util_export_cube',\n",
       " '}tp_util_export_hierarchy',\n",
       " '}tp_util_get_all_leaf_children_in_subset',\n",
       " '}tp_util_import_cube',\n",
       " '}tp_util_insert_value_into_cube',\n",
       " '}tp_util_is_dim_in_cube',\n",
       " '}tp_util_is_in_subset',\n",
       " '}tp_util_truncate_error_dim',\n",
       " '}tp_util_update_hierarchy',\n",
       " '}tp_util_update_hierarchy_from_file',\n",
       " '}tp_util_update_node_in_subset',\n",
       " '}tp_workflow_bounce_conflict_users',\n",
       " '}tp_workflow_bounce_nodes',\n",
       " '}tp_workflow_change_node_state',\n",
       " '}tp_workflow_enter_node',\n",
       " '}tp_workflow_execute_action',\n",
       " '}tp_workflow_leave_node',\n",
       " '}tp_workflow_offline_node',\n",
       " '}tp_workflow_online_node',\n",
       " '}tp_workflow_own_node',\n",
       " '}tp_workflow_reject_node',\n",
       " '}tp_workflow_reject_nodes',\n",
       " '}tp_workflow_release_node',\n",
       " '}tp_workflow_save_node',\n",
       " '}tp_workflow_submit_leaf_children',\n",
       " '}tp_workflow_submit_node',\n",
       " '}tp_workflow_update_user_name',\n",
       " '}tp_workflow_util_bounce_conflict_users',\n",
       " '}tp_workflow_util_bounce_nodes',\n",
       " '}tp_workflow_util_bounce_nodes_message',\n",
       " '}tp_workflow_util_lock_app_node',\n",
       " '}tp_workflow_util_lock_cube_slices',\n",
       " '}tp_workflow_util_own_node',\n",
       " '}tp_workflow_util_reject_ancestors',\n",
       " '}tp_workflow_util_reserve_cube_slices',\n",
       " '}Undocumented TI Process Functions',\n",
       " '解析用户密码']"
      ]
     },
     "execution_count": 232,
     "metadata": {},
     "output_type": "execute_result"
    }
   ],
   "source": [
    "TM1.processes.get_all_names()"
   ]
  },
  {
   "cell_type": "markdown",
   "id": "8ceb147c",
   "metadata": {},
   "source": [
    "### 运行process"
   ]
  },
  {
   "cell_type": "code",
   "execution_count": 258,
   "id": "0d8e63ae",
   "metadata": {},
   "outputs": [],
   "source": [
    "#process_for_run=TM1.processes.get('zzNeilTest')"
   ]
  },
  {
   "cell_type": "code",
   "execution_count": 259,
   "id": "a1abc9c5",
   "metadata": {},
   "outputs": [],
   "source": [
    "prameters=[{'Name': 'p1',  'Value': '1'},\n",
    " {'Name': 'p2', 'Value': '0'}]"
   ]
  },
  {
   "cell_type": "code",
   "execution_count": 260,
   "id": "6afef0f4",
   "metadata": {},
   "outputs": [
    {
     "data": {
      "text/plain": [
       "<Response [204]>"
      ]
     },
     "execution_count": 260,
     "metadata": {},
     "output_type": "execute_result"
    }
   ],
   "source": [
    "TM1.processes.execute('zzNeilTest',prameters)"
   ]
  },
  {
   "cell_type": "markdown",
   "id": "119212f1",
   "metadata": {},
   "source": [
    "### 删除process"
   ]
  },
  {
   "cell_type": "code",
   "execution_count": null,
   "id": "583d0724",
   "metadata": {},
   "outputs": [],
   "source": [
    "TM1.processes.delete('process test')"
   ]
  },
  {
   "cell_type": "markdown",
   "id": "252c03e0",
   "metadata": {},
   "source": [
    "## 数据相关"
   ]
  },
  {
   "cell_type": "markdown",
   "id": "13c9945d",
   "metadata": {},
   "source": [
    "### CSV写入"
   ]
  },
  {
   "cell_type": "code",
   "execution_count": 262,
   "id": "e17e87a1",
   "metadata": {},
   "outputs": [],
   "source": [
    "import pandas as pd"
   ]
  },
  {
   "cell_type": "code",
   "execution_count": 263,
   "id": "7fe5d5d4",
   "metadata": {},
   "outputs": [],
   "source": [
    "zl_stg=pd.read_csv(r'C:\\DBs_EDU\\Neil\\cube test load.csv',\n",
    "                   dtype={'Year':'str','Month':'str','M Profit Loss':'str'})"
   ]
  },
  {
   "cell_type": "code",
   "execution_count": 264,
   "id": "79caaab7",
   "metadata": {},
   "outputs": [
    {
     "data": {
      "text/html": [
       "<div>\n",
       "<style scoped>\n",
       "    .dataframe tbody tr th:only-of-type {\n",
       "        vertical-align: middle;\n",
       "    }\n",
       "\n",
       "    .dataframe tbody tr th {\n",
       "        vertical-align: top;\n",
       "    }\n",
       "\n",
       "    .dataframe thead th {\n",
       "        text-align: right;\n",
       "    }\n",
       "</style>\n",
       "<table border=\"1\" class=\"dataframe\">\n",
       "  <thead>\n",
       "    <tr style=\"text-align: right;\">\n",
       "      <th></th>\n",
       "      <th>Year</th>\n",
       "      <th>Month</th>\n",
       "      <th>M Profit Loss</th>\n",
       "      <th>Value</th>\n",
       "    </tr>\n",
       "  </thead>\n",
       "  <tbody>\n",
       "    <tr>\n",
       "      <th>0</th>\n",
       "      <td>2020</td>\n",
       "      <td>M01</td>\n",
       "      <td>Amount</td>\n",
       "      <td>10</td>\n",
       "    </tr>\n",
       "    <tr>\n",
       "      <th>1</th>\n",
       "      <td>2020</td>\n",
       "      <td>M02</td>\n",
       "      <td>Amount</td>\n",
       "      <td>20</td>\n",
       "    </tr>\n",
       "    <tr>\n",
       "      <th>2</th>\n",
       "      <td>2020</td>\n",
       "      <td>M03</td>\n",
       "      <td>Amount</td>\n",
       "      <td>30</td>\n",
       "    </tr>\n",
       "    <tr>\n",
       "      <th>3</th>\n",
       "      <td>2020</td>\n",
       "      <td>M04</td>\n",
       "      <td>Amount</td>\n",
       "      <td>40</td>\n",
       "    </tr>\n",
       "    <tr>\n",
       "      <th>4</th>\n",
       "      <td>2020</td>\n",
       "      <td>M05</td>\n",
       "      <td>Amount</td>\n",
       "      <td>50</td>\n",
       "    </tr>\n",
       "    <tr>\n",
       "      <th>5</th>\n",
       "      <td>2020</td>\n",
       "      <td>M06</td>\n",
       "      <td>Amount</td>\n",
       "      <td>60</td>\n",
       "    </tr>\n",
       "    <tr>\n",
       "      <th>6</th>\n",
       "      <td>2020</td>\n",
       "      <td>M07</td>\n",
       "      <td>Amount</td>\n",
       "      <td>70</td>\n",
       "    </tr>\n",
       "    <tr>\n",
       "      <th>7</th>\n",
       "      <td>2020</td>\n",
       "      <td>M08</td>\n",
       "      <td>Amount</td>\n",
       "      <td>80</td>\n",
       "    </tr>\n",
       "    <tr>\n",
       "      <th>8</th>\n",
       "      <td>2020</td>\n",
       "      <td>M09</td>\n",
       "      <td>Amount</td>\n",
       "      <td>90</td>\n",
       "    </tr>\n",
       "    <tr>\n",
       "      <th>9</th>\n",
       "      <td>2020</td>\n",
       "      <td>M10</td>\n",
       "      <td>Amount</td>\n",
       "      <td>100</td>\n",
       "    </tr>\n",
       "    <tr>\n",
       "      <th>10</th>\n",
       "      <td>2020</td>\n",
       "      <td>M11</td>\n",
       "      <td>Amount</td>\n",
       "      <td>110</td>\n",
       "    </tr>\n",
       "    <tr>\n",
       "      <th>11</th>\n",
       "      <td>2020</td>\n",
       "      <td>M12</td>\n",
       "      <td>Amount</td>\n",
       "      <td>120</td>\n",
       "    </tr>\n",
       "    <tr>\n",
       "      <th>12</th>\n",
       "      <td>2021</td>\n",
       "      <td>M01</td>\n",
       "      <td>Amount</td>\n",
       "      <td>130</td>\n",
       "    </tr>\n",
       "    <tr>\n",
       "      <th>13</th>\n",
       "      <td>2021</td>\n",
       "      <td>M02</td>\n",
       "      <td>Amount</td>\n",
       "      <td>140</td>\n",
       "    </tr>\n",
       "    <tr>\n",
       "      <th>14</th>\n",
       "      <td>2021</td>\n",
       "      <td>M03</td>\n",
       "      <td>Amount</td>\n",
       "      <td>150</td>\n",
       "    </tr>\n",
       "    <tr>\n",
       "      <th>15</th>\n",
       "      <td>2021</td>\n",
       "      <td>M04</td>\n",
       "      <td>Amount</td>\n",
       "      <td>160</td>\n",
       "    </tr>\n",
       "    <tr>\n",
       "      <th>16</th>\n",
       "      <td>2021</td>\n",
       "      <td>M05</td>\n",
       "      <td>Amount</td>\n",
       "      <td>170</td>\n",
       "    </tr>\n",
       "    <tr>\n",
       "      <th>17</th>\n",
       "      <td>2021</td>\n",
       "      <td>M06</td>\n",
       "      <td>Amount</td>\n",
       "      <td>180</td>\n",
       "    </tr>\n",
       "    <tr>\n",
       "      <th>18</th>\n",
       "      <td>2021</td>\n",
       "      <td>M07</td>\n",
       "      <td>Amount</td>\n",
       "      <td>190</td>\n",
       "    </tr>\n",
       "    <tr>\n",
       "      <th>19</th>\n",
       "      <td>2021</td>\n",
       "      <td>M08</td>\n",
       "      <td>Amount</td>\n",
       "      <td>200</td>\n",
       "    </tr>\n",
       "    <tr>\n",
       "      <th>20</th>\n",
       "      <td>2021</td>\n",
       "      <td>M09</td>\n",
       "      <td>Amount</td>\n",
       "      <td>210</td>\n",
       "    </tr>\n",
       "    <tr>\n",
       "      <th>21</th>\n",
       "      <td>2021</td>\n",
       "      <td>M10</td>\n",
       "      <td>Amount</td>\n",
       "      <td>220</td>\n",
       "    </tr>\n",
       "    <tr>\n",
       "      <th>22</th>\n",
       "      <td>2021</td>\n",
       "      <td>M11</td>\n",
       "      <td>Amount</td>\n",
       "      <td>230</td>\n",
       "    </tr>\n",
       "    <tr>\n",
       "      <th>23</th>\n",
       "      <td>2021</td>\n",
       "      <td>M12</td>\n",
       "      <td>Amount</td>\n",
       "      <td>240</td>\n",
       "    </tr>\n",
       "  </tbody>\n",
       "</table>\n",
       "</div>"
      ],
      "text/plain": [
       "    Year Month M Profit Loss  Value\n",
       "0   2020   M01        Amount     10\n",
       "1   2020   M02        Amount     20\n",
       "2   2020   M03        Amount     30\n",
       "3   2020   M04        Amount     40\n",
       "4   2020   M05        Amount     50\n",
       "5   2020   M06        Amount     60\n",
       "6   2020   M07        Amount     70\n",
       "7   2020   M08        Amount     80\n",
       "8   2020   M09        Amount     90\n",
       "9   2020   M10        Amount    100\n",
       "10  2020   M11        Amount    110\n",
       "11  2020   M12        Amount    120\n",
       "12  2021   M01        Amount    130\n",
       "13  2021   M02        Amount    140\n",
       "14  2021   M03        Amount    150\n",
       "15  2021   M04        Amount    160\n",
       "16  2021   M05        Amount    170\n",
       "17  2021   M06        Amount    180\n",
       "18  2021   M07        Amount    190\n",
       "19  2021   M08        Amount    200\n",
       "20  2021   M09        Amount    210\n",
       "21  2021   M10        Amount    220\n",
       "22  2021   M11        Amount    230\n",
       "23  2021   M12        Amount    240"
      ]
     },
     "execution_count": 264,
     "metadata": {},
     "output_type": "execute_result"
    }
   ],
   "source": [
    "zl_stg"
   ]
  },
  {
   "cell_type": "code",
   "execution_count": 302,
   "id": "29569a1d",
   "metadata": {},
   "outputs": [],
   "source": [
    "#清数\n",
    "#clear\n",
    "cube_trg=\"Cube Test\"\n",
    "mdx_trg='''\n",
    "SELECT \n",
    "   {TM1Filterbylevel({Hierarchize({TM1Subsetall([Month])})},0)} \n",
    "  ON COLUMNS , \n",
    "   {TM1Filterbylevel({Hierarchize({TM1Subsetall([Year])})},0)} \n",
    "  ON ROWS \n",
    "FROM [Cube Test] \n",
    "WHERE \n",
    "  (\n",
    "   [M Profit Loss].[M Profit Loss].[Amount]\n",
    "  )\n",
    "             '''\n",
    "TM1.cells.clear_with_mdx(cube_trg,mdx_trg)"
   ]
  },
  {
   "cell_type": "code",
   "execution_count": 267,
   "id": "d1de20ed",
   "metadata": {},
   "outputs": [],
   "source": [
    "#导入\n",
    "TM1.cells.write_dataframe(\n",
    "        cube_name=cube_trg,\n",
    "        data=zl_stg,\n",
    "        dimensions=[\"Year\",\"Month\",\"M Profit Loss\"],\n",
    "        increment=True,\n",
    "        deactivate_transaction_log=True,\n",
    "        reactivate_transaction_log=True,\n",
    "        sandbox_name=None,\n",
    "        use_ti=True,\n",
    "        skip_non_updateable=False)"
   ]
  },
  {
   "cell_type": "markdown",
   "id": "85ee7138",
   "metadata": {},
   "source": [
    "### 内部数据查询"
   ]
  },
  {
   "cell_type": "code",
   "execution_count": 281,
   "id": "03029eba",
   "metadata": {},
   "outputs": [],
   "source": [
    "mdx='''\n",
    "SELECT \n",
    "   {TM1Filterbylevel({Hierarchize({TM1Subsetall([Month])})},0)} \n",
    "  ON COLUMNS , \n",
    "   {TM1Filterbylevel({Hierarchize({TM1Subsetall([Year])})},0)} \n",
    "  ON ROWS \n",
    "FROM [Cube Test] \n",
    "WHERE \n",
    "  (\n",
    "   [M Profit Loss].[M Profit Loss].[Amount]\n",
    "  )\n",
    "             '''\n",
    "df=TM1.cubes.cells.execute_mdx_dataframe(mdx=mdx,skip_rule_derived_cells=False,skip_zeros=True)"
   ]
  },
  {
   "cell_type": "code",
   "execution_count": 282,
   "id": "dcb5d5a8",
   "metadata": {},
   "outputs": [
    {
     "data": {
      "text/html": [
       "<div>\n",
       "<style scoped>\n",
       "    .dataframe tbody tr th:only-of-type {\n",
       "        vertical-align: middle;\n",
       "    }\n",
       "\n",
       "    .dataframe tbody tr th {\n",
       "        vertical-align: top;\n",
       "    }\n",
       "\n",
       "    .dataframe thead th {\n",
       "        text-align: right;\n",
       "    }\n",
       "</style>\n",
       "<table border=\"1\" class=\"dataframe\">\n",
       "  <thead>\n",
       "    <tr style=\"text-align: right;\">\n",
       "      <th></th>\n",
       "      <th>Year</th>\n",
       "      <th>Month</th>\n",
       "      <th>Value</th>\n",
       "    </tr>\n",
       "  </thead>\n",
       "  <tbody>\n",
       "    <tr>\n",
       "      <th>0</th>\n",
       "      <td>2020</td>\n",
       "      <td>M01</td>\n",
       "      <td>10.0</td>\n",
       "    </tr>\n",
       "    <tr>\n",
       "      <th>1</th>\n",
       "      <td>2020</td>\n",
       "      <td>M02</td>\n",
       "      <td>20.0</td>\n",
       "    </tr>\n",
       "    <tr>\n",
       "      <th>2</th>\n",
       "      <td>2020</td>\n",
       "      <td>M03</td>\n",
       "      <td>30.0</td>\n",
       "    </tr>\n",
       "    <tr>\n",
       "      <th>3</th>\n",
       "      <td>2020</td>\n",
       "      <td>M04</td>\n",
       "      <td>40.0</td>\n",
       "    </tr>\n",
       "    <tr>\n",
       "      <th>4</th>\n",
       "      <td>2020</td>\n",
       "      <td>M05</td>\n",
       "      <td>50.0</td>\n",
       "    </tr>\n",
       "    <tr>\n",
       "      <th>5</th>\n",
       "      <td>2020</td>\n",
       "      <td>M06</td>\n",
       "      <td>60.0</td>\n",
       "    </tr>\n",
       "    <tr>\n",
       "      <th>6</th>\n",
       "      <td>2020</td>\n",
       "      <td>M07</td>\n",
       "      <td>70.0</td>\n",
       "    </tr>\n",
       "    <tr>\n",
       "      <th>7</th>\n",
       "      <td>2020</td>\n",
       "      <td>M08</td>\n",
       "      <td>80.0</td>\n",
       "    </tr>\n",
       "    <tr>\n",
       "      <th>8</th>\n",
       "      <td>2020</td>\n",
       "      <td>M09</td>\n",
       "      <td>90.0</td>\n",
       "    </tr>\n",
       "    <tr>\n",
       "      <th>9</th>\n",
       "      <td>2020</td>\n",
       "      <td>M10</td>\n",
       "      <td>100.0</td>\n",
       "    </tr>\n",
       "    <tr>\n",
       "      <th>10</th>\n",
       "      <td>2020</td>\n",
       "      <td>M11</td>\n",
       "      <td>110.0</td>\n",
       "    </tr>\n",
       "    <tr>\n",
       "      <th>11</th>\n",
       "      <td>2020</td>\n",
       "      <td>M12</td>\n",
       "      <td>120.0</td>\n",
       "    </tr>\n",
       "    <tr>\n",
       "      <th>12</th>\n",
       "      <td>2021</td>\n",
       "      <td>M01</td>\n",
       "      <td>130.0</td>\n",
       "    </tr>\n",
       "    <tr>\n",
       "      <th>13</th>\n",
       "      <td>2021</td>\n",
       "      <td>M02</td>\n",
       "      <td>140.0</td>\n",
       "    </tr>\n",
       "    <tr>\n",
       "      <th>14</th>\n",
       "      <td>2021</td>\n",
       "      <td>M03</td>\n",
       "      <td>150.0</td>\n",
       "    </tr>\n",
       "    <tr>\n",
       "      <th>15</th>\n",
       "      <td>2021</td>\n",
       "      <td>M04</td>\n",
       "      <td>160.0</td>\n",
       "    </tr>\n",
       "    <tr>\n",
       "      <th>16</th>\n",
       "      <td>2021</td>\n",
       "      <td>M05</td>\n",
       "      <td>170.0</td>\n",
       "    </tr>\n",
       "    <tr>\n",
       "      <th>17</th>\n",
       "      <td>2021</td>\n",
       "      <td>M06</td>\n",
       "      <td>180.0</td>\n",
       "    </tr>\n",
       "    <tr>\n",
       "      <th>18</th>\n",
       "      <td>2021</td>\n",
       "      <td>M07</td>\n",
       "      <td>190.0</td>\n",
       "    </tr>\n",
       "    <tr>\n",
       "      <th>19</th>\n",
       "      <td>2021</td>\n",
       "      <td>M08</td>\n",
       "      <td>200.0</td>\n",
       "    </tr>\n",
       "    <tr>\n",
       "      <th>20</th>\n",
       "      <td>2021</td>\n",
       "      <td>M09</td>\n",
       "      <td>210.0</td>\n",
       "    </tr>\n",
       "    <tr>\n",
       "      <th>21</th>\n",
       "      <td>2021</td>\n",
       "      <td>M10</td>\n",
       "      <td>220.0</td>\n",
       "    </tr>\n",
       "    <tr>\n",
       "      <th>22</th>\n",
       "      <td>2021</td>\n",
       "      <td>M11</td>\n",
       "      <td>230.0</td>\n",
       "    </tr>\n",
       "    <tr>\n",
       "      <th>23</th>\n",
       "      <td>2021</td>\n",
       "      <td>M12</td>\n",
       "      <td>240.0</td>\n",
       "    </tr>\n",
       "  </tbody>\n",
       "</table>\n",
       "</div>"
      ],
      "text/plain": [
       "    Year Month  Value\n",
       "0   2020   M01   10.0\n",
       "1   2020   M02   20.0\n",
       "2   2020   M03   30.0\n",
       "3   2020   M04   40.0\n",
       "4   2020   M05   50.0\n",
       "5   2020   M06   60.0\n",
       "6   2020   M07   70.0\n",
       "7   2020   M08   80.0\n",
       "8   2020   M09   90.0\n",
       "9   2020   M10  100.0\n",
       "10  2020   M11  110.0\n",
       "11  2020   M12  120.0\n",
       "12  2021   M01  130.0\n",
       "13  2021   M02  140.0\n",
       "14  2021   M03  150.0\n",
       "15  2021   M04  160.0\n",
       "16  2021   M05  170.0\n",
       "17  2021   M06  180.0\n",
       "18  2021   M07  190.0\n",
       "19  2021   M08  200.0\n",
       "20  2021   M09  210.0\n",
       "21  2021   M10  220.0\n",
       "22  2021   M11  230.0\n",
       "23  2021   M12  240.0"
      ]
     },
     "execution_count": 282,
     "metadata": {},
     "output_type": "execute_result"
    }
   ],
   "source": [
    "df"
   ]
  },
  {
   "cell_type": "code",
   "execution_count": null,
   "id": "8dd60f2e",
   "metadata": {},
   "outputs": [],
   "source": []
  },
  {
   "cell_type": "code",
   "execution_count": 287,
   "id": "920d1f77",
   "metadata": {},
   "outputs": [],
   "source": [
    "from TM1py.Utils import Utils\n",
    "cells=TM1.cubes.cells.execute_mdx(mdx,skip_rule_derived_cells=True,skip_zeros=True)\n",
    "df = Utils.build_pandas_dataframe_from_cellset(cells)"
   ]
  },
  {
   "cell_type": "code",
   "execution_count": 291,
   "id": "1188d3b3",
   "metadata": {},
   "outputs": [
    {
     "data": {
      "text/html": [
       "<div>\n",
       "<style scoped>\n",
       "    .dataframe tbody tr th:only-of-type {\n",
       "        vertical-align: middle;\n",
       "    }\n",
       "\n",
       "    .dataframe tbody tr th {\n",
       "        vertical-align: top;\n",
       "    }\n",
       "\n",
       "    .dataframe thead th {\n",
       "        text-align: right;\n",
       "    }\n",
       "</style>\n",
       "<table border=\"1\" class=\"dataframe\">\n",
       "  <thead>\n",
       "    <tr style=\"text-align: right;\">\n",
       "      <th></th>\n",
       "      <th></th>\n",
       "      <th></th>\n",
       "      <th>Values</th>\n",
       "    </tr>\n",
       "    <tr>\n",
       "      <th>Year</th>\n",
       "      <th>Month</th>\n",
       "      <th>M Profit Loss</th>\n",
       "      <th></th>\n",
       "    </tr>\n",
       "  </thead>\n",
       "  <tbody>\n",
       "    <tr>\n",
       "      <th rowspan=\"12\" valign=\"top\">2020</th>\n",
       "      <th>M01</th>\n",
       "      <th>Amount</th>\n",
       "      <td>10</td>\n",
       "    </tr>\n",
       "    <tr>\n",
       "      <th>M02</th>\n",
       "      <th>Amount</th>\n",
       "      <td>20</td>\n",
       "    </tr>\n",
       "    <tr>\n",
       "      <th>M03</th>\n",
       "      <th>Amount</th>\n",
       "      <td>30</td>\n",
       "    </tr>\n",
       "    <tr>\n",
       "      <th>M04</th>\n",
       "      <th>Amount</th>\n",
       "      <td>40</td>\n",
       "    </tr>\n",
       "    <tr>\n",
       "      <th>M05</th>\n",
       "      <th>Amount</th>\n",
       "      <td>50</td>\n",
       "    </tr>\n",
       "    <tr>\n",
       "      <th>M06</th>\n",
       "      <th>Amount</th>\n",
       "      <td>60</td>\n",
       "    </tr>\n",
       "    <tr>\n",
       "      <th>M07</th>\n",
       "      <th>Amount</th>\n",
       "      <td>70</td>\n",
       "    </tr>\n",
       "    <tr>\n",
       "      <th>M08</th>\n",
       "      <th>Amount</th>\n",
       "      <td>80</td>\n",
       "    </tr>\n",
       "    <tr>\n",
       "      <th>M09</th>\n",
       "      <th>Amount</th>\n",
       "      <td>90</td>\n",
       "    </tr>\n",
       "    <tr>\n",
       "      <th>M10</th>\n",
       "      <th>Amount</th>\n",
       "      <td>100</td>\n",
       "    </tr>\n",
       "    <tr>\n",
       "      <th>M11</th>\n",
       "      <th>Amount</th>\n",
       "      <td>110</td>\n",
       "    </tr>\n",
       "    <tr>\n",
       "      <th>M12</th>\n",
       "      <th>Amount</th>\n",
       "      <td>120</td>\n",
       "    </tr>\n",
       "    <tr>\n",
       "      <th rowspan=\"12\" valign=\"top\">2021</th>\n",
       "      <th>M01</th>\n",
       "      <th>Amount</th>\n",
       "      <td>130</td>\n",
       "    </tr>\n",
       "    <tr>\n",
       "      <th>M02</th>\n",
       "      <th>Amount</th>\n",
       "      <td>140</td>\n",
       "    </tr>\n",
       "    <tr>\n",
       "      <th>M03</th>\n",
       "      <th>Amount</th>\n",
       "      <td>150</td>\n",
       "    </tr>\n",
       "    <tr>\n",
       "      <th>M04</th>\n",
       "      <th>Amount</th>\n",
       "      <td>160</td>\n",
       "    </tr>\n",
       "    <tr>\n",
       "      <th>M05</th>\n",
       "      <th>Amount</th>\n",
       "      <td>170</td>\n",
       "    </tr>\n",
       "    <tr>\n",
       "      <th>M06</th>\n",
       "      <th>Amount</th>\n",
       "      <td>180</td>\n",
       "    </tr>\n",
       "    <tr>\n",
       "      <th>M07</th>\n",
       "      <th>Amount</th>\n",
       "      <td>190</td>\n",
       "    </tr>\n",
       "    <tr>\n",
       "      <th>M08</th>\n",
       "      <th>Amount</th>\n",
       "      <td>200</td>\n",
       "    </tr>\n",
       "    <tr>\n",
       "      <th>M09</th>\n",
       "      <th>Amount</th>\n",
       "      <td>210</td>\n",
       "    </tr>\n",
       "    <tr>\n",
       "      <th>M10</th>\n",
       "      <th>Amount</th>\n",
       "      <td>220</td>\n",
       "    </tr>\n",
       "    <tr>\n",
       "      <th>M11</th>\n",
       "      <th>Amount</th>\n",
       "      <td>230</td>\n",
       "    </tr>\n",
       "    <tr>\n",
       "      <th>M12</th>\n",
       "      <th>Amount</th>\n",
       "      <td>240</td>\n",
       "    </tr>\n",
       "  </tbody>\n",
       "</table>\n",
       "</div>"
      ],
      "text/plain": [
       "                          Values\n",
       "Year Month M Profit Loss        \n",
       "2020 M01   Amount             10\n",
       "     M02   Amount             20\n",
       "     M03   Amount             30\n",
       "     M04   Amount             40\n",
       "     M05   Amount             50\n",
       "     M06   Amount             60\n",
       "     M07   Amount             70\n",
       "     M08   Amount             80\n",
       "     M09   Amount             90\n",
       "     M10   Amount            100\n",
       "     M11   Amount            110\n",
       "     M12   Amount            120\n",
       "2021 M01   Amount            130\n",
       "     M02   Amount            140\n",
       "     M03   Amount            150\n",
       "     M04   Amount            160\n",
       "     M05   Amount            170\n",
       "     M06   Amount            180\n",
       "     M07   Amount            190\n",
       "     M08   Amount            200\n",
       "     M09   Amount            210\n",
       "     M10   Amount            220\n",
       "     M11   Amount            230\n",
       "     M12   Amount            240"
      ]
     },
     "execution_count": 291,
     "metadata": {},
     "output_type": "execute_result"
    }
   ],
   "source": [
    "df"
   ]
  },
  {
   "cell_type": "code",
   "execution_count": 293,
   "id": "61253186",
   "metadata": {},
   "outputs": [],
   "source": [
    "df_reindex=df.reset_index()"
   ]
  },
  {
   "cell_type": "code",
   "execution_count": 294,
   "id": "96935034",
   "metadata": {},
   "outputs": [
    {
     "data": {
      "text/html": [
       "<div>\n",
       "<style scoped>\n",
       "    .dataframe tbody tr th:only-of-type {\n",
       "        vertical-align: middle;\n",
       "    }\n",
       "\n",
       "    .dataframe tbody tr th {\n",
       "        vertical-align: top;\n",
       "    }\n",
       "\n",
       "    .dataframe thead th {\n",
       "        text-align: right;\n",
       "    }\n",
       "</style>\n",
       "<table border=\"1\" class=\"dataframe\">\n",
       "  <thead>\n",
       "    <tr style=\"text-align: right;\">\n",
       "      <th></th>\n",
       "      <th>Year</th>\n",
       "      <th>Month</th>\n",
       "      <th>M Profit Loss</th>\n",
       "      <th>Values</th>\n",
       "    </tr>\n",
       "  </thead>\n",
       "  <tbody>\n",
       "    <tr>\n",
       "      <th>0</th>\n",
       "      <td>2020</td>\n",
       "      <td>M01</td>\n",
       "      <td>Amount</td>\n",
       "      <td>10</td>\n",
       "    </tr>\n",
       "    <tr>\n",
       "      <th>1</th>\n",
       "      <td>2020</td>\n",
       "      <td>M02</td>\n",
       "      <td>Amount</td>\n",
       "      <td>20</td>\n",
       "    </tr>\n",
       "    <tr>\n",
       "      <th>2</th>\n",
       "      <td>2020</td>\n",
       "      <td>M03</td>\n",
       "      <td>Amount</td>\n",
       "      <td>30</td>\n",
       "    </tr>\n",
       "    <tr>\n",
       "      <th>3</th>\n",
       "      <td>2020</td>\n",
       "      <td>M04</td>\n",
       "      <td>Amount</td>\n",
       "      <td>40</td>\n",
       "    </tr>\n",
       "    <tr>\n",
       "      <th>4</th>\n",
       "      <td>2020</td>\n",
       "      <td>M05</td>\n",
       "      <td>Amount</td>\n",
       "      <td>50</td>\n",
       "    </tr>\n",
       "    <tr>\n",
       "      <th>5</th>\n",
       "      <td>2020</td>\n",
       "      <td>M06</td>\n",
       "      <td>Amount</td>\n",
       "      <td>60</td>\n",
       "    </tr>\n",
       "    <tr>\n",
       "      <th>6</th>\n",
       "      <td>2020</td>\n",
       "      <td>M07</td>\n",
       "      <td>Amount</td>\n",
       "      <td>70</td>\n",
       "    </tr>\n",
       "    <tr>\n",
       "      <th>7</th>\n",
       "      <td>2020</td>\n",
       "      <td>M08</td>\n",
       "      <td>Amount</td>\n",
       "      <td>80</td>\n",
       "    </tr>\n",
       "    <tr>\n",
       "      <th>8</th>\n",
       "      <td>2020</td>\n",
       "      <td>M09</td>\n",
       "      <td>Amount</td>\n",
       "      <td>90</td>\n",
       "    </tr>\n",
       "    <tr>\n",
       "      <th>9</th>\n",
       "      <td>2020</td>\n",
       "      <td>M10</td>\n",
       "      <td>Amount</td>\n",
       "      <td>100</td>\n",
       "    </tr>\n",
       "    <tr>\n",
       "      <th>10</th>\n",
       "      <td>2020</td>\n",
       "      <td>M11</td>\n",
       "      <td>Amount</td>\n",
       "      <td>110</td>\n",
       "    </tr>\n",
       "    <tr>\n",
       "      <th>11</th>\n",
       "      <td>2020</td>\n",
       "      <td>M12</td>\n",
       "      <td>Amount</td>\n",
       "      <td>120</td>\n",
       "    </tr>\n",
       "    <tr>\n",
       "      <th>12</th>\n",
       "      <td>2021</td>\n",
       "      <td>M01</td>\n",
       "      <td>Amount</td>\n",
       "      <td>130</td>\n",
       "    </tr>\n",
       "    <tr>\n",
       "      <th>13</th>\n",
       "      <td>2021</td>\n",
       "      <td>M02</td>\n",
       "      <td>Amount</td>\n",
       "      <td>140</td>\n",
       "    </tr>\n",
       "    <tr>\n",
       "      <th>14</th>\n",
       "      <td>2021</td>\n",
       "      <td>M03</td>\n",
       "      <td>Amount</td>\n",
       "      <td>150</td>\n",
       "    </tr>\n",
       "    <tr>\n",
       "      <th>15</th>\n",
       "      <td>2021</td>\n",
       "      <td>M04</td>\n",
       "      <td>Amount</td>\n",
       "      <td>160</td>\n",
       "    </tr>\n",
       "    <tr>\n",
       "      <th>16</th>\n",
       "      <td>2021</td>\n",
       "      <td>M05</td>\n",
       "      <td>Amount</td>\n",
       "      <td>170</td>\n",
       "    </tr>\n",
       "    <tr>\n",
       "      <th>17</th>\n",
       "      <td>2021</td>\n",
       "      <td>M06</td>\n",
       "      <td>Amount</td>\n",
       "      <td>180</td>\n",
       "    </tr>\n",
       "    <tr>\n",
       "      <th>18</th>\n",
       "      <td>2021</td>\n",
       "      <td>M07</td>\n",
       "      <td>Amount</td>\n",
       "      <td>190</td>\n",
       "    </tr>\n",
       "    <tr>\n",
       "      <th>19</th>\n",
       "      <td>2021</td>\n",
       "      <td>M08</td>\n",
       "      <td>Amount</td>\n",
       "      <td>200</td>\n",
       "    </tr>\n",
       "    <tr>\n",
       "      <th>20</th>\n",
       "      <td>2021</td>\n",
       "      <td>M09</td>\n",
       "      <td>Amount</td>\n",
       "      <td>210</td>\n",
       "    </tr>\n",
       "    <tr>\n",
       "      <th>21</th>\n",
       "      <td>2021</td>\n",
       "      <td>M10</td>\n",
       "      <td>Amount</td>\n",
       "      <td>220</td>\n",
       "    </tr>\n",
       "    <tr>\n",
       "      <th>22</th>\n",
       "      <td>2021</td>\n",
       "      <td>M11</td>\n",
       "      <td>Amount</td>\n",
       "      <td>230</td>\n",
       "    </tr>\n",
       "    <tr>\n",
       "      <th>23</th>\n",
       "      <td>2021</td>\n",
       "      <td>M12</td>\n",
       "      <td>Amount</td>\n",
       "      <td>240</td>\n",
       "    </tr>\n",
       "  </tbody>\n",
       "</table>\n",
       "</div>"
      ],
      "text/plain": [
       "    Year Month M Profit Loss  Values\n",
       "0   2020   M01        Amount      10\n",
       "1   2020   M02        Amount      20\n",
       "2   2020   M03        Amount      30\n",
       "3   2020   M04        Amount      40\n",
       "4   2020   M05        Amount      50\n",
       "5   2020   M06        Amount      60\n",
       "6   2020   M07        Amount      70\n",
       "7   2020   M08        Amount      80\n",
       "8   2020   M09        Amount      90\n",
       "9   2020   M10        Amount     100\n",
       "10  2020   M11        Amount     110\n",
       "11  2020   M12        Amount     120\n",
       "12  2021   M01        Amount     130\n",
       "13  2021   M02        Amount     140\n",
       "14  2021   M03        Amount     150\n",
       "15  2021   M04        Amount     160\n",
       "16  2021   M05        Amount     170\n",
       "17  2021   M06        Amount     180\n",
       "18  2021   M07        Amount     190\n",
       "19  2021   M08        Amount     200\n",
       "20  2021   M09        Amount     210\n",
       "21  2021   M10        Amount     220\n",
       "22  2021   M11        Amount     230\n",
       "23  2021   M12        Amount     240"
      ]
     },
     "execution_count": 294,
     "metadata": {},
     "output_type": "execute_result"
    }
   ],
   "source": [
    "df_reindex"
   ]
  },
  {
   "cell_type": "code",
   "execution_count": 305,
   "id": "a32931d3",
   "metadata": {},
   "outputs": [],
   "source": [
    "TM1.cells.write_dataframe(\n",
    "        cube_name='Cube Test',\n",
    "        data=df_reindex,\n",
    "        dimensions=[\"Year\",\"Month\",\"M Profit Loss\"],\n",
    "        increment=False,\n",
    "        deactivate_transaction_log=True,\n",
    "        reactivate_transaction_log=True,\n",
    "        sandbox_name=None,\n",
    "        use_ti=True,\n",
    "        skip_non_updateable=False)"
   ]
  },
  {
   "cell_type": "markdown",
   "id": "beeee3d6",
   "metadata": {},
   "source": [
    "## 练习 1 将FDI 某维度迁移至 FCD"
   ]
  },
  {
   "cell_type": "code",
   "execution_count": 306,
   "id": "a7e99f16",
   "metadata": {},
   "outputs": [],
   "source": [
    "from TM1py.Services import TM1Service\n",
    "tm1_src = TM1Service(address=\"localhost\", port=30059, ssl=False, user=\"Neil\", password=\"123\")\n",
    "tm1_trg = TM1Service(address=\"localhost\", port=30002, ssl=True, user=\"admin\", password=\"apple\")"
   ]
  },
  {
   "cell_type": "code",
   "execution_count": 318,
   "id": "4e6a26dd",
   "metadata": {},
   "outputs": [],
   "source": [
    "from TM1py.Services import TM1Service\n",
    "tm1_src = TM1Service(address=\"localhost\", port=30059, ssl=False, user=\"Neil\", password=\"123\")\n",
    "tm1_trg = TM1Service(address=\"localhost\", port=30002, ssl=True, user=\"admin\", password=\"apple\")\n",
    "syn_dimension='M Profit Loss'\n",
    "\n",
    "dimension_src = tm1_src.dimensions.get(dimension_name=\n",
    "syn_dimension)\n",
    "\n",
    "\n",
    "#迁移维度\n",
    "if tm1_trg.dimensions.exists(syn_dimension):\n",
    "    tm1_trg.dimensions.update(dimension_src)\n",
    "else:    \n",
    "    tm1_trg.dimensions.create(dimension_src)\n"
   ]
  },
  {
   "cell_type": "code",
   "execution_count": 316,
   "id": "2c433ba0",
   "metadata": {},
   "outputs": [],
   "source": [
    "#属性迁移\n",
    "mdx = \"SELECT \" \\\n",
    "           \"{[}ElementAttributes_\"+syn_dimension+\"].[}ElementAttributes_\"+syn_dimension+\"].Members} ON COLUMNS , \" \\\n",
    "           \"{[\"+syn_dimension+\"].[\"+syn_dimension+\"].Members} ON ROWS \" \\\n",
    "           \"FROM [}ElementAttributes_\"+syn_dimension+\"]\"\n",
    "cells = tm1_src.cubes.cells.execute_mdx(mdx, skip_rule_derived_cells=True, skip_zeros=True, element_unique_names=False,\n",
    "                                        skip_cell_properties=True)\n",
    "\n",
    "tm1_trg.cells.write(\"}ElementAttributes_\"+syn_dimension, cells,use_ti=True)"
   ]
  },
  {
   "cell_type": "code",
   "execution_count": null,
   "id": "1df0c80b",
   "metadata": {},
   "outputs": [],
   "source": []
  },
  {
   "cell_type": "code",
   "execution_count": 317,
   "id": "020443e4",
   "metadata": {},
   "outputs": [],
   "source": [
    "#同步subset暂时不能动态，只能第一次初始化\n",
    "subsets_names = tm1_src.subsets.get_all_names(\n",
    "syn_dimension)\n",
    "for subsets_name in subsets_names:\n",
    "    subset_src = tm1_src.subsets.get(subset_name=subsets_name, dimension_name=\n",
    "syn_dimension,private=False)\n",
    "    #subset = tm1.dimensions.subsets.get(dimension_name='Organisation', subset_name=subset_name, private=True)\n",
    "    if tm1_trg.subsets.exists(subsets_name,dimension_name=syn_dimension)==False:\n",
    "        tm1_trg.subsets.create(subset=subset_src,private=False)"
   ]
  },
  {
   "cell_type": "markdown",
   "id": "d3a02fd8",
   "metadata": {},
   "source": [
    "### 练习2 迁移Cube FDI to FCD"
   ]
  },
  {
   "cell_type": "code",
   "execution_count": 320,
   "id": "9e838cfd",
   "metadata": {},
   "outputs": [],
   "source": [
    "from TM1py.Services import TM1Service\n",
    "from TM1py.Objects import Process\n",
    "tm1_src = TM1Service(address=\"localhost\", port=30059, ssl=False, user=\"Neil\", password=\"123\")\n",
    "tm1_trg = TM1Service(address=\"localhost\", port=30002, ssl=True, user=\"admin\", password=\"apple\")\n",
    "c_name_syn='Cube Test'\n",
    "c_syn_src = tm1_src.cubes.get(c_name_syn)\n",
    "\n",
    "if tm1_trg.cubes.exists(c_name_syn):\n",
    "    tm1_trg.cubes.update(c_syn_src)\n",
    "else:\n",
    "    tm1_trg.cubes.create(c_syn_src)"
   ]
  },
  {
   "cell_type": "markdown",
   "id": "f63d422e",
   "metadata": {},
   "source": [
    "### 练习3 构建维度"
   ]
  },
  {
   "cell_type": "code",
   "execution_count": 322,
   "id": "576c6315",
   "metadata": {},
   "outputs": [
    {
     "data": {
      "text/html": [
       "<div>\n",
       "<style scoped>\n",
       "    .dataframe tbody tr th:only-of-type {\n",
       "        vertical-align: middle;\n",
       "    }\n",
       "\n",
       "    .dataframe tbody tr th {\n",
       "        vertical-align: top;\n",
       "    }\n",
       "\n",
       "    .dataframe thead th {\n",
       "        text-align: right;\n",
       "    }\n",
       "</style>\n",
       "<table border=\"1\" class=\"dataframe\">\n",
       "  <thead>\n",
       "    <tr style=\"text-align: right;\">\n",
       "      <th></th>\n",
       "      <th>Level00</th>\n",
       "      <th>Level01</th>\n",
       "      <th>Level02</th>\n",
       "      <th>别名</th>\n",
       "    </tr>\n",
       "  </thead>\n",
       "  <tbody>\n",
       "    <tr>\n",
       "      <th>0</th>\n",
       "      <td>China</td>\n",
       "      <td>Asia</td>\n",
       "      <td>World</td>\n",
       "      <td>中国</td>\n",
       "    </tr>\n",
       "    <tr>\n",
       "      <th>1</th>\n",
       "      <td>Japan</td>\n",
       "      <td>Asia</td>\n",
       "      <td>World</td>\n",
       "      <td>日本</td>\n",
       "    </tr>\n",
       "    <tr>\n",
       "      <th>2</th>\n",
       "      <td>Korean</td>\n",
       "      <td>Asia</td>\n",
       "      <td>World</td>\n",
       "      <td>韩国</td>\n",
       "    </tr>\n",
       "    <tr>\n",
       "      <th>3</th>\n",
       "      <td>China</td>\n",
       "      <td>UN</td>\n",
       "      <td>World</td>\n",
       "      <td>中国</td>\n",
       "    </tr>\n",
       "    <tr>\n",
       "      <th>4</th>\n",
       "      <td>UK</td>\n",
       "      <td>Euro</td>\n",
       "      <td>World</td>\n",
       "      <td>英国</td>\n",
       "    </tr>\n",
       "    <tr>\n",
       "      <th>5</th>\n",
       "      <td>German</td>\n",
       "      <td>Euro</td>\n",
       "      <td>World</td>\n",
       "      <td>德国</td>\n",
       "    </tr>\n",
       "    <tr>\n",
       "      <th>6</th>\n",
       "      <td>France</td>\n",
       "      <td>Euro</td>\n",
       "      <td>World</td>\n",
       "      <td>法国</td>\n",
       "    </tr>\n",
       "    <tr>\n",
       "      <th>7</th>\n",
       "      <td>UK</td>\n",
       "      <td>UN</td>\n",
       "      <td>World</td>\n",
       "      <td>英国</td>\n",
       "    </tr>\n",
       "  </tbody>\n",
       "</table>\n",
       "</div>"
      ],
      "text/plain": [
       "  Level00 Level01 Level02  别名\n",
       "0   China    Asia   World  中国\n",
       "1   Japan    Asia   World  日本\n",
       "2  Korean    Asia   World  韩国\n",
       "3   China      UN   World  中国\n",
       "4      UK    Euro   World  英国\n",
       "5  German    Euro   World  德国\n",
       "6  France    Euro   World  法国\n",
       "7      UK      UN   World  英国"
      ]
     },
     "execution_count": 322,
     "metadata": {},
     "output_type": "execute_result"
    }
   ],
   "source": [
    "Region=pd.read_csv(r'C:\\Users\\User\\Desktop\\Region_Tm1.csv')\n",
    "Region"
   ]
  },
  {
   "cell_type": "code",
   "execution_count": 323,
   "id": "fbfd7c9e",
   "metadata": {},
   "outputs": [],
   "source": [
    "level00=Region['Level00']\n",
    "level01=Region['Level01']\n",
    "level02=Region['Level02']"
   ]
  },
  {
   "cell_type": "code",
   "execution_count": 324,
   "id": "a4561308",
   "metadata": {},
   "outputs": [],
   "source": [
    "DIMENSION_NAME = \"Region_Tm1py\"\n",
    "\n",
    "with TM1Service(address=\"localhost\", port=30059, ssl=False, user=\"Neil\", password=\"123\") as tm1:\n",
    "    \n",
    "    #创建元素，python列表推导式 #先把所有元素建起来\n",
    "    lv0 = [Element(e0, 'Numeric') for e0 in level00.unique()]\n",
    "    lv1 = [Element(e1, 'Numeric') for e1 in level01.unique()]\n",
    "    lv2 = [Element(e2, 'Numeric') for e2 in level02.unique()]\n",
    "    elements=lv0+lv1+lv2\n",
    "    "
   ]
  },
  {
   "cell_type": "code",
   "execution_count": 325,
   "id": "6f602712",
   "metadata": {},
   "outputs": [
    {
     "data": {
      "text/plain": [
       "[Element:{\"Name\": \"China\", \"Type\": \"Numeric\"},\n",
       " Element:{\"Name\": \"Japan\", \"Type\": \"Numeric\"},\n",
       " Element:{\"Name\": \"Korean\", \"Type\": \"Numeric\"},\n",
       " Element:{\"Name\": \"UK\", \"Type\": \"Numeric\"},\n",
       " Element:{\"Name\": \"German\", \"Type\": \"Numeric\"},\n",
       " Element:{\"Name\": \"France\", \"Type\": \"Numeric\"}]"
      ]
     },
     "execution_count": 325,
     "metadata": {},
     "output_type": "execute_result"
    }
   ],
   "source": [
    "lv0 "
   ]
  },
  {
   "cell_type": "code",
   "execution_count": 326,
   "id": "62d45040",
   "metadata": {},
   "outputs": [
    {
     "data": {
      "text/plain": [
       "[Element:{\"Name\": \"Asia\", \"Type\": \"Numeric\"},\n",
       " Element:{\"Name\": \"UN\", \"Type\": \"Numeric\"},\n",
       " Element:{\"Name\": \"Euro\", \"Type\": \"Numeric\"}]"
      ]
     },
     "execution_count": 326,
     "metadata": {},
     "output_type": "execute_result"
    }
   ],
   "source": [
    "lv1"
   ]
  },
  {
   "cell_type": "code",
   "execution_count": 331,
   "id": "7a6f9fd8",
   "metadata": {},
   "outputs": [
    {
     "data": {
      "text/plain": [
       "<Response [201]>"
      ]
     },
     "execution_count": 331,
     "metadata": {},
     "output_type": "execute_result"
    }
   ],
   "source": [
    "    #创建层级\n",
    "    edges = dict()\n",
    "    for i in range(Region.shape[0]):\n",
    "        parent_child = (level01[i],level00[i])\n",
    "        edges[parent_child] = 1\n",
    "        parent_child = (level02[i],level01[i])\n",
    "        edges[parent_child] = 1\n",
    "    \n",
    "    \n",
    "\n",
    "\n",
    "\n",
    "    #创建层级\n",
    "    hierarchy = Hierarchy(name=DIMENSION_NAME, dimension_name=DIMENSION_NAME, elements=elements,edges=edges)\n",
    "    #创建维度外壳\n",
    "    dimension = Dimension(name=DIMENSION_NAME, hierarchies=[hierarchy])\n",
    "\n",
    "    #TM1中创建维度\n",
    "    tm1.dimensions.create(dimension)\n"
   ]
  },
  {
   "cell_type": "markdown",
   "id": "e4c73621",
   "metadata": {},
   "source": [
    "## 执行Process Demo"
   ]
  },
  {
   "cell_type": "code",
   "execution_count": 333,
   "id": "b0a2ac30",
   "metadata": {},
   "outputs": [
    {
     "name": "stdout",
     "output_type": "stream",
     "text": [
      "<Future finished exception=TM1pyRestException('{\"error\":{\"code\":\"278\",\"message\":\"ProcessAborted\",\"details\":{\"ProcessError\":\"\\ufeff错误：Prolog，过程行 (0): 无法打开数据源“c:\\\\\\\\dbs_edu\\\\\\\\neil\\\\\\\\data\\\\\\\\”。“”\\\\r\\\\n\"}}}')>\n",
      "<Future finished exception=TM1pyRestException('{\"error\":{\"code\":\"278\",\"message\":\"ProcessAborted\",\"details\":{\"ProcessError\":\"\\ufeff错误：Prolog，过程行 (0): 无法打开数据源“c:\\\\\\\\dbs_edu\\\\\\\\neil\\\\\\\\data\\\\\\\\”。“”\\\\r\\\\n\"}}}')>\n",
      "<Future finished exception=TM1pyRestException('{\"error\":{\"code\":\"278\",\"message\":\"ProcessAborted\",\"details\":{\"ProcessError\":\"\\ufeff错误：Prolog，过程行 (0): 无法打开数据源“c:\\\\\\\\dbs_edu\\\\\\\\neil\\\\\\\\data\\\\\\\\”。“”\\\\r\\\\n\"}}}')>\n",
      "<Future finished exception=TM1pyRestException('{\"error\":{\"code\":\"278\",\"message\":\"ProcessAborted\",\"details\":{\"ProcessError\":\"\\ufeff错误：Prolog，过程行 (0): 无法打开数据源“c:\\\\\\\\dbs_edu\\\\\\\\neil\\\\\\\\data\\\\\\\\”。“”\\\\r\\\\n\"}}}')>\n",
      "time_eclipse: 11.02893877029419\n"
     ]
    }
   ],
   "source": [
    "import asyncio\n",
    "import nest_asyncio\n",
    "nest_asyncio.apply()\n",
    "from concurrent.futures import ThreadPoolExecutor\n",
    "from TM1py.Services import TM1Service\n",
    "from typing import List\n",
    "import time\n",
    "\n",
    "def read_tasks_file(filepath:str):\n",
    "    \n",
    "    with open(filepath,'r+') as t:\n",
    "        content=t.readlines()\n",
    "        tasks_list=list()\n",
    "        process_list=list()\n",
    "        for line in content:\n",
    "    \n",
    "            if line.find('\\n')>0:\n",
    "                line=line.replace('\\n','')\n",
    "            line_clean=''    \n",
    "            for alph in line:\n",
    "                if alph!='\"':\n",
    "                    line_clean=line_clean+alph\n",
    "            line=line_clean        \n",
    "            para=line.split(',')\n",
    "            dic_final=list()\n",
    "            for i in range(1,len(para)):\n",
    "                dic=dict()\n",
    "                #print(para[i])\n",
    "                para[i].split('=')\n",
    "                dic['Name']=para[i].split('=')[0]\n",
    "                dic['Value']=para[i].split('=')[1]\n",
    "                dic_final.append(dic)\n",
    "            process_list.append(para[0].split('=')[1])    \n",
    "            dic_para=dict()\n",
    "            dic_para['Parameters']=dic_final\n",
    "            tasks_list.append(dic_para)\n",
    "        t.close()\n",
    "    return process_list,tasks_list\n",
    "\n",
    "\n",
    "async def run_process_async(tm1:TM1Service,processes:List,parameters:List,Threads:int):\n",
    "    loop = asyncio.get_event_loop()\n",
    "    with ThreadPoolExecutor(Threads) as executor:\n",
    "        #futures = [loop.rudata:'pd.DataFrame',n_in_executor(executor, transfer, tm1_src, tm1_tgr,cube_src, cube_tgr,month_leaf) for month_leaf in leaves]\n",
    "        index=0\n",
    "        futures=[]\n",
    "        for parameter in parameters:  \n",
    "            f=loop.run_in_executor(executor, run_process,tm1,processes[index],parameter)\n",
    "            futures.append(f)\n",
    "            index+=1\n",
    "        for future in futures:\n",
    "            try:\n",
    "                await future\n",
    "            except:\n",
    "                print(future)\n",
    "                continue\n",
    "\n",
    "# Define Function\n",
    "def run_process(tm1:TM1Service, process:str,parameter:'Dict'):\n",
    "    tm1.processes.execute(process, parameter)\n",
    "\n",
    "\n",
    "\n",
    "processes,tasks=read_tasks_file('C:\\\\TI Excecute PY\\\\RushTI_tasks.txt')\n",
    "\n",
    "with TM1Service(address=\"localhost\", port=30059, ssl=False, user=\"Neil\", password=\"123\") as tm1:\n",
    "    b=time.time()\n",
    "    asyncio.run(run_process_async(tm1,processes,tasks,5))\n",
    "    e=time.time()\n",
    "    print('time_eclipse:',e-b)   "
   ]
  },
  {
   "cell_type": "code",
   "execution_count": null,
   "id": "544cb494",
   "metadata": {},
   "outputs": [],
   "source": [
    "\"process\"\"=\"process test\",\"pProcesslog\"\"=\"\"1\",\"pdebug\"\"=\"\"0\",\"pYear\"\"=\"\"2018\",\"pMonth\"\"=\"M01\""
   ]
  }
 ],
 "metadata": {
  "kernelspec": {
   "display_name": "Python 3",
   "language": "python",
   "name": "python3"
  },
  "language_info": {
   "codemirror_mode": {
    "name": "ipython",
    "version": 3
   },
   "file_extension": ".py",
   "mimetype": "text/x-python",
   "name": "python",
   "nbconvert_exporter": "python",
   "pygments_lexer": "ipython3",
   "version": "3.7.9"
  }
 },
 "nbformat": 4,
 "nbformat_minor": 5
}
