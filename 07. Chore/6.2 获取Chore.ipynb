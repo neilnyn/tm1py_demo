{
 "cells": [
  {
   "cell_type": "markdown",
   "id": "4170fb5f",
   "metadata": {},
   "source": [
    "#### 方法：  \n",
    "tm1.chores.get('chore_name')->获取chore实例  \n",
    "#### 属性：  \n",
    "tm1.chores.get('').tasks->获取chore实例的全部任务实例   "
   ]
  },
  {
   "cell_type": "code",
   "execution_count": 10,
   "id": "53915d97",
   "metadata": {},
   "outputs": [
    {
     "name": "stdout",
     "output_type": "stream",
     "text": [
      "Process: {\"Process@odata.bind\": \"Processes('TM1py process')\", \"Parameters\": [{\"Name\": \"pMonth\", \"Value\": \"01\"}, {\"Name\": \"pYear\", \"Value\": \"FY13\"}]} Parameters: [{'Name': 'pMonth', 'Value': '01'}, {'Name': 'pYear', 'Value': 'FY13'}]\n"
     ]
    }
   ],
   "source": [
    "\"\"\"\n",
    "Get a chore from TM1\n",
    "\"\"\"\n",
    "from TM1py.Services import TM1Service\n",
    "\n",
    "# Connection to TM1 Server\n",
    "with TM1Service(address=\"localhost\", port=30011, ssl=True, user=\"admin\", password=\"apple\") as tm1:\n",
    "    # Read Chore:\n",
    "    c = tm1.chores.get('tttt')\n",
    "\n",
    "    # Print out the tasks\n",
    "    for task in c.tasks:\n",
    "        print(\"Process: {} Parameters: {}\".format(task, task.parameters))"
   ]
  },
  {
   "cell_type": "code",
   "execution_count": 12,
   "id": "33c5d239",
   "metadata": {},
   "outputs": [
    {
     "data": {
      "text/plain": [
       "<bound method Chore.deactivate of Chore:{\"Name\": \"tttt\", \"StartTime\": \"2022-05-06T12:02:34Z\", \"DSTSensitive\": false, \"Active\": true, \"ExecutionMode\": \"SingleCommit\", \"Frequency\": \"P00DT01H00M00S\", \"Tasks\": [{\"Process@odata.bind\": \"Processes('TM1py process')\", \"Parameters\": [{\"Name\": \"pMonth\", \"Value\": \"01\"}, {\"Name\": \"pYear\", \"Value\": \"FY13\"}]}]}>"
      ]
     },
     "execution_count": 12,
     "metadata": {},
     "output_type": "execute_result"
    }
   ],
   "source": []
  },
  {
   "cell_type": "code",
   "execution_count": null,
   "id": "955443ae",
   "metadata": {},
   "outputs": [],
   "source": []
  }
 ],
 "metadata": {
  "kernelspec": {
   "display_name": "Python 3",
   "language": "python",
   "name": "python3"
  },
  "language_info": {
   "codemirror_mode": {
    "name": "ipython",
    "version": 3
   },
   "file_extension": ".py",
   "mimetype": "text/x-python",
   "name": "python",
   "nbconvert_exporter": "python",
   "pygments_lexer": "ipython3",
   "version": "3.6.8"
  }
 },
 "nbformat": 4,
 "nbformat_minor": 5
}
