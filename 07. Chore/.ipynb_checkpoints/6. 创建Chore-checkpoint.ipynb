{
 "cells": [
  {
   "cell_type": "markdown",
   "id": "5596199f",
   "metadata": {},
   "source": [
    "#### 函数：  \n",
    "ChoreFrequency(days='', hours='', minutes='2', seconds='45')->创建间隔  \n",
    "ChoreTask(order_num, 'Process_name', parameters=[{'Name': 'p1', 'Value': ''},{'Name': 'p2', 'Value': ''}])->创建任务序列(多个任务使用列表结构)  \n",
    "ChoreStartTime(now.year, now.month, now.day, now.hour, now.minute, now.second)->设置任务开始时间   Chore(name='chore_name',start_time=ChoreStartTime('','','','','',''),dst_sensitivity=False,active=True,execution_mode='SingleCommit',frequency=ChoreFrequency('','','',''), tasks=ChoreTask('', '',''))->创建chore实例  \n",
    "#### 方法：  \n",
    "Tm1.chores.create(Chore())->创建chore  "
   ]
  },
  {
   "cell_type": "code",
   "execution_count": 2,
   "id": "49621a22",
   "metadata": {},
   "outputs": [],
   "source": [
    "\"\"\"\n",
    "Create a Chore.\n",
    "Assumption: Process 'import actuals' exists in TM1 model and has a parameter 'pRegion'\n",
    "\"\"\"\n",
    "from datetime import datetime\n",
    "\n",
    "from TM1py.Objects import Chore, ChoreStartTime\n",
    "from TM1py.Objects import ChoreFrequency\n",
    "from TM1py.Objects import ChoreTask\n",
    "from TM1py.Services import TM1Service\n",
    "\n",
    "# connection to TM1 Server\n",
    "with TM1Service(address=\"localhost\", port=30011, ssl=True, user=\"admin\", password=\"apple\") as tm1:\n",
    "    now = datetime.now()\n",
    "    frequency = ChoreFrequency(days='', hours='', minutes='2', seconds='45')\n",
    "    tasks = [ChoreTask(0, 'TM1py process', parameters=[{'Name': 'pYear', 'Value': 'FY13'},{'Name': 'pMonth', 'Value': '01'}])]\n",
    "   \n",
    "    # create an instance of TM1py.Objects.Chore in python\n",
    "    c = Chore(name='TM1py_' + 'chore',\n",
    "              start_time=ChoreStartTime(now.year, now.month, now.day, now.hour, now.minute, now.second),\n",
    "              dst_sensitivity=False,\n",
    "              active=True,\n",
    "              execution_mode='SingleCommit',\n",
    "              frequency=frequency,\n",
    "              tasks=tasks)\n",
    "    \n",
    "    # create the new chore in TM1\n",
    "    tm1.chores.create(c)"
   ]
  },
  {
   "cell_type": "code",
   "execution_count": 1,
   "id": "32157ff4",
   "metadata": {},
   "outputs": [],
   "source": [
    "from datetime import datetime\n",
    "now = datetime.now()"
   ]
  },
  {
   "cell_type": "code",
   "execution_count": 7,
   "id": "28ed2801",
   "metadata": {},
   "outputs": [
    {
     "data": {
      "text/plain": [
       "8"
      ]
     },
     "execution_count": 7,
     "metadata": {},
     "output_type": "execute_result"
    }
   ],
   "source": [
    "now.hour"
   ]
  },
  {
   "cell_type": "code",
   "execution_count": null,
   "id": "19bb0d6b",
   "metadata": {},
   "outputs": [],
   "source": []
  }
 ],
 "metadata": {
  "kernelspec": {
   "display_name": "Python 3",
   "language": "python",
   "name": "python3"
  },
  "language_info": {
   "codemirror_mode": {
    "name": "ipython",
    "version": 3
   },
   "file_extension": ".py",
   "mimetype": "text/x-python",
   "name": "python",
   "nbconvert_exporter": "python",
   "pygments_lexer": "ipython3",
   "version": "3.6.8"
  }
 },
 "nbformat": 4,
 "nbformat_minor": 5
}
