{
 "cells": [
  {
   "cell_type": "markdown",
   "id": "8ac10c04",
   "metadata": {},
   "source": [
    "#### 方法：  \n",
    "tm1.chores.get('chore_name')->获取Chore实例  \n",
    "tm1.chores.get('').reschedule(minutes=-3)->开始时间延迟或者提前(days/hours/minutes参数可替换)  \n",
    "tm1.chores.get('').activate()->激活当前chore\n",
    "tm1.chores.get('').deactivate()->使当前chore失效  \n",
    "tm1.chores.update(tm1.chores.get(''))->更新chore实例  \n",
    "#### 函数：  \n",
    "ChoreFrequency(days=, hours=, minutes=, seconds=)->创建时间间隔  \n",
    "#### 属性：  \n",
    "tm1.chores.get('')._frequency=ChoreFrequency()->对间隔属性进行重新赋值  \n",
    "tm1.chores.get('')._execution_mode = 'MultipleCommit/SingleCommit'->对执行模式进行重新赋值  \n"
   ]
  },
  {
   "cell_type": "code",
   "execution_count": 3,
   "id": "9da44f5d",
   "metadata": {},
   "outputs": [],
   "source": [
    "\"\"\" \n",
    "Get Chore form TM1. Update it. Push it back to TM1.\n",
    "\"\"\"\n",
    "from TM1py.Objects import ChoreFrequency\n",
    "from TM1py.Services import TM1Service\n",
    "\n",
    "# Connection to TM1 Server\n",
    "with TM1Service(address=\"localhost\", port=30011, ssl=True, user=\"admin\", password=\"apple\") as tm1:\n",
    "    # Read chore:\n",
    "    c = tm1.chores.get('tttt')\n",
    "\n",
    "    # Update properties\n",
    "    c.reschedule(minutes=-3)\n",
    "    \n",
    "    c._frequency = ChoreFrequency(days=7, hours=22, minutes=5, seconds=1)\n",
    "    c._execution_mode = 'MultipleCommit'\n",
    "    c.activate()\n",
    "    c.deactivate()\n",
    "\n",
    "    # Update the TM1 chore\n",
    "    tm1.chores.update(c)"
   ]
  },
  {
   "cell_type": "code",
   "execution_count": null,
   "id": "fd079be7",
   "metadata": {},
   "outputs": [],
   "source": []
  }
 ],
 "metadata": {
  "kernelspec": {
   "display_name": "Python 3",
   "language": "python",
   "name": "python3"
  },
  "language_info": {
   "codemirror_mode": {
    "name": "ipython",
    "version": 3
   },
   "file_extension": ".py",
   "mimetype": "text/x-python",
   "name": "python",
   "nbconvert_exporter": "python",
   "pygments_lexer": "ipython3",
   "version": "3.6.8"
  }
 },
 "nbformat": 4,
 "nbformat_minor": 5
}
