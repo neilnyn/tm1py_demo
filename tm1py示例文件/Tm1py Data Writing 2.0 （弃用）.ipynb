{
 "cells": [
  {
   "cell_type": "code",
   "execution_count": 4,
   "id": "a0e31ef6",
   "metadata": {},
   "outputs": [],
   "source": [
    "import pandas as pd"
   ]
  },
  {
   "cell_type": "code",
   "execution_count": 11,
   "id": "dd6006a0",
   "metadata": {},
   "outputs": [],
   "source": [
    "zl_stg=pd.read_csv(r'C:\\TM1py\\ZL_Amazon_Payments_Data_STG.csv',chunksize=10000,low_memory=False,\n",
    "                   dtype={'SA Year':'str','Order Year':'str','COA Company':'str','Platform':'str'})"
   ]
  },
  {
   "cell_type": "code",
   "execution_count": 12,
   "id": "56f999c2",
   "metadata": {},
   "outputs": [],
   "source": [
    "from TM1py.Utils import Utils\n",
    "from TM1py.Services import TM1Service"
   ]
  },
  {
   "cell_type": "code",
   "execution_count": 13,
   "id": "deddd61b",
   "metadata": {},
   "outputs": [
    {
     "ename": "AttributeError",
     "evalue": "module 'asyncio' has no attribute 'run'",
     "output_type": "error",
     "traceback": [
      "\u001b[1;31m---------------------------------------------------------------------------\u001b[0m",
      "\u001b[1;31mAttributeError\u001b[0m                            Traceback (most recent call last)",
      "\u001b[1;32m<ipython-input-13-70fb4dc6103b>\u001b[0m in \u001b[0;36m<module>\u001b[1;34m\u001b[0m\n\u001b[0;32m     18\u001b[0m             \u001b[0mdeactivate_transaction_log\u001b[0m\u001b[1;33m=\u001b[0m\u001b[1;32mTrue\u001b[0m\u001b[1;33m,\u001b[0m\u001b[1;33m\u001b[0m\u001b[1;33m\u001b[0m\u001b[0m\n\u001b[0;32m     19\u001b[0m             \u001b[0mreactivate_transaction_log\u001b[0m\u001b[1;33m=\u001b[0m\u001b[1;32mTrue\u001b[0m\u001b[1;33m,\u001b[0m\u001b[1;33m\u001b[0m\u001b[1;33m\u001b[0m\u001b[0m\n\u001b[1;32m---> 20\u001b[1;33m             sandbox_name=None)\n\u001b[0m",
      "\u001b[1;32m~\\AppData\\Roaming\\Python\\Python36\\site-packages\\TM1py\\Services\\CellService.py\u001b[0m in \u001b[0;36mwrapper\u001b[1;34m(self, *args, **kwargs)\u001b[0m\n\u001b[0;32m     89\u001b[0m             \u001b[1;32mif\u001b[0m \u001b[0mdeactivate_transaction_log\u001b[0m\u001b[1;33m:\u001b[0m\u001b[1;33m\u001b[0m\u001b[1;33m\u001b[0m\u001b[0m\n\u001b[0;32m     90\u001b[0m                 \u001b[0mself\u001b[0m\u001b[1;33m.\u001b[0m\u001b[0mdeactivate_transactionlog\u001b[0m\u001b[1;33m(\u001b[0m\u001b[0mcube_name\u001b[0m\u001b[1;33m)\u001b[0m\u001b[1;33m\u001b[0m\u001b[1;33m\u001b[0m\u001b[0m\n\u001b[1;32m---> 91\u001b[1;33m             \u001b[1;32mreturn\u001b[0m \u001b[0mfunc\u001b[0m\u001b[1;33m(\u001b[0m\u001b[0mself\u001b[0m\u001b[1;33m,\u001b[0m \u001b[1;33m*\u001b[0m\u001b[0margs\u001b[0m\u001b[1;33m,\u001b[0m \u001b[1;33m**\u001b[0m\u001b[0mkwargs\u001b[0m\u001b[1;33m)\u001b[0m\u001b[1;33m\u001b[0m\u001b[1;33m\u001b[0m\u001b[0m\n\u001b[0m\u001b[0;32m     92\u001b[0m \u001b[1;33m\u001b[0m\u001b[0m\n\u001b[0;32m     93\u001b[0m         \u001b[1;32mfinally\u001b[0m\u001b[1;33m:\u001b[0m\u001b[1;33m\u001b[0m\u001b[1;33m\u001b[0m\u001b[0m\n",
      "\u001b[1;32m~\\AppData\\Roaming\\Python\\Python36\\site-packages\\TM1py\\Services\\CellService.py\u001b[0m in \u001b[0;36mwrite_async\u001b[1;34m(self, cube_name, cells, slice_size, max_workers, dimensions, increment, deactivate_transaction_log, reactivate_transaction_log, sandbox_name, precision, **kwargs)\u001b[0m\n\u001b[0;32m    501\u001b[0m             \u001b[1;32mreturn\u001b[0m \u001b[0mfailures\u001b[0m\u001b[1;33m\u001b[0m\u001b[1;33m\u001b[0m\u001b[0m\n\u001b[0;32m    502\u001b[0m \u001b[1;33m\u001b[0m\u001b[0m\n\u001b[1;32m--> 503\u001b[1;33m         \u001b[0mexceptions\u001b[0m \u001b[1;33m=\u001b[0m \u001b[0masyncio\u001b[0m\u001b[1;33m.\u001b[0m\u001b[0mrun\u001b[0m\u001b[1;33m(\u001b[0m\u001b[0m_write_async\u001b[0m\u001b[1;33m(\u001b[0m\u001b[0mcells\u001b[0m\u001b[1;33m)\u001b[0m\u001b[1;33m)\u001b[0m\u001b[1;33m\u001b[0m\u001b[1;33m\u001b[0m\u001b[0m\n\u001b[0m\u001b[0;32m    504\u001b[0m         \u001b[1;32mif\u001b[0m \u001b[1;32mnot\u001b[0m \u001b[0mexceptions\u001b[0m\u001b[1;33m:\u001b[0m\u001b[1;33m\u001b[0m\u001b[1;33m\u001b[0m\u001b[0m\n\u001b[0;32m    505\u001b[0m             \u001b[1;32mreturn\u001b[0m\u001b[1;33m\u001b[0m\u001b[1;33m\u001b[0m\u001b[0m\n",
      "\u001b[1;31mAttributeError\u001b[0m: module 'asyncio' has no attribute 'run'"
     ]
    }
   ],
   "source": [
    "cubename='ZL Amazon Payments Data STG bkp'\n",
    "for chunk in zl_stg:\n",
    "    dicts = Utils.CaseAndSpaceInsensitiveTuplesDict()\n",
    "    for i in chunk.index.values:\n",
    "    \n",
    "        dicts[(chunk['Scenario'][i],chunk['SA Year'][i],chunk['SA Month'][i],chunk['Version'][i],chunk['Order Year'][i],chunk['Month Day'][i],chunk['COA Company'][i],chunk['Currency'][i],\n",
    "              chunk['Country'][i],chunk['Region State'][i],chunk['Region City'][i],chunk['Platform'][i],chunk['Behavior'][i],chunk['Product'][i],chunk['Data Source Payments Data STG'][i],\n",
    "              chunk['M ZL Amazon Payments Data STG'][i])]= chunk['Value'][i]\n",
    "    with TM1Service(address=\"192.168.1.176\", port=30015, ssl=False, user=\"neil\", password=\"123\") as tm1:\n",
    "        tm1.cells.write_async(\n",
    "        cube_name=cubename,\n",
    "        cells=dicts,\n",
    "        slice_size=10,\n",
    "        max_workers=4,\n",
    "        dimensions=['Scenario','SA Year','SA Month','Version','Order Year','Month Day','COA Company','Currency',\n",
    "                    'Country','Region State','Region City','Platform','Behavior','Product','Data Source Payments Data STG',\n",
    "                    'M ZL Amazon Payments Data STG'],\n",
    "        increment=True,\n",
    "        deactivate_transaction_log=True,\n",
    "        reactivate_transaction_log=True,\n",
    "        sandbox_name=None)"
   ]
  },
  {
   "cell_type": "code",
   "execution_count": null,
   "id": "c436ec35",
   "metadata": {},
   "outputs": [],
   "source": []
  },
  {
   "cell_type": "code",
   "execution_count": null,
   "id": "bc31c94e",
   "metadata": {},
   "outputs": [],
   "source": [
    "cubename='ZL Amazon Payments Data STG bkp'\n",
    "with TM1Service(address=\"192.168.1.176\", port=30015, ssl=False, user=\"neil\", password=\"123\") as tm1:\n",
    "    tm1.cells.write_async(\n",
    "        cube_name=cubename,\n",
    "        cells=dicts,\n",
    "        slice_size=3,\n",
    "        max_workers=4,\n",
    "        dimensions=['Scenario','SA Year','SA Month','Version','Order Year','Month Day','COA Company','Currency',\n",
    "                    'Country','Region State','Region City','Platform','Behavior','Product','Data Source Payments Data STG',\n",
    "                    'M ZL Amazon Payments Data STG']\n",
    "        increment=True,\n",
    "        deactivate_transaction_log=True,\n",
    "        reactivate_transaction_log=True,\n",
    "        sandbox_name=None)"
   ]
  }
 ],
 "metadata": {
  "kernelspec": {
   "display_name": "Python 3",
   "language": "python",
   "name": "python3"
  },
  "language_info": {
   "codemirror_mode": {
    "name": "ipython",
    "version": 3
   },
   "file_extension": ".py",
   "mimetype": "text/x-python",
   "name": "python",
   "nbconvert_exporter": "python",
   "pygments_lexer": "ipython3",
   "version": "3.6.8"
  }
 },
 "nbformat": 4,
 "nbformat_minor": 5
}
