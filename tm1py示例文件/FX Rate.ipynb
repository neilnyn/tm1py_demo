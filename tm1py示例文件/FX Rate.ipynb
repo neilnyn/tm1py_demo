{
 "cells": [
  {
   "cell_type": "code",
   "execution_count": null,
   "id": "98d1b1ad",
   "metadata": {},
   "outputs": [],
   "source": [
    "import io\n",
    "import sys\n",
    "import logging\n",
    "from pathlib import Path\n",
    "\n",
    "import pandas as pd\n",
    "import requests\n",
    "\n",
    "from TM1py import TM1Service\n",
    "\n",
    "with TM1Service(address=\"\", port=12354, ssl=True, user=\"admin\", password=\"apple\") as tm1:\n",
    "\n",
    "currencies = tm1.elements.get_leaf_element_names(\"FX Daily Currency From\", \"FX Daily Currency From\")\n",
    "\n",
    "for currency in currencies:\n",
    "\n",
    "if currency == \"EUR\":\n",
    "continue\n",
    "\n",
    "# Building blocks for the URL\n",
    "         entrypoint = 'https://sdw-wsrest.ecb.europa.eu/service/'  # Using protocol 'https'\n",
    "         resource = 'data'  # The resource for data queries is always'data'\n",
    "         flowRef = 'EXR'  # Dataflow describing the data that needs to be returned, exchange rates in this case\n",
    "         key = f'D.{currency}.EUR.SP00.A'  # Defining the dimension values, explained below\n",
    " \n",
    " # Define the parameters\n",
    "         parameters = {\n",
    "'startPeriod': '2021-08-01',  # Start date of the time series\n",
    "             'endPeriod': '2022-08-01'  # End of the time series\n",
    "         }\n",
    "\n",
    "# Construct the URL: https://sdw-wsrest.ecb.europa.eu/service/data/EXR/D.CHF.EUR.SP00.A\n",
    "         request_url = entrypoint + resource + '/' + flowRef + '/' + key\n",
    "\n",
    "# Make the HTTP request\n",
    "         response = requests.get(request_url, params=parameters, headers={'Accept': 'text/csv'})\n",
    "#print(response.text)\n",
    " \n",
    "         try:\n",
    "df = pd.read_csv(io.StringIO(response.text))\n",
    "except:\n",
    "print(f\"Failed to load currency {currency}\")\n",
    "continue\n",
    "\n",
    "if df.empty:\n",
    "print(f\"Failed to load currency {currency}\")\n",
    "continue\n",
    "\n",
    "         print(currency, df.shape)"
   ]
  }
 ],
 "metadata": {
  "kernelspec": {
   "display_name": "Python 3",
   "language": "python",
   "name": "python3"
  },
  "language_info": {
   "codemirror_mode": {
    "name": "ipython",
    "version": 3
   },
   "file_extension": ".py",
   "mimetype": "text/x-python",
   "name": "python",
   "nbconvert_exporter": "python",
   "pygments_lexer": "ipython3",
   "version": "3.7.9"
  }
 },
 "nbformat": 4,
 "nbformat_minor": 5
}
