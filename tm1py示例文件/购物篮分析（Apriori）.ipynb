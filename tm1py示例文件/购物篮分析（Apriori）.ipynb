{
 "cells": [
  {
   "cell_type": "markdown",
   "id": "3cef3186",
   "metadata": {},
   "source": [
    "### 示例\n",
    "#### 1. 找到所有频繁项集\n",
    "#### \n",
    "##### 第一步生成初始候选集，一般是所有订单里面出现的不重复所有项目\n",
    "##### 第二步对初始候选集，筛选频繁项集 （支持度大于某阈值的留下）\n",
    "##### 第三步将初始候选集形成的频繁项集生成第一个候选k项集（第一个频繁项集中的元素两两组合）\n",
    "##### 第四步将第一个候选k项集再次形成一个频繁项集，此频繁项集再形成第二个候选k项集（第二个频繁项集中的元素两两组合），第二个候选k项集再形成频繁项集，以此类推一直循环下去，直到找不到频繁项集为止\n",
    "##### 前四步形成了所有的频繁项集\n",
    "##### \n",
    "#### 2. 生成关联规则\n",
    "#### \n",
    "##### 第一步 循环所有的频繁项集，每一条频繁项集形成此频繁项集能够形成的所有子集\n",
    "##### \n",
    "#### 3. 计算条件概率\n",
    "#### \n",
    "##### 第二步 计算所有候选项集的支持度（包含所有频繁项集及其子集，非频繁项集的支持度信息），用此条频繁项集的支持度/此条频繁项集形成的所有子集的支持度->计算出条件概率 （在某子集出现的情况下此条频繁项集的条件概率是多少）\n",
    "##### 第三步 找到条件概率高于某阈值的组合"
   ]
  },
  {
   "cell_type": "code",
   "execution_count": null,
   "id": "38bcc1ca",
   "metadata": {},
   "outputs": [],
   "source": []
  },
  {
   "cell_type": "code",
   "execution_count": 162,
   "id": "06aaadee",
   "metadata": {},
   "outputs": [],
   "source": [
    "dataset=[['苹果','香蕉','橘子'],['榴莲','香蕉','哈密瓜'],['苹果','香蕉','榴莲','哈密瓜'],['橘子','榴莲']]"
   ]
  },
  {
   "cell_type": "code",
   "execution_count": 42,
   "id": "3593f91d",
   "metadata": {},
   "outputs": [
    {
     "data": {
      "text/plain": [
       "[['苹果', '香蕉', '橘子'],\n",
       " ['榴莲', '香蕉', '哈密瓜'],\n",
       " ['苹果', '香蕉', '榴莲', '哈密瓜'],\n",
       " ['橘子', '榴莲']]"
      ]
     },
     "execution_count": 42,
     "metadata": {},
     "output_type": "execute_result"
    }
   ],
   "source": [
    "dataset"
   ]
  },
  {
   "cell_type": "markdown",
   "id": "6ca55bde",
   "metadata": {},
   "source": [
    "#### 生成候选项集"
   ]
  },
  {
   "cell_type": "code",
   "execution_count": 25,
   "id": "25413150",
   "metadata": {},
   "outputs": [],
   "source": [
    "def create_cl(dataset):\n",
    "    cl=[]\n",
    "    for transaction in dataset:\n",
    "        for item in transaction:\n",
    "            if not {item} in cl:\n",
    "                cl.append({item})\n",
    "    cl.sort()\n",
    "    return list(map(frozenset,cl))"
   ]
  },
  {
   "cell_type": "code",
   "execution_count": 26,
   "id": "f22434c1",
   "metadata": {},
   "outputs": [
    {
     "data": {
      "text/plain": [
       "[frozenset({'苹果'}),\n",
       " frozenset({'香蕉'}),\n",
       " frozenset({'橘子'}),\n",
       " frozenset({'榴莲'}),\n",
       " frozenset({'哈密瓜'})]"
      ]
     },
     "execution_count": 26,
     "metadata": {},
     "output_type": "execute_result"
    }
   ],
   "source": [
    "create_cl(dataset)"
   ]
  },
  {
   "cell_type": "markdown",
   "id": "712f1779",
   "metadata": {},
   "source": [
    "#### 生成频繁项集"
   ]
  },
  {
   "cell_type": "code",
   "execution_count": 38,
   "id": "4114abfa",
   "metadata": {},
   "outputs": [],
   "source": [
    "def create_freq_transaction(dataset,ck,min_support=0.5):\n",
    "    sscnt={}\n",
    "    for transaction in dataset:\n",
    "        for can in ck:\n",
    "            if  can.issubset(transaction):\n",
    "                sscnt[can]=sscnt.get(can,0)+1\n",
    "    num_transactions=float(len(dataset))\n",
    "    freq_transaction=[]\n",
    "    support_data={}\n",
    "    for key in sscnt:\n",
    "        support=sscnt[key]/num_transactions\n",
    "        support_data[key]=support\n",
    "        if support>=min_support:\n",
    "            freq_transaction.append(key)\n",
    "    return support_data,freq_transaction\n",
    "                \n",
    "            "
   ]
  },
  {
   "cell_type": "code",
   "execution_count": 39,
   "id": "8486ee2b",
   "metadata": {},
   "outputs": [],
   "source": [
    "cl=create_cl(dataset)\n",
    "support_data,freq_transaction=create_freq_transaction(dataset,cl,min_support=0.5)"
   ]
  },
  {
   "cell_type": "code",
   "execution_count": 40,
   "id": "fb28d2ea",
   "metadata": {},
   "outputs": [
    {
     "data": {
      "text/plain": [
       "{frozenset({'苹果'}): 0.5,\n",
       " frozenset({'香蕉'}): 0.75,\n",
       " frozenset({'橘子'}): 0.5,\n",
       " frozenset({'榴莲'}): 0.75,\n",
       " frozenset({'哈密瓜'}): 0.5}"
      ]
     },
     "execution_count": 40,
     "metadata": {},
     "output_type": "execute_result"
    }
   ],
   "source": [
    "support_data"
   ]
  },
  {
   "cell_type": "code",
   "execution_count": 41,
   "id": "8eddd4ab",
   "metadata": {},
   "outputs": [
    {
     "data": {
      "text/plain": [
       "[frozenset({'苹果'}),\n",
       " frozenset({'香蕉'}),\n",
       " frozenset({'橘子'}),\n",
       " frozenset({'榴莲'}),\n",
       " frozenset({'哈密瓜'})]"
      ]
     },
     "execution_count": 41,
     "metadata": {},
     "output_type": "execute_result"
    }
   ],
   "source": [
    "freq_transaction"
   ]
  },
  {
   "cell_type": "markdown",
   "id": "a9d9331a",
   "metadata": {},
   "source": [
    "#### 生成第Ck个候选集"
   ]
  },
  {
   "cell_type": "code",
   "execution_count": 54,
   "id": "bfccc49b",
   "metadata": {},
   "outputs": [],
   "source": [
    "def create_ck(freq_k_transaction):\n",
    "    ck=[]\n",
    "    k=len(freq_k_transaction)\n",
    "    for i in range(k):\n",
    "        for j in range(i+1,k):\n",
    "            t1=freq_k_transaction[i]\n",
    "            t2=freq_k_transaction[j]\n",
    "            t=t1|t2\n",
    "            if(not t in ck)and(len(t)==len(freq_k_transaction[0])+1):\n",
    "                ck.append(t)\n",
    "    return ck             \n",
    "    "
   ]
  },
  {
   "cell_type": "code",
   "execution_count": 55,
   "id": "a8f1c364",
   "metadata": {},
   "outputs": [
    {
     "data": {
      "text/plain": [
       "[frozenset({'苹果', '香蕉'}),\n",
       " frozenset({'橘子', '苹果'}),\n",
       " frozenset({'榴莲', '苹果'}),\n",
       " frozenset({'哈密瓜', '苹果'}),\n",
       " frozenset({'橘子', '香蕉'}),\n",
       " frozenset({'榴莲', '香蕉'}),\n",
       " frozenset({'哈密瓜', '香蕉'}),\n",
       " frozenset({'榴莲', '橘子'}),\n",
       " frozenset({'哈密瓜', '橘子'}),\n",
       " frozenset({'哈密瓜', '榴莲'})]"
      ]
     },
     "execution_count": 55,
     "metadata": {},
     "output_type": "execute_result"
    }
   ],
   "source": [
    "create_ck(freq_transaction)"
   ]
  },
  {
   "cell_type": "code",
   "execution_count": 51,
   "id": "ba7f9e29",
   "metadata": {},
   "outputs": [],
   "source": [
    "zz=frozenset({'苹果'})|frozenset({'哈密瓜'})"
   ]
  },
  {
   "cell_type": "code",
   "execution_count": 53,
   "id": "ee452c6c",
   "metadata": {},
   "outputs": [
    {
     "data": {
      "text/plain": [
       "True"
      ]
     },
     "execution_count": 53,
     "metadata": {},
     "output_type": "execute_result"
    }
   ],
   "source": [
    "zz.issubset(['苹果', '香蕉', '榴莲', '哈密瓜'])"
   ]
  },
  {
   "cell_type": "markdown",
   "id": "c501c9b3",
   "metadata": {},
   "source": [
    "#### Apriori函数"
   ]
  },
  {
   "cell_type": "code",
   "execution_count": 62,
   "id": "76278959",
   "metadata": {},
   "outputs": [],
   "source": [
    "def Apriori(dataset,min_support=0.5):\n",
    "    cl=create_cl(dataset)\n",
    "    support_data_1,freq_transaction_1=create_freq_transaction(dataset,cl,min_support=min_support)\n",
    "    all_freq_transaction=[freq_transaction_1]\n",
    "    while len(all_freq_transaction[-1])>0:\n",
    "        \n",
    "        ck=create_ck(all_freq_transaction[-1])\n",
    "        support_data_k,freq_transaction_k=create_freq_transaction(dataset,ck,min_support=min_support)\n",
    "        support_data_1.update(support_data_k)\n",
    "        all_freq_transaction.append(freq_transaction_k)\n",
    "    return support_data_1,all_freq_transaction    \n",
    "    \n",
    "    "
   ]
  },
  {
   "cell_type": "code",
   "execution_count": 163,
   "id": "a7a42eb9",
   "metadata": {},
   "outputs": [],
   "source": [
    "s,fs=Apriori(dataset,0.5)"
   ]
  },
  {
   "cell_type": "code",
   "execution_count": 164,
   "id": "e030b0d9",
   "metadata": {},
   "outputs": [
    {
     "data": {
      "text/plain": [
       "{frozenset({'苹果'}): 0.5,\n",
       " frozenset({'香蕉'}): 0.75,\n",
       " frozenset({'橘子'}): 0.5,\n",
       " frozenset({'榴莲'}): 0.75,\n",
       " frozenset({'哈密瓜'}): 0.5,\n",
       " frozenset({'苹果', '香蕉'}): 0.5,\n",
       " frozenset({'橘子', '苹果'}): 0.25,\n",
       " frozenset({'橘子', '香蕉'}): 0.25,\n",
       " frozenset({'榴莲', '香蕉'}): 0.5,\n",
       " frozenset({'哈密瓜', '香蕉'}): 0.5,\n",
       " frozenset({'哈密瓜', '榴莲'}): 0.5,\n",
       " frozenset({'榴莲', '苹果'}): 0.25,\n",
       " frozenset({'哈密瓜', '苹果'}): 0.25,\n",
       " frozenset({'榴莲', '橘子'}): 0.25,\n",
       " frozenset({'哈密瓜', '榴莲', '香蕉'}): 0.5,\n",
       " frozenset({'榴莲', '苹果', '香蕉'}): 0.25,\n",
       " frozenset({'哈密瓜', '苹果', '香蕉'}): 0.25}"
      ]
     },
     "execution_count": 164,
     "metadata": {},
     "output_type": "execute_result"
    }
   ],
   "source": [
    "s"
   ]
  },
  {
   "cell_type": "code",
   "execution_count": 165,
   "id": "9eed3689",
   "metadata": {},
   "outputs": [
    {
     "data": {
      "text/plain": [
       "[[frozenset({'苹果'}),\n",
       "  frozenset({'香蕉'}),\n",
       "  frozenset({'橘子'}),\n",
       "  frozenset({'榴莲'}),\n",
       "  frozenset({'哈密瓜'})],\n",
       " [frozenset({'苹果', '香蕉'}),\n",
       "  frozenset({'榴莲', '香蕉'}),\n",
       "  frozenset({'哈密瓜', '香蕉'}),\n",
       "  frozenset({'哈密瓜', '榴莲'})],\n",
       " [frozenset({'哈密瓜', '榴莲', '香蕉'})],\n",
       " []]"
      ]
     },
     "execution_count": 165,
     "metadata": {},
     "output_type": "execute_result"
    }
   ],
   "source": [
    "fs"
   ]
  },
  {
   "cell_type": "markdown",
   "id": "693d0e23",
   "metadata": {},
   "source": [
    "#### 产生关联规则"
   ]
  },
  {
   "cell_type": "markdown",
   "id": "79390f26",
   "metadata": {},
   "source": [
    "#### 生成全部子集"
   ]
  },
  {
   "cell_type": "code",
   "execution_count": 123,
   "id": "22923113",
   "metadata": {},
   "outputs": [],
   "source": [
    "def create_subset(fromlist,tolist):\n",
    "    for i in range(len(fromlist)):\n",
    "        t=[fromlist[i]]\n",
    "        tt=frozenset(set(fromlist)-set(t))\n",
    "        if not tt in tolist:\n",
    "            tolist.append(tt)\n",
    "            tt=list(tt)\n",
    "            if len(tt)>1:\n",
    "                create_subset(tt,tolist)\n",
    "    return None"
   ]
  },
  {
   "cell_type": "code",
   "execution_count": null,
   "id": "81bab410",
   "metadata": {},
   "outputs": [],
   "source": []
  },
  {
   "cell_type": "code",
   "execution_count": 114,
   "id": "a7081d70",
   "metadata": {},
   "outputs": [
    {
     "data": {
      "text/plain": [
       "[frozenset({'b', 'c', 'd'}),\n",
       " frozenset({'b', 'd'}),\n",
       " frozenset({'b'}),\n",
       " frozenset({'d'}),\n",
       " frozenset({'b', 'c'}),\n",
       " frozenset({'c'}),\n",
       " frozenset({'c', 'd'}),\n",
       " frozenset({'a', 'c', 'd'}),\n",
       " frozenset({'a', 'd'}),\n",
       " frozenset({'a'}),\n",
       " frozenset({'a', 'c'}),\n",
       " frozenset({'a', 'b', 'd'}),\n",
       " frozenset({'a', 'b'}),\n",
       " frozenset({'a', 'b', 'c'})]"
      ]
     },
     "execution_count": 114,
     "metadata": {},
     "output_type": "execute_result"
    }
   ],
   "source": [
    "fromlist= ['a','b','c','d']\n",
    "tolist=[]\n",
    "create_subset(fromlist,tolist)\n",
    "tolist"
   ]
  },
  {
   "cell_type": "code",
   "execution_count": 147,
   "id": "4fd7b87a",
   "metadata": {},
   "outputs": [
    {
     "data": {
      "text/plain": [
       "[frozenset({'b'}), frozenset({'a'})]"
      ]
     },
     "execution_count": 147,
     "metadata": {},
     "output_type": "execute_result"
    }
   ],
   "source": [
    "fromlist= ['a','b']\n",
    "tolist=[]\n",
    "create_subset(fromlist,tolist)\n",
    "tolist"
   ]
  },
  {
   "cell_type": "code",
   "execution_count": 80,
   "id": "11d403e6",
   "metadata": {},
   "outputs": [
    {
     "data": {
      "text/plain": [
       "1"
      ]
     },
     "execution_count": 80,
     "metadata": {},
     "output_type": "execute_result"
    }
   ],
   "source": [
    "len(list(['ab']))"
   ]
  },
  {
   "cell_type": "code",
   "execution_count": 92,
   "id": "2427a787",
   "metadata": {},
   "outputs": [
    {
     "data": {
      "text/plain": [
       "{frozenset({'哈密瓜', '榴莲'}),\n",
       " frozenset({'哈密瓜', '香蕉'}),\n",
       " frozenset({'榴莲', '香蕉'}),\n",
       " frozenset({'苹果', '香蕉'})}"
      ]
     },
     "execution_count": 92,
     "metadata": {},
     "output_type": "execute_result"
    }
   ],
   "source": [
    "set([frozenset({'苹果', '香蕉'}),frozenset({'榴莲', '香蕉'}),frozenset({'哈密瓜', '香蕉'}),frozenset({'哈密瓜', '榴莲'})])"
   ]
  },
  {
   "cell_type": "code",
   "execution_count": 94,
   "id": "de930983",
   "metadata": {},
   "outputs": [
    {
     "data": {
      "text/plain": [
       "2"
      ]
     },
     "execution_count": 94,
     "metadata": {},
     "output_type": "execute_result"
    }
   ],
   "source": [
    "len(frozenset({'哈密瓜', '榴莲'}))"
   ]
  },
  {
   "cell_type": "code",
   "execution_count": 95,
   "id": "4d82c5ca",
   "metadata": {},
   "outputs": [
    {
     "data": {
      "text/plain": [
       "False"
      ]
     },
     "execution_count": 95,
     "metadata": {},
     "output_type": "execute_result"
    }
   ],
   "source": [
    "frozenset({'哈密瓜'}) in frozenset({'哈密瓜', '榴莲'})"
   ]
  },
  {
   "cell_type": "code",
   "execution_count": 100,
   "id": "f120d695",
   "metadata": {},
   "outputs": [
    {
     "data": {
      "text/plain": [
       "frozenset({'榴莲'})"
      ]
     },
     "execution_count": 100,
     "metadata": {},
     "output_type": "execute_result"
    }
   ],
   "source": [
    "frozenset(set(frozenset({'哈密瓜', '榴莲'}))-set(frozenset({'哈密瓜'})))"
   ]
  },
  {
   "cell_type": "code",
   "execution_count": 2,
   "id": "67f1a6ac",
   "metadata": {},
   "outputs": [
    {
     "data": {
      "text/plain": [
       "frozenset()"
      ]
     },
     "execution_count": 2,
     "metadata": {},
     "output_type": "execute_result"
    }
   ],
   "source": [
    "frozenset(set(frozenset({'哈密瓜'}))-set(frozenset({'哈密瓜'})))"
   ]
  },
  {
   "cell_type": "code",
   "execution_count": 108,
   "id": "11f190b8",
   "metadata": {},
   "outputs": [
    {
     "data": {
      "text/plain": [
       "{'哈密瓜', '榴莲'}"
      ]
     },
     "execution_count": 108,
     "metadata": {},
     "output_type": "execute_result"
    }
   ],
   "source": [
    "set(frozenset({'哈密瓜', '榴莲'}))"
   ]
  },
  {
   "cell_type": "code",
   "execution_count": 109,
   "id": "30a5258e",
   "metadata": {},
   "outputs": [
    {
     "data": {
      "text/plain": [
       "{'哈密瓜', '榴莲', '荔枝'}"
      ]
     },
     "execution_count": 109,
     "metadata": {},
     "output_type": "execute_result"
    }
   ],
   "source": [
    "set(frozenset({'哈密瓜', '榴莲','荔枝'}))"
   ]
  },
  {
   "cell_type": "markdown",
   "id": "017709c1",
   "metadata": {},
   "source": [
    "#### 计算条件概率\n",
    "###### P(A)\n",
    "###### P(A|B)=P(AB)/P(B)\n",
    "###### P(A)提升度=P(A|B)/P(A)=P(AB)/P(A)P(B)"
   ]
  },
  {
   "cell_type": "code",
   "execution_count": 143,
   "id": "0d0d3a88",
   "metadata": {},
   "outputs": [],
   "source": [
    "def cal_conf(fre_set,h,support_data,rulelist,min_conf):\n",
    "    for after in h:\n",
    "        #after在fre_set-after的条件下的概率\n",
    "        conf=support_data[fre_set]/support_data[fre_set-after]\n",
    "        #after在fre_set-after的条件下的提升度\n",
    "        lift=support_data[fre_set]/(support_data[fre_set-after]*support_data[after])\n",
    "        if conf>=min_conf and lift>1:\n",
    "            print(fre_set-after,'-->',after,'\\n',\n",
    "                 'before support:',support_data[fre_set-after],',',\n",
    "                  'after support:',support_data[after],',',\n",
    "                  'together support:',support_data[fre_set],',',\n",
    "                  'conf:',conf,',',\n",
    "                  'list:',lift)\n",
    "            rulelist.append((fre_set-after,after,conf))\n",
    "    return None\n"
   ]
  },
  {
   "cell_type": "code",
   "execution_count": 116,
   "id": "0400c229",
   "metadata": {},
   "outputs": [
    {
     "data": {
      "text/plain": [
       "{1, 2, 3}"
      ]
     },
     "execution_count": 116,
     "metadata": {},
     "output_type": "execute_result"
    }
   ],
   "source": [
    "set([1,2])|set([3])"
   ]
  },
  {
   "cell_type": "code",
   "execution_count": 117,
   "id": "91f158f5",
   "metadata": {},
   "outputs": [
    {
     "data": {
      "text/plain": [
       "frozenset({'榴莲'})"
      ]
     },
     "execution_count": 117,
     "metadata": {},
     "output_type": "execute_result"
    }
   ],
   "source": [
    "frozenset({'哈密瓜', '榴莲'})-frozenset({'哈密瓜'})"
   ]
  },
  {
   "cell_type": "code",
   "execution_count": 168,
   "id": "fabaa010",
   "metadata": {},
   "outputs": [
    {
     "data": {
      "text/plain": [
       "[frozenset({'哈密瓜', '榴莲'}),\n",
       " frozenset({'哈密瓜'}),\n",
       " frozenset({'榴莲'}),\n",
       " frozenset({'哈密瓜', '香蕉'}),\n",
       " frozenset({'香蕉'}),\n",
       " frozenset({'榴莲', '香蕉'})]"
      ]
     },
     "execution_count": 168,
     "metadata": {},
     "output_type": "execute_result"
    }
   ],
   "source": [
    "h=[]\n",
    "fromlis=list(frozenset({'哈密瓜', '榴莲', '香蕉'}))\n",
    "create_subset(fromlis,h)\n",
    "h"
   ]
  },
  {
   "cell_type": "code",
   "execution_count": 122,
   "id": "7efef609",
   "metadata": {},
   "outputs": [
    {
     "data": {
      "text/plain": [
       "['香蕉', '榴莲', '哈密瓜']"
      ]
     },
     "execution_count": 122,
     "metadata": {},
     "output_type": "execute_result"
    }
   ],
   "source": [
    "list(frozenset({'哈密瓜', '榴莲', '香蕉'}))"
   ]
  },
  {
   "cell_type": "code",
   "execution_count": 169,
   "id": "0cc38807",
   "metadata": {},
   "outputs": [
    {
     "name": "stdout",
     "output_type": "stream",
     "text": [
      "frozenset({'香蕉'}) --> frozenset({'榴莲', '哈密瓜'}) \n",
      " before support: 0.75 , after support: 0.5 , together support: 0.5 , conf: 0.6666666666666666 , list: 1.3333333333333333\n",
      "frozenset({'香蕉', '榴莲'}) --> frozenset({'哈密瓜'}) \n",
      " before support: 0.5 , after support: 0.5 , together support: 0.5 , conf: 1.0 , list: 2.0\n",
      "frozenset({'香蕉', '哈密瓜'}) --> frozenset({'榴莲'}) \n",
      " before support: 0.5 , after support: 0.75 , together support: 0.5 , conf: 1.0 , list: 1.3333333333333333\n",
      "frozenset({'榴莲'}) --> frozenset({'香蕉', '哈密瓜'}) \n",
      " before support: 0.75 , after support: 0.5 , together support: 0.5 , conf: 0.6666666666666666 , list: 1.3333333333333333\n",
      "frozenset({'哈密瓜', '榴莲'}) --> frozenset({'香蕉'}) \n",
      " before support: 0.5 , after support: 0.75 , together support: 0.5 , conf: 1.0 , list: 1.3333333333333333\n",
      "frozenset({'哈密瓜'}) --> frozenset({'香蕉', '榴莲'}) \n",
      " before support: 0.5 , after support: 0.5 , together support: 0.5 , conf: 1.0 , list: 2.0\n"
     ]
    },
    {
     "data": {
      "text/plain": [
       "[(frozenset({'香蕉'}), frozenset({'哈密瓜', '榴莲'}), 0.6666666666666666),\n",
       " (frozenset({'榴莲', '香蕉'}), frozenset({'哈密瓜'}), 1.0),\n",
       " (frozenset({'哈密瓜', '香蕉'}), frozenset({'榴莲'}), 1.0),\n",
       " (frozenset({'榴莲'}), frozenset({'哈密瓜', '香蕉'}), 0.6666666666666666),\n",
       " (frozenset({'哈密瓜', '榴莲'}), frozenset({'香蕉'}), 1.0),\n",
       " (frozenset({'哈密瓜'}), frozenset({'榴莲', '香蕉'}), 1.0)]"
      ]
     },
     "execution_count": 169,
     "metadata": {},
     "output_type": "execute_result"
    }
   ],
   "source": [
    "rulelist=[]\n",
    "cal_conf(frozenset({'哈密瓜', '榴莲', '香蕉'}),h,s,rulelist,min_conf=0.5)\n",
    "rulelist"
   ]
  },
  {
   "cell_type": "code",
   "execution_count": 167,
   "id": "366877d6",
   "metadata": {},
   "outputs": [
    {
     "data": {
      "text/plain": [
       "{frozenset({'苹果'}): 0.5,\n",
       " frozenset({'香蕉'}): 0.75,\n",
       " frozenset({'橘子'}): 0.5,\n",
       " frozenset({'榴莲'}): 0.75,\n",
       " frozenset({'哈密瓜'}): 0.5,\n",
       " frozenset({'苹果', '香蕉'}): 0.5,\n",
       " frozenset({'橘子', '苹果'}): 0.25,\n",
       " frozenset({'橘子', '香蕉'}): 0.25,\n",
       " frozenset({'榴莲', '香蕉'}): 0.5,\n",
       " frozenset({'哈密瓜', '香蕉'}): 0.5,\n",
       " frozenset({'哈密瓜', '榴莲'}): 0.5,\n",
       " frozenset({'榴莲', '苹果'}): 0.25,\n",
       " frozenset({'哈密瓜', '苹果'}): 0.25,\n",
       " frozenset({'榴莲', '橘子'}): 0.25,\n",
       " frozenset({'哈密瓜', '榴莲', '香蕉'}): 0.5,\n",
       " frozenset({'榴莲', '苹果', '香蕉'}): 0.25,\n",
       " frozenset({'哈密瓜', '苹果', '香蕉'}): 0.25}"
      ]
     },
     "execution_count": 167,
     "metadata": {},
     "output_type": "execute_result"
    }
   ],
   "source": [
    "s"
   ]
  },
  {
   "cell_type": "markdown",
   "id": "a86e548f",
   "metadata": {},
   "source": [
    "#### 产生关联规则主函数"
   ]
  },
  {
   "cell_type": "code",
   "execution_count": 149,
   "id": "c779c956",
   "metadata": {},
   "outputs": [],
   "source": [
    "def create_rules(support_data,all_freq_transaction,min_conf=0.8):\n",
    "    all_rulelist=[]\n",
    "    for i in range(1,len(all_freq_transaction)):\n",
    "        for fre_set in all_freq_transaction[i]:\n",
    "            fre_list=list(fre_set)\n",
    "            all_subset=[]\n",
    "            create_subset(fre_list,all_subset)\n",
    "            cal_conf(fre_set,all_subset,support_data,all_rulelist,min_conf)\n",
    "    return all_rulelist        "
   ]
  },
  {
   "cell_type": "code",
   "execution_count": 151,
   "id": "49f57a53",
   "metadata": {},
   "outputs": [
    {
     "name": "stdout",
     "output_type": "stream",
     "text": [
      "frozenset({'苹果'}) --> frozenset({'香蕉'}) \n",
      " before support: 0.5 , after support: 0.75 , together support: 0.5 , conf: 1.0 , list: 1.3333333333333333\n",
      "frozenset({'香蕉'}) --> frozenset({'苹果'}) \n",
      " before support: 0.75 , after support: 0.5 , together support: 0.5 , conf: 0.6666666666666666 , list: 1.3333333333333333\n",
      "frozenset({'香蕉'}) --> frozenset({'哈密瓜'}) \n",
      " before support: 0.75 , after support: 0.5 , together support: 0.5 , conf: 0.6666666666666666 , list: 1.3333333333333333\n",
      "frozenset({'哈密瓜'}) --> frozenset({'香蕉'}) \n",
      " before support: 0.5 , after support: 0.75 , together support: 0.5 , conf: 1.0 , list: 1.3333333333333333\n",
      "frozenset({'哈密瓜'}) --> frozenset({'榴莲'}) \n",
      " before support: 0.5 , after support: 0.75 , together support: 0.5 , conf: 1.0 , list: 1.3333333333333333\n",
      "frozenset({'榴莲'}) --> frozenset({'哈密瓜'}) \n",
      " before support: 0.75 , after support: 0.5 , together support: 0.5 , conf: 0.6666666666666666 , list: 1.3333333333333333\n",
      "frozenset({'香蕉'}) --> frozenset({'哈密瓜', '榴莲'}) \n",
      " before support: 0.75 , after support: 0.5 , together support: 0.5 , conf: 0.6666666666666666 , list: 1.3333333333333333\n",
      "frozenset({'香蕉', '哈密瓜'}) --> frozenset({'榴莲'}) \n",
      " before support: 0.5 , after support: 0.75 , together support: 0.5 , conf: 1.0 , list: 1.3333333333333333\n",
      "frozenset({'香蕉', '榴莲'}) --> frozenset({'哈密瓜'}) \n",
      " before support: 0.5 , after support: 0.5 , together support: 0.5 , conf: 1.0 , list: 2.0\n",
      "frozenset({'哈密瓜'}) --> frozenset({'香蕉', '榴莲'}) \n",
      " before support: 0.5 , after support: 0.5 , together support: 0.5 , conf: 1.0 , list: 2.0\n",
      "frozenset({'榴莲', '哈密瓜'}) --> frozenset({'香蕉'}) \n",
      " before support: 0.5 , after support: 0.75 , together support: 0.5 , conf: 1.0 , list: 1.3333333333333333\n",
      "frozenset({'榴莲'}) --> frozenset({'香蕉', '哈密瓜'}) \n",
      " before support: 0.75 , after support: 0.5 , together support: 0.5 , conf: 0.6666666666666666 , list: 1.3333333333333333\n"
     ]
    },
    {
     "data": {
      "text/plain": [
       "[(frozenset({'苹果'}), frozenset({'香蕉'}), 1.0),\n",
       " (frozenset({'香蕉'}), frozenset({'苹果'}), 0.6666666666666666),\n",
       " (frozenset({'香蕉'}), frozenset({'哈密瓜'}), 0.6666666666666666),\n",
       " (frozenset({'哈密瓜'}), frozenset({'香蕉'}), 1.0),\n",
       " (frozenset({'哈密瓜'}), frozenset({'榴莲'}), 1.0),\n",
       " (frozenset({'榴莲'}), frozenset({'哈密瓜'}), 0.6666666666666666),\n",
       " (frozenset({'香蕉'}), frozenset({'哈密瓜', '榴莲'}), 0.6666666666666666),\n",
       " (frozenset({'哈密瓜', '香蕉'}), frozenset({'榴莲'}), 1.0),\n",
       " (frozenset({'榴莲', '香蕉'}), frozenset({'哈密瓜'}), 1.0),\n",
       " (frozenset({'哈密瓜'}), frozenset({'榴莲', '香蕉'}), 1.0),\n",
       " (frozenset({'哈密瓜', '榴莲'}), frozenset({'香蕉'}), 1.0),\n",
       " (frozenset({'榴莲'}), frozenset({'哈密瓜', '香蕉'}), 0.6666666666666666)]"
      ]
     },
     "execution_count": 151,
     "metadata": {},
     "output_type": "execute_result"
    }
   ],
   "source": [
    "create_rules(s,fs,0.6)"
   ]
  },
  {
   "cell_type": "code",
   "execution_count": 172,
   "id": "7c9c8566",
   "metadata": {},
   "outputs": [
    {
     "data": {
      "text/html": [
       "<div>\n",
       "<style scoped>\n",
       "    .dataframe tbody tr th:only-of-type {\n",
       "        vertical-align: middle;\n",
       "    }\n",
       "\n",
       "    .dataframe tbody tr th {\n",
       "        vertical-align: top;\n",
       "    }\n",
       "\n",
       "    .dataframe thead th {\n",
       "        text-align: right;\n",
       "    }\n",
       "</style>\n",
       "<table border=\"1\" class=\"dataframe\">\n",
       "  <thead>\n",
       "    <tr style=\"text-align: right;\">\n",
       "      <th></th>\n",
       "      <th>A</th>\n",
       "      <th>B</th>\n",
       "    </tr>\n",
       "  </thead>\n",
       "  <tbody>\n",
       "    <tr>\n",
       "      <th>1</th>\n",
       "      <td>1</td>\n",
       "      <td>6</td>\n",
       "    </tr>\n",
       "    <tr>\n",
       "      <th>1</th>\n",
       "      <td>2</td>\n",
       "      <td>7</td>\n",
       "    </tr>\n",
       "    <tr>\n",
       "      <th>2</th>\n",
       "      <td>3</td>\n",
       "      <td>8</td>\n",
       "    </tr>\n",
       "    <tr>\n",
       "      <th>2</th>\n",
       "      <td>4</td>\n",
       "      <td>9</td>\n",
       "    </tr>\n",
       "  </tbody>\n",
       "</table>\n",
       "</div>"
      ],
      "text/plain": [
       "   A  B\n",
       "1  1  6\n",
       "1  2  7\n",
       "2  3  8\n",
       "2  4  9"
      ]
     },
     "execution_count": 172,
     "metadata": {},
     "output_type": "execute_result"
    }
   ],
   "source": [
    "import pandas as pd\n",
    "df=pd.DataFrame({'A':[1,2,3,4],'B':[6,7,8,9]},index=[1,1,2,2])\n",
    "df"
   ]
  },
  {
   "cell_type": "code",
   "execution_count": 176,
   "id": "ff23e632",
   "metadata": {},
   "outputs": [
    {
     "data": {
      "text/plain": [
       "[3, 4]"
      ]
     },
     "execution_count": 176,
     "metadata": {},
     "output_type": "execute_result"
    }
   ],
   "source": [
    "list(df.loc[2,'A'])"
   ]
  },
  {
   "cell_type": "code",
   "execution_count": 8,
   "id": "1bfc541c",
   "metadata": {},
   "outputs": [
    {
     "data": {
      "text/plain": [
       "frozenset({'香蕉'})"
      ]
     },
     "execution_count": 8,
     "metadata": {},
     "output_type": "execute_result"
    }
   ],
   "source": [
    "frozenset({'苹果', '香蕉'})-frozenset({'苹果'})"
   ]
  },
  {
   "cell_type": "code",
   "execution_count": null,
   "id": "7d662597",
   "metadata": {},
   "outputs": [],
   "source": []
  }
 ],
 "metadata": {
  "kernelspec": {
   "display_name": "Python 3",
   "language": "python",
   "name": "python3"
  },
  "language_info": {
   "codemirror_mode": {
    "name": "ipython",
    "version": 3
   },
   "file_extension": ".py",
   "mimetype": "text/x-python",
   "name": "python",
   "nbconvert_exporter": "python",
   "pygments_lexer": "ipython3",
   "version": "3.6.8"
  }
 },
 "nbformat": 4,
 "nbformat_minor": 5
}
