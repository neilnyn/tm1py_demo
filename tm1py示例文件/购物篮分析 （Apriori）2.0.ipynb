{
 "cells": [
  {
   "cell_type": "markdown",
   "id": "21dba3c4",
   "metadata": {},
   "source": [
    "### 读取数据"
   ]
  },
  {
   "cell_type": "code",
   "execution_count": 2,
   "id": "ecb09ed0",
   "metadata": {},
   "outputs": [],
   "source": [
    "import pandas as pd"
   ]
  },
  {
   "cell_type": "code",
   "execution_count": 3,
   "id": "918d8da7",
   "metadata": {},
   "outputs": [],
   "source": [
    "zl_order_data=pd.read_csv(r'C:/TM1py/order_lsku_ne.csv')"
   ]
  },
  {
   "cell_type": "code",
   "execution_count": 4,
   "id": "bfa6cd74",
   "metadata": {},
   "outputs": [],
   "source": [
    "zl_order_data=zl_order_data[zl_order_data['yyyymm'].str.slice(0,4).astype('int')>2020].drop('yyyymm',axis=1)"
   ]
  },
  {
   "cell_type": "code",
   "execution_count": 5,
   "id": "0154df1f",
   "metadata": {},
   "outputs": [],
   "source": [
    "zl_order_data.reset_index(drop=True,inplace=True)"
   ]
  },
  {
   "cell_type": "code",
   "execution_count": 6,
   "id": "bb09a086",
   "metadata": {},
   "outputs": [
    {
     "data": {
      "text/html": [
       "<div>\n",
       "<style scoped>\n",
       "    .dataframe tbody tr th:only-of-type {\n",
       "        vertical-align: middle;\n",
       "    }\n",
       "\n",
       "    .dataframe tbody tr th {\n",
       "        vertical-align: top;\n",
       "    }\n",
       "\n",
       "    .dataframe thead th {\n",
       "        text-align: right;\n",
       "    }\n",
       "</style>\n",
       "<table border=\"1\" class=\"dataframe\">\n",
       "  <thead>\n",
       "    <tr style=\"text-align: right;\">\n",
       "      <th></th>\n",
       "      <th>order_id</th>\n",
       "      <th>lsku</th>\n",
       "    </tr>\n",
       "  </thead>\n",
       "  <tbody>\n",
       "    <tr>\n",
       "      <th>0</th>\n",
       "      <td>026-0000462-1540302</td>\n",
       "      <td>LSKU2006</td>\n",
       "    </tr>\n",
       "    <tr>\n",
       "      <th>1</th>\n",
       "      <td>026-0001924-2492333</td>\n",
       "      <td>LSKU1933</td>\n",
       "    </tr>\n",
       "    <tr>\n",
       "      <th>2</th>\n",
       "      <td>026-0002258-7754707</td>\n",
       "      <td>LSKU1088</td>\n",
       "    </tr>\n",
       "    <tr>\n",
       "      <th>3</th>\n",
       "      <td>026-0003043-4180363</td>\n",
       "      <td>LSKU1149</td>\n",
       "    </tr>\n",
       "    <tr>\n",
       "      <th>4</th>\n",
       "      <td>026-0003702-5159525</td>\n",
       "      <td>LSKU1220</td>\n",
       "    </tr>\n",
       "    <tr>\n",
       "      <th>...</th>\n",
       "      <td>...</td>\n",
       "      <td>...</td>\n",
       "    </tr>\n",
       "    <tr>\n",
       "      <th>1507682</th>\n",
       "      <td>S03-9826401-6865450</td>\n",
       "      <td>LSKU1175</td>\n",
       "    </tr>\n",
       "    <tr>\n",
       "      <th>1507683</th>\n",
       "      <td>S03-9826401-6865450</td>\n",
       "      <td>LSKU1253</td>\n",
       "    </tr>\n",
       "    <tr>\n",
       "      <th>1507684</th>\n",
       "      <td>S03-9826401-6865450</td>\n",
       "      <td>LSKU1261</td>\n",
       "    </tr>\n",
       "    <tr>\n",
       "      <th>1507685</th>\n",
       "      <td>S03-9826401-6865450</td>\n",
       "      <td>LSKU1473</td>\n",
       "    </tr>\n",
       "    <tr>\n",
       "      <th>1507686</th>\n",
       "      <td>S03-9874270-9005439</td>\n",
       "      <td>LSKU1459</td>\n",
       "    </tr>\n",
       "  </tbody>\n",
       "</table>\n",
       "<p>1507687 rows × 2 columns</p>\n",
       "</div>"
      ],
      "text/plain": [
       "                    order_id      lsku\n",
       "0        026-0000462-1540302  LSKU2006\n",
       "1        026-0001924-2492333  LSKU1933\n",
       "2        026-0002258-7754707  LSKU1088\n",
       "3        026-0003043-4180363  LSKU1149\n",
       "4        026-0003702-5159525  LSKU1220\n",
       "...                      ...       ...\n",
       "1507682  S03-9826401-6865450  LSKU1175\n",
       "1507683  S03-9826401-6865450  LSKU1253\n",
       "1507684  S03-9826401-6865450  LSKU1261\n",
       "1507685  S03-9826401-6865450  LSKU1473\n",
       "1507686  S03-9874270-9005439  LSKU1459\n",
       "\n",
       "[1507687 rows x 2 columns]"
      ]
     },
     "execution_count": 6,
     "metadata": {},
     "output_type": "execute_result"
    }
   ],
   "source": [
    "zl_order_data"
   ]
  },
  {
   "cell_type": "code",
   "execution_count": 7,
   "id": "7a4a43a0",
   "metadata": {},
   "outputs": [],
   "source": [
    "zl_order_multi_order=zl_order_data[zl_order_data.groupby('order_id')['order_id'].transform('count')>1]"
   ]
  },
  {
   "cell_type": "code",
   "execution_count": 8,
   "id": "66c37e73",
   "metadata": {},
   "outputs": [
    {
     "data": {
      "text/html": [
       "<div>\n",
       "<style scoped>\n",
       "    .dataframe tbody tr th:only-of-type {\n",
       "        vertical-align: middle;\n",
       "    }\n",
       "\n",
       "    .dataframe tbody tr th {\n",
       "        vertical-align: top;\n",
       "    }\n",
       "\n",
       "    .dataframe thead th {\n",
       "        text-align: right;\n",
       "    }\n",
       "</style>\n",
       "<table border=\"1\" class=\"dataframe\">\n",
       "  <thead>\n",
       "    <tr style=\"text-align: right;\">\n",
       "      <th></th>\n",
       "      <th>order_id</th>\n",
       "      <th>lsku</th>\n",
       "    </tr>\n",
       "  </thead>\n",
       "  <tbody>\n",
       "    <tr>\n",
       "      <th>23</th>\n",
       "      <td>026-0047611-2829146</td>\n",
       "      <td>LSKU1071</td>\n",
       "    </tr>\n",
       "    <tr>\n",
       "      <th>24</th>\n",
       "      <td>026-0047611-2829146</td>\n",
       "      <td>LSKU1095</td>\n",
       "    </tr>\n",
       "    <tr>\n",
       "      <th>43</th>\n",
       "      <td>026-0106843-3116335</td>\n",
       "      <td>LSKU1860</td>\n",
       "    </tr>\n",
       "    <tr>\n",
       "      <th>44</th>\n",
       "      <td>026-0106843-3116335</td>\n",
       "      <td>LSKU1897</td>\n",
       "    </tr>\n",
       "    <tr>\n",
       "      <th>81</th>\n",
       "      <td>026-0192418-6945155</td>\n",
       "      <td>LSKU1180</td>\n",
       "    </tr>\n",
       "    <tr>\n",
       "      <th>...</th>\n",
       "      <td>...</td>\n",
       "      <td>...</td>\n",
       "    </tr>\n",
       "    <tr>\n",
       "      <th>1507679</th>\n",
       "      <td>S03-9725873-8674213</td>\n",
       "      <td>LSKU1473</td>\n",
       "    </tr>\n",
       "    <tr>\n",
       "      <th>1507682</th>\n",
       "      <td>S03-9826401-6865450</td>\n",
       "      <td>LSKU1175</td>\n",
       "    </tr>\n",
       "    <tr>\n",
       "      <th>1507683</th>\n",
       "      <td>S03-9826401-6865450</td>\n",
       "      <td>LSKU1253</td>\n",
       "    </tr>\n",
       "    <tr>\n",
       "      <th>1507684</th>\n",
       "      <td>S03-9826401-6865450</td>\n",
       "      <td>LSKU1261</td>\n",
       "    </tr>\n",
       "    <tr>\n",
       "      <th>1507685</th>\n",
       "      <td>S03-9826401-6865450</td>\n",
       "      <td>LSKU1473</td>\n",
       "    </tr>\n",
       "  </tbody>\n",
       "</table>\n",
       "<p>179769 rows × 2 columns</p>\n",
       "</div>"
      ],
      "text/plain": [
       "                    order_id      lsku\n",
       "23       026-0047611-2829146  LSKU1071\n",
       "24       026-0047611-2829146  LSKU1095\n",
       "43       026-0106843-3116335  LSKU1860\n",
       "44       026-0106843-3116335  LSKU1897\n",
       "81       026-0192418-6945155  LSKU1180\n",
       "...                      ...       ...\n",
       "1507679  S03-9725873-8674213  LSKU1473\n",
       "1507682  S03-9826401-6865450  LSKU1175\n",
       "1507683  S03-9826401-6865450  LSKU1253\n",
       "1507684  S03-9826401-6865450  LSKU1261\n",
       "1507685  S03-9826401-6865450  LSKU1473\n",
       "\n",
       "[179769 rows x 2 columns]"
      ]
     },
     "execution_count": 8,
     "metadata": {},
     "output_type": "execute_result"
    }
   ],
   "source": [
    "zl_order_multi_order"
   ]
  },
  {
   "cell_type": "code",
   "execution_count": null,
   "id": "ab89f3d5",
   "metadata": {},
   "outputs": [],
   "source": []
  },
  {
   "cell_type": "code",
   "execution_count": null,
   "id": "3a762048",
   "metadata": {},
   "outputs": [],
   "source": []
  },
  {
   "cell_type": "code",
   "execution_count": null,
   "id": "ce7b761d",
   "metadata": {},
   "outputs": [],
   "source": []
  },
  {
   "cell_type": "code",
   "execution_count": null,
   "id": "3c23c974",
   "metadata": {},
   "outputs": [],
   "source": []
  },
  {
   "cell_type": "code",
   "execution_count": 9,
   "id": "7f8dd91e",
   "metadata": {},
   "outputs": [],
   "source": [
    "zl_order_multi_order_drop=zl_order_multi_order.drop_duplicates()"
   ]
  },
  {
   "cell_type": "code",
   "execution_count": 10,
   "id": "c4973aa9",
   "metadata": {},
   "outputs": [
    {
     "data": {
      "text/html": [
       "<div>\n",
       "<style scoped>\n",
       "    .dataframe tbody tr th:only-of-type {\n",
       "        vertical-align: middle;\n",
       "    }\n",
       "\n",
       "    .dataframe tbody tr th {\n",
       "        vertical-align: top;\n",
       "    }\n",
       "\n",
       "    .dataframe thead th {\n",
       "        text-align: right;\n",
       "    }\n",
       "</style>\n",
       "<table border=\"1\" class=\"dataframe\">\n",
       "  <thead>\n",
       "    <tr style=\"text-align: right;\">\n",
       "      <th></th>\n",
       "      <th>order_id</th>\n",
       "      <th>lsku</th>\n",
       "    </tr>\n",
       "  </thead>\n",
       "  <tbody>\n",
       "    <tr>\n",
       "      <th>23</th>\n",
       "      <td>026-0047611-2829146</td>\n",
       "      <td>LSKU1071</td>\n",
       "    </tr>\n",
       "    <tr>\n",
       "      <th>24</th>\n",
       "      <td>026-0047611-2829146</td>\n",
       "      <td>LSKU1095</td>\n",
       "    </tr>\n",
       "    <tr>\n",
       "      <th>43</th>\n",
       "      <td>026-0106843-3116335</td>\n",
       "      <td>LSKU1860</td>\n",
       "    </tr>\n",
       "    <tr>\n",
       "      <th>44</th>\n",
       "      <td>026-0106843-3116335</td>\n",
       "      <td>LSKU1897</td>\n",
       "    </tr>\n",
       "    <tr>\n",
       "      <th>81</th>\n",
       "      <td>026-0192418-6945155</td>\n",
       "      <td>LSKU1180</td>\n",
       "    </tr>\n",
       "    <tr>\n",
       "      <th>...</th>\n",
       "      <td>...</td>\n",
       "      <td>...</td>\n",
       "    </tr>\n",
       "    <tr>\n",
       "      <th>1507679</th>\n",
       "      <td>S03-9725873-8674213</td>\n",
       "      <td>LSKU1473</td>\n",
       "    </tr>\n",
       "    <tr>\n",
       "      <th>1507682</th>\n",
       "      <td>S03-9826401-6865450</td>\n",
       "      <td>LSKU1175</td>\n",
       "    </tr>\n",
       "    <tr>\n",
       "      <th>1507683</th>\n",
       "      <td>S03-9826401-6865450</td>\n",
       "      <td>LSKU1253</td>\n",
       "    </tr>\n",
       "    <tr>\n",
       "      <th>1507684</th>\n",
       "      <td>S03-9826401-6865450</td>\n",
       "      <td>LSKU1261</td>\n",
       "    </tr>\n",
       "    <tr>\n",
       "      <th>1507685</th>\n",
       "      <td>S03-9826401-6865450</td>\n",
       "      <td>LSKU1473</td>\n",
       "    </tr>\n",
       "  </tbody>\n",
       "</table>\n",
       "<p>179639 rows × 2 columns</p>\n",
       "</div>"
      ],
      "text/plain": [
       "                    order_id      lsku\n",
       "23       026-0047611-2829146  LSKU1071\n",
       "24       026-0047611-2829146  LSKU1095\n",
       "43       026-0106843-3116335  LSKU1860\n",
       "44       026-0106843-3116335  LSKU1897\n",
       "81       026-0192418-6945155  LSKU1180\n",
       "...                      ...       ...\n",
       "1507679  S03-9725873-8674213  LSKU1473\n",
       "1507682  S03-9826401-6865450  LSKU1175\n",
       "1507683  S03-9826401-6865450  LSKU1253\n",
       "1507684  S03-9826401-6865450  LSKU1261\n",
       "1507685  S03-9826401-6865450  LSKU1473\n",
       "\n",
       "[179639 rows x 2 columns]"
      ]
     },
     "execution_count": 10,
     "metadata": {},
     "output_type": "execute_result"
    }
   ],
   "source": [
    "zl_order_multi_order_drop"
   ]
  },
  {
   "cell_type": "code",
   "execution_count": 11,
   "id": "327894fb",
   "metadata": {},
   "outputs": [],
   "source": [
    "zl_order_multi_order_drop_index=zl_order_multi_order_drop.set_index('order_id')"
   ]
  },
  {
   "cell_type": "code",
   "execution_count": null,
   "id": "7a119949",
   "metadata": {},
   "outputs": [],
   "source": []
  },
  {
   "cell_type": "code",
   "execution_count": 12,
   "id": "1c5454f9",
   "metadata": {},
   "outputs": [
    {
     "data": {
      "text/html": [
       "<div>\n",
       "<style scoped>\n",
       "    .dataframe tbody tr th:only-of-type {\n",
       "        vertical-align: middle;\n",
       "    }\n",
       "\n",
       "    .dataframe tbody tr th {\n",
       "        vertical-align: top;\n",
       "    }\n",
       "\n",
       "    .dataframe thead th {\n",
       "        text-align: right;\n",
       "    }\n",
       "</style>\n",
       "<table border=\"1\" class=\"dataframe\">\n",
       "  <thead>\n",
       "    <tr style=\"text-align: right;\">\n",
       "      <th></th>\n",
       "      <th>lsku</th>\n",
       "    </tr>\n",
       "    <tr>\n",
       "      <th>order_id</th>\n",
       "      <th></th>\n",
       "    </tr>\n",
       "  </thead>\n",
       "  <tbody>\n",
       "    <tr>\n",
       "      <th>026-0047611-2829146</th>\n",
       "      <td>LSKU1071</td>\n",
       "    </tr>\n",
       "    <tr>\n",
       "      <th>026-0047611-2829146</th>\n",
       "      <td>LSKU1095</td>\n",
       "    </tr>\n",
       "    <tr>\n",
       "      <th>026-0106843-3116335</th>\n",
       "      <td>LSKU1860</td>\n",
       "    </tr>\n",
       "    <tr>\n",
       "      <th>026-0106843-3116335</th>\n",
       "      <td>LSKU1897</td>\n",
       "    </tr>\n",
       "    <tr>\n",
       "      <th>026-0192418-6945155</th>\n",
       "      <td>LSKU1180</td>\n",
       "    </tr>\n",
       "    <tr>\n",
       "      <th>...</th>\n",
       "      <td>...</td>\n",
       "    </tr>\n",
       "    <tr>\n",
       "      <th>S03-9725873-8674213</th>\n",
       "      <td>LSKU1473</td>\n",
       "    </tr>\n",
       "    <tr>\n",
       "      <th>S03-9826401-6865450</th>\n",
       "      <td>LSKU1175</td>\n",
       "    </tr>\n",
       "    <tr>\n",
       "      <th>S03-9826401-6865450</th>\n",
       "      <td>LSKU1253</td>\n",
       "    </tr>\n",
       "    <tr>\n",
       "      <th>S03-9826401-6865450</th>\n",
       "      <td>LSKU1261</td>\n",
       "    </tr>\n",
       "    <tr>\n",
       "      <th>S03-9826401-6865450</th>\n",
       "      <td>LSKU1473</td>\n",
       "    </tr>\n",
       "  </tbody>\n",
       "</table>\n",
       "<p>179639 rows × 1 columns</p>\n",
       "</div>"
      ],
      "text/plain": [
       "                         lsku\n",
       "order_id                     \n",
       "026-0047611-2829146  LSKU1071\n",
       "026-0047611-2829146  LSKU1095\n",
       "026-0106843-3116335  LSKU1860\n",
       "026-0106843-3116335  LSKU1897\n",
       "026-0192418-6945155  LSKU1180\n",
       "...                       ...\n",
       "S03-9725873-8674213  LSKU1473\n",
       "S03-9826401-6865450  LSKU1175\n",
       "S03-9826401-6865450  LSKU1253\n",
       "S03-9826401-6865450  LSKU1261\n",
       "S03-9826401-6865450  LSKU1473\n",
       "\n",
       "[179639 rows x 1 columns]"
      ]
     },
     "execution_count": 12,
     "metadata": {},
     "output_type": "execute_result"
    }
   ],
   "source": [
    "zl_order_multi_order_drop_index"
   ]
  },
  {
   "cell_type": "code",
   "execution_count": null,
   "id": "3e5a0611",
   "metadata": {},
   "outputs": [],
   "source": []
  },
  {
   "cell_type": "markdown",
   "id": "34850749",
   "metadata": {},
   "source": [
    "#### 生成候选项集"
   ]
  },
  {
   "cell_type": "code",
   "execution_count": 13,
   "id": "a615824f",
   "metadata": {},
   "outputs": [],
   "source": [
    "order_id_unique=zl_order_multi_order_drop_index.index.unique()"
   ]
  },
  {
   "cell_type": "code",
   "execution_count": null,
   "id": "ccb32a91",
   "metadata": {},
   "outputs": [],
   "source": []
  },
  {
   "cell_type": "code",
   "execution_count": 15,
   "id": "1e78b500",
   "metadata": {},
   "outputs": [],
   "source": [
    "def create_cl(dataset,order_id_list):\n",
    "    cl=[]\n",
    "    for order_id in order_id_list:\n",
    "        transaction=dataset.loc[order_id]\n",
    "        for item in transaction:\n",
    "            if not {item} in cl:\n",
    "                cl.append({item})\n",
    "    cl.sort()\n",
    "    return list(map(frozenset,cl))"
   ]
  },
  {
   "cell_type": "code",
   "execution_count": null,
   "id": "f1274ace",
   "metadata": {},
   "outputs": [],
   "source": []
  },
  {
   "cell_type": "markdown",
   "id": "e6f3cf2c",
   "metadata": {},
   "source": [
    "#### 生成频繁项集"
   ]
  },
  {
   "cell_type": "code",
   "execution_count": 16,
   "id": "6a2b6593",
   "metadata": {},
   "outputs": [],
   "source": [
    "def create_freq_transaction(dataset,order_id_list,ck,min_support=0.5):\n",
    "    sscnt={}\n",
    "    for order_id in order_id_list:\n",
    "        transaction=dataset.loc[order_id]\n",
    "        for can in ck:\n",
    "            if  can.issubset(transaction):\n",
    "                sscnt[can]=sscnt.get(can,0)+1\n",
    "    num_transactions=float(len(order_id_list))\n",
    "    freq_transaction=[]\n",
    "    support_data={}\n",
    "    for key in sscnt:\n",
    "        support=sscnt[key]/num_transactions\n",
    "        if support>=min_support:\n",
    "            support_data[key]=support\n",
    "            freq_transaction.append(key)\n",
    "    return support_data,freq_transaction"
   ]
  },
  {
   "cell_type": "code",
   "execution_count": null,
   "id": "5c500ab6",
   "metadata": {},
   "outputs": [],
   "source": []
  },
  {
   "cell_type": "code",
   "execution_count": null,
   "id": "e297c791",
   "metadata": {},
   "outputs": [],
   "source": []
  },
  {
   "cell_type": "code",
   "execution_count": null,
   "id": "28060f7a",
   "metadata": {},
   "outputs": [],
   "source": []
  },
  {
   "cell_type": "code",
   "execution_count": null,
   "id": "e43e5e95",
   "metadata": {},
   "outputs": [],
   "source": []
  },
  {
   "cell_type": "markdown",
   "id": "63b88651",
   "metadata": {},
   "source": [
    "#### 生成第Ck个候选集"
   ]
  },
  {
   "cell_type": "code",
   "execution_count": 17,
   "id": "c85a6208",
   "metadata": {},
   "outputs": [],
   "source": [
    "def create_ck(freq_k_transaction):\n",
    "    ck=[]\n",
    "    k=len(freq_k_transaction)\n",
    "    for i in range(k):\n",
    "        for j in range(i+1,k):\n",
    "            t1=freq_k_transaction[i]\n",
    "            t2=freq_k_transaction[j]\n",
    "            t=t1|t2\n",
    "            if(not t in ck)and(len(t)==len(freq_k_transaction[0])+1):\n",
    "                ck.append(t)\n",
    "    return ck             "
   ]
  },
  {
   "cell_type": "code",
   "execution_count": null,
   "id": "871930f0",
   "metadata": {},
   "outputs": [],
   "source": []
  },
  {
   "cell_type": "markdown",
   "id": "e70a62f1",
   "metadata": {},
   "source": [
    "#### Apriori函数"
   ]
  },
  {
   "cell_type": "code",
   "execution_count": 18,
   "id": "3d29fb1a",
   "metadata": {},
   "outputs": [],
   "source": [
    "def Apriori(dataset,order_id_list,min_support=0.5):\n",
    "    cl=create_cl(dataset,order_id_list)\n",
    "    support_data,freq_transaction_1=create_freq_transaction(dataset,order_id_list,cl,min_support=min_support)\n",
    "    all_freq_transaction=[freq_transaction_1]\n",
    "    while len(all_freq_transaction[-1])>0:\n",
    "        \n",
    "        ck=create_ck(all_freq_transaction[-1])\n",
    "        support_data_k,freq_transaction_k=create_freq_transaction(dataset,order_id_list,ck,min_support=min_support)\n",
    "        support_data.update(support_data_k)\n",
    "        all_freq_transaction.append(freq_transaction_k)\n",
    "    return support_data,all_freq_transaction    "
   ]
  },
  {
   "cell_type": "code",
   "execution_count": 19,
   "id": "36430b91",
   "metadata": {},
   "outputs": [],
   "source": [
    "s,fs=Apriori(zl_order_multi_order_drop_index,order_id_unique,min_support=0.5)"
   ]
  },
  {
   "cell_type": "code",
   "execution_count": 20,
   "id": "61e73a3a",
   "metadata": {},
   "outputs": [
    {
     "data": {
      "text/plain": [
       "{frozenset({'lsku'}): 0.998531939721696}"
      ]
     },
     "execution_count": 20,
     "metadata": {},
     "output_type": "execute_result"
    }
   ],
   "source": [
    "s"
   ]
  },
  {
   "cell_type": "code",
   "execution_count": 21,
   "id": "16948109",
   "metadata": {},
   "outputs": [
    {
     "data": {
      "text/plain": [
       "[[frozenset({'lsku'})], []]"
      ]
     },
     "execution_count": 21,
     "metadata": {},
     "output_type": "execute_result"
    }
   ],
   "source": [
    "fs"
   ]
  },
  {
   "cell_type": "code",
   "execution_count": null,
   "id": "f45a4ab5",
   "metadata": {},
   "outputs": [],
   "source": []
  }
 ],
 "metadata": {
  "kernelspec": {
   "display_name": "Python 3",
   "language": "python",
   "name": "python3"
  },
  "language_info": {
   "codemirror_mode": {
    "name": "ipython",
    "version": 3
   },
   "file_extension": ".py",
   "mimetype": "text/x-python",
   "name": "python",
   "nbconvert_exporter": "python",
   "pygments_lexer": "ipython3",
   "version": "3.6.8"
  }
 },
 "nbformat": 4,
 "nbformat_minor": 5
}
