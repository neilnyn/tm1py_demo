{
 "cells": [
  {
   "cell_type": "code",
   "execution_count": 2,
   "id": "cb634d56",
   "metadata": {},
   "outputs": [],
   "source": [
    "import TM1py\n",
    "from TM1py import TM1Service,Rules,Element\n",
    "import configparser\n",
    "import nest_asyncio\n",
    "nest_asyncio.apply()\n",
    "import mdxpy\n",
    "from mdxpy import MdxBuilder,MdxHierarchySet,Member"
   ]
  },
  {
   "cell_type": "code",
   "execution_count": 4,
   "id": "193221d9",
   "metadata": {},
   "outputs": [],
   "source": [
    "INSTANCE='Neil'\n",
    "config=configparser.ConfigParser()\n",
    "config.read(r'C:\\Users\\User\\Desktop\\config.ini')\n",
    "address=config[INSTANCE]['address']\n",
    "port=config[INSTANCE]['port']\n",
    "ssl=config[INSTANCE]['ssl']\n",
    "user=config[INSTANCE]['user']\n",
    "password=config[INSTANCE]['password']"
   ]
  },
  {
   "cell_type": "code",
   "execution_count": null,
   "id": "bc1e0313",
   "metadata": {},
   "outputs": [],
   "source": []
  },
  {
   "cell_type": "code",
   "execution_count": null,
   "id": "748c524b",
   "metadata": {},
   "outputs": [],
   "source": []
  }
 ],
 "metadata": {
  "kernelspec": {
   "display_name": "Python 3",
   "language": "python",
   "name": "python3"
  },
  "language_info": {
   "codemirror_mode": {
    "name": "ipython",
    "version": 3
   },
   "file_extension": ".py",
   "mimetype": "text/x-python",
   "name": "python",
   "nbconvert_exporter": "python",
   "pygments_lexer": "ipython3",
   "version": "3.7.9"
  }
 },
 "nbformat": 4,
 "nbformat_minor": 5
}
