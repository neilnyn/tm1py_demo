{
 "cells": [
  {
   "cell_type": "code",
   "execution_count": 27,
   "id": "5e6d18d5",
   "metadata": {},
   "outputs": [],
   "source": [
    "import matplotlib.pyplot as plt\n",
    "import pandas as pd\n",
    "import statsmodels.api as sm\n",
    "from statsmodels.tsa.seasonal import seasonal_decompose\n",
    "from statsmodels.tsa.stattools import adfuller as ADF"
   ]
  },
  {
   "cell_type": "code",
   "execution_count": 28,
   "id": "9c1af469",
   "metadata": {},
   "outputs": [],
   "source": [
    "zl_report_all=pd.read_csv(r\"C:\\TM1py\\zl_amazon_payments_data_report.csv\")"
   ]
  },
  {
   "cell_type": "code",
   "execution_count": 29,
   "id": "cb906f75",
   "metadata": {},
   "outputs": [
    {
     "data": {
      "text/html": [
       "<div>\n",
       "<style scoped>\n",
       "    .dataframe tbody tr th:only-of-type {\n",
       "        vertical-align: middle;\n",
       "    }\n",
       "\n",
       "    .dataframe tbody tr th {\n",
       "        vertical-align: top;\n",
       "    }\n",
       "\n",
       "    .dataframe thead th {\n",
       "        text-align: right;\n",
       "    }\n",
       "</style>\n",
       "<table border=\"1\" class=\"dataframe\">\n",
       "  <thead>\n",
       "    <tr style=\"text-align: right;\">\n",
       "      <th></th>\n",
       "      <th>Scenario</th>\n",
       "      <th>SA Year</th>\n",
       "      <th>SA Month</th>\n",
       "      <th>Version</th>\n",
       "      <th>COA Company</th>\n",
       "      <th>Currency</th>\n",
       "      <th>Country</th>\n",
       "      <th>Product</th>\n",
       "      <th>Platform</th>\n",
       "      <th>ZL Amazon Management Report Item</th>\n",
       "      <th>Data Source Payments Data Report</th>\n",
       "      <th>M ZL Amazon Payments Data Report</th>\n",
       "      <th>Value</th>\n",
       "    </tr>\n",
       "  </thead>\n",
       "  <tbody>\n",
       "    <tr>\n",
       "      <th>0</th>\n",
       "      <td>ACT</td>\n",
       "      <td>2018</td>\n",
       "      <td>M01</td>\n",
       "      <td>WIP</td>\n",
       "      <td>2</td>\n",
       "      <td>USD</td>\n",
       "      <td>US</td>\n",
       "      <td>LSKU1787</td>\n",
       "      <td>7</td>\n",
       "      <td>AMZ SP广告费分摊</td>\n",
       "      <td>Base</td>\n",
       "      <td>Amount</td>\n",
       "      <td>278.9424</td>\n",
       "    </tr>\n",
       "    <tr>\n",
       "      <th>1</th>\n",
       "      <td>ACT</td>\n",
       "      <td>2018</td>\n",
       "      <td>M01</td>\n",
       "      <td>WIP</td>\n",
       "      <td>2</td>\n",
       "      <td>USD</td>\n",
       "      <td>US</td>\n",
       "      <td>LSKU1787</td>\n",
       "      <td>7</td>\n",
       "      <td>AMZ SD广告费分摊</td>\n",
       "      <td>Base</td>\n",
       "      <td>Amount</td>\n",
       "      <td>43.1232</td>\n",
       "    </tr>\n",
       "    <tr>\n",
       "      <th>2</th>\n",
       "      <td>ACT</td>\n",
       "      <td>2018</td>\n",
       "      <td>M01</td>\n",
       "      <td>WIP</td>\n",
       "      <td>2</td>\n",
       "      <td>USD</td>\n",
       "      <td>US</td>\n",
       "      <td>LSKU1284</td>\n",
       "      <td>7</td>\n",
       "      <td>AMZ SP广告费分摊</td>\n",
       "      <td>Base</td>\n",
       "      <td>Amount</td>\n",
       "      <td>161.3496</td>\n",
       "    </tr>\n",
       "    <tr>\n",
       "      <th>3</th>\n",
       "      <td>ACT</td>\n",
       "      <td>2018</td>\n",
       "      <td>M01</td>\n",
       "      <td>WIP</td>\n",
       "      <td>2</td>\n",
       "      <td>USD</td>\n",
       "      <td>US</td>\n",
       "      <td>LSKU1284</td>\n",
       "      <td>7</td>\n",
       "      <td>AMZ SD广告费分摊</td>\n",
       "      <td>Base</td>\n",
       "      <td>Amount</td>\n",
       "      <td>0.2784</td>\n",
       "    </tr>\n",
       "    <tr>\n",
       "      <th>4</th>\n",
       "      <td>ACT</td>\n",
       "      <td>2018</td>\n",
       "      <td>M01</td>\n",
       "      <td>WIP</td>\n",
       "      <td>2</td>\n",
       "      <td>USD</td>\n",
       "      <td>US</td>\n",
       "      <td>LSKU1931</td>\n",
       "      <td>7</td>\n",
       "      <td>AMZ SP广告费分摊</td>\n",
       "      <td>Base</td>\n",
       "      <td>Amount</td>\n",
       "      <td>79.6800</td>\n",
       "    </tr>\n",
       "    <tr>\n",
       "      <th>...</th>\n",
       "      <td>...</td>\n",
       "      <td>...</td>\n",
       "      <td>...</td>\n",
       "      <td>...</td>\n",
       "      <td>...</td>\n",
       "      <td>...</td>\n",
       "      <td>...</td>\n",
       "      <td>...</td>\n",
       "      <td>...</td>\n",
       "      <td>...</td>\n",
       "      <td>...</td>\n",
       "      <td>...</td>\n",
       "      <td>...</td>\n",
       "    </tr>\n",
       "    <tr>\n",
       "      <th>6706997</th>\n",
       "      <td>Forecast</td>\n",
       "      <td>2021</td>\n",
       "      <td>M12</td>\n",
       "      <td>WIP</td>\n",
       "      <td>2</td>\n",
       "      <td>No Currency</td>\n",
       "      <td>SE</td>\n",
       "      <td>LSKU1179</td>\n",
       "      <td>5</td>\n",
       "      <td>销售数量(不含退货)</td>\n",
       "      <td>Base</td>\n",
       "      <td>Amount</td>\n",
       "      <td>1.0000</td>\n",
       "    </tr>\n",
       "    <tr>\n",
       "      <th>6706998</th>\n",
       "      <td>Forecast</td>\n",
       "      <td>2021</td>\n",
       "      <td>M12</td>\n",
       "      <td>WIP</td>\n",
       "      <td>2</td>\n",
       "      <td>No Currency</td>\n",
       "      <td>SE</td>\n",
       "      <td>LSKU1904</td>\n",
       "      <td>5</td>\n",
       "      <td>退货数量</td>\n",
       "      <td>Base</td>\n",
       "      <td>Amount</td>\n",
       "      <td>-1.0000</td>\n",
       "    </tr>\n",
       "    <tr>\n",
       "      <th>6706999</th>\n",
       "      <td>Forecast</td>\n",
       "      <td>2021</td>\n",
       "      <td>M12</td>\n",
       "      <td>WIP</td>\n",
       "      <td>2</td>\n",
       "      <td>No Currency</td>\n",
       "      <td>SE</td>\n",
       "      <td>LSKU1303</td>\n",
       "      <td>5</td>\n",
       "      <td>销售数量(不含退货)</td>\n",
       "      <td>Base</td>\n",
       "      <td>Amount</td>\n",
       "      <td>1.0000</td>\n",
       "    </tr>\n",
       "    <tr>\n",
       "      <th>6707000</th>\n",
       "      <td>Forecast</td>\n",
       "      <td>2021</td>\n",
       "      <td>M12</td>\n",
       "      <td>WIP</td>\n",
       "      <td>2</td>\n",
       "      <td>No Currency</td>\n",
       "      <td>TR</td>\n",
       "      <td>LSKU1929</td>\n",
       "      <td>6</td>\n",
       "      <td>销售数量(不含退货)</td>\n",
       "      <td>Base</td>\n",
       "      <td>Amount</td>\n",
       "      <td>1.0000</td>\n",
       "    </tr>\n",
       "    <tr>\n",
       "      <th>6707001</th>\n",
       "      <td>Forecast</td>\n",
       "      <td>2021</td>\n",
       "      <td>M12</td>\n",
       "      <td>WIP</td>\n",
       "      <td>2</td>\n",
       "      <td>No Currency</td>\n",
       "      <td>TR</td>\n",
       "      <td>LSKU1900</td>\n",
       "      <td>6</td>\n",
       "      <td>销售数量(不含退货)</td>\n",
       "      <td>Base</td>\n",
       "      <td>Amount</td>\n",
       "      <td>1.0000</td>\n",
       "    </tr>\n",
       "  </tbody>\n",
       "</table>\n",
       "<p>6707002 rows × 13 columns</p>\n",
       "</div>"
      ],
      "text/plain": [
       "         Scenario  SA Year SA Month Version  COA Company     Currency Country  \\\n",
       "0             ACT     2018      M01     WIP            2          USD      US   \n",
       "1             ACT     2018      M01     WIP            2          USD      US   \n",
       "2             ACT     2018      M01     WIP            2          USD      US   \n",
       "3             ACT     2018      M01     WIP            2          USD      US   \n",
       "4             ACT     2018      M01     WIP            2          USD      US   \n",
       "...           ...      ...      ...     ...          ...          ...     ...   \n",
       "6706997  Forecast     2021      M12     WIP            2  No Currency      SE   \n",
       "6706998  Forecast     2021      M12     WIP            2  No Currency      SE   \n",
       "6706999  Forecast     2021      M12     WIP            2  No Currency      SE   \n",
       "6707000  Forecast     2021      M12     WIP            2  No Currency      TR   \n",
       "6707001  Forecast     2021      M12     WIP            2  No Currency      TR   \n",
       "\n",
       "          Product  Platform ZL Amazon Management Report Item  \\\n",
       "0        LSKU1787         7                      AMZ SP广告费分摊   \n",
       "1        LSKU1787         7                      AMZ SD广告费分摊   \n",
       "2        LSKU1284         7                      AMZ SP广告费分摊   \n",
       "3        LSKU1284         7                      AMZ SD广告费分摊   \n",
       "4        LSKU1931         7                      AMZ SP广告费分摊   \n",
       "...           ...       ...                              ...   \n",
       "6706997  LSKU1179         5                       销售数量(不含退货)   \n",
       "6706998  LSKU1904         5                             退货数量   \n",
       "6706999  LSKU1303         5                       销售数量(不含退货)   \n",
       "6707000  LSKU1929         6                       销售数量(不含退货)   \n",
       "6707001  LSKU1900         6                       销售数量(不含退货)   \n",
       "\n",
       "        Data Source Payments Data Report M ZL Amazon Payments Data Report  \\\n",
       "0                                   Base                           Amount   \n",
       "1                                   Base                           Amount   \n",
       "2                                   Base                           Amount   \n",
       "3                                   Base                           Amount   \n",
       "4                                   Base                           Amount   \n",
       "...                                  ...                              ...   \n",
       "6706997                             Base                           Amount   \n",
       "6706998                             Base                           Amount   \n",
       "6706999                             Base                           Amount   \n",
       "6707000                             Base                           Amount   \n",
       "6707001                             Base                           Amount   \n",
       "\n",
       "            Value  \n",
       "0        278.9424  \n",
       "1         43.1232  \n",
       "2        161.3496  \n",
       "3          0.2784  \n",
       "4         79.6800  \n",
       "...           ...  \n",
       "6706997    1.0000  \n",
       "6706998   -1.0000  \n",
       "6706999    1.0000  \n",
       "6707000    1.0000  \n",
       "6707001    1.0000  \n",
       "\n",
       "[6707002 rows x 13 columns]"
      ]
     },
     "execution_count": 29,
     "metadata": {},
     "output_type": "execute_result"
    }
   ],
   "source": [
    "zl_report_all"
   ]
  },
  {
   "cell_type": "markdown",
   "id": "07791dd8",
   "metadata": {},
   "source": [
    "#### 筛选ACT数据中的销售数量并转换为时间序列"
   ]
  },
  {
   "cell_type": "code",
   "execution_count": 30,
   "id": "9cdac697",
   "metadata": {},
   "outputs": [],
   "source": [
    "def generate_timeseries(df:'pd.DataFrame'):\n",
    "    df_act=df[(df[\"Scenario\"]=='ACT')&(df[\"ZL Amazon Management Report Item\"]==\"销售数量(不含退货)\")]\n",
    "    #日期处理\n",
    "    df_act.loc[:,\"SA Year\"]=df_act[\"SA Year\"].astype(\"str\")\n",
    "    df_act.loc[:,\"yearmonth\"]=df_act[\"SA Year\"]+'-'+df_act[\"SA Month\"].str.slice(1,3)\n",
    "    df_act.loc[:,\"yearmonth\"]=pd.to_datetime(df_act[\"yearmonth\"])\n",
    "    timeseries=df_act.groupby(\"yearmonth\")[\"Value\"].sum()\n",
    "    return timeseries"
   ]
  },
  {
   "cell_type": "code",
   "execution_count": null,
   "id": "babe2f96",
   "metadata": {},
   "outputs": [],
   "source": []
  },
  {
   "cell_type": "code",
   "execution_count": 31,
   "id": "cdb036a3",
   "metadata": {},
   "outputs": [
    {
     "name": "stderr",
     "output_type": "stream",
     "text": [
      "C:\\Users\\User\\AppData\\Roaming\\Python\\Python37\\site-packages\\pandas\\core\\indexing.py:1773: SettingWithCopyWarning: \n",
      "A value is trying to be set on a copy of a slice from a DataFrame.\n",
      "Try using .loc[row_indexer,col_indexer] = value instead\n",
      "\n",
      "See the caveats in the documentation: https://pandas.pydata.org/pandas-docs/stable/user_guide/indexing.html#returning-a-view-versus-a-copy\n",
      "  self._setitem_single_column(ilocs[0], value, pi)\n",
      "C:\\Users\\User\\AppData\\Roaming\\Python\\Python37\\site-packages\\pandas\\core\\indexing.py:1667: SettingWithCopyWarning: \n",
      "A value is trying to be set on a copy of a slice from a DataFrame.\n",
      "Try using .loc[row_indexer,col_indexer] = value instead\n",
      "\n",
      "See the caveats in the documentation: https://pandas.pydata.org/pandas-docs/stable/user_guide/indexing.html#returning-a-view-versus-a-copy\n",
      "  self.obj[key] = value\n"
     ]
    }
   ],
   "source": [
    "timeseries=generate_timeseries(zl_report_all)"
   ]
  },
  {
   "cell_type": "code",
   "execution_count": 32,
   "id": "99dba589",
   "metadata": {},
   "outputs": [
    {
     "data": {
      "text/plain": [
       "yearmonth\n",
       "2018-01-01     50378.0\n",
       "2018-02-01     44338.0\n",
       "2018-03-01     39846.0\n",
       "2018-04-01     39418.0\n",
       "2018-05-01     65978.0\n",
       "2018-06-01     49436.0\n",
       "2018-07-01     55310.0\n",
       "2018-08-01     47286.0\n",
       "2018-09-01     34064.0\n",
       "2018-10-01     33538.0\n",
       "2018-11-01     53328.0\n",
       "2018-12-01    113544.0\n",
       "2019-01-01     46916.0\n",
       "2019-02-01     48016.0\n",
       "2019-03-01     44968.0\n",
       "2019-04-01     56788.0\n",
       "2019-05-01     72704.0\n",
       "2019-06-01     68478.0\n",
       "2019-07-01     70376.0\n",
       "2019-08-01     60460.0\n",
       "2019-09-01     66152.0\n",
       "2019-10-01     64344.0\n",
       "2019-11-01     88596.0\n",
       "2019-12-01    191508.0\n",
       "2020-01-01     70190.0\n",
       "2020-02-01     58234.0\n",
       "2020-03-01     67362.0\n",
       "2020-04-01    121244.0\n",
       "2020-05-01    190848.0\n",
       "2020-06-01    180362.0\n",
       "2020-07-01    201000.0\n",
       "2020-08-01    224192.0\n",
       "2020-09-01    214426.0\n",
       "2020-10-01    253198.0\n",
       "2020-11-01    328624.0\n",
       "2020-12-01    597592.0\n",
       "2021-01-01    272982.0\n",
       "2021-02-01    231742.0\n",
       "2021-03-01    262670.0\n",
       "2021-04-01    254064.0\n",
       "2021-05-01    317472.0\n",
       "2021-06-01    251990.0\n",
       "2021-07-01    201108.0\n",
       "2021-08-01    239656.0\n",
       "2021-09-01    228918.0\n",
       "2021-10-01    237730.0\n",
       "2021-11-01    309690.0\n",
       "2021-12-01    480752.0\n",
       "Name: Value, dtype: float64"
      ]
     },
     "execution_count": 32,
     "metadata": {},
     "output_type": "execute_result"
    }
   ],
   "source": [
    "timeseries"
   ]
  },
  {
   "cell_type": "markdown",
   "id": "7a274492",
   "metadata": {},
   "source": [
    "### 时间序列分解"
   ]
  },
  {
   "cell_type": "code",
   "execution_count": 33,
   "id": "e328199f",
   "metadata": {},
   "outputs": [],
   "source": [
    "decomposition = seasonal_decompose(timeseries,extrapolate_trend=\"freq\",model=\"multilicative\")\n",
    "trend = decomposition.trend\n",
    "seasonal = decomposition.seasonal\n",
    "residual = decomposition.resid"
   ]
  },
  {
   "cell_type": "code",
   "execution_count": 9,
   "id": "7cc51179",
   "metadata": {},
   "outputs": [
    {
     "data": {
      "text/plain": [
       "yearmonth\n",
       "2018-01-01     40305.164336\n",
       "2018-02-01     41818.633741\n",
       "2018-03-01     43332.103147\n",
       "2018-04-01     44845.572552\n",
       "2018-05-01     46359.041958\n",
       "2018-06-01     47872.511364\n",
       "2018-07-01     52061.083333\n",
       "2018-08-01     52070.083333\n",
       "2018-09-01     52436.750000\n",
       "2018-10-01     53373.916667\n",
       "2018-11-01     54377.916667\n",
       "2018-12-01     55451.583333\n",
       "2019-01-01     56872.750000\n",
       "2019-02-01     58049.416667\n",
       "2019-03-01     59935.333333\n",
       "2019-04-01     62555.916667\n",
       "2019-05-01     65309.000000\n",
       "2019-06-01     70027.000000\n",
       "2019-07-01     74245.250000\n",
       "2019-08-01     75640.750000\n",
       "2019-09-01     76999.583333\n",
       "2019-10-01     80618.333333\n",
       "2019-11-01     88226.666667\n",
       "2019-12-01     97811.166667\n",
       "2020-01-01    107915.666667\n",
       "2020-02-01    120180.500000\n",
       "2020-03-01    133180.750000\n",
       "2020-04-01    147227.750000\n",
       "2020-05-01    165097.833333\n",
       "2020-06-01    192019.166667\n",
       "2020-07-01    217389.000000\n",
       "2020-08-01    233068.166667\n",
       "2020-09-01    248435.500000\n",
       "2020-10-01    262107.500000\n",
       "2020-11-01    272917.666667\n",
       "2020-12-01    281178.166667\n",
       "2021-01-01    284167.166667\n",
       "2021-02-01    284816.000000\n",
       "2021-03-01    286064.166667\n",
       "2021-04-01    286023.500000\n",
       "2021-05-01    284590.083333\n",
       "2021-06-01    278932.833333\n",
       "2021-07-01    320417.066531\n",
       "2021-08-01    328330.718920\n",
       "2021-09-01    336244.371309\n",
       "2021-10-01    344158.023699\n",
       "2021-11-01    352071.676088\n",
       "2021-12-01    359985.328477\n",
       "Name: trend, dtype: float64"
      ]
     },
     "execution_count": 9,
     "metadata": {},
     "output_type": "execute_result"
    }
   ],
   "source": [
    "trend"
   ]
  },
  {
   "cell_type": "code",
   "execution_count": 10,
   "id": "2f4ab0c2",
   "metadata": {},
   "outputs": [
    {
     "data": {
      "text/plain": [
       "yearmonth\n",
       "2018-01-01    0.945956\n",
       "2018-02-01    0.817562\n",
       "2018-03-01    0.794009\n",
       "2018-04-01    0.897873\n",
       "2018-05-01    1.233918\n",
       "2018-06-01    0.988902\n",
       "2018-07-01    0.914299\n",
       "2018-08-01    0.872394\n",
       "2018-09-01    0.783439\n",
       "2018-10-01    0.791293\n",
       "2018-11-01    1.044177\n",
       "2018-12-01    1.916179\n",
       "2019-01-01    0.945956\n",
       "2019-02-01    0.817562\n",
       "2019-03-01    0.794009\n",
       "2019-04-01    0.897873\n",
       "2019-05-01    1.233918\n",
       "2019-06-01    0.988902\n",
       "2019-07-01    0.914299\n",
       "2019-08-01    0.872394\n",
       "2019-09-01    0.783439\n",
       "2019-10-01    0.791293\n",
       "2019-11-01    1.044177\n",
       "2019-12-01    1.916179\n",
       "2020-01-01    0.945956\n",
       "2020-02-01    0.817562\n",
       "2020-03-01    0.794009\n",
       "2020-04-01    0.897873\n",
       "2020-05-01    1.233918\n",
       "2020-06-01    0.988902\n",
       "2020-07-01    0.914299\n",
       "2020-08-01    0.872394\n",
       "2020-09-01    0.783439\n",
       "2020-10-01    0.791293\n",
       "2020-11-01    1.044177\n",
       "2020-12-01    1.916179\n",
       "2021-01-01    0.945956\n",
       "2021-02-01    0.817562\n",
       "2021-03-01    0.794009\n",
       "2021-04-01    0.897873\n",
       "2021-05-01    1.233918\n",
       "2021-06-01    0.988902\n",
       "2021-07-01    0.914299\n",
       "2021-08-01    0.872394\n",
       "2021-09-01    0.783439\n",
       "2021-10-01    0.791293\n",
       "2021-11-01    1.044177\n",
       "2021-12-01    1.916179\n",
       "Name: seasonal, dtype: float64"
      ]
     },
     "execution_count": 10,
     "metadata": {},
     "output_type": "execute_result"
    }
   ],
   "source": [
    "seasonal"
   ]
  },
  {
   "cell_type": "markdown",
   "id": "c399ce71",
   "metadata": {},
   "source": [
    "### 使用一阶差分的数据进行预测建模"
   ]
  },
  {
   "cell_type": "code",
   "execution_count": 34,
   "id": "87401124",
   "metadata": {},
   "outputs": [],
   "source": [
    "trend_diff1=trend.diff(1).dropna()\n",
    "resid_diff1=residual.diff(1).dropna()"
   ]
  },
  {
   "cell_type": "code",
   "execution_count": 12,
   "id": "4c5f9320",
   "metadata": {},
   "outputs": [
    {
     "data": {
      "text/plain": [
       "yearmonth\n",
       "2018-02-01     1513.469406\n",
       "2018-03-01     1513.469406\n",
       "2018-04-01     1513.469406\n",
       "2018-05-01     1513.469406\n",
       "2018-06-01     1513.469406\n",
       "2018-07-01     4188.571970\n",
       "2018-08-01        9.000000\n",
       "2018-09-01      366.666667\n",
       "2018-10-01      937.166667\n",
       "2018-11-01     1004.000000\n",
       "2018-12-01     1073.666667\n",
       "2019-01-01     1421.166667\n",
       "2019-02-01     1176.666667\n",
       "2019-03-01     1885.916667\n",
       "2019-04-01     2620.583333\n",
       "2019-05-01     2753.083333\n",
       "2019-06-01     4718.000000\n",
       "2019-07-01     4218.250000\n",
       "2019-08-01     1395.500000\n",
       "2019-09-01     1358.833333\n",
       "2019-10-01     3618.750000\n",
       "2019-11-01     7608.333333\n",
       "2019-12-01     9584.500000\n",
       "2020-01-01    10104.500000\n",
       "2020-02-01    12264.833333\n",
       "2020-03-01    13000.250000\n",
       "2020-04-01    14047.000000\n",
       "2020-05-01    17870.083333\n",
       "2020-06-01    26921.333333\n",
       "2020-07-01    25369.833333\n",
       "2020-08-01    15679.166667\n",
       "2020-09-01    15367.333333\n",
       "2020-10-01    13672.000000\n",
       "2020-11-01    10810.166667\n",
       "2020-12-01     8260.500000\n",
       "2021-01-01     2989.000000\n",
       "2021-02-01      648.833333\n",
       "2021-03-01     1248.166667\n",
       "2021-04-01      -40.666667\n",
       "2021-05-01    -1433.416667\n",
       "2021-06-01    -5657.250000\n",
       "2021-07-01    41484.233197\n",
       "2021-08-01     7913.652389\n",
       "2021-09-01     7913.652389\n",
       "2021-10-01     7913.652389\n",
       "2021-11-01     7913.652389\n",
       "2021-12-01     7913.652389\n",
       "Name: trend, dtype: float64"
      ]
     },
     "execution_count": 12,
     "metadata": {},
     "output_type": "execute_result"
    }
   ],
   "source": [
    "trend_diff1"
   ]
  },
  {
   "cell_type": "code",
   "execution_count": 13,
   "id": "5fd88c27",
   "metadata": {},
   "outputs": [
    {
     "data": {
      "text/plain": [
       "yearmonth\n",
       "2018-02-01   -0.024486\n",
       "2018-03-01   -0.138729\n",
       "2018-04-01   -0.179161\n",
       "2018-05-01    0.174447\n",
       "2018-06-01   -0.109148\n",
       "2018-07-01    0.117742\n",
       "2018-08-01   -0.121036\n",
       "2018-09-01   -0.211764\n",
       "2018-10-01   -0.035099\n",
       "2018-11-01    0.145109\n",
       "2018-12-01    0.129397\n",
       "2019-01-01   -0.196539\n",
       "2019-02-01    0.139678\n",
       "2019-03-01   -0.066816\n",
       "2019-04-01    0.066131\n",
       "2019-05-01   -0.108860\n",
       "2019-06-01    0.086662\n",
       "2019-07-01    0.047882\n",
       "2019-08-01   -0.120516\n",
       "2019-09-01    0.180383\n",
       "2019-10-01   -0.087961\n",
       "2019-11-01   -0.046941\n",
       "2019-12-01    0.060091\n",
       "2020-01-01   -0.334217\n",
       "2020-02-01   -0.094892\n",
       "2020-03-01    0.044330\n",
       "2020-04-01    0.280169\n",
       "2020-05-01    0.019646\n",
       "2020-06-01    0.013004\n",
       "2020-07-01    0.061445\n",
       "2020-08-01    0.091339\n",
       "2020-09-01   -0.000929\n",
       "2020-10-01    0.119110\n",
       "2020-11-01   -0.067627\n",
       "2020-12-01   -0.044028\n",
       "2021-01-01   -0.093620\n",
       "2021-02-01   -0.020300\n",
       "2021-03-01    0.161215\n",
       "2021-04-01   -0.167140\n",
       "2021-05-01   -0.085232\n",
       "2021-06-01    0.009481\n",
       "2021-07-01   -0.227069\n",
       "2021-08-01    0.150213\n",
       "2021-09-01    0.032310\n",
       "2021-10-01    0.003949\n",
       "2021-11-01   -0.030542\n",
       "2021-12-01   -0.145459\n",
       "Name: resid, dtype: float64"
      ]
     },
     "execution_count": 13,
     "metadata": {},
     "output_type": "execute_result"
    }
   ],
   "source": [
    "resid_diff1"
   ]
  },
  {
   "cell_type": "markdown",
   "id": "6d6f5c04",
   "metadata": {},
   "source": [
    "### ARMA滞后数确认"
   ]
  },
  {
   "cell_type": "code",
   "execution_count": 35,
   "id": "6c64cd1c",
   "metadata": {},
   "outputs": [
    {
     "name": "stderr",
     "output_type": "stream",
     "text": [
      "c:\\program files\\python36\\lib\\site-packages\\statsmodels\\tsa\\statespace\\sarimax.py:966: UserWarning: Non-stationary starting autoregressive parameters found. Using zeros as starting parameters.\n",
      "  warn('Non-stationary starting autoregressive parameters'\n",
      "c:\\program files\\python36\\lib\\site-packages\\statsmodels\\tsa\\statespace\\sarimax.py:978: UserWarning: Non-invertible starting MA parameters found. Using zeros as starting parameters.\n",
      "  warn('Non-invertible starting MA parameters found.'\n"
     ]
    },
    {
     "name": "stdout",
     "output_type": "stream",
     "text": [
      "trend_diff1 AIC (1, 1)\n",
      "trend_diff1 BIC (1, 0)\n"
     ]
    },
    {
     "name": "stderr",
     "output_type": "stream",
     "text": [
      "c:\\program files\\python36\\lib\\site-packages\\statsmodels\\base\\model.py:606: ConvergenceWarning: Maximum Likelihood optimization failed to converge. Check mle_retvals\n",
      "  ConvergenceWarning)\n",
      "c:\\program files\\python36\\lib\\site-packages\\statsmodels\\base\\model.py:606: ConvergenceWarning: Maximum Likelihood optimization failed to converge. Check mle_retvals\n",
      "  ConvergenceWarning)\n",
      "c:\\program files\\python36\\lib\\site-packages\\statsmodels\\base\\model.py:606: ConvergenceWarning: Maximum Likelihood optimization failed to converge. Check mle_retvals\n",
      "  ConvergenceWarning)\n",
      "c:\\program files\\python36\\lib\\site-packages\\statsmodels\\base\\model.py:606: ConvergenceWarning: Maximum Likelihood optimization failed to converge. Check mle_retvals\n",
      "  ConvergenceWarning)\n",
      "c:\\program files\\python36\\lib\\site-packages\\statsmodels\\base\\model.py:606: ConvergenceWarning: Maximum Likelihood optimization failed to converge. Check mle_retvals\n",
      "  ConvergenceWarning)\n"
     ]
    },
    {
     "name": "stdout",
     "output_type": "stream",
     "text": [
      "resid_diff1 AIC (1, 1)\n",
      "resid_diff1 BIC (0, 0)\n"
     ]
    },
    {
     "name": "stderr",
     "output_type": "stream",
     "text": [
      "c:\\program files\\python36\\lib\\site-packages\\statsmodels\\base\\model.py:606: ConvergenceWarning: Maximum Likelihood optimization failed to converge. Check mle_retvals\n",
      "  ConvergenceWarning)\n"
     ]
    }
   ],
   "source": [
    "trend_diff1_evaluate=sm.tsa.arma_order_select_ic(trend_diff1, ic=[\"aic\", \"bic\"])\n",
    "print(\"trend_diff1 AIC\", trend_diff1_evaluate.aic_min_order)\n",
    "print('trend_diff1 BIC', trend_diff1_evaluate.bic_min_order)\n",
    "\n",
    "resid_diff1_evaluate=sm.tsa.arma_order_select_ic(resid_diff1, ic=[\"aic\", \"bic\"])\n",
    "print(\"resid_diff1 AIC\", resid_diff1_evaluate.aic_min_order)\n",
    "print(\"resid_diff1 BIC\", resid_diff1_evaluate.bic_min_order)"
   ]
  },
  {
   "cell_type": "markdown",
   "id": "88546c45",
   "metadata": {},
   "source": [
    "### 建立模型"
   ]
  },
  {
   "cell_type": "code",
   "execution_count": 39,
   "id": "18270d00",
   "metadata": {},
   "outputs": [
    {
     "ename": "NotImplementedError",
     "evalue": "\nstatsmodels.tsa.arima_model.ARMA and statsmodels.tsa.arima_model.ARIMA have\nbeen removed in favor of statsmodels.tsa.arima.model.ARIMA (note the .\nbetween arima and model) and statsmodels.tsa.SARIMAX.\n\nstatsmodels.tsa.arima.model.ARIMA makes use of the statespace framework and\nis both well tested and maintained. It also offers alternative specialized\nparameter estimators.\n",
     "output_type": "error",
     "traceback": [
      "\u001b[1;31m---------------------------------------------------------------------------\u001b[0m",
      "\u001b[1;31mNotImplementedError\u001b[0m                       Traceback (most recent call last)",
      "\u001b[1;32m<ipython-input-39-cf35af741bff>\u001b[0m in \u001b[0;36m<module>\u001b[1;34m\u001b[0m\n\u001b[0;32m     10\u001b[0m \u001b[0mstart_time\u001b[0m\u001b[1;33m=\u001b[0m\u001b[0mpd\u001b[0m\u001b[1;33m.\u001b[0m\u001b[0mSeries\u001b[0m\u001b[1;33m(\u001b[0m\u001b[0mtimeseries\u001b[0m\u001b[1;33m.\u001b[0m\u001b[0mindex\u001b[0m\u001b[1;33m[\u001b[0m\u001b[1;36m1\u001b[0m\u001b[1;33m]\u001b[0m\u001b[1;33m)\u001b[0m\u001b[1;33m.\u001b[0m\u001b[0mastype\u001b[0m\u001b[1;33m(\u001b[0m\u001b[1;34m\"str\"\u001b[0m\u001b[1;33m)\u001b[0m\u001b[1;33m[\u001b[0m\u001b[1;36m0\u001b[0m\u001b[1;33m]\u001b[0m\u001b[1;33m\u001b[0m\u001b[1;33m\u001b[0m\u001b[0m\n\u001b[0;32m     11\u001b[0m \u001b[1;33m\u001b[0m\u001b[0m\n\u001b[1;32m---> 12\u001b[1;33m \u001b[0mtrend_diff1_model\u001b[0m \u001b[1;33m=\u001b[0m \u001b[0mARIMA_Model\u001b[0m\u001b[1;33m(\u001b[0m\u001b[0mtrend_diff1\u001b[0m\u001b[1;33m,\u001b[0m \u001b[0mtrend_diff1_evaluate\u001b[0m\u001b[1;33m.\u001b[0m\u001b[0mbic_min_order\u001b[0m\u001b[1;33m)\u001b[0m\u001b[1;33m\u001b[0m\u001b[1;33m\u001b[0m\u001b[0m\n\u001b[0m\u001b[0;32m     13\u001b[0m \u001b[0mtrend_diff1_fit_seq\u001b[0m \u001b[1;33m=\u001b[0m \u001b[0mtrend_diff1_model\u001b[0m\u001b[1;33m.\u001b[0m\u001b[0mfittedvalues\u001b[0m\u001b[1;33m\u001b[0m\u001b[1;33m\u001b[0m\u001b[0m\n\u001b[0;32m     14\u001b[0m \u001b[1;31m#差分拟合还原\u001b[0m\u001b[1;33m\u001b[0m\u001b[1;33m\u001b[0m\u001b[1;33m\u001b[0m\u001b[0m\n",
      "\u001b[1;32m<ipython-input-39-cf35af741bff>\u001b[0m in \u001b[0;36mARIMA_Model\u001b[1;34m(timeseries, order)\u001b[0m\n\u001b[0;32m      3\u001b[0m \u001b[1;32mimport\u001b[0m \u001b[0mstatsmodels\u001b[0m\u001b[1;33m.\u001b[0m\u001b[0mapi\u001b[0m \u001b[1;32mas\u001b[0m \u001b[0msm\u001b[0m\u001b[1;33m\u001b[0m\u001b[1;33m\u001b[0m\u001b[0m\n\u001b[0;32m      4\u001b[0m \u001b[1;32mdef\u001b[0m \u001b[0mARIMA_Model\u001b[0m\u001b[1;33m(\u001b[0m\u001b[0mtimeseries\u001b[0m\u001b[1;33m,\u001b[0m \u001b[0morder\u001b[0m\u001b[1;33m)\u001b[0m\u001b[1;33m:\u001b[0m\u001b[1;33m\u001b[0m\u001b[1;33m\u001b[0m\u001b[0m\n\u001b[1;32m----> 5\u001b[1;33m     \u001b[0mmodel\u001b[0m \u001b[1;33m=\u001b[0m \u001b[0mARMA\u001b[0m\u001b[1;33m(\u001b[0m\u001b[0mtimeseries\u001b[0m\u001b[1;33m)\u001b[0m\u001b[1;33m\u001b[0m\u001b[1;33m\u001b[0m\u001b[0m\n\u001b[0m\u001b[0;32m      6\u001b[0m     \u001b[0mmodel\u001b[0m\u001b[1;33m=\u001b[0m\u001b[0mmodel\u001b[0m\u001b[1;33m.\u001b[0m\u001b[0mfit\u001b[0m\u001b[1;33m(\u001b[0m\u001b[1;33m)\u001b[0m\u001b[1;33m\u001b[0m\u001b[1;33m\u001b[0m\u001b[0m\n\u001b[0;32m      7\u001b[0m     \u001b[1;32mreturn\u001b[0m \u001b[0mmodel\u001b[0m\u001b[1;33m\u001b[0m\u001b[1;33m\u001b[0m\u001b[0m\n",
      "\u001b[1;32mc:\\program files\\python36\\lib\\site-packages\\statsmodels\\tsa\\arima_model.py\u001b[0m in \u001b[0;36m__init__\u001b[1;34m(self, *args, **kwargs)\u001b[0m\n\u001b[0;32m     27\u001b[0m \u001b[1;33m\u001b[0m\u001b[0m\n\u001b[0;32m     28\u001b[0m     \u001b[1;32mdef\u001b[0m \u001b[0m__init__\u001b[0m\u001b[1;33m(\u001b[0m\u001b[0mself\u001b[0m\u001b[1;33m,\u001b[0m \u001b[1;33m*\u001b[0m\u001b[0margs\u001b[0m\u001b[1;33m,\u001b[0m \u001b[1;33m**\u001b[0m\u001b[0mkwargs\u001b[0m\u001b[1;33m)\u001b[0m\u001b[1;33m:\u001b[0m\u001b[1;33m\u001b[0m\u001b[1;33m\u001b[0m\u001b[0m\n\u001b[1;32m---> 29\u001b[1;33m         \u001b[1;32mraise\u001b[0m \u001b[0mNotImplementedError\u001b[0m\u001b[1;33m(\u001b[0m\u001b[0mARIMA_DEPRECATION_ERROR\u001b[0m\u001b[1;33m)\u001b[0m\u001b[1;33m\u001b[0m\u001b[1;33m\u001b[0m\u001b[0m\n\u001b[0m\u001b[0;32m     30\u001b[0m \u001b[1;33m\u001b[0m\u001b[0m\n\u001b[0;32m     31\u001b[0m \u001b[1;33m\u001b[0m\u001b[0m\n",
      "\u001b[1;31mNotImplementedError\u001b[0m: \nstatsmodels.tsa.arima_model.ARMA and statsmodels.tsa.arima_model.ARIMA have\nbeen removed in favor of statsmodels.tsa.arima.model.ARIMA (note the .\nbetween arima and model) and statsmodels.tsa.SARIMAX.\n\nstatsmodels.tsa.arima.model.ARIMA makes use of the statespace framework and\nis both well tested and maintained. It also offers alternative specialized\nparameter estimators.\n"
     ]
    }
   ],
   "source": [
    "from statsmodels.tsa.arima_model import ARIMA\n",
    "from statsmodels.tsa.arima_model import ARMA\n",
    "import statsmodels.api as sm\n",
    "def ARIMA_Model(timeseries, order):\n",
    "    model = ARMA(timeseries,order=order)\n",
    "    model=model.fit()\n",
    "    return model\n",
    "\n",
    "#动态start时间\n",
    "start_time=pd.Series(timeseries.index[1]).astype(\"str\")[0]\n",
    "\n",
    "trend_diff1_model = ARIMA_Model(trend_diff1, trend_diff1_evaluate.bic_min_order)\n",
    "trend_diff1_fit_seq = trend_diff1_model.fittedvalues\n",
    "#差分拟合还原\n",
    "trend_restored = pd.Series([trend[0]], index=[trend.index[0]]) .append(trend_diff1_fit_seq).cumsum()\n",
    "trend_diff1_predict_seq = trend_diff1_model.predict(start=start_time, end=\"2022-04-01\", dynamic=False)\n",
    "#差分预测还原\n",
    "trend_predict_restored = pd.Series([trend[0]], index=[trend.index[0]]) .append(trend_diff1_predict_seq).cumsum()\n",
    "\n",
    "resid_diff1_model = ARIMA_Model(resid_diff1, resid_diff1_evaluate.bic_min_order)\n",
    "resid_diff1_fit_seq = resid_diff1_model.fittedvalues\n",
    "#差分拟合还原\n",
    "resid_restored = pd.Series([residual[0]], index=[residual.index[0]]) .append(resid_diff1_fit_seq).cumsum()\n",
    "resid_diff1_predict_seq = resid_diff1_model.predict(start=start_time ,end=\"2022-04-01\", dynamic=False)\n",
    "#差分预测还原\n",
    "resid_predict_restored = pd.Series([residual[0]], index=[residual.index[0]]) .append(resid_diff1_predict_seq).cumsum()\n",
    "\n",
    "\n",
    "#拟合训练集\n",
    "# 拟合训练集\n",
    "fit_seq = seasonal.add(trend_restored, fill_value=0)\n",
    "fit_seq = fit_seq.add(resid_restored, fill_value=0)\n",
    "\n",
    "\n",
    "\n",
    "\n",
    "\n",
    "#预测集\n",
    "seasonal_expand=pd.Series(seasonal[\"2021-01-01\":\"2021-12-01\"].to_list(),index=pd.date_range(\"2022-01-01\",periods=12,freq=\"MS\"))\n",
    "seasonal_fcst=seasonal\n",
    "seasonal_fcst.append(seasonal_expand)\n",
    "predict_seq=seasonal_fcst[\"2018-01-01\":\"2022-04-01\"].add(trend_predict_restored,fill_value=0)\n",
    "predict_seq=predict_seq.add(resid_predict_restored,fill_value=0)\n"
   ]
  },
  {
   "cell_type": "code",
   "execution_count": 17,
   "id": "a8b3bb18",
   "metadata": {},
   "outputs": [
    {
     "data": {
      "text/plain": [
       "<AxesSubplot:>"
      ]
     },
     "execution_count": 17,
     "metadata": {},
     "output_type": "execute_result"
    },
    {
     "data": {
      "image/png": "[encoded data removed]",
      "text/plain": [
       "<Figure size 864x576 with 1 Axes>"
      ]
     },
     "metadata": {
      "needs_background": "light"
     },
     "output_type": "display_data"
    }
   ],
   "source": [
    "trend_restored.plot(kind='line',figsize=(12,8))"
   ]
  },
  {
   "cell_type": "code",
   "execution_count": 18,
   "id": "dc54e7c7",
   "metadata": {},
   "outputs": [
    {
     "data": {
      "text/plain": [
       "<AxesSubplot:>"
      ]
     },
     "execution_count": 18,
     "metadata": {},
     "output_type": "execute_result"
    },
    {
     "data": {
      "image/png": "[encoded data removed]",
      "text/plain": [
       "<Figure size 864x576 with 1 Axes>"
      ]
     },
     "metadata": {
      "needs_background": "light"
     },
     "output_type": "display_data"
    }
   ],
   "source": [
    "trend_predict_restored.plot(kind='line',figsize=(12,8))"
   ]
  },
  {
   "cell_type": "code",
   "execution_count": null,
   "id": "7fcc4846",
   "metadata": {},
   "outputs": [],
   "source": []
  },
  {
   "cell_type": "markdown",
   "id": "8e28b6f9",
   "metadata": {},
   "source": [
    "### 录入cube准备工作"
   ]
  },
  {
   "cell_type": "code",
   "execution_count": 134,
   "id": "689a93f2",
   "metadata": {},
   "outputs": [],
   "source": [
    "#历史时间序列\n",
    "df_ts=pd.DataFrame(timeseries).reset_index()\n",
    "df_ts[\"SA Year\"]=df_ts[\"yearmonth\"].dt.year.astype(\"str\")\n",
    "df_ts[\"SA Month\"]=\"M\"+df_ts[\"yearmonth\"].dt.month.map(lambda x:\"{:0>2d}\".format(x)).astype(\"str\")\n",
    "df_ts[\"Scenario\"]=\"ACT\"\n",
    "df_ts[\"Version\"]=\"WIP\"\n",
    "df_ts[\"COA Company\"]=\"Unspecified Comp\"\n",
    "df_ts[\"Business Unit\"]=\"hangzhou\"\n",
    "df_ts[\"Product\"]=\"Unspecified Product\"\n",
    "df_ts[\"Currency\"]=\"No Currency\"\n",
    "df_ts[\"Region\"]=\"No Country\"\n",
    "df_ts[\"Channel\"]=\"Unspecified Channel\"\n",
    "df_ts[\"Customer\"]=\"No Customer\"\n",
    "df_ts[\"Data Source ZL Product Sales Plan\"]=\"Timeseries\"\n",
    "df_ts[\"M ZL Product Sales Plan\"]=\"Sales Units\"\n",
    "df_ts.drop('yearmonth',axis=1,inplace=True)\n",
    "columns=[\"Scenario\",\"SA Year\",\"SA Month\",\"Version\",\"COA Company\",\"Business Unit\",\"Product\",\"Currency\",\"Region\",\"Channel\",\"Customer\",\"Data Source ZL Product Sales Plan\",\"M ZL Product Sales Plan\",\"Value\"]\n",
    "df_ts=df_ts.reindex(columns=columns)"
   ]
  },
  {
   "cell_type": "code",
   "execution_count": 135,
   "id": "8dcdf866",
   "metadata": {},
   "outputs": [],
   "source": [
    "#预测时间序列\n",
    "df_ts_pred=pd.DataFrame(predict_seq).reset_index()\n",
    "df_ts_pred.rename(columns={0:\"Value\"},inplace=True)\n",
    "df_ts_pred[\"SA Year\"]=df_ts_pred[\"index\"].dt.year.astype(\"str\")\n",
    "df_ts_pred[\"SA Month\"]=\"M\"+df_ts_pred[\"index\"].dt.month.map(lambda x:\"{:0>2d}\".format(x)).astype(\"str\")\n",
    "df_ts_pred[\"Scenario\"]=\"ACT\"\n",
    "df_ts_pred[\"Version\"]=\"WIP\"\n",
    "df_ts_pred[\"COA Company\"]=\"Unspecified Comp\"\n",
    "df_ts_pred[\"Business Unit\"]=\"hangzhou\"\n",
    "df_ts_pred[\"Product\"]=\"Unspecified Product\"\n",
    "df_ts_pred[\"Currency\"]=\"No Currency\"\n",
    "df_ts_pred[\"Region\"]=\"No Country\"\n",
    "df_ts_pred[\"Channel\"]=\"Unspecified Channel\"\n",
    "df_ts_pred[\"Customer\"]=\"No Customer\"\n",
    "df_ts_pred[\"Data Source ZL Product Sales Plan\"]=\"Timeseries_predict\"\n",
    "df_ts_pred[\"M ZL Product Sales Plan\"]=\"Sales Units\"\n",
    "df_ts_pred.drop('index',axis=1,inplace=True)\n",
    "columns=[\"Scenario\",\"SA Year\",\"SA Month\",\"Version\",\"COA Company\",\"Business Unit\",\"Product\",\"Currency\",\"Region\",\"Channel\",\"Customer\",\"Data Source ZL Product Sales Plan\",\"M ZL Product Sales Plan\",\"Value\"]\n",
    "df_ts_pred=df_ts_pred.reindex(columns=columns)"
   ]
  },
  {
   "cell_type": "code",
   "execution_count": 130,
   "id": "ec920db2",
   "metadata": {},
   "outputs": [],
   "source": [
    "#历史周期性数据\n",
    "df_season=pd.DataFrame(seasonal).reset_index()\n",
    "df_season.rename(columns={'seasonal':\"Value\"},inplace=True)\n",
    "df_season[\"SA Year\"]=df_season[\"yearmonth\"].dt.year.astype(\"str\")\n",
    "df_season[\"SA Month\"]=\"M\"+df_season[\"yearmonth\"].dt.month.map(lambda x:\"{:0>2d}\".format(x)).astype(\"str\")\n",
    "df_season[\"Scenario\"]=\"ACT\"\n",
    "df_season[\"Version\"]=\"WIP\"\n",
    "df_season[\"COA Company\"]=\"Unspecified Comp\"\n",
    "df_season[\"Business Unit\"]=\"hangzhou\"\n",
    "df_season[\"Product\"]=\"Unspecified Product\"\n",
    "df_season[\"Currency\"]=\"No Currency\"\n",
    "df_season[\"Region\"]=\"No Country\"\n",
    "df_season[\"Channel\"]=\"Unspecified Channel\"\n",
    "df_season[\"Customer\"]=\"No Customer\"\n",
    "df_season[\"Data Source ZL Product Sales Plan\"]=\"Timeseries_seasonality\"\n",
    "df_season[\"M ZL Product Sales Plan\"]=\"Sales Units\"\n",
    "df_season.drop('yearmonth',axis=1,inplace=True)\n",
    "columns=[\"Scenario\",\"SA Year\",\"SA Month\",\"Version\",\"COA Company\",\"Business Unit\",\"Product\",\"Currency\",\"Region\",\"Channel\",\"Customer\",\"Data Source ZL Product Sales Plan\",\"M ZL Product Sales Plan\",\"Value\"]\n",
    "df_season=df_season.reindex(columns=columns)"
   ]
  },
  {
   "cell_type": "markdown",
   "id": "69802130",
   "metadata": {},
   "source": [
    "### 连接Tm1"
   ]
  },
  {
   "cell_type": "code",
   "execution_count": 128,
   "id": "2dc83747",
   "metadata": {},
   "outputs": [],
   "source": [
    "from TM1py.Services import TM1Service\n",
    "from TM1py.Utils import Utils\n",
    "tm1 = TM1Service(address=\"192.168.0.176\", port=30015, ssl=False, user=\"neil\", password=\"123\")"
   ]
  },
  {
   "cell_type": "markdown",
   "id": "00f73b58",
   "metadata": {},
   "source": [
    "### 录入Tm1 (Timeseries)"
   ]
  },
  {
   "cell_type": "code",
   "execution_count": null,
   "id": "79cae6a4",
   "metadata": {},
   "outputs": [],
   "source": []
  },
  {
   "cell_type": "code",
   "execution_count": 136,
   "id": "12c855c1",
   "metadata": {},
   "outputs": [],
   "source": [
    " #clear\n",
    "mdx_tgr='''\n",
    "        SELECT \n",
    "           {[SA Month].[SA Month].Members}\n",
    "           ON ROWS,\n",
    "           {[SA Year].[SA Year].Members}\n",
    "          ON COLUMNS\n",
    "        FROM [ZL Product Sales Plan] \n",
    "        WHERE \n",
    "          (\n",
    "           [Scenario].[Scenario].[ACT],\n",
    "           [Version].[Version].[WIP],\n",
    "           [COA Company].[COA Company].[Unspecified Comp],\n",
    "           [Customer].[Customer].[No Customer],\n",
    "           [Product].[Product].[Unspecified Product],\n",
    "           [Region].[Region].[No Country],\n",
    "           [Data Source ZL Product Sales Plan].[Data Source ZL Product Sales Plan].[Timeseries],\n",
    "           [Currency].[Currency].[No Currency],\n",
    "           [M ZL Product Sales Plan].[M ZL Product Sales Plan].[Sales Units],\n",
    "           [Business Unit].[Business Unit].[hangzhou],\n",
    "           [Channel].[Channel].[Unspecified Channel]\n",
    "  )\n",
    "             '''\n",
    "tm1.cells.clear_with_mdx(\"ZL Product Sales Plan\",mdx_tgr)\n",
    "#Writing to tgr Cube\n",
    "tm1.cells.write_dataframe(\n",
    "        cube_name=\"ZL Product Sales Plan\",\n",
    "        data=df_ts,\n",
    "        dimensions=[\"Scenario\",\"SA Year\",\"SA Month\",\"Version\",\"COA Company\",\"Business Unit\",\"Product\",\"Currency\"\n",
    "                    ,\"Region\",\"Channel\",\"Customer\",\"Data Source ZL Product Sales Plan\",\"M ZL Product Sales Plan\"],\n",
    "        increment=True,\n",
    "        deactivate_transaction_log=True,\n",
    "        reactivate_transaction_log=True,\n",
    "        sandbox_name=None,\n",
    "        use_ti=True,\n",
    "        skip_non_updateable=False,\n",
    "        use_changeset=False)"
   ]
  },
  {
   "cell_type": "markdown",
   "id": "a8366687",
   "metadata": {},
   "source": [
    "### 录入Tm1 (Timeseries_pred)"
   ]
  },
  {
   "cell_type": "code",
   "execution_count": 137,
   "id": "cc6d0a01",
   "metadata": {},
   "outputs": [],
   "source": [
    " #clear\n",
    "mdx_tgr='''\n",
    "        SELECT \n",
    "           {[SA Month].[SA Month].Members}\n",
    "           ON ROWS,\n",
    "           {[SA Year].[SA Year].Members}\n",
    "          ON COLUMNS\n",
    "        FROM [ZL Product Sales Plan] \n",
    "        WHERE \n",
    "          (\n",
    "           [Scenario].[Scenario].[ACT],\n",
    "           [Version].[Version].[WIP],\n",
    "           [COA Company].[COA Company].[Unspecified Comp],\n",
    "           [Customer].[Customer].[No Customer],\n",
    "           [Product].[Product].[Unspecified Product],\n",
    "           [Region].[Region].[No Country],\n",
    "           [Data Source ZL Product Sales Plan].[Data Source ZL Product Sales Plan].[Timeseries_predict],\n",
    "           [Currency].[Currency].[No Currency],\n",
    "           [M ZL Product Sales Plan].[M ZL Product Sales Plan].[Sales Units],\n",
    "           [Business Unit].[Business Unit].[hangzhou],\n",
    "           [Channel].[Channel].[Unspecified Channel]\n",
    "  )\n",
    "             '''\n",
    "tm1.cells.clear_with_mdx(\"ZL Product Sales Plan\",mdx_tgr)\n",
    "#Writing to tgr Cube\n",
    "tm1.cells.write_dataframe(\n",
    "        cube_name=\"ZL Product Sales Plan\",\n",
    "        data=df_ts_pred,\n",
    "        dimensions=[\"Scenario\",\"SA Year\",\"SA Month\",\"Version\",\"COA Company\",\"Business Unit\",\"Product\",\"Currency\"\n",
    "                    ,\"Region\",\"Channel\",\"Customer\",\"Data Source ZL Product Sales Plan\",\"M ZL Product Sales Plan\"],\n",
    "        increment=True,\n",
    "        deactivate_transaction_log=True,\n",
    "        reactivate_transaction_log=True,\n",
    "        sandbox_name=None,\n",
    "        use_ti=True,\n",
    "        skip_non_updateable=False,\n",
    "        use_changeset=False)"
   ]
  },
  {
   "cell_type": "markdown",
   "id": "ff7a1af5",
   "metadata": {},
   "source": [
    "### 录入Tm1 (seasonality)"
   ]
  },
  {
   "cell_type": "code",
   "execution_count": 132,
   "id": "1cfa07f3",
   "metadata": {},
   "outputs": [],
   "source": [
    " #clear\n",
    "mdx_tgr='''\n",
    "        SELECT \n",
    "           {[SA Month].[SA Month].Members}\n",
    "           ON ROWS,\n",
    "           {[SA Year].[SA Year].Members}\n",
    "          ON COLUMNS\n",
    "        FROM [ZL Product Sales Plan] \n",
    "        WHERE \n",
    "          (\n",
    "           [Scenario].[Scenario].[ACT],\n",
    "           [Version].[Version].[WIP],\n",
    "           [COA Company].[COA Company].[Unspecified Comp],\n",
    "           [Customer].[Customer].[No Customer],\n",
    "           [Product].[Product].[Unspecified Product],\n",
    "           [Region].[Region].[No Country],\n",
    "           [Data Source ZL Product Sales Plan].[Data Source ZL Product Sales Plan].[Timeseries_seasonality],\n",
    "           [Currency].[Currency].[No Currency],\n",
    "           [M ZL Product Sales Plan].[M ZL Product Sales Plan].[Sales Units],\n",
    "           [Business Unit].[Business Unit].[hangzhou],\n",
    "           [Channel].[Channel].[Unspecified Channel]\n",
    "  )\n",
    "             '''\n",
    "tm1.cells.clear_with_mdx(\"ZL Product Sales Plan\",mdx_tgr)\n",
    "#Writing to tgr Cube\n",
    "tm1.cells.write_dataframe(\n",
    "        cube_name=\"ZL Product Sales Plan\",\n",
    "        data=df_season,\n",
    "        dimensions=[\"Scenario\",\"SA Year\",\"SA Month\",\"Version\",\"COA Company\",\"Business Unit\",\"Product\",\"Currency\"\n",
    "                    ,\"Region\",\"Channel\",\"Customer\",\"Data Source ZL Product Sales Plan\",\"M ZL Product Sales Plan\"],\n",
    "        increment=True,\n",
    "        deactivate_transaction_log=True,\n",
    "        reactivate_transaction_log=True,\n",
    "        sandbox_name=None,\n",
    "        use_ti=True,\n",
    "        skip_non_updateable=False,\n",
    "        use_changeset=False)"
   ]
  },
  {
   "cell_type": "code",
   "execution_count": 138,
   "id": "c52cda0b",
   "metadata": {},
   "outputs": [],
   "source": []
  },
  {
   "cell_type": "code",
   "execution_count": null,
   "id": "d20df083",
   "metadata": {},
   "outputs": [],
   "source": []
  },
  {
   "cell_type": "markdown",
   "id": "3604eeaf",
   "metadata": {},
   "source": [
    "### 新版本Stats"
   ]
  },
  {
   "cell_type": "code",
   "execution_count": 142,
   "id": "9f2a5eea",
   "metadata": {},
   "outputs": [
    {
     "name": "stderr",
     "output_type": "stream",
     "text": [
      "C:\\Users\\User\\AppData\\Roaming\\Python\\Python36\\site-packages\\statsmodels\\tsa\\base\\tsa_model.py:527: ValueWarning: No frequency information was provided, so inferred frequency MS will be used.\n",
      "  % freq, ValueWarning)\n"
     ]
    }
   ],
   "source": [
    "import statsmodels.api as sm\n",
    "def ARIMA_Model(timeseries, order):\n",
    "    model = sm.tsa.arima.ARIMA(timeseries, order=(order[0],0,order[1]))\n",
    "    model=model.fit()\n",
    "    return model\n",
    "\n",
    "#动态start时间\n",
    "start_time=pd.Series(timeseries.index[1]).astype(\"str\")[0]\n",
    "\n",
    "trend_diff1_model = ARIMA_Model(trend_diff1, trend_diff1_evaluate.bic_min_order)\n",
    "trend_diff1_fit_seq = trend_diff1_model.fittedvalues\n",
    "#差分拟合还原\n",
    "trend_restored = pd.Series([trend[0]], index=[trend.index[0]]) .append(trend_diff1_fit_seq).cumsum()\n",
    "trend_diff1_predict_seq = trend_diff1_model.predict(start=start_time, end=\"2022-04-01\", dynamic=False)\n",
    "#差分预测还原\n",
    "trend_predict_restored = pd.Series([trend[0]], index=[trend.index[0]]) .append(trend_diff1_predict_seq).cumsum()\n",
    "\n",
    "resid_diff1_model = ARIMA_Model(resid_diff1, resid_diff1_evaluate.bic_min_order)\n",
    "resid_diff1_fit_seq = resid_diff1_model.fittedvalues\n",
    "#差分拟合还原\n",
    "resid_restored = pd.Series([residual[0]], index=[residual.index[0]]) .append(resid_diff1_fit_seq).cumsum()\n",
    "resid_diff1_predict_seq = resid_diff1_model.predict(start=start_time ,end=\"2022-04-01\", dynamic=False)\n",
    "#差分预测还原\n",
    "resid_predict_restored = pd.Series([residual[0]], index=[residual.index[0]]) .append(resid_diff1_predict_seq).cumsum()\n",
    "\n",
    "\n",
    "#拟合训练集\n",
    "# 拟合训练集\n",
    "fit_seq = seasonal.add(trend_restored, fill_value=0)\n",
    "fit_seq = fit_seq.add(resid_restored, fill_value=0)\n",
    "\n",
    "\n",
    "\n",
    "\n",
    "\n",
    "#预测集\n",
    "seasonal_expand=pd.Series(seasonal[\"2021-01-01\":\"2021-12-01\"].to_list(),index=pd.date_range(\"2022-01-01\",periods=12,freq=\"MS\"))\n",
    "seasonal_fcst=seasonal\n",
    "seasonal_fcst.append(seasonal_expand)\n",
    "predict_seq=seasonal_fcst[\"2018-01-01\":\"2022-04-01\"].add(trend_predict_restored,fill_value=0)\n",
    "predict_seq=predict_seq.add(resid_predict_restored,fill_value=0)\n"
   ]
  },
  {
   "cell_type": "code",
   "execution_count": 147,
   "id": "7ca4a9fa",
   "metadata": {
    "scrolled": true
   },
   "outputs": [
    {
     "data": {
      "text/plain": [
       "2018-01-01     40307.431616\n",
       "2018-02-01     47108.995550\n",
       "2018-03-01     51604.455385\n",
       "2018-04-01     56100.042636\n",
       "2018-05-01     60595.862069\n",
       "2018-06-01     65091.100441\n",
       "2018-07-01     69586.509225\n",
       "2018-08-01     75248.567554\n",
       "2018-09-01     79087.860282\n",
       "2018-10-01     83083.228869\n",
       "2018-11-01     87327.638521\n",
       "2018-12-01     91601.813423\n",
       "2019-01-01     95904.527854\n",
       "2019-02-01    100359.629464\n",
       "2019-03-01    104708.209042\n",
       "2019-04-01    109366.221188\n",
       "2019-05-01    114344.854916\n",
       "2019-06-01    119380.691061\n",
       "2019-07-01    125273.601169\n",
       "2019-08-01    130948.602138\n",
       "2019-09-01    135392.549910\n",
       "2019-10-01    139820.604093\n",
       "2019-11-01    145234.456865\n",
       "2019-12-01    152388.792935\n",
       "2020-01-01    160403.096474\n",
       "2020-02-01    168645.014740\n",
       "2020-03-01    177829.162943\n",
       "2020-04-01    187334.155041\n",
       "2020-05-01    197295.868801\n",
       "2020-06-01    208924.254742\n",
       "2020-07-01    224500.076845\n",
       "2020-08-01    239399.319818\n",
       "2020-09-01    250072.399280\n",
       "2020-10-01    260609.584495\n",
       "2020-11-01    270407.676947\n",
       "2020-12-01    278958.338060\n",
       "2021-01-01    286395.242914\n",
       "2021-02-01    291534.079347\n",
       "2021-03-01    295652.469898\n",
       "2021-04-01    300032.358167\n",
       "2021-05-01    303850.416176\n",
       "2021-06-01    307060.512445\n",
       "2021-07-01    308428.758117\n",
       "2021-08-01    330355.518689\n",
       "2021-09-01    337642.043969\n",
       "2021-10-01    344928.666058\n",
       "2021-11-01    352215.533176\n",
       "2021-12-01    359503.019413\n",
       "2022-01-01    366787.717469\n",
       "2022-02-01    373800.885078\n",
       "2022-03-01    380694.802142\n",
       "2022-04-01    387536.713837\n",
       "dtype: float64"
      ]
     },
     "execution_count": 147,
     "metadata": {},
     "output_type": "execute_result"
    }
   ],
   "source": [
    "predict_seq"
   ]
  },
  {
   "cell_type": "code",
   "execution_count": null,
   "id": "02c88709",
   "metadata": {},
   "outputs": [],
   "source": []
  },
  {
   "cell_type": "code",
   "execution_count": 38,
   "id": "e715505d",
   "metadata": {},
   "outputs": [],
   "source": []
  },
  {
   "cell_type": "code",
   "execution_count": null,
   "id": "91740891",
   "metadata": {},
   "outputs": [],
   "source": []
  }
 ],
 "metadata": {
  "kernelspec": {
   "display_name": "Python 3",
   "language": "python",
   "name": "python3"
  },
  "language_info": {
   "codemirror_mode": {
    "name": "ipython",
    "version": 3
   },
   "file_extension": ".py",
   "mimetype": "text/x-python",
   "name": "python",
   "nbconvert_exporter": "python",
   "pygments_lexer": "ipython3",
   "version": "3.7.9"
  }
 },
 "nbformat": 4,
 "nbformat_minor": 5
}
