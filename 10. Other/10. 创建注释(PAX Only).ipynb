{
 "cells": [
  {
   "cell_type": "markdown",
   "id": "99720318",
   "metadata": {},
   "source": []
  },
  {
   "cell_type": "code",
   "execution_count": 1,
   "id": "a1906c5d",
   "metadata": {},
   "outputs": [
    {
     "data": {
      "text/plain": [
       "<Response [201]>"
      ]
     },
     "execution_count": 1,
     "metadata": {},
     "output_type": "execute_result"
    }
   ],
   "source": [
    "\"\"\" \n",
    "- Create a cell annotation at a fix location in a cube.\n",
    "- Get all annotations from a cube. \n",
    "- Delete the annotation that was created\n",
    "\"\"\"\n",
    "from TM1py.Objects import Annotation\n",
    "from TM1py.Services import TM1Service\n",
    "\n",
    "# connection to TM1 Server\n",
    "tm1 = TM1Service(address=\"localhost\", port=30011, ssl=True, user=\"admin\", password=\"apple\")\n",
    "\n",
    "# just a random text\n",
    "string = 'Tm1pyTest'\n",
    "\n",
    "# create instance of TM1py.Annotation\n",
    "a = Annotation(comment_value=string,\n",
    "               object_name='Employee',\n",
    "               dimensional_context=['Actual', 'FY10', 'Jan', 'France', 'Corporate', 'Guy Gilbert',\n",
    "                                    'Base Salary'])\n",
    "\n",
    "# create annotation on TM1 Server\n",
    "tm1.cubes.annotations.create(a)"
   ]
  },
  {
   "cell_type": "code",
   "execution_count": null,
   "id": "359706fb",
   "metadata": {},
   "outputs": [],
   "source": []
  }
 ],
 "metadata": {
  "kernelspec": {
   "display_name": "Python 3",
   "language": "python",
   "name": "python3"
  },
  "language_info": {
   "codemirror_mode": {
    "name": "ipython",
    "version": 3
   },
   "file_extension": ".py",
   "mimetype": "text/x-python",
   "name": "python",
   "nbconvert_exporter": "python",
   "pygments_lexer": "ipython3",
   "version": "3.6.8"
  }
 },
 "nbformat": 4,
 "nbformat_minor": 5
}
