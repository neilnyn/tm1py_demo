{
 "cells": [
  {
   "cell_type": "markdown",
   "id": "495d1fe3",
   "metadata": {},
   "source": [
    "#### 函数:\n",
    "tm1.processes.get('pro_name')->获取process实例  \n",
    "tm1.processes.update(tm1.processes.get(''))->更新process实例  \n",
    "#### 属性：  \n",
    "tm1.processes.get('').datasource_type='None/Tm1CubeView/ASCII..'  \n",
    "tm1.processes.get('').epilog_procedure='code;'  \n",
    "#### 方法：  \n",
    "tm1.processes.get('').remove_parameter('p1')->移除参数  \n",
    "tm1.processes.get('').add_parameter('p1')->增加参数  "
   ]
  },
  {
   "cell_type": "code",
   "execution_count": 1,
   "id": "3642d9c9",
   "metadata": {},
   "outputs": [],
   "source": [
    "\"\"\" \n",
    "Get a Process from TM1. Update it. Push it back to TM1.\n",
    "\"\"\"\n",
    "from TM1py.Services import TM1Service\n",
    "\n",
    "# connection to TM1 Server\n",
    "with TM1Service(address=\"localhost\", port=30011, ssl=True, user=\"admin\", password=\"apple\") as tm1:\n",
    "    # read process\n",
    "    p = tm1.processes.get('TM1py process')\n",
    "\n",
    "    # modify process\n",
    "    p.datasource_type = 'None'\n",
    "    p.epilog_procedure = \"nRevenue = 100000;\\r\\nsCostCenter = 'UK01';\"\n",
    "    p.remove_parameter('pCompanyCode')\n",
    "    p.add_parameter('pBU', prompt='', value='UK02')\n",
    "\n",
    "    # update\n",
    "    tm1.processes.update(p)"
   ]
  },
  {
   "cell_type": "code",
   "execution_count": null,
   "id": "00799fbc",
   "metadata": {},
   "outputs": [],
   "source": []
  }
 ],
 "metadata": {
  "kernelspec": {
   "display_name": "Python 3",
   "language": "python",
   "name": "python3"
  },
  "language_info": {
   "codemirror_mode": {
    "name": "ipython",
    "version": 3
   },
   "file_extension": ".py",
   "mimetype": "text/x-python",
   "name": "python",
   "nbconvert_exporter": "python",
   "pygments_lexer": "ipython3",
   "version": "3.6.8"
  }
 },
 "nbformat": 4,
 "nbformat_minor": 5
}
