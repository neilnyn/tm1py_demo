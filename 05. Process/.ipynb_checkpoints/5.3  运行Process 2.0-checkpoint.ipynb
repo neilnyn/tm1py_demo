{
 "cells": [
  {
   "cell_type": "code",
   "execution_count": 10,
   "id": "5f4abab2",
   "metadata": {},
   "outputs": [],
   "source": [
    "import asyncio\n",
    "import nest_asyncio\n",
    "nest_asyncio.apply()\n",
    "from concurrent.futures import ThreadPoolExecutor\n",
    "from TM1py.Services import TM1Service\n",
    "from typing import List\n",
    "import time"
   ]
  },
  {
   "cell_type": "code",
   "execution_count": 78,
   "id": "0b79e9a0",
   "metadata": {},
   "outputs": [],
   "source": [
    "def read_tasks_file(filepath:str):\n",
    "    \n",
    "    with open(filepath,'r+') as t:\n",
    "        content=t.readlines()\n",
    "        tasks_list=list()\n",
    "        process_list=list()\n",
    "        for line in content:\n",
    "    \n",
    "            if line.find('\\n')>0:\n",
    "                #print(line.find('\\n'))\n",
    "                line=line.replace('\\n','')\n",
    "            line_clean=''    \n",
    "            for alph in line:\n",
    "                if alph!='\"':\n",
    "                    line_clean=line_clean+alph\n",
    "            line=line_clean        \n",
    "            para=line.split(',')\n",
    "            dic_final=list()\n",
    "            for i in range(1,len(para)):\n",
    "                dic=dict()\n",
    "                #print(para[i])\n",
    "                para[i].split('=')\n",
    "                dic['Name']=para[i].split('=')[0]\n",
    "                dic['Value']=para[i].split('=')[1]\n",
    "                dic_final.append(dic)\n",
    "            process_list.append(para[0].split('=')[1])    \n",
    "            dic_para=dict()\n",
    "            dic_para['Parameters']=dic_final\n",
    "            tasks_list.append(dic_para)\n",
    "        t.close()\n",
    "    return process_list,tasks_list   "
   ]
  },
  {
   "cell_type": "code",
   "execution_count": null,
   "id": "9458e900",
   "metadata": {},
   "outputs": [],
   "source": []
  },
  {
   "cell_type": "code",
   "execution_count": 79,
   "id": "62cca8ea",
   "metadata": {},
   "outputs": [],
   "source": []
  },
  {
   "cell_type": "code",
   "execution_count": 76,
   "id": "49d680a2",
   "metadata": {},
   "outputs": [],
   "source": []
  },
  {
   "cell_type": "code",
   "execution_count": null,
   "id": "ec4133f9",
   "metadata": {},
   "outputs": [],
   "source": []
  },
  {
   "cell_type": "code",
   "execution_count": null,
   "id": "aaddc2e5",
   "metadata": {},
   "outputs": [],
   "source": []
  },
  {
   "cell_type": "code",
   "execution_count": null,
   "id": "1d889451",
   "metadata": {},
   "outputs": [],
   "source": []
  },
  {
   "cell_type": "code",
   "execution_count": 11,
   "id": "b5b06045",
   "metadata": {},
   "outputs": [],
   "source": [
    "async def run_process_async(tm1:TM1Service,processes:List,parameters:List,Threads:int):\n",
    "    loop = asyncio.get_event_loop()\n",
    "    with ThreadPoolExecutor(Threads) as executor:\n",
    "        #futures = [loop.rudata:'pd.DataFrame',n_in_executor(executor, transfer, tm1_src, tm1_tgr,cube_src, cube_tgr,month_leaf) for month_leaf in leaves]\n",
    "        index=0\n",
    "        futures=[]\n",
    "        for parameter in parameters:  \n",
    "            f=loop.run_in_executor(executor, run_process,tm1,processes[index],parameter)\n",
    "            futures.append(f)\n",
    "            index+=1\n",
    "        for future in futures:\n",
    "            try:\n",
    "                await future\n",
    "            except:\n",
    "                print(future)\n",
    "                continue\n",
    "\n",
    "# Define Function\n",
    "def run_process(tm1:TM1Service, process:str,parameter:'Dict'):\n",
    "    tm1.processes.execute(process, parameter)"
   ]
  },
  {
   "cell_type": "code",
   "execution_count": null,
   "id": "84be47ac",
   "metadata": {},
   "outputs": [],
   "source": [
    "processes,tasks=read_tasks_file('C:\\\\TI Excecute PY\\\\RushTI_tasks.txt')\n",
    "\n",
    "with TM1Service(address=\"192.168.0.176\", port=30015, ssl=False, user=\"neil\", password=\"123\") as tm1:\n",
    "    b=time.time()\n",
    "    asyncio.run(run_process_async(tm1,processes,tasks,5))\n",
    "    \n",
    "#     run_process(tm1,'17.Cub.ZL Amazon Payments Data Report.Currency.Data.Cal','2018','M01')\n",
    "    e=time.time()\n",
    "    print('time_eclipse:',e-b)"
   ]
  }
 ],
 "metadata": {
  "kernelspec": {
   "display_name": "Python 3",
   "language": "python",
   "name": "python3"
  },
  "language_info": {
   "codemirror_mode": {
    "name": "ipython",
    "version": 3
   },
   "file_extension": ".py",
   "mimetype": "text/x-python",
   "name": "python",
   "nbconvert_exporter": "python",
   "pygments_lexer": "ipython3",
   "version": "3.6.8"
  }
 },
 "nbformat": 4,
 "nbformat_minor": 5
}
