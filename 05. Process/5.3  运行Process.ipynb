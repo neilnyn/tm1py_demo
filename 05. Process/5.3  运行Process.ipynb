{
 "cells": [
  {
   "cell_type": "code",
   "execution_count": 75,
   "id": "0bf8e585",
   "metadata": {},
   "outputs": [],
   "source": [
    "import asyncio\n",
    "import nest_asyncio\n",
    "nest_asyncio.apply()\n",
    "from concurrent.futures import ThreadPoolExecutor\n",
    "from TM1py.Services import TM1Service\n",
    "from typing import List\n",
    "import time"
   ]
  },
  {
   "cell_type": "code",
   "execution_count": 96,
   "id": "387f723c",
   "metadata": {},
   "outputs": [],
   "source": [
    "\n",
    "async def run_process_async(tm1:TM1Service,process:str,pYears:List,pMonths:List,Threads:int):\n",
    "    loop = asyncio.get_event_loop()\n",
    "    with ThreadPoolExecutor(Threads) as executor:\n",
    "        #futures = [loop.rudata:'pd.DataFrame',n_in_executor(executor, transfer, tm1_src, tm1_tgr,cube_src, cube_tgr,month_leaf) for month_leaf in leaves]\n",
    "        futures=[]\n",
    "        for year in pYears:\n",
    "            for month in pMonths:    \n",
    "                f=loop.run_in_executor(executor, run_process,tm1,process,year,month)\n",
    "                futures.append(f)             \n",
    "        for future in futures:\n",
    "            try:\n",
    "                await future\n",
    "            except:\n",
    "                print(future)\n",
    "                continue\n",
    "\n",
    "# Define Function\n",
    "def run_process(tm1:TM1Service, process:str,pYear:str,pMonth:str):\n",
    "    p = tm1.processes.get(process)\n",
    "    d=dict()\n",
    "    a=p.parameters\n",
    "    for i in range(len(a)):\n",
    "        if a[i]['Name'].find('Year')>0:\n",
    "            indx_year=i\n",
    "        if a[i]['Name'].find('Month')>0:\n",
    "            index_month=i   \n",
    "    a[index_year]['Value']=pYear\n",
    "    a[index_month]['Value']=pMonth\n",
    "    d['Parameters']=a\n",
    "    parameters = a\n",
    "\n",
    "    tm1.processes.execute(process, parameters)\n",
    "    "
   ]
  },
  {
   "cell_type": "code",
   "execution_count": 98,
   "id": "610dc611",
   "metadata": {},
   "outputs": [
    {
     "name": "stdout",
     "output_type": "stream",
     "text": [
      "<Future finished exception=TM1pyRestException('{\"error\":{\"code\":\"278\",\"message\":\"ProcessAborted\",\"details\":{\"ProcessError\":\"\\ufeffError: Prolog procedure line (135): Unable to register subset \\\\\"}TI17.Cub.ZL Amazon Payments Data Report.Currency.Data.Cal_8394_20220628092710\\\\\" in dimension \\\\\"Currency\\\\\" \\\\r\\\\n\"}}}',)>\n",
      "time_eclipse: 326.0162489414215\n"
     ]
    }
   ],
   "source": [
    "with TM1Service(address=\"192.168.0.176\", port=30015, ssl=False, user=\"neil\", password=\"123\") as tm1:\n",
    "    b=time.time()\n",
    "    pYears = ['2018']\n",
    "    #pMonths=['M01']\n",
    "    pMonths=['M01','M02','M03','M04','M05','M06','M07','M08','M09','M10','M11','M12']\n",
    "    asyncio.run(run_process_async(tm1,'17.Cub.ZL Amazon Payments Data Report.Currency.Data.Cal',pYears,pMonths,8))\n",
    "    \n",
    "#     run_process(tm1,'17.Cub.ZL Amazon Payments Data Report.Currency.Data.Cal','2018','M01')\n",
    "    e=time.time()\n",
    "    print('time_eclipse:',e-b)"
   ]
  },
  {
   "cell_type": "code",
   "execution_count": null,
   "id": "45af0de1",
   "metadata": {},
   "outputs": [],
   "source": []
  },
  {
   "cell_type": "code",
   "execution_count": null,
   "id": "8730d6e5",
   "metadata": {},
   "outputs": [],
   "source": []
  },
  {
   "cell_type": "code",
   "execution_count": null,
   "id": "a4fd0b75",
   "metadata": {},
   "outputs": [],
   "source": []
  },
  {
   "cell_type": "code",
   "execution_count": 201,
   "id": "443bd5f9",
   "metadata": {},
   "outputs": [
    {
     "name": "stdout",
     "output_type": "stream",
     "text": [
      "pScenario=ACT\n",
      "pVersion=WIP\n",
      "pYear=2018\n",
      "pMonth=M01\n",
      "pScenario=ACT\n",
      "pVersion=WIP\n",
      "pYear=2018\n",
      "pMonth=M02\n"
     ]
    }
   ],
   "source": [
    "with open('C:\\\\TI Excecute PY\\\\RushTI_tasks.txt','r+') as t:\n",
    "    content=t.readlines()\n",
    "    tasks_list=list()\n",
    "    process_list=list()\n",
    "    for line in content:\n",
    "        if line.find('\\n')>0:\n",
    "            line=line.replace('\\n','')\n",
    "        para=line.split(',')\n",
    "        dic_final=list()\n",
    "        for i in range(1,len(para)):\n",
    "            dic=dict()\n",
    "            print(para[i])\n",
    "            para[i].split('=')\n",
    "            dic['Name']=para[i].split('=')[0]\n",
    "            dic['Value']=para[i].split('=')[1]\n",
    "            dic_final.append(dic)\n",
    "        process_list.append(para[0].split('=')[1])    \n",
    "        dic_para=dict()\n",
    "        dic_para['Parameters']=dic_final\n",
    "        tasks_list.append(dic_para)\n",
    "    t.close()"
   ]
  },
  {
   "cell_type": "code",
   "execution_count": 168,
   "id": "4c8171fd",
   "metadata": {},
   "outputs": [
    {
     "data": {
      "text/plain": [
       "[{'Name': 'pScenario', 'Value': 'ACT'},\n",
       " {'Name': 'pVersion', 'Value': 'WIP'},\n",
       " {'Name': 'pYear', 'Value': '2018'},\n",
       " {'Name': 'pMonth', 'Value': 'M02'}]"
      ]
     },
     "execution_count": 168,
     "metadata": {},
     "output_type": "execute_result"
    }
   ],
   "source": [
    "dic_final"
   ]
  },
  {
   "cell_type": "code",
   "execution_count": 170,
   "id": "03f3bf6f",
   "metadata": {},
   "outputs": [
    {
     "data": {
      "text/plain": [
       "{'Parameters': [{'Name': 'pScenario', 'Value': 'ACT'},\n",
       "  {'Name': 'pVersion', 'Value': 'WIP'},\n",
       "  {'Name': 'pYear', 'Value': '2018'},\n",
       "  {'Name': 'pMonth', 'Value': 'M02'}]}"
      ]
     },
     "execution_count": 170,
     "metadata": {},
     "output_type": "execute_result"
    }
   ],
   "source": [
    "dic_para"
   ]
  },
  {
   "cell_type": "code",
   "execution_count": 202,
   "id": "3755d46a",
   "metadata": {},
   "outputs": [
    {
     "data": {
      "text/plain": [
       "[{'Parameters': [{'Name': 'pScenario', 'Value': 'ACT'},\n",
       "   {'Name': 'pVersion', 'Value': 'WIP'},\n",
       "   {'Name': 'pYear', 'Value': '2018'},\n",
       "   {'Name': 'pMonth', 'Value': 'M01'}]},\n",
       " {'Parameters': [{'Name': 'pScenario', 'Value': 'ACT'},\n",
       "   {'Name': 'pVersion', 'Value': 'WIP'},\n",
       "   {'Name': 'pYear', 'Value': '2018'},\n",
       "   {'Name': 'pMonth', 'Value': 'M02'}]}]"
      ]
     },
     "execution_count": 202,
     "metadata": {},
     "output_type": "execute_result"
    }
   ],
   "source": [
    "tasks_list"
   ]
  },
  {
   "cell_type": "code",
   "execution_count": 203,
   "id": "eeb09743",
   "metadata": {},
   "outputs": [
    {
     "data": {
      "text/plain": [
       "['17.Cub.ZL Amazon Payments Data Report.Currency.Data.Cal',\n",
       " '17.Cub.ZL Amazon Payments Data Report.Currency.Data.Cal']"
      ]
     },
     "execution_count": 203,
     "metadata": {},
     "output_type": "execute_result"
    }
   ],
   "source": [
    "process_list"
   ]
  },
  {
   "cell_type": "code",
   "execution_count": 197,
   "id": "ae1842e1",
   "metadata": {},
   "outputs": [
    {
     "data": {
      "text/plain": [
       "{'Parameters': [{'Name': 'pScenario', 'Value': 'ACT'},\n",
       "  {'Name': 'pVersion', 'Value': 'WIP'},\n",
       "  {'Name': 'pYear', 'Value': '2018'},\n",
       "  {'Name': 'pMonth', 'Value': 'M01'}]}"
      ]
     },
     "execution_count": 197,
     "metadata": {},
     "output_type": "execute_result"
    }
   ],
   "source": [
    "tasks_list[0]"
   ]
  },
  {
   "cell_type": "code",
   "execution_count": null,
   "id": "e769722a",
   "metadata": {},
   "outputs": [],
   "source": []
  },
  {
   "cell_type": "code",
   "execution_count": null,
   "id": "9c5cf45f",
   "metadata": {},
   "outputs": [],
   "source": []
  },
  {
   "cell_type": "code",
   "execution_count": null,
   "id": "1ec9a832",
   "metadata": {},
   "outputs": [],
   "source": []
  },
  {
   "cell_type": "code",
   "execution_count": null,
   "id": "fc421484",
   "metadata": {},
   "outputs": [],
   "source": []
  },
  {
   "cell_type": "code",
   "execution_count": null,
   "id": "4ecefe49",
   "metadata": {},
   "outputs": [],
   "source": []
  },
  {
   "cell_type": "code",
   "execution_count": null,
   "id": "f70bd64b",
   "metadata": {},
   "outputs": [],
   "source": []
  },
  {
   "cell_type": "code",
   "execution_count": null,
   "id": "67e998d4",
   "metadata": {},
   "outputs": [],
   "source": []
  },
  {
   "cell_type": "code",
   "execution_count": null,
   "id": "a5a4d3a8",
   "metadata": {},
   "outputs": [],
   "source": []
  }
 ],
 "metadata": {
  "kernelspec": {
   "display_name": "Python 3",
   "language": "python",
   "name": "python3"
  },
  "language_info": {
   "codemirror_mode": {
    "name": "ipython",
    "version": 3
   },
   "file_extension": ".py",
   "mimetype": "text/x-python",
   "name": "python",
   "nbconvert_exporter": "python",
   "pygments_lexer": "ipython3",
   "version": "3.7.9"
  }
 },
 "nbformat": 4,
 "nbformat_minor": 5
}
