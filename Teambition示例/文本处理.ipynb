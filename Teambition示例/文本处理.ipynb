{
 "cells": [
  {
   "cell_type": "code",
   "execution_count": 1,
   "id": "74af7e14",
   "metadata": {},
   "outputs": [],
   "source": [
    "import pandas as pd"
   ]
  },
  {
   "cell_type": "code",
   "execution_count": 2,
   "id": "a6d3017d",
   "metadata": {},
   "outputs": [
    {
     "data": {
      "text/html": [
       "<div>\n",
       "<style scoped>\n",
       "    .dataframe tbody tr th:only-of-type {\n",
       "        vertical-align: middle;\n",
       "    }\n",
       "\n",
       "    .dataframe tbody tr th {\n",
       "        vertical-align: top;\n",
       "    }\n",
       "\n",
       "    .dataframe thead th {\n",
       "        text-align: right;\n",
       "    }\n",
       "</style>\n",
       "<table border=\"1\" class=\"dataframe\">\n",
       "  <thead>\n",
       "    <tr style=\"text-align: right;\">\n",
       "      <th></th>\n",
       "      <th>Unnamed: 0</th>\n",
       "      <th>出发地</th>\n",
       "      <th>目的地</th>\n",
       "      <th>价格</th>\n",
       "      <th>节省</th>\n",
       "      <th>路线名</th>\n",
       "      <th>酒店</th>\n",
       "      <th>房间</th>\n",
       "      <th>去程航司</th>\n",
       "      <th>去程方式</th>\n",
       "      <th>去程时间</th>\n",
       "      <th>回程航司</th>\n",
       "      <th>回程方式</th>\n",
       "      <th>回程时间</th>\n",
       "    </tr>\n",
       "  </thead>\n",
       "  <tbody>\n",
       "    <tr>\n",
       "      <th>0</th>\n",
       "      <td>0</td>\n",
       "      <td>哈尔滨</td>\n",
       "      <td>北海</td>\n",
       "      <td>2208.0</td>\n",
       "      <td>650.0</td>\n",
       "      <td>哈尔滨-北海3天2晚 | 入住北海祥丰嘉年华大酒店 + 春秋航空往返机票</td>\n",
       "      <td>北海祥丰嘉年华大酒店 舒适型 4.7分/5分</td>\n",
       "      <td>标准双人间(双床) 双床 不含早 1间2晚</td>\n",
       "      <td>春秋航空 9C8741</td>\n",
       "      <td>直飞</td>\n",
       "      <td>17:10-21:50</td>\n",
       "      <td>春秋航空 9C8742</td>\n",
       "      <td>直飞</td>\n",
       "      <td>10:20-15:05</td>\n",
       "    </tr>\n",
       "    <tr>\n",
       "      <th>1</th>\n",
       "      <td>1</td>\n",
       "      <td>成都</td>\n",
       "      <td>泸沽湖</td>\n",
       "      <td>1145.0</td>\n",
       "      <td>376.0</td>\n",
       "      <td>成都-泸沽湖3天2晚 | 入住7天酒店丽江古城中心店 + 成都航空往返机票</td>\n",
       "      <td>7天酒店丽江古城中心店 经济型 4.0分/5分</td>\n",
       "      <td>经济房-不含早-限时特... 其他 不含早 1间2晚</td>\n",
       "      <td>成都航空 EU2237</td>\n",
       "      <td>直飞</td>\n",
       "      <td>19:45-21:20</td>\n",
       "      <td>成都航空 EU2738</td>\n",
       "      <td>直飞</td>\n",
       "      <td>23:30-01:05</td>\n",
       "    </tr>\n",
       "    <tr>\n",
       "      <th>2</th>\n",
       "      <td>2</td>\n",
       "      <td>广州</td>\n",
       "      <td>沈阳</td>\n",
       "      <td>2702.0</td>\n",
       "      <td>618.0</td>\n",
       "      <td>广州-沈阳3天2晚 | 入住沈阳中煤宾馆 + 南方航空/深圳航空往返机票</td>\n",
       "      <td>沈阳中煤宾馆 舒适型 4.5分/5分</td>\n",
       "      <td>大床间(内宾) 大床 双早 1间2晚</td>\n",
       "      <td>南方航空 CZ6384</td>\n",
       "      <td>直飞</td>\n",
       "      <td>08:05-11:45</td>\n",
       "      <td>深圳航空 ZH9652</td>\n",
       "      <td>经停</td>\n",
       "      <td>08:20-13:05</td>\n",
       "    </tr>\n",
       "    <tr>\n",
       "      <th>3</th>\n",
       "      <td>3</td>\n",
       "      <td>上海</td>\n",
       "      <td>九寨沟</td>\n",
       "      <td>1954.0</td>\n",
       "      <td>484.0</td>\n",
       "      <td>上海-九寨沟3天2晚 | 入住红原芸谊大酒店 + 成都航空往返机票</td>\n",
       "      <td>红原芸谊大酒店 舒适型 4.6分/5分</td>\n",
       "      <td>豪华双床房[双早] 双床 双早 1间2晚</td>\n",
       "      <td>成都航空 EU6678</td>\n",
       "      <td>直飞</td>\n",
       "      <td>21:55-01:15</td>\n",
       "      <td>成都航空 EU6677</td>\n",
       "      <td>直飞</td>\n",
       "      <td>17:45-20:35</td>\n",
       "    </tr>\n",
       "    <tr>\n",
       "      <th>4</th>\n",
       "      <td>4</td>\n",
       "      <td>广州</td>\n",
       "      <td>天津</td>\n",
       "      <td>1608.0</td>\n",
       "      <td>422.0</td>\n",
       "      <td>广州-天津3天2晚 | 入住天津逸海明珠大酒店 + 奥凯航空/海南航空往返机票</td>\n",
       "      <td>天津逸海明珠大酒店 高档型 4.1分/5分</td>\n",
       "      <td>豪华双床房(预付) 双床 不含早 1间2晚</td>\n",
       "      <td>奥凯航空 BK2787</td>\n",
       "      <td>直飞</td>\n",
       "      <td>06:55-10:00</td>\n",
       "      <td>海南航空 HU7201</td>\n",
       "      <td>直飞</td>\n",
       "      <td>20:15-23:25</td>\n",
       "    </tr>\n",
       "  </tbody>\n",
       "</table>\n",
       "</div>"
      ],
      "text/plain": [
       "   Unnamed: 0 出发地   目的地     价格      节省  \\\n",
       "0           0  哈尔滨   北海  2208.0  650.0   \n",
       "1           1   成都  泸沽湖  1145.0  376.0   \n",
       "2           2   广州   沈阳  2702.0  618.0   \n",
       "3           3   上海  九寨沟  1954.0  484.0   \n",
       "4           4   广州   天津  1608.0  422.0   \n",
       "\n",
       "                                       路线名                       酒店  \\\n",
       "0     哈尔滨-北海3天2晚 | 入住北海祥丰嘉年华大酒店 + 春秋航空往返机票   北海祥丰嘉年华大酒店 舒适型 4.7分/5分   \n",
       "1    成都-泸沽湖3天2晚 | 入住7天酒店丽江古城中心店 + 成都航空往返机票  7天酒店丽江古城中心店 经济型 4.0分/5分   \n",
       "2     广州-沈阳3天2晚 | 入住沈阳中煤宾馆 + 南方航空/深圳航空往返机票       沈阳中煤宾馆 舒适型 4.5分/5分   \n",
       "3        上海-九寨沟3天2晚 | 入住红原芸谊大酒店 + 成都航空往返机票      红原芸谊大酒店 舒适型 4.6分/5分   \n",
       "4  广州-天津3天2晚 | 入住天津逸海明珠大酒店 + 奥凯航空/海南航空往返机票    天津逸海明珠大酒店 高档型 4.1分/5分   \n",
       "\n",
       "                           房间         去程航司 去程方式         去程时间         回程航司  \\\n",
       "0       标准双人间(双床) 双床 不含早 1间2晚  春秋航空 9C8741   直飞  17:10-21:50  春秋航空 9C8742   \n",
       "1  经济房-不含早-限时特... 其他 不含早 1间2晚  成都航空 EU2237   直飞  19:45-21:20  成都航空 EU2738   \n",
       "2          大床间(内宾) 大床 双早 1间2晚  南方航空 CZ6384   直飞  08:05-11:45  深圳航空 ZH9652   \n",
       "3        豪华双床房[双早] 双床 双早 1间2晚  成都航空 EU6678   直飞  21:55-01:15  成都航空 EU6677   \n",
       "4       豪华双床房(预付) 双床 不含早 1间2晚  奥凯航空 BK2787   直飞  06:55-10:00  海南航空 HU7201   \n",
       "\n",
       "  回程方式          回程时间  \n",
       "0    直飞  10:20-15:05  \n",
       "1    直飞  23:30-01:05  \n",
       "2    经停  08:20-13:05  \n",
       "3    直飞  17:45-20:35  \n",
       "4    直飞  20:15-23:25  "
      ]
     },
     "execution_count": 2,
     "metadata": {},
     "output_type": "execute_result"
    }
   ],
   "source": [
    "ly=pd.read_csv(r'C:/数据练习/5数据的科学运算/data2.csv')\n",
    "ly.head()"
   ]
  },
  {
   "cell_type": "code",
   "execution_count": 3,
   "id": "808f03ff",
   "metadata": {},
   "outputs": [
    {
     "data": {
      "text/plain": [
       "0              [哈尔滨, 北海3天2晚 | 入住北海祥丰嘉年华大酒店 + 春秋航空往返机票]\n",
       "1             [成都, 泸沽湖3天2晚 | 入住7天酒店丽江古城中心店 + 成都航空往返机票]\n",
       "2              [广州, 沈阳3天2晚 | 入住沈阳中煤宾馆 + 南方航空/深圳航空往返机票]\n",
       "3                 [上海, 九寨沟3天2晚 | 入住红原芸谊大酒店 + 成都航空往返机票]\n",
       "4           [广州, 天津3天2晚 | 入住天津逸海明珠大酒店 + 奥凯航空/海南航空往返机票]\n",
       "                             ...                      \n",
       "5095    [宁波, 九寨沟3天2晚 | 入住黑水县达古冰山国际大酒店 + 成都航空/四川航空往...]\n",
       "5096              [成都, 泸沽湖3天2晚 | 入住丽江望月阁客栈 + 成都航空往返机票]\n",
       "5097    [天津, 丽江3天2晚 | 入住丽江凡间度假连锁客栈青旅店 + 天津航空/首都航空往...]\n",
       "5098        [大连, 重庆3天2晚 | 入住重庆酉阳锦宏大酒店 + 华夏航空/山东航空往返机票]\n",
       "5099      [天津, 哈尔滨3天2晚 | 入住哈尔滨钰轩酒店中央大街店 + 奥凯航空/福州往返机票]\n",
       "Name: 路线名, Length: 5100, dtype: object"
      ]
     },
     "execution_count": 3,
     "metadata": {},
     "output_type": "execute_result"
    }
   ],
   "source": [
    "ly['路线名'].str.split('-')"
   ]
  },
  {
   "cell_type": "code",
   "execution_count": 5,
   "id": "b7b6a3b4",
   "metadata": {},
   "outputs": [
    {
     "data": {
      "text/plain": [
       "0              哈尔滨-北海3天2晚 | 入住北海祥丰嘉年华大酒店 + 春秋航空往返机票\n",
       "1             成都-泸沽湖3天2晚 | 入住7天酒店丽江古城中心店 + 成都航空往返机票\n",
       "2              广州-沈阳3天2晚 | 入住沈阳中煤宾馆 + 南方航空/深圳航空往返机票\n",
       "3                 上海-九寨沟3天2晚 | 入住红原芸谊大酒店 + 成都航空往返机票\n",
       "4           广州-天津3天2晚 | 入住天津逸海明珠大酒店 + 奥凯航空/海南航空往返机票\n",
       "                           ...                     \n",
       "5095    宁波-九寨沟3天2晚 | 入住黑水县达古冰山国际大酒店 + 成都航空/四川航空往...\n",
       "5096              成都-泸沽湖3天2晚 | 入住丽江望月阁客栈 + 成都航空往返机票\n",
       "5097    天津-丽江3天2晚 | 入住丽江凡间度假连锁客栈青旅店 + 天津航空/首都航空往...\n",
       "5098        大连-重庆3天2晚 | 入住重庆酉阳锦宏大酒店 + 华夏航空/山东航空往返机票\n",
       "5099      天津-哈尔滨3天2晚 | 入住哈尔滨钰轩酒店中央大街店 + 奥凯航空/福州往返机票\n",
       "Name: 路线名, Length: 5100, dtype: object"
      ]
     },
     "execution_count": 5,
     "metadata": {},
     "output_type": "execute_result"
    }
   ],
   "source": [
    "ly['路线名']"
   ]
  },
  {
   "cell_type": "code",
   "execution_count": 6,
   "id": "46d93974",
   "metadata": {},
   "outputs": [
    {
     "data": {
      "text/plain": [
       "0       滨\n",
       "1       -\n",
       "2       -\n",
       "3       -\n",
       "4       -\n",
       "       ..\n",
       "5095    -\n",
       "5096    -\n",
       "5097    -\n",
       "5098    -\n",
       "5099    -\n",
       "Name: 路线名, Length: 5100, dtype: object"
      ]
     },
     "execution_count": 6,
     "metadata": {},
     "output_type": "execute_result"
    }
   ],
   "source": [
    "ly['路线名'].str.slice(2,3)"
   ]
  },
  {
   "cell_type": "code",
   "execution_count": 9,
   "id": "dc9da9e3",
   "metadata": {},
   "outputs": [
    {
     "data": {
      "text/plain": [
       "0              哈尔滨-北海3天2晚 | 入住北海祥丰嘉年华大酒店 + 春秋航空往返机票\n",
       "1             成都-泸沽湖3天2晚 | 入住7天酒店丽江古城中心店 + 成都航空往返机票\n",
       "2              广州-沈阳3天2晚 | 入住沈阳中煤宾馆 + 南方航空/深圳航空往返机票\n",
       "3                 上海-九寨沟3天2晚 | 入住红原芸谊大酒店 + 成都航空往返机票\n",
       "4           广州-天津3天2晚 | 入住天津逸海明珠大酒店 + 奥凯航空/海南航空往返机票\n",
       "                           ...                     \n",
       "5095    宁波-九寨沟3天2晚 | 入住黑水县达古冰山国际大酒店 + 成都航空/四川航空往...\n",
       "5096              成都-泸沽湖3天2晚 | 入住丽江望月阁客栈 + 成都航空往返机票\n",
       "5097    天津-丽江3天2晚 | 入住丽江凡间度假连锁客栈青旅店 + 天津航空/首都航空往...\n",
       "5098        大连-重庆3天2晚 | 入住重庆酉阳锦宏大酒店 + 华夏航空/山东航空往返机票\n",
       "5099      天津-哈尔滨3天2晚 | 入住哈尔滨钰轩酒店中央大街店 + 奥凯航空/福州往返机票\n",
       "Name: 路线名, Length: 5100, dtype: object"
      ]
     },
     "execution_count": 9,
     "metadata": {},
     "output_type": "execute_result"
    }
   ],
   "source": [
    "ly['路线名']"
   ]
  },
  {
   "cell_type": "code",
   "execution_count": 8,
   "id": "cc1cd625",
   "metadata": {},
   "outputs": [
    {
     "data": {
      "text/plain": [
       "0       0\n",
       "1      -1\n",
       "2      -1\n",
       "3      -1\n",
       "4      -1\n",
       "       ..\n",
       "5095   -1\n",
       "5096   -1\n",
       "5097   -1\n",
       "5098   -1\n",
       "5099    3\n",
       "Name: 路线名, Length: 5100, dtype: int64"
      ]
     },
     "execution_count": 8,
     "metadata": {},
     "output_type": "execute_result"
    }
   ],
   "source": [
    "ly['路线名'].str.find('哈')"
   ]
  },
  {
   "cell_type": "code",
   "execution_count": 11,
   "id": "2b680d40",
   "metadata": {},
   "outputs": [
    {
     "data": {
      "text/plain": [
       "0          北海祥丰嘉年华大酒店 舒适型 4.7分/5分\n",
       "1         7天酒店丽江古城中心店 经济型 4.0分/5分\n",
       "2              沈阳中煤宾馆 舒适型 4.5分/5分\n",
       "3             红原芸谊大酒店 舒适型 4.6分/5分\n",
       "4           天津逸海明珠大酒店 高档型 4.1分/5分\n",
       "                  ...            \n",
       "5095     黑水县达古冰山国际大酒店 豪华型 3.9分/5分\n",
       "5096          丽江望月阁客栈 经济型 4.6分/5分\n",
       "5097    丽江凡间度假连锁客栈青旅店 经济型 4.5分/5分\n",
       "5098        重庆酉阳锦宏大酒店 舒适型 4.0分/5分\n",
       "5099     哈尔滨钰轩酒店中央大街店 舒适型 4.0分/5分\n",
       "Name: 酒店, Length: 5100, dtype: object"
      ]
     },
     "execution_count": 11,
     "metadata": {},
     "output_type": "execute_result"
    }
   ],
   "source": [
    "ly['酒店']"
   ]
  },
  {
   "cell_type": "code",
   "execution_count": 14,
   "id": "da093c16",
   "metadata": {},
   "outputs": [
    {
     "data": {
      "text/html": [
       "<div>\n",
       "<style scoped>\n",
       "    .dataframe tbody tr th:only-of-type {\n",
       "        vertical-align: middle;\n",
       "    }\n",
       "\n",
       "    .dataframe tbody tr th {\n",
       "        vertical-align: top;\n",
       "    }\n",
       "\n",
       "    .dataframe thead th {\n",
       "        text-align: right;\n",
       "    }\n",
       "</style>\n",
       "<table border=\"1\" class=\"dataframe\">\n",
       "  <thead>\n",
       "    <tr style=\"text-align: right;\">\n",
       "      <th></th>\n",
       "      <th>0</th>\n",
       "    </tr>\n",
       "  </thead>\n",
       "  <tbody>\n",
       "    <tr>\n",
       "      <th>0</th>\n",
       "      <td>4.7分</td>\n",
       "    </tr>\n",
       "    <tr>\n",
       "      <th>1</th>\n",
       "      <td>4.0分</td>\n",
       "    </tr>\n",
       "    <tr>\n",
       "      <th>2</th>\n",
       "      <td>4.5分</td>\n",
       "    </tr>\n",
       "    <tr>\n",
       "      <th>3</th>\n",
       "      <td>4.6分</td>\n",
       "    </tr>\n",
       "    <tr>\n",
       "      <th>4</th>\n",
       "      <td>4.1分</td>\n",
       "    </tr>\n",
       "    <tr>\n",
       "      <th>...</th>\n",
       "      <td>...</td>\n",
       "    </tr>\n",
       "    <tr>\n",
       "      <th>5095</th>\n",
       "      <td>3.9分</td>\n",
       "    </tr>\n",
       "    <tr>\n",
       "      <th>5096</th>\n",
       "      <td>4.6分</td>\n",
       "    </tr>\n",
       "    <tr>\n",
       "      <th>5097</th>\n",
       "      <td>4.5分</td>\n",
       "    </tr>\n",
       "    <tr>\n",
       "      <th>5098</th>\n",
       "      <td>4.0分</td>\n",
       "    </tr>\n",
       "    <tr>\n",
       "      <th>5099</th>\n",
       "      <td>4.0分</td>\n",
       "    </tr>\n",
       "  </tbody>\n",
       "</table>\n",
       "<p>5100 rows × 1 columns</p>\n",
       "</div>"
      ],
      "text/plain": [
       "         0\n",
       "0     4.7分\n",
       "1     4.0分\n",
       "2     4.5分\n",
       "3     4.6分\n",
       "4     4.1分\n",
       "...    ...\n",
       "5095  3.9分\n",
       "5096  4.6分\n",
       "5097  4.5分\n",
       "5098  4.0分\n",
       "5099  4.0分\n",
       "\n",
       "[5100 rows x 1 columns]"
      ]
     },
     "execution_count": 14,
     "metadata": {},
     "output_type": "execute_result"
    }
   ],
   "source": [
    "ly['酒店'].str.extract('(\\d\\.\\d分)')"
   ]
  },
  {
   "cell_type": "code",
   "execution_count": 16,
   "id": "a3af1b81",
   "metadata": {},
   "outputs": [
    {
     "data": {
      "text/html": [
       "<div>\n",
       "<style scoped>\n",
       "    .dataframe tbody tr th:only-of-type {\n",
       "        vertical-align: middle;\n",
       "    }\n",
       "\n",
       "    .dataframe tbody tr th {\n",
       "        vertical-align: top;\n",
       "    }\n",
       "\n",
       "    .dataframe thead th {\n",
       "        text-align: right;\n",
       "    }\n",
       "</style>\n",
       "<table border=\"1\" class=\"dataframe\">\n",
       "  <thead>\n",
       "    <tr style=\"text-align: right;\">\n",
       "      <th></th>\n",
       "      <th>0</th>\n",
       "    </tr>\n",
       "  </thead>\n",
       "  <tbody>\n",
       "    <tr>\n",
       "      <th>0</th>\n",
       "      <td>舒适型</td>\n",
       "    </tr>\n",
       "    <tr>\n",
       "      <th>1</th>\n",
       "      <td>经济型</td>\n",
       "    </tr>\n",
       "    <tr>\n",
       "      <th>2</th>\n",
       "      <td>舒适型</td>\n",
       "    </tr>\n",
       "    <tr>\n",
       "      <th>3</th>\n",
       "      <td>舒适型</td>\n",
       "    </tr>\n",
       "    <tr>\n",
       "      <th>4</th>\n",
       "      <td>高档型</td>\n",
       "    </tr>\n",
       "    <tr>\n",
       "      <th>...</th>\n",
       "      <td>...</td>\n",
       "    </tr>\n",
       "    <tr>\n",
       "      <th>5095</th>\n",
       "      <td>豪华型</td>\n",
       "    </tr>\n",
       "    <tr>\n",
       "      <th>5096</th>\n",
       "      <td>经济型</td>\n",
       "    </tr>\n",
       "    <tr>\n",
       "      <th>5097</th>\n",
       "      <td>经济型</td>\n",
       "    </tr>\n",
       "    <tr>\n",
       "      <th>5098</th>\n",
       "      <td>舒适型</td>\n",
       "    </tr>\n",
       "    <tr>\n",
       "      <th>5099</th>\n",
       "      <td>舒适型</td>\n",
       "    </tr>\n",
       "  </tbody>\n",
       "</table>\n",
       "<p>5100 rows × 1 columns</p>\n",
       "</div>"
      ],
      "text/plain": [
       "          0\n",
       "0      舒适型 \n",
       "1      经济型 \n",
       "2      舒适型 \n",
       "3      舒适型 \n",
       "4      高档型 \n",
       "...     ...\n",
       "5095   豪华型 \n",
       "5096   经济型 \n",
       "5097   经济型 \n",
       "5098   舒适型 \n",
       "5099   舒适型 \n",
       "\n",
       "[5100 rows x 1 columns]"
      ]
     },
     "execution_count": 16,
     "metadata": {},
     "output_type": "execute_result"
    }
   ],
   "source": [
    "ly['酒店'].str.extract('( .+ )')"
   ]
  },
  {
   "cell_type": "code",
   "execution_count": null,
   "id": "d9c94364",
   "metadata": {},
   "outputs": [],
   "source": []
  }
 ],
 "metadata": {
  "kernelspec": {
   "display_name": "Python 3",
   "language": "python",
   "name": "python3"
  },
  "language_info": {
   "codemirror_mode": {
    "name": "ipython",
    "version": 3
   },
   "file_extension": ".py",
   "mimetype": "text/x-python",
   "name": "python",
   "nbconvert_exporter": "python",
   "pygments_lexer": "ipython3",
   "version": "3.6.8"
  }
 },
 "nbformat": 4,
 "nbformat_minor": 5
}
